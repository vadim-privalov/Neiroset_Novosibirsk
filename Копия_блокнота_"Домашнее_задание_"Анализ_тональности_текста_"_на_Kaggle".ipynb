{
  "nbformat": 4,
  "nbformat_minor": 0,
  "metadata": {
    "colab": {
      "name": "Копия блокнота \"Домашнее задание \"Анализ тональности текста.\" - на Kaggle\"",
      "provenance": [],
      "collapsed_sections": [],
      "include_colab_link": true
    },
    "kernelspec": {
      "name": "python3",
      "display_name": "Python 3"
    },
    "language_info": {
      "name": "python"
    }
  },
  "cells": [
    {
      "cell_type": "markdown",
      "metadata": {
        "id": "view-in-github",
        "colab_type": "text"
      },
      "source": [
        "<a href=\"https://colab.research.google.com/github/vadim-privalov/Neiroset_Novosibirsk/blob/main/%D0%9A%D0%BE%D0%BF%D0%B8%D1%8F_%D0%B1%D0%BB%D0%BE%D0%BA%D0%BD%D0%BE%D1%82%D0%B0_%22%D0%94%D0%BE%D0%BC%D0%B0%D1%88%D0%BD%D0%B5%D0%B5_%D0%B7%D0%B0%D0%B4%D0%B0%D0%BD%D0%B8%D0%B5_%22%D0%90%D0%BD%D0%B0%D0%BB%D0%B8%D0%B7_%D1%82%D0%BE%D0%BD%D0%B0%D0%BB%D1%8C%D0%BD%D0%BE%D1%81%D1%82%D0%B8_%D1%82%D0%B5%D0%BA%D1%81%D1%82%D0%B0_%22_%D0%BD%D0%B0_Kaggle%22.ipynb\" target=\"_parent\"><img src=\"https://colab.research.google.com/assets/colab-badge.svg\" alt=\"Open In Colab\"/></a>"
      ]
    },
    {
      "cell_type": "markdown",
      "metadata": {
        "id": "WDgBKZKb-3Zt"
      },
      "source": [
        "# ООО \"Университет Цифровых технологий платформа 3\""
      ]
    },
    {
      "cell_type": "markdown",
      "metadata": {
        "id": "1_Z31sIPgDie"
      },
      "source": [
        "## Домашнее задание к уроку \"Нейронные сети для работы с текстами. Часть 1.\""
      ]
    },
    {
      "cell_type": "markdown",
      "metadata": {
        "id": "hIvkno0cgO2w"
      },
      "source": [
        "Определение тональности текста.\n",
        "Цель состоит в том, чтобы определить тональность текста на основе предоставленных данных. Данные представляют набор текстовых данных отзывов на покупку мобильных телефонов и аксессуаров. Где 1 — положительный отзыв, 0 — отрицательный отзыв.\n",
        "\n",
        "Загрузите из датасета текстовую базу отзывов на покупку мобильных телефонов и аксессуаров, а также базу для тестирования. Подайте дата сет в нейронную сеть, постаравшись добиться максимальной точности распознавания. Для улучшения обучения можно использовать также дополнительные методы, не рассмотренные в занятиях, слои, функции активации, менять параметры оптимизатора Adam и прочие гипер параметры. Результаты рекомендуется заносить в таблицу для себя, чтобы можно было потом воспроизвести лучший вариант. Предсказание Вашей сети необходимо отправить в виде специального файла с расширением csv, чтобы войти в рейтинговую таблицу соревнования. Ответ можно улучшить и подавать результат несколько раз."
      ]
    },
    {
      "cell_type": "markdown",
      "metadata": {
        "id": "fR--WFB2V85g"
      },
      "source": [
        "Содержание датасета: Набор текстовых данных содержат отзывы покупателей на покупку мобильных телефонов и аксессуаров и анализ тональности по 5-ти бальной шкале. После загрузки необходимо преобразовать шкалу тональности в двумерную, позитивная и негативная, с кодированием где 1 — положительный отзыв, 0 — отрицательный отзыв."
      ]
    },
    {
      "cell_type": "code",
      "metadata": {
        "id": "9SZ7CD8Ff68Q",
        "colab": {
          "base_uri": "https://localhost:8080/"
        },
        "outputId": "72404764-ea4e-4b0f-baa3-2dee46807e6e"
      },
      "source": [
        "import numpy as np\n",
        "import pandas as pd\n",
        "import seaborn as sns\n",
        "from pprint import pprint\n",
        "from google.colab import files\n",
        "\n",
        "from sklearn.preprocessing import OneHotEncoder\n",
        "from sklearn.model_selection import train_test_split\n",
        "import tensorflow as tf # импортируем tensorflow\n",
        "from tensorflow.keras.preprocessing.text import Tokenizer,tokenizer_from_json\n",
        "from tensorflow.keras.preprocessing.sequence import pad_sequences\n",
        "from tensorflow.keras.models import Sequential, load_model\n",
        "from tensorflow.keras.layers import Input, Dense, Dropout, BatchNormalization, Embedding, SpatialDropout1D, Flatten\n",
        "from tensorflow.keras.optimizers import Adam\n",
        "from tensorflow.keras.metrics import Accuracy\n",
        "import zipfile # для работы с архивами zip\n",
        "\n",
        "import os\n",
        "#Отрисовывать изображения в ноутбуке, а не в консоль или файл\n",
        "%matplotlib inline\n",
        "# устанавливаем свежий Kaggle API\n",
        "!pip install --upgrade --force-reinstall --no-deps kaggle\n"
      ],
      "execution_count": null,
      "outputs": [
        {
          "output_type": "stream",
          "name": "stdout",
          "text": [
            "Collecting kaggle\n",
            "  Downloading kaggle-1.5.12.tar.gz (58 kB)\n",
            "\u001b[?25l\r\u001b[K     |█████▋                          | 10 kB 32.5 MB/s eta 0:00:01\r\u001b[K     |███████████▏                    | 20 kB 31.9 MB/s eta 0:00:01\r\u001b[K     |████████████████▊               | 30 kB 36.0 MB/s eta 0:00:01\r\u001b[K     |██████████████████████▎         | 40 kB 26.2 MB/s eta 0:00:01\r\u001b[K     |███████████████████████████▉    | 51 kB 14.9 MB/s eta 0:00:01\r\u001b[K     |████████████████████████████████| 58 kB 5.2 MB/s \n",
            "\u001b[?25hBuilding wheels for collected packages: kaggle\n",
            "  Building wheel for kaggle (setup.py) ... \u001b[?25l\u001b[?25hdone\n",
            "  Created wheel for kaggle: filename=kaggle-1.5.12-py3-none-any.whl size=73051 sha256=3b66c57b73da2d55b82aeecfbfbb5a6a9ca6bdf2ecd52feadfb15c264712d475\n",
            "  Stored in directory: /root/.cache/pip/wheels/62/d6/58/5853130f941e75b2177d281eb7e44b4a98ed46dd155f556dc5\n",
            "Successfully built kaggle\n",
            "Installing collected packages: kaggle\n",
            "  Attempting uninstall: kaggle\n",
            "    Found existing installation: kaggle 1.5.12\n",
            "    Uninstalling kaggle-1.5.12:\n",
            "      Successfully uninstalled kaggle-1.5.12\n",
            "Successfully installed kaggle-1.5.12\n"
          ]
        }
      ]
    },
    {
      "cell_type": "code",
      "metadata": {
        "colab": {
          "base_uri": "https://localhost:8080/"
        },
        "id": "ksq7-sCeG3Xz",
        "outputId": "674cc9b3-2ca1-4dd5-d0a8-f63d25043560"
      },
      "source": [
        "from google.colab import drive\n",
        "drive.mount('/content/drive')"
      ],
      "execution_count": null,
      "outputs": [
        {
          "output_type": "stream",
          "name": "stdout",
          "text": [
            "Mounted at /content/drive\n"
          ]
        }
      ]
    },
    {
      "cell_type": "markdown",
      "metadata": {
        "id": "ggeiqxNlA3GC"
      },
      "source": [
        "##Анализ тональности текста\n"
      ]
    },
    {
      "cell_type": "markdown",
      "metadata": {
        "id": "Id-9iPlKA9Bh"
      },
      "source": [
        "### Ссылка на сревнование: \n",
        "https://www.kaggle.com/t/82c8fec502b3466bbf725731055646c2\n",
        "\n",
        "\n"
      ]
    },
    {
      "cell_type": "markdown",
      "metadata": {
        "id": "dOcndqbYBF8n"
      },
      "source": [
        "###Устанавливаем ключ Каггл, чтобы участвовать в соревнованиях. Это нужно сделать один раз.\n",
        "Нужно зарегистрироваться на Каггл (https://www.kaggle.com/) и скачать ключ для взаимодействия с API соревновательной системы Каггла. После регистрации, справа появятся Ваши имя и фамилия - ссылка на персональную страницу. Нажмите на них. Когда страница загрузится, справа увидите Account. Нажимаете на надпись, затем прокручиваете страницу вниз, до вкладки API, там нажимаете Create New API Token. Ключ - это файл kaggle.json, который скачается после нажатия. Нужно скопировать его в папку Google Drive, предварительно её создав: My Drive/datasets/kaggle/ (из Колаба её адрес, который будем указывать для загрузки, такой: /content/drive/My Drive/datasets/kaggle/)."
      ]
    },
    {
      "cell_type": "code",
      "metadata": {
        "id": "YOHiripkBPHC"
      },
      "source": [
        "def Init_Kaggle():\n",
        "    try:\n",
        "        # Создаём правильную папку для ключа Каггл\n",
        "        # в Колабе, она должна быть такой по требованию Каггл\n",
        "        !mkdir ~/.kaggle\n",
        "        # переходим в папку, теперь это путь по умолчанию\n",
        "        %cd ~/.kaggle\n",
        "        # запускаем - подключаем Google Drive - будем скачивать с него, так намного быстрее и удобнее\n",
        "        # после запуска переходим по ссылке, которая появится, для идентификации\n",
        "        # копируем оттуда код authorization code и вставляем здесь в окошко\n",
        "        drive.mount('/content/drive')\n",
        "        # нужно зарегистрироваться на Каггл и скачать ключ для взаимодействия с API\n",
        "        # соревновательной системы Каггла kaggle.json. Нужно скопировать его в папку\n",
        "        # Google Drive, предварительно её создав: /content/drive/My Drive/datasets/kaggle/\n",
        "        !cp '/content/drive/My Drive/datasets/kaggle/kaggle.json' '/root/.kaggle/kaggle.json'\n",
        "        # выводим версию API Kaggle:\n",
        "        !kaggle --version\n",
        "        !ls\n",
        "        print(' Ключи Kaggle успешно установлены! ')\n",
        "    except:\n",
        "        print(' При установке ключей Kaggle произошла ошибка! ') "
      ],
      "execution_count": null,
      "outputs": []
    },
    {
      "cell_type": "code",
      "metadata": {
        "id": "4kgsRWMgBW-7"
      },
      "source": [
        "def Load_data_from_Kaggle():\n",
        "    # считаем заполненную базу данных из kaggle\n",
        "    %cd ~/.kaggle\n",
        "    print('скачиваем данные с Каггл:')\n",
        "    !kaggle competitions download -c udt-3-text-work\n",
        "    print('загружаем из архива, распаковываем:')\n",
        "    z = zipfile.ZipFile('udt-3-text-work.zip', 'r')\n",
        "    z.extractall()\n",
        "    # удаляем архив, чтобы не занимал место на диске\n",
        "    !rm udt-3-text-work.zip\n",
        "    #Считываем данные с помощью pandas из двух файлов\n",
        "    reviews = pd.read_csv('reviews_mobile_phone_train.csv')\n",
        "    test_data = pd.read_csv('reviews_mobile_phone_test.csv')\n",
        "    \n",
        "    return reviews, test_data"
      ],
      "execution_count": null,
      "outputs": []
    },
    {
      "cell_type": "code",
      "metadata": {
        "colab": {
          "base_uri": "https://localhost:8080/"
        },
        "id": "lKYgNBLXEsAG",
        "outputId": "1262d9ef-51eb-4d0b-d858-8d2957cda4fd"
      },
      "source": [
        "Init_Kaggle() # устанавливаем кючи кагл"
      ],
      "execution_count": null,
      "outputs": [
        {
          "output_type": "stream",
          "name": "stdout",
          "text": [
            "/root/.kaggle\n",
            "Drive already mounted at /content/drive; to attempt to forcibly remount, call drive.mount(\"/content/drive\", force_remount=True).\n",
            "Kaggle API 1.5.12\n",
            "kaggle.json\n",
            " Ключи Kaggle успешно установлены! \n"
          ]
        }
      ]
    },
    {
      "cell_type": "code",
      "metadata": {
        "colab": {
          "base_uri": "https://localhost:8080/",
          "height": 306
        },
        "id": "Iu1TGRMUEs5e",
        "outputId": "41539a5d-414f-441c-bf0f-aed7bf484323"
      },
      "source": [
        "reviews, test_data = Load_data_from_Kaggle() # считаем заполненную базу данных из kaggle\n",
        "reviews.head()"
      ],
      "execution_count": null,
      "outputs": [
        {
          "output_type": "stream",
          "name": "stdout",
          "text": [
            "/root/.kaggle\n",
            "скачиваем данные с Каггл:\n",
            "Downloading udt-3-text-work.zip to /root/.kaggle\n",
            " 80% 17.0M/21.2M [00:00<00:00, 27.3MB/s]\n",
            "100% 21.2M/21.2M [00:00<00:00, 27.3MB/s]\n",
            "загружаем из архива, распаковываем:\n"
          ]
        },
        {
          "output_type": "execute_result",
          "data": {
            "text/html": [
              "<div>\n",
              "<style scoped>\n",
              "    .dataframe tbody tr th:only-of-type {\n",
              "        vertical-align: middle;\n",
              "    }\n",
              "\n",
              "    .dataframe tbody tr th {\n",
              "        vertical-align: top;\n",
              "    }\n",
              "\n",
              "    .dataframe thead th {\n",
              "        text-align: right;\n",
              "    }\n",
              "</style>\n",
              "<table border=\"1\" class=\"dataframe\">\n",
              "  <thead>\n",
              "    <tr style=\"text-align: right;\">\n",
              "      <th></th>\n",
              "      <th>text</th>\n",
              "      <th>label</th>\n",
              "    </tr>\n",
              "  </thead>\n",
              "  <tbody>\n",
              "    <tr>\n",
              "      <th>0</th>\n",
              "      <td>Хорошее соотношение Цена-Качество! Минимум пон...</td>\n",
              "      <td>5</td>\n",
              "    </tr>\n",
              "    <tr>\n",
              "      <th>1</th>\n",
              "      <td>Крупный экран, кнопки клавиатуры и цифры на эк...</td>\n",
              "      <td>2</td>\n",
              "    </tr>\n",
              "    <tr>\n",
              "      <th>2</th>\n",
              "      <td>Пользуюсь Sharp Aquos S2. Достойный агрегат, м...</td>\n",
              "      <td>5</td>\n",
              "    </tr>\n",
              "    <tr>\n",
              "      <th>3</th>\n",
              "      <td>-Большой и яркий экран-Долго держит заряд-Стил...</td>\n",
              "      <td>5</td>\n",
              "    </tr>\n",
              "    <tr>\n",
              "      <th>4</th>\n",
              "      <td>Тонкий корпус, звук с динамиков и в наушниках,...</td>\n",
              "      <td>4</td>\n",
              "    </tr>\n",
              "  </tbody>\n",
              "</table>\n",
              "</div>"
            ],
            "text/plain": [
              "                                                text  label\n",
              "0  Хорошее соотношение Цена-Качество! Минимум пон...      5\n",
              "1  Крупный экран, кнопки клавиатуры и цифры на эк...      2\n",
              "2  Пользуюсь Sharp Aquos S2. Достойный агрегат, м...      5\n",
              "3  -Большой и яркий экран-Долго держит заряд-Стил...      5\n",
              "4  Тонкий корпус, звук с динамиков и в наушниках,...      4"
            ]
          },
          "metadata": {},
          "execution_count": 6
        }
      ]
    },
    {
      "cell_type": "code",
      "metadata": {
        "colab": {
          "base_uri": "https://localhost:8080/"
        },
        "id": "Ma8ozy93auCy",
        "outputId": "a5107956-66ba-4047-f17b-c65878ee2ee1"
      },
      "source": [
        "# выведем информацию о колонках\n",
        "reviews.info()"
      ],
      "execution_count": null,
      "outputs": [
        {
          "output_type": "stream",
          "name": "stdout",
          "text": [
            "<class 'pandas.core.frame.DataFrame'>\n",
            "RangeIndex: 53265 entries, 0 to 53264\n",
            "Data columns (total 2 columns):\n",
            " #   Column  Non-Null Count  Dtype \n",
            "---  ------  --------------  ----- \n",
            " 0   text    53265 non-null  object\n",
            " 1   label   53265 non-null  int64 \n",
            "dtypes: int64(1), object(1)\n",
            "memory usage: 832.4+ KB\n"
          ]
        }
      ]
    },
    {
      "cell_type": "code",
      "metadata": {
        "colab": {
          "base_uri": "https://localhost:8080/"
        },
        "id": "PEXX3FTPjXco",
        "outputId": "359d61f9-58ba-4e4e-aac6-f1bafe628dfb"
      },
      "source": [
        "# посмотрим, сколько у нас отзывов с какими оценками\n",
        "reviews['label'].value_counts()"
      ],
      "execution_count": null,
      "outputs": [
        {
          "output_type": "execute_result",
          "data": {
            "text/plain": [
              "5    24823\n",
              "4    12043\n",
              "3     6606\n",
              "1     5030\n",
              "2     4763\n",
              "Name: label, dtype: int64"
            ]
          },
          "metadata": {},
          "execution_count": 8
        }
      ]
    },
    {
      "cell_type": "code",
      "metadata": {
        "id": "Cdo8Zgs-C3j2"
      },
      "source": [
        "def Data_Update(reviews): #преодбработка данных\n",
        "    global NUM_WORDS\n",
        "    global tokenizer\n",
        "    # создадим словарь для преобразования оценки из шкалы  5-1 в  шкалу positive - negative\n",
        "    # используем 0 для класса негативных отзывов, 1 для класса позитивных отзывов\n",
        "    label_to_binary = {5: 1, \n",
        "                    4: 1, \n",
        "                    3: 0, \n",
        "                    2: 0, \n",
        "                    1: 0}\n",
        "    # создадим новую колонку в DataFramкe\n",
        "    reviews['is_positive'] = reviews['label'].apply(lambda x: label_to_binary[x])\n",
        "    # выделим наши тексты (признаковые описания) и класс, который нужно предсказывать\n",
        "    X = reviews['text']\n",
        "    Y = reviews['is_positive']\n",
        "    # разделим наши данные на обучающую и валидационную выборки\n",
        "    train_index, val_index = train_test_split(np.arange(reviews.shape[0]))\n",
        "    x_train_raw, x_val_raw = X[train_index], X[val_index]\n",
        "    y_train, y_val = Y[train_index], Y[val_index] \n",
        "    NUM_WORDS = 5000 # константа, максимальное количество слов, которые будет учитывать наша модель\n",
        "\n",
        "    # создадим наш Токенайзер\n",
        "    tokenizer = Tokenizer(num_words=NUM_WORDS, # максимальное количество слов, которые будет учитывать наш токенайзер\n",
        "                        filters='\"#$%&()*+,-–—./…:;<=>?@[\\\\]^_`{|}~«»\\t\\n\\xa0\\ufeff', # символы, которые он токенайзер будет фильтровать\n",
        "                        lower=True,  #приводятся ли все символы к нижнему регситру\n",
        "                        split=' ',  # символ, по которому происходит разделение на слова (токены)\n",
        "                        char_level=False,  # являются ли токенами отдельные буквы\n",
        "                        oov_token='UNKNOWN' # токен для неизвестных слов \n",
        "                        )\n",
        "    tokenizer.fit_on_texts(x_train_raw) # обучим наш токенайзер на обучающих текстах\n",
        "    # Преобразуем наши текстовые данные в формат One Hot Encoding\n",
        "    x_train_01 = tokenizer.texts_to_matrix(x_train_raw)\n",
        "    x_val_01 = tokenizer.texts_to_matrix(x_val_raw)\n",
        "    return x_train_01, y_train, x_val_01, y_val\n"
      ],
      "execution_count": null,
      "outputs": []
    },
    {
      "cell_type": "code",
      "metadata": {
        "id": "ZhnLtU0kBs0e"
      },
      "source": [
        "x_train_01, y_train, x_val_01, y_val = Data_Update(reviews)"
      ],
      "execution_count": null,
      "outputs": []
    },
    {
      "cell_type": "code",
      "metadata": {
        "colab": {
          "base_uri": "https://localhost:8080/"
        },
        "id": "BQd4HkTs9Sx_",
        "outputId": "f6cef29f-6fe3-449e-fbac-f804daec4a14"
      },
      "source": [
        "x_train_01.shape"
      ],
      "execution_count": null,
      "outputs": [
        {
          "output_type": "execute_result",
          "data": {
            "text/plain": [
              "(39948, 5000)"
            ]
          },
          "metadata": {},
          "execution_count": 11
        }
      ]
    },
    {
      "cell_type": "markdown",
      "metadata": {
        "id": "NWNcIDLgkGde"
      },
      "source": [
        "# Создание и обучение модели"
      ]
    },
    {
      "cell_type": "code",
      "metadata": {
        "id": "flxFIw-iD2Zc"
      },
      "source": [
        "# создадим простую модель с полносвязными слоем\n",
        "def Dense_model():\n",
        "    model01 = Sequential()\n",
        "    model01.add(Dense(6000, input_dim=NUM_WORDS, activation='relu'))\n",
        "    model01.add(BatchNormalization())\n",
        "    model01.add(Dropout(0.4))\n",
        "    model01.add(Dense(3000 ,activation='tanh'))\n",
        "    model01.add(Dense(1000 ,activation='tanh'))\n",
        "    model01.add(Dropout(0.3))\n",
        "    model01.add(Dense(100 ,activation='relu'))\n",
        "    model01.add(Dense(1 ,activation='sigmoid'))\n",
        "    model01.compile(optimizer=Adam(learning_rate=0.001),  loss='binary_crossentropy',  metrics=['accuracy'])\n",
        "\n",
        "    return model01"
      ],
      "execution_count": null,
      "outputs": []
    },
    {
      "cell_type": "code",
      "metadata": {
        "colab": {
          "base_uri": "https://localhost:8080/"
        },
        "id": "PLJEwGR2ECmW",
        "outputId": "81c21651-519c-4c30-d250-414538a42385"
      },
      "source": [
        "# обучим нашу модель\n",
        "model_text_tonality = Dense_model()\n",
        "model_text_tonality.fit(x = x_train_01,  y = y_train, epochs = 15, verbose = 1, validation_data= (x_val_01, y_val))"
      ],
      "execution_count": null,
      "outputs": [
        {
          "output_type": "stream",
          "name": "stdout",
          "text": [
            "Epoch 1/15\n",
            "1249/1249 [==============================] - 33s 26ms/step - loss: 0.4561 - accuracy: 0.8064 - val_loss: 0.3480 - val_accuracy: 0.8518\n",
            "Epoch 2/15\n",
            "1249/1249 [==============================] - 31s 25ms/step - loss: 0.2914 - accuracy: 0.8789 - val_loss: 0.3445 - val_accuracy: 0.8642\n",
            "Epoch 3/15\n",
            "1249/1249 [==============================] - 32s 25ms/step - loss: 0.2078 - accuracy: 0.9167 - val_loss: 0.3646 - val_accuracy: 0.8615\n",
            "Epoch 4/15\n",
            "1249/1249 [==============================] - 32s 25ms/step - loss: 0.1313 - accuracy: 0.9516 - val_loss: 0.4072 - val_accuracy: 0.8566\n",
            "Epoch 5/15\n",
            "1249/1249 [==============================] - 32s 25ms/step - loss: 0.0883 - accuracy: 0.9681 - val_loss: 0.4924 - val_accuracy: 0.8581\n",
            "Epoch 6/15\n",
            "1249/1249 [==============================] - 32s 26ms/step - loss: 0.0727 - accuracy: 0.9744 - val_loss: 0.5040 - val_accuracy: 0.8566\n",
            "Epoch 7/15\n",
            "1249/1249 [==============================] - 32s 26ms/step - loss: 0.0574 - accuracy: 0.9800 - val_loss: 0.5501 - val_accuracy: 0.8576\n",
            "Epoch 8/15\n",
            "1249/1249 [==============================] - 32s 26ms/step - loss: 0.0506 - accuracy: 0.9834 - val_loss: 0.5731 - val_accuracy: 0.8588\n",
            "Epoch 9/15\n",
            "1249/1249 [==============================] - 32s 25ms/step - loss: 0.0451 - accuracy: 0.9836 - val_loss: 0.5737 - val_accuracy: 0.8630\n",
            "Epoch 10/15\n",
            "1249/1249 [==============================] - 32s 25ms/step - loss: 0.0436 - accuracy: 0.9852 - val_loss: 0.6950 - val_accuracy: 0.8532\n",
            "Epoch 11/15\n",
            "1249/1249 [==============================] - 32s 25ms/step - loss: 0.0396 - accuracy: 0.9862 - val_loss: 0.6183 - val_accuracy: 0.8551\n",
            "Epoch 12/15\n",
            "1249/1249 [==============================] - 32s 25ms/step - loss: 0.0352 - accuracy: 0.9878 - val_loss: 0.6132 - val_accuracy: 0.8548\n",
            "Epoch 13/15\n",
            "1249/1249 [==============================] - 32s 25ms/step - loss: 0.0371 - accuracy: 0.9871 - val_loss: 0.6170 - val_accuracy: 0.8627\n",
            "Epoch 14/15\n",
            "1249/1249 [==============================] - 32s 25ms/step - loss: 0.0295 - accuracy: 0.9896 - val_loss: 0.6179 - val_accuracy: 0.8610\n",
            "Epoch 15/15\n",
            "1249/1249 [==============================] - 31s 25ms/step - loss: 0.0305 - accuracy: 0.9893 - val_loss: 0.6381 - val_accuracy: 0.8547\n"
          ]
        },
        {
          "output_type": "execute_result",
          "data": {
            "text/plain": [
              "<keras.callbacks.History at 0x7fc0d14d6290>"
            ]
          },
          "metadata": {},
          "execution_count": 28
        }
      ]
    },
    {
      "cell_type": "code",
      "metadata": {
        "id": "1RGlh1g5-daO"
      },
      "source": [
        "# сохраним модель \n",
        "model_text_tonality.save('/content/drive/MyDrive/datasets/model_text_tonality_03.h5') "
      ],
      "execution_count": null,
      "outputs": []
    },
    {
      "cell_type": "markdown",
      "metadata": {
        "id": "GtOvqcKeo2Dv"
      },
      "source": [
        "##Создадим предсказание обученной модели."
      ]
    },
    {
      "cell_type": "code",
      "metadata": {
        "id": "yRqlABSyKpuV"
      },
      "source": [
        "def Prediction_model(test_data): # предсказываем значения\n",
        "    try:\n",
        "        # x_test_raw = pd.Series(test_data_reviews)\n",
        "        x_test_raw = test_data['text']\n",
        "        x_test_tok = tokenizer.texts_to_matrix(x_test_raw)\n",
        "        \n",
        "        # получим предсказания модели\n",
        "        pred = model_text_tonality.predict(x_test_tok)\n",
        "        pred = np.round(pred).astype(np.int)\n",
        "        print('Прогноз тестовых данных сформирован успешно!')\n",
        "        return pred \n",
        "    except:\n",
        "        print('При формировании прогноза на тестовых данных произошла ошибка!')\n",
        "        return 0"
      ],
      "execution_count": null,
      "outputs": []
    },
    {
      "cell_type": "code",
      "metadata": {
        "id": "_Bx26Pc_oUNV"
      },
      "source": [
        "# оформить результат и отправить на Kaggle\n",
        "def Send_results(pred_data_my):\n",
        "    try:\n",
        "        predUnscaled = pred_data_my.squeeze()\n",
        "        # создаём датафрейм в нужном формате\n",
        "        submission = pd.DataFrame({\"Id\":range(1,len(predUnscaled)+1),\"Label\":predUnscaled})\n",
        "        \n",
        "        submission.head()\n",
        "        # сохраняем его как csv\n",
        "        submission = submission.to_csv('./Submission_review_phone.csv', sep=',', index=False, header=True)\n",
        "        # отправляем на соревнование\n",
        "        !kaggle competitions submit -c udt-3-text-work -f Submission_review_phone.csv -m \"Message\"\n",
        "        print('\\n Расчитанные данные успешно отправлены! ')\n",
        "        \n",
        "    except:\n",
        "        print('Отправка расчетных данных не прошла! ')  "
      ],
      "execution_count": null,
      "outputs": []
    },
    {
      "cell_type": "code",
      "metadata": {
        "colab": {
          "base_uri": "https://localhost:8080/"
        },
        "id": "VPygSRY2oWax",
        "outputId": "9016a417-e13f-4159-c6dd-e0b38635125b"
      },
      "source": [
        "prediction_data = Prediction_model(test_data) # получим прогноз на тестовой выбоке"
      ],
      "execution_count": null,
      "outputs": [
        {
          "output_type": "stream",
          "name": "stdout",
          "text": [
            "Прогноз тестовых данных сформирован успешно!\n"
          ]
        }
      ]
    },
    {
      "cell_type": "code",
      "metadata": {
        "colab": {
          "base_uri": "https://localhost:8080/"
        },
        "id": "tAkzSV2goaiO",
        "outputId": "504668d9-c98d-4aec-c7aa-ab3833b50041"
      },
      "source": [
        "Send_results(prediction_data) # оформить результат и отправить на Kaggle"
      ],
      "execution_count": null,
      "outputs": [
        {
          "output_type": "stream",
          "name": "stdout",
          "text": [
            "100% 5.76k/5.76k [00:04<00:00, 1.33kB/s]\n",
            "Successfully submitted to Университет Цифровых Технологий платформа 3\n",
            " Расчитанные данные успешно отправлены! \n"
          ]
        }
      ]
    }
  ]
}
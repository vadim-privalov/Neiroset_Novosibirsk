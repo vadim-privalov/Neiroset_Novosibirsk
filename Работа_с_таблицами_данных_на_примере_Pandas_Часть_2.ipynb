{
  "nbformat": 4,
  "nbformat_minor": 0,
  "metadata": {
    "colab": {
      "name": "Работа с таблицами данных на примере Pandas. Часть 2",
      "provenance": [],
      "collapsed_sections": [],
      "include_colab_link": true
    },
    "kernelspec": {
      "name": "python3",
      "display_name": "Python 3"
    }
  },
  "cells": [
    {
      "cell_type": "markdown",
      "metadata": {
        "id": "view-in-github",
        "colab_type": "text"
      },
      "source": [
        "<a href=\"https://colab.research.google.com/github/vadim-privalov/Neiroset_Novosibirsk/blob/main/%D0%A0%D0%B0%D0%B1%D0%BE%D1%82%D0%B0_%D1%81_%D1%82%D0%B0%D0%B1%D0%BB%D0%B8%D1%86%D0%B0%D0%BC%D0%B8_%D0%B4%D0%B0%D0%BD%D0%BD%D1%8B%D1%85_%D0%BD%D0%B0_%D0%BF%D1%80%D0%B8%D0%BC%D0%B5%D1%80%D0%B5_Pandas_%D0%A7%D0%B0%D1%81%D1%82%D1%8C_2.ipynb\" target=\"_parent\"><img src=\"https://colab.research.google.com/assets/colab-badge.svg\" alt=\"Open In Colab\"/></a>"
      ]
    },
    {
      "cell_type": "markdown",
      "metadata": {
        "id": "uVQjRFc6abYJ"
      },
      "source": [
        "## ООО \"Университет Цифровых Технологий платформа 3\""
      ]
    },
    {
      "cell_type": "markdown",
      "metadata": {
        "id": "K4G2sPg0XPig"
      },
      "source": [
        "# Работа с таблицами данных на примере Pandas. Часть 2"
      ]
    },
    {
      "cell_type": "markdown",
      "metadata": {
        "id": "y_BAVdhud5VU"
      },
      "source": [
        "Pandas, часть 2.\n",
        "*   Работа с индексами строк и столбцов\n",
        "*   Мультииндекс\n",
        "    *    Создание мультииндекса вручную\n",
        "    *    Пример мультииндекса, созданного GroupBy\n",
        "*   Рассчет статистических показателей\n",
        "    *    Рассчет статистик для одной колонки\n",
        "    *    Рассчет статистик для нескольких колонок\n",
        "    *    Рассчет статистик с использованием GroupBy\n",
        "    *    Обзор встроенных функций для описательных статистик\n",
        "*   Объединение данных из нескольких таблиц\n",
        "    *    Конкатенация по срокам\n",
        "    *    Конкатенация по столбцам\n",
        "    *    Объединение с помощью Merge\n",
        "         *    Inner Join\n",
        "         *    Left Join\n",
        "         *    Right Join\n",
        "         *    Outer Join\n",
        "    *    Использование метода Join\n",
        "*   Сортировка\n",
        "*   DatetimeIndex\n",
        "    *    Resample\n",
        "    "
      ]
    },
    {
      "cell_type": "markdown",
      "metadata": {
        "id": "mxkhBiXUXUGU"
      },
      "source": [
        "# Работа с  индексами строк и столбцов"
      ]
    },
    {
      "cell_type": "markdown",
      "metadata": {
        "id": "DcSN4Xr8d2yu"
      },
      "source": [
        "Мы уже знаем, что доступ к названиям колонок и индексам осущетсвляется через df.columns и df.index\n",
        "\n",
        "Сбросить значения текущего индекса можно с помощью метода reset_index. Полный список аргументов для метода reset_index можно посмотреть в документации, остановимся на важных:\n",
        "*    drop - (по умолчанию False) - нужно ли удалять информацию, содержащуюся в старом индексе\n",
        "*    inplace (по умолчанию False) - возвращается ли результат в виде копии или производим измененеия с исходным DataFrame"
      ]
    },
    {
      "cell_type": "code",
      "metadata": {
        "id": "RWJC32hba9gK"
      },
      "source": [
        "# импортируем библиотеки\n",
        "import pandas as pd\n",
        "import numpy as np"
      ],
      "execution_count": null,
      "outputs": []
    },
    {
      "cell_type": "code",
      "metadata": {
        "colab": {
          "base_uri": "https://localhost:8080/",
          "height": 297
        },
        "id": "E5mY0wL0XBko",
        "outputId": "5a269561-6a71-4453-8457-8947e9ef0973"
      },
      "source": [
        "# создадим DataFrame\n",
        "\n",
        "index = ['Иванов', 'Петров', 'Сидоров', 'Кузнецов', 'Попов', 'Васильев', 'Кондратьев', 'Соколов']\n",
        "df = pd.DataFrame({ 'математика': [5, 2, 3, 5, 4, 5, 4, 5],\n",
        "                    'физика' :    [5, 4, 2, 3, 3, 4, 4, 2], \n",
        "                    'литература' :[4, 5, 4, 3, 5, 5, 4, 5],\n",
        "                    'физкультура':[5, 3, 2, 3, 4, 5, 5, 3],\n",
        "                    'информатика':[5, 5, 4, 5, 5, 5, 2, 5], \n",
        "                   },  index = index)\n",
        "df # посмотрим на него"
      ],
      "execution_count": null,
      "outputs": [
        {
          "output_type": "execute_result",
          "data": {
            "text/html": [
              "<div>\n",
              "<style scoped>\n",
              "    .dataframe tbody tr th:only-of-type {\n",
              "        vertical-align: middle;\n",
              "    }\n",
              "\n",
              "    .dataframe tbody tr th {\n",
              "        vertical-align: top;\n",
              "    }\n",
              "\n",
              "    .dataframe thead th {\n",
              "        text-align: right;\n",
              "    }\n",
              "</style>\n",
              "<table border=\"1\" class=\"dataframe\">\n",
              "  <thead>\n",
              "    <tr style=\"text-align: right;\">\n",
              "      <th></th>\n",
              "      <th>математика</th>\n",
              "      <th>физика</th>\n",
              "      <th>литература</th>\n",
              "      <th>физкультура</th>\n",
              "      <th>информатика</th>\n",
              "    </tr>\n",
              "  </thead>\n",
              "  <tbody>\n",
              "    <tr>\n",
              "      <th>Иванов</th>\n",
              "      <td>5</td>\n",
              "      <td>5</td>\n",
              "      <td>4</td>\n",
              "      <td>5</td>\n",
              "      <td>5</td>\n",
              "    </tr>\n",
              "    <tr>\n",
              "      <th>Петров</th>\n",
              "      <td>2</td>\n",
              "      <td>4</td>\n",
              "      <td>5</td>\n",
              "      <td>3</td>\n",
              "      <td>5</td>\n",
              "    </tr>\n",
              "    <tr>\n",
              "      <th>Сидоров</th>\n",
              "      <td>3</td>\n",
              "      <td>2</td>\n",
              "      <td>4</td>\n",
              "      <td>2</td>\n",
              "      <td>4</td>\n",
              "    </tr>\n",
              "    <tr>\n",
              "      <th>Кузнецов</th>\n",
              "      <td>5</td>\n",
              "      <td>3</td>\n",
              "      <td>3</td>\n",
              "      <td>3</td>\n",
              "      <td>5</td>\n",
              "    </tr>\n",
              "    <tr>\n",
              "      <th>Попов</th>\n",
              "      <td>4</td>\n",
              "      <td>3</td>\n",
              "      <td>5</td>\n",
              "      <td>4</td>\n",
              "      <td>5</td>\n",
              "    </tr>\n",
              "    <tr>\n",
              "      <th>Васильев</th>\n",
              "      <td>5</td>\n",
              "      <td>4</td>\n",
              "      <td>5</td>\n",
              "      <td>5</td>\n",
              "      <td>5</td>\n",
              "    </tr>\n",
              "    <tr>\n",
              "      <th>Кондратьев</th>\n",
              "      <td>4</td>\n",
              "      <td>4</td>\n",
              "      <td>4</td>\n",
              "      <td>5</td>\n",
              "      <td>2</td>\n",
              "    </tr>\n",
              "    <tr>\n",
              "      <th>Соколов</th>\n",
              "      <td>5</td>\n",
              "      <td>2</td>\n",
              "      <td>5</td>\n",
              "      <td>3</td>\n",
              "      <td>5</td>\n",
              "    </tr>\n",
              "  </tbody>\n",
              "</table>\n",
              "</div>"
            ],
            "text/plain": [
              "            математика  физика  литература  физкультура  информатика\n",
              "Иванов               5       5           4            5            5\n",
              "Петров               2       4           5            3            5\n",
              "Сидоров              3       2           4            2            4\n",
              "Кузнецов             5       3           3            3            5\n",
              "Попов                4       3           5            4            5\n",
              "Васильев             5       4           5            5            5\n",
              "Кондратьев           4       4           4            5            2\n",
              "Соколов              5       2           5            3            5"
            ]
          },
          "metadata": {
            "tags": []
          },
          "execution_count": 2
        }
      ]
    },
    {
      "cell_type": "code",
      "metadata": {
        "colab": {
          "base_uri": "https://localhost:8080/"
        },
        "id": "fyvKqlWcbH0T",
        "outputId": "4fb5508b-20ff-4d66-f156-73b7e9a264f0"
      },
      "source": [
        "df.columns # посмотрим, какие колонки есть в нашем DataFrame"
      ],
      "execution_count": null,
      "outputs": [
        {
          "output_type": "execute_result",
          "data": {
            "text/plain": [
              "Index(['математика', 'физика', 'литература', 'физкультура', 'информатика'], dtype='object')"
            ]
          },
          "metadata": {
            "tags": []
          },
          "execution_count": 3
        }
      ]
    },
    {
      "cell_type": "code",
      "metadata": {
        "colab": {
          "base_uri": "https://localhost:8080/",
          "height": 297
        },
        "id": "2GPR2Da-cmJ2",
        "outputId": "a8541731-983e-43e7-921c-852322e8fea9"
      },
      "source": [
        "# поменяем названия колонок\n",
        "df.columns = ['МАТЕМАТИКА',  'ФИЗИКА',  'ЛИТЕРАТУРА',  'ФИЗКУЛЬТУРА',  'ИНФОРМАТИКА']\n",
        "df"
      ],
      "execution_count": null,
      "outputs": [
        {
          "output_type": "execute_result",
          "data": {
            "text/html": [
              "<div>\n",
              "<style scoped>\n",
              "    .dataframe tbody tr th:only-of-type {\n",
              "        vertical-align: middle;\n",
              "    }\n",
              "\n",
              "    .dataframe tbody tr th {\n",
              "        vertical-align: top;\n",
              "    }\n",
              "\n",
              "    .dataframe thead th {\n",
              "        text-align: right;\n",
              "    }\n",
              "</style>\n",
              "<table border=\"1\" class=\"dataframe\">\n",
              "  <thead>\n",
              "    <tr style=\"text-align: right;\">\n",
              "      <th></th>\n",
              "      <th>МАТЕМАТИКА</th>\n",
              "      <th>ФИЗИКА</th>\n",
              "      <th>ЛИТЕРАТУРА</th>\n",
              "      <th>ФИЗКУЛЬТУРА</th>\n",
              "      <th>ИНФОРМАТИКА</th>\n",
              "    </tr>\n",
              "  </thead>\n",
              "  <tbody>\n",
              "    <tr>\n",
              "      <th>Иванов</th>\n",
              "      <td>5</td>\n",
              "      <td>5</td>\n",
              "      <td>4</td>\n",
              "      <td>5</td>\n",
              "      <td>5</td>\n",
              "    </tr>\n",
              "    <tr>\n",
              "      <th>Петров</th>\n",
              "      <td>2</td>\n",
              "      <td>4</td>\n",
              "      <td>5</td>\n",
              "      <td>3</td>\n",
              "      <td>5</td>\n",
              "    </tr>\n",
              "    <tr>\n",
              "      <th>Сидоров</th>\n",
              "      <td>3</td>\n",
              "      <td>2</td>\n",
              "      <td>4</td>\n",
              "      <td>2</td>\n",
              "      <td>4</td>\n",
              "    </tr>\n",
              "    <tr>\n",
              "      <th>Кузнецов</th>\n",
              "      <td>5</td>\n",
              "      <td>3</td>\n",
              "      <td>3</td>\n",
              "      <td>3</td>\n",
              "      <td>5</td>\n",
              "    </tr>\n",
              "    <tr>\n",
              "      <th>Попов</th>\n",
              "      <td>4</td>\n",
              "      <td>3</td>\n",
              "      <td>5</td>\n",
              "      <td>4</td>\n",
              "      <td>5</td>\n",
              "    </tr>\n",
              "    <tr>\n",
              "      <th>Васильев</th>\n",
              "      <td>5</td>\n",
              "      <td>4</td>\n",
              "      <td>5</td>\n",
              "      <td>5</td>\n",
              "      <td>5</td>\n",
              "    </tr>\n",
              "    <tr>\n",
              "      <th>Кондратьев</th>\n",
              "      <td>4</td>\n",
              "      <td>4</td>\n",
              "      <td>4</td>\n",
              "      <td>5</td>\n",
              "      <td>2</td>\n",
              "    </tr>\n",
              "    <tr>\n",
              "      <th>Соколов</th>\n",
              "      <td>5</td>\n",
              "      <td>2</td>\n",
              "      <td>5</td>\n",
              "      <td>3</td>\n",
              "      <td>5</td>\n",
              "    </tr>\n",
              "  </tbody>\n",
              "</table>\n",
              "</div>"
            ],
            "text/plain": [
              "            МАТЕМАТИКА  ФИЗИКА  ЛИТЕРАТУРА  ФИЗКУЛЬТУРА  ИНФОРМАТИКА\n",
              "Иванов               5       5           4            5            5\n",
              "Петров               2       4           5            3            5\n",
              "Сидоров              3       2           4            2            4\n",
              "Кузнецов             5       3           3            3            5\n",
              "Попов                4       3           5            4            5\n",
              "Васильев             5       4           5            5            5\n",
              "Кондратьев           4       4           4            5            2\n",
              "Соколов              5       2           5            3            5"
            ]
          },
          "metadata": {
            "tags": []
          },
          "execution_count": 4
        }
      ]
    },
    {
      "cell_type": "code",
      "metadata": {
        "id": "buyS61UXc_Xq"
      },
      "source": [
        "df_ = df.copy() # создадим копию нашего DataFrame"
      ],
      "execution_count": null,
      "outputs": []
    },
    {
      "cell_type": "code",
      "metadata": {
        "colab": {
          "base_uri": "https://localhost:8080/",
          "height": 297
        },
        "id": "JmZAC2UGdFmD",
        "outputId": "099f8af7-d2c5-44ba-e1c0-d2b05f20e7c4"
      },
      "source": [
        "df_.reset_index(drop=True) # сделаем переиндексацию с удалением индекса"
      ],
      "execution_count": null,
      "outputs": [
        {
          "output_type": "execute_result",
          "data": {
            "text/html": [
              "<div>\n",
              "<style scoped>\n",
              "    .dataframe tbody tr th:only-of-type {\n",
              "        vertical-align: middle;\n",
              "    }\n",
              "\n",
              "    .dataframe tbody tr th {\n",
              "        vertical-align: top;\n",
              "    }\n",
              "\n",
              "    .dataframe thead th {\n",
              "        text-align: right;\n",
              "    }\n",
              "</style>\n",
              "<table border=\"1\" class=\"dataframe\">\n",
              "  <thead>\n",
              "    <tr style=\"text-align: right;\">\n",
              "      <th></th>\n",
              "      <th>МАТЕМАТИКА</th>\n",
              "      <th>ФИЗИКА</th>\n",
              "      <th>ЛИТЕРАТУРА</th>\n",
              "      <th>ФИЗКУЛЬТУРА</th>\n",
              "      <th>ИНФОРМАТИКА</th>\n",
              "    </tr>\n",
              "  </thead>\n",
              "  <tbody>\n",
              "    <tr>\n",
              "      <th>0</th>\n",
              "      <td>5</td>\n",
              "      <td>5</td>\n",
              "      <td>4</td>\n",
              "      <td>5</td>\n",
              "      <td>5</td>\n",
              "    </tr>\n",
              "    <tr>\n",
              "      <th>1</th>\n",
              "      <td>2</td>\n",
              "      <td>4</td>\n",
              "      <td>5</td>\n",
              "      <td>3</td>\n",
              "      <td>5</td>\n",
              "    </tr>\n",
              "    <tr>\n",
              "      <th>2</th>\n",
              "      <td>3</td>\n",
              "      <td>2</td>\n",
              "      <td>4</td>\n",
              "      <td>2</td>\n",
              "      <td>4</td>\n",
              "    </tr>\n",
              "    <tr>\n",
              "      <th>3</th>\n",
              "      <td>5</td>\n",
              "      <td>3</td>\n",
              "      <td>3</td>\n",
              "      <td>3</td>\n",
              "      <td>5</td>\n",
              "    </tr>\n",
              "    <tr>\n",
              "      <th>4</th>\n",
              "      <td>4</td>\n",
              "      <td>3</td>\n",
              "      <td>5</td>\n",
              "      <td>4</td>\n",
              "      <td>5</td>\n",
              "    </tr>\n",
              "    <tr>\n",
              "      <th>5</th>\n",
              "      <td>5</td>\n",
              "      <td>4</td>\n",
              "      <td>5</td>\n",
              "      <td>5</td>\n",
              "      <td>5</td>\n",
              "    </tr>\n",
              "    <tr>\n",
              "      <th>6</th>\n",
              "      <td>4</td>\n",
              "      <td>4</td>\n",
              "      <td>4</td>\n",
              "      <td>5</td>\n",
              "      <td>2</td>\n",
              "    </tr>\n",
              "    <tr>\n",
              "      <th>7</th>\n",
              "      <td>5</td>\n",
              "      <td>2</td>\n",
              "      <td>5</td>\n",
              "      <td>3</td>\n",
              "      <td>5</td>\n",
              "    </tr>\n",
              "  </tbody>\n",
              "</table>\n",
              "</div>"
            ],
            "text/plain": [
              "   МАТЕМАТИКА  ФИЗИКА  ЛИТЕРАТУРА  ФИЗКУЛЬТУРА  ИНФОРМАТИКА\n",
              "0           5       5           4            5            5\n",
              "1           2       4           5            3            5\n",
              "2           3       2           4            2            4\n",
              "3           5       3           3            3            5\n",
              "4           4       3           5            4            5\n",
              "5           5       4           5            5            5\n",
              "6           4       4           4            5            2\n",
              "7           5       2           5            3            5"
            ]
          },
          "metadata": {
            "tags": []
          },
          "execution_count": 6
        }
      ]
    },
    {
      "cell_type": "code",
      "metadata": {
        "colab": {
          "base_uri": "https://localhost:8080/",
          "height": 297
        },
        "id": "kpJxCkigdLCc",
        "outputId": "20c88ab1-aec2-43eb-8a5f-00ebfeed3d6d"
      },
      "source": [
        "df_.reset_index(inplace=True) # сделаем переиндексацию без удаления индекса, информация о индексе  ушла в колонку index\n",
        "df_"
      ],
      "execution_count": null,
      "outputs": [
        {
          "output_type": "execute_result",
          "data": {
            "text/html": [
              "<div>\n",
              "<style scoped>\n",
              "    .dataframe tbody tr th:only-of-type {\n",
              "        vertical-align: middle;\n",
              "    }\n",
              "\n",
              "    .dataframe tbody tr th {\n",
              "        vertical-align: top;\n",
              "    }\n",
              "\n",
              "    .dataframe thead th {\n",
              "        text-align: right;\n",
              "    }\n",
              "</style>\n",
              "<table border=\"1\" class=\"dataframe\">\n",
              "  <thead>\n",
              "    <tr style=\"text-align: right;\">\n",
              "      <th></th>\n",
              "      <th>index</th>\n",
              "      <th>МАТЕМАТИКА</th>\n",
              "      <th>ФИЗИКА</th>\n",
              "      <th>ЛИТЕРАТУРА</th>\n",
              "      <th>ФИЗКУЛЬТУРА</th>\n",
              "      <th>ИНФОРМАТИКА</th>\n",
              "    </tr>\n",
              "  </thead>\n",
              "  <tbody>\n",
              "    <tr>\n",
              "      <th>0</th>\n",
              "      <td>Иванов</td>\n",
              "      <td>5</td>\n",
              "      <td>5</td>\n",
              "      <td>4</td>\n",
              "      <td>5</td>\n",
              "      <td>5</td>\n",
              "    </tr>\n",
              "    <tr>\n",
              "      <th>1</th>\n",
              "      <td>Петров</td>\n",
              "      <td>2</td>\n",
              "      <td>4</td>\n",
              "      <td>5</td>\n",
              "      <td>3</td>\n",
              "      <td>5</td>\n",
              "    </tr>\n",
              "    <tr>\n",
              "      <th>2</th>\n",
              "      <td>Сидоров</td>\n",
              "      <td>3</td>\n",
              "      <td>2</td>\n",
              "      <td>4</td>\n",
              "      <td>2</td>\n",
              "      <td>4</td>\n",
              "    </tr>\n",
              "    <tr>\n",
              "      <th>3</th>\n",
              "      <td>Кузнецов</td>\n",
              "      <td>5</td>\n",
              "      <td>3</td>\n",
              "      <td>3</td>\n",
              "      <td>3</td>\n",
              "      <td>5</td>\n",
              "    </tr>\n",
              "    <tr>\n",
              "      <th>4</th>\n",
              "      <td>Попов</td>\n",
              "      <td>4</td>\n",
              "      <td>3</td>\n",
              "      <td>5</td>\n",
              "      <td>4</td>\n",
              "      <td>5</td>\n",
              "    </tr>\n",
              "    <tr>\n",
              "      <th>5</th>\n",
              "      <td>Васильев</td>\n",
              "      <td>5</td>\n",
              "      <td>4</td>\n",
              "      <td>5</td>\n",
              "      <td>5</td>\n",
              "      <td>5</td>\n",
              "    </tr>\n",
              "    <tr>\n",
              "      <th>6</th>\n",
              "      <td>Кондратьев</td>\n",
              "      <td>4</td>\n",
              "      <td>4</td>\n",
              "      <td>4</td>\n",
              "      <td>5</td>\n",
              "      <td>2</td>\n",
              "    </tr>\n",
              "    <tr>\n",
              "      <th>7</th>\n",
              "      <td>Соколов</td>\n",
              "      <td>5</td>\n",
              "      <td>2</td>\n",
              "      <td>5</td>\n",
              "      <td>3</td>\n",
              "      <td>5</td>\n",
              "    </tr>\n",
              "  </tbody>\n",
              "</table>\n",
              "</div>"
            ],
            "text/plain": [
              "        index  МАТЕМАТИКА  ФИЗИКА  ЛИТЕРАТУРА  ФИЗКУЛЬТУРА  ИНФОРМАТИКА\n",
              "0      Иванов           5       5           4            5            5\n",
              "1      Петров           2       4           5            3            5\n",
              "2     Сидоров           3       2           4            2            4\n",
              "3    Кузнецов           5       3           3            3            5\n",
              "4       Попов           4       3           5            4            5\n",
              "5    Васильев           5       4           5            5            5\n",
              "6  Кондратьев           4       4           4            5            2\n",
              "7     Соколов           5       2           5            3            5"
            ]
          },
          "metadata": {
            "tags": []
          },
          "execution_count": 7
        }
      ]
    },
    {
      "cell_type": "code",
      "metadata": {
        "colab": {
          "base_uri": "https://localhost:8080/",
          "height": 328
        },
        "id": "8k1QjG6tdTfO",
        "outputId": "1aec09fc-596d-44e4-9806-120ae7323a27"
      },
      "source": [
        "df_.set_index('index', inplace=True) # установим новый индекс, соответствующий колонке index\n",
        "df_"
      ],
      "execution_count": null,
      "outputs": [
        {
          "output_type": "execute_result",
          "data": {
            "text/html": [
              "<div>\n",
              "<style scoped>\n",
              "    .dataframe tbody tr th:only-of-type {\n",
              "        vertical-align: middle;\n",
              "    }\n",
              "\n",
              "    .dataframe tbody tr th {\n",
              "        vertical-align: top;\n",
              "    }\n",
              "\n",
              "    .dataframe thead th {\n",
              "        text-align: right;\n",
              "    }\n",
              "</style>\n",
              "<table border=\"1\" class=\"dataframe\">\n",
              "  <thead>\n",
              "    <tr style=\"text-align: right;\">\n",
              "      <th></th>\n",
              "      <th>МАТЕМАТИКА</th>\n",
              "      <th>ФИЗИКА</th>\n",
              "      <th>ЛИТЕРАТУРА</th>\n",
              "      <th>ФИЗКУЛЬТУРА</th>\n",
              "      <th>ИНФОРМАТИКА</th>\n",
              "    </tr>\n",
              "    <tr>\n",
              "      <th>index</th>\n",
              "      <th></th>\n",
              "      <th></th>\n",
              "      <th></th>\n",
              "      <th></th>\n",
              "      <th></th>\n",
              "    </tr>\n",
              "  </thead>\n",
              "  <tbody>\n",
              "    <tr>\n",
              "      <th>Иванов</th>\n",
              "      <td>5</td>\n",
              "      <td>5</td>\n",
              "      <td>4</td>\n",
              "      <td>5</td>\n",
              "      <td>5</td>\n",
              "    </tr>\n",
              "    <tr>\n",
              "      <th>Петров</th>\n",
              "      <td>2</td>\n",
              "      <td>4</td>\n",
              "      <td>5</td>\n",
              "      <td>3</td>\n",
              "      <td>5</td>\n",
              "    </tr>\n",
              "    <tr>\n",
              "      <th>Сидоров</th>\n",
              "      <td>3</td>\n",
              "      <td>2</td>\n",
              "      <td>4</td>\n",
              "      <td>2</td>\n",
              "      <td>4</td>\n",
              "    </tr>\n",
              "    <tr>\n",
              "      <th>Кузнецов</th>\n",
              "      <td>5</td>\n",
              "      <td>3</td>\n",
              "      <td>3</td>\n",
              "      <td>3</td>\n",
              "      <td>5</td>\n",
              "    </tr>\n",
              "    <tr>\n",
              "      <th>Попов</th>\n",
              "      <td>4</td>\n",
              "      <td>3</td>\n",
              "      <td>5</td>\n",
              "      <td>4</td>\n",
              "      <td>5</td>\n",
              "    </tr>\n",
              "    <tr>\n",
              "      <th>Васильев</th>\n",
              "      <td>5</td>\n",
              "      <td>4</td>\n",
              "      <td>5</td>\n",
              "      <td>5</td>\n",
              "      <td>5</td>\n",
              "    </tr>\n",
              "    <tr>\n",
              "      <th>Кондратьев</th>\n",
              "      <td>4</td>\n",
              "      <td>4</td>\n",
              "      <td>4</td>\n",
              "      <td>5</td>\n",
              "      <td>2</td>\n",
              "    </tr>\n",
              "    <tr>\n",
              "      <th>Соколов</th>\n",
              "      <td>5</td>\n",
              "      <td>2</td>\n",
              "      <td>5</td>\n",
              "      <td>3</td>\n",
              "      <td>5</td>\n",
              "    </tr>\n",
              "  </tbody>\n",
              "</table>\n",
              "</div>"
            ],
            "text/plain": [
              "            МАТЕМАТИКА  ФИЗИКА  ЛИТЕРАТУРА  ФИЗКУЛЬТУРА  ИНФОРМАТИКА\n",
              "index                                                               \n",
              "Иванов               5       5           4            5            5\n",
              "Петров               2       4           5            3            5\n",
              "Сидоров              3       2           4            2            4\n",
              "Кузнецов             5       3           3            3            5\n",
              "Попов                4       3           5            4            5\n",
              "Васильев             5       4           5            5            5\n",
              "Кондратьев           4       4           4            5            2\n",
              "Соколов              5       2           5            3            5"
            ]
          },
          "metadata": {
            "tags": []
          },
          "execution_count": 8
        }
      ]
    },
    {
      "cell_type": "code",
      "metadata": {
        "colab": {
          "base_uri": "https://localhost:8080/",
          "height": 297
        },
        "id": "WbtJ2qsJWZsk",
        "outputId": "f3c13b77-93d7-4deb-89bb-560e9a09be07"
      },
      "source": [
        "df_.set_index(df.index, inplace=True) # установим новый индекс, соответствующий колонке index\n",
        "df_"
      ],
      "execution_count": null,
      "outputs": [
        {
          "output_type": "execute_result",
          "data": {
            "text/html": [
              "<div>\n",
              "<style scoped>\n",
              "    .dataframe tbody tr th:only-of-type {\n",
              "        vertical-align: middle;\n",
              "    }\n",
              "\n",
              "    .dataframe tbody tr th {\n",
              "        vertical-align: top;\n",
              "    }\n",
              "\n",
              "    .dataframe thead th {\n",
              "        text-align: right;\n",
              "    }\n",
              "</style>\n",
              "<table border=\"1\" class=\"dataframe\">\n",
              "  <thead>\n",
              "    <tr style=\"text-align: right;\">\n",
              "      <th></th>\n",
              "      <th>МАТЕМАТИКА</th>\n",
              "      <th>ФИЗИКА</th>\n",
              "      <th>ЛИТЕРАТУРА</th>\n",
              "      <th>ФИЗКУЛЬТУРА</th>\n",
              "      <th>ИНФОРМАТИКА</th>\n",
              "    </tr>\n",
              "  </thead>\n",
              "  <tbody>\n",
              "    <tr>\n",
              "      <th>Иванов</th>\n",
              "      <td>5</td>\n",
              "      <td>5</td>\n",
              "      <td>4</td>\n",
              "      <td>5</td>\n",
              "      <td>5</td>\n",
              "    </tr>\n",
              "    <tr>\n",
              "      <th>Петров</th>\n",
              "      <td>2</td>\n",
              "      <td>4</td>\n",
              "      <td>5</td>\n",
              "      <td>3</td>\n",
              "      <td>5</td>\n",
              "    </tr>\n",
              "    <tr>\n",
              "      <th>Сидоров</th>\n",
              "      <td>3</td>\n",
              "      <td>2</td>\n",
              "      <td>4</td>\n",
              "      <td>2</td>\n",
              "      <td>4</td>\n",
              "    </tr>\n",
              "    <tr>\n",
              "      <th>Кузнецов</th>\n",
              "      <td>5</td>\n",
              "      <td>3</td>\n",
              "      <td>3</td>\n",
              "      <td>3</td>\n",
              "      <td>5</td>\n",
              "    </tr>\n",
              "    <tr>\n",
              "      <th>Попов</th>\n",
              "      <td>4</td>\n",
              "      <td>3</td>\n",
              "      <td>5</td>\n",
              "      <td>4</td>\n",
              "      <td>5</td>\n",
              "    </tr>\n",
              "    <tr>\n",
              "      <th>Васильев</th>\n",
              "      <td>5</td>\n",
              "      <td>4</td>\n",
              "      <td>5</td>\n",
              "      <td>5</td>\n",
              "      <td>5</td>\n",
              "    </tr>\n",
              "    <tr>\n",
              "      <th>Кондратьев</th>\n",
              "      <td>4</td>\n",
              "      <td>4</td>\n",
              "      <td>4</td>\n",
              "      <td>5</td>\n",
              "      <td>2</td>\n",
              "    </tr>\n",
              "    <tr>\n",
              "      <th>Соколов</th>\n",
              "      <td>5</td>\n",
              "      <td>2</td>\n",
              "      <td>5</td>\n",
              "      <td>3</td>\n",
              "      <td>5</td>\n",
              "    </tr>\n",
              "  </tbody>\n",
              "</table>\n",
              "</div>"
            ],
            "text/plain": [
              "            МАТЕМАТИКА  ФИЗИКА  ЛИТЕРАТУРА  ФИЗКУЛЬТУРА  ИНФОРМАТИКА\n",
              "Иванов               5       5           4            5            5\n",
              "Петров               2       4           5            3            5\n",
              "Сидоров              3       2           4            2            4\n",
              "Кузнецов             5       3           3            3            5\n",
              "Попов                4       3           5            4            5\n",
              "Васильев             5       4           5            5            5\n",
              "Кондратьев           4       4           4            5            2\n",
              "Соколов              5       2           5            3            5"
            ]
          },
          "metadata": {
            "tags": []
          },
          "execution_count": 9
        }
      ]
    },
    {
      "cell_type": "markdown",
      "metadata": {
        "id": "to51d0agvWl6"
      },
      "source": [
        "#  Мультииндекс"
      ]
    },
    {
      "cell_type": "markdown",
      "metadata": {
        "id": "2eeM2JkanpJu"
      },
      "source": [
        "Иерархическое индексирование (мультииндекс) - это важный инструмент Pandas, позволяющий реализовать несколько уровней иерархии вдоль одной оси. Попробуем разобраться что это такое на примерах."
      ]
    },
    {
      "cell_type": "markdown",
      "metadata": {
        "id": "izggYr8sMGam"
      },
      "source": [
        "## Индексирование через индекс, созданный вручную"
      ]
    },
    {
      "cell_type": "markdown",
      "metadata": {
        "id": "djQlD3iZKTYV"
      },
      "source": [
        "! Мы используем загрузку датасетов из своего источника. Рекомендуем вам загружать из него. Однако, если у вас есть свой датасет, можете использовать ячейки ниже, подключить Google Drive, скопировать на него датасет, и не забудьте при загрузке указать свой адрес к файлу датасета, см. занятие по основам Python."
      ]
    },
    {
      "cell_type": "code",
      "metadata": {
        "colab": {
          "base_uri": "https://localhost:8080/"
        },
        "id": "4KEXLQWiqmug",
        "outputId": "62a363be-e56d-4cf9-8910-c49db6cb2359"
      },
      "source": [
        "!wget http://dataudt.ru/datasets/city_temperature.csv"
      ],
      "execution_count": null,
      "outputs": [
        {
          "output_type": "stream",
          "text": [
            "--2021-04-15 09:28:10--  http://dataudt.ru/datasets/city_temperature.csv\n",
            "Resolving dataudt.ru (dataudt.ru)... 37.228.117.130\n",
            "Connecting to dataudt.ru (dataudt.ru)|37.228.117.130|:80... connected.\n",
            "HTTP request sent, awaiting response... 200 OK\n",
            "Length: 140600832 (134M) [application/octet-stream]\n",
            "Saving to: ‘city_temperature.csv’\n",
            "\n",
            "city_temperature.cs 100%[===================>] 134.09M  54.8MB/s    in 2.4s    \n",
            "\n",
            "2021-04-15 09:28:13 (54.8 MB/s) - ‘city_temperature.csv’ saved [140600832/140600832]\n",
            "\n"
          ],
          "name": "stdout"
        }
      ]
    },
    {
      "cell_type": "code",
      "metadata": {
        "colab": {
          "base_uri": "https://localhost:8080/"
        },
        "id": "QGr54e72LY7P",
        "outputId": "e2ef870d-ed41-41a1-d7c0-fc4405a11317"
      },
      "source": [
        "!ls"
      ],
      "execution_count": null,
      "outputs": [
        {
          "output_type": "stream",
          "text": [
            "city_temperature.csv  sample_data\n"
          ],
          "name": "stdout"
        }
      ]
    },
    {
      "cell_type": "code",
      "metadata": {
        "colab": {
          "base_uri": "https://localhost:8080/",
          "height": 258
        },
        "id": "yw4WjGTQKQ2G",
        "outputId": "f164748a-8798-4ef5-9fb8-be282a461930"
      },
      "source": [
        "# загрузим датасет Титаник из csv в DataFrame\n",
        "\n",
        "df_temp = pd.read_csv('/content/city_temperature.csv')\n",
        "df_temp.head() # выведем первые строки"
      ],
      "execution_count": null,
      "outputs": [
        {
          "output_type": "stream",
          "text": [
            "/usr/local/lib/python3.7/dist-packages/IPython/core/interactiveshell.py:2718: DtypeWarning: Columns (2) have mixed types.Specify dtype option on import or set low_memory=False.\n",
            "  interactivity=interactivity, compiler=compiler, result=result)\n"
          ],
          "name": "stderr"
        },
        {
          "output_type": "execute_result",
          "data": {
            "text/html": [
              "<div>\n",
              "<style scoped>\n",
              "    .dataframe tbody tr th:only-of-type {\n",
              "        vertical-align: middle;\n",
              "    }\n",
              "\n",
              "    .dataframe tbody tr th {\n",
              "        vertical-align: top;\n",
              "    }\n",
              "\n",
              "    .dataframe thead th {\n",
              "        text-align: right;\n",
              "    }\n",
              "</style>\n",
              "<table border=\"1\" class=\"dataframe\">\n",
              "  <thead>\n",
              "    <tr style=\"text-align: right;\">\n",
              "      <th></th>\n",
              "      <th>Region</th>\n",
              "      <th>Country</th>\n",
              "      <th>State</th>\n",
              "      <th>City</th>\n",
              "      <th>Month</th>\n",
              "      <th>Day</th>\n",
              "      <th>Year</th>\n",
              "      <th>AvgTemperature</th>\n",
              "    </tr>\n",
              "  </thead>\n",
              "  <tbody>\n",
              "    <tr>\n",
              "      <th>0</th>\n",
              "      <td>Africa</td>\n",
              "      <td>Algeria</td>\n",
              "      <td>NaN</td>\n",
              "      <td>Algiers</td>\n",
              "      <td>1</td>\n",
              "      <td>1</td>\n",
              "      <td>1995</td>\n",
              "      <td>64.2</td>\n",
              "    </tr>\n",
              "    <tr>\n",
              "      <th>1</th>\n",
              "      <td>Africa</td>\n",
              "      <td>Algeria</td>\n",
              "      <td>NaN</td>\n",
              "      <td>Algiers</td>\n",
              "      <td>1</td>\n",
              "      <td>2</td>\n",
              "      <td>1995</td>\n",
              "      <td>49.4</td>\n",
              "    </tr>\n",
              "    <tr>\n",
              "      <th>2</th>\n",
              "      <td>Africa</td>\n",
              "      <td>Algeria</td>\n",
              "      <td>NaN</td>\n",
              "      <td>Algiers</td>\n",
              "      <td>1</td>\n",
              "      <td>3</td>\n",
              "      <td>1995</td>\n",
              "      <td>48.8</td>\n",
              "    </tr>\n",
              "    <tr>\n",
              "      <th>3</th>\n",
              "      <td>Africa</td>\n",
              "      <td>Algeria</td>\n",
              "      <td>NaN</td>\n",
              "      <td>Algiers</td>\n",
              "      <td>1</td>\n",
              "      <td>4</td>\n",
              "      <td>1995</td>\n",
              "      <td>46.4</td>\n",
              "    </tr>\n",
              "    <tr>\n",
              "      <th>4</th>\n",
              "      <td>Africa</td>\n",
              "      <td>Algeria</td>\n",
              "      <td>NaN</td>\n",
              "      <td>Algiers</td>\n",
              "      <td>1</td>\n",
              "      <td>5</td>\n",
              "      <td>1995</td>\n",
              "      <td>47.9</td>\n",
              "    </tr>\n",
              "  </tbody>\n",
              "</table>\n",
              "</div>"
            ],
            "text/plain": [
              "   Region  Country State     City  Month  Day  Year  AvgTemperature\n",
              "0  Africa  Algeria   NaN  Algiers      1    1  1995            64.2\n",
              "1  Africa  Algeria   NaN  Algiers      1    2  1995            49.4\n",
              "2  Africa  Algeria   NaN  Algiers      1    3  1995            48.8\n",
              "3  Africa  Algeria   NaN  Algiers      1    4  1995            46.4\n",
              "4  Africa  Algeria   NaN  Algiers      1    5  1995            47.9"
            ]
          },
          "metadata": {
            "tags": []
          },
          "execution_count": 12
        }
      ]
    },
    {
      "cell_type": "markdown",
      "metadata": {
        "id": "uO_mmdCfLCi6"
      },
      "source": [
        "Вот эти 2 ячейки ниже можно использовать чтобы загрузить данные. Не забудьте изменить путь к файлу. Если не хотите менять путь, нужно предварительно на Google Drive создать папку datasets, и уже в неё скопировать файлы датасетов.\n"
      ]
    },
    {
      "cell_type": "code",
      "metadata": {
        "id": "RDvFcj3CjnxG"
      },
      "source": [
        "# подключаем Google Drive - будем скачивать с него, т.к. намного быстрее\n",
        "# файлы предварительно уже записали на Google Drive\n",
        "# после запуска переходим по ссылке, которая появится, для идентификации\n",
        "# копируем оттуда код authorization code и вставляем здесь в окошко\n",
        "# Вам нужно создать собственные папки, указать собственный путь, какой у Вас к файлам\n",
        "\n",
        "#from google.colab import drive\n",
        "#drive.mount('/content/drive')"
      ],
      "execution_count": null,
      "outputs": []
    },
    {
      "cell_type": "code",
      "metadata": {
        "id": "s-EUa9Duvc3V"
      },
      "source": [
        "# прочитаем наш DataFrame из CSV файла\n",
        "\n",
        "#df_temp = pd.read_csv('/content/drive/MyDrive/datasets/city_temperature.csv', low_memory=False)\n",
        "#df_temp.head()"
      ],
      "execution_count": null,
      "outputs": []
    },
    {
      "cell_type": "code",
      "metadata": {
        "id": "aWYec89z_NPg"
      },
      "source": [
        "# создадим колонку для хранения средней температуры с градусах Цельсия\n",
        "df_temp['AvgTemperatureC'] = round((df_temp['AvgTemperature'] - 32)*5/9, 1)"
      ],
      "execution_count": null,
      "outputs": []
    },
    {
      "cell_type": "code",
      "metadata": {
        "colab": {
          "base_uri": "https://localhost:8080/",
          "height": 204
        },
        "id": "T8DC-DML_NfF",
        "outputId": "b9d82213-cde4-4f5b-e96d-6f2450e5e877"
      },
      "source": [
        "# посмотрим на первые строки DataFrame\n",
        "df_temp.head()"
      ],
      "execution_count": null,
      "outputs": [
        {
          "output_type": "execute_result",
          "data": {
            "text/html": [
              "<div>\n",
              "<style scoped>\n",
              "    .dataframe tbody tr th:only-of-type {\n",
              "        vertical-align: middle;\n",
              "    }\n",
              "\n",
              "    .dataframe tbody tr th {\n",
              "        vertical-align: top;\n",
              "    }\n",
              "\n",
              "    .dataframe thead th {\n",
              "        text-align: right;\n",
              "    }\n",
              "</style>\n",
              "<table border=\"1\" class=\"dataframe\">\n",
              "  <thead>\n",
              "    <tr style=\"text-align: right;\">\n",
              "      <th></th>\n",
              "      <th>Region</th>\n",
              "      <th>Country</th>\n",
              "      <th>State</th>\n",
              "      <th>City</th>\n",
              "      <th>Month</th>\n",
              "      <th>Day</th>\n",
              "      <th>Year</th>\n",
              "      <th>AvgTemperature</th>\n",
              "      <th>AvgTemperatureC</th>\n",
              "    </tr>\n",
              "  </thead>\n",
              "  <tbody>\n",
              "    <tr>\n",
              "      <th>0</th>\n",
              "      <td>Africa</td>\n",
              "      <td>Algeria</td>\n",
              "      <td>NaN</td>\n",
              "      <td>Algiers</td>\n",
              "      <td>1</td>\n",
              "      <td>1</td>\n",
              "      <td>1995</td>\n",
              "      <td>64.2</td>\n",
              "      <td>17.9</td>\n",
              "    </tr>\n",
              "    <tr>\n",
              "      <th>1</th>\n",
              "      <td>Africa</td>\n",
              "      <td>Algeria</td>\n",
              "      <td>NaN</td>\n",
              "      <td>Algiers</td>\n",
              "      <td>1</td>\n",
              "      <td>2</td>\n",
              "      <td>1995</td>\n",
              "      <td>49.4</td>\n",
              "      <td>9.7</td>\n",
              "    </tr>\n",
              "    <tr>\n",
              "      <th>2</th>\n",
              "      <td>Africa</td>\n",
              "      <td>Algeria</td>\n",
              "      <td>NaN</td>\n",
              "      <td>Algiers</td>\n",
              "      <td>1</td>\n",
              "      <td>3</td>\n",
              "      <td>1995</td>\n",
              "      <td>48.8</td>\n",
              "      <td>9.3</td>\n",
              "    </tr>\n",
              "    <tr>\n",
              "      <th>3</th>\n",
              "      <td>Africa</td>\n",
              "      <td>Algeria</td>\n",
              "      <td>NaN</td>\n",
              "      <td>Algiers</td>\n",
              "      <td>1</td>\n",
              "      <td>4</td>\n",
              "      <td>1995</td>\n",
              "      <td>46.4</td>\n",
              "      <td>8.0</td>\n",
              "    </tr>\n",
              "    <tr>\n",
              "      <th>4</th>\n",
              "      <td>Africa</td>\n",
              "      <td>Algeria</td>\n",
              "      <td>NaN</td>\n",
              "      <td>Algiers</td>\n",
              "      <td>1</td>\n",
              "      <td>5</td>\n",
              "      <td>1995</td>\n",
              "      <td>47.9</td>\n",
              "      <td>8.8</td>\n",
              "    </tr>\n",
              "  </tbody>\n",
              "</table>\n",
              "</div>"
            ],
            "text/plain": [
              "   Region  Country State     City  ...  Day  Year  AvgTemperature  AvgTemperatureC\n",
              "0  Africa  Algeria   NaN  Algiers  ...    1  1995            64.2             17.9\n",
              "1  Africa  Algeria   NaN  Algiers  ...    2  1995            49.4              9.7\n",
              "2  Africa  Algeria   NaN  Algiers  ...    3  1995            48.8              9.3\n",
              "3  Africa  Algeria   NaN  Algiers  ...    4  1995            46.4              8.0\n",
              "4  Africa  Algeria   NaN  Algiers  ...    5  1995            47.9              8.8\n",
              "\n",
              "[5 rows x 9 columns]"
            ]
          },
          "metadata": {
            "tags": []
          },
          "execution_count": 16
        }
      ]
    },
    {
      "cell_type": "code",
      "metadata": {
        "colab": {
          "base_uri": "https://localhost:8080/",
          "height": 204
        },
        "id": "Uo0ncxC7JuGW",
        "outputId": "b7548fe0-151b-496b-a293-070a0849dfc7"
      },
      "source": [
        "# отсортируем значения по Региону, Стране, Городу, Году\n",
        "df_temp.sort_values(['Region', 'Country', 'City', 'Year'],  axis='rows', inplace=True)\n",
        "df_temp.head()"
      ],
      "execution_count": null,
      "outputs": [
        {
          "output_type": "execute_result",
          "data": {
            "text/html": [
              "<div>\n",
              "<style scoped>\n",
              "    .dataframe tbody tr th:only-of-type {\n",
              "        vertical-align: middle;\n",
              "    }\n",
              "\n",
              "    .dataframe tbody tr th {\n",
              "        vertical-align: top;\n",
              "    }\n",
              "\n",
              "    .dataframe thead th {\n",
              "        text-align: right;\n",
              "    }\n",
              "</style>\n",
              "<table border=\"1\" class=\"dataframe\">\n",
              "  <thead>\n",
              "    <tr style=\"text-align: right;\">\n",
              "      <th></th>\n",
              "      <th>Region</th>\n",
              "      <th>Country</th>\n",
              "      <th>State</th>\n",
              "      <th>City</th>\n",
              "      <th>Month</th>\n",
              "      <th>Day</th>\n",
              "      <th>Year</th>\n",
              "      <th>AvgTemperature</th>\n",
              "      <th>AvgTemperatureC</th>\n",
              "    </tr>\n",
              "  </thead>\n",
              "  <tbody>\n",
              "    <tr>\n",
              "      <th>0</th>\n",
              "      <td>Africa</td>\n",
              "      <td>Algeria</td>\n",
              "      <td>NaN</td>\n",
              "      <td>Algiers</td>\n",
              "      <td>1</td>\n",
              "      <td>1</td>\n",
              "      <td>1995</td>\n",
              "      <td>64.2</td>\n",
              "      <td>17.9</td>\n",
              "    </tr>\n",
              "    <tr>\n",
              "      <th>1</th>\n",
              "      <td>Africa</td>\n",
              "      <td>Algeria</td>\n",
              "      <td>NaN</td>\n",
              "      <td>Algiers</td>\n",
              "      <td>1</td>\n",
              "      <td>2</td>\n",
              "      <td>1995</td>\n",
              "      <td>49.4</td>\n",
              "      <td>9.7</td>\n",
              "    </tr>\n",
              "    <tr>\n",
              "      <th>2</th>\n",
              "      <td>Africa</td>\n",
              "      <td>Algeria</td>\n",
              "      <td>NaN</td>\n",
              "      <td>Algiers</td>\n",
              "      <td>1</td>\n",
              "      <td>3</td>\n",
              "      <td>1995</td>\n",
              "      <td>48.8</td>\n",
              "      <td>9.3</td>\n",
              "    </tr>\n",
              "    <tr>\n",
              "      <th>3</th>\n",
              "      <td>Africa</td>\n",
              "      <td>Algeria</td>\n",
              "      <td>NaN</td>\n",
              "      <td>Algiers</td>\n",
              "      <td>1</td>\n",
              "      <td>4</td>\n",
              "      <td>1995</td>\n",
              "      <td>46.4</td>\n",
              "      <td>8.0</td>\n",
              "    </tr>\n",
              "    <tr>\n",
              "      <th>4</th>\n",
              "      <td>Africa</td>\n",
              "      <td>Algeria</td>\n",
              "      <td>NaN</td>\n",
              "      <td>Algiers</td>\n",
              "      <td>1</td>\n",
              "      <td>5</td>\n",
              "      <td>1995</td>\n",
              "      <td>47.9</td>\n",
              "      <td>8.8</td>\n",
              "    </tr>\n",
              "  </tbody>\n",
              "</table>\n",
              "</div>"
            ],
            "text/plain": [
              "   Region  Country State     City  ...  Day  Year  AvgTemperature  AvgTemperatureC\n",
              "0  Africa  Algeria   NaN  Algiers  ...    1  1995            64.2             17.9\n",
              "1  Africa  Algeria   NaN  Algiers  ...    2  1995            49.4              9.7\n",
              "2  Africa  Algeria   NaN  Algiers  ...    3  1995            48.8              9.3\n",
              "3  Africa  Algeria   NaN  Algiers  ...    4  1995            46.4              8.0\n",
              "4  Africa  Algeria   NaN  Algiers  ...    5  1995            47.9              8.8\n",
              "\n",
              "[5 rows x 9 columns]"
            ]
          },
          "metadata": {
            "tags": []
          },
          "execution_count": 17
        }
      ]
    },
    {
      "cell_type": "code",
      "metadata": {
        "id": "WIlutwZaDNSf"
      },
      "source": [
        "# создадим Мультииндекс, содержащий информацию о Регионе, Стране, Городе, Годе\n",
        "multiindex = pd.MultiIndex.from_tuples(list(zip(df_temp['Region'], df_temp['Country'], df_temp['City'], df_temp['Year'])))"
      ],
      "execution_count": null,
      "outputs": []
    },
    {
      "cell_type": "code",
      "metadata": {
        "colab": {
          "base_uri": "https://localhost:8080/"
        },
        "id": "osB8XEg579EO",
        "outputId": "0e02ad7d-64a0-404f-d1e7-796c999963e8"
      },
      "source": [
        "multiindex[0] # выведем первую запись мультииндекса что-бы понять что у него внутри"
      ],
      "execution_count": null,
      "outputs": [
        {
          "output_type": "execute_result",
          "data": {
            "text/plain": [
              "('Africa', 'Algeria', 'Algiers', 1995)"
            ]
          },
          "metadata": {
            "tags": []
          },
          "execution_count": 19
        }
      ]
    },
    {
      "cell_type": "code",
      "metadata": {
        "colab": {
          "base_uri": "https://localhost:8080/"
        },
        "id": "pv977e0U8PFj",
        "outputId": "2fa14083-f0de-4b5b-9c1e-dd1015708c98"
      },
      "source": [
        "multiindex # и посмортим на мультииндекс целиком"
      ],
      "execution_count": null,
      "outputs": [
        {
          "output_type": "execute_result",
          "data": {
            "text/plain": [
              "MultiIndex([(                           'Africa',   'Algeria', 'Algiers', ...),\n",
              "            (                           'Africa',   'Algeria', 'Algiers', ...),\n",
              "            (                           'Africa',   'Algeria', 'Algiers', ...),\n",
              "            (                           'Africa',   'Algeria', 'Algiers', ...),\n",
              "            (                           'Africa',   'Algeria', 'Algiers', ...),\n",
              "            (                           'Africa',   'Algeria', 'Algiers', ...),\n",
              "            (                           'Africa',   'Algeria', 'Algiers', ...),\n",
              "            (                           'Africa',   'Algeria', 'Algiers', ...),\n",
              "            (                           'Africa',   'Algeria', 'Algiers', ...),\n",
              "            (                           'Africa',   'Algeria', 'Algiers', ...),\n",
              "            ...\n",
              "            ('South/Central America & Carribean', 'Venezuela', 'Caracas', ...),\n",
              "            ('South/Central America & Carribean', 'Venezuela', 'Caracas', ...),\n",
              "            ('South/Central America & Carribean', 'Venezuela', 'Caracas', ...),\n",
              "            ('South/Central America & Carribean', 'Venezuela', 'Caracas', ...),\n",
              "            ('South/Central America & Carribean', 'Venezuela', 'Caracas', ...),\n",
              "            ('South/Central America & Carribean', 'Venezuela', 'Caracas', ...),\n",
              "            ('South/Central America & Carribean', 'Venezuela', 'Caracas', ...),\n",
              "            ('South/Central America & Carribean', 'Venezuela', 'Caracas', ...),\n",
              "            ('South/Central America & Carribean', 'Venezuela', 'Caracas', ...),\n",
              "            ('South/Central America & Carribean', 'Venezuela', 'Caracas', ...)],\n",
              "           length=2906327)"
            ]
          },
          "metadata": {
            "tags": []
          },
          "execution_count": 20
        }
      ]
    },
    {
      "cell_type": "code",
      "metadata": {
        "colab": {
          "base_uri": "https://localhost:8080/",
          "height": 669
        },
        "id": "czET8E-BEEXz",
        "outputId": "17714913-6167-4592-add6-e1dc3c15f405"
      },
      "source": [
        "# создадим новый DataFrame, в котором будем использовать новый мультииндекс\n",
        "df_mi = df_temp.set_index(multiindex)\n",
        "df_mi = df_mi[['Month', 'Day', 'AvgTemperatureC']] # оставим только нужные колонки\n",
        "df_mi.head(20) # выведем первые 20 значений полученного DataFrame"
      ],
      "execution_count": null,
      "outputs": [
        {
          "output_type": "execute_result",
          "data": {
            "text/html": [
              "<div>\n",
              "<style scoped>\n",
              "    .dataframe tbody tr th:only-of-type {\n",
              "        vertical-align: middle;\n",
              "    }\n",
              "\n",
              "    .dataframe tbody tr th {\n",
              "        vertical-align: top;\n",
              "    }\n",
              "\n",
              "    .dataframe thead th {\n",
              "        text-align: right;\n",
              "    }\n",
              "</style>\n",
              "<table border=\"1\" class=\"dataframe\">\n",
              "  <thead>\n",
              "    <tr style=\"text-align: right;\">\n",
              "      <th></th>\n",
              "      <th></th>\n",
              "      <th></th>\n",
              "      <th></th>\n",
              "      <th>Month</th>\n",
              "      <th>Day</th>\n",
              "      <th>AvgTemperatureC</th>\n",
              "    </tr>\n",
              "  </thead>\n",
              "  <tbody>\n",
              "    <tr>\n",
              "      <th rowspan=\"20\" valign=\"top\">Africa</th>\n",
              "      <th rowspan=\"20\" valign=\"top\">Algeria</th>\n",
              "      <th rowspan=\"20\" valign=\"top\">Algiers</th>\n",
              "      <th>1995</th>\n",
              "      <td>1</td>\n",
              "      <td>1</td>\n",
              "      <td>17.9</td>\n",
              "    </tr>\n",
              "    <tr>\n",
              "      <th>1995</th>\n",
              "      <td>1</td>\n",
              "      <td>2</td>\n",
              "      <td>9.7</td>\n",
              "    </tr>\n",
              "    <tr>\n",
              "      <th>1995</th>\n",
              "      <td>1</td>\n",
              "      <td>3</td>\n",
              "      <td>9.3</td>\n",
              "    </tr>\n",
              "    <tr>\n",
              "      <th>1995</th>\n",
              "      <td>1</td>\n",
              "      <td>4</td>\n",
              "      <td>8.0</td>\n",
              "    </tr>\n",
              "    <tr>\n",
              "      <th>1995</th>\n",
              "      <td>1</td>\n",
              "      <td>5</td>\n",
              "      <td>8.8</td>\n",
              "    </tr>\n",
              "    <tr>\n",
              "      <th>1995</th>\n",
              "      <td>1</td>\n",
              "      <td>6</td>\n",
              "      <td>9.3</td>\n",
              "    </tr>\n",
              "    <tr>\n",
              "      <th>1995</th>\n",
              "      <td>1</td>\n",
              "      <td>7</td>\n",
              "      <td>9.4</td>\n",
              "    </tr>\n",
              "    <tr>\n",
              "      <th>1995</th>\n",
              "      <td>1</td>\n",
              "      <td>8</td>\n",
              "      <td>9.5</td>\n",
              "    </tr>\n",
              "    <tr>\n",
              "      <th>1995</th>\n",
              "      <td>1</td>\n",
              "      <td>9</td>\n",
              "      <td>9.4</td>\n",
              "    </tr>\n",
              "    <tr>\n",
              "      <th>1995</th>\n",
              "      <td>1</td>\n",
              "      <td>10</td>\n",
              "      <td>11.1</td>\n",
              "    </tr>\n",
              "    <tr>\n",
              "      <th>1995</th>\n",
              "      <td>1</td>\n",
              "      <td>11</td>\n",
              "      <td>10.9</td>\n",
              "    </tr>\n",
              "    <tr>\n",
              "      <th>1995</th>\n",
              "      <td>1</td>\n",
              "      <td>12</td>\n",
              "      <td>10.7</td>\n",
              "    </tr>\n",
              "    <tr>\n",
              "      <th>1995</th>\n",
              "      <td>1</td>\n",
              "      <td>13</td>\n",
              "      <td>8.3</td>\n",
              "    </tr>\n",
              "    <tr>\n",
              "      <th>1995</th>\n",
              "      <td>1</td>\n",
              "      <td>14</td>\n",
              "      <td>8.3</td>\n",
              "    </tr>\n",
              "    <tr>\n",
              "      <th>1995</th>\n",
              "      <td>1</td>\n",
              "      <td>15</td>\n",
              "      <td>8.6</td>\n",
              "    </tr>\n",
              "    <tr>\n",
              "      <th>1995</th>\n",
              "      <td>1</td>\n",
              "      <td>16</td>\n",
              "      <td>7.7</td>\n",
              "    </tr>\n",
              "    <tr>\n",
              "      <th>1995</th>\n",
              "      <td>1</td>\n",
              "      <td>17</td>\n",
              "      <td>6.9</td>\n",
              "    </tr>\n",
              "    <tr>\n",
              "      <th>1995</th>\n",
              "      <td>1</td>\n",
              "      <td>18</td>\n",
              "      <td>10.4</td>\n",
              "    </tr>\n",
              "    <tr>\n",
              "      <th>1995</th>\n",
              "      <td>1</td>\n",
              "      <td>19</td>\n",
              "      <td>12.2</td>\n",
              "    </tr>\n",
              "    <tr>\n",
              "      <th>1995</th>\n",
              "      <td>1</td>\n",
              "      <td>20</td>\n",
              "      <td>11.4</td>\n",
              "    </tr>\n",
              "  </tbody>\n",
              "</table>\n",
              "</div>"
            ],
            "text/plain": [
              "                             Month  Day  AvgTemperatureC\n",
              "Africa Algeria Algiers 1995      1    1             17.9\n",
              "                       1995      1    2              9.7\n",
              "                       1995      1    3              9.3\n",
              "                       1995      1    4              8.0\n",
              "                       1995      1    5              8.8\n",
              "                       1995      1    6              9.3\n",
              "                       1995      1    7              9.4\n",
              "                       1995      1    8              9.5\n",
              "                       1995      1    9              9.4\n",
              "                       1995      1   10             11.1\n",
              "                       1995      1   11             10.9\n",
              "                       1995      1   12             10.7\n",
              "                       1995      1   13              8.3\n",
              "                       1995      1   14              8.3\n",
              "                       1995      1   15              8.6\n",
              "                       1995      1   16              7.7\n",
              "                       1995      1   17              6.9\n",
              "                       1995      1   18             10.4\n",
              "                       1995      1   19             12.2\n",
              "                       1995      1   20             11.4"
            ]
          },
          "metadata": {
            "tags": []
          },
          "execution_count": 21
        }
      ]
    },
    {
      "cell_type": "code",
      "metadata": {
        "colab": {
          "base_uri": "https://localhost:8080/",
          "height": 419
        },
        "id": "Whhhh9ozEenS",
        "outputId": "cd557c23-ddfd-4326-c522-85f1ea3e9a26"
      },
      "source": [
        "df_mi.loc['Europe'] # отберем значения из региона Европа"
      ],
      "execution_count": null,
      "outputs": [
        {
          "output_type": "execute_result",
          "data": {
            "text/html": [
              "<div>\n",
              "<style scoped>\n",
              "    .dataframe tbody tr th:only-of-type {\n",
              "        vertical-align: middle;\n",
              "    }\n",
              "\n",
              "    .dataframe tbody tr th {\n",
              "        vertical-align: top;\n",
              "    }\n",
              "\n",
              "    .dataframe thead th {\n",
              "        text-align: right;\n",
              "    }\n",
              "</style>\n",
              "<table border=\"1\" class=\"dataframe\">\n",
              "  <thead>\n",
              "    <tr style=\"text-align: right;\">\n",
              "      <th></th>\n",
              "      <th></th>\n",
              "      <th></th>\n",
              "      <th>Month</th>\n",
              "      <th>Day</th>\n",
              "      <th>AvgTemperatureC</th>\n",
              "    </tr>\n",
              "  </thead>\n",
              "  <tbody>\n",
              "    <tr>\n",
              "      <th rowspan=\"5\" valign=\"top\">Albania</th>\n",
              "      <th rowspan=\"5\" valign=\"top\">Tirana</th>\n",
              "      <th>1995</th>\n",
              "      <td>1</td>\n",
              "      <td>1</td>\n",
              "      <td>-72.8</td>\n",
              "    </tr>\n",
              "    <tr>\n",
              "      <th>1995</th>\n",
              "      <td>1</td>\n",
              "      <td>2</td>\n",
              "      <td>-72.8</td>\n",
              "    </tr>\n",
              "    <tr>\n",
              "      <th>1995</th>\n",
              "      <td>1</td>\n",
              "      <td>3</td>\n",
              "      <td>-72.8</td>\n",
              "    </tr>\n",
              "    <tr>\n",
              "      <th>1995</th>\n",
              "      <td>1</td>\n",
              "      <td>4</td>\n",
              "      <td>-72.8</td>\n",
              "    </tr>\n",
              "    <tr>\n",
              "      <th>1995</th>\n",
              "      <td>1</td>\n",
              "      <td>5</td>\n",
              "      <td>-72.8</td>\n",
              "    </tr>\n",
              "    <tr>\n",
              "      <th>...</th>\n",
              "      <th>...</th>\n",
              "      <th>...</th>\n",
              "      <td>...</td>\n",
              "      <td>...</td>\n",
              "      <td>...</td>\n",
              "    </tr>\n",
              "    <tr>\n",
              "      <th rowspan=\"5\" valign=\"top\">Yugoslavia</th>\n",
              "      <th rowspan=\"5\" valign=\"top\">Belgrade</th>\n",
              "      <th>2020</th>\n",
              "      <td>5</td>\n",
              "      <td>9</td>\n",
              "      <td>19.0</td>\n",
              "    </tr>\n",
              "    <tr>\n",
              "      <th>2020</th>\n",
              "      <td>5</td>\n",
              "      <td>10</td>\n",
              "      <td>21.5</td>\n",
              "    </tr>\n",
              "    <tr>\n",
              "      <th>2020</th>\n",
              "      <td>5</td>\n",
              "      <td>11</td>\n",
              "      <td>22.5</td>\n",
              "    </tr>\n",
              "    <tr>\n",
              "      <th>2020</th>\n",
              "      <td>5</td>\n",
              "      <td>12</td>\n",
              "      <td>16.4</td>\n",
              "    </tr>\n",
              "    <tr>\n",
              "      <th>2020</th>\n",
              "      <td>5</td>\n",
              "      <td>13</td>\n",
              "      <td>11.0</td>\n",
              "    </tr>\n",
              "  </tbody>\n",
              "</table>\n",
              "<p>381990 rows × 3 columns</p>\n",
              "</div>"
            ],
            "text/plain": [
              "                          Month  Day  AvgTemperatureC\n",
              "Albania    Tirana   1995      1    1            -72.8\n",
              "                    1995      1    2            -72.8\n",
              "                    1995      1    3            -72.8\n",
              "                    1995      1    4            -72.8\n",
              "                    1995      1    5            -72.8\n",
              "...                         ...  ...              ...\n",
              "Yugoslavia Belgrade 2020      5    9             19.0\n",
              "                    2020      5   10             21.5\n",
              "                    2020      5   11             22.5\n",
              "                    2020      5   12             16.4\n",
              "                    2020      5   13             11.0\n",
              "\n",
              "[381990 rows x 3 columns]"
            ]
          },
          "metadata": {
            "tags": []
          },
          "execution_count": 22
        }
      ]
    },
    {
      "cell_type": "code",
      "metadata": {
        "colab": {
          "base_uri": "https://localhost:8080/",
          "height": 419
        },
        "id": "bb-5jBZAJuW4",
        "outputId": "cd2a20f6-6bc6-4602-9fe8-028c148552d4"
      },
      "source": [
        "df_mi.loc['Europe', 'Switzerland'] # отберем значения из региона Европа, страна Швейцария"
      ],
      "execution_count": null,
      "outputs": [
        {
          "output_type": "execute_result",
          "data": {
            "text/html": [
              "<div>\n",
              "<style scoped>\n",
              "    .dataframe tbody tr th:only-of-type {\n",
              "        vertical-align: middle;\n",
              "    }\n",
              "\n",
              "    .dataframe tbody tr th {\n",
              "        vertical-align: top;\n",
              "    }\n",
              "\n",
              "    .dataframe thead th {\n",
              "        text-align: right;\n",
              "    }\n",
              "</style>\n",
              "<table border=\"1\" class=\"dataframe\">\n",
              "  <thead>\n",
              "    <tr style=\"text-align: right;\">\n",
              "      <th></th>\n",
              "      <th></th>\n",
              "      <th>Month</th>\n",
              "      <th>Day</th>\n",
              "      <th>AvgTemperatureC</th>\n",
              "    </tr>\n",
              "  </thead>\n",
              "  <tbody>\n",
              "    <tr>\n",
              "      <th rowspan=\"5\" valign=\"top\">Bern</th>\n",
              "      <th>1995</th>\n",
              "      <td>1</td>\n",
              "      <td>1</td>\n",
              "      <td>1.9</td>\n",
              "    </tr>\n",
              "    <tr>\n",
              "      <th>1995</th>\n",
              "      <td>1</td>\n",
              "      <td>2</td>\n",
              "      <td>-2.3</td>\n",
              "    </tr>\n",
              "    <tr>\n",
              "      <th>1995</th>\n",
              "      <td>1</td>\n",
              "      <td>3</td>\n",
              "      <td>-4.0</td>\n",
              "    </tr>\n",
              "    <tr>\n",
              "      <th>1995</th>\n",
              "      <td>1</td>\n",
              "      <td>4</td>\n",
              "      <td>-7.9</td>\n",
              "    </tr>\n",
              "    <tr>\n",
              "      <th>1995</th>\n",
              "      <td>1</td>\n",
              "      <td>5</td>\n",
              "      <td>-12.6</td>\n",
              "    </tr>\n",
              "    <tr>\n",
              "      <th>...</th>\n",
              "      <th>...</th>\n",
              "      <td>...</td>\n",
              "      <td>...</td>\n",
              "      <td>...</td>\n",
              "    </tr>\n",
              "    <tr>\n",
              "      <th rowspan=\"5\" valign=\"top\">Zurich</th>\n",
              "      <th>2020</th>\n",
              "      <td>5</td>\n",
              "      <td>9</td>\n",
              "      <td>19.5</td>\n",
              "    </tr>\n",
              "    <tr>\n",
              "      <th>2020</th>\n",
              "      <td>5</td>\n",
              "      <td>10</td>\n",
              "      <td>18.2</td>\n",
              "    </tr>\n",
              "    <tr>\n",
              "      <th>2020</th>\n",
              "      <td>5</td>\n",
              "      <td>11</td>\n",
              "      <td>11.1</td>\n",
              "    </tr>\n",
              "    <tr>\n",
              "      <th>2020</th>\n",
              "      <td>5</td>\n",
              "      <td>12</td>\n",
              "      <td>6.4</td>\n",
              "    </tr>\n",
              "    <tr>\n",
              "      <th>2020</th>\n",
              "      <td>5</td>\n",
              "      <td>13</td>\n",
              "      <td>7.0</td>\n",
              "    </tr>\n",
              "  </tbody>\n",
              "</table>\n",
              "<p>27798 rows × 3 columns</p>\n",
              "</div>"
            ],
            "text/plain": [
              "             Month  Day  AvgTemperatureC\n",
              "Bern   1995      1    1              1.9\n",
              "       1995      1    2             -2.3\n",
              "       1995      1    3             -4.0\n",
              "       1995      1    4             -7.9\n",
              "       1995      1    5            -12.6\n",
              "...            ...  ...              ...\n",
              "Zurich 2020      5    9             19.5\n",
              "       2020      5   10             18.2\n",
              "       2020      5   11             11.1\n",
              "       2020      5   12              6.4\n",
              "       2020      5   13              7.0\n",
              "\n",
              "[27798 rows x 3 columns]"
            ]
          },
          "metadata": {
            "tags": []
          },
          "execution_count": 23
        }
      ]
    },
    {
      "cell_type": "code",
      "metadata": {
        "colab": {
          "base_uri": "https://localhost:8080/",
          "height": 419
        },
        "id": "89T0kLn5LdA2",
        "outputId": "db10e457-2d34-4642-9c41-aeee546cb53d"
      },
      "source": [
        "df_mi.loc['Europe', 'Switzerland', 'Zurich'] # отберем значения из региона Европа, страна Швейцария, город Цюрих"
      ],
      "execution_count": null,
      "outputs": [
        {
          "output_type": "execute_result",
          "data": {
            "text/html": [
              "<div>\n",
              "<style scoped>\n",
              "    .dataframe tbody tr th:only-of-type {\n",
              "        vertical-align: middle;\n",
              "    }\n",
              "\n",
              "    .dataframe tbody tr th {\n",
              "        vertical-align: top;\n",
              "    }\n",
              "\n",
              "    .dataframe thead th {\n",
              "        text-align: right;\n",
              "    }\n",
              "</style>\n",
              "<table border=\"1\" class=\"dataframe\">\n",
              "  <thead>\n",
              "    <tr style=\"text-align: right;\">\n",
              "      <th></th>\n",
              "      <th>Month</th>\n",
              "      <th>Day</th>\n",
              "      <th>AvgTemperatureC</th>\n",
              "    </tr>\n",
              "  </thead>\n",
              "  <tbody>\n",
              "    <tr>\n",
              "      <th>1995</th>\n",
              "      <td>1</td>\n",
              "      <td>1</td>\n",
              "      <td>1.3</td>\n",
              "    </tr>\n",
              "    <tr>\n",
              "      <th>1995</th>\n",
              "      <td>1</td>\n",
              "      <td>2</td>\n",
              "      <td>-2.3</td>\n",
              "    </tr>\n",
              "    <tr>\n",
              "      <th>1995</th>\n",
              "      <td>1</td>\n",
              "      <td>3</td>\n",
              "      <td>-2.9</td>\n",
              "    </tr>\n",
              "    <tr>\n",
              "      <th>1995</th>\n",
              "      <td>1</td>\n",
              "      <td>4</td>\n",
              "      <td>-5.4</td>\n",
              "    </tr>\n",
              "    <tr>\n",
              "      <th>1995</th>\n",
              "      <td>1</td>\n",
              "      <td>5</td>\n",
              "      <td>-8.3</td>\n",
              "    </tr>\n",
              "    <tr>\n",
              "      <th>...</th>\n",
              "      <td>...</td>\n",
              "      <td>...</td>\n",
              "      <td>...</td>\n",
              "    </tr>\n",
              "    <tr>\n",
              "      <th>2020</th>\n",
              "      <td>5</td>\n",
              "      <td>9</td>\n",
              "      <td>19.5</td>\n",
              "    </tr>\n",
              "    <tr>\n",
              "      <th>2020</th>\n",
              "      <td>5</td>\n",
              "      <td>10</td>\n",
              "      <td>18.2</td>\n",
              "    </tr>\n",
              "    <tr>\n",
              "      <th>2020</th>\n",
              "      <td>5</td>\n",
              "      <td>11</td>\n",
              "      <td>11.1</td>\n",
              "    </tr>\n",
              "    <tr>\n",
              "      <th>2020</th>\n",
              "      <td>5</td>\n",
              "      <td>12</td>\n",
              "      <td>6.4</td>\n",
              "    </tr>\n",
              "    <tr>\n",
              "      <th>2020</th>\n",
              "      <td>5</td>\n",
              "      <td>13</td>\n",
              "      <td>7.0</td>\n",
              "    </tr>\n",
              "  </tbody>\n",
              "</table>\n",
              "<p>9266 rows × 3 columns</p>\n",
              "</div>"
            ],
            "text/plain": [
              "      Month  Day  AvgTemperatureC\n",
              "1995      1    1              1.3\n",
              "1995      1    2             -2.3\n",
              "1995      1    3             -2.9\n",
              "1995      1    4             -5.4\n",
              "1995      1    5             -8.3\n",
              "...     ...  ...              ...\n",
              "2020      5    9             19.5\n",
              "2020      5   10             18.2\n",
              "2020      5   11             11.1\n",
              "2020      5   12              6.4\n",
              "2020      5   13              7.0\n",
              "\n",
              "[9266 rows x 3 columns]"
            ]
          },
          "metadata": {
            "tags": []
          },
          "execution_count": 24
        }
      ]
    },
    {
      "cell_type": "markdown",
      "metadata": {
        "id": "W6Ju7yWDMRQt"
      },
      "source": [
        "## Пример multiindex, созданного с помощью GroupBy"
      ]
    },
    {
      "cell_type": "markdown",
      "metadata": {
        "id": "zf-wj38o-Ey8"
      },
      "source": [
        "Часто у нас возникает потребность в группировке данных по какому-либо признаку (хранящемуся в столбцах). В этом нам поможет метод GroupBy"
      ]
    },
    {
      "cell_type": "code",
      "metadata": {
        "colab": {
          "base_uri": "https://localhost:8080/",
          "height": 204
        },
        "id": "2PKn24oM4pgw",
        "outputId": "fa14438e-eb25-4b64-cea1-5b15a7186ca3"
      },
      "source": [
        "# сделаем выборку данных за май 2007 года, для этого:\n",
        "mask_05_2007 = (df_temp['Year'] == 2007) & (df_temp['Month'] == 5) # создадим маску \n",
        "df_temp_month = df_temp[mask_05_2007] # сделаем фильтрацию по маске\n",
        "df_temp_month = df_temp_month[['Region', 'Country', 'City', 'AvgTemperatureC']] # отберем только интересующие нас колонки\n",
        "df_temp_month.head() # посмотрим на результат (первые стркои)"
      ],
      "execution_count": null,
      "outputs": [
        {
          "output_type": "execute_result",
          "data": {
            "text/html": [
              "<div>\n",
              "<style scoped>\n",
              "    .dataframe tbody tr th:only-of-type {\n",
              "        vertical-align: middle;\n",
              "    }\n",
              "\n",
              "    .dataframe tbody tr th {\n",
              "        vertical-align: top;\n",
              "    }\n",
              "\n",
              "    .dataframe thead th {\n",
              "        text-align: right;\n",
              "    }\n",
              "</style>\n",
              "<table border=\"1\" class=\"dataframe\">\n",
              "  <thead>\n",
              "    <tr style=\"text-align: right;\">\n",
              "      <th></th>\n",
              "      <th>Region</th>\n",
              "      <th>Country</th>\n",
              "      <th>City</th>\n",
              "      <th>AvgTemperatureC</th>\n",
              "    </tr>\n",
              "  </thead>\n",
              "  <tbody>\n",
              "    <tr>\n",
              "      <th>4503</th>\n",
              "      <td>Africa</td>\n",
              "      <td>Algeria</td>\n",
              "      <td>Algiers</td>\n",
              "      <td>16.3</td>\n",
              "    </tr>\n",
              "    <tr>\n",
              "      <th>4504</th>\n",
              "      <td>Africa</td>\n",
              "      <td>Algeria</td>\n",
              "      <td>Algiers</td>\n",
              "      <td>15.3</td>\n",
              "    </tr>\n",
              "    <tr>\n",
              "      <th>4505</th>\n",
              "      <td>Africa</td>\n",
              "      <td>Algeria</td>\n",
              "      <td>Algiers</td>\n",
              "      <td>15.3</td>\n",
              "    </tr>\n",
              "    <tr>\n",
              "      <th>4506</th>\n",
              "      <td>Africa</td>\n",
              "      <td>Algeria</td>\n",
              "      <td>Algiers</td>\n",
              "      <td>14.7</td>\n",
              "    </tr>\n",
              "    <tr>\n",
              "      <th>4507</th>\n",
              "      <td>Africa</td>\n",
              "      <td>Algeria</td>\n",
              "      <td>Algiers</td>\n",
              "      <td>15.5</td>\n",
              "    </tr>\n",
              "  </tbody>\n",
              "</table>\n",
              "</div>"
            ],
            "text/plain": [
              "      Region  Country     City  AvgTemperatureC\n",
              "4503  Africa  Algeria  Algiers             16.3\n",
              "4504  Africa  Algeria  Algiers             15.3\n",
              "4505  Africa  Algeria  Algiers             15.3\n",
              "4506  Africa  Algeria  Algiers             14.7\n",
              "4507  Africa  Algeria  Algiers             15.5"
            ]
          },
          "metadata": {
            "tags": []
          },
          "execution_count": 25
        }
      ]
    },
    {
      "cell_type": "code",
      "metadata": {
        "id": "_Vjd2x2lvuhW"
      },
      "source": [
        "temp_mean = df_temp_month.groupby(['Region', 'Country', 'City']).agg('mean') # найдем среднее по городам, используя GroupBy"
      ],
      "execution_count": null,
      "outputs": []
    },
    {
      "cell_type": "code",
      "metadata": {
        "colab": {
          "base_uri": "https://localhost:8080/",
          "height": 390
        },
        "id": "dCImCQ2AAjYS",
        "outputId": "70bfa736-9d71-48c4-f58a-bf26b5249039"
      },
      "source": [
        "temp_mean.loc['Europe'].head(10) # выборка, показвающая страны и города Европы"
      ],
      "execution_count": null,
      "outputs": [
        {
          "output_type": "execute_result",
          "data": {
            "text/html": [
              "<div>\n",
              "<style scoped>\n",
              "    .dataframe tbody tr th:only-of-type {\n",
              "        vertical-align: middle;\n",
              "    }\n",
              "\n",
              "    .dataframe tbody tr th {\n",
              "        vertical-align: top;\n",
              "    }\n",
              "\n",
              "    .dataframe thead th {\n",
              "        text-align: right;\n",
              "    }\n",
              "</style>\n",
              "<table border=\"1\" class=\"dataframe\">\n",
              "  <thead>\n",
              "    <tr style=\"text-align: right;\">\n",
              "      <th></th>\n",
              "      <th></th>\n",
              "      <th>AvgTemperatureC</th>\n",
              "    </tr>\n",
              "    <tr>\n",
              "      <th>Country</th>\n",
              "      <th>City</th>\n",
              "      <th></th>\n",
              "    </tr>\n",
              "  </thead>\n",
              "  <tbody>\n",
              "    <tr>\n",
              "      <th>Albania</th>\n",
              "      <th>Tirana</th>\n",
              "      <td>19.951613</td>\n",
              "    </tr>\n",
              "    <tr>\n",
              "      <th>Austria</th>\n",
              "      <th>Vienna</th>\n",
              "      <td>16.787097</td>\n",
              "    </tr>\n",
              "    <tr>\n",
              "      <th>Belarus</th>\n",
              "      <th>Minsk</th>\n",
              "      <td>15.154839</td>\n",
              "    </tr>\n",
              "    <tr>\n",
              "      <th>Belgium</th>\n",
              "      <th>Brussels</th>\n",
              "      <td>14.174194</td>\n",
              "    </tr>\n",
              "    <tr>\n",
              "      <th>Bulgaria</th>\n",
              "      <th>Sofia</th>\n",
              "      <td>17.509677</td>\n",
              "    </tr>\n",
              "    <tr>\n",
              "      <th>Croatia</th>\n",
              "      <th>Zagreb</th>\n",
              "      <td>18.803226</td>\n",
              "    </tr>\n",
              "    <tr>\n",
              "      <th>Cyprus</th>\n",
              "      <th>Nicosia</th>\n",
              "      <td>22.151613</td>\n",
              "    </tr>\n",
              "    <tr>\n",
              "      <th>Czech Republic</th>\n",
              "      <th>Prague</th>\n",
              "      <td>15.061290</td>\n",
              "    </tr>\n",
              "    <tr>\n",
              "      <th>Denmark</th>\n",
              "      <th>Copenhagen</th>\n",
              "      <td>11.774194</td>\n",
              "    </tr>\n",
              "    <tr>\n",
              "      <th>Finland</th>\n",
              "      <th>Helsinki</th>\n",
              "      <td>10.993548</td>\n",
              "    </tr>\n",
              "  </tbody>\n",
              "</table>\n",
              "</div>"
            ],
            "text/plain": [
              "                           AvgTemperatureC\n",
              "Country        City                       \n",
              "Albania        Tirana            19.951613\n",
              "Austria        Vienna            16.787097\n",
              "Belarus        Minsk             15.154839\n",
              "Belgium        Brussels          14.174194\n",
              "Bulgaria       Sofia             17.509677\n",
              "Croatia        Zagreb            18.803226\n",
              "Cyprus         Nicosia           22.151613\n",
              "Czech Republic Prague            15.061290\n",
              "Denmark        Copenhagen        11.774194\n",
              "Finland        Helsinki          10.993548"
            ]
          },
          "metadata": {
            "tags": []
          },
          "execution_count": 27
        }
      ]
    },
    {
      "cell_type": "code",
      "metadata": {
        "colab": {
          "base_uri": "https://localhost:8080/",
          "height": 173
        },
        "id": "i7noKjSBAvyR",
        "outputId": "4aec90f4-0df3-43de-b4ae-071a430f6d14"
      },
      "source": [
        "temp_mean.loc['Europe', 'Spain'] # Выберем города Испании"
      ],
      "execution_count": null,
      "outputs": [
        {
          "output_type": "execute_result",
          "data": {
            "text/html": [
              "<div>\n",
              "<style scoped>\n",
              "    .dataframe tbody tr th:only-of-type {\n",
              "        vertical-align: middle;\n",
              "    }\n",
              "\n",
              "    .dataframe tbody tr th {\n",
              "        vertical-align: top;\n",
              "    }\n",
              "\n",
              "    .dataframe thead th {\n",
              "        text-align: right;\n",
              "    }\n",
              "</style>\n",
              "<table border=\"1\" class=\"dataframe\">\n",
              "  <thead>\n",
              "    <tr style=\"text-align: right;\">\n",
              "      <th></th>\n",
              "      <th>AvgTemperatureC</th>\n",
              "    </tr>\n",
              "    <tr>\n",
              "      <th>City</th>\n",
              "      <th></th>\n",
              "    </tr>\n",
              "  </thead>\n",
              "  <tbody>\n",
              "    <tr>\n",
              "      <th>Barcelona</th>\n",
              "      <td>18.990323</td>\n",
              "    </tr>\n",
              "    <tr>\n",
              "      <th>Bilbao</th>\n",
              "      <td>15.970968</td>\n",
              "    </tr>\n",
              "    <tr>\n",
              "      <th>Madrid</th>\n",
              "      <td>15.961290</td>\n",
              "    </tr>\n",
              "  </tbody>\n",
              "</table>\n",
              "</div>"
            ],
            "text/plain": [
              "           AvgTemperatureC\n",
              "City                      \n",
              "Barcelona        18.990323\n",
              "Bilbao           15.970968\n",
              "Madrid           15.961290"
            ]
          },
          "metadata": {
            "tags": []
          },
          "execution_count": 28
        }
      ]
    },
    {
      "cell_type": "code",
      "metadata": {
        "colab": {
          "base_uri": "https://localhost:8080/"
        },
        "id": "qehzRULrCkz3",
        "outputId": "1574d78b-bc84-4529-c385-e293fc90650f"
      },
      "source": [
        "temp_mean.loc['Europe', 'Switzerland', 'Geneva'] # посмотрим среднюю темпепратуру в Женеве"
      ],
      "execution_count": null,
      "outputs": [
        {
          "output_type": "execute_result",
          "data": {
            "text/plain": [
              "AvgTemperatureC    15.209677\n",
              "Name: (Europe, Switzerland, Geneva), dtype: float64"
            ]
          },
          "metadata": {
            "tags": []
          },
          "execution_count": 29
        }
      ]
    },
    {
      "cell_type": "markdown",
      "metadata": {
        "id": "4hQdP4FXNir8"
      },
      "source": [
        "# Расчёт статистических показателей "
      ]
    },
    {
      "cell_type": "markdown",
      "metadata": {
        "id": "dkiOO6pFPZ62"
      },
      "source": [
        "## Расчёт статистик для одной колонки"
      ]
    },
    {
      "cell_type": "markdown",
      "metadata": {
        "id": "5x-2MysoTomM"
      },
      "source": [
        "Для расчета статистического показателя по одной колонке DataFrame или Series нужно применить соответствующий статистический метод этой колонке.\n",
        "\n",
        "\n",
        "Например:\n",
        "```\n",
        "df['имя колонки'].sum() # сумма\n",
        "df['имя колонки'].mean() # среднее\n",
        "df['имя колонки'].max() # максимум\n",
        "\n",
        "```\n",
        "\n",
        "Результат вернется в виде числа\n"
      ]
    },
    {
      "cell_type": "markdown",
      "metadata": {
        "id": "jesdJSpBN9Uf"
      },
      "source": [
        "![image.png](data:image/png;base64,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)"
      ]
    },
    {
      "cell_type": "code",
      "metadata": {
        "colab": {
          "base_uri": "https://localhost:8080/",
          "height": 111
        },
        "id": "7Lbxu_q4RoGF",
        "outputId": "a16baa97-57cb-4aa3-cacc-fc659067e18f"
      },
      "source": [
        "df_temp.head(2) #вспомним, как выглядел наш DataFrame"
      ],
      "execution_count": null,
      "outputs": [
        {
          "output_type": "execute_result",
          "data": {
            "text/html": [
              "<div>\n",
              "<style scoped>\n",
              "    .dataframe tbody tr th:only-of-type {\n",
              "        vertical-align: middle;\n",
              "    }\n",
              "\n",
              "    .dataframe tbody tr th {\n",
              "        vertical-align: top;\n",
              "    }\n",
              "\n",
              "    .dataframe thead th {\n",
              "        text-align: right;\n",
              "    }\n",
              "</style>\n",
              "<table border=\"1\" class=\"dataframe\">\n",
              "  <thead>\n",
              "    <tr style=\"text-align: right;\">\n",
              "      <th></th>\n",
              "      <th>Region</th>\n",
              "      <th>Country</th>\n",
              "      <th>State</th>\n",
              "      <th>City</th>\n",
              "      <th>Month</th>\n",
              "      <th>Day</th>\n",
              "      <th>Year</th>\n",
              "      <th>AvgTemperature</th>\n",
              "      <th>AvgTemperatureC</th>\n",
              "    </tr>\n",
              "  </thead>\n",
              "  <tbody>\n",
              "    <tr>\n",
              "      <th>0</th>\n",
              "      <td>Africa</td>\n",
              "      <td>Algeria</td>\n",
              "      <td>NaN</td>\n",
              "      <td>Algiers</td>\n",
              "      <td>1</td>\n",
              "      <td>1</td>\n",
              "      <td>1995</td>\n",
              "      <td>64.2</td>\n",
              "      <td>17.9</td>\n",
              "    </tr>\n",
              "    <tr>\n",
              "      <th>1</th>\n",
              "      <td>Africa</td>\n",
              "      <td>Algeria</td>\n",
              "      <td>NaN</td>\n",
              "      <td>Algiers</td>\n",
              "      <td>1</td>\n",
              "      <td>2</td>\n",
              "      <td>1995</td>\n",
              "      <td>49.4</td>\n",
              "      <td>9.7</td>\n",
              "    </tr>\n",
              "  </tbody>\n",
              "</table>\n",
              "</div>"
            ],
            "text/plain": [
              "   Region  Country State     City  ...  Day  Year  AvgTemperature  AvgTemperatureC\n",
              "0  Africa  Algeria   NaN  Algiers  ...    1  1995            64.2             17.9\n",
              "1  Africa  Algeria   NaN  Algiers  ...    2  1995            49.4              9.7\n",
              "\n",
              "[2 rows x 9 columns]"
            ]
          },
          "metadata": {
            "tags": []
          },
          "execution_count": 30
        }
      ]
    },
    {
      "cell_type": "code",
      "metadata": {
        "colab": {
          "base_uri": "https://localhost:8080/"
        },
        "id": "PwoGQZMSHQl-",
        "outputId": "d77a481a-db0d-4a02-fab4-efe3e247846f"
      },
      "source": [
        "df_temp['AvgTemperatureC'].mean() # рассчитаем среднюю температуру по всем записям"
      ],
      "execution_count": null,
      "outputs": [
        {
          "output_type": "execute_result",
          "data": {
            "text/plain": [
              "13.335465589393394"
            ]
          },
          "metadata": {
            "tags": []
          },
          "execution_count": 31
        }
      ]
    },
    {
      "cell_type": "markdown",
      "metadata": {
        "id": "YE9x52eiPov4"
      },
      "source": [
        "## Расчёт статистик для нескольких колонок\n"
      ]
    },
    {
      "cell_type": "markdown",
      "metadata": {
        "id": "3cpaTiVsXykH"
      },
      "source": [
        "Если нужно получить статистику по нескольким  колонкам, нужно извлечь эти колонки в новый DataFrame и применить к новому DataFrame статистический метод.\n",
        "\n",
        "```\n",
        "df[список колонок].min()\n",
        "df[список колонок].sum()\n",
        "```\n",
        "\n",
        "Результат будет возвращен в виде Series в котором индексы сформированы из списка колонок DataFrame.\n"
      ]
    },
    {
      "cell_type": "markdown",
      "metadata": {
        "id": "SLKhDVIIOC65"
      },
      "source": [
        "![image.png](data:image/png;base64,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)"
      ]
    },
    {
      "cell_type": "code",
      "metadata": {
        "colab": {
          "base_uri": "https://localhost:8080/"
        },
        "id": "asATCmcSODd-",
        "outputId": "9f7894f9-ae81-420c-9f25-678f0c1aeae8"
      },
      "source": [
        "# найдем среднюю температуру по всему DataFrame для колонок AvgTemperatureC(температура в градусах Цельсия) и AvgTemperature(температура в градусах Фаренгейта)\n",
        "df_temp[['AvgTemperatureC','AvgTemperature' ]].mean() "
      ],
      "execution_count": null,
      "outputs": [
        {
          "output_type": "execute_result",
          "data": {
            "text/plain": [
              "AvgTemperatureC    13.335466\n",
              "AvgTemperature     56.004921\n",
              "dtype: float64"
            ]
          },
          "metadata": {
            "tags": []
          },
          "execution_count": 32
        }
      ]
    },
    {
      "cell_type": "markdown",
      "metadata": {
        "id": "MbfVUCy2Zy-Z"
      },
      "source": [
        "Cтандартный набор описательных статистик по числовым колонкам DataFrame можно получить с помощью метода describe."
      ]
    },
    {
      "cell_type": "code",
      "metadata": {
        "colab": {
          "base_uri": "https://localhost:8080/",
          "height": 297
        },
        "id": "LYrpjQWwOeUj",
        "outputId": "eec5e3d7-9dff-475b-cba7-a564487297e6"
      },
      "source": [
        "df_temp.describe() # выведем стандартный набор статистик методом decribe"
      ],
      "execution_count": null,
      "outputs": [
        {
          "output_type": "execute_result",
          "data": {
            "text/html": [
              "<div>\n",
              "<style scoped>\n",
              "    .dataframe tbody tr th:only-of-type {\n",
              "        vertical-align: middle;\n",
              "    }\n",
              "\n",
              "    .dataframe tbody tr th {\n",
              "        vertical-align: top;\n",
              "    }\n",
              "\n",
              "    .dataframe thead th {\n",
              "        text-align: right;\n",
              "    }\n",
              "</style>\n",
              "<table border=\"1\" class=\"dataframe\">\n",
              "  <thead>\n",
              "    <tr style=\"text-align: right;\">\n",
              "      <th></th>\n",
              "      <th>Month</th>\n",
              "      <th>Day</th>\n",
              "      <th>Year</th>\n",
              "      <th>AvgTemperature</th>\n",
              "      <th>AvgTemperatureC</th>\n",
              "    </tr>\n",
              "  </thead>\n",
              "  <tbody>\n",
              "    <tr>\n",
              "      <th>count</th>\n",
              "      <td>2.906327e+06</td>\n",
              "      <td>2.906327e+06</td>\n",
              "      <td>2.906327e+06</td>\n",
              "      <td>2.906327e+06</td>\n",
              "      <td>2.906327e+06</td>\n",
              "    </tr>\n",
              "    <tr>\n",
              "      <th>mean</th>\n",
              "      <td>6.469163e+00</td>\n",
              "      <td>1.571682e+01</td>\n",
              "      <td>2.006624e+03</td>\n",
              "      <td>5.600492e+01</td>\n",
              "      <td>1.333547e+01</td>\n",
              "    </tr>\n",
              "    <tr>\n",
              "      <th>std</th>\n",
              "      <td>3.456489e+00</td>\n",
              "      <td>8.800534e+00</td>\n",
              "      <td>2.338226e+01</td>\n",
              "      <td>3.212359e+01</td>\n",
              "      <td>1.784939e+01</td>\n",
              "    </tr>\n",
              "    <tr>\n",
              "      <th>min</th>\n",
              "      <td>1.000000e+00</td>\n",
              "      <td>0.000000e+00</td>\n",
              "      <td>2.000000e+02</td>\n",
              "      <td>-9.900000e+01</td>\n",
              "      <td>-7.280000e+01</td>\n",
              "    </tr>\n",
              "    <tr>\n",
              "      <th>25%</th>\n",
              "      <td>3.000000e+00</td>\n",
              "      <td>8.000000e+00</td>\n",
              "      <td>2.001000e+03</td>\n",
              "      <td>4.580000e+01</td>\n",
              "      <td>7.700000e+00</td>\n",
              "    </tr>\n",
              "    <tr>\n",
              "      <th>50%</th>\n",
              "      <td>6.000000e+00</td>\n",
              "      <td>1.600000e+01</td>\n",
              "      <td>2.007000e+03</td>\n",
              "      <td>6.250000e+01</td>\n",
              "      <td>1.690000e+01</td>\n",
              "    </tr>\n",
              "    <tr>\n",
              "      <th>75%</th>\n",
              "      <td>9.000000e+00</td>\n",
              "      <td>2.300000e+01</td>\n",
              "      <td>2.013000e+03</td>\n",
              "      <td>7.550000e+01</td>\n",
              "      <td>2.420000e+01</td>\n",
              "    </tr>\n",
              "    <tr>\n",
              "      <th>max</th>\n",
              "      <td>1.200000e+01</td>\n",
              "      <td>3.100000e+01</td>\n",
              "      <td>2.020000e+03</td>\n",
              "      <td>1.100000e+02</td>\n",
              "      <td>4.330000e+01</td>\n",
              "    </tr>\n",
              "  </tbody>\n",
              "</table>\n",
              "</div>"
            ],
            "text/plain": [
              "              Month           Day  ...  AvgTemperature  AvgTemperatureC\n",
              "count  2.906327e+06  2.906327e+06  ...    2.906327e+06     2.906327e+06\n",
              "mean   6.469163e+00  1.571682e+01  ...    5.600492e+01     1.333547e+01\n",
              "std    3.456489e+00  8.800534e+00  ...    3.212359e+01     1.784939e+01\n",
              "min    1.000000e+00  0.000000e+00  ...   -9.900000e+01    -7.280000e+01\n",
              "25%    3.000000e+00  8.000000e+00  ...    4.580000e+01     7.700000e+00\n",
              "50%    6.000000e+00  1.600000e+01  ...    6.250000e+01     1.690000e+01\n",
              "75%    9.000000e+00  2.300000e+01  ...    7.550000e+01     2.420000e+01\n",
              "max    1.200000e+01  3.100000e+01  ...    1.100000e+02     4.330000e+01\n",
              "\n",
              "[8 rows x 5 columns]"
            ]
          },
          "metadata": {
            "tags": []
          },
          "execution_count": 33
        }
      ]
    },
    {
      "cell_type": "markdown",
      "metadata": {
        "id": "k7J1OOjIPxrG"
      },
      "source": [
        "## Расчёт статистик, зависящих от данных с использованием GroupBy"
      ]
    },
    {
      "cell_type": "markdown",
      "metadata": {
        "id": "61iEYka6Z2at"
      },
      "source": [
        "Мы уже успели познакомиться с группировкой DataFrame по значению в колонках с помощью метода GroupBy.\n",
        "\n",
        "Для вычисления описательных статистик используются следующие конструкции (результат вернется в виде Series)\n",
        "\n",
        "\n",
        "```\n",
        "df.grouby(['колонка по которой осуществляется группировка'])['колонка'].max()\n",
        "\n",
        "df.grouby([список колонок для группировки])['колонка'].mean()\n",
        "\n",
        "df.grouby([список колонок для группировки])['колонка'].mean()\n",
        "```"
      ]
    },
    {
      "cell_type": "markdown",
      "metadata": {
        "id": "72y9qHnYO4wQ"
      },
      "source": [
        "![image.png](data:image/png;base64,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)"
      ]
    },
    {
      "cell_type": "markdown",
      "metadata": {
        "id": "yfOI2dw4Po0o"
      },
      "source": [
        "! Мы используем загрузку датасетов из своего источника. Рекомендуем вам загружать из него. Однако, если у вас есть свой датасет, можете использовать ячейки ниже, подключить Google Drive, скопировать на него датасет, и не забудьте при загрузке указать свой адрес к файлу датасета, см. занятие по основам Python."
      ]
    },
    {
      "cell_type": "code",
      "metadata": {
        "colab": {
          "base_uri": "https://localhost:8080/"
        },
        "id": "rhyIsb8qPo04",
        "outputId": "297ec7ad-09da-416a-896a-99d514eecd84"
      },
      "source": [
        "!wget http://dataudt.ru/datasets/titanic.csv"
      ],
      "execution_count": null,
      "outputs": [
        {
          "output_type": "stream",
          "text": [
            "--2021-04-15 09:28:39--  http://dataudt.ru/datasets/titanic.csv\n",
            "Resolving dataudt.ru (dataudt.ru)... 37.228.117.130\n",
            "Connecting to dataudt.ru (dataudt.ru)|37.228.117.130|:80... connected.\n",
            "HTTP request sent, awaiting response... 200 OK\n",
            "Length: 29474 (29K) [application/octet-stream]\n",
            "Saving to: ‘titanic.csv’\n",
            "\n",
            "\rtitanic.csv           0%[                    ]       0  --.-KB/s               \rtitanic.csv         100%[===================>]  28.78K  --.-KB/s    in 0.04s   \n",
            "\n",
            "2021-04-15 09:28:39 (673 KB/s) - ‘titanic.csv’ saved [29474/29474]\n",
            "\n"
          ],
          "name": "stdout"
        }
      ]
    },
    {
      "cell_type": "code",
      "metadata": {
        "colab": {
          "base_uri": "https://localhost:8080/"
        },
        "id": "6ktr5WG_Po06",
        "outputId": "48d3d55a-df61-42b1-d3bf-3d422e1769cb"
      },
      "source": [
        "!ls"
      ],
      "execution_count": null,
      "outputs": [
        {
          "output_type": "stream",
          "text": [
            "city_temperature.csv  sample_data  titanic.csv\n"
          ],
          "name": "stdout"
        }
      ]
    },
    {
      "cell_type": "code",
      "metadata": {
        "colab": {
          "base_uri": "https://localhost:8080/",
          "height": 427
        },
        "id": "Rh2Jt38ZPo06",
        "outputId": "53768d71-2ba3-47f5-d344-61546ed7398e"
      },
      "source": [
        "# загрузим датасет Титаник из csv в DataFrame\n",
        "\n",
        "titanic_df = pd.read_csv('/content/titanic.csv')\n",
        "titanic_df.head(10) # выведем первые 10 строк"
      ],
      "execution_count": null,
      "outputs": [
        {
          "output_type": "execute_result",
          "data": {
            "text/html": [
              "<div>\n",
              "<style scoped>\n",
              "    .dataframe tbody tr th:only-of-type {\n",
              "        vertical-align: middle;\n",
              "    }\n",
              "\n",
              "    .dataframe tbody tr th {\n",
              "        vertical-align: top;\n",
              "    }\n",
              "\n",
              "    .dataframe thead th {\n",
              "        text-align: right;\n",
              "    }\n",
              "</style>\n",
              "<table border=\"1\" class=\"dataframe\">\n",
              "  <thead>\n",
              "    <tr style=\"text-align: right;\">\n",
              "      <th></th>\n",
              "      <th>PassengerId</th>\n",
              "      <th>Survived</th>\n",
              "      <th>Pclass</th>\n",
              "      <th>Name</th>\n",
              "      <th>Sex</th>\n",
              "      <th>Age</th>\n",
              "      <th>SibSp</th>\n",
              "      <th>Parch</th>\n",
              "      <th>Ticket</th>\n",
              "      <th>Fare</th>\n",
              "      <th>Cabin</th>\n",
              "      <th>Embarked</th>\n",
              "    </tr>\n",
              "  </thead>\n",
              "  <tbody>\n",
              "    <tr>\n",
              "      <th>0</th>\n",
              "      <td>892</td>\n",
              "      <td>0</td>\n",
              "      <td>3</td>\n",
              "      <td>Kelly, Mr. James</td>\n",
              "      <td>male</td>\n",
              "      <td>34.5</td>\n",
              "      <td>0</td>\n",
              "      <td>0</td>\n",
              "      <td>330911</td>\n",
              "      <td>7.8292</td>\n",
              "      <td>NaN</td>\n",
              "      <td>Q</td>\n",
              "    </tr>\n",
              "    <tr>\n",
              "      <th>1</th>\n",
              "      <td>893</td>\n",
              "      <td>1</td>\n",
              "      <td>3</td>\n",
              "      <td>Wilkes, Mrs. James (Ellen Needs)</td>\n",
              "      <td>female</td>\n",
              "      <td>47.0</td>\n",
              "      <td>1</td>\n",
              "      <td>0</td>\n",
              "      <td>363272</td>\n",
              "      <td>7.0000</td>\n",
              "      <td>NaN</td>\n",
              "      <td>S</td>\n",
              "    </tr>\n",
              "    <tr>\n",
              "      <th>2</th>\n",
              "      <td>894</td>\n",
              "      <td>0</td>\n",
              "      <td>2</td>\n",
              "      <td>Myles, Mr. Thomas Francis</td>\n",
              "      <td>male</td>\n",
              "      <td>62.0</td>\n",
              "      <td>0</td>\n",
              "      <td>0</td>\n",
              "      <td>240276</td>\n",
              "      <td>9.6875</td>\n",
              "      <td>NaN</td>\n",
              "      <td>Q</td>\n",
              "    </tr>\n",
              "    <tr>\n",
              "      <th>3</th>\n",
              "      <td>895</td>\n",
              "      <td>0</td>\n",
              "      <td>3</td>\n",
              "      <td>Wirz, Mr. Albert</td>\n",
              "      <td>male</td>\n",
              "      <td>27.0</td>\n",
              "      <td>0</td>\n",
              "      <td>0</td>\n",
              "      <td>315154</td>\n",
              "      <td>8.6625</td>\n",
              "      <td>NaN</td>\n",
              "      <td>S</td>\n",
              "    </tr>\n",
              "    <tr>\n",
              "      <th>4</th>\n",
              "      <td>896</td>\n",
              "      <td>1</td>\n",
              "      <td>3</td>\n",
              "      <td>Hirvonen, Mrs. Alexander (Helga E Lindqvist)</td>\n",
              "      <td>female</td>\n",
              "      <td>22.0</td>\n",
              "      <td>1</td>\n",
              "      <td>1</td>\n",
              "      <td>3101298</td>\n",
              "      <td>12.2875</td>\n",
              "      <td>NaN</td>\n",
              "      <td>S</td>\n",
              "    </tr>\n",
              "    <tr>\n",
              "      <th>5</th>\n",
              "      <td>897</td>\n",
              "      <td>0</td>\n",
              "      <td>3</td>\n",
              "      <td>Svensson, Mr. Johan Cervin</td>\n",
              "      <td>male</td>\n",
              "      <td>14.0</td>\n",
              "      <td>0</td>\n",
              "      <td>0</td>\n",
              "      <td>7538</td>\n",
              "      <td>9.2250</td>\n",
              "      <td>NaN</td>\n",
              "      <td>S</td>\n",
              "    </tr>\n",
              "    <tr>\n",
              "      <th>6</th>\n",
              "      <td>898</td>\n",
              "      <td>1</td>\n",
              "      <td>3</td>\n",
              "      <td>Connolly, Miss. Kate</td>\n",
              "      <td>female</td>\n",
              "      <td>30.0</td>\n",
              "      <td>0</td>\n",
              "      <td>0</td>\n",
              "      <td>330972</td>\n",
              "      <td>7.6292</td>\n",
              "      <td>NaN</td>\n",
              "      <td>Q</td>\n",
              "    </tr>\n",
              "    <tr>\n",
              "      <th>7</th>\n",
              "      <td>899</td>\n",
              "      <td>0</td>\n",
              "      <td>2</td>\n",
              "      <td>Caldwell, Mr. Albert Francis</td>\n",
              "      <td>male</td>\n",
              "      <td>26.0</td>\n",
              "      <td>1</td>\n",
              "      <td>1</td>\n",
              "      <td>248738</td>\n",
              "      <td>29.0000</td>\n",
              "      <td>NaN</td>\n",
              "      <td>S</td>\n",
              "    </tr>\n",
              "    <tr>\n",
              "      <th>8</th>\n",
              "      <td>900</td>\n",
              "      <td>1</td>\n",
              "      <td>3</td>\n",
              "      <td>Abrahim, Mrs. Joseph (Sophie Halaut Easu)</td>\n",
              "      <td>female</td>\n",
              "      <td>18.0</td>\n",
              "      <td>0</td>\n",
              "      <td>0</td>\n",
              "      <td>2657</td>\n",
              "      <td>7.2292</td>\n",
              "      <td>NaN</td>\n",
              "      <td>C</td>\n",
              "    </tr>\n",
              "    <tr>\n",
              "      <th>9</th>\n",
              "      <td>901</td>\n",
              "      <td>0</td>\n",
              "      <td>3</td>\n",
              "      <td>Davies, Mr. John Samuel</td>\n",
              "      <td>male</td>\n",
              "      <td>21.0</td>\n",
              "      <td>2</td>\n",
              "      <td>0</td>\n",
              "      <td>A/4 48871</td>\n",
              "      <td>24.1500</td>\n",
              "      <td>NaN</td>\n",
              "      <td>S</td>\n",
              "    </tr>\n",
              "  </tbody>\n",
              "</table>\n",
              "</div>"
            ],
            "text/plain": [
              "   PassengerId  Survived  Pclass  ...     Fare Cabin  Embarked\n",
              "0          892         0       3  ...   7.8292   NaN         Q\n",
              "1          893         1       3  ...   7.0000   NaN         S\n",
              "2          894         0       2  ...   9.6875   NaN         Q\n",
              "3          895         0       3  ...   8.6625   NaN         S\n",
              "4          896         1       3  ...  12.2875   NaN         S\n",
              "5          897         0       3  ...   9.2250   NaN         S\n",
              "6          898         1       3  ...   7.6292   NaN         Q\n",
              "7          899         0       2  ...  29.0000   NaN         S\n",
              "8          900         1       3  ...   7.2292   NaN         C\n",
              "9          901         0       3  ...  24.1500   NaN         S\n",
              "\n",
              "[10 rows x 12 columns]"
            ]
          },
          "metadata": {
            "tags": []
          },
          "execution_count": 36
        }
      ]
    },
    {
      "cell_type": "markdown",
      "metadata": {
        "id": "eslgaheGPR6U"
      },
      "source": [
        "Вот эту ячейку ниже можно использовать чтобы загрузить данные. Не забудьте изменить путь к файлу. Если не хотите менять путь, нужно предварительно на Google Drive создать папку datasets, и уже в неё скопировать файлы датасетов.\n"
      ]
    },
    {
      "cell_type": "code",
      "metadata": {
        "id": "OYYcTpqPOh2z"
      },
      "source": [
        "# загрузим датасет Титаник из csv в DataFrame\n",
        "\n",
        "#titanic_df = pd.read_csv('/content/drive/MyDrive/datasets/titanic.csv')\n",
        "#titanic_df.head(10) # выведем первые 10 строк"
      ],
      "execution_count": null,
      "outputs": []
    },
    {
      "cell_type": "code",
      "metadata": {
        "colab": {
          "base_uri": "https://localhost:8080/"
        },
        "id": "HbRvV_iYg2-3",
        "outputId": "c65b485e-4a52-4b7f-ad46-e65f09ae77c5"
      },
      "source": [
        "titanic_df.groupby(['Sex'])['Age'].mean() #найдем средний возраст мужчин и жещнин из датасета Титаник"
      ],
      "execution_count": null,
      "outputs": [
        {
          "output_type": "execute_result",
          "data": {
            "text/plain": [
              "Sex\n",
              "female    30.272362\n",
              "male      30.272732\n",
              "Name: Age, dtype: float64"
            ]
          },
          "metadata": {
            "tags": []
          },
          "execution_count": 38
        }
      ]
    },
    {
      "cell_type": "markdown",
      "metadata": {
        "id": "AftlPlvQhecy"
      },
      "source": [
        "![image.png](data:image/png;base64,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)"
      ]
    },
    {
      "cell_type": "code",
      "metadata": {
        "id": "J-kSfCf5hsNR",
        "colab": {
          "base_uri": "https://localhost:8080/"
        },
        "outputId": "a5f94a74-7f90-4f6b-b8ed-062d05589ffa"
      },
      "source": [
        "# найдем средний возраст мужчин и женщин, в разбивке по Pclass (класс каюты)\n",
        "titanic_df.groupby(['Sex', 'Pclass'])['Age'].mean()"
      ],
      "execution_count": null,
      "outputs": [
        {
          "output_type": "execute_result",
          "data": {
            "text/plain": [
              "Sex     Pclass\n",
              "female  1         41.333333\n",
              "        2         24.376552\n",
              "        3         23.073400\n",
              "male    1         40.520000\n",
              "        2         30.940678\n",
              "        3         24.525104\n",
              "Name: Age, dtype: float64"
            ]
          },
          "metadata": {
            "tags": []
          },
          "execution_count": 39
        }
      ]
    },
    {
      "cell_type": "markdown",
      "metadata": {
        "id": "iegO8RhbdGO8"
      },
      "source": [
        "Для расчета нескольких статистик можно использовать метод agg (результат вернется в виде DataFrame)\n",
        "```\n",
        "\n",
        "df.grouby([колонка или список колонок])['колонка'].agg([список статистик])\n",
        "\n",
        "```"
      ]
    },
    {
      "cell_type": "code",
      "metadata": {
        "colab": {
          "base_uri": "https://localhost:8080/",
          "height": 266
        },
        "id": "i18DrblObfSl",
        "outputId": "9cafaf1d-79f1-47d2-ff6b-96dcfdef2ca1"
      },
      "source": [
        "titanic_df.groupby(['Sex', 'Pclass'])['Age'].agg(['mean', 'median', 'max', 'min'])"
      ],
      "execution_count": null,
      "outputs": [
        {
          "output_type": "execute_result",
          "data": {
            "text/html": [
              "<div>\n",
              "<style scoped>\n",
              "    .dataframe tbody tr th:only-of-type {\n",
              "        vertical-align: middle;\n",
              "    }\n",
              "\n",
              "    .dataframe tbody tr th {\n",
              "        vertical-align: top;\n",
              "    }\n",
              "\n",
              "    .dataframe thead th {\n",
              "        text-align: right;\n",
              "    }\n",
              "</style>\n",
              "<table border=\"1\" class=\"dataframe\">\n",
              "  <thead>\n",
              "    <tr style=\"text-align: right;\">\n",
              "      <th></th>\n",
              "      <th></th>\n",
              "      <th>mean</th>\n",
              "      <th>median</th>\n",
              "      <th>max</th>\n",
              "      <th>min</th>\n",
              "    </tr>\n",
              "    <tr>\n",
              "      <th>Sex</th>\n",
              "      <th>Pclass</th>\n",
              "      <th></th>\n",
              "      <th></th>\n",
              "      <th></th>\n",
              "      <th></th>\n",
              "    </tr>\n",
              "  </thead>\n",
              "  <tbody>\n",
              "    <tr>\n",
              "      <th rowspan=\"3\" valign=\"top\">female</th>\n",
              "      <th>1</th>\n",
              "      <td>41.333333</td>\n",
              "      <td>41.0</td>\n",
              "      <td>76.0</td>\n",
              "      <td>18.00</td>\n",
              "    </tr>\n",
              "    <tr>\n",
              "      <th>2</th>\n",
              "      <td>24.376552</td>\n",
              "      <td>24.0</td>\n",
              "      <td>60.0</td>\n",
              "      <td>0.92</td>\n",
              "    </tr>\n",
              "    <tr>\n",
              "      <th>3</th>\n",
              "      <td>23.073400</td>\n",
              "      <td>22.0</td>\n",
              "      <td>47.0</td>\n",
              "      <td>0.17</td>\n",
              "    </tr>\n",
              "    <tr>\n",
              "      <th rowspan=\"3\" valign=\"top\">male</th>\n",
              "      <th>1</th>\n",
              "      <td>40.520000</td>\n",
              "      <td>42.0</td>\n",
              "      <td>67.0</td>\n",
              "      <td>6.00</td>\n",
              "    </tr>\n",
              "    <tr>\n",
              "      <th>2</th>\n",
              "      <td>30.940678</td>\n",
              "      <td>28.0</td>\n",
              "      <td>63.0</td>\n",
              "      <td>2.00</td>\n",
              "    </tr>\n",
              "    <tr>\n",
              "      <th>3</th>\n",
              "      <td>24.525104</td>\n",
              "      <td>24.0</td>\n",
              "      <td>60.5</td>\n",
              "      <td>0.33</td>\n",
              "    </tr>\n",
              "  </tbody>\n",
              "</table>\n",
              "</div>"
            ],
            "text/plain": [
              "                    mean  median   max    min\n",
              "Sex    Pclass                                \n",
              "female 1       41.333333    41.0  76.0  18.00\n",
              "       2       24.376552    24.0  60.0   0.92\n",
              "       3       23.073400    22.0  47.0   0.17\n",
              "male   1       40.520000    42.0  67.0   6.00\n",
              "       2       30.940678    28.0  63.0   2.00\n",
              "       3       24.525104    24.0  60.5   0.33"
            ]
          },
          "metadata": {
            "tags": []
          },
          "execution_count": 40
        }
      ]
    },
    {
      "cell_type": "markdown",
      "metadata": {
        "id": "TAJcFwkk4AlE"
      },
      "source": [
        "## Какие есть встроенные функции для описательных статистик?"
      ]
    },
    {
      "cell_type": "markdown",
      "metadata": {
        "id": "g8VdUXRq4I09"
      },
      "source": [
        "\n",
        "\n",
        "*   sum() - сумма значений\n",
        "*   prod() - произведение значений\n",
        "*   mean() - среднее арифметическое\n",
        "*   median() - медиана\n",
        "*   mode() - мода\n",
        "*   quantile() - расчет квантилей\n",
        "*   max() - максимальное значение\n",
        "*   min() - минимальное значение\n",
        "\n",
        "полный список можно посмотреть в [официальной документации Pandas](https://pandas.pydata.org/docs/user_guide/basics.html#basics-stats)  \n"
      ]
    },
    {
      "cell_type": "markdown",
      "metadata": {
        "id": "IDZr_aidU07G"
      },
      "source": [
        "# Объединение данных из нескольких DataFrame"
      ]
    },
    {
      "cell_type": "markdown",
      "metadata": {
        "id": "1qL5XvH8BLZz"
      },
      "source": [
        "В практической работе с данными мы часто будем сталкиваться с необходимостью объединить данные из нескольких источников.  Именно этому и будет посвящен следующий раздел."
      ]
    },
    {
      "cell_type": "markdown",
      "metadata": {
        "id": "q94_hFRZU68S"
      },
      "source": [
        "## Конкатенация по строкам"
      ]
    },
    {
      "cell_type": "markdown",
      "metadata": {
        "id": "Bs_Vw_psBHil"
      },
      "source": [
        "В самом простом случае мы имеем две таблицы одного типа (названия и типы столбцов совпадают), нам нужно объединить их в одну, объединив строки из первого и второго DataFrame. Делается это с  помощью функциии pd.concat\n",
        "\n",
        "\n",
        "```\n",
        "pd.concat([df1, df2])\n",
        "```\n",
        "\n",
        "Аргументы функции pd.concat:\n",
        "\n",
        "\n",
        "*   obj - список DataFrame для соединения\n",
        "*   axis (по умолчанию 0, т.е. конкатенация по строкам). Для конкатенации по столбцам нужно указать axis=1\n",
        "*   join {‘inner’, ‘outer’}, по умолчанию ‘outer’ тип соединения, подробнее про inner и outer мы рассмотрим в методе Merge\n",
        "\n",
        "\n",
        "\n",
        "\n"
      ]
    },
    {
      "cell_type": "markdown",
      "metadata": {
        "id": "QdKMyi55U__7"
      },
      "source": [
        "![image.png](data:image/png;base64,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)"
      ]
    },
    {
      "cell_type": "code",
      "metadata": {
        "colab": {
          "base_uri": "https://localhost:8080/",
          "height": 142
        },
        "id": "ioEfaEPp-knk",
        "outputId": "24ea8644-0a42-4de1-8c2e-8f98061ac3fc"
      },
      "source": [
        "# создадим таблицу df1\n",
        "df1 = pd.DataFrame(data = [['A1', 'B1', 'C1', 'D1'],\n",
        "                           ['A2', 'B2', 'C2', 'D2'],\n",
        "                           ['A3', 'B3', 'C3', 'D3']], \n",
        "                   index = [1, 2, 3], \n",
        "                   columns = ['A', 'B', 'C', 'D']\n",
        "                   )\n",
        "df1"
      ],
      "execution_count": null,
      "outputs": [
        {
          "output_type": "execute_result",
          "data": {
            "text/html": [
              "<div>\n",
              "<style scoped>\n",
              "    .dataframe tbody tr th:only-of-type {\n",
              "        vertical-align: middle;\n",
              "    }\n",
              "\n",
              "    .dataframe tbody tr th {\n",
              "        vertical-align: top;\n",
              "    }\n",
              "\n",
              "    .dataframe thead th {\n",
              "        text-align: right;\n",
              "    }\n",
              "</style>\n",
              "<table border=\"1\" class=\"dataframe\">\n",
              "  <thead>\n",
              "    <tr style=\"text-align: right;\">\n",
              "      <th></th>\n",
              "      <th>A</th>\n",
              "      <th>B</th>\n",
              "      <th>C</th>\n",
              "      <th>D</th>\n",
              "    </tr>\n",
              "  </thead>\n",
              "  <tbody>\n",
              "    <tr>\n",
              "      <th>1</th>\n",
              "      <td>A1</td>\n",
              "      <td>B1</td>\n",
              "      <td>C1</td>\n",
              "      <td>D1</td>\n",
              "    </tr>\n",
              "    <tr>\n",
              "      <th>2</th>\n",
              "      <td>A2</td>\n",
              "      <td>B2</td>\n",
              "      <td>C2</td>\n",
              "      <td>D2</td>\n",
              "    </tr>\n",
              "    <tr>\n",
              "      <th>3</th>\n",
              "      <td>A3</td>\n",
              "      <td>B3</td>\n",
              "      <td>C3</td>\n",
              "      <td>D3</td>\n",
              "    </tr>\n",
              "  </tbody>\n",
              "</table>\n",
              "</div>"
            ],
            "text/plain": [
              "    A   B   C   D\n",
              "1  A1  B1  C1  D1\n",
              "2  A2  B2  C2  D2\n",
              "3  A3  B3  C3  D3"
            ]
          },
          "metadata": {
            "tags": []
          },
          "execution_count": 41
        }
      ]
    },
    {
      "cell_type": "code",
      "metadata": {
        "colab": {
          "base_uri": "https://localhost:8080/",
          "height": 111
        },
        "id": "yr7D5gJEAdvm",
        "outputId": "251ee8c1-0e52-4fb8-e2b5-e79b92e4f7d0"
      },
      "source": [
        "# создадим таблицу df2\n",
        "df2 = pd.DataFrame(data = [['A4', 'B4', 'C4', 'D4'],\n",
        "                           ['A5', 'B5', 'C5', 'D5']], \n",
        "                   index = [4, 5], \n",
        "                   columns = ['A', 'B', 'C', 'D']\n",
        "                   )\n",
        "df2"
      ],
      "execution_count": null,
      "outputs": [
        {
          "output_type": "execute_result",
          "data": {
            "text/html": [
              "<div>\n",
              "<style scoped>\n",
              "    .dataframe tbody tr th:only-of-type {\n",
              "        vertical-align: middle;\n",
              "    }\n",
              "\n",
              "    .dataframe tbody tr th {\n",
              "        vertical-align: top;\n",
              "    }\n",
              "\n",
              "    .dataframe thead th {\n",
              "        text-align: right;\n",
              "    }\n",
              "</style>\n",
              "<table border=\"1\" class=\"dataframe\">\n",
              "  <thead>\n",
              "    <tr style=\"text-align: right;\">\n",
              "      <th></th>\n",
              "      <th>A</th>\n",
              "      <th>B</th>\n",
              "      <th>C</th>\n",
              "      <th>D</th>\n",
              "    </tr>\n",
              "  </thead>\n",
              "  <tbody>\n",
              "    <tr>\n",
              "      <th>4</th>\n",
              "      <td>A4</td>\n",
              "      <td>B4</td>\n",
              "      <td>C4</td>\n",
              "      <td>D4</td>\n",
              "    </tr>\n",
              "    <tr>\n",
              "      <th>5</th>\n",
              "      <td>A5</td>\n",
              "      <td>B5</td>\n",
              "      <td>C5</td>\n",
              "      <td>D5</td>\n",
              "    </tr>\n",
              "  </tbody>\n",
              "</table>\n",
              "</div>"
            ],
            "text/plain": [
              "    A   B   C   D\n",
              "4  A4  B4  C4  D4\n",
              "5  A5  B5  C5  D5"
            ]
          },
          "metadata": {
            "tags": []
          },
          "execution_count": 42
        }
      ]
    },
    {
      "cell_type": "code",
      "metadata": {
        "colab": {
          "base_uri": "https://localhost:8080/",
          "height": 204
        },
        "id": "djZrxVXwAzWg",
        "outputId": "bf683b79-752e-4161-e0b7-6e4845263b54"
      },
      "source": [
        "# объединим строки используя concat\n",
        "pd.concat([df1, df2])"
      ],
      "execution_count": null,
      "outputs": [
        {
          "output_type": "execute_result",
          "data": {
            "text/html": [
              "<div>\n",
              "<style scoped>\n",
              "    .dataframe tbody tr th:only-of-type {\n",
              "        vertical-align: middle;\n",
              "    }\n",
              "\n",
              "    .dataframe tbody tr th {\n",
              "        vertical-align: top;\n",
              "    }\n",
              "\n",
              "    .dataframe thead th {\n",
              "        text-align: right;\n",
              "    }\n",
              "</style>\n",
              "<table border=\"1\" class=\"dataframe\">\n",
              "  <thead>\n",
              "    <tr style=\"text-align: right;\">\n",
              "      <th></th>\n",
              "      <th>A</th>\n",
              "      <th>B</th>\n",
              "      <th>C</th>\n",
              "      <th>D</th>\n",
              "    </tr>\n",
              "  </thead>\n",
              "  <tbody>\n",
              "    <tr>\n",
              "      <th>1</th>\n",
              "      <td>A1</td>\n",
              "      <td>B1</td>\n",
              "      <td>C1</td>\n",
              "      <td>D1</td>\n",
              "    </tr>\n",
              "    <tr>\n",
              "      <th>2</th>\n",
              "      <td>A2</td>\n",
              "      <td>B2</td>\n",
              "      <td>C2</td>\n",
              "      <td>D2</td>\n",
              "    </tr>\n",
              "    <tr>\n",
              "      <th>3</th>\n",
              "      <td>A3</td>\n",
              "      <td>B3</td>\n",
              "      <td>C3</td>\n",
              "      <td>D3</td>\n",
              "    </tr>\n",
              "    <tr>\n",
              "      <th>4</th>\n",
              "      <td>A4</td>\n",
              "      <td>B4</td>\n",
              "      <td>C4</td>\n",
              "      <td>D4</td>\n",
              "    </tr>\n",
              "    <tr>\n",
              "      <th>5</th>\n",
              "      <td>A5</td>\n",
              "      <td>B5</td>\n",
              "      <td>C5</td>\n",
              "      <td>D5</td>\n",
              "    </tr>\n",
              "  </tbody>\n",
              "</table>\n",
              "</div>"
            ],
            "text/plain": [
              "    A   B   C   D\n",
              "1  A1  B1  C1  D1\n",
              "2  A2  B2  C2  D2\n",
              "3  A3  B3  C3  D3\n",
              "4  A4  B4  C4  D4\n",
              "5  A5  B5  C5  D5"
            ]
          },
          "metadata": {
            "tags": []
          },
          "execution_count": 43
        }
      ]
    },
    {
      "cell_type": "code",
      "metadata": {
        "colab": {
          "base_uri": "https://localhost:8080/",
          "height": 204
        },
        "id": "8Fit66bEAzho",
        "outputId": "39f45111-1397-480e-d2b7-fcc2e4ca5ae5"
      },
      "source": [
        "# объединим строки используя append\n",
        "df1.append(df2)"
      ],
      "execution_count": null,
      "outputs": [
        {
          "output_type": "execute_result",
          "data": {
            "text/html": [
              "<div>\n",
              "<style scoped>\n",
              "    .dataframe tbody tr th:only-of-type {\n",
              "        vertical-align: middle;\n",
              "    }\n",
              "\n",
              "    .dataframe tbody tr th {\n",
              "        vertical-align: top;\n",
              "    }\n",
              "\n",
              "    .dataframe thead th {\n",
              "        text-align: right;\n",
              "    }\n",
              "</style>\n",
              "<table border=\"1\" class=\"dataframe\">\n",
              "  <thead>\n",
              "    <tr style=\"text-align: right;\">\n",
              "      <th></th>\n",
              "      <th>A</th>\n",
              "      <th>B</th>\n",
              "      <th>C</th>\n",
              "      <th>D</th>\n",
              "    </tr>\n",
              "  </thead>\n",
              "  <tbody>\n",
              "    <tr>\n",
              "      <th>1</th>\n",
              "      <td>A1</td>\n",
              "      <td>B1</td>\n",
              "      <td>C1</td>\n",
              "      <td>D1</td>\n",
              "    </tr>\n",
              "    <tr>\n",
              "      <th>2</th>\n",
              "      <td>A2</td>\n",
              "      <td>B2</td>\n",
              "      <td>C2</td>\n",
              "      <td>D2</td>\n",
              "    </tr>\n",
              "    <tr>\n",
              "      <th>3</th>\n",
              "      <td>A3</td>\n",
              "      <td>B3</td>\n",
              "      <td>C3</td>\n",
              "      <td>D3</td>\n",
              "    </tr>\n",
              "    <tr>\n",
              "      <th>4</th>\n",
              "      <td>A4</td>\n",
              "      <td>B4</td>\n",
              "      <td>C4</td>\n",
              "      <td>D4</td>\n",
              "    </tr>\n",
              "    <tr>\n",
              "      <th>5</th>\n",
              "      <td>A5</td>\n",
              "      <td>B5</td>\n",
              "      <td>C5</td>\n",
              "      <td>D5</td>\n",
              "    </tr>\n",
              "  </tbody>\n",
              "</table>\n",
              "</div>"
            ],
            "text/plain": [
              "    A   B   C   D\n",
              "1  A1  B1  C1  D1\n",
              "2  A2  B2  C2  D2\n",
              "3  A3  B3  C3  D3\n",
              "4  A4  B4  C4  D4\n",
              "5  A5  B5  C5  D5"
            ]
          },
          "metadata": {
            "tags": []
          },
          "execution_count": 44
        }
      ]
    },
    {
      "cell_type": "markdown",
      "metadata": {
        "id": "xocmret5BQkf"
      },
      "source": [
        "## Конкатенация по столбцам"
      ]
    },
    {
      "cell_type": "markdown",
      "metadata": {
        "id": "S_rkLko7fMkX"
      },
      "source": [
        "Конкатенация по столбцам осущетсвляется аналогично конкатенации по строкам, но указываем axis = 1"
      ]
    },
    {
      "cell_type": "code",
      "metadata": {
        "id": "TQfK1zQLBVIR"
      },
      "source": [
        "# создаем два DataFrame\n",
        "df1 = pd.DataFrame(data = [['A1', 'B1', 'C1'],\n",
        "                           ['A2', 'B2', 'C2'],\n",
        "                           ['A3', 'B3', 'C3']], \n",
        "                   index = [1, 2, 3], \n",
        "                   columns = ['A', 'B', 'C']\n",
        "                   )\n",
        "\n",
        "df2 = pd.DataFrame(data = [['D2', 'E2', 'F2'],\n",
        "                           ['D3', 'E3', 'F3'],\n",
        "                           ['D4', 'E4', 'F4']], \n",
        "                   index = [2, 3, 4], \n",
        "                   columns = ['D', 'E', 'F']\n",
        "                   )"
      ],
      "execution_count": null,
      "outputs": []
    },
    {
      "cell_type": "code",
      "metadata": {
        "colab": {
          "base_uri": "https://localhost:8080/",
          "height": 142
        },
        "id": "Y55pBUgBDZRL",
        "outputId": "d74dbf86-57f0-4cbe-cfea-98d000656f8b"
      },
      "source": [
        "# выведем первый DataFrame\n",
        "df1"
      ],
      "execution_count": null,
      "outputs": [
        {
          "output_type": "execute_result",
          "data": {
            "text/html": [
              "<div>\n",
              "<style scoped>\n",
              "    .dataframe tbody tr th:only-of-type {\n",
              "        vertical-align: middle;\n",
              "    }\n",
              "\n",
              "    .dataframe tbody tr th {\n",
              "        vertical-align: top;\n",
              "    }\n",
              "\n",
              "    .dataframe thead th {\n",
              "        text-align: right;\n",
              "    }\n",
              "</style>\n",
              "<table border=\"1\" class=\"dataframe\">\n",
              "  <thead>\n",
              "    <tr style=\"text-align: right;\">\n",
              "      <th></th>\n",
              "      <th>A</th>\n",
              "      <th>B</th>\n",
              "      <th>C</th>\n",
              "    </tr>\n",
              "  </thead>\n",
              "  <tbody>\n",
              "    <tr>\n",
              "      <th>1</th>\n",
              "      <td>A1</td>\n",
              "      <td>B1</td>\n",
              "      <td>C1</td>\n",
              "    </tr>\n",
              "    <tr>\n",
              "      <th>2</th>\n",
              "      <td>A2</td>\n",
              "      <td>B2</td>\n",
              "      <td>C2</td>\n",
              "    </tr>\n",
              "    <tr>\n",
              "      <th>3</th>\n",
              "      <td>A3</td>\n",
              "      <td>B3</td>\n",
              "      <td>C3</td>\n",
              "    </tr>\n",
              "  </tbody>\n",
              "</table>\n",
              "</div>"
            ],
            "text/plain": [
              "    A   B   C\n",
              "1  A1  B1  C1\n",
              "2  A2  B2  C2\n",
              "3  A3  B3  C3"
            ]
          },
          "metadata": {
            "tags": []
          },
          "execution_count": 46
        }
      ]
    },
    {
      "cell_type": "code",
      "metadata": {
        "colab": {
          "base_uri": "https://localhost:8080/",
          "height": 142
        },
        "id": "Xnir0jnaDbRP",
        "outputId": "829277ef-ac0c-42ed-e491-a6a4dc8b6470"
      },
      "source": [
        "# выведем второй DataFrame\n",
        "df2"
      ],
      "execution_count": null,
      "outputs": [
        {
          "output_type": "execute_result",
          "data": {
            "text/html": [
              "<div>\n",
              "<style scoped>\n",
              "    .dataframe tbody tr th:only-of-type {\n",
              "        vertical-align: middle;\n",
              "    }\n",
              "\n",
              "    .dataframe tbody tr th {\n",
              "        vertical-align: top;\n",
              "    }\n",
              "\n",
              "    .dataframe thead th {\n",
              "        text-align: right;\n",
              "    }\n",
              "</style>\n",
              "<table border=\"1\" class=\"dataframe\">\n",
              "  <thead>\n",
              "    <tr style=\"text-align: right;\">\n",
              "      <th></th>\n",
              "      <th>D</th>\n",
              "      <th>E</th>\n",
              "      <th>F</th>\n",
              "    </tr>\n",
              "  </thead>\n",
              "  <tbody>\n",
              "    <tr>\n",
              "      <th>2</th>\n",
              "      <td>D2</td>\n",
              "      <td>E2</td>\n",
              "      <td>F2</td>\n",
              "    </tr>\n",
              "    <tr>\n",
              "      <th>3</th>\n",
              "      <td>D3</td>\n",
              "      <td>E3</td>\n",
              "      <td>F3</td>\n",
              "    </tr>\n",
              "    <tr>\n",
              "      <th>4</th>\n",
              "      <td>D4</td>\n",
              "      <td>E4</td>\n",
              "      <td>F4</td>\n",
              "    </tr>\n",
              "  </tbody>\n",
              "</table>\n",
              "</div>"
            ],
            "text/plain": [
              "    D   E   F\n",
              "2  D2  E2  F2\n",
              "3  D3  E3  F3\n",
              "4  D4  E4  F4"
            ]
          },
          "metadata": {
            "tags": []
          },
          "execution_count": 47
        }
      ]
    },
    {
      "cell_type": "code",
      "metadata": {
        "colab": {
          "base_uri": "https://localhost:8080/",
          "height": 173
        },
        "id": "NlaeeYpgCO-X",
        "outputId": "88bc7cac-3a34-416b-a7e5-d5164a98f118"
      },
      "source": [
        "# объединим ВСЕ строки, параметр join =  'outer'\n",
        "pd.concat([df1, df2], axis=1, join='outer')"
      ],
      "execution_count": null,
      "outputs": [
        {
          "output_type": "execute_result",
          "data": {
            "text/html": [
              "<div>\n",
              "<style scoped>\n",
              "    .dataframe tbody tr th:only-of-type {\n",
              "        vertical-align: middle;\n",
              "    }\n",
              "\n",
              "    .dataframe tbody tr th {\n",
              "        vertical-align: top;\n",
              "    }\n",
              "\n",
              "    .dataframe thead th {\n",
              "        text-align: right;\n",
              "    }\n",
              "</style>\n",
              "<table border=\"1\" class=\"dataframe\">\n",
              "  <thead>\n",
              "    <tr style=\"text-align: right;\">\n",
              "      <th></th>\n",
              "      <th>A</th>\n",
              "      <th>B</th>\n",
              "      <th>C</th>\n",
              "      <th>D</th>\n",
              "      <th>E</th>\n",
              "      <th>F</th>\n",
              "    </tr>\n",
              "  </thead>\n",
              "  <tbody>\n",
              "    <tr>\n",
              "      <th>1</th>\n",
              "      <td>A1</td>\n",
              "      <td>B1</td>\n",
              "      <td>C1</td>\n",
              "      <td>NaN</td>\n",
              "      <td>NaN</td>\n",
              "      <td>NaN</td>\n",
              "    </tr>\n",
              "    <tr>\n",
              "      <th>2</th>\n",
              "      <td>A2</td>\n",
              "      <td>B2</td>\n",
              "      <td>C2</td>\n",
              "      <td>D2</td>\n",
              "      <td>E2</td>\n",
              "      <td>F2</td>\n",
              "    </tr>\n",
              "    <tr>\n",
              "      <th>3</th>\n",
              "      <td>A3</td>\n",
              "      <td>B3</td>\n",
              "      <td>C3</td>\n",
              "      <td>D3</td>\n",
              "      <td>E3</td>\n",
              "      <td>F3</td>\n",
              "    </tr>\n",
              "    <tr>\n",
              "      <th>4</th>\n",
              "      <td>NaN</td>\n",
              "      <td>NaN</td>\n",
              "      <td>NaN</td>\n",
              "      <td>D4</td>\n",
              "      <td>E4</td>\n",
              "      <td>F4</td>\n",
              "    </tr>\n",
              "  </tbody>\n",
              "</table>\n",
              "</div>"
            ],
            "text/plain": [
              "     A    B    C    D    E    F\n",
              "1   A1   B1   C1  NaN  NaN  NaN\n",
              "2   A2   B2   C2   D2   E2   F2\n",
              "3   A3   B3   C3   D3   E3   F3\n",
              "4  NaN  NaN  NaN   D4   E4   F4"
            ]
          },
          "metadata": {
            "tags": []
          },
          "execution_count": 48
        }
      ]
    },
    {
      "cell_type": "code",
      "metadata": {
        "colab": {
          "base_uri": "https://localhost:8080/",
          "height": 111
        },
        "id": "buUiwRawCdn7",
        "outputId": "3df126f0-15ce-4eaa-ffd0-37be361713e9"
      },
      "source": [
        "# объединим только  строки с совпадающими индексами, параметр join =  'inner'\n",
        "pd.concat([df1, df2], axis=1, join='inner')"
      ],
      "execution_count": null,
      "outputs": [
        {
          "output_type": "execute_result",
          "data": {
            "text/html": [
              "<div>\n",
              "<style scoped>\n",
              "    .dataframe tbody tr th:only-of-type {\n",
              "        vertical-align: middle;\n",
              "    }\n",
              "\n",
              "    .dataframe tbody tr th {\n",
              "        vertical-align: top;\n",
              "    }\n",
              "\n",
              "    .dataframe thead th {\n",
              "        text-align: right;\n",
              "    }\n",
              "</style>\n",
              "<table border=\"1\" class=\"dataframe\">\n",
              "  <thead>\n",
              "    <tr style=\"text-align: right;\">\n",
              "      <th></th>\n",
              "      <th>A</th>\n",
              "      <th>B</th>\n",
              "      <th>C</th>\n",
              "      <th>D</th>\n",
              "      <th>E</th>\n",
              "      <th>F</th>\n",
              "    </tr>\n",
              "  </thead>\n",
              "  <tbody>\n",
              "    <tr>\n",
              "      <th>2</th>\n",
              "      <td>A2</td>\n",
              "      <td>B2</td>\n",
              "      <td>C2</td>\n",
              "      <td>D2</td>\n",
              "      <td>E2</td>\n",
              "      <td>F2</td>\n",
              "    </tr>\n",
              "    <tr>\n",
              "      <th>3</th>\n",
              "      <td>A3</td>\n",
              "      <td>B3</td>\n",
              "      <td>C3</td>\n",
              "      <td>D3</td>\n",
              "      <td>E3</td>\n",
              "      <td>F3</td>\n",
              "    </tr>\n",
              "  </tbody>\n",
              "</table>\n",
              "</div>"
            ],
            "text/plain": [
              "    A   B   C   D   E   F\n",
              "2  A2  B2  C2  D2  E2  F2\n",
              "3  A3  B3  C3  D3  E3  F3"
            ]
          },
          "metadata": {
            "tags": []
          },
          "execution_count": 49
        }
      ]
    },
    {
      "cell_type": "markdown",
      "metadata": {
        "id": "OBOJq8rmQbS2"
      },
      "source": [
        "## Объединение с помощью метода MERGE"
      ]
    },
    {
      "cell_type": "markdown",
      "metadata": {
        "id": "9N0-mBq5VQbn"
      },
      "source": [
        "![image.png](data:image/png;base64,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)"
      ]
    },
    {
      "cell_type": "markdown",
      "metadata": {
        "id": "4eijhm7vDq-7"
      },
      "source": [
        "В реальньных проектах нам часто приходится вытаскивать данные из нескольких таблиц.\n",
        "Рассмотрим пример, в котором у нас есть две таблицы:\n",
        "\n",
        "Одна таблица хранит данные об оценках всех студентов по предметам\n",
        "*   id_студента\n",
        "*   предмет\n",
        "*   оценка\n",
        "\n",
        "Другая таблица хранит данные об студентах\n",
        "*   id_студента\n",
        "*   домашний адрес\n",
        "*   телефон\n",
        "*   курс\n",
        "\n",
        "Как нам соединить эти данные, используя общее поле id_студента?\n",
        "В этом нам поможет функция pd.merge.\n",
        "\n",
        "Общие поля, по которым происходит объединение данных называются **ключами**.\n",
        "\n",
        "Для тех, кто знаком с SQL стоит упомянуть, что работает merge идентично join в SQL, хотя и называется по другому.  \n",
        "\n"
      ]
    },
    {
      "cell_type": "markdown",
      "metadata": {
        "id": "AuPNlmsBQh4K"
      },
      "source": [
        "Для иллюстрации мы будем использовать датасеты с отзывами об Аниме, взятые с https://www.kaggle.com/CooperUnion/anime-recommendations-database"
      ]
    },
    {
      "cell_type": "markdown",
      "metadata": {
        "id": "Z2H2Vvb9QE9n"
      },
      "source": [
        "! Мы используем загрузку датасетов из своего источника. Рекомендуем вам загружать из него. Однако, если у вас есть свой датасет, можете использовать ячейки ниже, подключить Google Drive, скопировать на него датасет, и не забудьте при загрузке указать свой адрес к файлу датасета, см. занятие по основам Python."
      ]
    },
    {
      "cell_type": "code",
      "metadata": {
        "colab": {
          "base_uri": "https://localhost:8080/"
        },
        "id": "s1ev9g2NQE95",
        "outputId": "1b0baf30-c1c4-418d-a485-0164956ec5f6"
      },
      "source": [
        "!wget http://dataudt.ru/datasets/anime.csv"
      ],
      "execution_count": null,
      "outputs": [
        {
          "output_type": "stream",
          "text": [
            "--2021-04-15 09:29:01--  http://dataudt.ru/datasets/anime.csv\n",
            "Resolving dataudt.ru (dataudt.ru)... 37.228.117.130\n",
            "Connecting to dataudt.ru (dataudt.ru)|37.228.117.130|:80... connected.\n",
            "HTTP request sent, awaiting response... 200 OK\n",
            "Length: 805572 (787K) [application/octet-stream]\n",
            "Saving to: ‘anime.csv’\n",
            "\n",
            "anime.csv           100%[===================>] 786.69K  2.38MB/s    in 0.3s    \n",
            "\n",
            "2021-04-15 09:29:02 (2.38 MB/s) - ‘anime.csv’ saved [805572/805572]\n",
            "\n"
          ],
          "name": "stdout"
        }
      ]
    },
    {
      "cell_type": "code",
      "metadata": {
        "colab": {
          "base_uri": "https://localhost:8080/"
        },
        "id": "9TgULTWfQ5oY",
        "outputId": "3d30a8c2-be0e-4af3-e695-8ddaa7015bb8"
      },
      "source": [
        "!wget http://dataudt.ru/datasets/rating.csv"
      ],
      "execution_count": null,
      "outputs": [
        {
          "output_type": "stream",
          "text": [
            "--2021-04-15 09:29:02--  http://dataudt.ru/datasets/rating.csv\n",
            "Resolving dataudt.ru (dataudt.ru)... 37.228.117.130\n",
            "Connecting to dataudt.ru (dataudt.ru)|37.228.117.130|:80... connected.\n",
            "HTTP request sent, awaiting response... 200 OK\n",
            "Length: 111404899 (106M) [application/octet-stream]\n",
            "Saving to: ‘rating.csv’\n",
            "\n",
            "rating.csv          100%[===================>] 106.24M  49.6MB/s    in 2.1s    \n",
            "\n",
            "2021-04-15 09:29:04 (49.6 MB/s) - ‘rating.csv’ saved [111404899/111404899]\n",
            "\n"
          ],
          "name": "stdout"
        }
      ]
    },
    {
      "cell_type": "code",
      "metadata": {
        "colab": {
          "base_uri": "https://localhost:8080/"
        },
        "id": "qwQZJHhQQE96",
        "outputId": "26dcc85a-a2dd-4922-89c6-bbdb1bb26b9e"
      },
      "source": [
        "!ls"
      ],
      "execution_count": null,
      "outputs": [
        {
          "output_type": "stream",
          "text": [
            "anime.csv  city_temperature.csv  rating.csv  sample_data  titanic.csv\n"
          ],
          "name": "stdout"
        }
      ]
    },
    {
      "cell_type": "code",
      "metadata": {
        "id": "fQ8bjs_qQE96"
      },
      "source": [
        "# прочитаем наши данные и заполним пропуски пустыми строками\n",
        "anime = pd.read_csv('/content/anime.csv')"
      ],
      "execution_count": null,
      "outputs": []
    },
    {
      "cell_type": "code",
      "metadata": {
        "id": "mXfOQ3KMQvCB"
      },
      "source": [
        "rating = pd.read_csv('/content/rating.csv')"
      ],
      "execution_count": null,
      "outputs": []
    },
    {
      "cell_type": "markdown",
      "metadata": {
        "id": "nOykPN5IQE97"
      },
      "source": [
        "Вот эти ячейки ниже можно использовать чтобы загрузить данные. Не забудьте изменить путь к файлу. Если не хотите менять путь, нужно предварительно на Google Drive создать папку datasets, и уже в неё скопировать файлы датасетов.\n"
      ]
    },
    {
      "cell_type": "code",
      "metadata": {
        "id": "cyadWc8CQiL6"
      },
      "source": [
        "# прочитаем наши данные и заполним пропуски пустыми строками\n",
        "\n",
        "#anime = pd.read_csv('/content/drive/MyDrive/datasets/anime.csv')"
      ],
      "execution_count": null,
      "outputs": []
    },
    {
      "cell_type": "code",
      "metadata": {
        "id": "6OrDhul8QIiW"
      },
      "source": [
        "#rating = pd.read_csv('/content/drive/MyDrive/datasets/rating.csv')"
      ],
      "execution_count": null,
      "outputs": []
    },
    {
      "cell_type": "code",
      "metadata": {
        "id": "6gWFw_-xQnCr"
      },
      "source": [
        "anime.fillna('', inplace=True)"
      ],
      "execution_count": null,
      "outputs": []
    },
    {
      "cell_type": "code",
      "metadata": {
        "colab": {
          "base_uri": "https://localhost:8080/",
          "height": 204
        },
        "id": "aM5pp0_Oy_FO",
        "outputId": "034609c6-5c6e-4ad5-e5f2-3f91d223e12d"
      },
      "source": [
        "# посмотрим на первую таблица\n",
        "anime.head()"
      ],
      "execution_count": null,
      "outputs": [
        {
          "output_type": "execute_result",
          "data": {
            "text/html": [
              "<div>\n",
              "<style scoped>\n",
              "    .dataframe tbody tr th:only-of-type {\n",
              "        vertical-align: middle;\n",
              "    }\n",
              "\n",
              "    .dataframe tbody tr th {\n",
              "        vertical-align: top;\n",
              "    }\n",
              "\n",
              "    .dataframe thead th {\n",
              "        text-align: right;\n",
              "    }\n",
              "</style>\n",
              "<table border=\"1\" class=\"dataframe\">\n",
              "  <thead>\n",
              "    <tr style=\"text-align: right;\">\n",
              "      <th></th>\n",
              "      <th>anime_id</th>\n",
              "      <th>name</th>\n",
              "      <th>genre</th>\n",
              "      <th>type</th>\n",
              "      <th>episodes</th>\n",
              "    </tr>\n",
              "  </thead>\n",
              "  <tbody>\n",
              "    <tr>\n",
              "      <th>0</th>\n",
              "      <td>32281</td>\n",
              "      <td>Kimi no Na wa.</td>\n",
              "      <td>Drama, Romance, School, Supernatural</td>\n",
              "      <td>Movie</td>\n",
              "      <td>1</td>\n",
              "    </tr>\n",
              "    <tr>\n",
              "      <th>1</th>\n",
              "      <td>5114</td>\n",
              "      <td>Fullmetal Alchemist: Brotherhood</td>\n",
              "      <td>Action, Adventure, Drama, Fantasy, Magic, Mili...</td>\n",
              "      <td>TV</td>\n",
              "      <td>64</td>\n",
              "    </tr>\n",
              "    <tr>\n",
              "      <th>2</th>\n",
              "      <td>28977</td>\n",
              "      <td>Gintama°</td>\n",
              "      <td>Action, Comedy, Historical, Parody, Samurai, S...</td>\n",
              "      <td>TV</td>\n",
              "      <td>51</td>\n",
              "    </tr>\n",
              "    <tr>\n",
              "      <th>3</th>\n",
              "      <td>9253</td>\n",
              "      <td>Steins;Gate</td>\n",
              "      <td>Sci-Fi, Thriller</td>\n",
              "      <td>TV</td>\n",
              "      <td>24</td>\n",
              "    </tr>\n",
              "    <tr>\n",
              "      <th>4</th>\n",
              "      <td>9969</td>\n",
              "      <td>Gintama&amp;#039;</td>\n",
              "      <td>Action, Comedy, Historical, Parody, Samurai, S...</td>\n",
              "      <td>TV</td>\n",
              "      <td>51</td>\n",
              "    </tr>\n",
              "  </tbody>\n",
              "</table>\n",
              "</div>"
            ],
            "text/plain": [
              "   anime_id                              name  ...   type episodes\n",
              "0     32281                    Kimi no Na wa.  ...  Movie        1\n",
              "1      5114  Fullmetal Alchemist: Brotherhood  ...     TV       64\n",
              "2     28977                          Gintama°  ...     TV       51\n",
              "3      9253                       Steins;Gate  ...     TV       24\n",
              "4      9969                     Gintama&#039;  ...     TV       51\n",
              "\n",
              "[5 rows x 5 columns]"
            ]
          },
          "metadata": {
            "tags": []
          },
          "execution_count": 58
        }
      ]
    },
    {
      "cell_type": "code",
      "metadata": {
        "colab": {
          "base_uri": "https://localhost:8080/"
        },
        "id": "g1xGSInz4UsJ",
        "outputId": "be87d664-5bd9-4a1b-df68-9eef93c4f073"
      },
      "source": [
        "anime.info() # а также выведем подробную информацию"
      ],
      "execution_count": null,
      "outputs": [
        {
          "output_type": "stream",
          "text": [
            "<class 'pandas.core.frame.DataFrame'>\n",
            "RangeIndex: 12294 entries, 0 to 12293\n",
            "Data columns (total 5 columns):\n",
            " #   Column    Non-Null Count  Dtype \n",
            "---  ------    --------------  ----- \n",
            " 0   anime_id  12294 non-null  int64 \n",
            " 1   name      12294 non-null  object\n",
            " 2   genre     12294 non-null  object\n",
            " 3   type      12294 non-null  object\n",
            " 4   episodes  12294 non-null  object\n",
            "dtypes: int64(1), object(4)\n",
            "memory usage: 480.4+ KB\n"
          ],
          "name": "stdout"
        }
      ]
    },
    {
      "cell_type": "code",
      "metadata": {
        "colab": {
          "base_uri": "https://localhost:8080/",
          "height": 204
        },
        "id": "EJj5xsdb0IYY",
        "outputId": "e03e6c56-2032-4006-e02b-94d408cd3b98"
      },
      "source": [
        "rating.head() # посмотрим на вторую таблицу "
      ],
      "execution_count": null,
      "outputs": [
        {
          "output_type": "execute_result",
          "data": {
            "text/html": [
              "<div>\n",
              "<style scoped>\n",
              "    .dataframe tbody tr th:only-of-type {\n",
              "        vertical-align: middle;\n",
              "    }\n",
              "\n",
              "    .dataframe tbody tr th {\n",
              "        vertical-align: top;\n",
              "    }\n",
              "\n",
              "    .dataframe thead th {\n",
              "        text-align: right;\n",
              "    }\n",
              "</style>\n",
              "<table border=\"1\" class=\"dataframe\">\n",
              "  <thead>\n",
              "    <tr style=\"text-align: right;\">\n",
              "      <th></th>\n",
              "      <th>user_id</th>\n",
              "      <th>anime_id</th>\n",
              "      <th>rating</th>\n",
              "    </tr>\n",
              "  </thead>\n",
              "  <tbody>\n",
              "    <tr>\n",
              "      <th>0</th>\n",
              "      <td>1</td>\n",
              "      <td>20</td>\n",
              "      <td>-1</td>\n",
              "    </tr>\n",
              "    <tr>\n",
              "      <th>1</th>\n",
              "      <td>1</td>\n",
              "      <td>24</td>\n",
              "      <td>-1</td>\n",
              "    </tr>\n",
              "    <tr>\n",
              "      <th>2</th>\n",
              "      <td>1</td>\n",
              "      <td>79</td>\n",
              "      <td>-1</td>\n",
              "    </tr>\n",
              "    <tr>\n",
              "      <th>3</th>\n",
              "      <td>1</td>\n",
              "      <td>226</td>\n",
              "      <td>-1</td>\n",
              "    </tr>\n",
              "    <tr>\n",
              "      <th>4</th>\n",
              "      <td>1</td>\n",
              "      <td>241</td>\n",
              "      <td>-1</td>\n",
              "    </tr>\n",
              "  </tbody>\n",
              "</table>\n",
              "</div>"
            ],
            "text/plain": [
              "   user_id  anime_id  rating\n",
              "0        1        20      -1\n",
              "1        1        24      -1\n",
              "2        1        79      -1\n",
              "3        1       226      -1\n",
              "4        1       241      -1"
            ]
          },
          "metadata": {
            "tags": []
          },
          "execution_count": 60
        }
      ]
    },
    {
      "cell_type": "code",
      "metadata": {
        "colab": {
          "base_uri": "https://localhost:8080/",
          "height": 266
        },
        "id": "FzzrMTad0QP7",
        "outputId": "4f415725-65e7-4a8a-ffad-b70596440b19"
      },
      "source": [
        "# посчитаем средний рейтинг и количество голосов для каждого аниме исппльзуя groupby \n",
        "mean_rating = rating[['anime_id', 'rating']].groupby(['anime_id']).agg(['mean', 'count'])\n",
        "\n",
        "mean_rating.head()"
      ],
      "execution_count": null,
      "outputs": [
        {
          "output_type": "execute_result",
          "data": {
            "text/html": [
              "<div>\n",
              "<style scoped>\n",
              "    .dataframe tbody tr th:only-of-type {\n",
              "        vertical-align: middle;\n",
              "    }\n",
              "\n",
              "    .dataframe tbody tr th {\n",
              "        vertical-align: top;\n",
              "    }\n",
              "\n",
              "    .dataframe thead tr th {\n",
              "        text-align: left;\n",
              "    }\n",
              "\n",
              "    .dataframe thead tr:last-of-type th {\n",
              "        text-align: right;\n",
              "    }\n",
              "</style>\n",
              "<table border=\"1\" class=\"dataframe\">\n",
              "  <thead>\n",
              "    <tr>\n",
              "      <th></th>\n",
              "      <th colspan=\"2\" halign=\"left\">rating</th>\n",
              "    </tr>\n",
              "    <tr>\n",
              "      <th></th>\n",
              "      <th>mean</th>\n",
              "      <th>count</th>\n",
              "    </tr>\n",
              "    <tr>\n",
              "      <th>anime_id</th>\n",
              "      <th></th>\n",
              "      <th></th>\n",
              "    </tr>\n",
              "  </thead>\n",
              "  <tbody>\n",
              "    <tr>\n",
              "      <th>1</th>\n",
              "      <td>7.558514</td>\n",
              "      <td>15509</td>\n",
              "    </tr>\n",
              "    <tr>\n",
              "      <th>5</th>\n",
              "      <td>6.890284</td>\n",
              "      <td>6927</td>\n",
              "    </tr>\n",
              "    <tr>\n",
              "      <th>6</th>\n",
              "      <td>6.980590</td>\n",
              "      <td>11077</td>\n",
              "    </tr>\n",
              "    <tr>\n",
              "      <th>7</th>\n",
              "      <td>6.040320</td>\n",
              "      <td>2629</td>\n",
              "    </tr>\n",
              "    <tr>\n",
              "      <th>8</th>\n",
              "      <td>5.113801</td>\n",
              "      <td>413</td>\n",
              "    </tr>\n",
              "  </tbody>\n",
              "</table>\n",
              "</div>"
            ],
            "text/plain": [
              "            rating       \n",
              "              mean  count\n",
              "anime_id                 \n",
              "1         7.558514  15509\n",
              "5         6.890284   6927\n",
              "6         6.980590  11077\n",
              "7         6.040320   2629\n",
              "8         5.113801    413"
            ]
          },
          "metadata": {
            "tags": []
          },
          "execution_count": 61
        }
      ]
    },
    {
      "cell_type": "code",
      "metadata": {
        "colab": {
          "base_uri": "https://localhost:8080/"
        },
        "id": "JJAWK2A41VqS",
        "outputId": "2d933ab6-8db5-43d8-ffef-1c372b62df71"
      },
      "source": [
        "mean_rating.columns # выведем индекс по столбцам"
      ],
      "execution_count": null,
      "outputs": [
        {
          "output_type": "execute_result",
          "data": {
            "text/plain": [
              "MultiIndex([('rating',  'mean'),\n",
              "            ('rating', 'count')],\n",
              "           )"
            ]
          },
          "metadata": {
            "tags": []
          },
          "execution_count": 62
        }
      ]
    },
    {
      "cell_type": "code",
      "metadata": {
        "colab": {
          "base_uri": "https://localhost:8080/",
          "height": 204
        },
        "id": "KOgMlAj_1kpp",
        "outputId": "b4636363-016c-4622-d672-291aa00ca45a"
      },
      "source": [
        "# изменим таблицу с расчитанными статистиками\n",
        "mean_rating.columns = ['rating_mean', 'rating_count'] #изменим названия колонок\n",
        "mean_rating = mean_rating.reset_index() # сбросим индекс, отправив anime_id в соответствующую колонку\n",
        "mean_rating.head() # выведем несколько строк результата"
      ],
      "execution_count": null,
      "outputs": [
        {
          "output_type": "execute_result",
          "data": {
            "text/html": [
              "<div>\n",
              "<style scoped>\n",
              "    .dataframe tbody tr th:only-of-type {\n",
              "        vertical-align: middle;\n",
              "    }\n",
              "\n",
              "    .dataframe tbody tr th {\n",
              "        vertical-align: top;\n",
              "    }\n",
              "\n",
              "    .dataframe thead th {\n",
              "        text-align: right;\n",
              "    }\n",
              "</style>\n",
              "<table border=\"1\" class=\"dataframe\">\n",
              "  <thead>\n",
              "    <tr style=\"text-align: right;\">\n",
              "      <th></th>\n",
              "      <th>anime_id</th>\n",
              "      <th>rating_mean</th>\n",
              "      <th>rating_count</th>\n",
              "    </tr>\n",
              "  </thead>\n",
              "  <tbody>\n",
              "    <tr>\n",
              "      <th>0</th>\n",
              "      <td>1</td>\n",
              "      <td>7.558514</td>\n",
              "      <td>15509</td>\n",
              "    </tr>\n",
              "    <tr>\n",
              "      <th>1</th>\n",
              "      <td>5</td>\n",
              "      <td>6.890284</td>\n",
              "      <td>6927</td>\n",
              "    </tr>\n",
              "    <tr>\n",
              "      <th>2</th>\n",
              "      <td>6</td>\n",
              "      <td>6.980590</td>\n",
              "      <td>11077</td>\n",
              "    </tr>\n",
              "    <tr>\n",
              "      <th>3</th>\n",
              "      <td>7</td>\n",
              "      <td>6.040320</td>\n",
              "      <td>2629</td>\n",
              "    </tr>\n",
              "    <tr>\n",
              "      <th>4</th>\n",
              "      <td>8</td>\n",
              "      <td>5.113801</td>\n",
              "      <td>413</td>\n",
              "    </tr>\n",
              "  </tbody>\n",
              "</table>\n",
              "</div>"
            ],
            "text/plain": [
              "   anime_id  rating_mean  rating_count\n",
              "0         1     7.558514         15509\n",
              "1         5     6.890284          6927\n",
              "2         6     6.980590         11077\n",
              "3         7     6.040320          2629\n",
              "4         8     5.113801           413"
            ]
          },
          "metadata": {
            "tags": []
          },
          "execution_count": 63
        }
      ]
    },
    {
      "cell_type": "markdown",
      "metadata": {
        "id": "AdGaL6-J6pYF"
      },
      "source": [
        "### Inner Join"
      ]
    },
    {
      "cell_type": "markdown",
      "metadata": {
        "id": "ZtNHCeiTjK1W"
      },
      "source": [
        "при использовании **inner** в итоговую таблицу попадут только те значения, значения ключей в которых имеются и в правой и в левой таблицах (т.е. **пересечение множества ключей** из левой и правой таблицы)"
      ]
    },
    {
      "cell_type": "markdown",
      "metadata": {
        "id": "cASGeeAMjZ0N"
      },
      "source": [
        "![inner_join.png](data:image/png;base64,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)"
      ]
    },
    {
      "cell_type": "code",
      "metadata": {
        "id": "VXNkHu1U1_8v"
      },
      "source": [
        "# объединим таблицы anime и mean_rating по ключу 'anime_id' с указанием how='inner'\n",
        "anime_inner  = anime.merge(mean_rating, how='inner', on='anime_id')"
      ],
      "execution_count": null,
      "outputs": []
    },
    {
      "cell_type": "code",
      "metadata": {
        "colab": {
          "base_uri": "https://localhost:8080/",
          "height": 128
        },
        "id": "Pw-r6DHw41YX",
        "outputId": "222f90eb-7bd5-4e6d-c784-9b84afcc3ba5"
      },
      "source": [
        "anime_inner.head(2) # выведем результат"
      ],
      "execution_count": null,
      "outputs": [
        {
          "output_type": "execute_result",
          "data": {
            "text/html": [
              "<div>\n",
              "<style scoped>\n",
              "    .dataframe tbody tr th:only-of-type {\n",
              "        vertical-align: middle;\n",
              "    }\n",
              "\n",
              "    .dataframe tbody tr th {\n",
              "        vertical-align: top;\n",
              "    }\n",
              "\n",
              "    .dataframe thead th {\n",
              "        text-align: right;\n",
              "    }\n",
              "</style>\n",
              "<table border=\"1\" class=\"dataframe\">\n",
              "  <thead>\n",
              "    <tr style=\"text-align: right;\">\n",
              "      <th></th>\n",
              "      <th>anime_id</th>\n",
              "      <th>name</th>\n",
              "      <th>genre</th>\n",
              "      <th>type</th>\n",
              "      <th>episodes</th>\n",
              "      <th>rating_mean</th>\n",
              "      <th>rating_count</th>\n",
              "    </tr>\n",
              "  </thead>\n",
              "  <tbody>\n",
              "    <tr>\n",
              "      <th>0</th>\n",
              "      <td>32281</td>\n",
              "      <td>Kimi no Na wa.</td>\n",
              "      <td>Drama, Romance, School, Supernatural</td>\n",
              "      <td>Movie</td>\n",
              "      <td>1</td>\n",
              "      <td>8.297863</td>\n",
              "      <td>2199</td>\n",
              "    </tr>\n",
              "    <tr>\n",
              "      <th>1</th>\n",
              "      <td>5114</td>\n",
              "      <td>Fullmetal Alchemist: Brotherhood</td>\n",
              "      <td>Action, Adventure, Drama, Fantasy, Magic, Mili...</td>\n",
              "      <td>TV</td>\n",
              "      <td>64</td>\n",
              "      <td>8.028933</td>\n",
              "      <td>24574</td>\n",
              "    </tr>\n",
              "  </tbody>\n",
              "</table>\n",
              "</div>"
            ],
            "text/plain": [
              "   anime_id                              name  ... rating_mean rating_count\n",
              "0     32281                    Kimi no Na wa.  ...    8.297863         2199\n",
              "1      5114  Fullmetal Alchemist: Brotherhood  ...    8.028933        24574\n",
              "\n",
              "[2 rows x 7 columns]"
            ]
          },
          "metadata": {
            "tags": []
          },
          "execution_count": 65
        }
      ]
    },
    {
      "cell_type": "code",
      "metadata": {
        "colab": {
          "base_uri": "https://localhost:8080/"
        },
        "id": "9SN4ATu33mUb",
        "outputId": "f044fafe-b1c9-47c9-f4c2-41c122beec18"
      },
      "source": [
        "anime_inner.shape # посмотрим количество строк и столбцов"
      ],
      "execution_count": null,
      "outputs": [
        {
          "output_type": "execute_result",
          "data": {
            "text/plain": [
              "(11197, 7)"
            ]
          },
          "metadata": {
            "tags": []
          },
          "execution_count": 66
        }
      ]
    },
    {
      "cell_type": "code",
      "metadata": {
        "colab": {
          "base_uri": "https://localhost:8080/"
        },
        "id": "ErgjgLd_60pK",
        "outputId": "9822514f-85fd-483f-ff0c-a30ef0a75474"
      },
      "source": [
        "anime_inner.info() #выведем информацию, обратим внимание на количество NaN, их нет"
      ],
      "execution_count": null,
      "outputs": [
        {
          "output_type": "stream",
          "text": [
            "<class 'pandas.core.frame.DataFrame'>\n",
            "Int64Index: 11197 entries, 0 to 11196\n",
            "Data columns (total 7 columns):\n",
            " #   Column        Non-Null Count  Dtype  \n",
            "---  ------        --------------  -----  \n",
            " 0   anime_id      11197 non-null  int64  \n",
            " 1   name          11197 non-null  object \n",
            " 2   genre         11197 non-null  object \n",
            " 3   type          11197 non-null  object \n",
            " 4   episodes      11197 non-null  object \n",
            " 5   rating_mean   11197 non-null  float64\n",
            " 6   rating_count  11197 non-null  int64  \n",
            "dtypes: float64(1), int64(2), object(4)\n",
            "memory usage: 699.8+ KB\n"
          ],
          "name": "stdout"
        }
      ]
    },
    {
      "cell_type": "markdown",
      "metadata": {
        "id": "l3SY-A8l7t2M"
      },
      "source": [
        "### Left Join"
      ]
    },
    {
      "cell_type": "markdown",
      "metadata": {
        "id": "tQl0vM5xkNar"
      },
      "source": [
        "При использовани **left** в итоговую таблицу попадут **все строки левой таблицы** и соответствующие им значения правой таблицы. Если таких значений не найдется, то будет присвоено NaN"
      ]
    },
    {
      "cell_type": "markdown",
      "metadata": {
        "id": "H6_YExmomLHA"
      },
      "source": [
        "![left_join.png](data:image/png;base64,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)"
      ]
    },
    {
      "cell_type": "code",
      "metadata": {
        "id": "y7cmCYb17yA2"
      },
      "source": [
        "# объединим таблицы anime и mean_rating по ключу 'anime_id' с указанием how='left'\n",
        "anime_left = anime.merge(mean_rating, how='left', on='anime_id')"
      ],
      "execution_count": null,
      "outputs": []
    },
    {
      "cell_type": "code",
      "metadata": {
        "colab": {
          "base_uri": "https://localhost:8080/",
          "height": 128
        },
        "id": "eKheoIqRlWD5",
        "outputId": "179c1e5b-62a7-4ff3-ef41-4d39208734e1"
      },
      "source": [
        "anime_left.head(2) # выведем результат"
      ],
      "execution_count": null,
      "outputs": [
        {
          "output_type": "execute_result",
          "data": {
            "text/html": [
              "<div>\n",
              "<style scoped>\n",
              "    .dataframe tbody tr th:only-of-type {\n",
              "        vertical-align: middle;\n",
              "    }\n",
              "\n",
              "    .dataframe tbody tr th {\n",
              "        vertical-align: top;\n",
              "    }\n",
              "\n",
              "    .dataframe thead th {\n",
              "        text-align: right;\n",
              "    }\n",
              "</style>\n",
              "<table border=\"1\" class=\"dataframe\">\n",
              "  <thead>\n",
              "    <tr style=\"text-align: right;\">\n",
              "      <th></th>\n",
              "      <th>anime_id</th>\n",
              "      <th>name</th>\n",
              "      <th>genre</th>\n",
              "      <th>type</th>\n",
              "      <th>episodes</th>\n",
              "      <th>rating_mean</th>\n",
              "      <th>rating_count</th>\n",
              "    </tr>\n",
              "  </thead>\n",
              "  <tbody>\n",
              "    <tr>\n",
              "      <th>0</th>\n",
              "      <td>32281</td>\n",
              "      <td>Kimi no Na wa.</td>\n",
              "      <td>Drama, Romance, School, Supernatural</td>\n",
              "      <td>Movie</td>\n",
              "      <td>1</td>\n",
              "      <td>8.297863</td>\n",
              "      <td>2199.0</td>\n",
              "    </tr>\n",
              "    <tr>\n",
              "      <th>1</th>\n",
              "      <td>5114</td>\n",
              "      <td>Fullmetal Alchemist: Brotherhood</td>\n",
              "      <td>Action, Adventure, Drama, Fantasy, Magic, Mili...</td>\n",
              "      <td>TV</td>\n",
              "      <td>64</td>\n",
              "      <td>8.028933</td>\n",
              "      <td>24574.0</td>\n",
              "    </tr>\n",
              "  </tbody>\n",
              "</table>\n",
              "</div>"
            ],
            "text/plain": [
              "   anime_id                              name  ... rating_mean rating_count\n",
              "0     32281                    Kimi no Na wa.  ...    8.297863       2199.0\n",
              "1      5114  Fullmetal Alchemist: Brotherhood  ...    8.028933      24574.0\n",
              "\n",
              "[2 rows x 7 columns]"
            ]
          },
          "metadata": {
            "tags": []
          },
          "execution_count": 69
        }
      ]
    },
    {
      "cell_type": "code",
      "metadata": {
        "colab": {
          "base_uri": "https://localhost:8080/"
        },
        "id": "IR9iLP85lSm3",
        "outputId": "222471fe-1e91-49b1-d2f2-88410e19c925"
      },
      "source": [
        "anime_left.shape # посмотрим количество строк и столбцов"
      ],
      "execution_count": null,
      "outputs": [
        {
          "output_type": "execute_result",
          "data": {
            "text/plain": [
              "(12294, 7)"
            ]
          },
          "metadata": {
            "tags": []
          },
          "execution_count": 70
        }
      ]
    },
    {
      "cell_type": "code",
      "metadata": {
        "colab": {
          "base_uri": "https://localhost:8080/",
          "height": 49
        },
        "id": "bLNTIleR7yKX",
        "outputId": "c083c94b-b7b7-424e-8a7f-65f7da5d6604"
      },
      "source": [
        "# проверим, есть ли в левой части итоговой таблицы пропущенные значения, оказывается их нет\n",
        "mask_na_left = anime_left['name'].isna()\n",
        "anime_left[mask_na_left]"
      ],
      "execution_count": null,
      "outputs": [
        {
          "output_type": "execute_result",
          "data": {
            "text/html": [
              "<div>\n",
              "<style scoped>\n",
              "    .dataframe tbody tr th:only-of-type {\n",
              "        vertical-align: middle;\n",
              "    }\n",
              "\n",
              "    .dataframe tbody tr th {\n",
              "        vertical-align: top;\n",
              "    }\n",
              "\n",
              "    .dataframe thead th {\n",
              "        text-align: right;\n",
              "    }\n",
              "</style>\n",
              "<table border=\"1\" class=\"dataframe\">\n",
              "  <thead>\n",
              "    <tr style=\"text-align: right;\">\n",
              "      <th></th>\n",
              "      <th>anime_id</th>\n",
              "      <th>name</th>\n",
              "      <th>genre</th>\n",
              "      <th>type</th>\n",
              "      <th>episodes</th>\n",
              "      <th>rating_mean</th>\n",
              "      <th>rating_count</th>\n",
              "    </tr>\n",
              "  </thead>\n",
              "  <tbody>\n",
              "  </tbody>\n",
              "</table>\n",
              "</div>"
            ],
            "text/plain": [
              "Empty DataFrame\n",
              "Columns: [anime_id, name, genre, type, episodes, rating_mean, rating_count]\n",
              "Index: []"
            ]
          },
          "metadata": {
            "tags": []
          },
          "execution_count": 71
        }
      ]
    },
    {
      "cell_type": "code",
      "metadata": {
        "colab": {
          "base_uri": "https://localhost:8080/",
          "height": 504
        },
        "id": "p88R90IJ7yUJ",
        "outputId": "f7a8043e-431c-4729-c69d-fb7e6dbfea5f"
      },
      "source": [
        "# посмотрим есть ли пропущенные значения в правой части итоговой таблицы\n",
        "mask_na_right = anime_left['rating_count'].isna()\n",
        "anime_left[mask_na_right]"
      ],
      "execution_count": null,
      "outputs": [
        {
          "output_type": "execute_result",
          "data": {
            "text/html": [
              "<div>\n",
              "<style scoped>\n",
              "    .dataframe tbody tr th:only-of-type {\n",
              "        vertical-align: middle;\n",
              "    }\n",
              "\n",
              "    .dataframe tbody tr th {\n",
              "        vertical-align: top;\n",
              "    }\n",
              "\n",
              "    .dataframe thead th {\n",
              "        text-align: right;\n",
              "    }\n",
              "</style>\n",
              "<table border=\"1\" class=\"dataframe\">\n",
              "  <thead>\n",
              "    <tr style=\"text-align: right;\">\n",
              "      <th></th>\n",
              "      <th>anime_id</th>\n",
              "      <th>name</th>\n",
              "      <th>genre</th>\n",
              "      <th>type</th>\n",
              "      <th>episodes</th>\n",
              "      <th>rating_mean</th>\n",
              "      <th>rating_count</th>\n",
              "    </tr>\n",
              "  </thead>\n",
              "  <tbody>\n",
              "    <tr>\n",
              "      <th>31</th>\n",
              "      <td>32983</td>\n",
              "      <td>Natsume Yuujinchou Go</td>\n",
              "      <td>Drama, Fantasy, Shoujo, Slice of Life, Superna...</td>\n",
              "      <td>TV</td>\n",
              "      <td>13</td>\n",
              "      <td>NaN</td>\n",
              "      <td>NaN</td>\n",
              "    </tr>\n",
              "    <tr>\n",
              "      <th>62</th>\n",
              "      <td>32995</td>\n",
              "      <td>Yuri!!! on Ice</td>\n",
              "      <td>Comedy, Sports</td>\n",
              "      <td>TV</td>\n",
              "      <td>12</td>\n",
              "      <td>NaN</td>\n",
              "      <td>NaN</td>\n",
              "    </tr>\n",
              "    <tr>\n",
              "      <th>74</th>\n",
              "      <td>21</td>\n",
              "      <td>One Piece</td>\n",
              "      <td>Action, Adventure, Comedy, Drama, Fantasy, Sho...</td>\n",
              "      <td>TV</td>\n",
              "      <td>Unknown</td>\n",
              "      <td>NaN</td>\n",
              "      <td>NaN</td>\n",
              "    </tr>\n",
              "    <tr>\n",
              "      <th>76</th>\n",
              "      <td>31933</td>\n",
              "      <td>JoJo no Kimyou na Bouken: Diamond wa Kudakenai</td>\n",
              "      <td>Action, Adventure, Comedy, Drama, Shounen, Sup...</td>\n",
              "      <td>TV</td>\n",
              "      <td>39</td>\n",
              "      <td>NaN</td>\n",
              "      <td>NaN</td>\n",
              "    </tr>\n",
              "    <tr>\n",
              "      <th>140</th>\n",
              "      <td>10937</td>\n",
              "      <td>Mobile Suit Gundam: The Origin</td>\n",
              "      <td>Action, Mecha, Military, Sci-Fi, Shounen, Space</td>\n",
              "      <td>OVA</td>\n",
              "      <td>6</td>\n",
              "      <td>NaN</td>\n",
              "      <td>NaN</td>\n",
              "    </tr>\n",
              "    <tr>\n",
              "      <th>...</th>\n",
              "      <td>...</td>\n",
              "      <td>...</td>\n",
              "      <td>...</td>\n",
              "      <td>...</td>\n",
              "      <td>...</td>\n",
              "      <td>...</td>\n",
              "      <td>...</td>\n",
              "    </tr>\n",
              "    <tr>\n",
              "      <th>12274</th>\n",
              "      <td>34492</td>\n",
              "      <td>Nuki Doki! Tenshi to Akuma no Sakusei Battle -...</td>\n",
              "      <td>Hentai</td>\n",
              "      <td>OVA</td>\n",
              "      <td>Unknown</td>\n",
              "      <td>NaN</td>\n",
              "      <td>NaN</td>\n",
              "    </tr>\n",
              "    <tr>\n",
              "      <th>12279</th>\n",
              "      <td>34491</td>\n",
              "      <td>Sagurare Otome The Animation</td>\n",
              "      <td>Hentai</td>\n",
              "      <td>OVA</td>\n",
              "      <td>1</td>\n",
              "      <td>NaN</td>\n",
              "      <td>NaN</td>\n",
              "    </tr>\n",
              "    <tr>\n",
              "      <th>12280</th>\n",
              "      <td>34312</td>\n",
              "      <td>Saimin Class</td>\n",
              "      <td>Hentai</td>\n",
              "      <td>OVA</td>\n",
              "      <td>Unknown</td>\n",
              "      <td>NaN</td>\n",
              "      <td>NaN</td>\n",
              "    </tr>\n",
              "    <tr>\n",
              "      <th>12282</th>\n",
              "      <td>34388</td>\n",
              "      <td>Shikkoku no Shaga The Animation</td>\n",
              "      <td>Hentai</td>\n",
              "      <td>OVA</td>\n",
              "      <td>Unknown</td>\n",
              "      <td>NaN</td>\n",
              "      <td>NaN</td>\n",
              "    </tr>\n",
              "    <tr>\n",
              "      <th>12285</th>\n",
              "      <td>34399</td>\n",
              "      <td>Taimanin Asagi 3</td>\n",
              "      <td>Demons, Hentai, Supernatural</td>\n",
              "      <td>OVA</td>\n",
              "      <td>Unknown</td>\n",
              "      <td>NaN</td>\n",
              "      <td>NaN</td>\n",
              "    </tr>\n",
              "  </tbody>\n",
              "</table>\n",
              "<p>1097 rows × 7 columns</p>\n",
              "</div>"
            ],
            "text/plain": [
              "       anime_id  ... rating_count\n",
              "31        32983  ...          NaN\n",
              "62        32995  ...          NaN\n",
              "74           21  ...          NaN\n",
              "76        31933  ...          NaN\n",
              "140       10937  ...          NaN\n",
              "...         ...  ...          ...\n",
              "12274     34492  ...          NaN\n",
              "12279     34491  ...          NaN\n",
              "12280     34312  ...          NaN\n",
              "12282     34388  ...          NaN\n",
              "12285     34399  ...          NaN\n",
              "\n",
              "[1097 rows x 7 columns]"
            ]
          },
          "metadata": {
            "tags": []
          },
          "execution_count": 72
        }
      ]
    },
    {
      "cell_type": "markdown",
      "metadata": {
        "id": "YGST8Llml1Ol"
      },
      "source": [
        "Как мы видим нашлось 1097 аниме, для которых нет данных о рейтинге"
      ]
    },
    {
      "cell_type": "markdown",
      "metadata": {
        "id": "oaNLB5VT8y32"
      },
      "source": [
        "### Right Join"
      ]
    },
    {
      "cell_type": "markdown",
      "metadata": {
        "id": "qE8-jaYpmx_N"
      },
      "source": [
        "При использовани **right** в итоговую таблицу попадут **все строки правой таблицы** и соответствующие им значения левой таблицы. Если таких значений не найдется, то будет присвоено NaN"
      ]
    },
    {
      "cell_type": "markdown",
      "metadata": {
        "id": "ut3AZJOemyKN"
      },
      "source": [
        "![right_join.png](data:image/png;base64,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)"
      ]
    },
    {
      "cell_type": "code",
      "metadata": {
        "id": "b5GOFAY587b9"
      },
      "source": [
        "# объединим таблицы anime и mean_rating по ключу 'anime_id' с указанием how='right'\n",
        "anime_right = anime.merge(mean_rating, how='right', on='anime_id')"
      ],
      "execution_count": null,
      "outputs": []
    },
    {
      "cell_type": "code",
      "metadata": {
        "colab": {
          "base_uri": "https://localhost:8080/",
          "height": 145
        },
        "id": "igICpNJVnNGc",
        "outputId": "d62a03d7-2d70-498d-d17e-044e3db854f6"
      },
      "source": [
        "anime_right.head(2) # выведем результат"
      ],
      "execution_count": null,
      "outputs": [
        {
          "output_type": "execute_result",
          "data": {
            "text/html": [
              "<div>\n",
              "<style scoped>\n",
              "    .dataframe tbody tr th:only-of-type {\n",
              "        vertical-align: middle;\n",
              "    }\n",
              "\n",
              "    .dataframe tbody tr th {\n",
              "        vertical-align: top;\n",
              "    }\n",
              "\n",
              "    .dataframe thead th {\n",
              "        text-align: right;\n",
              "    }\n",
              "</style>\n",
              "<table border=\"1\" class=\"dataframe\">\n",
              "  <thead>\n",
              "    <tr style=\"text-align: right;\">\n",
              "      <th></th>\n",
              "      <th>anime_id</th>\n",
              "      <th>name</th>\n",
              "      <th>genre</th>\n",
              "      <th>type</th>\n",
              "      <th>episodes</th>\n",
              "      <th>rating_mean</th>\n",
              "      <th>rating_count</th>\n",
              "    </tr>\n",
              "  </thead>\n",
              "  <tbody>\n",
              "    <tr>\n",
              "      <th>0</th>\n",
              "      <td>1</td>\n",
              "      <td>Cowboy Bebop</td>\n",
              "      <td>Action, Adventure, Comedy, Drama, Sci-Fi, Space</td>\n",
              "      <td>TV</td>\n",
              "      <td>26</td>\n",
              "      <td>7.558514</td>\n",
              "      <td>15509</td>\n",
              "    </tr>\n",
              "    <tr>\n",
              "      <th>1</th>\n",
              "      <td>5</td>\n",
              "      <td>Cowboy Bebop: Tengoku no Tobira</td>\n",
              "      <td>Action, Drama, Mystery, Sci-Fi, Space</td>\n",
              "      <td>Movie</td>\n",
              "      <td>1</td>\n",
              "      <td>6.890284</td>\n",
              "      <td>6927</td>\n",
              "    </tr>\n",
              "  </tbody>\n",
              "</table>\n",
              "</div>"
            ],
            "text/plain": [
              "   anime_id                             name  ... rating_mean rating_count\n",
              "0         1                     Cowboy Bebop  ...    7.558514        15509\n",
              "1         5  Cowboy Bebop: Tengoku no Tobira  ...    6.890284         6927\n",
              "\n",
              "[2 rows x 7 columns]"
            ]
          },
          "metadata": {
            "tags": []
          },
          "execution_count": 74
        }
      ]
    },
    {
      "cell_type": "code",
      "metadata": {
        "colab": {
          "base_uri": "https://localhost:8080/"
        },
        "id": "n_GxcHmgnSpQ",
        "outputId": "38b11d71-3d66-43eb-e85a-c16a373cf1d1"
      },
      "source": [
        "anime_right.shape # посмотрим количество строк и столбцов"
      ],
      "execution_count": null,
      "outputs": [
        {
          "output_type": "execute_result",
          "data": {
            "text/plain": [
              "(11200, 7)"
            ]
          },
          "metadata": {
            "tags": []
          },
          "execution_count": 75
        }
      ]
    },
    {
      "cell_type": "code",
      "metadata": {
        "colab": {
          "base_uri": "https://localhost:8080/",
          "height": 142
        },
        "id": "CDUlKM1e87ck",
        "outputId": "67b77ac9-2b0c-4158-96f1-357431dc56dd"
      },
      "source": [
        "# проверим, есть ли в левой части итоговой таблицы пропущенный значения, и они найдутся\n",
        "mask_na_left = anime_right['name'].isna()\n",
        "anime_right[mask_na_left]"
      ],
      "execution_count": null,
      "outputs": [
        {
          "output_type": "execute_result",
          "data": {
            "text/html": [
              "<div>\n",
              "<style scoped>\n",
              "    .dataframe tbody tr th:only-of-type {\n",
              "        vertical-align: middle;\n",
              "    }\n",
              "\n",
              "    .dataframe tbody tr th {\n",
              "        vertical-align: top;\n",
              "    }\n",
              "\n",
              "    .dataframe thead th {\n",
              "        text-align: right;\n",
              "    }\n",
              "</style>\n",
              "<table border=\"1\" class=\"dataframe\">\n",
              "  <thead>\n",
              "    <tr style=\"text-align: right;\">\n",
              "      <th></th>\n",
              "      <th>anime_id</th>\n",
              "      <th>name</th>\n",
              "      <th>genre</th>\n",
              "      <th>type</th>\n",
              "      <th>episodes</th>\n",
              "      <th>rating_mean</th>\n",
              "      <th>rating_count</th>\n",
              "    </tr>\n",
              "  </thead>\n",
              "  <tbody>\n",
              "    <tr>\n",
              "      <th>8251</th>\n",
              "      <td>20261</td>\n",
              "      <td>NaN</td>\n",
              "      <td>NaN</td>\n",
              "      <td>NaN</td>\n",
              "      <td>NaN</td>\n",
              "      <td>-1.000000</td>\n",
              "      <td>1</td>\n",
              "    </tr>\n",
              "    <tr>\n",
              "      <th>10392</th>\n",
              "      <td>30913</td>\n",
              "      <td>NaN</td>\n",
              "      <td>NaN</td>\n",
              "      <td>NaN</td>\n",
              "      <td>NaN</td>\n",
              "      <td>1.857143</td>\n",
              "      <td>7</td>\n",
              "    </tr>\n",
              "    <tr>\n",
              "      <th>10400</th>\n",
              "      <td>30924</td>\n",
              "      <td>NaN</td>\n",
              "      <td>NaN</td>\n",
              "      <td>NaN</td>\n",
              "      <td>NaN</td>\n",
              "      <td>-1.000000</td>\n",
              "      <td>2</td>\n",
              "    </tr>\n",
              "  </tbody>\n",
              "</table>\n",
              "</div>"
            ],
            "text/plain": [
              "       anime_id name genre type episodes  rating_mean  rating_count\n",
              "8251      20261  NaN   NaN  NaN      NaN    -1.000000             1\n",
              "10392     30913  NaN   NaN  NaN      NaN     1.857143             7\n",
              "10400     30924  NaN   NaN  NaN      NaN    -1.000000             2"
            ]
          },
          "metadata": {
            "tags": []
          },
          "execution_count": 76
        }
      ]
    },
    {
      "cell_type": "code",
      "metadata": {
        "colab": {
          "base_uri": "https://localhost:8080/",
          "height": 49
        },
        "id": "KlGXdXtO87cl",
        "outputId": "af520014-1945-4f4d-a036-8507a9c88700"
      },
      "source": [
        "# проверим, есть ли в правой части итоговой таблицы пропущенный значения, и их нет\n",
        "mask_na_right = anime_right['rating_count'].isna()\n",
        "anime_right[mask_na_right]"
      ],
      "execution_count": null,
      "outputs": [
        {
          "output_type": "execute_result",
          "data": {
            "text/html": [
              "<div>\n",
              "<style scoped>\n",
              "    .dataframe tbody tr th:only-of-type {\n",
              "        vertical-align: middle;\n",
              "    }\n",
              "\n",
              "    .dataframe tbody tr th {\n",
              "        vertical-align: top;\n",
              "    }\n",
              "\n",
              "    .dataframe thead th {\n",
              "        text-align: right;\n",
              "    }\n",
              "</style>\n",
              "<table border=\"1\" class=\"dataframe\">\n",
              "  <thead>\n",
              "    <tr style=\"text-align: right;\">\n",
              "      <th></th>\n",
              "      <th>anime_id</th>\n",
              "      <th>name</th>\n",
              "      <th>genre</th>\n",
              "      <th>type</th>\n",
              "      <th>episodes</th>\n",
              "      <th>rating_mean</th>\n",
              "      <th>rating_count</th>\n",
              "    </tr>\n",
              "  </thead>\n",
              "  <tbody>\n",
              "  </tbody>\n",
              "</table>\n",
              "</div>"
            ],
            "text/plain": [
              "Empty DataFrame\n",
              "Columns: [anime_id, name, genre, type, episodes, rating_mean, rating_count]\n",
              "Index: []"
            ]
          },
          "metadata": {
            "tags": []
          },
          "execution_count": 77
        }
      ]
    },
    {
      "cell_type": "markdown",
      "metadata": {
        "id": "nCIW676l9heg"
      },
      "source": [
        "### Outer Join"
      ]
    },
    {
      "cell_type": "markdown",
      "metadata": {
        "id": "0Aj8k6d3m3EZ"
      },
      "source": [
        "При использовани **outer** в итоговую таблицу попадут **все строки левой таблицы** и **все строки правой таблицы**. Если в правой или левой части не будет найдена пара для какого-то ключа, то будет присвоено значение NaN"
      ]
    },
    {
      "cell_type": "markdown",
      "metadata": {
        "id": "mpi0dHZSm3QV"
      },
      "source": [
        "![outer_join.png](data:image/png;base64,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)"
      ]
    },
    {
      "cell_type": "code",
      "metadata": {
        "id": "idt3-jME4Z1o"
      },
      "source": [
        "# объединим таблицы anime и mean_rating по ключу 'anime_id' с указанием how='outer'\n",
        "anime_outer = anime.merge(mean_rating, how='outer', on='anime_id')"
      ],
      "execution_count": null,
      "outputs": []
    },
    {
      "cell_type": "code",
      "metadata": {
        "colab": {
          "base_uri": "https://localhost:8080/",
          "height": 128
        },
        "id": "syN6eR-qoIU7",
        "outputId": "64e6f9d8-de06-4e4c-b80e-d4d1a8f05e53"
      },
      "source": [
        "anime_outer.head(2) # выведем результат"
      ],
      "execution_count": null,
      "outputs": [
        {
          "output_type": "execute_result",
          "data": {
            "text/html": [
              "<div>\n",
              "<style scoped>\n",
              "    .dataframe tbody tr th:only-of-type {\n",
              "        vertical-align: middle;\n",
              "    }\n",
              "\n",
              "    .dataframe tbody tr th {\n",
              "        vertical-align: top;\n",
              "    }\n",
              "\n",
              "    .dataframe thead th {\n",
              "        text-align: right;\n",
              "    }\n",
              "</style>\n",
              "<table border=\"1\" class=\"dataframe\">\n",
              "  <thead>\n",
              "    <tr style=\"text-align: right;\">\n",
              "      <th></th>\n",
              "      <th>anime_id</th>\n",
              "      <th>name</th>\n",
              "      <th>genre</th>\n",
              "      <th>type</th>\n",
              "      <th>episodes</th>\n",
              "      <th>rating_mean</th>\n",
              "      <th>rating_count</th>\n",
              "    </tr>\n",
              "  </thead>\n",
              "  <tbody>\n",
              "    <tr>\n",
              "      <th>0</th>\n",
              "      <td>32281</td>\n",
              "      <td>Kimi no Na wa.</td>\n",
              "      <td>Drama, Romance, School, Supernatural</td>\n",
              "      <td>Movie</td>\n",
              "      <td>1</td>\n",
              "      <td>8.297863</td>\n",
              "      <td>2199.0</td>\n",
              "    </tr>\n",
              "    <tr>\n",
              "      <th>1</th>\n",
              "      <td>5114</td>\n",
              "      <td>Fullmetal Alchemist: Brotherhood</td>\n",
              "      <td>Action, Adventure, Drama, Fantasy, Magic, Mili...</td>\n",
              "      <td>TV</td>\n",
              "      <td>64</td>\n",
              "      <td>8.028933</td>\n",
              "      <td>24574.0</td>\n",
              "    </tr>\n",
              "  </tbody>\n",
              "</table>\n",
              "</div>"
            ],
            "text/plain": [
              "   anime_id                              name  ... rating_mean rating_count\n",
              "0     32281                    Kimi no Na wa.  ...    8.297863       2199.0\n",
              "1      5114  Fullmetal Alchemist: Brotherhood  ...    8.028933      24574.0\n",
              "\n",
              "[2 rows x 7 columns]"
            ]
          },
          "metadata": {
            "tags": []
          },
          "execution_count": 79
        }
      ]
    },
    {
      "cell_type": "code",
      "metadata": {
        "colab": {
          "base_uri": "https://localhost:8080/"
        },
        "id": "YaA-0rikoIeU",
        "outputId": "128394b8-f6e7-4982-fd0d-6fc606133c43"
      },
      "source": [
        "anime_outer.shape # посмотрим количество строк и столбцов"
      ],
      "execution_count": null,
      "outputs": [
        {
          "output_type": "execute_result",
          "data": {
            "text/plain": [
              "(12297, 7)"
            ]
          },
          "metadata": {
            "tags": []
          },
          "execution_count": 80
        }
      ]
    },
    {
      "cell_type": "code",
      "metadata": {
        "colab": {
          "base_uri": "https://localhost:8080/",
          "height": 142
        },
        "id": "vxupE12_oU1c",
        "outputId": "95f03a0a-ab55-4dd6-f3ca-dd846df83953"
      },
      "source": [
        "# проверим, есть ли в левой части итоговой таблицы пропущенные значения, и они найдутся\n",
        "mask_na_left = anime_outer['name'].isna()\n",
        "anime_outer[mask_na_left]"
      ],
      "execution_count": null,
      "outputs": [
        {
          "output_type": "execute_result",
          "data": {
            "text/html": [
              "<div>\n",
              "<style scoped>\n",
              "    .dataframe tbody tr th:only-of-type {\n",
              "        vertical-align: middle;\n",
              "    }\n",
              "\n",
              "    .dataframe tbody tr th {\n",
              "        vertical-align: top;\n",
              "    }\n",
              "\n",
              "    .dataframe thead th {\n",
              "        text-align: right;\n",
              "    }\n",
              "</style>\n",
              "<table border=\"1\" class=\"dataframe\">\n",
              "  <thead>\n",
              "    <tr style=\"text-align: right;\">\n",
              "      <th></th>\n",
              "      <th>anime_id</th>\n",
              "      <th>name</th>\n",
              "      <th>genre</th>\n",
              "      <th>type</th>\n",
              "      <th>episodes</th>\n",
              "      <th>rating_mean</th>\n",
              "      <th>rating_count</th>\n",
              "    </tr>\n",
              "  </thead>\n",
              "  <tbody>\n",
              "    <tr>\n",
              "      <th>12294</th>\n",
              "      <td>20261</td>\n",
              "      <td>NaN</td>\n",
              "      <td>NaN</td>\n",
              "      <td>NaN</td>\n",
              "      <td>NaN</td>\n",
              "      <td>-1.000000</td>\n",
              "      <td>1.0</td>\n",
              "    </tr>\n",
              "    <tr>\n",
              "      <th>12295</th>\n",
              "      <td>30913</td>\n",
              "      <td>NaN</td>\n",
              "      <td>NaN</td>\n",
              "      <td>NaN</td>\n",
              "      <td>NaN</td>\n",
              "      <td>1.857143</td>\n",
              "      <td>7.0</td>\n",
              "    </tr>\n",
              "    <tr>\n",
              "      <th>12296</th>\n",
              "      <td>30924</td>\n",
              "      <td>NaN</td>\n",
              "      <td>NaN</td>\n",
              "      <td>NaN</td>\n",
              "      <td>NaN</td>\n",
              "      <td>-1.000000</td>\n",
              "      <td>2.0</td>\n",
              "    </tr>\n",
              "  </tbody>\n",
              "</table>\n",
              "</div>"
            ],
            "text/plain": [
              "       anime_id name genre type episodes  rating_mean  rating_count\n",
              "12294     20261  NaN   NaN  NaN      NaN    -1.000000           1.0\n",
              "12295     30913  NaN   NaN  NaN      NaN     1.857143           7.0\n",
              "12296     30924  NaN   NaN  NaN      NaN    -1.000000           2.0"
            ]
          },
          "metadata": {
            "tags": []
          },
          "execution_count": 81
        }
      ]
    },
    {
      "cell_type": "code",
      "metadata": {
        "colab": {
          "base_uri": "https://localhost:8080/",
          "height": 504
        },
        "id": "kFVqsiL0oU-U",
        "outputId": "67c111f9-3617-4848-a3b9-6f0b8086b4c3"
      },
      "source": [
        "# посмотрим есть ли пропущенные значения в правой части итоговой таблицы\n",
        "mask_na_right = anime_outer['rating_count'].isna()\n",
        "anime_outer[mask_na_right]"
      ],
      "execution_count": null,
      "outputs": [
        {
          "output_type": "execute_result",
          "data": {
            "text/html": [
              "<div>\n",
              "<style scoped>\n",
              "    .dataframe tbody tr th:only-of-type {\n",
              "        vertical-align: middle;\n",
              "    }\n",
              "\n",
              "    .dataframe tbody tr th {\n",
              "        vertical-align: top;\n",
              "    }\n",
              "\n",
              "    .dataframe thead th {\n",
              "        text-align: right;\n",
              "    }\n",
              "</style>\n",
              "<table border=\"1\" class=\"dataframe\">\n",
              "  <thead>\n",
              "    <tr style=\"text-align: right;\">\n",
              "      <th></th>\n",
              "      <th>anime_id</th>\n",
              "      <th>name</th>\n",
              "      <th>genre</th>\n",
              "      <th>type</th>\n",
              "      <th>episodes</th>\n",
              "      <th>rating_mean</th>\n",
              "      <th>rating_count</th>\n",
              "    </tr>\n",
              "  </thead>\n",
              "  <tbody>\n",
              "    <tr>\n",
              "      <th>31</th>\n",
              "      <td>32983</td>\n",
              "      <td>Natsume Yuujinchou Go</td>\n",
              "      <td>Drama, Fantasy, Shoujo, Slice of Life, Superna...</td>\n",
              "      <td>TV</td>\n",
              "      <td>13</td>\n",
              "      <td>NaN</td>\n",
              "      <td>NaN</td>\n",
              "    </tr>\n",
              "    <tr>\n",
              "      <th>62</th>\n",
              "      <td>32995</td>\n",
              "      <td>Yuri!!! on Ice</td>\n",
              "      <td>Comedy, Sports</td>\n",
              "      <td>TV</td>\n",
              "      <td>12</td>\n",
              "      <td>NaN</td>\n",
              "      <td>NaN</td>\n",
              "    </tr>\n",
              "    <tr>\n",
              "      <th>74</th>\n",
              "      <td>21</td>\n",
              "      <td>One Piece</td>\n",
              "      <td>Action, Adventure, Comedy, Drama, Fantasy, Sho...</td>\n",
              "      <td>TV</td>\n",
              "      <td>Unknown</td>\n",
              "      <td>NaN</td>\n",
              "      <td>NaN</td>\n",
              "    </tr>\n",
              "    <tr>\n",
              "      <th>76</th>\n",
              "      <td>31933</td>\n",
              "      <td>JoJo no Kimyou na Bouken: Diamond wa Kudakenai</td>\n",
              "      <td>Action, Adventure, Comedy, Drama, Shounen, Sup...</td>\n",
              "      <td>TV</td>\n",
              "      <td>39</td>\n",
              "      <td>NaN</td>\n",
              "      <td>NaN</td>\n",
              "    </tr>\n",
              "    <tr>\n",
              "      <th>140</th>\n",
              "      <td>10937</td>\n",
              "      <td>Mobile Suit Gundam: The Origin</td>\n",
              "      <td>Action, Mecha, Military, Sci-Fi, Shounen, Space</td>\n",
              "      <td>OVA</td>\n",
              "      <td>6</td>\n",
              "      <td>NaN</td>\n",
              "      <td>NaN</td>\n",
              "    </tr>\n",
              "    <tr>\n",
              "      <th>...</th>\n",
              "      <td>...</td>\n",
              "      <td>...</td>\n",
              "      <td>...</td>\n",
              "      <td>...</td>\n",
              "      <td>...</td>\n",
              "      <td>...</td>\n",
              "      <td>...</td>\n",
              "    </tr>\n",
              "    <tr>\n",
              "      <th>12274</th>\n",
              "      <td>34492</td>\n",
              "      <td>Nuki Doki! Tenshi to Akuma no Sakusei Battle -...</td>\n",
              "      <td>Hentai</td>\n",
              "      <td>OVA</td>\n",
              "      <td>Unknown</td>\n",
              "      <td>NaN</td>\n",
              "      <td>NaN</td>\n",
              "    </tr>\n",
              "    <tr>\n",
              "      <th>12279</th>\n",
              "      <td>34491</td>\n",
              "      <td>Sagurare Otome The Animation</td>\n",
              "      <td>Hentai</td>\n",
              "      <td>OVA</td>\n",
              "      <td>1</td>\n",
              "      <td>NaN</td>\n",
              "      <td>NaN</td>\n",
              "    </tr>\n",
              "    <tr>\n",
              "      <th>12280</th>\n",
              "      <td>34312</td>\n",
              "      <td>Saimin Class</td>\n",
              "      <td>Hentai</td>\n",
              "      <td>OVA</td>\n",
              "      <td>Unknown</td>\n",
              "      <td>NaN</td>\n",
              "      <td>NaN</td>\n",
              "    </tr>\n",
              "    <tr>\n",
              "      <th>12282</th>\n",
              "      <td>34388</td>\n",
              "      <td>Shikkoku no Shaga The Animation</td>\n",
              "      <td>Hentai</td>\n",
              "      <td>OVA</td>\n",
              "      <td>Unknown</td>\n",
              "      <td>NaN</td>\n",
              "      <td>NaN</td>\n",
              "    </tr>\n",
              "    <tr>\n",
              "      <th>12285</th>\n",
              "      <td>34399</td>\n",
              "      <td>Taimanin Asagi 3</td>\n",
              "      <td>Demons, Hentai, Supernatural</td>\n",
              "      <td>OVA</td>\n",
              "      <td>Unknown</td>\n",
              "      <td>NaN</td>\n",
              "      <td>NaN</td>\n",
              "    </tr>\n",
              "  </tbody>\n",
              "</table>\n",
              "<p>1097 rows × 7 columns</p>\n",
              "</div>"
            ],
            "text/plain": [
              "       anime_id  ... rating_count\n",
              "31        32983  ...          NaN\n",
              "62        32995  ...          NaN\n",
              "74           21  ...          NaN\n",
              "76        31933  ...          NaN\n",
              "140       10937  ...          NaN\n",
              "...         ...  ...          ...\n",
              "12274     34492  ...          NaN\n",
              "12279     34491  ...          NaN\n",
              "12280     34312  ...          NaN\n",
              "12282     34388  ...          NaN\n",
              "12285     34399  ...          NaN\n",
              "\n",
              "[1097 rows x 7 columns]"
            ]
          },
          "metadata": {
            "tags": []
          },
          "execution_count": 82
        }
      ]
    },
    {
      "cell_type": "markdown",
      "metadata": {
        "id": "m2QUHmMqVKiu"
      },
      "source": [
        "## Объединение с помощью метода JOIN"
      ]
    },
    {
      "cell_type": "markdown",
      "metadata": {
        "id": "xQI4H-2fYRIP"
      },
      "source": [
        "Метод join практически идентичен merge, с той разницей, что в левой таблице ключом является колонка, а в правой - индекс."
      ]
    },
    {
      "cell_type": "code",
      "metadata": {
        "id": "9k92mn1ZVPbL"
      },
      "source": [
        "# создадим две таблицы\n",
        "left_df = pd.DataFrame({ 'A': ['A0', 'A1', 'A2', 'A3'],\n",
        "                         'B': ['B0', 'B1', 'B2', 'B3'],\n",
        "                       'key': ['K0', 'K1', 'K2', 'K0'], # ключом является колонка\n",
        "                       })\n",
        "\n",
        "right_df = pd.DataFrame({ 'C': ['C0', 'C1', 'C2'],\n",
        "                          'D': ['D0', 'D1', 'D2']}, \n",
        "                        index = ['K0', 'K1', 'K2'], # ключом является индекс\n",
        "                       )"
      ],
      "execution_count": null,
      "outputs": []
    },
    {
      "cell_type": "code",
      "metadata": {
        "colab": {
          "base_uri": "https://localhost:8080/",
          "height": 173
        },
        "id": "0cx_TRebJGQh",
        "outputId": "364e0576-ba13-448b-91aa-695aa07d20bf"
      },
      "source": [
        "# посмотрим на левую таблицу\n",
        "left_df"
      ],
      "execution_count": null,
      "outputs": [
        {
          "output_type": "execute_result",
          "data": {
            "text/html": [
              "<div>\n",
              "<style scoped>\n",
              "    .dataframe tbody tr th:only-of-type {\n",
              "        vertical-align: middle;\n",
              "    }\n",
              "\n",
              "    .dataframe tbody tr th {\n",
              "        vertical-align: top;\n",
              "    }\n",
              "\n",
              "    .dataframe thead th {\n",
              "        text-align: right;\n",
              "    }\n",
              "</style>\n",
              "<table border=\"1\" class=\"dataframe\">\n",
              "  <thead>\n",
              "    <tr style=\"text-align: right;\">\n",
              "      <th></th>\n",
              "      <th>A</th>\n",
              "      <th>B</th>\n",
              "      <th>key</th>\n",
              "    </tr>\n",
              "  </thead>\n",
              "  <tbody>\n",
              "    <tr>\n",
              "      <th>0</th>\n",
              "      <td>A0</td>\n",
              "      <td>B0</td>\n",
              "      <td>K0</td>\n",
              "    </tr>\n",
              "    <tr>\n",
              "      <th>1</th>\n",
              "      <td>A1</td>\n",
              "      <td>B1</td>\n",
              "      <td>K1</td>\n",
              "    </tr>\n",
              "    <tr>\n",
              "      <th>2</th>\n",
              "      <td>A2</td>\n",
              "      <td>B2</td>\n",
              "      <td>K2</td>\n",
              "    </tr>\n",
              "    <tr>\n",
              "      <th>3</th>\n",
              "      <td>A3</td>\n",
              "      <td>B3</td>\n",
              "      <td>K0</td>\n",
              "    </tr>\n",
              "  </tbody>\n",
              "</table>\n",
              "</div>"
            ],
            "text/plain": [
              "    A   B key\n",
              "0  A0  B0  K0\n",
              "1  A1  B1  K1\n",
              "2  A2  B2  K2\n",
              "3  A3  B3  K0"
            ]
          },
          "metadata": {
            "tags": []
          },
          "execution_count": 84
        }
      ]
    },
    {
      "cell_type": "code",
      "metadata": {
        "colab": {
          "base_uri": "https://localhost:8080/",
          "height": 142
        },
        "id": "Iz8xJ8OqJI7R",
        "outputId": "8e5898a6-156c-468a-ece4-0991793f61bf"
      },
      "source": [
        "# посмотрим на правую таблицу\n",
        "right_df"
      ],
      "execution_count": null,
      "outputs": [
        {
          "output_type": "execute_result",
          "data": {
            "text/html": [
              "<div>\n",
              "<style scoped>\n",
              "    .dataframe tbody tr th:only-of-type {\n",
              "        vertical-align: middle;\n",
              "    }\n",
              "\n",
              "    .dataframe tbody tr th {\n",
              "        vertical-align: top;\n",
              "    }\n",
              "\n",
              "    .dataframe thead th {\n",
              "        text-align: right;\n",
              "    }\n",
              "</style>\n",
              "<table border=\"1\" class=\"dataframe\">\n",
              "  <thead>\n",
              "    <tr style=\"text-align: right;\">\n",
              "      <th></th>\n",
              "      <th>C</th>\n",
              "      <th>D</th>\n",
              "    </tr>\n",
              "  </thead>\n",
              "  <tbody>\n",
              "    <tr>\n",
              "      <th>K0</th>\n",
              "      <td>C0</td>\n",
              "      <td>D0</td>\n",
              "    </tr>\n",
              "    <tr>\n",
              "      <th>K1</th>\n",
              "      <td>C1</td>\n",
              "      <td>D1</td>\n",
              "    </tr>\n",
              "    <tr>\n",
              "      <th>K2</th>\n",
              "      <td>C2</td>\n",
              "      <td>D2</td>\n",
              "    </tr>\n",
              "  </tbody>\n",
              "</table>\n",
              "</div>"
            ],
            "text/plain": [
              "     C   D\n",
              "K0  C0  D0\n",
              "K1  C1  D1\n",
              "K2  C2  D2"
            ]
          },
          "metadata": {
            "tags": []
          },
          "execution_count": 85
        }
      ]
    },
    {
      "cell_type": "code",
      "metadata": {
        "colab": {
          "base_uri": "https://localhost:8080/",
          "height": 173
        },
        "id": "qz86VdkpHAgU",
        "outputId": "17e3b3b8-67ea-4e6a-929f-5f81b0d01b3f"
      },
      "source": [
        "# объедимим таблицы, how = 'left'\n",
        "left_df.join(right_df, on='key', how='left' )"
      ],
      "execution_count": null,
      "outputs": [
        {
          "output_type": "execute_result",
          "data": {
            "text/html": [
              "<div>\n",
              "<style scoped>\n",
              "    .dataframe tbody tr th:only-of-type {\n",
              "        vertical-align: middle;\n",
              "    }\n",
              "\n",
              "    .dataframe tbody tr th {\n",
              "        vertical-align: top;\n",
              "    }\n",
              "\n",
              "    .dataframe thead th {\n",
              "        text-align: right;\n",
              "    }\n",
              "</style>\n",
              "<table border=\"1\" class=\"dataframe\">\n",
              "  <thead>\n",
              "    <tr style=\"text-align: right;\">\n",
              "      <th></th>\n",
              "      <th>A</th>\n",
              "      <th>B</th>\n",
              "      <th>key</th>\n",
              "      <th>C</th>\n",
              "      <th>D</th>\n",
              "    </tr>\n",
              "  </thead>\n",
              "  <tbody>\n",
              "    <tr>\n",
              "      <th>0</th>\n",
              "      <td>A0</td>\n",
              "      <td>B0</td>\n",
              "      <td>K0</td>\n",
              "      <td>C0</td>\n",
              "      <td>D0</td>\n",
              "    </tr>\n",
              "    <tr>\n",
              "      <th>1</th>\n",
              "      <td>A1</td>\n",
              "      <td>B1</td>\n",
              "      <td>K1</td>\n",
              "      <td>C1</td>\n",
              "      <td>D1</td>\n",
              "    </tr>\n",
              "    <tr>\n",
              "      <th>2</th>\n",
              "      <td>A2</td>\n",
              "      <td>B2</td>\n",
              "      <td>K2</td>\n",
              "      <td>C2</td>\n",
              "      <td>D2</td>\n",
              "    </tr>\n",
              "    <tr>\n",
              "      <th>3</th>\n",
              "      <td>A3</td>\n",
              "      <td>B3</td>\n",
              "      <td>K0</td>\n",
              "      <td>C0</td>\n",
              "      <td>D0</td>\n",
              "    </tr>\n",
              "  </tbody>\n",
              "</table>\n",
              "</div>"
            ],
            "text/plain": [
              "    A   B key   C   D\n",
              "0  A0  B0  K0  C0  D0\n",
              "1  A1  B1  K1  C1  D1\n",
              "2  A2  B2  K2  C2  D2\n",
              "3  A3  B3  K0  C0  D0"
            ]
          },
          "metadata": {
            "tags": []
          },
          "execution_count": 86
        }
      ]
    },
    {
      "cell_type": "markdown",
      "metadata": {
        "id": "jRy3BhW7cto2"
      },
      "source": [
        "\n",
        "# Сортировка"
      ]
    },
    {
      "cell_type": "markdown",
      "metadata": {
        "id": "9Bsa-UTerm36"
      },
      "source": [
        "Иногда перед нами стоит задача отсортировать строки в DataFrame в зависимости от значений в колонках. Сортировка выполняется с помощью метода sort_values().\n",
        "Аргументы:\n",
        "\n",
        "\n",
        "*   by - указывается колонка или список колонок, по которым осуществляется сортировка\n",
        "*   ascending - по возрастанию (True, по умолчанию) или по убыванию (False)\n",
        "*   inplace - возвращается ли копия таблицы (False, по умолчанию) или производятся изменения исходной таблицы (True)\n",
        "\n",
        "\n",
        "Сделать сортирвоку по индексу можно с помощью метода sort_index(). Аргументы аналогичные sort_values()\n",
        "\n"
      ]
    },
    {
      "cell_type": "code",
      "metadata": {
        "id": "tiNt83T3cwtW",
        "colab": {
          "base_uri": "https://localhost:8080/",
          "height": 255
        },
        "outputId": "e316c0b6-91d4-46f6-80fe-904a0a33796c"
      },
      "source": [
        "# вспомним, как выглядела одна из наших таблиц\n",
        "anime_inner.head()"
      ],
      "execution_count": null,
      "outputs": [
        {
          "output_type": "execute_result",
          "data": {
            "text/html": [
              "<div>\n",
              "<style scoped>\n",
              "    .dataframe tbody tr th:only-of-type {\n",
              "        vertical-align: middle;\n",
              "    }\n",
              "\n",
              "    .dataframe tbody tr th {\n",
              "        vertical-align: top;\n",
              "    }\n",
              "\n",
              "    .dataframe thead th {\n",
              "        text-align: right;\n",
              "    }\n",
              "</style>\n",
              "<table border=\"1\" class=\"dataframe\">\n",
              "  <thead>\n",
              "    <tr style=\"text-align: right;\">\n",
              "      <th></th>\n",
              "      <th>anime_id</th>\n",
              "      <th>name</th>\n",
              "      <th>genre</th>\n",
              "      <th>type</th>\n",
              "      <th>episodes</th>\n",
              "      <th>rating_mean</th>\n",
              "      <th>rating_count</th>\n",
              "    </tr>\n",
              "  </thead>\n",
              "  <tbody>\n",
              "    <tr>\n",
              "      <th>0</th>\n",
              "      <td>32281</td>\n",
              "      <td>Kimi no Na wa.</td>\n",
              "      <td>Drama, Romance, School, Supernatural</td>\n",
              "      <td>Movie</td>\n",
              "      <td>1</td>\n",
              "      <td>8.297863</td>\n",
              "      <td>2199</td>\n",
              "    </tr>\n",
              "    <tr>\n",
              "      <th>1</th>\n",
              "      <td>5114</td>\n",
              "      <td>Fullmetal Alchemist: Brotherhood</td>\n",
              "      <td>Action, Adventure, Drama, Fantasy, Magic, Mili...</td>\n",
              "      <td>TV</td>\n",
              "      <td>64</td>\n",
              "      <td>8.028933</td>\n",
              "      <td>24574</td>\n",
              "    </tr>\n",
              "    <tr>\n",
              "      <th>2</th>\n",
              "      <td>28977</td>\n",
              "      <td>Gintama°</td>\n",
              "      <td>Action, Comedy, Historical, Parody, Samurai, S...</td>\n",
              "      <td>TV</td>\n",
              "      <td>51</td>\n",
              "      <td>7.956710</td>\n",
              "      <td>1386</td>\n",
              "    </tr>\n",
              "    <tr>\n",
              "      <th>3</th>\n",
              "      <td>9253</td>\n",
              "      <td>Steins;Gate</td>\n",
              "      <td>Sci-Fi, Thriller</td>\n",
              "      <td>TV</td>\n",
              "      <td>24</td>\n",
              "      <td>8.126796</td>\n",
              "      <td>19283</td>\n",
              "    </tr>\n",
              "    <tr>\n",
              "      <th>4</th>\n",
              "      <td>9969</td>\n",
              "      <td>Gintama&amp;#039;</td>\n",
              "      <td>Action, Comedy, Historical, Parody, Samurai, S...</td>\n",
              "      <td>TV</td>\n",
              "      <td>51</td>\n",
              "      <td>7.711952</td>\n",
              "      <td>3673</td>\n",
              "    </tr>\n",
              "  </tbody>\n",
              "</table>\n",
              "</div>"
            ],
            "text/plain": [
              "   anime_id                              name  ... rating_mean rating_count\n",
              "0     32281                    Kimi no Na wa.  ...    8.297863         2199\n",
              "1      5114  Fullmetal Alchemist: Brotherhood  ...    8.028933        24574\n",
              "2     28977                          Gintama°  ...    7.956710         1386\n",
              "3      9253                       Steins;Gate  ...    8.126796        19283\n",
              "4      9969                     Gintama&#039;  ...    7.711952         3673\n",
              "\n",
              "[5 rows x 7 columns]"
            ]
          },
          "metadata": {
            "tags": []
          },
          "execution_count": 87
        }
      ]
    },
    {
      "cell_type": "code",
      "metadata": {
        "colab": {
          "base_uri": "https://localhost:8080/",
          "height": 393
        },
        "id": "D6fA7S_SBANX",
        "outputId": "c2f90fd0-68d7-42bd-9d07-6294e4e3dcc9"
      },
      "source": [
        "# отсортируем зачения по колонке rating_mean по убыванию\n",
        "anime_inner.sort_values(by='rating_mean', ascending=False, inplace=True)\n",
        "anime_inner.head(10) # выведем первые 10 строк"
      ],
      "execution_count": null,
      "outputs": [
        {
          "output_type": "execute_result",
          "data": {
            "text/html": [
              "<div>\n",
              "<style scoped>\n",
              "    .dataframe tbody tr th:only-of-type {\n",
              "        vertical-align: middle;\n",
              "    }\n",
              "\n",
              "    .dataframe tbody tr th {\n",
              "        vertical-align: top;\n",
              "    }\n",
              "\n",
              "    .dataframe thead th {\n",
              "        text-align: right;\n",
              "    }\n",
              "</style>\n",
              "<table border=\"1\" class=\"dataframe\">\n",
              "  <thead>\n",
              "    <tr style=\"text-align: right;\">\n",
              "      <th></th>\n",
              "      <th>anime_id</th>\n",
              "      <th>name</th>\n",
              "      <th>genre</th>\n",
              "      <th>type</th>\n",
              "      <th>episodes</th>\n",
              "      <th>rating_mean</th>\n",
              "      <th>rating_count</th>\n",
              "    </tr>\n",
              "  </thead>\n",
              "  <tbody>\n",
              "    <tr>\n",
              "      <th>5445</th>\n",
              "      <td>34252</td>\n",
              "      <td>STAR BEAT!: Hoshi no Kodou</td>\n",
              "      <td>Music</td>\n",
              "      <td>Music</td>\n",
              "      <td>1</td>\n",
              "      <td>10.000000</td>\n",
              "      <td>1</td>\n",
              "    </tr>\n",
              "    <tr>\n",
              "      <th>8147</th>\n",
              "      <td>31211</td>\n",
              "      <td>Choegang Top Plate</td>\n",
              "      <td>Action, Comedy, Kids, Sports</td>\n",
              "      <td>TV</td>\n",
              "      <td>26</td>\n",
              "      <td>10.000000</td>\n",
              "      <td>1</td>\n",
              "    </tr>\n",
              "    <tr>\n",
              "      <th>9939</th>\n",
              "      <td>33791</td>\n",
              "      <td>Warui no wo Taose!! Salaryman Man</td>\n",
              "      <td>Comedy, Parody</td>\n",
              "      <td>ONA</td>\n",
              "      <td>1</td>\n",
              "      <td>10.000000</td>\n",
              "      <td>1</td>\n",
              "    </tr>\n",
              "    <tr>\n",
              "      <th>9572</th>\n",
              "      <td>33484</td>\n",
              "      <td>Shiroi Zou</td>\n",
              "      <td>Action, Historical, Kids</td>\n",
              "      <td>Movie</td>\n",
              "      <td>1</td>\n",
              "      <td>10.000000</td>\n",
              "      <td>1</td>\n",
              "    </tr>\n",
              "    <tr>\n",
              "      <th>8241</th>\n",
              "      <td>32422</td>\n",
              "      <td>Doukyuusei</td>\n",
              "      <td>Kids, Music</td>\n",
              "      <td>Music</td>\n",
              "      <td>1</td>\n",
              "      <td>9.000000</td>\n",
              "      <td>2</td>\n",
              "    </tr>\n",
              "    <tr>\n",
              "      <th>9567</th>\n",
              "      <td>30939</td>\n",
              "      <td>Shiranpuri</td>\n",
              "      <td>Drama, School</td>\n",
              "      <td>OVA</td>\n",
              "      <td>1</td>\n",
              "      <td>9.000000</td>\n",
              "      <td>1</td>\n",
              "    </tr>\n",
              "    <tr>\n",
              "      <th>6736</th>\n",
              "      <td>31972</td>\n",
              "      <td>Tang Lang Bu Chan</td>\n",
              "      <td>Historical</td>\n",
              "      <td>Movie</td>\n",
              "      <td>1</td>\n",
              "      <td>9.000000</td>\n",
              "      <td>1</td>\n",
              "    </tr>\n",
              "    <tr>\n",
              "      <th>9980</th>\n",
              "      <td>29837</td>\n",
              "      <td>Yakushiji Ryouko no Kaiki Jikenbo: Hamachou, V...</td>\n",
              "      <td>Mystery, Police, Supernatural</td>\n",
              "      <td>Special</td>\n",
              "      <td>1</td>\n",
              "      <td>9.000000</td>\n",
              "      <td>1</td>\n",
              "    </tr>\n",
              "    <tr>\n",
              "      <th>10062</th>\n",
              "      <td>30484</td>\n",
              "      <td>Steins;Gate 0</td>\n",
              "      <td>Sci-Fi, Thriller</td>\n",
              "      <td></td>\n",
              "      <td>Unknown</td>\n",
              "      <td>8.500000</td>\n",
              "      <td>4</td>\n",
              "    </tr>\n",
              "    <tr>\n",
              "      <th>0</th>\n",
              "      <td>32281</td>\n",
              "      <td>Kimi no Na wa.</td>\n",
              "      <td>Drama, Romance, School, Supernatural</td>\n",
              "      <td>Movie</td>\n",
              "      <td>1</td>\n",
              "      <td>8.297863</td>\n",
              "      <td>2199</td>\n",
              "    </tr>\n",
              "  </tbody>\n",
              "</table>\n",
              "</div>"
            ],
            "text/plain": [
              "       anime_id  ... rating_count\n",
              "5445      34252  ...            1\n",
              "8147      31211  ...            1\n",
              "9939      33791  ...            1\n",
              "9572      33484  ...            1\n",
              "8241      32422  ...            2\n",
              "9567      30939  ...            1\n",
              "6736      31972  ...            1\n",
              "9980      29837  ...            1\n",
              "10062     30484  ...            4\n",
              "0         32281  ...         2199\n",
              "\n",
              "[10 rows x 7 columns]"
            ]
          },
          "metadata": {
            "tags": []
          },
          "execution_count": 88
        }
      ]
    },
    {
      "cell_type": "code",
      "metadata": {
        "colab": {
          "base_uri": "https://localhost:8080/",
          "height": 427
        },
        "id": "sjd89lmTB9EQ",
        "outputId": "ffbbca52-4dc9-4020-b751-80b1e8f1d99c"
      },
      "source": [
        "anime_inner.tail(10) # выведем последние 10 строк"
      ],
      "execution_count": null,
      "outputs": [
        {
          "output_type": "execute_result",
          "data": {
            "text/html": [
              "<div>\n",
              "<style scoped>\n",
              "    .dataframe tbody tr th:only-of-type {\n",
              "        vertical-align: middle;\n",
              "    }\n",
              "\n",
              "    .dataframe tbody tr th {\n",
              "        vertical-align: top;\n",
              "    }\n",
              "\n",
              "    .dataframe thead th {\n",
              "        text-align: right;\n",
              "    }\n",
              "</style>\n",
              "<table border=\"1\" class=\"dataframe\">\n",
              "  <thead>\n",
              "    <tr style=\"text-align: right;\">\n",
              "      <th></th>\n",
              "      <th>anime_id</th>\n",
              "      <th>name</th>\n",
              "      <th>genre</th>\n",
              "      <th>type</th>\n",
              "      <th>episodes</th>\n",
              "      <th>rating_mean</th>\n",
              "      <th>rating_count</th>\n",
              "    </tr>\n",
              "  </thead>\n",
              "  <tbody>\n",
              "    <tr>\n",
              "      <th>9981</th>\n",
              "      <td>26313</td>\n",
              "      <td>Yakusoku: Africa Mizu to Midori</td>\n",
              "      <td>Drama, Kids</td>\n",
              "      <td>OVA</td>\n",
              "      <td>1</td>\n",
              "      <td>-1.0</td>\n",
              "      <td>1</td>\n",
              "    </tr>\n",
              "    <tr>\n",
              "      <th>8962</th>\n",
              "      <td>33183</td>\n",
              "      <td>Mahoutsukai Precure! Movie</td>\n",
              "      <td>Action, Fantasy, Magic, School, Shoujo, Slice ...</td>\n",
              "      <td>Movie</td>\n",
              "      <td>1</td>\n",
              "      <td>-1.0</td>\n",
              "      <td>1</td>\n",
              "    </tr>\n",
              "    <tr>\n",
              "      <th>8963</th>\n",
              "      <td>20499</td>\n",
              "      <td>Maji</td>\n",
              "      <td>Drama, Shounen</td>\n",
              "      <td>OVA</td>\n",
              "      <td>3</td>\n",
              "      <td>-1.0</td>\n",
              "      <td>3</td>\n",
              "    </tr>\n",
              "    <tr>\n",
              "      <th>9978</th>\n",
              "      <td>12795</td>\n",
              "      <td>Yajikita Gakuen Douchuuki</td>\n",
              "      <td>Adventure, Martial Arts, School, Shoujo</td>\n",
              "      <td>OVA</td>\n",
              "      <td>2</td>\n",
              "      <td>-1.0</td>\n",
              "      <td>1</td>\n",
              "    </tr>\n",
              "    <tr>\n",
              "      <th>8966</th>\n",
              "      <td>9818</td>\n",
              "      <td>Mak Dau BoloYao WongZi</td>\n",
              "      <td>Comedy</td>\n",
              "      <td>Movie</td>\n",
              "      <td>1</td>\n",
              "      <td>-1.0</td>\n",
              "      <td>1</td>\n",
              "    </tr>\n",
              "    <tr>\n",
              "      <th>8969</th>\n",
              "      <td>25073</td>\n",
              "      <td>Makiba no Shoujo Katori Specials</td>\n",
              "      <td>Adventure, Drama, Historical, Slice of Life</td>\n",
              "      <td>Special</td>\n",
              "      <td>2</td>\n",
              "      <td>-1.0</td>\n",
              "      <td>1</td>\n",
              "    </tr>\n",
              "    <tr>\n",
              "      <th>8970</th>\n",
              "      <td>20229</td>\n",
              "      <td>Makkuro na Obentou</td>\n",
              "      <td>Drama, Historical</td>\n",
              "      <td>Movie</td>\n",
              "      <td>1</td>\n",
              "      <td>-1.0</td>\n",
              "      <td>1</td>\n",
              "    </tr>\n",
              "    <tr>\n",
              "      <th>8971</th>\n",
              "      <td>8372</td>\n",
              "      <td>Makoto-chan</td>\n",
              "      <td>Comedy</td>\n",
              "      <td>Movie</td>\n",
              "      <td>1</td>\n",
              "      <td>-1.0</td>\n",
              "      <td>1</td>\n",
              "    </tr>\n",
              "    <tr>\n",
              "      <th>8974</th>\n",
              "      <td>26087</td>\n",
              "      <td>Mama Ohanashi Kikasete</td>\n",
              "      <td>Fantasy, Kids</td>\n",
              "      <td>TV</td>\n",
              "      <td>15</td>\n",
              "      <td>-1.0</td>\n",
              "      <td>1</td>\n",
              "    </tr>\n",
              "    <tr>\n",
              "      <th>11196</th>\n",
              "      <td>26081</td>\n",
              "      <td>Yasuji no Pornorama: Yacchimae!!</td>\n",
              "      <td>Hentai</td>\n",
              "      <td>Movie</td>\n",
              "      <td>1</td>\n",
              "      <td>-1.0</td>\n",
              "      <td>2</td>\n",
              "    </tr>\n",
              "  </tbody>\n",
              "</table>\n",
              "</div>"
            ],
            "text/plain": [
              "       anime_id                              name  ... rating_mean rating_count\n",
              "9981      26313   Yakusoku: Africa Mizu to Midori  ...        -1.0            1\n",
              "8962      33183        Mahoutsukai Precure! Movie  ...        -1.0            1\n",
              "8963      20499                              Maji  ...        -1.0            3\n",
              "9978      12795         Yajikita Gakuen Douchuuki  ...        -1.0            1\n",
              "8966       9818            Mak Dau BoloYao WongZi  ...        -1.0            1\n",
              "8969      25073  Makiba no Shoujo Katori Specials  ...        -1.0            1\n",
              "8970      20229                Makkuro na Obentou  ...        -1.0            1\n",
              "8971       8372                       Makoto-chan  ...        -1.0            1\n",
              "8974      26087            Mama Ohanashi Kikasete  ...        -1.0            1\n",
              "11196     26081  Yasuji no Pornorama: Yacchimae!!  ...        -1.0            2\n",
              "\n",
              "[10 rows x 7 columns]"
            ]
          },
          "metadata": {
            "tags": []
          },
          "execution_count": 89
        }
      ]
    },
    {
      "cell_type": "code",
      "metadata": {
        "colab": {
          "base_uri": "https://localhost:8080/",
          "height": 393
        },
        "id": "1HvxchQzBAXH",
        "outputId": "7fa39d0d-be6a-4119-f50d-fa00ad38707f"
      },
      "source": [
        "# произведем сортировку по рейтингу и количеству голосов, по убыванию\n",
        "anime_inner.sort_values(by=['rating_mean', 'rating_count'], ascending=False, inplace=True)\n",
        "anime_inner.head(10) # выведем первые 10 строк"
      ],
      "execution_count": null,
      "outputs": [
        {
          "output_type": "execute_result",
          "data": {
            "text/html": [
              "<div>\n",
              "<style scoped>\n",
              "    .dataframe tbody tr th:only-of-type {\n",
              "        vertical-align: middle;\n",
              "    }\n",
              "\n",
              "    .dataframe tbody tr th {\n",
              "        vertical-align: top;\n",
              "    }\n",
              "\n",
              "    .dataframe thead th {\n",
              "        text-align: right;\n",
              "    }\n",
              "</style>\n",
              "<table border=\"1\" class=\"dataframe\">\n",
              "  <thead>\n",
              "    <tr style=\"text-align: right;\">\n",
              "      <th></th>\n",
              "      <th>anime_id</th>\n",
              "      <th>name</th>\n",
              "      <th>genre</th>\n",
              "      <th>type</th>\n",
              "      <th>episodes</th>\n",
              "      <th>rating_mean</th>\n",
              "      <th>rating_count</th>\n",
              "    </tr>\n",
              "  </thead>\n",
              "  <tbody>\n",
              "    <tr>\n",
              "      <th>5445</th>\n",
              "      <td>34252</td>\n",
              "      <td>STAR BEAT!: Hoshi no Kodou</td>\n",
              "      <td>Music</td>\n",
              "      <td>Music</td>\n",
              "      <td>1</td>\n",
              "      <td>10.000000</td>\n",
              "      <td>1</td>\n",
              "    </tr>\n",
              "    <tr>\n",
              "      <th>8147</th>\n",
              "      <td>31211</td>\n",
              "      <td>Choegang Top Plate</td>\n",
              "      <td>Action, Comedy, Kids, Sports</td>\n",
              "      <td>TV</td>\n",
              "      <td>26</td>\n",
              "      <td>10.000000</td>\n",
              "      <td>1</td>\n",
              "    </tr>\n",
              "    <tr>\n",
              "      <th>9939</th>\n",
              "      <td>33791</td>\n",
              "      <td>Warui no wo Taose!! Salaryman Man</td>\n",
              "      <td>Comedy, Parody</td>\n",
              "      <td>ONA</td>\n",
              "      <td>1</td>\n",
              "      <td>10.000000</td>\n",
              "      <td>1</td>\n",
              "    </tr>\n",
              "    <tr>\n",
              "      <th>9572</th>\n",
              "      <td>33484</td>\n",
              "      <td>Shiroi Zou</td>\n",
              "      <td>Action, Historical, Kids</td>\n",
              "      <td>Movie</td>\n",
              "      <td>1</td>\n",
              "      <td>10.000000</td>\n",
              "      <td>1</td>\n",
              "    </tr>\n",
              "    <tr>\n",
              "      <th>8241</th>\n",
              "      <td>32422</td>\n",
              "      <td>Doukyuusei</td>\n",
              "      <td>Kids, Music</td>\n",
              "      <td>Music</td>\n",
              "      <td>1</td>\n",
              "      <td>9.000000</td>\n",
              "      <td>2</td>\n",
              "    </tr>\n",
              "    <tr>\n",
              "      <th>9567</th>\n",
              "      <td>30939</td>\n",
              "      <td>Shiranpuri</td>\n",
              "      <td>Drama, School</td>\n",
              "      <td>OVA</td>\n",
              "      <td>1</td>\n",
              "      <td>9.000000</td>\n",
              "      <td>1</td>\n",
              "    </tr>\n",
              "    <tr>\n",
              "      <th>6736</th>\n",
              "      <td>31972</td>\n",
              "      <td>Tang Lang Bu Chan</td>\n",
              "      <td>Historical</td>\n",
              "      <td>Movie</td>\n",
              "      <td>1</td>\n",
              "      <td>9.000000</td>\n",
              "      <td>1</td>\n",
              "    </tr>\n",
              "    <tr>\n",
              "      <th>9980</th>\n",
              "      <td>29837</td>\n",
              "      <td>Yakushiji Ryouko no Kaiki Jikenbo: Hamachou, V...</td>\n",
              "      <td>Mystery, Police, Supernatural</td>\n",
              "      <td>Special</td>\n",
              "      <td>1</td>\n",
              "      <td>9.000000</td>\n",
              "      <td>1</td>\n",
              "    </tr>\n",
              "    <tr>\n",
              "      <th>10062</th>\n",
              "      <td>30484</td>\n",
              "      <td>Steins;Gate 0</td>\n",
              "      <td>Sci-Fi, Thriller</td>\n",
              "      <td></td>\n",
              "      <td>Unknown</td>\n",
              "      <td>8.500000</td>\n",
              "      <td>4</td>\n",
              "    </tr>\n",
              "    <tr>\n",
              "      <th>0</th>\n",
              "      <td>32281</td>\n",
              "      <td>Kimi no Na wa.</td>\n",
              "      <td>Drama, Romance, School, Supernatural</td>\n",
              "      <td>Movie</td>\n",
              "      <td>1</td>\n",
              "      <td>8.297863</td>\n",
              "      <td>2199</td>\n",
              "    </tr>\n",
              "  </tbody>\n",
              "</table>\n",
              "</div>"
            ],
            "text/plain": [
              "       anime_id  ... rating_count\n",
              "5445      34252  ...            1\n",
              "8147      31211  ...            1\n",
              "9939      33791  ...            1\n",
              "9572      33484  ...            1\n",
              "8241      32422  ...            2\n",
              "9567      30939  ...            1\n",
              "6736      31972  ...            1\n",
              "9980      29837  ...            1\n",
              "10062     30484  ...            4\n",
              "0         32281  ...         2199\n",
              "\n",
              "[10 rows x 7 columns]"
            ]
          },
          "metadata": {
            "tags": []
          },
          "execution_count": 90
        }
      ]
    },
    {
      "cell_type": "code",
      "metadata": {
        "colab": {
          "base_uri": "https://localhost:8080/",
          "height": 444
        },
        "id": "EJh_aelWBAfV",
        "outputId": "d2546c9b-ad9f-4ac1-dde0-0b04fadcaa8b"
      },
      "source": [
        "anime_inner.tail(10) # выведем последние 10 строк"
      ],
      "execution_count": null,
      "outputs": [
        {
          "output_type": "execute_result",
          "data": {
            "text/html": [
              "<div>\n",
              "<style scoped>\n",
              "    .dataframe tbody tr th:only-of-type {\n",
              "        vertical-align: middle;\n",
              "    }\n",
              "\n",
              "    .dataframe tbody tr th {\n",
              "        vertical-align: top;\n",
              "    }\n",
              "\n",
              "    .dataframe thead th {\n",
              "        text-align: right;\n",
              "    }\n",
              "</style>\n",
              "<table border=\"1\" class=\"dataframe\">\n",
              "  <thead>\n",
              "    <tr style=\"text-align: right;\">\n",
              "      <th></th>\n",
              "      <th>anime_id</th>\n",
              "      <th>name</th>\n",
              "      <th>genre</th>\n",
              "      <th>type</th>\n",
              "      <th>episodes</th>\n",
              "      <th>rating_mean</th>\n",
              "      <th>rating_count</th>\n",
              "    </tr>\n",
              "  </thead>\n",
              "  <tbody>\n",
              "    <tr>\n",
              "      <th>9985</th>\n",
              "      <td>20205</td>\n",
              "      <td>Yama ni Kagayaku: Guide-ken Heiji Gou</td>\n",
              "      <td>Drama, Slice of Life</td>\n",
              "      <td>Special</td>\n",
              "      <td>1</td>\n",
              "      <td>-1.0</td>\n",
              "      <td>1</td>\n",
              "    </tr>\n",
              "    <tr>\n",
              "      <th>9984</th>\n",
              "      <td>10563</td>\n",
              "      <td>Yakyuukyou no Uta: Kita no Ookami Minami no Tora</td>\n",
              "      <td>Action, Drama, Sports</td>\n",
              "      <td>Movie</td>\n",
              "      <td>1</td>\n",
              "      <td>-1.0</td>\n",
              "      <td>1</td>\n",
              "    </tr>\n",
              "    <tr>\n",
              "      <th>9981</th>\n",
              "      <td>26313</td>\n",
              "      <td>Yakusoku: Africa Mizu to Midori</td>\n",
              "      <td>Drama, Kids</td>\n",
              "      <td>OVA</td>\n",
              "      <td>1</td>\n",
              "      <td>-1.0</td>\n",
              "      <td>1</td>\n",
              "    </tr>\n",
              "    <tr>\n",
              "      <th>8962</th>\n",
              "      <td>33183</td>\n",
              "      <td>Mahoutsukai Precure! Movie</td>\n",
              "      <td>Action, Fantasy, Magic, School, Shoujo, Slice ...</td>\n",
              "      <td>Movie</td>\n",
              "      <td>1</td>\n",
              "      <td>-1.0</td>\n",
              "      <td>1</td>\n",
              "    </tr>\n",
              "    <tr>\n",
              "      <th>9978</th>\n",
              "      <td>12795</td>\n",
              "      <td>Yajikita Gakuen Douchuuki</td>\n",
              "      <td>Adventure, Martial Arts, School, Shoujo</td>\n",
              "      <td>OVA</td>\n",
              "      <td>2</td>\n",
              "      <td>-1.0</td>\n",
              "      <td>1</td>\n",
              "    </tr>\n",
              "    <tr>\n",
              "      <th>8966</th>\n",
              "      <td>9818</td>\n",
              "      <td>Mak Dau BoloYao WongZi</td>\n",
              "      <td>Comedy</td>\n",
              "      <td>Movie</td>\n",
              "      <td>1</td>\n",
              "      <td>-1.0</td>\n",
              "      <td>1</td>\n",
              "    </tr>\n",
              "    <tr>\n",
              "      <th>8969</th>\n",
              "      <td>25073</td>\n",
              "      <td>Makiba no Shoujo Katori Specials</td>\n",
              "      <td>Adventure, Drama, Historical, Slice of Life</td>\n",
              "      <td>Special</td>\n",
              "      <td>2</td>\n",
              "      <td>-1.0</td>\n",
              "      <td>1</td>\n",
              "    </tr>\n",
              "    <tr>\n",
              "      <th>8970</th>\n",
              "      <td>20229</td>\n",
              "      <td>Makkuro na Obentou</td>\n",
              "      <td>Drama, Historical</td>\n",
              "      <td>Movie</td>\n",
              "      <td>1</td>\n",
              "      <td>-1.0</td>\n",
              "      <td>1</td>\n",
              "    </tr>\n",
              "    <tr>\n",
              "      <th>8971</th>\n",
              "      <td>8372</td>\n",
              "      <td>Makoto-chan</td>\n",
              "      <td>Comedy</td>\n",
              "      <td>Movie</td>\n",
              "      <td>1</td>\n",
              "      <td>-1.0</td>\n",
              "      <td>1</td>\n",
              "    </tr>\n",
              "    <tr>\n",
              "      <th>8974</th>\n",
              "      <td>26087</td>\n",
              "      <td>Mama Ohanashi Kikasete</td>\n",
              "      <td>Fantasy, Kids</td>\n",
              "      <td>TV</td>\n",
              "      <td>15</td>\n",
              "      <td>-1.0</td>\n",
              "      <td>1</td>\n",
              "    </tr>\n",
              "  </tbody>\n",
              "</table>\n",
              "</div>"
            ],
            "text/plain": [
              "      anime_id  ... rating_count\n",
              "9985     20205  ...            1\n",
              "9984     10563  ...            1\n",
              "9981     26313  ...            1\n",
              "8962     33183  ...            1\n",
              "9978     12795  ...            1\n",
              "8966      9818  ...            1\n",
              "8969     25073  ...            1\n",
              "8970     20229  ...            1\n",
              "8971      8372  ...            1\n",
              "8974     26087  ...            1\n",
              "\n",
              "[10 rows x 7 columns]"
            ]
          },
          "metadata": {
            "tags": []
          },
          "execution_count": 91
        }
      ]
    },
    {
      "cell_type": "code",
      "metadata": {
        "colab": {
          "base_uri": "https://localhost:8080/",
          "height": 255
        },
        "id": "p3Kyxv3yCE7V",
        "outputId": "bb5af7a6-7986-4954-d39b-131aabfe07b2"
      },
      "source": [
        "anime_inner.sort_index(inplace=True)\n",
        "anime_inner.head()"
      ],
      "execution_count": null,
      "outputs": [
        {
          "output_type": "execute_result",
          "data": {
            "text/html": [
              "<div>\n",
              "<style scoped>\n",
              "    .dataframe tbody tr th:only-of-type {\n",
              "        vertical-align: middle;\n",
              "    }\n",
              "\n",
              "    .dataframe tbody tr th {\n",
              "        vertical-align: top;\n",
              "    }\n",
              "\n",
              "    .dataframe thead th {\n",
              "        text-align: right;\n",
              "    }\n",
              "</style>\n",
              "<table border=\"1\" class=\"dataframe\">\n",
              "  <thead>\n",
              "    <tr style=\"text-align: right;\">\n",
              "      <th></th>\n",
              "      <th>anime_id</th>\n",
              "      <th>name</th>\n",
              "      <th>genre</th>\n",
              "      <th>type</th>\n",
              "      <th>episodes</th>\n",
              "      <th>rating_mean</th>\n",
              "      <th>rating_count</th>\n",
              "    </tr>\n",
              "  </thead>\n",
              "  <tbody>\n",
              "    <tr>\n",
              "      <th>0</th>\n",
              "      <td>32281</td>\n",
              "      <td>Kimi no Na wa.</td>\n",
              "      <td>Drama, Romance, School, Supernatural</td>\n",
              "      <td>Movie</td>\n",
              "      <td>1</td>\n",
              "      <td>8.297863</td>\n",
              "      <td>2199</td>\n",
              "    </tr>\n",
              "    <tr>\n",
              "      <th>1</th>\n",
              "      <td>5114</td>\n",
              "      <td>Fullmetal Alchemist: Brotherhood</td>\n",
              "      <td>Action, Adventure, Drama, Fantasy, Magic, Mili...</td>\n",
              "      <td>TV</td>\n",
              "      <td>64</td>\n",
              "      <td>8.028933</td>\n",
              "      <td>24574</td>\n",
              "    </tr>\n",
              "    <tr>\n",
              "      <th>2</th>\n",
              "      <td>28977</td>\n",
              "      <td>Gintama°</td>\n",
              "      <td>Action, Comedy, Historical, Parody, Samurai, S...</td>\n",
              "      <td>TV</td>\n",
              "      <td>51</td>\n",
              "      <td>7.956710</td>\n",
              "      <td>1386</td>\n",
              "    </tr>\n",
              "    <tr>\n",
              "      <th>3</th>\n",
              "      <td>9253</td>\n",
              "      <td>Steins;Gate</td>\n",
              "      <td>Sci-Fi, Thriller</td>\n",
              "      <td>TV</td>\n",
              "      <td>24</td>\n",
              "      <td>8.126796</td>\n",
              "      <td>19283</td>\n",
              "    </tr>\n",
              "    <tr>\n",
              "      <th>4</th>\n",
              "      <td>9969</td>\n",
              "      <td>Gintama&amp;#039;</td>\n",
              "      <td>Action, Comedy, Historical, Parody, Samurai, S...</td>\n",
              "      <td>TV</td>\n",
              "      <td>51</td>\n",
              "      <td>7.711952</td>\n",
              "      <td>3673</td>\n",
              "    </tr>\n",
              "  </tbody>\n",
              "</table>\n",
              "</div>"
            ],
            "text/plain": [
              "   anime_id                              name  ... rating_mean rating_count\n",
              "0     32281                    Kimi no Na wa.  ...    8.297863         2199\n",
              "1      5114  Fullmetal Alchemist: Brotherhood  ...    8.028933        24574\n",
              "2     28977                          Gintama°  ...    7.956710         1386\n",
              "3      9253                       Steins;Gate  ...    8.126796        19283\n",
              "4      9969                     Gintama&#039;  ...    7.711952         3673\n",
              "\n",
              "[5 rows x 7 columns]"
            ]
          },
          "metadata": {
            "tags": []
          },
          "execution_count": 92
        }
      ]
    },
    {
      "cell_type": "markdown",
      "metadata": {
        "id": "ApWxGu_6YS3X"
      },
      "source": [
        "# Datetime index"
      ]
    },
    {
      "cell_type": "markdown",
      "metadata": {
        "id": "f34Tp6j503cM"
      },
      "source": [
        "## Коротко о datetime"
      ]
    },
    {
      "cell_type": "markdown",
      "metadata": {
        "id": "msc57j72xu8D"
      },
      "source": [
        "Дата и время - очень важны, грамотная манипуляция ими нужна для успешного решения многих задач безнес-анализа. Именно по этому в python существует модуль datetime, включающий в себя классы и методы:\n",
        "\n",
        "Классы:\n",
        "*   datetime.date(year, month, day)\n",
        "*   datetime.timedelta - разница между двумя моментами времени, с точностью до микросекунд.\n",
        "*   datetime.datetime(year, month, day, hour=0, minute=0, second=0, microsecond=0, tzinfo=None) - комбинация даты и времени.\n",
        "\n",
        "Методы:\n",
        "*   datetime.today() - объект datetime из текущей даты и времени. Работает также, как и datetime.now() со значением tz=None.\n",
        "*   datetime.combine(date, time) - объект datetime из комбинации объектов date и time.\n",
        "*   datetime.strptime(date_string, format) - преобразует строку в datetime (так же, как и функция strptime из модуля time).\n",
        "*   datetime.date() - объект даты (с отсечением времени).\n",
        "*   datetime.time() - объект времени (с отсечением даты).\n",
        "*   datetime.weekday() - день недели в виде числа, понедельник - 0, воскресенье - 6\n",
        "\n",
        "Импорт модуля осуществляется с помощью команды:\n",
        "\n",
        "\n",
        "```\n",
        "import datetime\n",
        "```\n",
        "\n",
        "Однако глубокое знакомство с методами datetime выходит за рамки курса. При желании вы сможете разобраться с ними самостоятельно.\n",
        "\n",
        "\n"
      ]
    },
    {
      "cell_type": "markdown",
      "metadata": {
        "id": "M4quaSr42QBB"
      },
      "source": [
        "Что важно для нас - **pd.to_datetime** это метод, позволяющий преобразовать строковые данные в формат datetime  .  Вот некоторые его аргументы:\n",
        "\n",
        "*   **dayfirst** начинается ли дата со дня, по умолчанию False\n",
        "*   **yearfirst** начинается ли дата с года, по умолчанию False\n",
        "\n",
        "Т.к. формат текстового значения даты может отличаться от одного файла к другому важно грамотно подобрать аргументы парсинга. \n",
        "\n",
        "**Datetime_index** - это индекс, в котором используются данные типа datetime.\n",
        "\n",
        "\n"
      ]
    },
    {
      "cell_type": "markdown",
      "metadata": {
        "id": "1kD0-bCtRkmw"
      },
      "source": [
        "! Мы используем загрузку датасетов из своего источника. Рекомендуем вам загружать из него. Однако, если у вас есть свой датасет, можете использовать ячейки ниже, подключить Google Drive, скопировать на него датасет, и не забудьте при загрузке указать свой адрес к файлу датасета, см. занятие по основам Python."
      ]
    },
    {
      "cell_type": "code",
      "metadata": {
        "colab": {
          "base_uri": "https://localhost:8080/"
        },
        "id": "bWb07LV6RknA",
        "outputId": "01abaaca-c7a0-4a0b-e2a1-b4053c50ec11"
      },
      "source": [
        "!wget http://dataudt.ru/datasets/Weather.csv"
      ],
      "execution_count": null,
      "outputs": [
        {
          "output_type": "stream",
          "text": [
            "--2021-04-15 09:29:10--  http://dataudt.ru/datasets/Weather.csv\n",
            "Resolving dataudt.ru (dataudt.ru)... 37.228.117.130\n",
            "Connecting to dataudt.ru (dataudt.ru)|37.228.117.130|:80... connected.\n",
            "HTTP request sent, awaiting response... 200 OK\n",
            "Length: 1302472 (1.2M) [application/octet-stream]\n",
            "Saving to: ‘Weather.csv’\n",
            "\n",
            "Weather.csv         100%[===================>]   1.24M  5.02MB/s    in 0.2s    \n",
            "\n",
            "2021-04-15 09:29:10 (5.02 MB/s) - ‘Weather.csv’ saved [1302472/1302472]\n",
            "\n"
          ],
          "name": "stdout"
        }
      ]
    },
    {
      "cell_type": "code",
      "metadata": {
        "colab": {
          "base_uri": "https://localhost:8080/"
        },
        "id": "1tvgfsRTRknD",
        "outputId": "8ab4c0b0-0cdb-4546-d79c-24b48e751d07"
      },
      "source": [
        "!ls"
      ],
      "execution_count": null,
      "outputs": [
        {
          "output_type": "stream",
          "text": [
            "anime.csv\t      rating.csv   titanic.csv\n",
            "city_temperature.csv  sample_data  Weather.csv\n"
          ],
          "name": "stdout"
        }
      ]
    },
    {
      "cell_type": "code",
      "metadata": {
        "id": "yt708m6wRknD"
      },
      "source": [
        "# используем датасет о погоде взятый с https://www.kaggle.com/meinertsen/new-york-city-taxi-trip-hourly-weather-data\n",
        "weather_df = pd.read_csv('/content/Weather.csv') # загрузим данные в DataFrame"
      ],
      "execution_count": null,
      "outputs": []
    },
    {
      "cell_type": "markdown",
      "metadata": {
        "id": "hTSjRO3JRknE"
      },
      "source": [
        "Вот эти ячейки ниже можно использовать, чтобы загрузить данные. Не забудьте изменить путь к файлу. Если не хотите менять путь, нужно предварительно на Google Drive создать папку datasets, и уже в неё скопировать файлы датасетов.\n"
      ]
    },
    {
      "cell_type": "code",
      "metadata": {
        "id": "JpnA6lJFYUwv"
      },
      "source": [
        "# используем датасет о погоде взятый с https://www.kaggle.com/meinertsen/new-york-city-taxi-trip-hourly-weather-data\n",
        "\n",
        "#weather_df = pd.read_csv('/content/drive/MyDrive/datasets/Weather.csv') # загрузим данные в DataFrame"
      ],
      "execution_count": null,
      "outputs": []
    },
    {
      "cell_type": "code",
      "metadata": {
        "id": "uvToUx48YajJ",
        "colab": {
          "base_uri": "https://localhost:8080/",
          "height": 213
        },
        "outputId": "a556835f-847e-4218-9b24-f43563471508"
      },
      "source": [
        "weather_df.head(3) # выведем несколько строк"
      ],
      "execution_count": null,
      "outputs": [
        {
          "output_type": "execute_result",
          "data": {
            "text/html": [
              "<div>\n",
              "<style scoped>\n",
              "    .dataframe tbody tr th:only-of-type {\n",
              "        vertical-align: middle;\n",
              "    }\n",
              "\n",
              "    .dataframe tbody tr th {\n",
              "        vertical-align: top;\n",
              "    }\n",
              "\n",
              "    .dataframe thead th {\n",
              "        text-align: right;\n",
              "    }\n",
              "</style>\n",
              "<table border=\"1\" class=\"dataframe\">\n",
              "  <thead>\n",
              "    <tr style=\"text-align: right;\">\n",
              "      <th></th>\n",
              "      <th>pickup_datetime</th>\n",
              "      <th>tempm</th>\n",
              "      <th>tempi</th>\n",
              "      <th>dewptm</th>\n",
              "      <th>dewpti</th>\n",
              "      <th>hum</th>\n",
              "      <th>wspdm</th>\n",
              "      <th>wspdi</th>\n",
              "      <th>wgustm</th>\n",
              "      <th>wgusti</th>\n",
              "      <th>wdird</th>\n",
              "      <th>wdire</th>\n",
              "      <th>vism</th>\n",
              "      <th>visi</th>\n",
              "      <th>pressurem</th>\n",
              "      <th>pressurei</th>\n",
              "      <th>windchillm</th>\n",
              "      <th>windchilli</th>\n",
              "      <th>heatindexm</th>\n",
              "      <th>heatindexi</th>\n",
              "      <th>precipm</th>\n",
              "      <th>precipi</th>\n",
              "      <th>conds</th>\n",
              "      <th>icon</th>\n",
              "      <th>fog</th>\n",
              "      <th>rain</th>\n",
              "      <th>snow</th>\n",
              "      <th>hail</th>\n",
              "      <th>thunder</th>\n",
              "      <th>tornado</th>\n",
              "    </tr>\n",
              "  </thead>\n",
              "  <tbody>\n",
              "    <tr>\n",
              "      <th>0</th>\n",
              "      <td>2015-12-31 00:15:00</td>\n",
              "      <td>7.8</td>\n",
              "      <td>46.0</td>\n",
              "      <td>6.1</td>\n",
              "      <td>43.0</td>\n",
              "      <td>89.0</td>\n",
              "      <td>7.4</td>\n",
              "      <td>4.6</td>\n",
              "      <td>NaN</td>\n",
              "      <td>NaN</td>\n",
              "      <td>40</td>\n",
              "      <td>NE</td>\n",
              "      <td>4.0</td>\n",
              "      <td>2.5</td>\n",
              "      <td>1018.2</td>\n",
              "      <td>30.07</td>\n",
              "      <td>6.6</td>\n",
              "      <td>43.9</td>\n",
              "      <td>NaN</td>\n",
              "      <td>NaN</td>\n",
              "      <td>0.5</td>\n",
              "      <td>0.02</td>\n",
              "      <td>Light Rain</td>\n",
              "      <td>rain</td>\n",
              "      <td>0</td>\n",
              "      <td>1</td>\n",
              "      <td>0</td>\n",
              "      <td>0</td>\n",
              "      <td>0</td>\n",
              "      <td>0</td>\n",
              "    </tr>\n",
              "    <tr>\n",
              "      <th>1</th>\n",
              "      <td>2015-12-31 00:42:00</td>\n",
              "      <td>7.8</td>\n",
              "      <td>46.0</td>\n",
              "      <td>6.1</td>\n",
              "      <td>43.0</td>\n",
              "      <td>89.0</td>\n",
              "      <td>7.4</td>\n",
              "      <td>4.6</td>\n",
              "      <td>NaN</td>\n",
              "      <td>NaN</td>\n",
              "      <td>0</td>\n",
              "      <td>Variable</td>\n",
              "      <td>6.4</td>\n",
              "      <td>4.0</td>\n",
              "      <td>1017.8</td>\n",
              "      <td>30.06</td>\n",
              "      <td>6.6</td>\n",
              "      <td>43.9</td>\n",
              "      <td>NaN</td>\n",
              "      <td>NaN</td>\n",
              "      <td>0.8</td>\n",
              "      <td>0.03</td>\n",
              "      <td>Overcast</td>\n",
              "      <td>cloudy</td>\n",
              "      <td>0</td>\n",
              "      <td>0</td>\n",
              "      <td>0</td>\n",
              "      <td>0</td>\n",
              "      <td>0</td>\n",
              "      <td>0</td>\n",
              "    </tr>\n",
              "    <tr>\n",
              "      <th>2</th>\n",
              "      <td>2015-12-31 00:51:00</td>\n",
              "      <td>7.8</td>\n",
              "      <td>46.0</td>\n",
              "      <td>6.1</td>\n",
              "      <td>43.0</td>\n",
              "      <td>89.0</td>\n",
              "      <td>5.6</td>\n",
              "      <td>3.5</td>\n",
              "      <td>NaN</td>\n",
              "      <td>NaN</td>\n",
              "      <td>20</td>\n",
              "      <td>NNE</td>\n",
              "      <td>8.0</td>\n",
              "      <td>5.0</td>\n",
              "      <td>1017.0</td>\n",
              "      <td>30.04</td>\n",
              "      <td>7.1</td>\n",
              "      <td>44.8</td>\n",
              "      <td>NaN</td>\n",
              "      <td>NaN</td>\n",
              "      <td>0.8</td>\n",
              "      <td>0.03</td>\n",
              "      <td>Overcast</td>\n",
              "      <td>cloudy</td>\n",
              "      <td>0</td>\n",
              "      <td>0</td>\n",
              "      <td>0</td>\n",
              "      <td>0</td>\n",
              "      <td>0</td>\n",
              "      <td>0</td>\n",
              "    </tr>\n",
              "  </tbody>\n",
              "</table>\n",
              "</div>"
            ],
            "text/plain": [
              "       pickup_datetime  tempm  tempi  dewptm  ...  snow  hail  thunder  tornado\n",
              "0  2015-12-31 00:15:00    7.8   46.0     6.1  ...     0     0        0        0\n",
              "1  2015-12-31 00:42:00    7.8   46.0     6.1  ...     0     0        0        0\n",
              "2  2015-12-31 00:51:00    7.8   46.0     6.1  ...     0     0        0        0\n",
              "\n",
              "[3 rows x 30 columns]"
            ]
          },
          "metadata": {
            "tags": []
          },
          "execution_count": 97
        }
      ]
    },
    {
      "cell_type": "code",
      "metadata": {
        "id": "MJdhvgLOFBE3"
      },
      "source": [
        "#преобразуем колонку pickup_datetime к формату datetime\n",
        "dt_index =  pd.to_datetime(weather_df['pickup_datetime'])"
      ],
      "execution_count": null,
      "outputs": []
    },
    {
      "cell_type": "code",
      "metadata": {
        "colab": {
          "base_uri": "https://localhost:8080/",
          "height": 244
        },
        "id": "qhlHOTN8FBOR",
        "outputId": "a6e31d4f-fb9b-4104-bf1a-9f1a8a8ff728"
      },
      "source": [
        "weather_df.index = dt_index # индексируем таблицу по полученным значениям datetime\n",
        "weather_df.drop('pickup_datetime', axis=1, inplace=True) # удалим колонку pickup_datetime\n",
        "weather_df.head(3) # выведем первые строки "
      ],
      "execution_count": null,
      "outputs": [
        {
          "output_type": "execute_result",
          "data": {
            "text/html": [
              "<div>\n",
              "<style scoped>\n",
              "    .dataframe tbody tr th:only-of-type {\n",
              "        vertical-align: middle;\n",
              "    }\n",
              "\n",
              "    .dataframe tbody tr th {\n",
              "        vertical-align: top;\n",
              "    }\n",
              "\n",
              "    .dataframe thead th {\n",
              "        text-align: right;\n",
              "    }\n",
              "</style>\n",
              "<table border=\"1\" class=\"dataframe\">\n",
              "  <thead>\n",
              "    <tr style=\"text-align: right;\">\n",
              "      <th></th>\n",
              "      <th>tempm</th>\n",
              "      <th>tempi</th>\n",
              "      <th>dewptm</th>\n",
              "      <th>dewpti</th>\n",
              "      <th>hum</th>\n",
              "      <th>wspdm</th>\n",
              "      <th>wspdi</th>\n",
              "      <th>wgustm</th>\n",
              "      <th>wgusti</th>\n",
              "      <th>wdird</th>\n",
              "      <th>wdire</th>\n",
              "      <th>vism</th>\n",
              "      <th>visi</th>\n",
              "      <th>pressurem</th>\n",
              "      <th>pressurei</th>\n",
              "      <th>windchillm</th>\n",
              "      <th>windchilli</th>\n",
              "      <th>heatindexm</th>\n",
              "      <th>heatindexi</th>\n",
              "      <th>precipm</th>\n",
              "      <th>precipi</th>\n",
              "      <th>conds</th>\n",
              "      <th>icon</th>\n",
              "      <th>fog</th>\n",
              "      <th>rain</th>\n",
              "      <th>snow</th>\n",
              "      <th>hail</th>\n",
              "      <th>thunder</th>\n",
              "      <th>tornado</th>\n",
              "    </tr>\n",
              "    <tr>\n",
              "      <th>pickup_datetime</th>\n",
              "      <th></th>\n",
              "      <th></th>\n",
              "      <th></th>\n",
              "      <th></th>\n",
              "      <th></th>\n",
              "      <th></th>\n",
              "      <th></th>\n",
              "      <th></th>\n",
              "      <th></th>\n",
              "      <th></th>\n",
              "      <th></th>\n",
              "      <th></th>\n",
              "      <th></th>\n",
              "      <th></th>\n",
              "      <th></th>\n",
              "      <th></th>\n",
              "      <th></th>\n",
              "      <th></th>\n",
              "      <th></th>\n",
              "      <th></th>\n",
              "      <th></th>\n",
              "      <th></th>\n",
              "      <th></th>\n",
              "      <th></th>\n",
              "      <th></th>\n",
              "      <th></th>\n",
              "      <th></th>\n",
              "      <th></th>\n",
              "      <th></th>\n",
              "    </tr>\n",
              "  </thead>\n",
              "  <tbody>\n",
              "    <tr>\n",
              "      <th>2015-12-31 00:15:00</th>\n",
              "      <td>7.8</td>\n",
              "      <td>46.0</td>\n",
              "      <td>6.1</td>\n",
              "      <td>43.0</td>\n",
              "      <td>89.0</td>\n",
              "      <td>7.4</td>\n",
              "      <td>4.6</td>\n",
              "      <td>NaN</td>\n",
              "      <td>NaN</td>\n",
              "      <td>40</td>\n",
              "      <td>NE</td>\n",
              "      <td>4.0</td>\n",
              "      <td>2.5</td>\n",
              "      <td>1018.2</td>\n",
              "      <td>30.07</td>\n",
              "      <td>6.6</td>\n",
              "      <td>43.9</td>\n",
              "      <td>NaN</td>\n",
              "      <td>NaN</td>\n",
              "      <td>0.5</td>\n",
              "      <td>0.02</td>\n",
              "      <td>Light Rain</td>\n",
              "      <td>rain</td>\n",
              "      <td>0</td>\n",
              "      <td>1</td>\n",
              "      <td>0</td>\n",
              "      <td>0</td>\n",
              "      <td>0</td>\n",
              "      <td>0</td>\n",
              "    </tr>\n",
              "    <tr>\n",
              "      <th>2015-12-31 00:42:00</th>\n",
              "      <td>7.8</td>\n",
              "      <td>46.0</td>\n",
              "      <td>6.1</td>\n",
              "      <td>43.0</td>\n",
              "      <td>89.0</td>\n",
              "      <td>7.4</td>\n",
              "      <td>4.6</td>\n",
              "      <td>NaN</td>\n",
              "      <td>NaN</td>\n",
              "      <td>0</td>\n",
              "      <td>Variable</td>\n",
              "      <td>6.4</td>\n",
              "      <td>4.0</td>\n",
              "      <td>1017.8</td>\n",
              "      <td>30.06</td>\n",
              "      <td>6.6</td>\n",
              "      <td>43.9</td>\n",
              "      <td>NaN</td>\n",
              "      <td>NaN</td>\n",
              "      <td>0.8</td>\n",
              "      <td>0.03</td>\n",
              "      <td>Overcast</td>\n",
              "      <td>cloudy</td>\n",
              "      <td>0</td>\n",
              "      <td>0</td>\n",
              "      <td>0</td>\n",
              "      <td>0</td>\n",
              "      <td>0</td>\n",
              "      <td>0</td>\n",
              "    </tr>\n",
              "    <tr>\n",
              "      <th>2015-12-31 00:51:00</th>\n",
              "      <td>7.8</td>\n",
              "      <td>46.0</td>\n",
              "      <td>6.1</td>\n",
              "      <td>43.0</td>\n",
              "      <td>89.0</td>\n",
              "      <td>5.6</td>\n",
              "      <td>3.5</td>\n",
              "      <td>NaN</td>\n",
              "      <td>NaN</td>\n",
              "      <td>20</td>\n",
              "      <td>NNE</td>\n",
              "      <td>8.0</td>\n",
              "      <td>5.0</td>\n",
              "      <td>1017.0</td>\n",
              "      <td>30.04</td>\n",
              "      <td>7.1</td>\n",
              "      <td>44.8</td>\n",
              "      <td>NaN</td>\n",
              "      <td>NaN</td>\n",
              "      <td>0.8</td>\n",
              "      <td>0.03</td>\n",
              "      <td>Overcast</td>\n",
              "      <td>cloudy</td>\n",
              "      <td>0</td>\n",
              "      <td>0</td>\n",
              "      <td>0</td>\n",
              "      <td>0</td>\n",
              "      <td>0</td>\n",
              "      <td>0</td>\n",
              "    </tr>\n",
              "  </tbody>\n",
              "</table>\n",
              "</div>"
            ],
            "text/plain": [
              "                     tempm  tempi  dewptm  dewpti  ...  snow  hail  thunder  tornado\n",
              "pickup_datetime                                    ...                              \n",
              "2015-12-31 00:15:00    7.8   46.0     6.1    43.0  ...     0     0        0        0\n",
              "2015-12-31 00:42:00    7.8   46.0     6.1    43.0  ...     0     0        0        0\n",
              "2015-12-31 00:51:00    7.8   46.0     6.1    43.0  ...     0     0        0        0\n",
              "\n",
              "[3 rows x 29 columns]"
            ]
          },
          "metadata": {
            "tags": []
          },
          "execution_count": 99
        }
      ]
    },
    {
      "cell_type": "code",
      "metadata": {
        "colab": {
          "base_uri": "https://localhost:8080/",
          "height": 244
        },
        "id": "5Wyc9G4QFBWs",
        "outputId": "cdd75730-cbb2-4415-fa17-58094a170bc3"
      },
      "source": [
        "# сделаем срез с 00:00:00 до 01:00:00 31 декабря 2015 года\n",
        "weather_df['2015-12-31 00:00:00' : '2015-12-31 01:00:00']"
      ],
      "execution_count": null,
      "outputs": [
        {
          "output_type": "execute_result",
          "data": {
            "text/html": [
              "<div>\n",
              "<style scoped>\n",
              "    .dataframe tbody tr th:only-of-type {\n",
              "        vertical-align: middle;\n",
              "    }\n",
              "\n",
              "    .dataframe tbody tr th {\n",
              "        vertical-align: top;\n",
              "    }\n",
              "\n",
              "    .dataframe thead th {\n",
              "        text-align: right;\n",
              "    }\n",
              "</style>\n",
              "<table border=\"1\" class=\"dataframe\">\n",
              "  <thead>\n",
              "    <tr style=\"text-align: right;\">\n",
              "      <th></th>\n",
              "      <th>tempm</th>\n",
              "      <th>tempi</th>\n",
              "      <th>dewptm</th>\n",
              "      <th>dewpti</th>\n",
              "      <th>hum</th>\n",
              "      <th>wspdm</th>\n",
              "      <th>wspdi</th>\n",
              "      <th>wgustm</th>\n",
              "      <th>wgusti</th>\n",
              "      <th>wdird</th>\n",
              "      <th>wdire</th>\n",
              "      <th>vism</th>\n",
              "      <th>visi</th>\n",
              "      <th>pressurem</th>\n",
              "      <th>pressurei</th>\n",
              "      <th>windchillm</th>\n",
              "      <th>windchilli</th>\n",
              "      <th>heatindexm</th>\n",
              "      <th>heatindexi</th>\n",
              "      <th>precipm</th>\n",
              "      <th>precipi</th>\n",
              "      <th>conds</th>\n",
              "      <th>icon</th>\n",
              "      <th>fog</th>\n",
              "      <th>rain</th>\n",
              "      <th>snow</th>\n",
              "      <th>hail</th>\n",
              "      <th>thunder</th>\n",
              "      <th>tornado</th>\n",
              "    </tr>\n",
              "    <tr>\n",
              "      <th>pickup_datetime</th>\n",
              "      <th></th>\n",
              "      <th></th>\n",
              "      <th></th>\n",
              "      <th></th>\n",
              "      <th></th>\n",
              "      <th></th>\n",
              "      <th></th>\n",
              "      <th></th>\n",
              "      <th></th>\n",
              "      <th></th>\n",
              "      <th></th>\n",
              "      <th></th>\n",
              "      <th></th>\n",
              "      <th></th>\n",
              "      <th></th>\n",
              "      <th></th>\n",
              "      <th></th>\n",
              "      <th></th>\n",
              "      <th></th>\n",
              "      <th></th>\n",
              "      <th></th>\n",
              "      <th></th>\n",
              "      <th></th>\n",
              "      <th></th>\n",
              "      <th></th>\n",
              "      <th></th>\n",
              "      <th></th>\n",
              "      <th></th>\n",
              "      <th></th>\n",
              "    </tr>\n",
              "  </thead>\n",
              "  <tbody>\n",
              "    <tr>\n",
              "      <th>2015-12-31 00:15:00</th>\n",
              "      <td>7.8</td>\n",
              "      <td>46.0</td>\n",
              "      <td>6.1</td>\n",
              "      <td>43.0</td>\n",
              "      <td>89.0</td>\n",
              "      <td>7.4</td>\n",
              "      <td>4.6</td>\n",
              "      <td>NaN</td>\n",
              "      <td>NaN</td>\n",
              "      <td>40</td>\n",
              "      <td>NE</td>\n",
              "      <td>4.0</td>\n",
              "      <td>2.5</td>\n",
              "      <td>1018.2</td>\n",
              "      <td>30.07</td>\n",
              "      <td>6.6</td>\n",
              "      <td>43.9</td>\n",
              "      <td>NaN</td>\n",
              "      <td>NaN</td>\n",
              "      <td>0.5</td>\n",
              "      <td>0.02</td>\n",
              "      <td>Light Rain</td>\n",
              "      <td>rain</td>\n",
              "      <td>0</td>\n",
              "      <td>1</td>\n",
              "      <td>0</td>\n",
              "      <td>0</td>\n",
              "      <td>0</td>\n",
              "      <td>0</td>\n",
              "    </tr>\n",
              "    <tr>\n",
              "      <th>2015-12-31 00:42:00</th>\n",
              "      <td>7.8</td>\n",
              "      <td>46.0</td>\n",
              "      <td>6.1</td>\n",
              "      <td>43.0</td>\n",
              "      <td>89.0</td>\n",
              "      <td>7.4</td>\n",
              "      <td>4.6</td>\n",
              "      <td>NaN</td>\n",
              "      <td>NaN</td>\n",
              "      <td>0</td>\n",
              "      <td>Variable</td>\n",
              "      <td>6.4</td>\n",
              "      <td>4.0</td>\n",
              "      <td>1017.8</td>\n",
              "      <td>30.06</td>\n",
              "      <td>6.6</td>\n",
              "      <td>43.9</td>\n",
              "      <td>NaN</td>\n",
              "      <td>NaN</td>\n",
              "      <td>0.8</td>\n",
              "      <td>0.03</td>\n",
              "      <td>Overcast</td>\n",
              "      <td>cloudy</td>\n",
              "      <td>0</td>\n",
              "      <td>0</td>\n",
              "      <td>0</td>\n",
              "      <td>0</td>\n",
              "      <td>0</td>\n",
              "      <td>0</td>\n",
              "    </tr>\n",
              "    <tr>\n",
              "      <th>2015-12-31 00:51:00</th>\n",
              "      <td>7.8</td>\n",
              "      <td>46.0</td>\n",
              "      <td>6.1</td>\n",
              "      <td>43.0</td>\n",
              "      <td>89.0</td>\n",
              "      <td>5.6</td>\n",
              "      <td>3.5</td>\n",
              "      <td>NaN</td>\n",
              "      <td>NaN</td>\n",
              "      <td>20</td>\n",
              "      <td>NNE</td>\n",
              "      <td>8.0</td>\n",
              "      <td>5.0</td>\n",
              "      <td>1017.0</td>\n",
              "      <td>30.04</td>\n",
              "      <td>7.1</td>\n",
              "      <td>44.8</td>\n",
              "      <td>NaN</td>\n",
              "      <td>NaN</td>\n",
              "      <td>0.8</td>\n",
              "      <td>0.03</td>\n",
              "      <td>Overcast</td>\n",
              "      <td>cloudy</td>\n",
              "      <td>0</td>\n",
              "      <td>0</td>\n",
              "      <td>0</td>\n",
              "      <td>0</td>\n",
              "      <td>0</td>\n",
              "      <td>0</td>\n",
              "    </tr>\n",
              "  </tbody>\n",
              "</table>\n",
              "</div>"
            ],
            "text/plain": [
              "                     tempm  tempi  dewptm  dewpti  ...  snow  hail  thunder  tornado\n",
              "pickup_datetime                                    ...                              \n",
              "2015-12-31 00:15:00    7.8   46.0     6.1    43.0  ...     0     0        0        0\n",
              "2015-12-31 00:42:00    7.8   46.0     6.1    43.0  ...     0     0        0        0\n",
              "2015-12-31 00:51:00    7.8   46.0     6.1    43.0  ...     0     0        0        0\n",
              "\n",
              "[3 rows x 29 columns]"
            ]
          },
          "metadata": {
            "tags": []
          },
          "execution_count": 100
        }
      ]
    },
    {
      "cell_type": "code",
      "metadata": {
        "colab": {
          "base_uri": "https://localhost:8080/"
        },
        "id": "WgnEJq3nIY22",
        "outputId": "5c38134c-497f-483b-d368-da7837bcfa6c"
      },
      "source": [
        "# выведем среднюю температуру за 31 декабря\n",
        "weather_df['2015-12-31'].tempm.mean()"
      ],
      "execution_count": null,
      "outputs": [
        {
          "output_type": "execute_result",
          "data": {
            "text/plain": [
              "7.546875000000002"
            ]
          },
          "metadata": {
            "tags": []
          },
          "execution_count": 101
        }
      ]
    },
    {
      "cell_type": "markdown",
      "metadata": {
        "id": "tdcMil8JYa6x"
      },
      "source": [
        "## Resample "
      ]
    },
    {
      "cell_type": "markdown",
      "metadata": {
        "id": "u8btrgt38F59"
      },
      "source": [
        "Метод resample во многом похож на groupby, но работает с datetimeindex.\n",
        "Это мощный метод,позволяющий изменять частоту временного ряда.\n",
        "Основной аргумент resample это **rule** - содержит правило (частоту) к которой приводится временной ряд. Примеры:\n",
        "\n",
        "*   D - день\n",
        "*   W - неделя \n",
        "*   M - месяц\n",
        "*   A - год\n",
        "*   H - час\n",
        "*   T, min - минуты\n",
        "*   S - секунды\n",
        "\n"
      ]
    },
    {
      "cell_type": "code",
      "metadata": {
        "id": "rlY6VSdyYdMr",
        "colab": {
          "base_uri": "https://localhost:8080/"
        },
        "outputId": "fe368086-2d33-4b22-b732-5f6bec87a3cc"
      },
      "source": [
        "# средняя температура  с разбивкой по годам\n",
        "weather_df.tempm.resample('A').mean()"
      ],
      "execution_count": null,
      "outputs": [
        {
          "output_type": "execute_result",
          "data": {
            "text/plain": [
              "pickup_datetime\n",
              "2015-12-31     7.546875\n",
              "2016-12-31    13.724493\n",
              "Freq: A-DEC, Name: tempm, dtype: float64"
            ]
          },
          "metadata": {
            "tags": []
          },
          "execution_count": 102
        }
      ]
    },
    {
      "cell_type": "code",
      "metadata": {
        "id": "QovtghDXZAur",
        "colab": {
          "base_uri": "https://localhost:8080/"
        },
        "outputId": "f24a87ff-57a6-4b69-ce0d-0d9f37cf686e"
      },
      "source": [
        "# средняя температура  с разбивкой по месяцам\n",
        "weather_df.tempm.resample('M').mean()"
      ],
      "execution_count": null,
      "outputs": [
        {
          "output_type": "execute_result",
          "data": {
            "text/plain": [
              "pickup_datetime\n",
              "2015-12-31     7.546875\n",
              "2016-01-31     6.681019\n",
              "2016-02-29     8.382035\n",
              "2016-03-31    10.590308\n",
              "2016-04-30    12.843696\n",
              "2016-05-31    15.989583\n",
              "2016-06-30    18.806905\n",
              "2016-07-31    21.841203\n",
              "2016-08-31    20.925000\n",
              "2016-09-30    17.585482\n",
              "2016-10-31    13.962662\n",
              "2016-11-30    10.664327\n",
              "2016-12-31     6.912645\n",
              "Freq: M, Name: tempm, dtype: float64"
            ]
          },
          "metadata": {
            "tags": []
          },
          "execution_count": 103
        }
      ]
    },
    {
      "cell_type": "code",
      "metadata": {
        "colab": {
          "base_uri": "https://localhost:8080/"
        },
        "id": "TmGu03uYJQVP",
        "outputId": "8e6149d1-8ed2-4e2d-b8d9-8fff994b8b0b"
      },
      "source": [
        "# средняя температура за 31 декабря 2015 года с разбивкой на интервалы по 3 часа\n",
        "weather_df['2015-12-31'].tempm.resample('3H').mean()"
      ],
      "execution_count": null,
      "outputs": [
        {
          "output_type": "execute_result",
          "data": {
            "text/plain": [
              "pickup_datetime\n",
              "2015-12-31 00:00:00    7.560000\n",
              "2015-12-31 03:00:00    7.214286\n",
              "2015-12-31 06:00:00    8.100000\n",
              "2015-12-31 09:00:00    8.300000\n",
              "2015-12-31 12:00:00    8.500000\n",
              "2015-12-31 15:00:00    7.966667\n",
              "2015-12-31 18:00:00    7.033333\n",
              "2015-12-31 21:00:00    5.766667\n",
              "Freq: 3H, Name: tempm, dtype: float64"
            ]
          },
          "metadata": {
            "tags": []
          },
          "execution_count": 104
        }
      ]
    },
    {
      "cell_type": "markdown",
      "metadata": {
        "id": "J4ke5MwTQyOo"
      },
      "source": [
        "# Литература"
      ]
    },
    {
      "cell_type": "markdown",
      "metadata": {
        "id": "4jIs3IT2Q2Nj"
      },
      "source": [
        "1. Несколько интересных статей про Pandas на русском языке [на сайте Devpractice](https://devpractice.ru/category/machine-learning-and-data-analysis/pandas/)\n",
        "\n",
        "2. Небольшой онлайн-курс по Pandas [от Kaggle](https://www.kaggle.com/learn/pandas)\n",
        "\n",
        "3. Туториалы для начинающих [на официальном сайте Pandas](https://pandas.pydata.org/pandas-docs/stable/getting_started/intro_tutorials/index.html)\n",
        "\n",
        "4. Шпаргалка по Pandas [на Habr](https://habr.com/ru/company/ruvds/blog/494720/)\n",
        "\n",
        "5. Еще одна шпаргалка по Pandas [с официального сайта ](https://pandas.pydata.org/Pandas_Cheat_Sheet.pdf)\n",
        "\n",
        "6. Лекция \"Первичный анализ данных с Pandas\" из [Открытого курса по машинному обучению от ODS на Habr](https://habr.com/ru/company/ods/blog/322626/) \n"
      ]
    },
    {
      "cell_type": "markdown",
      "metadata": {
        "id": "7apOr8ZvFrKS"
      },
      "source": [
        "# The End"
      ]
    }
  ]
}
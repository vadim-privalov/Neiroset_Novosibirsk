{
  "nbformat": 4,
  "nbformat_minor": 0,
  "metadata": {
    "colab": {
      "name": "35 Интеграция нейронной сети в Production.ipynb",
      "provenance": [],
      "collapsed_sections": [],
      "include_colab_link": true
    },
    "kernelspec": {
      "name": "python3",
      "display_name": "Python 3"
    },
    "language_info": {
      "name": "python"
    },
    "widgets": {
      "application/vnd.jupyter.widget-state+json": {
        "5f39e713826043f797f2d0aa665eee79": {
          "model_module": "@jupyter-widgets/controls",
          "model_name": "HBoxModel",
          "state": {
            "_view_name": "HBoxView",
            "_dom_classes": [],
            "_model_name": "HBoxModel",
            "_view_module": "@jupyter-widgets/controls",
            "_model_module_version": "1.5.0",
            "_view_count": null,
            "_view_module_version": "1.5.0",
            "box_style": "",
            "layout": "IPY_MODEL_5ac86d0dfdd44df8b1b387f6b7107d29",
            "_model_module": "@jupyter-widgets/controls",
            "children": [
              "IPY_MODEL_fb3bfb67596247ca9b11273f6a7d3ce2",
              "IPY_MODEL_e3671651643f4e84acf7389935877563"
            ]
          },
          "model_module_version": "1.5.0"
        },
        "5ac86d0dfdd44df8b1b387f6b7107d29": {
          "model_module": "@jupyter-widgets/base",
          "model_name": "LayoutModel",
          "state": {
            "_view_name": "LayoutView",
            "grid_template_rows": null,
            "right": null,
            "justify_content": null,
            "_view_module": "@jupyter-widgets/base",
            "overflow": null,
            "_model_module_version": "1.2.0",
            "_view_count": null,
            "flex_flow": null,
            "width": null,
            "min_width": null,
            "border": null,
            "align_items": null,
            "bottom": null,
            "_model_module": "@jupyter-widgets/base",
            "top": null,
            "grid_column": null,
            "overflow_y": null,
            "overflow_x": null,
            "grid_auto_flow": null,
            "grid_area": null,
            "grid_template_columns": null,
            "flex": null,
            "_model_name": "LayoutModel",
            "justify_items": null,
            "grid_row": null,
            "max_height": null,
            "align_content": null,
            "visibility": null,
            "align_self": null,
            "height": null,
            "min_height": null,
            "padding": null,
            "grid_auto_rows": null,
            "grid_gap": null,
            "max_width": null,
            "order": null,
            "_view_module_version": "1.2.0",
            "grid_template_areas": null,
            "object_position": null,
            "object_fit": null,
            "grid_auto_columns": null,
            "margin": null,
            "display": null,
            "left": null
          },
          "model_module_version": "1.2.0"
        },
        "fb3bfb67596247ca9b11273f6a7d3ce2": {
          "model_module": "@jupyter-widgets/controls",
          "model_name": "FloatProgressModel",
          "state": {
            "_view_name": "ProgressView",
            "style": "IPY_MODEL_3aa4d620853741f58ed3534beb33fb08",
            "_dom_classes": [],
            "description": "",
            "_model_name": "FloatProgressModel",
            "bar_style": "success",
            "max": 9912422,
            "_view_module": "@jupyter-widgets/controls",
            "_model_module_version": "1.5.0",
            "value": 9912422,
            "_view_count": null,
            "_view_module_version": "1.5.0",
            "orientation": "horizontal",
            "min": 0,
            "description_tooltip": null,
            "_model_module": "@jupyter-widgets/controls",
            "layout": "IPY_MODEL_d65ba8ab98f549729e1fe186d4639e70"
          },
          "model_module_version": "1.5.0"
        },
        "e3671651643f4e84acf7389935877563": {
          "model_module": "@jupyter-widgets/controls",
          "model_name": "HTMLModel",
          "state": {
            "_view_name": "HTMLView",
            "style": "IPY_MODEL_2fd71d6b4a7f49d4a717d411d8f9a94a",
            "_dom_classes": [],
            "description": "",
            "_model_name": "HTMLModel",
            "placeholder": "​",
            "_view_module": "@jupyter-widgets/controls",
            "_model_module_version": "1.5.0",
            "value": " 9913344/? [06:05&lt;00:00, 27151.08it/s]",
            "_view_count": null,
            "_view_module_version": "1.5.0",
            "description_tooltip": null,
            "_model_module": "@jupyter-widgets/controls",
            "layout": "IPY_MODEL_a4c4ec7123ca4859878aac3f8f3f2404"
          },
          "model_module_version": "1.5.0"
        },
        "3aa4d620853741f58ed3534beb33fb08": {
          "model_module": "@jupyter-widgets/controls",
          "model_name": "ProgressStyleModel",
          "state": {
            "_view_name": "StyleView",
            "_model_name": "ProgressStyleModel",
            "description_width": "initial",
            "_view_module": "@jupyter-widgets/base",
            "_model_module_version": "1.5.0",
            "_view_count": null,
            "_view_module_version": "1.2.0",
            "bar_color": null,
            "_model_module": "@jupyter-widgets/controls"
          },
          "model_module_version": "1.5.0"
        },
        "d65ba8ab98f549729e1fe186d4639e70": {
          "model_module": "@jupyter-widgets/base",
          "model_name": "LayoutModel",
          "state": {
            "_view_name": "LayoutView",
            "grid_template_rows": null,
            "right": null,
            "justify_content": null,
            "_view_module": "@jupyter-widgets/base",
            "overflow": null,
            "_model_module_version": "1.2.0",
            "_view_count": null,
            "flex_flow": null,
            "width": null,
            "min_width": null,
            "border": null,
            "align_items": null,
            "bottom": null,
            "_model_module": "@jupyter-widgets/base",
            "top": null,
            "grid_column": null,
            "overflow_y": null,
            "overflow_x": null,
            "grid_auto_flow": null,
            "grid_area": null,
            "grid_template_columns": null,
            "flex": null,
            "_model_name": "LayoutModel",
            "justify_items": null,
            "grid_row": null,
            "max_height": null,
            "align_content": null,
            "visibility": null,
            "align_self": null,
            "height": null,
            "min_height": null,
            "padding": null,
            "grid_auto_rows": null,
            "grid_gap": null,
            "max_width": null,
            "order": null,
            "_view_module_version": "1.2.0",
            "grid_template_areas": null,
            "object_position": null,
            "object_fit": null,
            "grid_auto_columns": null,
            "margin": null,
            "display": null,
            "left": null
          },
          "model_module_version": "1.2.0"
        },
        "2fd71d6b4a7f49d4a717d411d8f9a94a": {
          "model_module": "@jupyter-widgets/controls",
          "model_name": "DescriptionStyleModel",
          "state": {
            "_view_name": "StyleView",
            "_model_name": "DescriptionStyleModel",
            "description_width": "",
            "_view_module": "@jupyter-widgets/base",
            "_model_module_version": "1.5.0",
            "_view_count": null,
            "_view_module_version": "1.2.0",
            "_model_module": "@jupyter-widgets/controls"
          },
          "model_module_version": "1.5.0"
        },
        "a4c4ec7123ca4859878aac3f8f3f2404": {
          "model_module": "@jupyter-widgets/base",
          "model_name": "LayoutModel",
          "state": {
            "_view_name": "LayoutView",
            "grid_template_rows": null,
            "right": null,
            "justify_content": null,
            "_view_module": "@jupyter-widgets/base",
            "overflow": null,
            "_model_module_version": "1.2.0",
            "_view_count": null,
            "flex_flow": null,
            "width": null,
            "min_width": null,
            "border": null,
            "align_items": null,
            "bottom": null,
            "_model_module": "@jupyter-widgets/base",
            "top": null,
            "grid_column": null,
            "overflow_y": null,
            "overflow_x": null,
            "grid_auto_flow": null,
            "grid_area": null,
            "grid_template_columns": null,
            "flex": null,
            "_model_name": "LayoutModel",
            "justify_items": null,
            "grid_row": null,
            "max_height": null,
            "align_content": null,
            "visibility": null,
            "align_self": null,
            "height": null,
            "min_height": null,
            "padding": null,
            "grid_auto_rows": null,
            "grid_gap": null,
            "max_width": null,
            "order": null,
            "_view_module_version": "1.2.0",
            "grid_template_areas": null,
            "object_position": null,
            "object_fit": null,
            "grid_auto_columns": null,
            "margin": null,
            "display": null,
            "left": null
          },
          "model_module_version": "1.2.0"
        },
        "cf507fd8a6dd404796f9b9094465e5e4": {
          "model_module": "@jupyter-widgets/controls",
          "model_name": "HBoxModel",
          "state": {
            "_view_name": "HBoxView",
            "_dom_classes": [],
            "_model_name": "HBoxModel",
            "_view_module": "@jupyter-widgets/controls",
            "_model_module_version": "1.5.0",
            "_view_count": null,
            "_view_module_version": "1.5.0",
            "box_style": "",
            "layout": "IPY_MODEL_744fed8902c84f9f84dc33a1edc544bf",
            "_model_module": "@jupyter-widgets/controls",
            "children": [
              "IPY_MODEL_fa0b1435d5b748b7804432118e3b680b",
              "IPY_MODEL_3e4220d5e1ca44a2802634a2f2fcbae0"
            ]
          },
          "model_module_version": "1.5.0"
        },
        "744fed8902c84f9f84dc33a1edc544bf": {
          "model_module": "@jupyter-widgets/base",
          "model_name": "LayoutModel",
          "state": {
            "_view_name": "LayoutView",
            "grid_template_rows": null,
            "right": null,
            "justify_content": null,
            "_view_module": "@jupyter-widgets/base",
            "overflow": null,
            "_model_module_version": "1.2.0",
            "_view_count": null,
            "flex_flow": null,
            "width": null,
            "min_width": null,
            "border": null,
            "align_items": null,
            "bottom": null,
            "_model_module": "@jupyter-widgets/base",
            "top": null,
            "grid_column": null,
            "overflow_y": null,
            "overflow_x": null,
            "grid_auto_flow": null,
            "grid_area": null,
            "grid_template_columns": null,
            "flex": null,
            "_model_name": "LayoutModel",
            "justify_items": null,
            "grid_row": null,
            "max_height": null,
            "align_content": null,
            "visibility": null,
            "align_self": null,
            "height": null,
            "min_height": null,
            "padding": null,
            "grid_auto_rows": null,
            "grid_gap": null,
            "max_width": null,
            "order": null,
            "_view_module_version": "1.2.0",
            "grid_template_areas": null,
            "object_position": null,
            "object_fit": null,
            "grid_auto_columns": null,
            "margin": null,
            "display": null,
            "left": null
          },
          "model_module_version": "1.2.0"
        },
        "fa0b1435d5b748b7804432118e3b680b": {
          "model_module": "@jupyter-widgets/controls",
          "model_name": "FloatProgressModel",
          "state": {
            "_view_name": "ProgressView",
            "style": "IPY_MODEL_8fe8fb767b2c4ea38a891643bdef6ae5",
            "_dom_classes": [],
            "description": "",
            "_model_name": "FloatProgressModel",
            "bar_style": "success",
            "max": 28881,
            "_view_module": "@jupyter-widgets/controls",
            "_model_module_version": "1.5.0",
            "value": 28881,
            "_view_count": null,
            "_view_module_version": "1.5.0",
            "orientation": "horizontal",
            "min": 0,
            "description_tooltip": null,
            "_model_module": "@jupyter-widgets/controls",
            "layout": "IPY_MODEL_4ed299e65df24972a17ec32cf90c93ba"
          },
          "model_module_version": "1.5.0"
        },
        "3e4220d5e1ca44a2802634a2f2fcbae0": {
          "model_module": "@jupyter-widgets/controls",
          "model_name": "HTMLModel",
          "state": {
            "_view_name": "HTMLView",
            "style": "IPY_MODEL_7c73b2e16c02428a8e736d8803a0006c",
            "_dom_classes": [],
            "description": "",
            "_model_name": "HTMLModel",
            "placeholder": "​",
            "_view_module": "@jupyter-widgets/controls",
            "_model_module_version": "1.5.0",
            "value": " 29696/? [00:01&lt;00:00, 22141.96it/s]",
            "_view_count": null,
            "_view_module_version": "1.5.0",
            "description_tooltip": null,
            "_model_module": "@jupyter-widgets/controls",
            "layout": "IPY_MODEL_4fbb38fc75bf4a23a9a41c268ac15b39"
          },
          "model_module_version": "1.5.0"
        },
        "8fe8fb767b2c4ea38a891643bdef6ae5": {
          "model_module": "@jupyter-widgets/controls",
          "model_name": "ProgressStyleModel",
          "state": {
            "_view_name": "StyleView",
            "_model_name": "ProgressStyleModel",
            "description_width": "initial",
            "_view_module": "@jupyter-widgets/base",
            "_model_module_version": "1.5.0",
            "_view_count": null,
            "_view_module_version": "1.2.0",
            "bar_color": null,
            "_model_module": "@jupyter-widgets/controls"
          },
          "model_module_version": "1.5.0"
        },
        "4ed299e65df24972a17ec32cf90c93ba": {
          "model_module": "@jupyter-widgets/base",
          "model_name": "LayoutModel",
          "state": {
            "_view_name": "LayoutView",
            "grid_template_rows": null,
            "right": null,
            "justify_content": null,
            "_view_module": "@jupyter-widgets/base",
            "overflow": null,
            "_model_module_version": "1.2.0",
            "_view_count": null,
            "flex_flow": null,
            "width": null,
            "min_width": null,
            "border": null,
            "align_items": null,
            "bottom": null,
            "_model_module": "@jupyter-widgets/base",
            "top": null,
            "grid_column": null,
            "overflow_y": null,
            "overflow_x": null,
            "grid_auto_flow": null,
            "grid_area": null,
            "grid_template_columns": null,
            "flex": null,
            "_model_name": "LayoutModel",
            "justify_items": null,
            "grid_row": null,
            "max_height": null,
            "align_content": null,
            "visibility": null,
            "align_self": null,
            "height": null,
            "min_height": null,
            "padding": null,
            "grid_auto_rows": null,
            "grid_gap": null,
            "max_width": null,
            "order": null,
            "_view_module_version": "1.2.0",
            "grid_template_areas": null,
            "object_position": null,
            "object_fit": null,
            "grid_auto_columns": null,
            "margin": null,
            "display": null,
            "left": null
          },
          "model_module_version": "1.2.0"
        },
        "7c73b2e16c02428a8e736d8803a0006c": {
          "model_module": "@jupyter-widgets/controls",
          "model_name": "DescriptionStyleModel",
          "state": {
            "_view_name": "StyleView",
            "_model_name": "DescriptionStyleModel",
            "description_width": "",
            "_view_module": "@jupyter-widgets/base",
            "_model_module_version": "1.5.0",
            "_view_count": null,
            "_view_module_version": "1.2.0",
            "_model_module": "@jupyter-widgets/controls"
          },
          "model_module_version": "1.5.0"
        },
        "4fbb38fc75bf4a23a9a41c268ac15b39": {
          "model_module": "@jupyter-widgets/base",
          "model_name": "LayoutModel",
          "state": {
            "_view_name": "LayoutView",
            "grid_template_rows": null,
            "right": null,
            "justify_content": null,
            "_view_module": "@jupyter-widgets/base",
            "overflow": null,
            "_model_module_version": "1.2.0",
            "_view_count": null,
            "flex_flow": null,
            "width": null,
            "min_width": null,
            "border": null,
            "align_items": null,
            "bottom": null,
            "_model_module": "@jupyter-widgets/base",
            "top": null,
            "grid_column": null,
            "overflow_y": null,
            "overflow_x": null,
            "grid_auto_flow": null,
            "grid_area": null,
            "grid_template_columns": null,
            "flex": null,
            "_model_name": "LayoutModel",
            "justify_items": null,
            "grid_row": null,
            "max_height": null,
            "align_content": null,
            "visibility": null,
            "align_self": null,
            "height": null,
            "min_height": null,
            "padding": null,
            "grid_auto_rows": null,
            "grid_gap": null,
            "max_width": null,
            "order": null,
            "_view_module_version": "1.2.0",
            "grid_template_areas": null,
            "object_position": null,
            "object_fit": null,
            "grid_auto_columns": null,
            "margin": null,
            "display": null,
            "left": null
          },
          "model_module_version": "1.2.0"
        },
        "6017cd055e9e4e7596151724f0f7eca5": {
          "model_module": "@jupyter-widgets/controls",
          "model_name": "HBoxModel",
          "state": {
            "_view_name": "HBoxView",
            "_dom_classes": [],
            "_model_name": "HBoxModel",
            "_view_module": "@jupyter-widgets/controls",
            "_model_module_version": "1.5.0",
            "_view_count": null,
            "_view_module_version": "1.5.0",
            "box_style": "",
            "layout": "IPY_MODEL_db3065bfc741492b9f217171c948ef32",
            "_model_module": "@jupyter-widgets/controls",
            "children": [
              "IPY_MODEL_69ea9addb8514c32acde827f41e8c7b5",
              "IPY_MODEL_a48bbf69ea084b71bb0643a8083844e3"
            ]
          },
          "model_module_version": "1.5.0"
        },
        "db3065bfc741492b9f217171c948ef32": {
          "model_module": "@jupyter-widgets/base",
          "model_name": "LayoutModel",
          "state": {
            "_view_name": "LayoutView",
            "grid_template_rows": null,
            "right": null,
            "justify_content": null,
            "_view_module": "@jupyter-widgets/base",
            "overflow": null,
            "_model_module_version": "1.2.0",
            "_view_count": null,
            "flex_flow": null,
            "width": null,
            "min_width": null,
            "border": null,
            "align_items": null,
            "bottom": null,
            "_model_module": "@jupyter-widgets/base",
            "top": null,
            "grid_column": null,
            "overflow_y": null,
            "overflow_x": null,
            "grid_auto_flow": null,
            "grid_area": null,
            "grid_template_columns": null,
            "flex": null,
            "_model_name": "LayoutModel",
            "justify_items": null,
            "grid_row": null,
            "max_height": null,
            "align_content": null,
            "visibility": null,
            "align_self": null,
            "height": null,
            "min_height": null,
            "padding": null,
            "grid_auto_rows": null,
            "grid_gap": null,
            "max_width": null,
            "order": null,
            "_view_module_version": "1.2.0",
            "grid_template_areas": null,
            "object_position": null,
            "object_fit": null,
            "grid_auto_columns": null,
            "margin": null,
            "display": null,
            "left": null
          },
          "model_module_version": "1.2.0"
        },
        "69ea9addb8514c32acde827f41e8c7b5": {
          "model_module": "@jupyter-widgets/controls",
          "model_name": "FloatProgressModel",
          "state": {
            "_view_name": "ProgressView",
            "style": "IPY_MODEL_f1e8fbf2089c427ab5cb6f263c3e9fee",
            "_dom_classes": [],
            "description": "",
            "_model_name": "FloatProgressModel",
            "bar_style": "success",
            "max": 1648877,
            "_view_module": "@jupyter-widgets/controls",
            "_model_module_version": "1.5.0",
            "value": 1648877,
            "_view_count": null,
            "_view_module_version": "1.5.0",
            "orientation": "horizontal",
            "min": 0,
            "description_tooltip": null,
            "_model_module": "@jupyter-widgets/controls",
            "layout": "IPY_MODEL_fd07ecb17b1f4ca08a430fbdfa1bc508"
          },
          "model_module_version": "1.5.0"
        },
        "a48bbf69ea084b71bb0643a8083844e3": {
          "model_module": "@jupyter-widgets/controls",
          "model_name": "HTMLModel",
          "state": {
            "_view_name": "HTMLView",
            "style": "IPY_MODEL_fd1431d3245d449db39ac4207e554fce",
            "_dom_classes": [],
            "description": "",
            "_model_name": "HTMLModel",
            "placeholder": "​",
            "_view_module": "@jupyter-widgets/controls",
            "_model_module_version": "1.5.0",
            "value": " 1649664/? [01:00&lt;00:00, 27092.45it/s]",
            "_view_count": null,
            "_view_module_version": "1.5.0",
            "description_tooltip": null,
            "_model_module": "@jupyter-widgets/controls",
            "layout": "IPY_MODEL_e615254ca55e4270ac4d53c1a6591bf0"
          },
          "model_module_version": "1.5.0"
        },
        "f1e8fbf2089c427ab5cb6f263c3e9fee": {
          "model_module": "@jupyter-widgets/controls",
          "model_name": "ProgressStyleModel",
          "state": {
            "_view_name": "StyleView",
            "_model_name": "ProgressStyleModel",
            "description_width": "initial",
            "_view_module": "@jupyter-widgets/base",
            "_model_module_version": "1.5.0",
            "_view_count": null,
            "_view_module_version": "1.2.0",
            "bar_color": null,
            "_model_module": "@jupyter-widgets/controls"
          },
          "model_module_version": "1.5.0"
        },
        "fd07ecb17b1f4ca08a430fbdfa1bc508": {
          "model_module": "@jupyter-widgets/base",
          "model_name": "LayoutModel",
          "state": {
            "_view_name": "LayoutView",
            "grid_template_rows": null,
            "right": null,
            "justify_content": null,
            "_view_module": "@jupyter-widgets/base",
            "overflow": null,
            "_model_module_version": "1.2.0",
            "_view_count": null,
            "flex_flow": null,
            "width": null,
            "min_width": null,
            "border": null,
            "align_items": null,
            "bottom": null,
            "_model_module": "@jupyter-widgets/base",
            "top": null,
            "grid_column": null,
            "overflow_y": null,
            "overflow_x": null,
            "grid_auto_flow": null,
            "grid_area": null,
            "grid_template_columns": null,
            "flex": null,
            "_model_name": "LayoutModel",
            "justify_items": null,
            "grid_row": null,
            "max_height": null,
            "align_content": null,
            "visibility": null,
            "align_self": null,
            "height": null,
            "min_height": null,
            "padding": null,
            "grid_auto_rows": null,
            "grid_gap": null,
            "max_width": null,
            "order": null,
            "_view_module_version": "1.2.0",
            "grid_template_areas": null,
            "object_position": null,
            "object_fit": null,
            "grid_auto_columns": null,
            "margin": null,
            "display": null,
            "left": null
          },
          "model_module_version": "1.2.0"
        },
        "fd1431d3245d449db39ac4207e554fce": {
          "model_module": "@jupyter-widgets/controls",
          "model_name": "DescriptionStyleModel",
          "state": {
            "_view_name": "StyleView",
            "_model_name": "DescriptionStyleModel",
            "description_width": "",
            "_view_module": "@jupyter-widgets/base",
            "_model_module_version": "1.5.0",
            "_view_count": null,
            "_view_module_version": "1.2.0",
            "_model_module": "@jupyter-widgets/controls"
          },
          "model_module_version": "1.5.0"
        },
        "e615254ca55e4270ac4d53c1a6591bf0": {
          "model_module": "@jupyter-widgets/base",
          "model_name": "LayoutModel",
          "state": {
            "_view_name": "LayoutView",
            "grid_template_rows": null,
            "right": null,
            "justify_content": null,
            "_view_module": "@jupyter-widgets/base",
            "overflow": null,
            "_model_module_version": "1.2.0",
            "_view_count": null,
            "flex_flow": null,
            "width": null,
            "min_width": null,
            "border": null,
            "align_items": null,
            "bottom": null,
            "_model_module": "@jupyter-widgets/base",
            "top": null,
            "grid_column": null,
            "overflow_y": null,
            "overflow_x": null,
            "grid_auto_flow": null,
            "grid_area": null,
            "grid_template_columns": null,
            "flex": null,
            "_model_name": "LayoutModel",
            "justify_items": null,
            "grid_row": null,
            "max_height": null,
            "align_content": null,
            "visibility": null,
            "align_self": null,
            "height": null,
            "min_height": null,
            "padding": null,
            "grid_auto_rows": null,
            "grid_gap": null,
            "max_width": null,
            "order": null,
            "_view_module_version": "1.2.0",
            "grid_template_areas": null,
            "object_position": null,
            "object_fit": null,
            "grid_auto_columns": null,
            "margin": null,
            "display": null,
            "left": null
          },
          "model_module_version": "1.2.0"
        },
        "5c29300e05e3474b800b1b9888bc64e3": {
          "model_module": "@jupyter-widgets/controls",
          "model_name": "HBoxModel",
          "state": {
            "_view_name": "HBoxView",
            "_dom_classes": [],
            "_model_name": "HBoxModel",
            "_view_module": "@jupyter-widgets/controls",
            "_model_module_version": "1.5.0",
            "_view_count": null,
            "_view_module_version": "1.5.0",
            "box_style": "",
            "layout": "IPY_MODEL_2691944f2a2a41599b9c0d239c9dabc4",
            "_model_module": "@jupyter-widgets/controls",
            "children": [
              "IPY_MODEL_5598e30514da4d4b9aa6018257e0d294",
              "IPY_MODEL_1faf7f13d5814cdf906f02f6de628828"
            ]
          },
          "model_module_version": "1.5.0"
        },
        "2691944f2a2a41599b9c0d239c9dabc4": {
          "model_module": "@jupyter-widgets/base",
          "model_name": "LayoutModel",
          "state": {
            "_view_name": "LayoutView",
            "grid_template_rows": null,
            "right": null,
            "justify_content": null,
            "_view_module": "@jupyter-widgets/base",
            "overflow": null,
            "_model_module_version": "1.2.0",
            "_view_count": null,
            "flex_flow": null,
            "width": null,
            "min_width": null,
            "border": null,
            "align_items": null,
            "bottom": null,
            "_model_module": "@jupyter-widgets/base",
            "top": null,
            "grid_column": null,
            "overflow_y": null,
            "overflow_x": null,
            "grid_auto_flow": null,
            "grid_area": null,
            "grid_template_columns": null,
            "flex": null,
            "_model_name": "LayoutModel",
            "justify_items": null,
            "grid_row": null,
            "max_height": null,
            "align_content": null,
            "visibility": null,
            "align_self": null,
            "height": null,
            "min_height": null,
            "padding": null,
            "grid_auto_rows": null,
            "grid_gap": null,
            "max_width": null,
            "order": null,
            "_view_module_version": "1.2.0",
            "grid_template_areas": null,
            "object_position": null,
            "object_fit": null,
            "grid_auto_columns": null,
            "margin": null,
            "display": null,
            "left": null
          },
          "model_module_version": "1.2.0"
        },
        "5598e30514da4d4b9aa6018257e0d294": {
          "model_module": "@jupyter-widgets/controls",
          "model_name": "FloatProgressModel",
          "state": {
            "_view_name": "ProgressView",
            "style": "IPY_MODEL_e67307f8b34c4fde8226e1b95d0b9dd2",
            "_dom_classes": [],
            "description": "",
            "_model_name": "FloatProgressModel",
            "bar_style": "success",
            "max": 4542,
            "_view_module": "@jupyter-widgets/controls",
            "_model_module_version": "1.5.0",
            "value": 4542,
            "_view_count": null,
            "_view_module_version": "1.5.0",
            "orientation": "horizontal",
            "min": 0,
            "description_tooltip": null,
            "_model_module": "@jupyter-widgets/controls",
            "layout": "IPY_MODEL_c724be81469e48fcab4d3561d88b8eaf"
          },
          "model_module_version": "1.5.0"
        },
        "1faf7f13d5814cdf906f02f6de628828": {
          "model_module": "@jupyter-widgets/controls",
          "model_name": "HTMLModel",
          "state": {
            "_view_name": "HTMLView",
            "style": "IPY_MODEL_4f87842af4234d98a1c2e64b033c012b",
            "_dom_classes": [],
            "description": "",
            "_model_name": "HTMLModel",
            "placeholder": "​",
            "_view_module": "@jupyter-widgets/controls",
            "_model_module_version": "1.5.0",
            "value": " 5120/? [00:10&lt;00:00, 505.95it/s]",
            "_view_count": null,
            "_view_module_version": "1.5.0",
            "description_tooltip": null,
            "_model_module": "@jupyter-widgets/controls",
            "layout": "IPY_MODEL_638a680481264e839b1710a953d34de5"
          },
          "model_module_version": "1.5.0"
        },
        "e67307f8b34c4fde8226e1b95d0b9dd2": {
          "model_module": "@jupyter-widgets/controls",
          "model_name": "ProgressStyleModel",
          "state": {
            "_view_name": "StyleView",
            "_model_name": "ProgressStyleModel",
            "description_width": "initial",
            "_view_module": "@jupyter-widgets/base",
            "_model_module_version": "1.5.0",
            "_view_count": null,
            "_view_module_version": "1.2.0",
            "bar_color": null,
            "_model_module": "@jupyter-widgets/controls"
          },
          "model_module_version": "1.5.0"
        },
        "c724be81469e48fcab4d3561d88b8eaf": {
          "model_module": "@jupyter-widgets/base",
          "model_name": "LayoutModel",
          "state": {
            "_view_name": "LayoutView",
            "grid_template_rows": null,
            "right": null,
            "justify_content": null,
            "_view_module": "@jupyter-widgets/base",
            "overflow": null,
            "_model_module_version": "1.2.0",
            "_view_count": null,
            "flex_flow": null,
            "width": null,
            "min_width": null,
            "border": null,
            "align_items": null,
            "bottom": null,
            "_model_module": "@jupyter-widgets/base",
            "top": null,
            "grid_column": null,
            "overflow_y": null,
            "overflow_x": null,
            "grid_auto_flow": null,
            "grid_area": null,
            "grid_template_columns": null,
            "flex": null,
            "_model_name": "LayoutModel",
            "justify_items": null,
            "grid_row": null,
            "max_height": null,
            "align_content": null,
            "visibility": null,
            "align_self": null,
            "height": null,
            "min_height": null,
            "padding": null,
            "grid_auto_rows": null,
            "grid_gap": null,
            "max_width": null,
            "order": null,
            "_view_module_version": "1.2.0",
            "grid_template_areas": null,
            "object_position": null,
            "object_fit": null,
            "grid_auto_columns": null,
            "margin": null,
            "display": null,
            "left": null
          },
          "model_module_version": "1.2.0"
        },
        "4f87842af4234d98a1c2e64b033c012b": {
          "model_module": "@jupyter-widgets/controls",
          "model_name": "DescriptionStyleModel",
          "state": {
            "_view_name": "StyleView",
            "_model_name": "DescriptionStyleModel",
            "description_width": "",
            "_view_module": "@jupyter-widgets/base",
            "_model_module_version": "1.5.0",
            "_view_count": null,
            "_view_module_version": "1.2.0",
            "_model_module": "@jupyter-widgets/controls"
          },
          "model_module_version": "1.5.0"
        },
        "638a680481264e839b1710a953d34de5": {
          "model_module": "@jupyter-widgets/base",
          "model_name": "LayoutModel",
          "state": {
            "_view_name": "LayoutView",
            "grid_template_rows": null,
            "right": null,
            "justify_content": null,
            "_view_module": "@jupyter-widgets/base",
            "overflow": null,
            "_model_module_version": "1.2.0",
            "_view_count": null,
            "flex_flow": null,
            "width": null,
            "min_width": null,
            "border": null,
            "align_items": null,
            "bottom": null,
            "_model_module": "@jupyter-widgets/base",
            "top": null,
            "grid_column": null,
            "overflow_y": null,
            "overflow_x": null,
            "grid_auto_flow": null,
            "grid_area": null,
            "grid_template_columns": null,
            "flex": null,
            "_model_name": "LayoutModel",
            "justify_items": null,
            "grid_row": null,
            "max_height": null,
            "align_content": null,
            "visibility": null,
            "align_self": null,
            "height": null,
            "min_height": null,
            "padding": null,
            "grid_auto_rows": null,
            "grid_gap": null,
            "max_width": null,
            "order": null,
            "_view_module_version": "1.2.0",
            "grid_template_areas": null,
            "object_position": null,
            "object_fit": null,
            "grid_auto_columns": null,
            "margin": null,
            "display": null,
            "left": null
          },
          "model_module_version": "1.2.0"
        }
      }
    }
  },
  "cells": [
    {
      "cell_type": "markdown",
      "metadata": {
        "id": "view-in-github",
        "colab_type": "text"
      },
      "source": [
        "<a href=\"https://colab.research.google.com/github/vadim-privalov/Neiroset_Novosibirsk/blob/main/35_%D0%98%D0%BD%D1%82%D0%B5%D0%B3%D1%80%D0%B0%D1%86%D0%B8%D1%8F_%D0%BD%D0%B5%D0%B9%D1%80%D0%BE%D0%BD%D0%BD%D0%BE%D0%B9_%D1%81%D0%B5%D1%82%D0%B8_%D0%B2_Production.ipynb\" target=\"_parent\"><img src=\"https://colab.research.google.com/assets/colab-badge.svg\" alt=\"Open In Colab\"/></a>"
      ]
    },
    {
      "cell_type": "markdown",
      "metadata": {
        "id": "xkQgaJXa7PHS"
      },
      "source": [
        "# Интеграция нейронной сети в Production. Flask, Spark.\n",
        "\n",
        "В этом уроке мы создадим учебное web-приложение, которое будет распознавать рукописную цифру, нарисованную мышкой в браузере. Распознаванием будет заниматься нейронная сеть, предварительно обученная на стандартном наборе MNIST.\n",
        "\n",
        "Мы напишем и обучим 2 функционально одинаковые сети/модели - одну на Keras, другую на PyTorch. \n",
        "\n",
        "Далее мы перенесем наши модели на условную production-машину, предназначенную для \"промышленной\" эксплуатации нашей системы. В качестве production-среды мы будем также использовать colab, возможно другую сессию виртуальной машины. В качестве web-сервера будем использовать тестовый сервер, встроенный в фреймворк Flask. \n",
        "\n"
      ]
    },
    {
      "cell_type": "markdown",
      "metadata": {
        "id": "eogDOtn-OE6d"
      },
      "source": [
        "## Обучение модели keras"
      ]
    },
    {
      "cell_type": "code",
      "metadata": {
        "colab": {
          "base_uri": "https://localhost:8080/"
        },
        "id": "BkfLdmwpPN4R",
        "outputId": "2215d468-7ad1-4d7a-8ee9-43eb15a21dfb"
      },
      "source": [
        "import tensorflow as tf\n",
        "from tensorflow.keras.models import Sequential\n",
        "from tensorflow.keras.layers import Dense, Dropout, Flatten\n",
        "from tensorflow.keras.layers import Conv2D, MaxPooling2D\n",
        "from tensorflow.keras import backend as K\n",
        "print(tf.__version__)\n",
        "print(tf.keras.__version__)"
      ],
      "execution_count": null,
      "outputs": [
        {
          "output_type": "stream",
          "text": [
            "2.4.1\n",
            "2.4.0\n"
          ],
          "name": "stdout"
        }
      ]
    },
    {
      "cell_type": "markdown",
      "metadata": {
        "id": "9zLF1U9QLd3H"
      },
      "source": [
        "Загружаем стандартный набор MNIST, приводим данные к типу float32 и диапазону от 0 до 1."
      ]
    },
    {
      "cell_type": "code",
      "metadata": {
        "colab": {
          "base_uri": "https://localhost:8080/"
        },
        "id": "iZnZ_-GaPNpX",
        "outputId": "96ed8e3f-cef3-42fc-a8ec-4f2c44dbfc36"
      },
      "source": [
        "(x_train, y_train), (x_test, y_test) = tf.keras.datasets.mnist.load_data()\n",
        "\n",
        "x_train = x_train.reshape(x_train.shape[0], 28, 28, 1)\n",
        "x_test = x_test.reshape(x_test.shape[0], 28, 28, 1)\n",
        "input_shape = (28, 28, 1)\n",
        "\n",
        "# Нормализуем значения пикселей (от 0 до 1)\n",
        "x_train = x_train.astype('float32')\n",
        "x_test = x_test.astype('float32')\n",
        "x_train /= 255\n",
        "x_test /= 255\n",
        "\n",
        "print(x_train.shape, y_train.shape)"
      ],
      "execution_count": null,
      "outputs": [
        {
          "output_type": "stream",
          "text": [
            "Downloading data from https://storage.googleapis.com/tensorflow/tf-keras-datasets/mnist.npz\n",
            "11493376/11490434 [==============================] - 0s 0us/step\n",
            "(60000, 28, 28, 1) (60000,)\n"
          ],
          "name": "stdout"
        }
      ]
    },
    {
      "cell_type": "markdown",
      "metadata": {
        "id": "TohPTIEzMPnj"
      },
      "source": [
        "Наша модель будет содержать 2 каскада сверточных слоев и 2 полносвязных слоя классификатора. "
      ]
    },
    {
      "cell_type": "code",
      "metadata": {
        "id": "b8PjAJo2PNca"
      },
      "source": [
        "model = Sequential([\n",
        "        Conv2D(32, kernel_size=(3, 3), activation='relu', input_shape=input_shape),\n",
        "        Conv2D(32, (3, 3), activation='relu'),\n",
        "        MaxPooling2D(pool_size=(2, 2)),\n",
        "        Conv2D(64, kernel_size=(3, 3), activation='relu'),\n",
        "        Conv2D(64, (3, 3), activation='relu'),\n",
        "        MaxPooling2D(pool_size=(2, 2)),\n",
        "        Flatten(),\n",
        "        Dense(128, activation='relu'),\n",
        "        Dense(10, activation='softmax')])\n",
        "\n",
        "model.compile(loss='sparse_categorical_crossentropy',\n",
        "              optimizer='adam',\n",
        "              metrics=['accuracy'])"
      ],
      "execution_count": null,
      "outputs": []
    },
    {
      "cell_type": "code",
      "metadata": {
        "colab": {
          "base_uri": "https://localhost:8080/"
        },
        "id": "qHBKZLprPNPy",
        "outputId": "0aecc259-747e-477b-e979-473129142dfc"
      },
      "source": [
        "model.summary()"
      ],
      "execution_count": null,
      "outputs": [
        {
          "output_type": "stream",
          "text": [
            "Model: \"sequential\"\n",
            "_________________________________________________________________\n",
            "Layer (type)                 Output Shape              Param #   \n",
            "=================================================================\n",
            "conv2d (Conv2D)              (None, 26, 26, 32)        320       \n",
            "_________________________________________________________________\n",
            "conv2d_1 (Conv2D)            (None, 24, 24, 32)        9248      \n",
            "_________________________________________________________________\n",
            "max_pooling2d (MaxPooling2D) (None, 12, 12, 32)        0         \n",
            "_________________________________________________________________\n",
            "conv2d_2 (Conv2D)            (None, 10, 10, 64)        18496     \n",
            "_________________________________________________________________\n",
            "conv2d_3 (Conv2D)            (None, 8, 8, 64)          36928     \n",
            "_________________________________________________________________\n",
            "max_pooling2d_1 (MaxPooling2 (None, 4, 4, 64)          0         \n",
            "_________________________________________________________________\n",
            "flatten (Flatten)            (None, 1024)              0         \n",
            "_________________________________________________________________\n",
            "dense (Dense)                (None, 128)               131200    \n",
            "_________________________________________________________________\n",
            "dense_1 (Dense)              (None, 10)                1290      \n",
            "=================================================================\n",
            "Total params: 197,482\n",
            "Trainable params: 197,482\n",
            "Non-trainable params: 0\n",
            "_________________________________________________________________\n"
          ],
          "name": "stdout"
        }
      ]
    },
    {
      "cell_type": "code",
      "metadata": {
        "colab": {
          "base_uri": "https://localhost:8080/"
        },
        "id": "iW-KAOUKPNBh",
        "outputId": "35ce9e28-214c-4cf5-e99c-54f2b89e3c2e"
      },
      "source": [
        "%%time\n",
        "history = model.fit(x_train, y_train, batch_size=200, epochs=20, validation_data=(x_test, y_test))"
      ],
      "execution_count": null,
      "outputs": [
        {
          "output_type": "stream",
          "text": [
            "Epoch 1/20\n",
            "300/300 [==============================] - 18s 5ms/step - loss: 0.5376 - accuracy: 0.8281 - val_loss: 0.0500 - val_accuracy: 0.9841\n",
            "Epoch 2/20\n",
            "300/300 [==============================] - 1s 5ms/step - loss: 0.0558 - accuracy: 0.9818 - val_loss: 0.0363 - val_accuracy: 0.9880\n",
            "Epoch 3/20\n",
            "300/300 [==============================] - 1s 5ms/step - loss: 0.0358 - accuracy: 0.9889 - val_loss: 0.0306 - val_accuracy: 0.9904\n",
            "Epoch 4/20\n",
            "300/300 [==============================] - 1s 5ms/step - loss: 0.0247 - accuracy: 0.9921 - val_loss: 0.0297 - val_accuracy: 0.9910\n",
            "Epoch 5/20\n",
            "300/300 [==============================] - 1s 5ms/step - loss: 0.0207 - accuracy: 0.9935 - val_loss: 0.0249 - val_accuracy: 0.9913\n",
            "Epoch 6/20\n",
            "300/300 [==============================] - 1s 5ms/step - loss: 0.0156 - accuracy: 0.9949 - val_loss: 0.0242 - val_accuracy: 0.9923\n",
            "Epoch 7/20\n",
            "300/300 [==============================] - 1s 5ms/step - loss: 0.0125 - accuracy: 0.9961 - val_loss: 0.0273 - val_accuracy: 0.9900\n",
            "Epoch 8/20\n",
            "300/300 [==============================] - 1s 5ms/step - loss: 0.0103 - accuracy: 0.9967 - val_loss: 0.0245 - val_accuracy: 0.9917\n",
            "Epoch 9/20\n",
            "300/300 [==============================] - 1s 5ms/step - loss: 0.0107 - accuracy: 0.9965 - val_loss: 0.0231 - val_accuracy: 0.9923\n",
            "Epoch 10/20\n",
            "300/300 [==============================] - 1s 5ms/step - loss: 0.0086 - accuracy: 0.9974 - val_loss: 0.0265 - val_accuracy: 0.9915\n",
            "Epoch 11/20\n",
            "300/300 [==============================] - 1s 5ms/step - loss: 0.0067 - accuracy: 0.9977 - val_loss: 0.0344 - val_accuracy: 0.9919\n",
            "Epoch 12/20\n",
            "300/300 [==============================] - 1s 5ms/step - loss: 0.0077 - accuracy: 0.9976 - val_loss: 0.0323 - val_accuracy: 0.9917\n",
            "Epoch 13/20\n",
            "300/300 [==============================] - 1s 5ms/step - loss: 0.0055 - accuracy: 0.9980 - val_loss: 0.0422 - val_accuracy: 0.9899\n",
            "Epoch 14/20\n",
            "300/300 [==============================] - 1s 5ms/step - loss: 0.0072 - accuracy: 0.9974 - val_loss: 0.0355 - val_accuracy: 0.9900\n",
            "Epoch 15/20\n",
            "300/300 [==============================] - 1s 5ms/step - loss: 0.0066 - accuracy: 0.9977 - val_loss: 0.0280 - val_accuracy: 0.9928\n",
            "Epoch 16/20\n",
            "300/300 [==============================] - 1s 5ms/step - loss: 0.0038 - accuracy: 0.9987 - val_loss: 0.0259 - val_accuracy: 0.9925\n",
            "Epoch 17/20\n",
            "300/300 [==============================] - 1s 5ms/step - loss: 0.0039 - accuracy: 0.9987 - val_loss: 0.0291 - val_accuracy: 0.9934\n",
            "Epoch 18/20\n",
            "300/300 [==============================] - 1s 5ms/step - loss: 0.0043 - accuracy: 0.9985 - val_loss: 0.0300 - val_accuracy: 0.9934\n",
            "Epoch 19/20\n",
            "300/300 [==============================] - 1s 5ms/step - loss: 0.0039 - accuracy: 0.9989 - val_loss: 0.0334 - val_accuracy: 0.9910\n",
            "Epoch 20/20\n",
            "300/300 [==============================] - 1s 5ms/step - loss: 0.0036 - accuracy: 0.9989 - val_loss: 0.0287 - val_accuracy: 0.9936\n",
            "CPU times: user 31.3 s, sys: 4.37 s, total: 35.7 s\n",
            "Wall time: 44.8 s\n"
          ],
          "name": "stdout"
        }
      ]
    },
    {
      "cell_type": "code",
      "metadata": {
        "colab": {
          "base_uri": "https://localhost:8080/"
        },
        "id": "lxIK83jXUbns",
        "outputId": "8a10d69f-7b56-4043-e015-296997f7c759"
      },
      "source": [
        "score = model.evaluate(x_test, y_test, verbose=0)\n",
        "print('Test loss:', score[0])\n",
        "print('Test accuracy:', score[1])"
      ],
      "execution_count": null,
      "outputs": [
        {
          "output_type": "stream",
          "text": [
            "Test loss: 0.02868933044373989\n",
            "Test accuracy: 0.9936000108718872\n"
          ],
          "name": "stdout"
        }
      ]
    },
    {
      "cell_type": "markdown",
      "metadata": {
        "id": "E_-z2SDKUq-a"
      },
      "source": [
        "Сделалем описание модели в формате JSON и запишем в его файл:"
      ]
    },
    {
      "cell_type": "code",
      "metadata": {
        "id": "oCoK5-MQU3Z_"
      },
      "source": [
        "model_json = model.to_json() \n",
        "with open(\"model.json\", \"w\") as json_file: \n",
        "    json_file.write(model_json)"
      ],
      "execution_count": null,
      "outputs": []
    },
    {
      "cell_type": "markdown",
      "metadata": {
        "id": "wn7tHvAtVEi-"
      },
      "source": [
        "Отдельно сохраним веса обученной модели:"
      ]
    },
    {
      "cell_type": "code",
      "metadata": {
        "id": "SBbs0QYwVEGp"
      },
      "source": [
        "model.save_weights(\"model.h5\")"
      ],
      "execution_count": null,
      "outputs": []
    },
    {
      "cell_type": "markdown",
      "metadata": {
        "id": "ZFTsvnFFVZly"
      },
      "source": [
        "Теперь файлы `model.json` и `model.h5` следует скопировать на production-машину. Но в нашем случае мы будем использовать в качестве production тот же colab. Перенесем файлы на другую виртуальную машину через google-drive:"
      ]
    },
    {
      "cell_type": "code",
      "metadata": {
        "id": "18MjVYfnWLJt"
      },
      "source": [
        "!cp model.json model.h5 /content/drive/MyDrive/Models/"
      ],
      "execution_count": null,
      "outputs": []
    },
    {
      "cell_type": "markdown",
      "metadata": {
        "id": "7LlLTxamMWGK"
      },
      "source": [
        "## Обучение модели на PyTorch\n",
        "\n",
        "Создадим аналогичную модель на PyTorch. Особенностью PyTorch является другой порядок следования размерностей в тензоре входных данных - (B, C, H, W)\n",
        "\n",
        "B - batch, C - color channel, H - height, W - width.\n",
        "\n",
        "В keras последовательность (B, H, W, C)"
      ]
    },
    {
      "cell_type": "code",
      "metadata": {
        "id": "pU8sQfJaMoc1"
      },
      "source": [
        "import torch\n",
        "import torch.onnx as onnx\n",
        "import torch.nn as nn\n",
        "import torch.nn.functional as F\n",
        "from torch.utils.data import Dataset, DataLoader\n",
        "from torchvision import datasets\n",
        "from torchvision.transforms import ToTensor, Lambda\n",
        "import numpy as np\n",
        "import os"
      ],
      "execution_count": null,
      "outputs": []
    },
    {
      "cell_type": "markdown",
      "metadata": {
        "id": "YvTsPXgjR83m"
      },
      "source": [
        "Загружаем стандартный набор MNIST из `torchvision.datasets`"
      ]
    },
    {
      "cell_type": "code",
      "metadata": {
        "id": "ZVEic19LOpXx",
        "colab": {
          "base_uri": "https://localhost:8080/",
          "height": 658,
          "referenced_widgets": [
            "5f39e713826043f797f2d0aa665eee79",
            "5ac86d0dfdd44df8b1b387f6b7107d29",
            "fb3bfb67596247ca9b11273f6a7d3ce2",
            "e3671651643f4e84acf7389935877563",
            "3aa4d620853741f58ed3534beb33fb08",
            "d65ba8ab98f549729e1fe186d4639e70",
            "2fd71d6b4a7f49d4a717d411d8f9a94a",
            "a4c4ec7123ca4859878aac3f8f3f2404",
            "cf507fd8a6dd404796f9b9094465e5e4",
            "744fed8902c84f9f84dc33a1edc544bf",
            "fa0b1435d5b748b7804432118e3b680b",
            "3e4220d5e1ca44a2802634a2f2fcbae0",
            "8fe8fb767b2c4ea38a891643bdef6ae5",
            "4ed299e65df24972a17ec32cf90c93ba",
            "7c73b2e16c02428a8e736d8803a0006c",
            "4fbb38fc75bf4a23a9a41c268ac15b39",
            "6017cd055e9e4e7596151724f0f7eca5",
            "db3065bfc741492b9f217171c948ef32",
            "69ea9addb8514c32acde827f41e8c7b5",
            "a48bbf69ea084b71bb0643a8083844e3",
            "f1e8fbf2089c427ab5cb6f263c3e9fee",
            "fd07ecb17b1f4ca08a430fbdfa1bc508",
            "fd1431d3245d449db39ac4207e554fce",
            "e615254ca55e4270ac4d53c1a6591bf0",
            "5c29300e05e3474b800b1b9888bc64e3",
            "2691944f2a2a41599b9c0d239c9dabc4",
            "5598e30514da4d4b9aa6018257e0d294",
            "1faf7f13d5814cdf906f02f6de628828",
            "e67307f8b34c4fde8226e1b95d0b9dd2",
            "c724be81469e48fcab4d3561d88b8eaf",
            "4f87842af4234d98a1c2e64b033c012b",
            "638a680481264e839b1710a953d34de5"
          ]
        },
        "outputId": "74d0cd3e-1af6-44fc-d360-9cff7e6824ba"
      },
      "source": [
        "training_data = datasets.MNIST(\n",
        "    root=\"data\",\n",
        "    train=True,\n",
        "    download=True,\n",
        "    transform=ToTensor()\n",
        ")\n",
        "\n",
        "test_data = datasets.MNIST(\n",
        "    root=\"data\",\n",
        "    train=False,\n",
        "    download=True,\n",
        "    transform=ToTensor()\n",
        ")\n",
        "\n",
        "train_dataloader = DataLoader(training_data, batch_size=200, shuffle=True)\n",
        "test_dataloader = DataLoader(test_data, batch_size=200)"
      ],
      "execution_count": null,
      "outputs": [
        {
          "output_type": "stream",
          "text": [
            "Downloading http://yann.lecun.com/exdb/mnist/train-images-idx3-ubyte.gz\n",
            "Downloading http://yann.lecun.com/exdb/mnist/train-images-idx3-ubyte.gz to data/MNIST/raw/train-images-idx3-ubyte.gz\n"
          ],
          "name": "stdout"
        },
        {
          "output_type": "display_data",
          "data": {
            "application/vnd.jupyter.widget-view+json": {
              "model_id": "5f39e713826043f797f2d0aa665eee79",
              "version_minor": 0,
              "version_major": 2
            },
            "text/plain": [
              "HBox(children=(FloatProgress(value=0.0, max=9912422.0), HTML(value='')))"
            ]
          },
          "metadata": {
            "tags": []
          }
        },
        {
          "output_type": "stream",
          "text": [
            "\n",
            "Extracting data/MNIST/raw/train-images-idx3-ubyte.gz to data/MNIST/raw\n",
            "\n",
            "Downloading http://yann.lecun.com/exdb/mnist/train-labels-idx1-ubyte.gz\n",
            "Downloading http://yann.lecun.com/exdb/mnist/train-labels-idx1-ubyte.gz to data/MNIST/raw/train-labels-idx1-ubyte.gz\n"
          ],
          "name": "stdout"
        },
        {
          "output_type": "display_data",
          "data": {
            "application/vnd.jupyter.widget-view+json": {
              "model_id": "cf507fd8a6dd404796f9b9094465e5e4",
              "version_minor": 0,
              "version_major": 2
            },
            "text/plain": [
              "HBox(children=(FloatProgress(value=0.0, max=28881.0), HTML(value='')))"
            ]
          },
          "metadata": {
            "tags": []
          }
        },
        {
          "output_type": "stream",
          "text": [
            "\n",
            "Extracting data/MNIST/raw/train-labels-idx1-ubyte.gz to data/MNIST/raw\n",
            "\n",
            "Downloading http://yann.lecun.com/exdb/mnist/t10k-images-idx3-ubyte.gz\n",
            "Downloading http://yann.lecun.com/exdb/mnist/t10k-images-idx3-ubyte.gz to data/MNIST/raw/t10k-images-idx3-ubyte.gz\n",
            "Failed to download (trying next):\n",
            "HTTP Error 503: Service Unavailable\n",
            "\n",
            "Downloading https://ossci-datasets.s3.amazonaws.com/mnist/t10k-images-idx3-ubyte.gz\n",
            "Downloading https://ossci-datasets.s3.amazonaws.com/mnist/t10k-images-idx3-ubyte.gz to data/MNIST/raw/t10k-images-idx3-ubyte.gz\n"
          ],
          "name": "stdout"
        },
        {
          "output_type": "display_data",
          "data": {
            "application/vnd.jupyter.widget-view+json": {
              "model_id": "6017cd055e9e4e7596151724f0f7eca5",
              "version_minor": 0,
              "version_major": 2
            },
            "text/plain": [
              "HBox(children=(FloatProgress(value=0.0, max=1648877.0), HTML(value='')))"
            ]
          },
          "metadata": {
            "tags": []
          }
        },
        {
          "output_type": "stream",
          "text": [
            "\n",
            "Extracting data/MNIST/raw/t10k-images-idx3-ubyte.gz to data/MNIST/raw\n",
            "\n",
            "Downloading http://yann.lecun.com/exdb/mnist/t10k-labels-idx1-ubyte.gz\n",
            "Downloading http://yann.lecun.com/exdb/mnist/t10k-labels-idx1-ubyte.gz to data/MNIST/raw/t10k-labels-idx1-ubyte.gz\n"
          ],
          "name": "stdout"
        },
        {
          "output_type": "display_data",
          "data": {
            "application/vnd.jupyter.widget-view+json": {
              "model_id": "5c29300e05e3474b800b1b9888bc64e3",
              "version_minor": 0,
              "version_major": 2
            },
            "text/plain": [
              "HBox(children=(FloatProgress(value=0.0, max=4542.0), HTML(value='')))"
            ]
          },
          "metadata": {
            "tags": []
          }
        },
        {
          "output_type": "stream",
          "text": [
            "\n",
            "Extracting data/MNIST/raw/t10k-labels-idx1-ubyte.gz to data/MNIST/raw\n",
            "\n",
            "Processing...\n",
            "Done!\n"
          ],
          "name": "stdout"
        },
        {
          "output_type": "stream",
          "text": [
            "/usr/local/lib/python3.7/dist-packages/torchvision/datasets/mnist.py:502: UserWarning: The given NumPy array is not writeable, and PyTorch does not support non-writeable tensors. This means you can write to the underlying (supposedly non-writeable) NumPy array using the tensor. You may want to copy the array to protect its data or make it writeable before converting it to a tensor. This type of warning will be suppressed for the rest of this program. (Triggered internally at  /pytorch/torch/csrc/utils/tensor_numpy.cpp:143.)\n",
            "  return torch.from_numpy(parsed.astype(m[2], copy=False)).view(*s)\n"
          ],
          "name": "stderr"
        }
      ]
    },
    {
      "cell_type": "code",
      "metadata": {
        "colab": {
          "base_uri": "https://localhost:8080/"
        },
        "id": "_VlPbmPZPVt5",
        "outputId": "c857a766-7c09-404c-886e-d7d573fa31dd"
      },
      "source": [
        "device = 'cuda' if torch.cuda.is_available() else 'cpu'\n",
        "print('Using {} device'.format(device))"
      ],
      "execution_count": null,
      "outputs": [
        {
          "output_type": "stream",
          "text": [
            "Using cuda device\n"
          ],
          "name": "stdout"
        }
      ]
    },
    {
      "cell_type": "code",
      "metadata": {
        "id": "t9vgQqGVMoMC"
      },
      "source": [
        "class NeuralNetwork(nn.Module):\n",
        "    def __init__(self):\n",
        "        super().__init__()\n",
        "        self.linear_relu_stack = nn.Sequential(\n",
        "            nn.Conv2d(1, 32, kernel_size=(3, 3)),\n",
        "            nn.ReLU(),\n",
        "            nn.Conv2d(32, 32, kernel_size=(3, 3)),\n",
        "            nn.ReLU(),\n",
        "            nn.MaxPool2d(kernel_size=(2, 2)),\n",
        "            nn.Conv2d(32, 64, kernel_size=(3, 3)),\n",
        "            nn.ReLU(),\n",
        "            nn.Conv2d(64, 64, kernel_size=(3, 3)),\n",
        "            nn.ReLU(),\n",
        "            nn.MaxPool2d(kernel_size=(2, 2)),\n",
        "            nn.Flatten(),\n",
        "            nn.Linear(4*4*64, 128),\n",
        "            nn.ReLU(),\n",
        "            nn.Linear(128, 10),\n",
        "        )\n",
        "\n",
        "    def forward(self, x):\n",
        "        return self.linear_relu_stack(x)"
      ],
      "execution_count": null,
      "outputs": []
    },
    {
      "cell_type": "code",
      "metadata": {
        "colab": {
          "base_uri": "https://localhost:8080/"
        },
        "id": "DzQ65nPGcaj8",
        "outputId": "83dc1805-2d6c-4559-ed3e-e5516c709b1b"
      },
      "source": [
        "model = NeuralNetwork()\n",
        "model.to(device)"
      ],
      "execution_count": null,
      "outputs": [
        {
          "output_type": "execute_result",
          "data": {
            "text/plain": [
              "NeuralNetwork(\n",
              "  (linear_relu_stack): Sequential(\n",
              "    (0): Conv2d(1, 32, kernel_size=(3, 3), stride=(1, 1))\n",
              "    (1): ReLU()\n",
              "    (2): Conv2d(32, 32, kernel_size=(3, 3), stride=(1, 1))\n",
              "    (3): ReLU()\n",
              "    (4): MaxPool2d(kernel_size=(2, 2), stride=(2, 2), padding=0, dilation=1, ceil_mode=False)\n",
              "    (5): Conv2d(32, 64, kernel_size=(3, 3), stride=(1, 1))\n",
              "    (6): ReLU()\n",
              "    (7): Conv2d(64, 64, kernel_size=(3, 3), stride=(1, 1))\n",
              "    (8): ReLU()\n",
              "    (9): MaxPool2d(kernel_size=(2, 2), stride=(2, 2), padding=0, dilation=1, ceil_mode=False)\n",
              "    (10): Flatten(start_dim=1, end_dim=-1)\n",
              "    (11): Linear(in_features=1024, out_features=128, bias=True)\n",
              "    (12): ReLU()\n",
              "    (13): Linear(in_features=128, out_features=10, bias=True)\n",
              "  )\n",
              ")"
            ]
          },
          "metadata": {
            "tags": []
          },
          "execution_count": 22
        }
      ]
    },
    {
      "cell_type": "code",
      "metadata": {
        "colab": {
          "base_uri": "https://localhost:8080/"
        },
        "id": "nnpOPSt2Mn8d",
        "outputId": "544cf7e5-2402-49cc-affa-a5c7a75f19e5"
      },
      "source": [
        "%%time\n",
        "epochs = 20\n",
        "optimizer = torch.optim.Adam(model.parameters(), lr=0.001)\n",
        "criterion = nn.CrossEntropyLoss()\n",
        "\n",
        "for epoch in range(epochs):\n",
        "    losses, val_losses = [], []\n",
        "    for x, y in train_dataloader:\n",
        "        optimizer.zero_grad()\n",
        "        logits = model(x.to(device))\n",
        "        loss = criterion(logits, y.to(device))\n",
        "        loss.backward()\n",
        "        losses.append(loss.item())\n",
        "        optimizer.step()\n",
        "    avg_loss = np.array(losses).mean()\n",
        "    \n",
        "    for x, y in test_dataloader:\n",
        "        logits = model(x.to(device))\n",
        "        loss = criterion(logits, y.to(device))\n",
        "        val_losses.append(loss.item())\n",
        "    avg_val_loss = np.array(val_losses).mean()\n",
        "\n",
        "    print(\"Epoch %d/%d, loss %.4f, val_loss %.4f\" % \n",
        "          (epoch+1, epochs, avg_loss, avg_val_loss))"
      ],
      "execution_count": null,
      "outputs": [
        {
          "output_type": "stream",
          "text": [
            "Epoch 1/20, loss 0.2579, val_loss 0.0600\n",
            "Epoch 2/20, loss 0.0581, val_loss 0.0424\n",
            "Epoch 3/20, loss 0.0419, val_loss 0.0356\n",
            "Epoch 4/20, loss 0.0303, val_loss 0.0356\n",
            "Epoch 5/20, loss 0.0227, val_loss 0.0269\n",
            "Epoch 6/20, loss 0.0183, val_loss 0.0358\n",
            "Epoch 7/20, loss 0.0156, val_loss 0.0329\n",
            "Epoch 8/20, loss 0.0143, val_loss 0.0298\n",
            "Epoch 9/20, loss 0.0122, val_loss 0.0262\n",
            "Epoch 10/20, loss 0.0095, val_loss 0.0233\n",
            "Epoch 11/20, loss 0.0078, val_loss 0.0342\n",
            "Epoch 12/20, loss 0.0079, val_loss 0.0353\n",
            "Epoch 13/20, loss 0.0083, val_loss 0.0310\n",
            "Epoch 14/20, loss 0.0060, val_loss 0.0325\n",
            "Epoch 15/20, loss 0.0066, val_loss 0.0339\n",
            "Epoch 16/20, loss 0.0053, val_loss 0.0357\n",
            "Epoch 17/20, loss 0.0071, val_loss 0.0349\n",
            "Epoch 18/20, loss 0.0056, val_loss 0.0409\n",
            "Epoch 19/20, loss 0.0041, val_loss 0.0323\n",
            "Epoch 20/20, loss 0.0045, val_loss 0.0373\n",
            "CPU times: user 1min 43s, sys: 6.34 s, total: 1min 49s\n",
            "Wall time: 1min 49s\n"
          ],
          "name": "stdout"
        }
      ]
    },
    {
      "cell_type": "markdown",
      "metadata": {
        "id": "gwlALALWbM_L"
      },
      "source": [
        "Оценим точность на тестовом наборе:"
      ]
    },
    {
      "cell_type": "code",
      "metadata": {
        "colab": {
          "base_uri": "https://localhost:8080/"
        },
        "id": "b5cLfxHyVQMo",
        "outputId": "2fc5d9d0-5770-49c6-9662-14a466a3b2ae"
      },
      "source": [
        "total, correct = 0, 0\n",
        "for x, y in test_dataloader:\n",
        "    logits = model(x.to(device))\n",
        "    _,pred_t = torch.max(logits, dim=1)\n",
        "    correct += torch.sum(pred_t == y.to(device)).item()\n",
        "    total += y.size(0)\n",
        "test_acc = (100 * correct / total)\n",
        "print(test_acc)"
      ],
      "execution_count": null,
      "outputs": [
        {
          "output_type": "stream",
          "text": [
            "99.2\n"
          ],
          "name": "stdout"
        }
      ]
    },
    {
      "cell_type": "markdown",
      "metadata": {
        "id": "gjwy_hr6beLa"
      },
      "source": [
        "Cкопируем веса модели на google-drive"
      ]
    },
    {
      "cell_type": "code",
      "metadata": {
        "id": "BYmmCXAKMnvI"
      },
      "source": [
        "path = os.path.join('/content/drive/MyDrive/Models', 'model_weights.pth')\n",
        "torch.save(model.state_dict(), path)"
      ],
      "execution_count": null,
      "outputs": []
    },
    {
      "cell_type": "markdown",
      "metadata": {
        "id": "DTKY1jhXcBxA"
      },
      "source": [
        "Попробуем восстановить веса модели:"
      ]
    },
    {
      "cell_type": "code",
      "metadata": {
        "colab": {
          "base_uri": "https://localhost:8080/"
        },
        "id": "_Od1N3YbMngj",
        "outputId": "b66d2f73-3c29-41e4-f7a0-cc31a7e58700"
      },
      "source": [
        "model.load_state_dict(torch.load(path))\n",
        "model.eval()"
      ],
      "execution_count": null,
      "outputs": [
        {
          "output_type": "execute_result",
          "data": {
            "text/plain": [
              "NeuralNetwork(\n",
              "  (linear_relu_stack): Sequential(\n",
              "    (0): Conv2d(1, 32, kernel_size=(3, 3), stride=(1, 1))\n",
              "    (1): ReLU()\n",
              "    (2): Conv2d(32, 32, kernel_size=(3, 3), stride=(1, 1))\n",
              "    (3): ReLU()\n",
              "    (4): MaxPool2d(kernel_size=(2, 2), stride=(2, 2), padding=0, dilation=1, ceil_mode=False)\n",
              "    (5): Conv2d(32, 64, kernel_size=(3, 3), stride=(1, 1))\n",
              "    (6): ReLU()\n",
              "    (7): Conv2d(64, 64, kernel_size=(3, 3), stride=(1, 1))\n",
              "    (8): ReLU()\n",
              "    (9): MaxPool2d(kernel_size=(2, 2), stride=(2, 2), padding=0, dilation=1, ceil_mode=False)\n",
              "    (10): Flatten(start_dim=1, end_dim=-1)\n",
              "    (11): Linear(in_features=1024, out_features=128, bias=True)\n",
              "    (12): ReLU()\n",
              "    (13): Linear(in_features=128, out_features=10, bias=True)\n",
              "  )\n",
              ")"
            ]
          },
          "metadata": {
            "tags": []
          },
          "execution_count": 31
        }
      ]
    },
    {
      "cell_type": "markdown",
      "metadata": {
        "id": "-FSZ3MCAbt-b"
      },
      "source": [
        "Преобразуем модель в формат ONNX и запишем на google-drive:"
      ]
    },
    {
      "cell_type": "code",
      "metadata": {
        "id": "9FnbmT0ahiYj"
      },
      "source": [
        "path_onnx = os.path.join('/content/drive/MyDrive/Models', 'model.onnx')\n",
        "input_image = torch.zeros((1, 1, 28, 28))\n",
        "onnx.export(model.to('cpu'), input_image, path_onnx)"
      ],
      "execution_count": null,
      "outputs": []
    },
    {
      "cell_type": "markdown",
      "metadata": {
        "id": "NxcKsXrXPZAr"
      },
      "source": [
        "## Flask\n",
        "\n",
        "![image.png](data:image/png;base64,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)\n",
        "Здесь можно запустить новую сессию (без GPU) для эмуляции работы production-машины\n",
        "\n"
      ]
    },
    {
      "cell_type": "markdown",
      "metadata": {
        "id": "llz-4LzNRQOV"
      },
      "source": [
        "[Flask](https://flask.palletsprojects.com/en/1.1.x/quickstart/) - фреймворк на Python для создания Web-приложений.\n",
        "\n",
        "Альтернативные фреймворки на Python, решающие те же задачи - [Django](https://www.djangoproject.com/) и [FastAPI](https://fastapi.tiangolo.com/)\n"
      ]
    },
    {
      "cell_type": "markdown",
      "metadata": {
        "id": "QzK7GnBBu5Nl"
      },
      "source": [
        "Импортируем Flask и создадим простейшее приложение"
      ]
    },
    {
      "cell_type": "code",
      "metadata": {
        "id": "EkpUvPiCSV3r"
      },
      "source": [
        "from flask import Flask, render_template\n",
        "\n",
        "app = Flask(__name__)\n",
        "\n",
        "@app.route('/')\n",
        "def hello_world():\n",
        "    # return render_template('index.html')\n",
        "    return 'Hello, World!'"
      ],
      "execution_count": null,
      "outputs": []
    },
    {
      "cell_type": "markdown",
      "metadata": {
        "id": "vApi9ofaT3f_"
      },
      "source": [
        "Декоратор `@app.route(uri)` связывает ссылку, по которой обратились к сайту, с функцией, создающей контент web-страницы.\n",
        "\n",
        "Существует несколько способов запустить web-приложение (или _сервер_).\n",
        "\n",
        "Один из них - запустить сервер как отдельный _поток_ (Thread) в текущем процессе. Это можно сделать с помощью пакета `threading`:"
      ]
    },
    {
      "cell_type": "code",
      "metadata": {
        "id": "u7jqsNXlSVli"
      },
      "source": [
        "import threading"
      ],
      "execution_count": null,
      "outputs": []
    },
    {
      "cell_type": "markdown",
      "metadata": {
        "id": "lOSblPpRAIZE"
      },
      "source": [
        "Запуск сервера в отдельном потоке не заблокирует выполнение ячейки и мы сможем работать дальше."
      ]
    },
    {
      "cell_type": "code",
      "metadata": {
        "colab": {
          "base_uri": "https://localhost:8080/"
        },
        "id": "dMfWWj7-SVZC",
        "outputId": "62f3759f-c204-482a-afc5-77098b7af726"
      },
      "source": [
        "threading.Thread(target=app.run, kwargs={'host' : 'localhost', 'port':5001}).start()"
      ],
      "execution_count": null,
      "outputs": [
        {
          "output_type": "stream",
          "text": [
            " * Serving Flask app \"__main__\" (lazy loading)\n",
            " * Environment: production\n",
            "\u001b[31m   WARNING: This is a development server. Do not use it in a production deployment.\u001b[0m\n",
            "\u001b[2m   Use a production WSGI server instead.\u001b[0m\n",
            " * Debug mode: off\n"
          ],
          "name": "stdout"
        },
        {
          "output_type": "stream",
          "text": [
            " * Running on http://localhost:5001/ (Press CTRL+C to quit)\n"
          ],
          "name": "stderr"
        }
      ]
    },
    {
      "cell_type": "markdown",
      "metadata": {
        "id": "sQG613DoVkNO"
      },
      "source": [
        "К сожалению, браузер не может соединиться с нашим сервером, так как его IP-адрес нам недоступен.\n",
        "\n",
        "Можно делать к нему HTTP-запросы из colab-ноутбука, для этого импортируем библиотеку `requests`"
      ]
    },
    {
      "cell_type": "code",
      "metadata": {
        "colab": {
          "base_uri": "https://localhost:8080/"
        },
        "id": "GeIv3gV7SVNT",
        "outputId": "5f979f67-39d6-4825-9f1c-00dfd36f7e35"
      },
      "source": [
        "import requests\n",
        "\n",
        "r = requests.get('http://localhost:5001') \n",
        "print(r.status_code) \n",
        "print(r.text) "
      ],
      "execution_count": null,
      "outputs": [
        {
          "output_type": "stream",
          "text": [
            "127.0.0.1 - - [06/May/2021 12:55:11] \"\u001b[37mGET / HTTP/1.1\u001b[0m\" 200 -\n"
          ],
          "name": "stderr"
        },
        {
          "output_type": "stream",
          "text": [
            "200\n",
            "Hello, World!\n"
          ],
          "name": "stdout"
        }
      ]
    },
    {
      "cell_type": "markdown",
      "metadata": {
        "id": "SZbaoSlhA5S7"
      },
      "source": [
        "Существует способ достучаться до сервера извне (например подключиться браузером) - создать туннельный канал. Запускаем сервер еще раз, обычным способом (без отдельного потока). При этом выполнение \"зависнет\" на этой ячейке."
      ]
    },
    {
      "cell_type": "markdown",
      "metadata": {
        "id": "JydV-UYbfEfc"
      },
      "source": [
        "Для доступа к нашему серверу через браузер можно воспользоваться сервисом https://ngrok.com\n",
        "\n",
        "На виртуалку colab скачивается выполняемый файл ./ngrok Он создает соединение к облачному сервису и выдает некоторый адрес (типа http://d33d2465ae4f.ngrok.io/ ) при обращении к которому через браузер соединение пробрасывается на наш сервер."
      ]
    },
    {
      "cell_type": "code",
      "metadata": {
        "colab": {
          "base_uri": "https://localhost:8080/"
        },
        "id": "h4QLNT1BwtZr",
        "outputId": "8d0f99f4-55d3-44b5-9e8c-a37406ec206f"
      },
      "source": [
        "!wget http://dataudt.ru/datasets/ngrok"
      ],
      "execution_count": null,
      "outputs": [
        {
          "output_type": "stream",
          "text": [
            "--2021-05-06 12:58:12--  http://dataudt.ru/datasets/ngrok\n",
            "Resolving dataudt.ru (dataudt.ru)... 37.228.117.130\n",
            "Connecting to dataudt.ru (dataudt.ru)|37.228.117.130|:80... connected.\n",
            "HTTP request sent, awaiting response... 200 OK\n",
            "Length: 30048819 (29M) [application/octet-stream]\n",
            "Saving to: ‘ngrok’\n",
            "\n",
            "ngrok               100%[===================>]  28.66M  10.3MB/s    in 2.8s    \n",
            "\n",
            "2021-05-06 12:58:15 (10.3 MB/s) - ‘ngrok’ saved [30048819/30048819]\n",
            "\n"
          ],
          "name": "stdout"
        }
      ]
    },
    {
      "cell_type": "markdown",
      "metadata": {
        "id": "R2h2CnI_EX7J"
      },
      "source": [
        "Сделаем программу исполняемой:"
      ]
    },
    {
      "cell_type": "code",
      "metadata": {
        "id": "l_GR0DVKv4Rt"
      },
      "source": [
        "!chmod +x ngrok"
      ],
      "execution_count": null,
      "outputs": []
    },
    {
      "cell_type": "markdown",
      "metadata": {
        "id": "KPz30yChEhLm"
      },
      "source": [
        "И запустим, указав токен. ( Индивидуальный токен можно получить, создав себе эккаунт на http://ngrok.com)"
      ]
    },
    {
      "cell_type": "code",
      "metadata": {
        "id": "XPUShsPFSVBm",
        "colab": {
          "base_uri": "https://localhost:8080/"
        },
        "outputId": "d1b60cc7-b069-4c05-d720-e6b85c5e1f33"
      },
      "source": [
        "!./ngrok authtoken 1P6QIs3hbpbfvjSqiraMWPsPkyP_5KVjgA2niQhCtRRhYZ16D"
      ],
      "execution_count": null,
      "outputs": [
        {
          "output_type": "stream",
          "text": [
            "Authtoken saved to configuration file: /root/.ngrok2/ngrok.yml\n"
          ],
          "name": "stdout"
        }
      ]
    },
    {
      "cell_type": "markdown",
      "metadata": {
        "id": "4FNMpvsXE4q6"
      },
      "source": [
        "Запускаем программу в фоновом режиме, указав протокол http и порт, на котором слушает наш сервер. Сервис создаст временный адрес (типа 62b167b33830.ngrok.io, каждый раз другой) Соединения по этому адресу будут пробрасываться на запущенную нами программу `ngrok`, она будет соединяться с нашим сервером flask, и возвращать полученные данные назад.\n",
        "\n",
        "Откройте окно терминала (значок в левом нижнем углу \n",
        "![image.png](data:image/png;base64,iVBORw0KGgoAAAANSUhEUgAAACkAAAAhCAYAAABEM4KbAAAA7UlEQVRYCe2WsQrEIAyG+6pd29nVrp2dnTv7DvoOnTt3ds6RA49yeBCtBsqlEApF5ePLr3aABzzDAxhBIFt1SUyKyVYGWq1DzuRxHLBtGzjnigvnhRCqmcmQ0zTBOI636jzPKlAy5F1AnL/vu0DeanPqAqvJ2nyyQWqtIcYI1tpiu2yQy7K8IXEHlIKyQWK+akFZIVPLS22yQf4CXNc1ewbiTcW+u1Orv/OolMpel9dxbCbRyjzPHzvJEuXdHbL2bLzCd7+7MVvYOsxeaRljwHufzSzlI/kHg7JYrzEC2cqsmBSTrQy0Wkcy+VcmX6Y7dZxZk6XHAAAAAElFTkSuQmCC)\n",
        ") и наберите в нем \n",
        "\n",
        "```\n",
        "./ngrok http 5000\n",
        "```\n",
        "\n",
        "\n"
      ]
    },
    {
      "cell_type": "markdown",
      "metadata": {
        "id": "9jmMyQFgG6mt"
      },
      "source": [
        "Для соединения с нашим сервером наберите в браузере адрес, который программа выведет в строке Forwarding\n",
        "\n",
        "Но сначала нам надо загрузить статические файлы нашего приложения "
      ]
    },
    {
      "cell_type": "markdown",
      "metadata": {
        "id": "Qr1mJdgnJsSG"
      },
      "source": [
        "Загрузим статические файлы для нашего web-приложения flask:"
      ]
    },
    {
      "cell_type": "code",
      "metadata": {
        "colab": {
          "base_uri": "https://localhost:8080/"
        },
        "id": "Rt7cTzm0e4NA",
        "outputId": "eee20712-88ad-4272-d9b0-a7cfbe4750a2"
      },
      "source": [
        "!wget http://dataudt.ru/datasets/flask-app.tar"
      ],
      "execution_count": null,
      "outputs": [
        {
          "output_type": "stream",
          "text": [
            "--2021-05-06 13:01:57--  http://dataudt.ru/datasets/flask-app.tar\n",
            "Resolving dataudt.ru (dataudt.ru)... 37.228.117.130\n",
            "Connecting to dataudt.ru (dataudt.ru)|37.228.117.130|:80... connected.\n",
            "HTTP request sent, awaiting response... 200 OK\n",
            "Length: 71680 (70K) [application/octet-stream]\n",
            "Saving to: ‘flask-app.tar’\n",
            "\n",
            "flask-app.tar       100%[===================>]  70.00K   202KB/s    in 0.3s    \n",
            "\n",
            "2021-05-06 13:01:58 (202 KB/s) - ‘flask-app.tar’ saved [71680/71680]\n",
            "\n"
          ],
          "name": "stdout"
        }
      ]
    },
    {
      "cell_type": "markdown",
      "metadata": {
        "id": "9rYFI3JjxWWK"
      },
      "source": [
        "Развернем tar-архив в текущем каталоге "
      ]
    },
    {
      "cell_type": "code",
      "metadata": {
        "colab": {
          "base_uri": "https://localhost:8080/"
        },
        "id": "zkIqpw_Ue3uI",
        "outputId": "9c985c1f-ab32-4896-f00a-a49376395933"
      },
      "source": [
        "!tar xvf flask-app.tar"
      ],
      "execution_count": null,
      "outputs": [
        {
          "output_type": "stream",
          "text": [
            "./\n",
            "./static/\n",
            "./static/index.js\n",
            "./static/jquery-1.3.2.min.js\n",
            "./static/style.css\n",
            "./templates/\n",
            "./templates/index.html\n"
          ],
          "name": "stdout"
        }
      ]
    },
    {
      "cell_type": "markdown",
      "metadata": {
        "id": "uSkhljYgx_Ia"
      },
      "source": [
        "Копируем файлы keras-модели с гугль-драйва в текущий каталог:"
      ]
    },
    {
      "cell_type": "code",
      "metadata": {
        "id": "l7KoBbAuXr9E"
      },
      "source": [
        "!cp /content/drive/MyDrive/Models/model.json .\n",
        "!cp /content/drive/MyDrive/Models/model.h5 ."
      ],
      "execution_count": null,
      "outputs": []
    },
    {
      "cell_type": "code",
      "metadata": {
        "id": "v59IL8LnXhJ2"
      },
      "source": [
        "import tensorflow as tf\n",
        "import base64"
      ],
      "execution_count": null,
      "outputs": []
    },
    {
      "cell_type": "markdown",
      "metadata": {
        "id": "eGDq-IUqYIHt"
      },
      "source": [
        "Восстанавливаем модель на production-машине:"
      ]
    },
    {
      "cell_type": "code",
      "metadata": {
        "colab": {
          "base_uri": "https://localhost:8080/"
        },
        "id": "TI2fh7SKXi4D",
        "outputId": "874d819c-d631-4040-8a76-d34ff995f1a7"
      },
      "source": [
        "with open('model.json','r') as json_file: \n",
        "    loaded_model_json = json_file.read()\n",
        "\n",
        "loaded_model = tf.keras.models.model_from_json(loaded_model_json)\n",
        "loaded_model.load_weights(\"model.h5\")\n",
        "loaded_model.summary()"
      ],
      "execution_count": null,
      "outputs": [
        {
          "output_type": "stream",
          "text": [
            "Model: \"sequential\"\n",
            "_________________________________________________________________\n",
            "Layer (type)                 Output Shape              Param #   \n",
            "=================================================================\n",
            "conv2d (Conv2D)              (None, 26, 26, 32)        320       \n",
            "_________________________________________________________________\n",
            "conv2d_1 (Conv2D)            (None, 24, 24, 32)        9248      \n",
            "_________________________________________________________________\n",
            "max_pooling2d (MaxPooling2D) (None, 12, 12, 32)        0         \n",
            "_________________________________________________________________\n",
            "conv2d_2 (Conv2D)            (None, 10, 10, 64)        18496     \n",
            "_________________________________________________________________\n",
            "conv2d_3 (Conv2D)            (None, 8, 8, 64)          36928     \n",
            "_________________________________________________________________\n",
            "max_pooling2d_1 (MaxPooling2 (None, 4, 4, 64)          0         \n",
            "_________________________________________________________________\n",
            "flatten (Flatten)            (None, 1024)              0         \n",
            "_________________________________________________________________\n",
            "dense (Dense)                (None, 128)               131200    \n",
            "_________________________________________________________________\n",
            "dense_1 (Dense)              (None, 10)                1290      \n",
            "=================================================================\n",
            "Total params: 197,482\n",
            "Trainable params: 197,482\n",
            "Non-trainable params: 0\n",
            "_________________________________________________________________\n"
          ],
          "name": "stdout"
        }
      ]
    },
    {
      "cell_type": "markdown",
      "metadata": {
        "id": "ySTgkQjiyXw4"
      },
      "source": [
        "Браузер передает изображение, закодировав данные в base64\n",
        "\n",
        "Нам нужно преобразовать большое изображение (рисунок цифры) в маленькое, размера 28х28. Проще всего это сделать, предварительно записав изображение во временный PNG-файл."
      ]
    },
    {
      "cell_type": "markdown",
      "metadata": {
        "id": "jTCLypioZD8G"
      },
      "source": [
        "Следующая функция создает png-файл из строки, кодирующей изображение в кодировке base64.\n",
        "\n",
        "Пример изображения ![image.png](data:image/png;base64,iVBORw0KGgoAAAANSUhEUgAAACkAAAAhCAYAAABEM4KbAAAA7UlEQVRYCe2WsQrEIAyG+6pd29nVrp2dnTv7DvoOnTt3ds6RA49yeBCtBsqlEApF5ePLr3aABzzDAxhBIFt1SUyKyVYGWq1DzuRxHLBtGzjnigvnhRCqmcmQ0zTBOI636jzPKlAy5F1AnL/vu0DeanPqAqvJ2nyyQWqtIcYI1tpiu2yQy7K8IXEHlIKyQWK+akFZIVPLS22yQf4CXNc1ewbiTcW+u1Orv/OolMpel9dxbCbRyjzPHzvJEuXdHbL2bLzCd7+7MVvYOsxeaRljwHufzSzlI/kHg7JYrzEC2cqsmBSTrQy0Wkcy+VcmX6Y7dZxZk6XHAAAAAElFTkSuQmCC) в кодировке base64:\n",
        "```\n",
        "data:image/png;base64,iVBORw0KGgoAAAANSUhEUgAAACkAAAAhCAYAAABEM4KbAAAA7UlEQVRYCe2WsQrEIAyG+6pd29nVrp2dnTv7DvoOnTt3ds6RA49yeBCtBsqlEApF5ePLr3aABzzDAxhBIFt1SUyKyVYGWq1DzuRxHLBtGzjnigvnhRCqmcmQ0zTBOI636jzPKlAy5F1AnL/vu0DeanPqAqvJ2nyyQWqtIcYI1tpiu2yQy7K8IXEHlIKyQWK+akFZIVPLS22yQf4CXNc1ewbiTcW+u1Orv/OolMpel9dxbCbRyjzPHzvJEuXdHbL2bLzCd7+7MVvYOsxeaRljwHufzSzlI/kHg7JYrzEC2cqsmBSTrQy0Wkcy+VcmX6Y7dZxZk6XHAAAAAElFTkSuQmCC\n",
        "```"
      ]
    },
    {
      "cell_type": "code",
      "metadata": {
        "id": "6WP1PYWhZAlj"
      },
      "source": [
        "def convertImage(img):\n",
        "    imgstr = re.search(b'base64,(.*)', img).group(1)\n",
        "    with open('output.png','wb') as output: # временный файл, в который записываем декодированное представление\n",
        "        output.write(base64.b64decode(imgstr))"
      ],
      "execution_count": null,
      "outputs": []
    },
    {
      "cell_type": "markdown",
      "metadata": {
        "id": "WtstNWJa2hof"
      },
      "source": [
        "Это - наше приложение на Flask. По адресу `/` (или `/index`) выводится страница изображения с холстом (canvas) для рисования цифры.\n",
        "\n",
        "После нажатия кнопки 'predict' браузер посылает на сервер AJAX-запрос по адресу `/predict`. В качестве данных передается изображение в кодировке base64.\n",
        "\n",
        "Наш сервер преобразует полученное изображение в 28х28 и запускает модель на инференс. Полученный результат (с указанием вероятности) возвращается в качестве ответа на AJAX-запрос и далее выводится на странице."
      ]
    },
    {
      "cell_type": "code",
      "metadata": {
        "id": "XOgeOh1NqjtS"
      },
      "source": [
        "from flask import Flask, request, render_template\n",
        "from tensorflow.keras.preprocessing import image\n",
        "import numpy as np\n",
        "\n",
        "app = Flask(__name__)\n",
        "\n",
        "@app.route('/')\n",
        "@app.route('/index')\n",
        "def index():\n",
        "    return render_template(\"index.html\") # темплейты берутся из каталога templates\n",
        "\n",
        "# здесь будут обрабатываться AJAX-запросы на распознавание цифры\n",
        "@app.route('/predict/', methods=['GET','POST'])\n",
        "def predict():\n",
        "    imgData = request.get_data()\n",
        "    convertImage(imgData) # сохраняем во временный файл output.png\n",
        "    img = image.load_img('output.png', target_size=(28, 28), color_mode='grayscale')\n",
        "    x = np.array(img)\n",
        "    x = np.reshape(x, (1, 28, 28, 1))\n",
        "    x = 1. - (x / 255.) \n",
        "    pred = loaded_model.predict(x) \n",
        "    digit = np.argmax(pred, axis=1)[0] \n",
        "    prob = pred[0, digit]             \n",
        "    print(pred, digit) # для отладки (вывод в консоль)\n",
        "    # response = np.array_str(np.argmax(pred, axis=1))\n",
        "    response = '%d probability:%.3f' % (digit, prob)\n",
        "    return response"
      ],
      "execution_count": null,
      "outputs": []
    },
    {
      "cell_type": "markdown",
      "metadata": {
        "id": "XAotVEFTKAaP"
      },
      "source": [
        "Запустим приложение flask и обратимся в браузере по 'Forwarding' адресу "
      ]
    },
    {
      "cell_type": "code",
      "metadata": {
        "colab": {
          "base_uri": "https://localhost:8080/"
        },
        "id": "hgMPQpjRrnDQ",
        "outputId": "c2291cea-2793-4903-fdb2-453694db5737"
      },
      "source": [
        "import os\n",
        "import re\n",
        "\n",
        "port = int(os.environ.get('PORT', 5000))\n",
        "app.run(host='localhost', port=port, debug=True, use_reloader=False)"
      ],
      "execution_count": null,
      "outputs": [
        {
          "output_type": "stream",
          "text": [
            " * Serving Flask app \"__main__\" (lazy loading)\n",
            " * Environment: production\n",
            "\u001b[31m   WARNING: This is a development server. Do not use it in a production deployment.\u001b[0m\n",
            "\u001b[2m   Use a production WSGI server instead.\u001b[0m\n",
            " * Debug mode: on\n"
          ],
          "name": "stdout"
        },
        {
          "output_type": "stream",
          "text": [
            " * Running on http://localhost:5000/ (Press CTRL+C to quit)\n",
            "127.0.0.1 - - [06/May/2021 13:34:14] \"\u001b[37mGET / HTTP/1.1\u001b[0m\" 200 -\n",
            "127.0.0.1 - - [06/May/2021 13:34:14] \"\u001b[37mGET /static/style.css HTTP/1.1\u001b[0m\" 200 -\n",
            "127.0.0.1 - - [06/May/2021 13:34:14] \"\u001b[37mGET /static/index.js HTTP/1.1\u001b[0m\" 200 -\n",
            "127.0.0.1 - - [06/May/2021 13:34:16] \"\u001b[33mGET /favicon.ico HTTP/1.1\u001b[0m\" 404 -\n",
            "127.0.0.1 - - [06/May/2021 13:34:43] \"\u001b[37mPOST /predict/ HTTP/1.1\u001b[0m\" 200 -\n"
          ],
          "name": "stderr"
        },
        {
          "output_type": "stream",
          "text": [
            "[[1.3294101e-14 1.4366061e-08 4.5992310e-10 1.0000000e+00 1.0833263e-15\n",
            "  4.8259230e-10 4.0969239e-15 1.4971000e-08 1.6183874e-11 1.3820094e-10]] 3\n"
          ],
          "name": "stdout"
        },
        {
          "output_type": "stream",
          "text": [
            "127.0.0.1 - - [06/May/2021 13:36:58] \"\u001b[37mPOST /predict/ HTTP/1.1\u001b[0m\" 200 -\n"
          ],
          "name": "stderr"
        },
        {
          "output_type": "stream",
          "text": [
            "[[2.2975580e-11 2.3307811e-11 2.5664759e-08 6.4565298e-11 7.1991296e-10\n",
            "  9.8250842e-01 1.7491469e-02 6.4578711e-15 4.4080077e-09 1.9708644e-09]] 5\n"
          ],
          "name": "stdout"
        },
        {
          "output_type": "stream",
          "text": [
            "127.0.0.1 - - [06/May/2021 13:37:10] \"\u001b[37mPOST /predict/ HTTP/1.1\u001b[0m\" 200 -\n"
          ],
          "name": "stderr"
        },
        {
          "output_type": "stream",
          "text": [
            "[[3.1745204e-11 5.1176247e-10 7.9859556e-06 4.8909622e-04 6.2073805e-06\n",
            "  2.1953246e-01 3.7739440e-11 1.3293447e-06 1.7587039e-06 7.7996117e-01]] 9\n"
          ],
          "name": "stdout"
        },
        {
          "output_type": "stream",
          "text": [
            "127.0.0.1 - - [06/May/2021 13:37:20] \"\u001b[37mPOST /predict/ HTTP/1.1\u001b[0m\" 200 -\n"
          ],
          "name": "stderr"
        },
        {
          "output_type": "stream",
          "text": [
            "[[6.8168600e-12 3.0626893e-11 3.6857063e-08 1.2181085e-09 2.1857035e-13\n",
            "  1.0322259e-11 1.8257074e-14 7.2653559e-13 1.0000000e+00 3.9674063e-08]] 8\n"
          ],
          "name": "stdout"
        }
      ]
    },
    {
      "cell_type": "markdown",
      "metadata": {
        "id": "x4Iz7T8WeSm6"
      },
      "source": [
        "![image.png](data:image/png;base64,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)"
      ]
    },
    {
      "cell_type": "markdown",
      "metadata": {
        "id": "D34CwTvcZ1KP"
      },
      "source": [
        "Connect to http://dc6416ab25a1.ngrok.io/ - измените эту ссылку на адрес в строке Forwarding"
      ]
    },
    {
      "cell_type": "markdown",
      "metadata": {
        "id": "k2ykk6qF5Erc"
      },
      "source": [
        "Пример работы:"
      ]
    },
    {
      "cell_type": "markdown",
      "metadata": {
        "id": "EgRaW9_24_we"
      },
      "source": [
        "![image.png](data:image/png;base64,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)"
      ]
    },
    {
      "cell_type": "markdown",
      "metadata": {
        "id": "_-23C1088-1A"
      },
      "source": [
        "# ONNX\n",
        "\n",
        "В предыдущем примере мы запустили на production модель, созданную с помощью keras и восстановленную из ее описания в формате JSON. Иногда такой подход неудобен или невозможен, например если у нас используется несколько моделей, созданных в разных фреймворках.\n",
        "\n",
        "Возможное решение этой проблемы - использование [ONNX](https://onnx.ai/)\n",
        "\n",
        "**ONNX** (Open Neural Network Exchange) — открытая библиотека программного обеспечения для построения нейронных сетей глубокого обучения. С помощью ONNX ИИ-разработчики могут обмениваться моделями между различными инструментами и выбирать наилучшую комбинацию этих инструментов. ONNX разрабатывается и поддерживается совместно компаниями Microsoft, Facebook, Amazon и другими партнерами как проект с открытым исходным кодом"
      ]
    },
    {
      "cell_type": "markdown",
      "metadata": {
        "id": "nKR8v3HnEi1j"
      },
      "source": [
        "### ONNX - Keras model\n",
        "Запустим нашу модель, используя ONNX."
      ]
    },
    {
      "cell_type": "code",
      "metadata": {
        "id": "XfVQsaU4qjpM",
        "colab": {
          "base_uri": "https://localhost:8080/",
          "height": 1000
        },
        "outputId": "33d61b02-b559-45c5-b534-6ea10f45bca1"
      },
      "source": [
        "!pip install keras2onnx\n",
        "!pip install onnxruntime\n",
        "!pip install tensorflow==2.3 # keras2onnx не работает с 2.4"
      ],
      "execution_count": null,
      "outputs": [
        {
          "output_type": "stream",
          "text": [
            "Requirement already satisfied: keras2onnx in /usr/local/lib/python3.7/dist-packages (1.7.0)\n",
            "Requirement already satisfied: numpy in /usr/local/lib/python3.7/dist-packages (from keras2onnx) (1.19.5)\n",
            "Requirement already satisfied: onnx in /usr/local/lib/python3.7/dist-packages (from keras2onnx) (1.9.0)\n",
            "Requirement already satisfied: onnxconverter-common>=1.7.0 in /usr/local/lib/python3.7/dist-packages (from keras2onnx) (1.8.1)\n",
            "Requirement already satisfied: fire in /usr/local/lib/python3.7/dist-packages (from keras2onnx) (0.4.0)\n",
            "Requirement already satisfied: requests in /usr/local/lib/python3.7/dist-packages (from keras2onnx) (2.23.0)\n",
            "Requirement already satisfied: protobuf in /usr/local/lib/python3.7/dist-packages (from keras2onnx) (3.12.4)\n",
            "Requirement already satisfied: six in /usr/local/lib/python3.7/dist-packages (from onnx->keras2onnx) (1.15.0)\n",
            "Requirement already satisfied: typing-extensions>=3.6.2.1 in /usr/local/lib/python3.7/dist-packages (from onnx->keras2onnx) (3.7.4.3)\n",
            "Requirement already satisfied: termcolor in /usr/local/lib/python3.7/dist-packages (from fire->keras2onnx) (1.1.0)\n",
            "Requirement already satisfied: idna<3,>=2.5 in /usr/local/lib/python3.7/dist-packages (from requests->keras2onnx) (2.10)\n",
            "Requirement already satisfied: chardet<4,>=3.0.2 in /usr/local/lib/python3.7/dist-packages (from requests->keras2onnx) (3.0.4)\n",
            "Requirement already satisfied: certifi>=2017.4.17 in /usr/local/lib/python3.7/dist-packages (from requests->keras2onnx) (2020.12.5)\n",
            "Requirement already satisfied: urllib3!=1.25.0,!=1.25.1,<1.26,>=1.21.1 in /usr/local/lib/python3.7/dist-packages (from requests->keras2onnx) (1.24.3)\n",
            "Requirement already satisfied: setuptools in /usr/local/lib/python3.7/dist-packages (from protobuf->keras2onnx) (56.0.0)\n",
            "Requirement already satisfied: onnxruntime in /usr/local/lib/python3.7/dist-packages (1.7.0)\n",
            "Requirement already satisfied: protobuf in /usr/local/lib/python3.7/dist-packages (from onnxruntime) (3.12.4)\n",
            "Requirement already satisfied: numpy>=1.16.6 in /usr/local/lib/python3.7/dist-packages (from onnxruntime) (1.19.5)\n",
            "Requirement already satisfied: setuptools in /usr/local/lib/python3.7/dist-packages (from protobuf->onnxruntime) (56.0.0)\n",
            "Requirement already satisfied: six>=1.9 in /usr/local/lib/python3.7/dist-packages (from protobuf->onnxruntime) (1.15.0)\n",
            "Collecting tensorflow==2.3\n",
            "\u001b[?25l  Downloading https://files.pythonhosted.org/packages/16/89/f2d29c2eafc2eeafb17d5634340e06366af904d332341200a49d954bce85/tensorflow-2.3.0-cp37-cp37m-manylinux2010_x86_64.whl (320.4MB)\n",
            "\u001b[K     |████████████████████████████████| 320.4MB 51kB/s \n",
            "\u001b[?25hRequirement already satisfied: keras-preprocessing<1.2,>=1.1.1 in /usr/local/lib/python3.7/dist-packages (from tensorflow==2.3) (1.1.2)\n",
            "Requirement already satisfied: gast==0.3.3 in /usr/local/lib/python3.7/dist-packages (from tensorflow==2.3) (0.3.3)\n",
            "Requirement already satisfied: six>=1.12.0 in /usr/local/lib/python3.7/dist-packages (from tensorflow==2.3) (1.15.0)\n",
            "Requirement already satisfied: astunparse==1.6.3 in /usr/local/lib/python3.7/dist-packages (from tensorflow==2.3) (1.6.3)\n",
            "Collecting tensorflow-estimator<2.4.0,>=2.3.0\n",
            "\u001b[?25l  Downloading https://files.pythonhosted.org/packages/e9/ed/5853ec0ae380cba4588eab1524e18ece1583b65f7ae0e97321f5ff9dfd60/tensorflow_estimator-2.3.0-py2.py3-none-any.whl (459kB)\n",
            "\u001b[K     |████████████████████████████████| 460kB 25.7MB/s \n",
            "\u001b[?25hRequirement already satisfied: scipy==1.4.1 in /usr/local/lib/python3.7/dist-packages (from tensorflow==2.3) (1.4.1)\n",
            "Requirement already satisfied: absl-py>=0.7.0 in /usr/local/lib/python3.7/dist-packages (from tensorflow==2.3) (0.12.0)\n",
            "Requirement already satisfied: grpcio>=1.8.6 in /usr/local/lib/python3.7/dist-packages (from tensorflow==2.3) (1.32.0)\n",
            "Requirement already satisfied: wheel>=0.26 in /usr/local/lib/python3.7/dist-packages (from tensorflow==2.3) (0.36.2)\n",
            "Requirement already satisfied: opt-einsum>=2.3.2 in /usr/local/lib/python3.7/dist-packages (from tensorflow==2.3) (3.3.0)\n",
            "Requirement already satisfied: tensorboard<3,>=2.3.0 in /usr/local/lib/python3.7/dist-packages (from tensorflow==2.3) (2.4.1)\n",
            "Requirement already satisfied: termcolor>=1.1.0 in /usr/local/lib/python3.7/dist-packages (from tensorflow==2.3) (1.1.0)\n",
            "Requirement already satisfied: google-pasta>=0.1.8 in /usr/local/lib/python3.7/dist-packages (from tensorflow==2.3) (0.2.0)\n",
            "Requirement already satisfied: wrapt>=1.11.1 in /usr/local/lib/python3.7/dist-packages (from tensorflow==2.3) (1.12.1)\n",
            "Requirement already satisfied: h5py<2.11.0,>=2.10.0 in /usr/local/lib/python3.7/dist-packages (from tensorflow==2.3) (2.10.0)\n",
            "Collecting numpy<1.19.0,>=1.16.0\n",
            "\u001b[?25l  Downloading https://files.pythonhosted.org/packages/d6/c6/58e517e8b1fb192725cfa23c01c2e60e4e6699314ee9684a1c5f5c9b27e1/numpy-1.18.5-cp37-cp37m-manylinux1_x86_64.whl (20.1MB)\n",
            "\u001b[K     |████████████████████████████████| 20.1MB 1.4MB/s \n",
            "\u001b[?25hRequirement already satisfied: protobuf>=3.9.2 in /usr/local/lib/python3.7/dist-packages (from tensorflow==2.3) (3.12.4)\n",
            "Requirement already satisfied: setuptools>=41.0.0 in /usr/local/lib/python3.7/dist-packages (from tensorboard<3,>=2.3.0->tensorflow==2.3) (56.0.0)\n",
            "Requirement already satisfied: tensorboard-plugin-wit>=1.6.0 in /usr/local/lib/python3.7/dist-packages (from tensorboard<3,>=2.3.0->tensorflow==2.3) (1.8.0)\n",
            "Requirement already satisfied: markdown>=2.6.8 in /usr/local/lib/python3.7/dist-packages (from tensorboard<3,>=2.3.0->tensorflow==2.3) (3.3.4)\n",
            "Requirement already satisfied: requests<3,>=2.21.0 in /usr/local/lib/python3.7/dist-packages (from tensorboard<3,>=2.3.0->tensorflow==2.3) (2.23.0)\n",
            "Requirement already satisfied: google-auth<2,>=1.6.3 in /usr/local/lib/python3.7/dist-packages (from tensorboard<3,>=2.3.0->tensorflow==2.3) (1.28.1)\n",
            "Requirement already satisfied: werkzeug>=0.11.15 in /usr/local/lib/python3.7/dist-packages (from tensorboard<3,>=2.3.0->tensorflow==2.3) (1.0.1)\n",
            "Requirement already satisfied: google-auth-oauthlib<0.5,>=0.4.1 in /usr/local/lib/python3.7/dist-packages (from tensorboard<3,>=2.3.0->tensorflow==2.3) (0.4.4)\n",
            "Requirement already satisfied: importlib-metadata; python_version < \"3.8\" in /usr/local/lib/python3.7/dist-packages (from markdown>=2.6.8->tensorboard<3,>=2.3.0->tensorflow==2.3) (3.10.1)\n",
            "Requirement already satisfied: urllib3!=1.25.0,!=1.25.1,<1.26,>=1.21.1 in /usr/local/lib/python3.7/dist-packages (from requests<3,>=2.21.0->tensorboard<3,>=2.3.0->tensorflow==2.3) (1.24.3)\n",
            "Requirement already satisfied: chardet<4,>=3.0.2 in /usr/local/lib/python3.7/dist-packages (from requests<3,>=2.21.0->tensorboard<3,>=2.3.0->tensorflow==2.3) (3.0.4)\n",
            "Requirement already satisfied: certifi>=2017.4.17 in /usr/local/lib/python3.7/dist-packages (from requests<3,>=2.21.0->tensorboard<3,>=2.3.0->tensorflow==2.3) (2020.12.5)\n",
            "Requirement already satisfied: idna<3,>=2.5 in /usr/local/lib/python3.7/dist-packages (from requests<3,>=2.21.0->tensorboard<3,>=2.3.0->tensorflow==2.3) (2.10)\n",
            "Requirement already satisfied: rsa<5,>=3.1.4; python_version >= \"3.6\" in /usr/local/lib/python3.7/dist-packages (from google-auth<2,>=1.6.3->tensorboard<3,>=2.3.0->tensorflow==2.3) (4.7.2)\n",
            "Requirement already satisfied: pyasn1-modules>=0.2.1 in /usr/local/lib/python3.7/dist-packages (from google-auth<2,>=1.6.3->tensorboard<3,>=2.3.0->tensorflow==2.3) (0.2.8)\n",
            "Requirement already satisfied: cachetools<5.0,>=2.0.0 in /usr/local/lib/python3.7/dist-packages (from google-auth<2,>=1.6.3->tensorboard<3,>=2.3.0->tensorflow==2.3) (4.2.1)\n",
            "Requirement already satisfied: requests-oauthlib>=0.7.0 in /usr/local/lib/python3.7/dist-packages (from google-auth-oauthlib<0.5,>=0.4.1->tensorboard<3,>=2.3.0->tensorflow==2.3) (1.3.0)\n",
            "Requirement already satisfied: zipp>=0.5 in /usr/local/lib/python3.7/dist-packages (from importlib-metadata; python_version < \"3.8\"->markdown>=2.6.8->tensorboard<3,>=2.3.0->tensorflow==2.3) (3.4.1)\n",
            "Requirement already satisfied: typing-extensions>=3.6.4; python_version < \"3.8\" in /usr/local/lib/python3.7/dist-packages (from importlib-metadata; python_version < \"3.8\"->markdown>=2.6.8->tensorboard<3,>=2.3.0->tensorflow==2.3) (3.7.4.3)\n",
            "Requirement already satisfied: pyasn1>=0.1.3 in /usr/local/lib/python3.7/dist-packages (from rsa<5,>=3.1.4; python_version >= \"3.6\"->google-auth<2,>=1.6.3->tensorboard<3,>=2.3.0->tensorflow==2.3) (0.4.8)\n",
            "Requirement already satisfied: oauthlib>=3.0.0 in /usr/local/lib/python3.7/dist-packages (from requests-oauthlib>=0.7.0->google-auth-oauthlib<0.5,>=0.4.1->tensorboard<3,>=2.3.0->tensorflow==2.3) (3.1.0)\n",
            "\u001b[31mERROR: datascience 0.10.6 has requirement folium==0.2.1, but you'll have folium 0.8.3 which is incompatible.\u001b[0m\n",
            "\u001b[31mERROR: albumentations 0.1.12 has requirement imgaug<0.2.7,>=0.2.5, but you'll have imgaug 0.2.9 which is incompatible.\u001b[0m\n",
            "Installing collected packages: tensorflow-estimator, numpy, tensorflow\n",
            "  Found existing installation: tensorflow-estimator 2.4.0\n",
            "    Uninstalling tensorflow-estimator-2.4.0:\n",
            "      Successfully uninstalled tensorflow-estimator-2.4.0\n",
            "  Found existing installation: numpy 1.19.5\n",
            "    Uninstalling numpy-1.19.5:\n",
            "      Successfully uninstalled numpy-1.19.5\n",
            "  Found existing installation: tensorflow 2.4.1\n",
            "    Uninstalling tensorflow-2.4.1:\n",
            "      Successfully uninstalled tensorflow-2.4.1\n",
            "Successfully installed numpy-1.18.5 tensorflow-2.3.0 tensorflow-estimator-2.3.0\n"
          ],
          "name": "stdout"
        },
        {
          "output_type": "display_data",
          "data": {
            "application/vnd.colab-display-data+json": {
              "pip_warning": {
                "packages": [
                  "numpy",
                  "tensorflow"
                ]
              }
            }
          },
          "metadata": {
            "tags": []
          }
        }
      ]
    },
    {
      "cell_type": "code",
      "metadata": {
        "id": "Cy-sYBXJ_LR3",
        "colab": {
          "base_uri": "https://localhost:8080/"
        },
        "outputId": "a5fab5af-93b2-4495-89ef-f7354fb5ba51"
      },
      "source": [
        "import keras2onnx\n",
        "import onnxruntime\n",
        "import tensorflow as tf\n",
        "import numpy as np\n",
        "import onnx\n",
        "import os\n",
        "\n",
        "print(tf.__version__)"
      ],
      "execution_count": null,
      "outputs": [
        {
          "output_type": "stream",
          "text": [
            "2.3.0\n"
          ],
          "name": "stdout"
        }
      ]
    },
    {
      "cell_type": "markdown",
      "metadata": {
        "id": "8A1GIEVwC-j2"
      },
      "source": [
        "Восстановим нашу keras-модель"
      ]
    },
    {
      "cell_type": "code",
      "metadata": {
        "id": "m_Sryi2R97WV"
      },
      "source": [
        "!cp /content/drive/MyDrive/Models/model.json .\n",
        "!cp /content/drive/MyDrive/Models/model.h5 ."
      ],
      "execution_count": null,
      "outputs": []
    },
    {
      "cell_type": "code",
      "metadata": {
        "colab": {
          "base_uri": "https://localhost:8080/"
        },
        "id": "BkEKathB-KBH",
        "outputId": "8f452c94-02da-4207-8063-5b1496746101"
      },
      "source": [
        "with open('model.json','r') as json_file: \n",
        "    model_json = json_file.read()\n",
        "\n",
        "model = tf.keras.models.model_from_json(model_json)\n",
        "model.load_weights(\"model.h5\")\n",
        "model.summary()"
      ],
      "execution_count": null,
      "outputs": [
        {
          "output_type": "stream",
          "text": [
            "Model: \"sequential\"\n",
            "_________________________________________________________________\n",
            "Layer (type)                 Output Shape              Param #   \n",
            "=================================================================\n",
            "conv2d (Conv2D)              (None, 26, 26, 32)        320       \n",
            "_________________________________________________________________\n",
            "conv2d_1 (Conv2D)            (None, 24, 24, 32)        9248      \n",
            "_________________________________________________________________\n",
            "max_pooling2d (MaxPooling2D) (None, 12, 12, 32)        0         \n",
            "_________________________________________________________________\n",
            "conv2d_2 (Conv2D)            (None, 10, 10, 64)        18496     \n",
            "_________________________________________________________________\n",
            "conv2d_3 (Conv2D)            (None, 8, 8, 64)          36928     \n",
            "_________________________________________________________________\n",
            "max_pooling2d_1 (MaxPooling2 (None, 4, 4, 64)          0         \n",
            "_________________________________________________________________\n",
            "flatten (Flatten)            (None, 1024)              0         \n",
            "_________________________________________________________________\n",
            "dense (Dense)                (None, 128)               131200    \n",
            "_________________________________________________________________\n",
            "dense_1 (Dense)              (None, 10)                1290      \n",
            "=================================================================\n",
            "Total params: 197,482\n",
            "Trainable params: 197,482\n",
            "Non-trainable params: 0\n",
            "_________________________________________________________________\n"
          ],
          "name": "stdout"
        }
      ]
    },
    {
      "cell_type": "markdown",
      "metadata": {
        "id": "CpSvsqP2DVdF"
      },
      "source": [
        "Преобразуем модель в формат ONNX:"
      ]
    },
    {
      "cell_type": "code",
      "metadata": {
        "id": "SPGeIDAtqjlS",
        "colab": {
          "base_uri": "https://localhost:8080/"
        },
        "outputId": "8f22a148-5b58-4a54-bfe7-5cc7fd32235e"
      },
      "source": [
        "onnx_model = keras2onnx.convert_keras(model, model.name) # дает ошибку в TF2.4, нужен TF2.3!"
      ],
      "execution_count": null,
      "outputs": [
        {
          "output_type": "stream",
          "text": [
            "tf executing eager_mode: True\n",
            "tf.keras model eager_mode: False\n",
            "The ONNX operator number change on the optimization: 35 -> 19\n"
          ],
          "name": "stderr"
        }
      ]
    },
    {
      "cell_type": "markdown",
      "metadata": {
        "id": "TkbFMt0NDpLZ"
      },
      "source": [
        "Для запуска ONNX-моделей в режиме инференса создаем сессию:"
      ]
    },
    {
      "cell_type": "code",
      "metadata": {
        "id": "5kVajY9Eqjh6"
      },
      "source": [
        "content = onnx_model.SerializeToString() # сериализуем\n",
        "sess = onnxruntime.InferenceSession(content)"
      ],
      "execution_count": null,
      "outputs": []
    },
    {
      "cell_type": "code",
      "metadata": {
        "id": "tKyDfhCZqjcO",
        "colab": {
          "base_uri": "https://localhost:8080/"
        },
        "outputId": "7aa1e07d-2d42-49d3-d89b-fc3bf25abed5"
      },
      "source": [
        "for i in sess.get_inputs():\n",
        "    print(i)"
      ],
      "execution_count": null,
      "outputs": [
        {
          "output_type": "stream",
          "text": [
            "NodeArg(name='conv2d_input', type='tensor(float)', shape=['N', 28, 28, 1])\n"
          ],
          "name": "stdout"
        }
      ]
    },
    {
      "cell_type": "markdown",
      "metadata": {
        "id": "uFyW81ZjFRhS"
      },
      "source": [
        "Сделаем инференс на случайных данных."
      ]
    },
    {
      "cell_type": "code",
      "metadata": {
        "id": "JjAIaVJpqjXz"
      },
      "source": [
        "x = np.random.rand(1, 28, 28, 1).astype(np.float32)"
      ],
      "execution_count": null,
      "outputs": []
    },
    {
      "cell_type": "markdown",
      "metadata": {
        "id": "YK9pusYyFd9y"
      },
      "source": [
        "Входные данные подаются в виде словаря"
      ]
    },
    {
      "cell_type": "code",
      "metadata": {
        "id": "7jhppgc-qjTz"
      },
      "source": [
        "feed = dict([(inputs.name, x) for inputs in sess.get_inputs()])"
      ],
      "execution_count": null,
      "outputs": []
    },
    {
      "cell_type": "code",
      "metadata": {
        "id": "a6qTeRdGBoUp"
      },
      "source": [
        "pred = sess.run(None, feed)"
      ],
      "execution_count": null,
      "outputs": []
    },
    {
      "cell_type": "code",
      "metadata": {
        "colab": {
          "base_uri": "https://localhost:8080/"
        },
        "id": "r3x1Q6puBoQT",
        "outputId": "f091413d-4a85-46c3-9310-d5e3b4f0ec16"
      },
      "source": [
        "pred"
      ],
      "execution_count": null,
      "outputs": [
        {
          "output_type": "execute_result",
          "data": {
            "text/plain": [
              "[array([[2.2342063e-02, 5.8534769e-03, 7.9906702e-01, 4.0213138e-02,\n",
              "         3.1601463e-03, 4.0129609e-02, 1.9426116e-03, 6.1314105e-04,\n",
              "         7.7469327e-02, 9.2094438e-03]], dtype=float32)]"
            ]
          },
          "metadata": {
            "tags": []
          },
          "execution_count": 17
        }
      ]
    },
    {
      "cell_type": "code",
      "metadata": {
        "id": "s3JBL420IhY5"
      },
      "source": [
        "def convertImage(img):\n",
        "    imgstr = re.search(b'base64,(.*)', img).group(1)\n",
        "    with open('output.png','wb') as output: # временный файл, в который записываем декодированное представление\n",
        "        output.write(base64.b64decode(imgstr))"
      ],
      "execution_count": null,
      "outputs": []
    },
    {
      "cell_type": "code",
      "metadata": {
        "id": "xvoS-GxsBoG7"
      },
      "source": [
        "from flask import Flask, request, render_template\n",
        "from tensorflow.keras.preprocessing import image\n",
        "import numpy as np\n",
        "import base64\n",
        "\n",
        "app = Flask(__name__)\n",
        "content = onnx_model.SerializeToString() # сериализуем\n",
        "sess = onnxruntime.InferenceSession(content)\n",
        "\n",
        "@app.route('/')\n",
        "@app.route('/index')\n",
        "def index():\n",
        "    return render_template(\"index.html\") # темплейты берутся из каталога templates\n",
        "\n",
        "# здесь будут обрабатываться AJAX-запросы на распознавание цифры\n",
        "@app.route('/predict/', methods=['GET','POST'])\n",
        "def predict():\n",
        "    imgData = request.get_data()\n",
        "    convertImage(imgData) # сохраняем во временный файл output.png\n",
        "    img = image.load_img('output.png', target_size=(28, 28), color_mode='grayscale')\n",
        "    x = np.array(img)\n",
        "    x = np.reshape(x, (1, 28, 28, 1))\n",
        "    x = 1. - (x / 255.) \n",
        "    x = x.astype(np.float32)\n",
        "    feed = dict([(inputs.name, x) for inputs in sess.get_inputs()])\n",
        "    pred = sess.run(None, feed)[0]\n",
        "    digit = np.argmax(pred, axis=1)[0] \n",
        "    prob = pred[0, digit]             \n",
        "    print(pred, digit) # для отладки (вывод в консоль)\n",
        "    response = '%d probability:%.3f' % (digit, prob)\n",
        "    return response\n"
      ],
      "execution_count": null,
      "outputs": []
    },
    {
      "cell_type": "code",
      "metadata": {
        "colab": {
          "base_uri": "https://localhost:8080/"
        },
        "id": "kbM1OYF3BoBV",
        "outputId": "0773f43c-90f5-4292-a7eb-72fa5e34693f"
      },
      "source": [
        "import os\n",
        "import re\n",
        "\n",
        "port = int(os.environ.get('PORT', 5000))\n",
        "app.run(host='localhost', port=port, debug=True, use_reloader=False)"
      ],
      "execution_count": null,
      "outputs": [
        {
          "output_type": "stream",
          "text": [
            " * Serving Flask app \"__main__\" (lazy loading)\n",
            " * Environment: production\n",
            "\u001b[31m   WARNING: This is a development server. Do not use it in a production deployment.\u001b[0m\n",
            "\u001b[2m   Use a production WSGI server instead.\u001b[0m\n",
            " * Debug mode: on\n"
          ],
          "name": "stdout"
        },
        {
          "output_type": "stream",
          "text": [
            " * Running on http://localhost:5000/ (Press CTRL+C to quit)\n"
          ],
          "name": "stderr"
        }
      ]
    },
    {
      "cell_type": "markdown",
      "metadata": {
        "id": "rVG1NGc6JLly"
      },
      "source": [
        "тестируйте приложение."
      ]
    },
    {
      "cell_type": "markdown",
      "metadata": {
        "id": "KxdUPC0UGIok"
      },
      "source": [
        "### ONNX - PyTorch model\n",
        "\n",
        "Повторим тоо же самое, заменив модель на pytorch."
      ]
    },
    {
      "cell_type": "code",
      "metadata": {
        "colab": {
          "base_uri": "https://localhost:8080/"
        },
        "id": "F3eTD8TULB4A",
        "outputId": "bb1ef81a-0ad8-4f2f-add4-ab59119fd987"
      },
      "source": [
        "!pip install onnxruntime\n",
        "!pip install onnx"
      ],
      "execution_count": null,
      "outputs": [
        {
          "output_type": "stream",
          "text": [
            "Requirement already satisfied: onnxruntime in /usr/local/lib/python3.7/dist-packages (1.7.0)\n",
            "Requirement already satisfied: numpy>=1.16.6 in /usr/local/lib/python3.7/dist-packages (from onnxruntime) (1.19.5)\n",
            "Requirement already satisfied: protobuf in /usr/local/lib/python3.7/dist-packages (from onnxruntime) (3.12.4)\n",
            "Requirement already satisfied: six>=1.9 in /usr/local/lib/python3.7/dist-packages (from protobuf->onnxruntime) (1.15.0)\n",
            "Requirement already satisfied: setuptools in /usr/local/lib/python3.7/dist-packages (from protobuf->onnxruntime) (56.0.0)\n",
            "Collecting onnx\n",
            "\u001b[?25l  Downloading https://files.pythonhosted.org/packages/3f/9b/54c950d3256e27f970a83cd0504efb183a24312702deed0179453316dbd0/onnx-1.9.0-cp37-cp37m-manylinux2010_x86_64.whl (12.2MB)\n",
            "\u001b[K     |████████████████████████████████| 12.2MB 12.0MB/s \n",
            "\u001b[?25hRequirement already satisfied: six in /usr/local/lib/python3.7/dist-packages (from onnx) (1.15.0)\n",
            "Requirement already satisfied: typing-extensions>=3.6.2.1 in /usr/local/lib/python3.7/dist-packages (from onnx) (3.7.4.3)\n",
            "Requirement already satisfied: protobuf in /usr/local/lib/python3.7/dist-packages (from onnx) (3.12.4)\n",
            "Requirement already satisfied: numpy>=1.16.6 in /usr/local/lib/python3.7/dist-packages (from onnx) (1.19.5)\n",
            "Requirement already satisfied: setuptools in /usr/local/lib/python3.7/dist-packages (from protobuf->onnx) (56.0.0)\n",
            "Installing collected packages: onnx\n",
            "Successfully installed onnx-1.9.0\n"
          ],
          "name": "stdout"
        }
      ]
    },
    {
      "cell_type": "code",
      "metadata": {
        "colab": {
          "base_uri": "https://localhost:8080/"
        },
        "id": "oNVKEwyTJ4rE",
        "outputId": "4d9e97fa-5e6e-4643-c161-0fa487c01688"
      },
      "source": [
        "import onnx\n",
        "import onnxruntime\n",
        "import tensorflow as tf  # только для конвертации картинки\n",
        "import numpy as np\n",
        "import os\n",
        "\n",
        "print(tf.__version__)"
      ],
      "execution_count": null,
      "outputs": [
        {
          "output_type": "stream",
          "text": [
            "2.4.1\n"
          ],
          "name": "stdout"
        }
      ]
    },
    {
      "cell_type": "code",
      "metadata": {
        "colab": {
          "base_uri": "https://localhost:8080/"
        },
        "id": "G7W07WJrNgul",
        "outputId": "19b9dc03-a6c4-4aef-8937-d7d792c6e801"
      },
      "source": [
        "!wget http://dataudt.ru/datasets/ngrok\n",
        "!chmod +x ./ngrok"
      ],
      "execution_count": null,
      "outputs": [
        {
          "output_type": "stream",
          "text": [
            "--2021-05-06 15:05:51--  http://dataudt.ru/datasets/ngrok\n",
            "Resolving dataudt.ru (dataudt.ru)... 37.228.117.130\n",
            "Connecting to dataudt.ru (dataudt.ru)|37.228.117.130|:80... connected.\n",
            "HTTP request sent, awaiting response... 200 OK\n",
            "Length: 30048819 (29M) [application/octet-stream]\n",
            "Saving to: ‘ngrok’\n",
            "\n",
            "ngrok               100%[===================>]  28.66M  11.4MB/s    in 2.5s    \n",
            "\n",
            "2021-05-06 15:05:54 (11.4 MB/s) - ‘ngrok’ saved [30048819/30048819]\n",
            "\n"
          ],
          "name": "stdout"
        }
      ]
    },
    {
      "cell_type": "code",
      "metadata": {
        "colab": {
          "base_uri": "https://localhost:8080/"
        },
        "id": "lRQnIvrdOTOH",
        "outputId": "503f2468-435a-40d4-a416-6537512a8735"
      },
      "source": [
        "!wget http://dataudt.ru/datasets/flask-app.tar\n",
        "!tar xvf flask-app.tar"
      ],
      "execution_count": null,
      "outputs": [
        {
          "output_type": "stream",
          "text": [
            "--2021-05-06 15:09:10--  http://dataudt.ru/datasets/flask-app.tar\n",
            "Resolving dataudt.ru (dataudt.ru)... 37.228.117.130\n",
            "Connecting to dataudt.ru (dataudt.ru)|37.228.117.130|:80... connected.\n",
            "HTTP request sent, awaiting response... 200 OK\n",
            "Length: 71680 (70K) [application/octet-stream]\n",
            "Saving to: ‘flask-app.tar’\n",
            "\n",
            "flask-app.tar       100%[===================>]  70.00K   280KB/s    in 0.3s    \n",
            "\n",
            "2021-05-06 15:09:11 (280 KB/s) - ‘flask-app.tar’ saved [71680/71680]\n",
            "\n",
            "./\n",
            "./static/\n",
            "./static/index.js\n",
            "./static/jquery-1.3.2.min.js\n",
            "./static/style.css\n",
            "./templates/\n",
            "./templates/index.html\n"
          ],
          "name": "stdout"
        }
      ]
    },
    {
      "cell_type": "code",
      "metadata": {
        "id": "3UFjnxpLGgdD"
      },
      "source": [
        "path_onnx = os.path.join('/content/drive/MyDrive/Models', 'model.onnx')\n",
        "onnx_model = onnx.load(path_onnx)"
      ],
      "execution_count": null,
      "outputs": []
    },
    {
      "cell_type": "code",
      "metadata": {
        "id": "DJIFrOMNJu9N"
      },
      "source": [
        "def convertImage(img):\n",
        "    imgstr = re.search(b'base64,(.*)', img).group(1)\n",
        "    with open('output.png','wb') as output: # временный файл, в который записываем декодированное представление\n",
        "        output.write(base64.b64decode(imgstr))"
      ],
      "execution_count": null,
      "outputs": []
    },
    {
      "cell_type": "code",
      "metadata": {
        "id": "EC04SEeMGt1S"
      },
      "source": [
        "from flask import Flask, request, render_template\n",
        "from tensorflow.keras.preprocessing import image\n",
        "import numpy as np\n",
        "import base64\n",
        "from scipy.special import softmax\n",
        "\n",
        "app = Flask(__name__)\n",
        "content = onnx_model.SerializeToString() \n",
        "sess = onnxruntime.InferenceSession(content)\n",
        "\n",
        "@app.route('/')\n",
        "@app.route('/index')\n",
        "def index():\n",
        "    return render_template(\"index.html\") # темплейты берутся из каталога templates\n",
        "\n",
        "# здесь будут обрабатываться AJAX-запросы на распознавание цифры\n",
        "@app.route('/predict/', methods=['GET','POST'])\n",
        "def predict():\n",
        "    imgData = request.get_data()\n",
        "    convertImage(imgData) # сохраняем во временный файл output.png\n",
        "    img = image.load_img('output.png', target_size=(28, 28), color_mode='grayscale')\n",
        "    x = np.array(img)\n",
        "    x = np.reshape(x, (1, 1, 28, 28))\n",
        "    x = 1. - (x / 255.) \n",
        "    x = x.astype(np.float32)\n",
        "    feed = dict([(inputs.name, x) for inputs in sess.get_inputs()])\n",
        "    logits = sess.run(None, feed)[0]\n",
        "    digit = np.argmax(logits, axis=1)[0] \n",
        "    prob = softmax(logits, axis=1)[0, digit]             \n",
        "    print(digit, prob) # для отладки (вывод в консоль)\n",
        "    response = '%d probability:%.3f' % (digit, prob)\n",
        "    return response"
      ],
      "execution_count": null,
      "outputs": []
    },
    {
      "cell_type": "code",
      "metadata": {
        "colab": {
          "base_uri": "https://localhost:8080/"
        },
        "id": "0b66M2RCNMwG",
        "outputId": "077da9ae-aa61-477d-9814-4531987a3d57"
      },
      "source": [
        "import os\n",
        "import re\n",
        "\n",
        "port = int(os.environ.get('PORT', 5000))\n",
        "app.run(host='localhost', port=port, debug=True, use_reloader=False)"
      ],
      "execution_count": null,
      "outputs": [
        {
          "output_type": "stream",
          "text": [
            " * Serving Flask app \"__main__\" (lazy loading)\n",
            " * Environment: production\n",
            "\u001b[31m   WARNING: This is a development server. Do not use it in a production deployment.\u001b[0m\n",
            "\u001b[2m   Use a production WSGI server instead.\u001b[0m\n",
            " * Debug mode: on\n"
          ],
          "name": "stdout"
        },
        {
          "output_type": "stream",
          "text": [
            " * Running on http://localhost:5000/ (Press CTRL+C to quit)\n",
            "127.0.0.1 - - [06/May/2021 15:31:24] \"\u001b[37mPOST /predict/ HTTP/1.1\u001b[0m\" 200 -\n"
          ],
          "name": "stderr"
        },
        {
          "output_type": "stream",
          "text": [
            "3 1.0\n"
          ],
          "name": "stdout"
        },
        {
          "output_type": "stream",
          "text": [
            "127.0.0.1 - - [06/May/2021 15:31:40] \"\u001b[37mPOST /predict/ HTTP/1.1\u001b[0m\" 200 -\n"
          ],
          "name": "stderr"
        },
        {
          "output_type": "stream",
          "text": [
            "5 0.9983515\n"
          ],
          "name": "stdout"
        },
        {
          "output_type": "stream",
          "text": [
            "127.0.0.1 - - [06/May/2021 15:32:02] \"\u001b[37mPOST /predict/ HTTP/1.1\u001b[0m\" 200 -\n"
          ],
          "name": "stderr"
        },
        {
          "output_type": "stream",
          "text": [
            "5 0.52905726\n"
          ],
          "name": "stdout"
        },
        {
          "output_type": "stream",
          "text": [
            "127.0.0.1 - - [06/May/2021 15:32:10] \"\u001b[37mPOST /predict/ HTTP/1.1\u001b[0m\" 200 -\n"
          ],
          "name": "stderr"
        },
        {
          "output_type": "stream",
          "text": [
            "7 0.98818284\n"
          ],
          "name": "stdout"
        },
        {
          "output_type": "stream",
          "text": [
            "127.0.0.1 - - [06/May/2021 15:32:17] \"\u001b[37mPOST /predict/ HTTP/1.1\u001b[0m\" 200 -\n"
          ],
          "name": "stderr"
        },
        {
          "output_type": "stream",
          "text": [
            "8 1.0\n"
          ],
          "name": "stdout"
        },
        {
          "output_type": "stream",
          "text": [
            "127.0.0.1 - - [06/May/2021 15:32:24] \"\u001b[37mPOST /predict/ HTTP/1.1\u001b[0m\" 200 -\n"
          ],
          "name": "stderr"
        },
        {
          "output_type": "stream",
          "text": [
            "0 0.9194368\n"
          ],
          "name": "stdout"
        },
        {
          "output_type": "stream",
          "text": [
            "127.0.0.1 - - [06/May/2021 15:32:31] \"\u001b[37mPOST /predict/ HTTP/1.1\u001b[0m\" 200 -\n"
          ],
          "name": "stderr"
        },
        {
          "output_type": "stream",
          "text": [
            "1 0.9999934\n"
          ],
          "name": "stdout"
        },
        {
          "output_type": "stream",
          "text": [
            "127.0.0.1 - - [06/May/2021 15:32:36] \"\u001b[37mPOST /predict/ HTTP/1.1\u001b[0m\" 200 -\n"
          ],
          "name": "stderr"
        },
        {
          "output_type": "stream",
          "text": [
            "1 0.99984926\n"
          ],
          "name": "stdout"
        },
        {
          "output_type": "stream",
          "text": [
            "127.0.0.1 - - [06/May/2021 15:32:38] \"\u001b[37mPOST /predict/ HTTP/1.1\u001b[0m\" 200 -\n"
          ],
          "name": "stderr"
        },
        {
          "output_type": "stream",
          "text": [
            "1 0.99984926\n"
          ],
          "name": "stdout"
        },
        {
          "output_type": "stream",
          "text": [
            "127.0.0.1 - - [06/May/2021 15:32:43] \"\u001b[37mPOST /predict/ HTTP/1.1\u001b[0m\" 200 -\n"
          ],
          "name": "stderr"
        },
        {
          "output_type": "stream",
          "text": [
            "2 1.0\n"
          ],
          "name": "stdout"
        },
        {
          "output_type": "stream",
          "text": [
            "127.0.0.1 - - [06/May/2021 15:32:50] \"\u001b[37mPOST /predict/ HTTP/1.1\u001b[0m\" 200 -\n"
          ],
          "name": "stderr"
        },
        {
          "output_type": "stream",
          "text": [
            "2 0.99995995\n"
          ],
          "name": "stdout"
        },
        {
          "output_type": "stream",
          "text": [
            "127.0.0.1 - - [06/May/2021 15:32:59] \"\u001b[37mPOST /predict/ HTTP/1.1\u001b[0m\" 200 -\n"
          ],
          "name": "stderr"
        },
        {
          "output_type": "stream",
          "text": [
            "4 0.99371034\n"
          ],
          "name": "stdout"
        },
        {
          "output_type": "stream",
          "text": [
            "127.0.0.1 - - [06/May/2021 15:33:09] \"\u001b[37mPOST /predict/ HTTP/1.1\u001b[0m\" 200 -\n"
          ],
          "name": "stderr"
        },
        {
          "output_type": "stream",
          "text": [
            "8 0.99993706\n"
          ],
          "name": "stdout"
        },
        {
          "output_type": "stream",
          "text": [
            "127.0.0.1 - - [06/May/2021 15:33:18] \"\u001b[37mPOST /predict/ HTTP/1.1\u001b[0m\" 200 -\n"
          ],
          "name": "stderr"
        },
        {
          "output_type": "stream",
          "text": [
            "2 0.6764632\n"
          ],
          "name": "stdout"
        },
        {
          "output_type": "stream",
          "text": [
            "127.0.0.1 - - [06/May/2021 15:33:28] \"\u001b[37mPOST /predict/ HTTP/1.1\u001b[0m\" 200 -\n"
          ],
          "name": "stderr"
        },
        {
          "output_type": "stream",
          "text": [
            "9 0.892513\n"
          ],
          "name": "stdout"
        }
      ]
    },
    {
      "cell_type": "markdown",
      "metadata": {
        "id": "C-7evLI3Nxsj"
      },
      "source": [
        "[Приложение](http://6589a2665ab9.ngrok.io) - отредактируйте адрес"
      ]
    },
    {
      "cell_type": "markdown",
      "metadata": {
        "id": "-WbP1c9Z9bjm"
      },
      "source": [
        "# TensorFlow Serving\n",
        "\n",
        "Это еще один вариант для запуска моделей в production."
      ]
    },
    {
      "cell_type": "markdown",
      "metadata": {
        "id": "KSQZgYTQiDM8"
      },
      "source": [
        "### SavedModel формат"
      ]
    },
    {
      "cell_type": "markdown",
      "metadata": {
        "id": "spOzPtNq-CnX"
      },
      "source": [
        "Давайте посмотрим, как запустить нашу keras-модель в среде TensorFlow Serving.\n",
        "\n",
        "Прежде всего мы должны преобразовать нашу модель в специальный формат, т.н. [SavedModel](https://www.tensorflow.org/versions/r1.15/api_docs/python/tf/saved_model)\n",
        "\n",
        "Восстановим модель по ее JSON описанию и сохраненным весам:"
      ]
    },
    {
      "cell_type": "code",
      "metadata": {
        "id": "cYbBXV8E-BJG"
      },
      "source": [
        "import os\n",
        "import tensorflow as tf\n",
        "import json"
      ],
      "execution_count": null,
      "outputs": []
    },
    {
      "cell_type": "code",
      "metadata": {
        "colab": {
          "base_uri": "https://localhost:8080/"
        },
        "id": "GSGDSmu0-A-t",
        "outputId": "ced6b3f1-eeef-4f6e-fe1d-ff3c5c4c80a5"
      },
      "source": [
        "gdir = '/content/drive/MyDrive/Models'\n",
        "path_h5 = os.path.join(gdir, 'model.h5')\n",
        "path_json = os.path.join(gdir, 'model.json')\n",
        "\n",
        "with open(path_json,'r') as json_file: \n",
        "    model_json = json_file.read()\n",
        "\n",
        "model = tf.keras.models.model_from_json(model_json)\n",
        "model.load_weights(path_h5)\n",
        "model.summary()"
      ],
      "execution_count": null,
      "outputs": [
        {
          "output_type": "stream",
          "text": [
            "Model: \"sequential\"\n",
            "_________________________________________________________________\n",
            "Layer (type)                 Output Shape              Param #   \n",
            "=================================================================\n",
            "conv2d (Conv2D)              (None, 26, 26, 32)        320       \n",
            "_________________________________________________________________\n",
            "conv2d_1 (Conv2D)            (None, 24, 24, 32)        9248      \n",
            "_________________________________________________________________\n",
            "max_pooling2d (MaxPooling2D) (None, 12, 12, 32)        0         \n",
            "_________________________________________________________________\n",
            "conv2d_2 (Conv2D)            (None, 10, 10, 64)        18496     \n",
            "_________________________________________________________________\n",
            "conv2d_3 (Conv2D)            (None, 8, 8, 64)          36928     \n",
            "_________________________________________________________________\n",
            "max_pooling2d_1 (MaxPooling2 (None, 4, 4, 64)          0         \n",
            "_________________________________________________________________\n",
            "flatten (Flatten)            (None, 1024)              0         \n",
            "_________________________________________________________________\n",
            "dense (Dense)                (None, 128)               131200    \n",
            "_________________________________________________________________\n",
            "dense_1 (Dense)              (None, 10)                1290      \n",
            "=================================================================\n",
            "Total params: 197,482\n",
            "Trainable params: 197,482\n",
            "Non-trainable params: 0\n",
            "_________________________________________________________________\n"
          ],
          "name": "stdout"
        }
      ]
    },
    {
      "cell_type": "markdown",
      "metadata": {
        "id": "gCu2c2Zp_2nL"
      },
      "source": [
        "Так выполняется преобразование модели в формат `SavedModel`. Подробнее об аргументах можно прочесть [здесь](https://www.tensorflow.org/api_docs/python/tf/keras/models/save_model) \n",
        "\n",
        "Можно записать несколько версий модели, каждую свой подкаталог. "
      ]
    },
    {
      "cell_type": "code",
      "metadata": {
        "colab": {
          "base_uri": "https://localhost:8080/"
        },
        "id": "dUNqicTP_rfW",
        "outputId": "159d8b0a-1e55-466a-a7c7-fedac6824a6d"
      },
      "source": [
        "MODEL_DIR = '/content/mnist'\n",
        "version = 1  \n",
        "export_path = os.path.join(MODEL_DIR, str(version)) \n",
        "tf.keras.models.save_model(\n",
        "    model,\n",
        "    export_path,\n",
        "    overwrite=True,\n",
        "    include_optimizer=True,\n",
        "    save_format='tf', \n",
        "    signatures=None,\n",
        "    options=None\n",
        ")\n",
        "\n",
        "print('\\nСохраненная модель:')\n",
        "!ls -l {export_path}\n",
        "print('Путь для экспорта = {}\\n'.format(export_path))"
      ],
      "execution_count": null,
      "outputs": [
        {
          "output_type": "stream",
          "text": [
            "INFO:tensorflow:Assets written to: /content/mnist/1/assets\n",
            "\n",
            "Сохраненная модель:\n",
            "total 148\n",
            "drwxr-xr-x 2 root root   4096 May  9 07:25 assets\n",
            "-rw-r--r-- 1 root root 139656 May  9 10:21 saved_model.pb\n",
            "drwxr-xr-x 2 root root   4096 May  9 10:21 variables\n",
            "Путь для экспорта = /content/mnist/1\n",
            "\n"
          ],
          "name": "stdout"
        }
      ]
    },
    {
      "cell_type": "markdown",
      "metadata": {
        "id": "Mmuybpg4qo37"
      },
      "source": [
        "Модели в формате `SavedModel` могут быть проанализированы утилитой `saved_model_cli`."
      ]
    },
    {
      "cell_type": "code",
      "metadata": {
        "colab": {
          "base_uri": "https://localhost:8080/"
        },
        "id": "fKqrS-TiqLI8",
        "outputId": "24ebfe49-c185-40ff-ccab-c4cb7280ac3f"
      },
      "source": [
        "!saved_model_cli show --dir {export_path} --all\n"
      ],
      "execution_count": null,
      "outputs": [
        {
          "output_type": "stream",
          "text": [
            "\n",
            "MetaGraphDef with tag-set: 'serve' contains the following SignatureDefs:\n",
            "\n",
            "signature_def['__saved_model_init_op']:\n",
            "  The given SavedModel SignatureDef contains the following input(s):\n",
            "  The given SavedModel SignatureDef contains the following output(s):\n",
            "    outputs['__saved_model_init_op'] tensor_info:\n",
            "        dtype: DT_INVALID\n",
            "        shape: unknown_rank\n",
            "        name: NoOp\n",
            "  Method name is: \n",
            "\n",
            "signature_def['serving_default']:\n",
            "  The given SavedModel SignatureDef contains the following input(s):\n",
            "    inputs['conv2d_input'] tensor_info:\n",
            "        dtype: DT_FLOAT\n",
            "        shape: (-1, 28, 28, 1)\n",
            "        name: serving_default_conv2d_input:0\n",
            "  The given SavedModel SignatureDef contains the following output(s):\n",
            "    outputs['dense_1'] tensor_info:\n",
            "        dtype: DT_FLOAT\n",
            "        shape: (-1, 10)\n",
            "        name: StatefulPartitionedCall:0\n",
            "  Method name is: tensorflow/serving/predict\n",
            "WARNING: Logging before flag parsing goes to stderr.\n",
            "W0509 10:25:50.678425 140267244488576 deprecation.py:506] From /usr/local/lib/python2.7/dist-packages/tensorflow_core/python/ops/resource_variable_ops.py:1786: calling __init__ (from tensorflow.python.ops.resource_variable_ops) with constraint is deprecated and will be removed in a future version.\n",
            "Instructions for updating:\n",
            "If using Keras pass *_constraint arguments to layers.\n",
            "\n",
            "Defined Functions:\n",
            "  Function Name: '__call__'\n",
            "    Option #1\n",
            "      Callable with:\n",
            "        Argument #1\n",
            "          inputs: TensorSpec(shape=(None, 28, 28, 1), dtype=tf.float32, name=u'inputs')\n",
            "        Argument #2\n",
            "          DType: bool\n",
            "          Value: False\n",
            "        Argument #3\n",
            "          DType: NoneType\n",
            "          Value: None\n",
            "    Option #2\n",
            "      Callable with:\n",
            "        Argument #1\n",
            "          conv2d_input: TensorSpec(shape=(None, 28, 28, 1), dtype=tf.float32, name=u'conv2d_input')\n",
            "        Argument #2\n",
            "          DType: bool\n",
            "          Value: False\n",
            "        Argument #3\n",
            "          DType: NoneType\n",
            "          Value: None\n",
            "    Option #3\n",
            "      Callable with:\n",
            "        Argument #1\n",
            "          inputs: TensorSpec(shape=(None, 28, 28, 1), dtype=tf.float32, name=u'inputs')\n",
            "        Argument #2\n",
            "          DType: bool\n",
            "          Value: True\n",
            "        Argument #3\n",
            "          DType: NoneType\n",
            "          Value: None\n",
            "    Option #4\n",
            "      Callable with:\n",
            "        Argument #1\n",
            "          conv2d_input: TensorSpec(shape=(None, 28, 28, 1), dtype=tf.float32, name=u'conv2d_input')\n",
            "        Argument #2\n",
            "          DType: bool\n",
            "          Value: True\n",
            "        Argument #3\n",
            "          DType: NoneType\n",
            "          Value: None\n",
            "\n",
            "  Function Name: '_default_save_signature'\n",
            "    Option #1\n",
            "      Callable with:\n",
            "        Argument #1\n",
            "          conv2d_input: TensorSpec(shape=(None, 28, 28, 1), dtype=tf.float32, name=u'conv2d_input')\n",
            "\n",
            "  Function Name: 'call_and_return_all_conditional_losses'\n",
            "    Option #1\n",
            "      Callable with:\n",
            "        Argument #1\n",
            "          inputs: TensorSpec(shape=(None, 28, 28, 1), dtype=tf.float32, name=u'inputs')\n",
            "        Argument #2\n",
            "          DType: bool\n",
            "          Value: False\n",
            "        Argument #3\n",
            "          DType: NoneType\n",
            "          Value: None\n",
            "    Option #2\n",
            "      Callable with:\n",
            "        Argument #1\n",
            "          conv2d_input: TensorSpec(shape=(None, 28, 28, 1), dtype=tf.float32, name=u'conv2d_input')\n",
            "        Argument #2\n",
            "          DType: bool\n",
            "          Value: False\n",
            "        Argument #3\n",
            "          DType: NoneType\n",
            "          Value: None\n",
            "    Option #3\n",
            "      Callable with:\n",
            "        Argument #1\n",
            "          conv2d_input: TensorSpec(shape=(None, 28, 28, 1), dtype=tf.float32, name=u'conv2d_input')\n",
            "        Argument #2\n",
            "          DType: bool\n",
            "          Value: True\n",
            "        Argument #3\n",
            "          DType: NoneType\n",
            "          Value: None\n",
            "    Option #4\n",
            "      Callable with:\n",
            "        Argument #1\n",
            "          inputs: TensorSpec(shape=(None, 28, 28, 1), dtype=tf.float32, name=u'inputs')\n",
            "        Argument #2\n",
            "          DType: bool\n",
            "          Value: True\n",
            "        Argument #3\n",
            "          DType: NoneType\n",
            "          Value: None\n"
          ],
          "name": "stdout"
        }
      ]
    },
    {
      "cell_type": "markdown",
      "metadata": {
        "id": "LPdVsvwYuDO0"
      },
      "source": [
        "Есть и другие команды, позволяющие инспектировать и запускать модели."
      ]
    },
    {
      "cell_type": "code",
      "metadata": {
        "colab": {
          "base_uri": "https://localhost:8080/"
        },
        "id": "VOJLccoHreIR",
        "outputId": "69806eb5-f301-4f1a-bf34-ad9aaa9c7e0a"
      },
      "source": [
        "!saved_model_cli -h\n"
      ],
      "execution_count": null,
      "outputs": [
        {
          "output_type": "stream",
          "text": [
            "usage: saved_model_cli [-h] [-v] {show,run,scan,convert} ...\n",
            "\n",
            "saved_model_cli: Command-line interface for SavedModel\n",
            "\n",
            "optional arguments:\n",
            "  -h, --help            show this help message and exit\n",
            "  -v, --version         show program's version number and exit\n",
            "\n",
            "commands:\n",
            "  valid commands\n",
            "\n",
            "  {show,run,scan,convert}\n",
            "                        additional help\n"
          ],
          "name": "stdout"
        }
      ]
    },
    {
      "cell_type": "markdown",
      "metadata": {
        "id": "emTTJ9N9s00q"
      },
      "source": [
        "Подробнее об утилите `saved_model_cli` можно прочесть [здесь](https://www.tensorflow.org/guide/saved_model#details_of_the_savedmodel_command_line_interface)"
      ]
    },
    {
      "cell_type": "markdown",
      "metadata": {
        "id": "OzjrV8eJB6JY"
      },
      "source": [
        "Для удобства переноса на другую машину запишем каталог с моделью (или с версиями модели) в сжатый tar-архив"
      ]
    },
    {
      "cell_type": "code",
      "metadata": {
        "colab": {
          "base_uri": "https://localhost:8080/"
        },
        "id": "1Ubi4vMh-Aym",
        "outputId": "4fa1d2c6-5afe-4840-ac72-f407fdd394cf"
      },
      "source": [
        "!tar cvfz tfs_model.tgz mnist"
      ],
      "execution_count": null,
      "outputs": [
        {
          "output_type": "stream",
          "text": [
            "mnist/\n",
            "mnist/1/\n",
            "mnist/1/assets/\n",
            "mnist/1/variables/\n",
            "mnist/1/variables/variables.data-00000-of-00001\n",
            "mnist/1/variables/variables.index\n",
            "mnist/1/saved_model.pb\n"
          ],
          "name": "stdout"
        }
      ]
    },
    {
      "cell_type": "markdown",
      "metadata": {
        "id": "j9Bm5fB5Crmr"
      },
      "source": [
        "Считаем набор данных MNIST для тестирования результатов работы модели в среде TF Serving"
      ]
    },
    {
      "cell_type": "code",
      "metadata": {
        "id": "844WEB30-Anu"
      },
      "source": [
        "(train_images, train_labels), (test_images, test_labels) = tf.keras.datasets.mnist.load_data()\n",
        "\n",
        "# Нормализуем значения пикселей до интервала от 0 до 1\n",
        "train_images = train_images / 255.0\n",
        "test_images = test_images / 255.0\n",
        "\n",
        "# Приводим к виду 4D тензора\n",
        "train_images = train_images.reshape(train_images.shape[0], 28, 28, 1)\n",
        "test_images = test_images.reshape(test_images.shape[0], 28, 28, 1)"
      ],
      "execution_count": null,
      "outputs": []
    },
    {
      "cell_type": "markdown",
      "metadata": {
        "id": "5HOKkY9NDCfZ"
      },
      "source": [
        "Создадим тестовые данные из 3-х картинок в виде JSON-файла. "
      ]
    },
    {
      "cell_type": "code",
      "metadata": {
        "id": "FZui0Jz2-AjL"
      },
      "source": [
        "data = {\"signature_name\": \"serving_default\", \"instances\": test_images[:3].tolist()}\n",
        "with open(\"data_mnist.json\", \"w\") as write_file:\n",
        "    json.dump(data, write_file)"
      ],
      "execution_count": null,
      "outputs": []
    },
    {
      "cell_type": "markdown",
      "metadata": {
        "id": "U9Bscn8ViPnI"
      },
      "source": [
        "### Docker"
      ]
    },
    {
      "cell_type": "markdown",
      "metadata": {
        "id": "zD5-v8ezu2-9"
      },
      "source": [
        "Удобно запускать сервис TF Serving как контейнер Docker.\n",
        "Есть готовые образы, которые могут быть скачаны:\n",
        "```\n",
        "# Download the TensorFlow Serving Docker image and repo\n",
        "docker pull tensorflow/serving\n",
        "```\n",
        "Это приведет к загрузке минимального образа Docker с установленным TensorFlow Serving. \n",
        "\n",
        "**Запуск образа Docker для обслуживания**\n",
        "\n",
        "Обслуживающие образы (как CPU, так и GPU) имеют следующие свойства: \n",
        "* Порт 8500 открыт для gRPC \n",
        "* Порт 8501 доступен для REST API \n",
        "* Необязательная переменная среды MODEL_NAME (по умолчанию `model`) \n",
        "* Необязательная переменная среды MODEL_BASE_PATH (по умолчанию `/models`) \n",
        "\n",
        "Обслуживающий сервис запускается следующим образом:\n",
        "```\n",
        "docker run -p 8501:8501 --mount type=bind,source=путь,target=/models/<имя_модели> -e MODEL_NAME=<имя_модели> -t tensorflow/serving\n",
        "```\n"
      ]
    },
    {
      "cell_type": "markdown",
      "metadata": {
        "id": "fgvbf4g2kTvp"
      },
      "source": [
        "Пример запроса к сервису:\n",
        "```\n",
        "curl -X POST -H \"Content-Type: application/json\" -d @data_mnist.json http://host.domain:8501/v1/models/модель:predict\n",
        "```"
      ]
    },
    {
      "cell_type": "markdown",
      "metadata": {
        "id": "6vbEqerGPcoK"
      },
      "source": [
        "# Apache Spark"
      ]
    },
    {
      "cell_type": "markdown",
      "metadata": {
        "id": "FrWEfrFYWTDd"
      },
      "source": [
        "![image.png](data:image/png;base64,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)"
      ]
    },
    {
      "cell_type": "markdown",
      "metadata": {
        "id": "MTpVGsjL43zx"
      },
      "source": [
        "Зачастую данных бывает так много, или они поступают так быстро, что один компьютер не может справиться. В таких случаях прибегают к _распределенным_ вычислениям, когда данные располагаются на _нодах_ (nodes) _кластера_ и вычисления делаются параллельно, одновременно на многих компьютерах.\n",
        "\n",
        "Для распределенных вычислений требуется специализированное программное обеспечение. Apache Spark как раз и является примером такого ПО.\n",
        "\n"
      ]
    },
    {
      "cell_type": "markdown",
      "metadata": {
        "id": "HaMwsJnfZMQj"
      },
      "source": [
        "[Spark](https://spark.apache.org/) – это проект Apache, который позиционируется как инструмент для «молниеносных кластерных вычислений». Spark предоставляет быструю и универсальную платформу для обработки Big Data. Spark применяется во многих крупнейших компаниях, таких, как Amazon, eBay и Yahoo! Многие организации эксплуатируют Spark в кластерах, включающих тысячи узлов. \n",
        "\n",
        "Spark написан на языке Scala.\n",
        "\n",
        "Есть готовая интерактивная оболочка (REPL). При помощи REPL можно протестировать результат выполнения каждой строки кода без необходимости сначала программировать и выполнять все задание целиком.\n",
        "\n",
        "Spark имеет следующие ключевые черты:\n",
        "\n",
        "* В настоящее время предоставляет API для Scala, Java и Python, также готовится поддержка других языков (например, R)\n",
        "* Хорошо интегрируется с экосистемой Hadoop и источниками данных (HDFS, Amazon S3, Hive, HBase, Cassandra, etc.)\n",
        "* Может работать на кластерах под управлением Hadoop YARN или Apache Mesos, а также работать в автономном режиме\n",
        "\n",
        "Ядро Spark дополняется набором мощных высокоуровневых библиотек, которые бесшовно стыкуются с ним в рамках того же приложения. В настоящее время к таким библиотекам относятся SparkSQL, Spark Streaming, MLlib (для машинного обучения) и GraphX"
      ]
    },
    {
      "cell_type": "markdown",
      "metadata": {
        "id": "0vPU5Qhrw6v7"
      },
      "source": [
        "В Spark есть 3 API для работы с распределенными по узлам кластера данными:"
      ]
    },
    {
      "cell_type": "markdown",
      "metadata": {
        "id": "2_l9tGUNtw8B"
      },
      "source": [
        "**RRD**\n",
        "\n",
        "Устойчивый распределенный набор данных (Resilient Distributed Dataset, RDD) RDD был основным пользовательским API в Spark с момента его создания. RDD - это неизменяемая распределенная коллекция элементов данных, распределенная по узлам в кластере. С данными можно работать параллельно через низкоуровневый API."
      ]
    },
    {
      "cell_type": "markdown",
      "metadata": {
        "id": "_Mw78H4_vGAP"
      },
      "source": [
        "**DataFrames**\n",
        "\n",
        "Как и RDD, DataFrame представляет собой неизменяемую распределенную коллекцию данных. В отличие от RDD, данные организованы в именованные столбцы, как таблица в реляционной базе данных. DataFrame, разработанный для упрощения обработки больших наборов данных, позволяет разработчикам накладывать структуру на распределенный набор данных, обеспечивая абстракцию на более высоком уровне; он предоставляет специфичный для предметной области языковой API для управления распределенными данными."
      ]
    },
    {
      "cell_type": "markdown",
      "metadata": {
        "id": "wit1DrQIwKqA"
      },
      "source": [
        "**Datasets**\n",
        "\n",
        "Datasets - третий API для работы с данными. Он подразумевает строгую типизацию данных, как в языке Java. Python не поддерживает строгую типизацию, поэтому при работе с ним лучше использовать API DataFrame или RRD, если требуется больший контроль."
      ]
    },
    {
      "cell_type": "markdown",
      "metadata": {
        "id": "bs3kyn2IxI4G"
      },
      "source": [
        "Spark состоит из 4-х основных компонентов:"
      ]
    },
    {
      "cell_type": "markdown",
      "metadata": {
        "id": "MFnwH-x4b9Qb"
      },
      "source": [
        "**SparkSQL**\n",
        "\n",
        "[SparkSQL](https://spark.apache.org/sql/) – это компонент Spark, поддерживающий запрашивание данных либо при помощи SQL, либо посредством Hive Query Language."
      ]
    },
    {
      "cell_type": "markdown",
      "metadata": {
        "id": "-BgST8n7ccbI"
      },
      "source": [
        "**Spark Streaming**\n",
        "\n",
        "[Spark Streaming](https://spark.apache.org/streaming/) поддерживает обработку потоковых данных в реальном времени; такими данными могут быть файлы логов рабочего веб-сервера (напр. Apache Flume и HDFS/S3), информация из соцсетей, например, Twitter, а также различные очереди сообщений вроде Kafka. «Под капотом» Spark Streaming получает входные потоки данных и разбивает данные на пакеты. Далее они обрабатываются движком Spark, после чего генерируется конечный поток данных (также в пакетной форме)"
      ]
    },
    {
      "cell_type": "markdown",
      "metadata": {
        "id": "82d7_1Fbc23j"
      },
      "source": [
        "**MLlib**\n",
        "\n",
        "[MLlib](https://spark.apache.org/mllib/) – это библиотека для машинного обучения, предоставляющая различные алгоритмы, разработанные для горизонтального масштабирования на кластере в целях классификации, регрессии, кластеризации, совместной фильтрации и т.д. Некоторые из этих алгоритмов работают и с потоковыми данными — например, линейная регрессия с использованием обычного метода наименьших квадратов или кластеризация по методу k-средних (список вскоре расширится)."
      ]
    },
    {
      "cell_type": "markdown",
      "metadata": {
        "id": "VpNBCVxBdFo-"
      },
      "source": [
        "**GraphX**\n",
        "\n",
        "[GraphX](https://spark.apache.org/graphx/) – это библиотека для манипуляций над графами и выполнения с ними параллельных операций. Библиотека предоставляет универсальный инструмент для ETL, исследовательского анализа и итерационных вычислений на основе графов. Кроме встроенных операций для манипуляций над графами здесь также предоставляется библиотека обычных алгоритмов для работы с графами, например, PageRank."
      ]
    },
    {
      "cell_type": "markdown",
      "metadata": {
        "id": "wkhdY-bLjjXF"
      },
      "source": [
        "### Установка\n",
        "[источник](https://towardsdatascience.com/a-neanderthals-guide-to-apache-spark-in-python-9ef1f156d427)"
      ]
    },
    {
      "cell_type": "code",
      "metadata": {
        "colab": {
          "base_uri": "https://localhost:8080/"
        },
        "id": "XdfzJ6VohpUJ",
        "outputId": "55b7f3d1-9da3-4a73-9361-7d418cc2b519"
      },
      "source": [
        "!apt-get update\n",
        "!apt-get install openjdk-8-jdk-headless -qq > /dev/null\n",
        "!wget -q https://www-us.apache.org/dist/spark/spark-3.1.1/spark-3.1.1-bin-hadoop2.7.tgz\n",
        "!tar xf spark-3.1.1-bin-hadoop2.7.tgz\n",
        "!pip install -q findspark"
      ],
      "execution_count": null,
      "outputs": [
        {
          "output_type": "stream",
          "text": [
            "\r0% [Working]\r            \rGet:1 https://cloud.r-project.org/bin/linux/ubuntu bionic-cran40/ InRelease [3,626 B]\n",
            "\r0% [Connecting to archive.ubuntu.com (91.189.88.152)] [Connecting to security.u\r0% [Connecting to archive.ubuntu.com (91.189.88.152)] [Connecting to security.u\r0% [1 InRelease gpgv 3,626 B] [Connecting to archive.ubuntu.com (91.189.88.152)\r                                                                               \rIgn:2 https://developer.download.nvidia.com/compute/cuda/repos/ubuntu1804/x86_64  InRelease\n",
            "\r0% [1 InRelease gpgv 3,626 B] [Waiting for headers] [Waiting for headers] [Wait\r                                                                               \rGet:3 http://ppa.launchpad.net/c2d4u.team/c2d4u4.0+/ubuntu bionic InRelease [15.9 kB]\n",
            "\r0% [1 InRelease gpgv 3,626 B] [Waiting for headers] [Waiting for headers] [3 In\r                                                                               \rGet:4 http://security.ubuntu.com/ubuntu bionic-security InRelease [88.7 kB]\n",
            "\r0% [1 InRelease gpgv 3,626 B] [Waiting for headers] [4 InRelease 14.2 kB/88.7 k\r                                                                               \rHit:5 http://archive.ubuntu.com/ubuntu bionic InRelease\n",
            "\r0% [1 InRelease gpgv 3,626 B] [4 InRelease 14.2 kB/88.7 kB 16%] [3 InRelease 8,\r                                                                               \rIgn:6 https://developer.download.nvidia.com/compute/machine-learning/repos/ubuntu1804/x86_64  InRelease\n",
            "\r0% [1 InRelease gpgv 3,626 B] [Waiting for headers] [4 InRelease 14.2 kB/88.7 k\r                                                                               \rGet:7 https://developer.download.nvidia.com/compute/cuda/repos/ubuntu1804/x86_64  Release [697 B]\n",
            "\r0% [1 InRelease gpgv 3,626 B] [Waiting for headers] [4 InRelease 14.2 kB/88.7 k\r0% [1 InRelease gpgv 3,626 B] [Waiting for headers] [4 InRelease 14.2 kB/88.7 k\r                                                                               \rHit:8 https://developer.download.nvidia.com/compute/machine-learning/repos/ubuntu1804/x86_64  Release\n",
            "\r0% [1 InRelease gpgv 3,626 B] [Waiting for headers] [4 InRelease 14.2 kB/88.7 k\r0% [1 InRelease gpgv 3,626 B] [Waiting for headers] [4 InRelease 17.1 kB/88.7 k\r                                                                               \rGet:9 https://developer.download.nvidia.com/compute/cuda/repos/ubuntu1804/x86_64  Release.gpg [836 B]\n",
            "Get:10 http://archive.ubuntu.com/ubuntu bionic-updates InRelease [88.7 kB]\n",
            "Hit:11 http://ppa.launchpad.net/cran/libgit2/ubuntu bionic InRelease\n",
            "Get:12 https://cloud.r-project.org/bin/linux/ubuntu bionic-cran40/ Packages [55.5 kB]\n",
            "Get:13 http://archive.ubuntu.com/ubuntu bionic-backports InRelease [74.6 kB]\n",
            "Get:14 http://ppa.launchpad.net/deadsnakes/ppa/ubuntu bionic InRelease [15.9 kB]\n",
            "Get:15 http://ppa.launchpad.net/graphics-drivers/ppa/ubuntu bionic InRelease [21.3 kB]\n",
            "Get:17 http://ppa.launchpad.net/c2d4u.team/c2d4u4.0+/ubuntu bionic/main Sources [1,759 kB]\n",
            "Ign:18 https://developer.download.nvidia.com/compute/cuda/repos/ubuntu1804/x86_64  Packages\n",
            "Get:18 https://developer.download.nvidia.com/compute/cuda/repos/ubuntu1804/x86_64  Packages [770 kB]\n",
            "Get:19 http://security.ubuntu.com/ubuntu bionic-security/main amd64 Packages [2,119 kB]\n",
            "Get:20 http://ppa.launchpad.net/c2d4u.team/c2d4u4.0+/ubuntu bionic/main amd64 Packages [900 kB]\n",
            "Get:21 http://security.ubuntu.com/ubuntu bionic-security/universe amd64 Packages [1,410 kB]\n",
            "Get:22 http://security.ubuntu.com/ubuntu bionic-security/multiverse amd64 Packages [24.7 kB]\n",
            "Get:23 http://security.ubuntu.com/ubuntu bionic-security/restricted amd64 Packages [399 kB]\n",
            "Get:24 http://archive.ubuntu.com/ubuntu bionic-updates/restricted amd64 Packages [429 kB]\n",
            "Get:25 http://archive.ubuntu.com/ubuntu bionic-updates/universe amd64 Packages [2,182 kB]\n",
            "Get:26 http://archive.ubuntu.com/ubuntu bionic-updates/main amd64 Packages [2,550 kB]\n",
            "Get:27 http://archive.ubuntu.com/ubuntu bionic-updates/multiverse amd64 Packages [31.6 kB]\n",
            "Get:28 http://ppa.launchpad.net/deadsnakes/ppa/ubuntu bionic/main amd64 Packages [40.8 kB]\n",
            "Get:29 http://ppa.launchpad.net/graphics-drivers/ppa/ubuntu bionic/main amd64 Packages [49.5 kB]\n",
            "Fetched 13.0 MB in 4s (3,489 kB/s)\n",
            "Reading package lists... Done\n"
          ],
          "name": "stdout"
        }
      ]
    },
    {
      "cell_type": "code",
      "metadata": {
        "id": "Rvs5we2Rad6j"
      },
      "source": [
        "import os\n",
        "os.environ[\"JAVA_HOME\"] = \"/usr/lib/jvm/java-8-openjdk-amd64\"\n",
        "os.environ[\"SPARK_HOME\"] = \"/content/spark-3.1.1-bin-hadoop2.7\""
      ],
      "execution_count": null,
      "outputs": []
    },
    {
      "cell_type": "code",
      "metadata": {
        "id": "XpLpk4FUlv5k"
      },
      "source": [
        "import findspark\n",
        "findspark.init() "
      ],
      "execution_count": null,
      "outputs": []
    },
    {
      "cell_type": "markdown",
      "metadata": {
        "id": "CdX6IvAakyb7"
      },
      "source": [
        "Вычисления в Spark делаются в контексте _сессий_. Пример создания сессии с именем 'spark':\n",
        "(Более подробно см. [Builder API](https://spark.apache.org/docs/2.2.0/api/java/index.html?org/apache/spark/sql/SparkSession.Builder.html) )"
      ]
    },
    {
      "cell_type": "code",
      "metadata": {
        "id": "gWAZY3t8hpPY"
      },
      "source": [
        "from pyspark.sql import SparkSession\n",
        "\n",
        "spark = SparkSession.builder \\\n",
        "    .master(\"local[*]\") \\\n",
        "    .appName(\"Learning_Spark\") \\\n",
        "    .getOrCreate()"
      ],
      "execution_count": null,
      "outputs": []
    },
    {
      "cell_type": "markdown",
      "metadata": {
        "id": "IEz5WtwKjwOc"
      },
      "source": [
        "### SparkSQL\n",
        "\n",
        "В качестве примера возьмем данные по продажам видеоигр с [Kaggle](https://www.kaggle.com/gregorut/videogamesales)"
      ]
    },
    {
      "cell_type": "code",
      "metadata": {
        "colab": {
          "base_uri": "https://localhost:8080/"
        },
        "id": "7nOIuWhOhpKK",
        "outputId": "68622cc0-093c-4c20-dfd3-1eea5e40bd79"
      },
      "source": [
        "!wget http://dataudt.ru/datasets/vgsales.csv"
      ],
      "execution_count": null,
      "outputs": [
        {
          "output_type": "stream",
          "text": [
            "--2021-05-07 15:43:20--  http://dataudt.ru/datasets/vgsales.csv\n",
            "Resolving dataudt.ru (dataudt.ru)... 37.228.117.130\n",
            "Connecting to dataudt.ru (dataudt.ru)|37.228.117.130|:80... connected.\n",
            "HTTP request sent, awaiting response... 200 OK\n",
            "Length: 1355781 (1.3M) [application/octet-stream]\n",
            "Saving to: ‘vgsales.csv’\n",
            "\n",
            "vgsales.csv         100%[===================>]   1.29M  1.74MB/s    in 0.7s    \n",
            "\n",
            "2021-05-07 15:43:21 (1.74 MB/s) - ‘vgsales.csv’ saved [1355781/1355781]\n",
            "\n"
          ],
          "name": "stdout"
        }
      ]
    },
    {
      "cell_type": "markdown",
      "metadata": {
        "id": "3PxORmuJicWq"
      },
      "source": [
        "Считываем данные из CSV файла в дата фрейм Spark:"
      ]
    },
    {
      "cell_type": "code",
      "metadata": {
        "id": "TDJEBQcShpDG"
      },
      "source": [
        "data = spark.read.csv('vgsales.csv', inferSchema=True, header=True)"
      ],
      "execution_count": null,
      "outputs": []
    },
    {
      "cell_type": "markdown",
      "metadata": {
        "id": "WD36HlKy7hMo"
      },
      "source": [
        "Датафреймы Spark аналогичны датафреймам Pandas, названия многих методов совпадают, но поведение может отличаться. Более подробно об отличиях можно прочитать в [статье](https://medium.com/@chris_bour/6-differences-between-pandas-and-spark-dataframes-1380cec394d2) "
      ]
    },
    {
      "cell_type": "code",
      "metadata": {
        "colab": {
          "base_uri": "https://localhost:8080/"
        },
        "id": "lK8un--3ho7-",
        "outputId": "7d7ab66c-eac1-4b44-8006-32ad294109a6"
      },
      "source": [
        "data"
      ],
      "execution_count": null,
      "outputs": [
        {
          "output_type": "execute_result",
          "data": {
            "text/plain": [
              "DataFrame[Rank: int, Name: string, Platform: string, Year: string, Genre: string, Publisher: string, NA_Sales: double, EU_Sales: double, JP_Sales: double, Other_Sales: double, Global_Sales: double]"
            ]
          },
          "metadata": {
            "tags": []
          },
          "execution_count": 9
        }
      ]
    },
    {
      "cell_type": "markdown",
      "metadata": {
        "id": "dgzqL5SkjpVe"
      },
      "source": [
        "Выведем число строк и столбцов:"
      ]
    },
    {
      "cell_type": "code",
      "metadata": {
        "colab": {
          "base_uri": "https://localhost:8080/"
        },
        "id": "G8qCCVOTpJvX",
        "outputId": "fb2e4a94-0dc0-4096-9c08-933141464a2a"
      },
      "source": [
        "data.count(), len(data.columns)"
      ],
      "execution_count": null,
      "outputs": [
        {
          "output_type": "execute_result",
          "data": {
            "text/plain": [
              "(16598, 11)"
            ]
          },
          "metadata": {
            "tags": []
          },
          "execution_count": 10
        }
      ]
    },
    {
      "cell_type": "markdown",
      "metadata": {
        "id": "eI6rrTryl2-A"
      },
      "source": [
        "Выведем первые 5 строк (если не указывать число строк, выводится 20)"
      ]
    },
    {
      "cell_type": "code",
      "metadata": {
        "colab": {
          "base_uri": "https://localhost:8080/"
        },
        "id": "7esSYvdPpbER",
        "outputId": "67551010-6ea0-4ff1-9f01-21ebc13c2ec3"
      },
      "source": [
        "data.show(5)"
      ],
      "execution_count": null,
      "outputs": [
        {
          "output_type": "stream",
          "text": [
            "+----+--------------------+--------+----+------------+---------+--------+--------+--------+-----------+------------+\n",
            "|Rank|                Name|Platform|Year|       Genre|Publisher|NA_Sales|EU_Sales|JP_Sales|Other_Sales|Global_Sales|\n",
            "+----+--------------------+--------+----+------------+---------+--------+--------+--------+-----------+------------+\n",
            "|   1|          Wii Sports|     Wii|2006|      Sports| Nintendo|   41.49|   29.02|    3.77|       8.46|       82.74|\n",
            "|   2|   Super Mario Bros.|     NES|1985|    Platform| Nintendo|   29.08|    3.58|    6.81|       0.77|       40.24|\n",
            "|   3|      Mario Kart Wii|     Wii|2008|      Racing| Nintendo|   15.85|   12.88|    3.79|       3.31|       35.82|\n",
            "|   4|   Wii Sports Resort|     Wii|2009|      Sports| Nintendo|   15.75|   11.01|    3.28|       2.96|        33.0|\n",
            "|   5|Pokemon Red/Pokem...|      GB|1996|Role-Playing| Nintendo|   11.27|    8.89|   10.22|        1.0|       31.37|\n",
            "+----+--------------------+--------+----+------------+---------+--------+--------+--------+-----------+------------+\n",
            "only showing top 5 rows\n",
            "\n"
          ],
          "name": "stdout"
        }
      ]
    },
    {
      "cell_type": "markdown",
      "metadata": {
        "id": "PMJ5jwDJmItZ"
      },
      "source": [
        "Структура датафрейма описываются _схемой_"
      ]
    },
    {
      "cell_type": "code",
      "metadata": {
        "colab": {
          "base_uri": "https://localhost:8080/"
        },
        "id": "40vk064JpgdO",
        "outputId": "827705db-44a6-4046-a7c0-47f54163ea16"
      },
      "source": [
        "data.printSchema()"
      ],
      "execution_count": null,
      "outputs": [
        {
          "output_type": "stream",
          "text": [
            "root\n",
            " |-- Rank: integer (nullable = true)\n",
            " |-- Name: string (nullable = true)\n",
            " |-- Platform: string (nullable = true)\n",
            " |-- Year: string (nullable = true)\n",
            " |-- Genre: string (nullable = true)\n",
            " |-- Publisher: string (nullable = true)\n",
            " |-- NA_Sales: double (nullable = true)\n",
            " |-- EU_Sales: double (nullable = true)\n",
            " |-- JP_Sales: double (nullable = true)\n",
            " |-- Other_Sales: double (nullable = true)\n",
            " |-- Global_Sales: double (nullable = true)\n",
            "\n"
          ],
          "name": "stdout"
        }
      ]
    },
    {
      "cell_type": "markdown",
      "metadata": {
        "id": "gZ2eATa6mcOd"
      },
      "source": [
        "Можно вывести только указанные столбцы"
      ]
    },
    {
      "cell_type": "code",
      "metadata": {
        "colab": {
          "base_uri": "https://localhost:8080/"
        },
        "id": "i79LiC4GpgWA",
        "outputId": "6b015fad-0061-4cb5-cd6b-421217a89cd6"
      },
      "source": [
        "data.select(\"Name\", \"Platform\", \"Genre\", \"Publisher\").show(15, truncate=False)"
      ],
      "execution_count": null,
      "outputs": [
        {
          "output_type": "stream",
          "text": [
            "+---------------------------+--------+------------+---------+\n",
            "|Name                       |Platform|Genre       |Publisher|\n",
            "+---------------------------+--------+------------+---------+\n",
            "|Wii Sports                 |Wii     |Sports      |Nintendo |\n",
            "|Super Mario Bros.          |NES     |Platform    |Nintendo |\n",
            "|Mario Kart Wii             |Wii     |Racing      |Nintendo |\n",
            "|Wii Sports Resort          |Wii     |Sports      |Nintendo |\n",
            "|Pokemon Red/Pokemon Blue   |GB      |Role-Playing|Nintendo |\n",
            "|Tetris                     |GB      |Puzzle      |Nintendo |\n",
            "|New Super Mario Bros.      |DS      |Platform    |Nintendo |\n",
            "|Wii Play                   |Wii     |Misc        |Nintendo |\n",
            "|New Super Mario Bros. Wii  |Wii     |Platform    |Nintendo |\n",
            "|Duck Hunt                  |NES     |Shooter     |Nintendo |\n",
            "|Nintendogs                 |DS      |Simulation  |Nintendo |\n",
            "|Mario Kart DS              |DS      |Racing      |Nintendo |\n",
            "|Pokemon Gold/Pokemon Silver|GB      |Role-Playing|Nintendo |\n",
            "|Wii Fit                    |Wii     |Sports      |Nintendo |\n",
            "|Wii Fit Plus               |Wii     |Sports      |Nintendo |\n",
            "+---------------------------+--------+------------+---------+\n",
            "only showing top 15 rows\n",
            "\n"
          ],
          "name": "stdout"
        }
      ]
    },
    {
      "cell_type": "markdown",
      "metadata": {
        "id": "mqRKWjE8Ba8L"
      },
      "source": [
        "Применяем фильтр к набору данных. \n",
        "\n",
        "Это эквивалентно `SQL select Name, Global_Sales from data where Global_Sales > 20 order by Global_Sales desc limit 5` "
      ]
    },
    {
      "cell_type": "code",
      "metadata": {
        "colab": {
          "base_uri": "https://localhost:8080/"
        },
        "id": "-plOdobAA-LV",
        "outputId": "4fefedc5-0a87-4090-c58a-077bb8bca579"
      },
      "source": [
        "\n",
        "data.select(\"Name\", \"Global_Sales\").where('Global_Sales > 20').orderBy(\"Global_Sales\", ascending=False).show(5) "
      ],
      "execution_count": null,
      "outputs": [
        {
          "output_type": "stream",
          "text": [
            "+--------------------+------------+\n",
            "|                Name|Global_Sales|\n",
            "+--------------------+------------+\n",
            "|          Wii Sports|       82.74|\n",
            "|   Super Mario Bros.|       40.24|\n",
            "|      Mario Kart Wii|       35.82|\n",
            "|   Wii Sports Resort|        33.0|\n",
            "|Pokemon Red/Pokem...|       31.37|\n",
            "+--------------------+------------+\n",
            "only showing top 5 rows\n",
            "\n"
          ],
          "name": "stdout"
        }
      ]
    },
    {
      "cell_type": "markdown",
      "metadata": {
        "id": "t7nbkum1mm_K"
      },
      "source": [
        "Есть возможность вывести статистические показатели по интересующим столбцам:"
      ]
    },
    {
      "cell_type": "code",
      "metadata": {
        "colab": {
          "base_uri": "https://localhost:8080/"
        },
        "id": "yziUCnbYpgQy",
        "outputId": "21009285-2de4-4630-d06e-eae148da5f19"
      },
      "source": [
        "data.describe([\"NA_Sales\", \"Global_Sales\"]).show()"
      ],
      "execution_count": null,
      "outputs": [
        {
          "output_type": "stream",
          "text": [
            "+-------+-------------------+------------------+\n",
            "|summary|           NA_Sales|      Global_Sales|\n",
            "+-------+-------------------+------------------+\n",
            "|  count|              16598|             16598|\n",
            "|   mean|0.26466742981084057|  0.53744065550074|\n",
            "| stddev| 0.8166830292988798|1.5550279355699066|\n",
            "|    min|                0.0|              0.01|\n",
            "|    max|              41.49|             82.74|\n",
            "+-------+-------------------+------------------+\n",
            "\n"
          ],
          "name": "stdout"
        }
      ]
    },
    {
      "cell_type": "markdown",
      "metadata": {
        "id": "558ZgeE6nTch"
      },
      "source": [
        "Пример операции groupBy (в данном случае - для подсчета количества вхождений)"
      ]
    },
    {
      "cell_type": "code",
      "metadata": {
        "colab": {
          "base_uri": "https://localhost:8080/"
        },
        "id": "-Srf7xngpgLd",
        "outputId": "6b0baebb-ec56-469e-d829-818b992d87fd"
      },
      "source": [
        "data.groupBy(\"Platform\") \\\n",
        ".count() \\\n",
        ".orderBy(\"count\", ascending=False) \\\n",
        ".show(10)"
      ],
      "execution_count": null,
      "outputs": [
        {
          "output_type": "stream",
          "text": [
            "+--------+-----+\n",
            "|Platform|count|\n",
            "+--------+-----+\n",
            "|      DS| 2163|\n",
            "|     PS2| 2161|\n",
            "|     PS3| 1329|\n",
            "|     Wii| 1325|\n",
            "|    X360| 1265|\n",
            "|     PSP| 1213|\n",
            "|      PS| 1196|\n",
            "|      PC|  960|\n",
            "|      XB|  824|\n",
            "|     GBA|  822|\n",
            "+--------+-----+\n",
            "only showing top 10 rows\n",
            "\n"
          ],
          "name": "stdout"
        }
      ]
    },
    {
      "cell_type": "markdown",
      "metadata": {
        "id": "rHmaDKONpWUn"
      },
      "source": [
        "Поддерживаются параллельнные вычисления и партиционирование данных.\n",
        "\n",
        "В качестве примера вычислим число $\\pi$ методом Монте-Карло. Возьмем большое число случайных точек в квадрате со стророной 1 и вычислим долю точек, попавших в круг единичного радиуса, у которых расстояние до точки (0, 0) меньше 1."
      ]
    },
    {
      "cell_type": "code",
      "metadata": {
        "id": "fwpd8uHDpgGX"
      },
      "source": [
        "partitions = 2\n",
        "n = 1000000 * partitions"
      ],
      "execution_count": null,
      "outputs": []
    },
    {
      "cell_type": "code",
      "metadata": {
        "id": "BAd-pM2Ypf_c"
      },
      "source": [
        "from random import random\n",
        "\n",
        "def f(_):\n",
        "    x = random() \n",
        "    y = random()\n",
        "    return 1 if x ** 2 + y ** 2 <= 1 else 0"
      ],
      "execution_count": null,
      "outputs": []
    },
    {
      "cell_type": "markdown",
      "metadata": {
        "id": "mGGhKmj06pah"
      },
      "source": [
        "В данном примере вычисление функции `f(_)` распараллеливается на несколько _partitions_ и результаты вычислений _аггрегируются_ (суммируются в данном случае)"
      ]
    },
    {
      "cell_type": "code",
      "metadata": {
        "colab": {
          "base_uri": "https://localhost:8080/"
        },
        "id": "OUhUX0cxpf22",
        "outputId": "a74c1094-c5c8-431c-d266-464b300c896b"
      },
      "source": [
        "%%time\n",
        "from operator import add\n",
        "\n",
        "count = spark.sparkContext.parallelize(range(n), partitions).map(f).reduce(add)\n",
        "print(\"Pi is roughly %f\" % (4.0 * count / n))"
      ],
      "execution_count": null,
      "outputs": [
        {
          "output_type": "stream",
          "text": [
            "Pi is roughly 3.140796\n",
            "CPU times: user 25.4 ms, sys: 2.8 ms, total: 28.2 ms\n",
            "Wall time: 1.72 s\n"
          ],
          "name": "stdout"
        }
      ]
    },
    {
      "cell_type": "markdown",
      "metadata": {
        "id": "2X0AnSp57Tq7"
      },
      "source": [
        "#End"
      ]
    }
  ]
}
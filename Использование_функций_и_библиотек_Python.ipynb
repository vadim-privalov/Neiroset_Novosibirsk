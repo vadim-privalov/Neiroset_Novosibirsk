{
  "nbformat": 4,
  "nbformat_minor": 0,
  "metadata": {
    "colab": {
      "name": "Использование_функций_и_библиотек_Python",
      "provenance": [],
      "collapsed_sections": [
        "hSZw6MS06z2G",
        "duwxlHUyh3mL",
        "__HmH6EEut8R",
        "yu1K3Vo3z4Om",
        "0SLaxYfe7YEI",
        "AacIxsjEy7j9",
        "jSHaIHt4wzMz",
        "qQ6760EH_N4z",
        "CwoyQaEQwOdS",
        "AgLELuu_wdLE",
        "-KLazauiRA4g",
        "RQ1CkMvD__fQ",
        "HZUfg4gJ1NF5",
        "yEOLwgYv2u2t",
        "ESIVULCXf2Ce",
        "FKuJJezC4LS2",
        "jeM1jkHe6waQ",
        "Ihx47kvF-W4a",
        "y8-rRtvLQfi9",
        "L1qR1Gp3XOeF",
        "dwogTlnwRDYJ",
        "nhhKxwaWSCGH",
        "U9w7ynmVVy-R",
        "BISGv5S2Y8q9",
        "LYG8Zn7IZxSu"
      ],
      "include_colab_link": true
    },
    "kernelspec": {
      "name": "python3",
      "display_name": "Python 3"
    }
  },
  "cells": [
    {
      "cell_type": "markdown",
      "metadata": {
        "id": "view-in-github",
        "colab_type": "text"
      },
      "source": [
        "<a href=\"https://colab.research.google.com/github/vadim-privalov/Neiroset_Novosibirsk/blob/main/%D0%98%D1%81%D0%BF%D0%BE%D0%BB%D1%8C%D0%B7%D0%BE%D0%B2%D0%B0%D0%BD%D0%B8%D0%B5_%D1%84%D1%83%D0%BD%D0%BA%D1%86%D0%B8%D0%B9_%D0%B8_%D0%B1%D0%B8%D0%B1%D0%BB%D0%B8%D0%BE%D1%82%D0%B5%D0%BA_Python.ipynb\" target=\"_parent\"><img src=\"https://colab.research.google.com/assets/colab-badge.svg\" alt=\"Open In Colab\"/></a>"
      ]
    },
    {
      "cell_type": "markdown",
      "metadata": {
        "id": "uVQjRFc6abYJ"
      },
      "source": [
        "## ООО \"Университет Цифровых Технологий платформа 3\""
      ]
    },
    {
      "cell_type": "markdown",
      "metadata": {
        "id": "5LB-4aJy2rsx"
      },
      "source": [
        "# Использование функций и библиотек Python\n"
      ]
    },
    {
      "cell_type": "markdown",
      "metadata": {
        "id": "JXQumrKh36aH"
      },
      "source": [
        "#1. Что такое функция? \n",
        "Функция в Python - это объект, принимающий аргументы (или параметры) и возвращающий результат - объект. Другими словами, это похоже на некий \"чёрный ящик\", который принимает что-то, и потом отдаёт на выход в уже изменённом виде. Это похоже на хорошо известные нам предметы. Например, аудио усилитель получает на вход слабый электрический сигнал, а на выходе имеем усиленный. Кофемашина принимает кофе и воду, на выходе имеем уже сваренный напиток. В микроволновку ставим холодную еду, а извлекаем мы её разогретой.\n",
        "\n"
      ]
    },
    {
      "cell_type": "markdown",
      "metadata": {
        "id": "WpRWzZsEU4mP"
      },
      "source": [
        "# 2. Для чего нужны функции? \n",
        "Чтобы написать маленькую программу, возможно, они и не нужны. Они нужны, когда программа большая, и особенно если в ней много повторяющихся действий. Дзен Python (так называют обычноый разумный подход) гласит, что понятный код с явно заданными величинами лучше, чем непонятный с косвенно заданными величинами, а краткость и простота лучше, чем сложность. Функции позволяют следовать дзен, так как дают возможность многократно использовать один и тот же программный код, записав его компактно. При этом, в программном коде появляется просто лаконичная запись из одной строчки вместо нескольких. Лучше озаглавить функцию так, чтобы было просто и совершенно понятно, что она делает. Иначе, когда Вы вернётесь к своему коду через месяц, можете потратить множество времени, чтобы вспомнить, что же Вы хотели сделать этой функцией, а для другого человека это вообще будет загадкой.\n",
        "\n",
        "В языке Python имеются встроенные функции, например `print()`, а также имеется возможность создавать свои функции. Мы рекомендуем покрывать код комментариями, чтобы было понятно и другому человеку, и Вам в своей программе несколько месяцев спустя, как этот код работает и что он делает.\n"
      ]
    },
    {
      "cell_type": "markdown",
      "metadata": {
        "id": "aP-p7IXT6rQr"
      },
      "source": [
        "# Использование простых функций"
      ]
    },
    {
      "cell_type": "markdown",
      "metadata": {
        "id": "SSSi4SX88iqS"
      },
      "source": [
        "### Именованные функции\n",
        "Опредление функции начинается с ключевого слова `def` за которым следует название функции и список аргументов в скобках, а затем двоеточие, как в следующем примере:"
      ]
    },
    {
      "cell_type": "code",
      "metadata": {
        "id": "1emiXBYb2hf4"
      },
      "source": [
        "def my_function(x, y):\n",
        "    '''\n",
        "    Вычисляет сумму или конкатенацию строк\n",
        "    ''' \n",
        "    s = x + y\n",
        "    return s"
      ],
      "execution_count": null,
      "outputs": []
    },
    {
      "cell_type": "markdown",
      "metadata": {
        "id": "4iQDhccl5y1T"
      },
      "source": [
        "В этом примере `my_function` - название функции, рекомендуется начинать с нижнего регистра. Это неудачный пример заглавия. Напоминаю, чтобы было понятно, лучше в названии указывать, что делает функция, например, в данном случае более удачное название - `sum_function`. \n",
        "\n",
        "x и y - позиционные агрументы функции, указываемые в скобках,\n",
        "после скобок ОБЯЗАТЕЛЬНО ставим двоеточие\n",
        "\n",
        "Далее, идёт сам исполняемый код. Он ОБЯЗАТЕЛЬНО пишется с отступом. Отступ, как Вы знаете, согласно спецификации Python PEP8, равен 4 пробела. Именно отступ показывает, что данный код принадлежит функции. Обычно стараются, чтобы такая операция была простой, в одно действие, иногда говорят, `атомарной`. Если хотим выполнить много дйствий, стоит создать много атомарных функции, и сделать ещё одну, атомарное действие которой будет объединить функции, созданные до этого.\n",
        "\n",
        "`return` - ключевое слово, после которого идет возвращаемое значение. Также ОБЯЗАТЕЛЬНО пишется с отступом. Вместо возвращаемого значения может стоять выражение, например, сумма, или другое, мы приведём пример ниже.\n",
        "\n",
        "* Примечания: \n",
        "Иногда, в теле функции пишется комментарий, позволяющий понять, что делает функция, мы написали комментарий в тройных кавычках, и тоже С ОТСТУПОМ.\n",
        "Хотя в Колабе отступ составляет 2 пробела, мы рекомендуем установить 4 (вверху нажимаем инструменты - настройки - редактор - ширина отступа).\n",
        "Атомарность функции также позволяет использовать одну и ту же функцию в совершенно разных задачах при вызове её из различных других функций, а также легко копировать из одной программы в другую.\n",
        "\n"
      ]
    },
    {
      "cell_type": "markdown",
      "metadata": {
        "id": "ZDybCytUc146"
      },
      "source": [
        "Таким образом, функция - это маленькая программа, способная сама выполнять небольшую отдельную операцию. Чтобы она работала, мы вначале должны подумать: \n",
        "1. какую операцию она будет выполнять, \n",
        "2. что принимать на вход и возвращать на выходе (ниже покажем, что вообще она может не возвращать, а просто выполнять какое-то действие, или даже не выполнять ничего), \n",
        "3. написать сам код этой функции, добавить комментарии, необходимые для понимания работы функции,\n",
        "4. создать саму \"обёртку\", т.е. объявить функцию, указать подаваемые в неё параметры, создать возврат результата, и не забыть про двоеточие и правильные отступы.\n",
        "\n",
        "Но объявить функцию мало. Она так работать не будет, её нужно обязательно вызвать. Это похоже на диалог - функция как собеседник, ждёт, когда Вы к ней ОБРАТИТЕСЬ ПО ИМЕНИ, зададите параметры, т.е. сообщите ей информацию, которую необходимо обработать, и она Вам ответит. "
      ]
    },
    {
      "cell_type": "markdown",
      "metadata": {
        "id": "8uPDsv_2fTrZ"
      },
      "source": [
        "### Примеры вызова написанной нами функции\n",
        "\n",
        "\n",
        "С числовыми значениями:"
      ]
    },
    {
      "cell_type": "code",
      "metadata": {
        "colab": {
          "base_uri": "https://localhost:8080/"
        },
        "id": "Hkk6dj1L2w2V",
        "outputId": "3849e968-f074-4452-edfb-f832c5baa805"
      },
      "source": [
        "my_function(10, 20)"
      ],
      "execution_count": null,
      "outputs": [
        {
          "output_type": "execute_result",
          "data": {
            "text/plain": [
              "30"
            ]
          },
          "metadata": {
            "tags": []
          },
          "execution_count": 2
        }
      ]
    },
    {
      "cell_type": "markdown",
      "metadata": {
        "id": "I8KNWCOxfay7"
      },
      "source": [
        "Со строковыми значениями:"
      ]
    },
    {
      "cell_type": "code",
      "metadata": {
        "colab": {
          "base_uri": "https://localhost:8080/",
          "height": 35
        },
        "id": "ig_Ot89hhe1O",
        "outputId": "3b81a80d-0a9b-42be-b0bc-c9522087e24c"
      },
      "source": [
        "my_function(str(10), str(20))"
      ],
      "execution_count": null,
      "outputs": [
        {
          "output_type": "execute_result",
          "data": {
            "application/vnd.google.colaboratory.intrinsic+json": {
              "type": "string"
            },
            "text/plain": [
              "'1020'"
            ]
          },
          "metadata": {
            "tags": []
          },
          "execution_count": 3
        }
      ]
    },
    {
      "cell_type": "code",
      "metadata": {
        "id": "_mNtEwOJgUwh",
        "colab": {
          "base_uri": "https://localhost:8080/",
          "height": 35
        },
        "outputId": "95a83c60-05fb-4d3c-ad89-1f34446ea720"
      },
      "source": [
        "a, b = '10', '20'\n",
        "my_function(a, b)"
      ],
      "execution_count": null,
      "outputs": [
        {
          "output_type": "execute_result",
          "data": {
            "application/vnd.google.colaboratory.intrinsic+json": {
              "type": "string"
            },
            "text/plain": [
              "'1020'"
            ]
          },
          "metadata": {
            "tags": []
          },
          "execution_count": 4
        }
      ]
    },
    {
      "cell_type": "code",
      "metadata": {
        "colab": {
          "base_uri": "https://localhost:8080/",
          "height": 35
        },
        "id": "7akQuU9d6lXQ",
        "outputId": "ae48ebc6-8323-42e5-ba7f-847abf95487e"
      },
      "source": [
        "my_function('hello ', 'world')"
      ],
      "execution_count": null,
      "outputs": [
        {
          "output_type": "execute_result",
          "data": {
            "application/vnd.google.colaboratory.intrinsic+json": {
              "type": "string"
            },
            "text/plain": [
              "'hello world'"
            ]
          },
          "metadata": {
            "tags": []
          },
          "execution_count": 5
        }
      ]
    },
    {
      "cell_type": "markdown",
      "metadata": {
        "id": "BdmfhRgZgHXJ"
      },
      "source": [
        "Со списками:"
      ]
    },
    {
      "cell_type": "code",
      "metadata": {
        "colab": {
          "base_uri": "https://localhost:8080/"
        },
        "id": "xeAFVCupbbAj",
        "outputId": "1cc23bf9-45d9-44d7-9bb8-c1b23db001b5"
      },
      "source": [
        "my_function([10, 20], [30, 40])"
      ],
      "execution_count": null,
      "outputs": [
        {
          "output_type": "execute_result",
          "data": {
            "text/plain": [
              "[10, 20, 30, 40]"
            ]
          },
          "metadata": {
            "tags": []
          },
          "execution_count": 6
        }
      ]
    },
    {
      "cell_type": "markdown",
      "metadata": {
        "id": "hSZw6MS06z2G"
      },
      "source": [
        "### Полиморфизм\n",
        "Одна и та же функция в одном случае складывает числа, а в другом - конкатенирует строки, списки. Это пример *полиморфизма* - способности одного объекта (функции в нашем случае) работать с разными сущностями по разным правилам.\n",
        "\n",
        "Ниже, для эксперимента, приведём не атомарную функцию, чтобы показать, как можно использовать функции:"
      ]
    },
    {
      "cell_type": "code",
      "metadata": {
        "id": "tlDuGEpQXdpC"
      },
      "source": [
        "def my_function(x, y):\n",
        "    '''\n",
        "    Вычисляет сумму и разность\n",
        "    ''' \n",
        "    s = x + y\n",
        "    d = x - y\n",
        "    return s, d"
      ],
      "execution_count": null,
      "outputs": []
    },
    {
      "cell_type": "markdown",
      "metadata": {
        "id": "duwxlHUyh3mL"
      },
      "source": [
        "### Уникальность функций\n",
        "Обращаем внимание - мы создали новую функцию с тем же именем, что и прежнюю. Теперь она уже перезаписана, и будет работать по-другому. В новом варианте, возвратили из функции ДВА значения, по умолчанию они находятся в кортеже:"
      ]
    },
    {
      "cell_type": "code",
      "metadata": {
        "colab": {
          "base_uri": "https://localhost:8080/"
        },
        "id": "tPg_lP2RXxgN",
        "outputId": "55b47e38-e14d-43ae-8b95-2a8ab39e37f9"
      },
      "source": [
        "my_function(10, 20)"
      ],
      "execution_count": null,
      "outputs": [
        {
          "output_type": "execute_result",
          "data": {
            "text/plain": [
              "(30, -10)"
            ]
          },
          "metadata": {
            "tags": []
          },
          "execution_count": 8
        }
      ]
    },
    {
      "cell_type": "code",
      "metadata": {
        "colab": {
          "base_uri": "https://localhost:8080/"
        },
        "id": "PlD42WWllaW9",
        "outputId": "15b7d623-dae9-44c9-8fe7-eada36fb258a"
      },
      "source": [
        "type(my_function(10, 20))"
      ],
      "execution_count": null,
      "outputs": [
        {
          "output_type": "execute_result",
          "data": {
            "text/plain": [
              "tuple"
            ]
          },
          "metadata": {
            "tags": []
          },
          "execution_count": 9
        }
      ]
    },
    {
      "cell_type": "markdown",
      "metadata": {
        "id": "m-b9PnwOiKQo"
      },
      "source": [
        "Пробуем создать словарь, но возвращается опять кортеж:"
      ]
    },
    {
      "cell_type": "code",
      "metadata": {
        "colab": {
          "base_uri": "https://localhost:8080/"
        },
        "id": "QYDIoQqre_uk",
        "outputId": "f3fefba1-5585-445e-ef3a-8357991e7cd0"
      },
      "source": [
        "my = {}\n",
        "print(my)\n",
        "print(type(my))\n",
        "my = my_function(10, 20)\n",
        "print(my)\n",
        "print(type(my))"
      ],
      "execution_count": null,
      "outputs": [
        {
          "output_type": "stream",
          "text": [
            "{}\n",
            "<class 'dict'>\n",
            "(30, -10)\n",
            "<class 'tuple'>\n"
          ],
          "name": "stdout"
        }
      ]
    },
    {
      "cell_type": "markdown",
      "metadata": {
        "id": "EsdCYhrxmarm"
      },
      "source": [
        "А вот так возвращаем список:"
      ]
    },
    {
      "cell_type": "code",
      "metadata": {
        "id": "eljTAnTubbAO"
      },
      "source": [
        "def my_function(x, y):\n",
        "    '''\n",
        "    Вычисляет сумму и разность\n",
        "    ''' \n",
        "    s = x + y\n",
        "    d = x - y\n",
        "    return [s, d]"
      ],
      "execution_count": null,
      "outputs": []
    },
    {
      "cell_type": "code",
      "metadata": {
        "colab": {
          "base_uri": "https://localhost:8080/"
        },
        "id": "7ofEg0NWbPDi",
        "outputId": "994f020c-efac-49d5-de37-e5898588812c"
      },
      "source": [
        "my_function(10, 20)"
      ],
      "execution_count": null,
      "outputs": [
        {
          "output_type": "execute_result",
          "data": {
            "text/plain": [
              "[30, -10]"
            ]
          },
          "metadata": {
            "tags": []
          },
          "execution_count": 12
        }
      ]
    },
    {
      "cell_type": "markdown",
      "metadata": {
        "id": "6QxhLci1mkgQ"
      },
      "source": [
        "Теперь вернём словарь:"
      ]
    },
    {
      "cell_type": "code",
      "metadata": {
        "id": "hnEcAy3omkgR"
      },
      "source": [
        "def my_function(x, y):\n",
        "    '''\n",
        "    Вычисляет сумму и разность\n",
        "    ''' \n",
        "    s = x + y\n",
        "    d = x - y\n",
        "    return {s: d}"
      ],
      "execution_count": null,
      "outputs": []
    },
    {
      "cell_type": "code",
      "metadata": {
        "colab": {
          "base_uri": "https://localhost:8080/"
        },
        "id": "XuTTIXU2mkgS",
        "outputId": "de166ff8-ea47-4f7a-eff2-06decf46daa1"
      },
      "source": [
        "my_function(10, 20)"
      ],
      "execution_count": null,
      "outputs": [
        {
          "output_type": "execute_result",
          "data": {
            "text/plain": [
              "{30: -10}"
            ]
          },
          "metadata": {
            "tags": []
          },
          "execution_count": 14
        }
      ]
    },
    {
      "cell_type": "markdown",
      "metadata": {
        "id": "ui2KwfJNm_vp"
      },
      "source": [
        "Вычислим возвращаемые значения прямо в return:"
      ]
    },
    {
      "cell_type": "code",
      "metadata": {
        "id": "qADTPlZkmApS"
      },
      "source": [
        "def my_function(x, y):\n",
        "    '''\n",
        "    Вычисляет сумму и разность\n",
        "    ''' \n",
        "    return x + y, x - y"
      ],
      "execution_count": null,
      "outputs": []
    },
    {
      "cell_type": "code",
      "metadata": {
        "colab": {
          "base_uri": "https://localhost:8080/"
        },
        "id": "ln6VOyixmApm",
        "outputId": "dcc5af6a-6091-4dea-d15f-742e3020f376"
      },
      "source": [
        "my_function(10, 20)"
      ],
      "execution_count": null,
      "outputs": [
        {
          "output_type": "execute_result",
          "data": {
            "text/plain": [
              "(30, -10)"
            ]
          },
          "metadata": {
            "tags": []
          },
          "execution_count": 16
        }
      ]
    },
    {
      "cell_type": "markdown",
      "metadata": {
        "id": "wcREBAVanLwA"
      },
      "source": [
        "Пробуем подать в функцию None:"
      ]
    },
    {
      "cell_type": "code",
      "metadata": {
        "colab": {
          "base_uri": "https://localhost:8080/",
          "height": 248
        },
        "id": "NOpQvaCdazfK",
        "outputId": "b57d0372-6b58-48bd-991d-d51c8541ad80"
      },
      "source": [
        "my_function(None, 1)"
      ],
      "execution_count": null,
      "outputs": [
        {
          "output_type": "error",
          "ename": "TypeError",
          "evalue": "ignored",
          "traceback": [
            "\u001b[0;31m---------------------------------------------------------------------------\u001b[0m",
            "\u001b[0;31mTypeError\u001b[0m                                 Traceback (most recent call last)",
            "\u001b[0;32m<ipython-input-17-4f86f7eb90bd>\u001b[0m in \u001b[0;36m<module>\u001b[0;34m()\u001b[0m\n\u001b[0;32m----> 1\u001b[0;31m \u001b[0mmy_function\u001b[0m\u001b[0;34m(\u001b[0m\u001b[0;32mNone\u001b[0m\u001b[0;34m,\u001b[0m \u001b[0;36m1\u001b[0m\u001b[0;34m)\u001b[0m\u001b[0;34m\u001b[0m\u001b[0;34m\u001b[0m\u001b[0m\n\u001b[0m",
            "\u001b[0;32m<ipython-input-15-86c2749bd815>\u001b[0m in \u001b[0;36mmy_function\u001b[0;34m(x, y)\u001b[0m\n\u001b[1;32m      3\u001b[0m     \u001b[0mВычисляет\u001b[0m \u001b[0mсумму\u001b[0m \u001b[0mи\u001b[0m \u001b[0mразность\u001b[0m\u001b[0;34m\u001b[0m\u001b[0;34m\u001b[0m\u001b[0m\n\u001b[1;32m      4\u001b[0m     ''' \n\u001b[0;32m----> 5\u001b[0;31m     \u001b[0;32mreturn\u001b[0m \u001b[0mx\u001b[0m \u001b[0;34m+\u001b[0m \u001b[0my\u001b[0m\u001b[0;34m,\u001b[0m \u001b[0mx\u001b[0m \u001b[0;34m-\u001b[0m \u001b[0my\u001b[0m\u001b[0;34m\u001b[0m\u001b[0;34m\u001b[0m\u001b[0m\n\u001b[0m",
            "\u001b[0;31mTypeError\u001b[0m: unsupported operand type(s) for +: 'NoneType' and 'int'"
          ]
        }
      ]
    },
    {
      "cell_type": "code",
      "metadata": {
        "colab": {
          "base_uri": "https://localhost:8080/",
          "height": 248
        },
        "id": "s08FKauObFDH",
        "outputId": "386e90fc-ab3c-4e7c-d780-00e0802b18e1"
      },
      "source": [
        "my_function(None, None)"
      ],
      "execution_count": null,
      "outputs": [
        {
          "output_type": "error",
          "ename": "TypeError",
          "evalue": "ignored",
          "traceback": [
            "\u001b[0;31m---------------------------------------------------------------------------\u001b[0m",
            "\u001b[0;31mTypeError\u001b[0m                                 Traceback (most recent call last)",
            "\u001b[0;32m<ipython-input-18-731328e29e64>\u001b[0m in \u001b[0;36m<module>\u001b[0;34m()\u001b[0m\n\u001b[0;32m----> 1\u001b[0;31m \u001b[0mmy_function\u001b[0m\u001b[0;34m(\u001b[0m\u001b[0;32mNone\u001b[0m\u001b[0;34m,\u001b[0m \u001b[0;32mNone\u001b[0m\u001b[0;34m)\u001b[0m\u001b[0;34m\u001b[0m\u001b[0;34m\u001b[0m\u001b[0m\n\u001b[0m",
            "\u001b[0;32m<ipython-input-15-86c2749bd815>\u001b[0m in \u001b[0;36mmy_function\u001b[0;34m(x, y)\u001b[0m\n\u001b[1;32m      3\u001b[0m     \u001b[0mВычисляет\u001b[0m \u001b[0mсумму\u001b[0m \u001b[0mи\u001b[0m \u001b[0mразность\u001b[0m\u001b[0;34m\u001b[0m\u001b[0;34m\u001b[0m\u001b[0m\n\u001b[1;32m      4\u001b[0m     ''' \n\u001b[0;32m----> 5\u001b[0;31m     \u001b[0;32mreturn\u001b[0m \u001b[0mx\u001b[0m \u001b[0;34m+\u001b[0m \u001b[0my\u001b[0m\u001b[0;34m,\u001b[0m \u001b[0mx\u001b[0m \u001b[0;34m-\u001b[0m \u001b[0my\u001b[0m\u001b[0;34m\u001b[0m\u001b[0;34m\u001b[0m\u001b[0m\n\u001b[0m",
            "\u001b[0;31mTypeError\u001b[0m: unsupported operand type(s) for +: 'NoneType' and 'NoneType'"
          ]
        }
      ]
    },
    {
      "cell_type": "markdown",
      "metadata": {
        "id": "__2DZcBNncwT"
      },
      "source": [
        "Комбинируем переменные:"
      ]
    },
    {
      "cell_type": "code",
      "metadata": {
        "id": "BFIL3EAgivC-"
      },
      "source": [
        "def my_function(x, y):\n",
        "    '''\n",
        "    Вычисляет сумму и разность\n",
        "    ''' \n",
        "    s = x + y\n",
        "    d = x - y\n",
        "    return [s * str(d)]"
      ],
      "execution_count": null,
      "outputs": []
    },
    {
      "cell_type": "code",
      "metadata": {
        "colab": {
          "base_uri": "https://localhost:8080/"
        },
        "id": "XeYuhtJVYAD4",
        "outputId": "f6a0780b-dd1e-49be-fad4-7b879755898d"
      },
      "source": [
        "my_function(10, 20)"
      ],
      "execution_count": null,
      "outputs": [
        {
          "output_type": "execute_result",
          "data": {
            "text/plain": [
              "['-10-10-10-10-10-10-10-10-10-10-10-10-10-10-10-10-10-10-10-10-10-10-10-10-10-10-10-10-10-10']"
            ]
          },
          "metadata": {
            "tags": []
          },
          "execution_count": 20
        }
      ]
    },
    {
      "cell_type": "markdown",
      "metadata": {
        "id": "__HmH6EEut8R"
      },
      "source": [
        "###Сложность функций. Вложенные функции\n",
        "Функция может быть любой сложности и возвращать любые объекты (списки, кортежи, и даже функции!):"
      ]
    },
    {
      "cell_type": "code",
      "metadata": {
        "colab": {
          "base_uri": "https://localhost:8080/"
        },
        "id": "ns5LR8pNuv7o",
        "outputId": "38c70b3a-18ed-44dd-9fc1-912aa660f99b"
      },
      "source": [
        "def ret_func(n):\n",
        "    def func(x):\n",
        "        return n + x\n",
        "    return func # возвращаем функцию\n",
        "\n",
        "newf = ret_func(10) # newf - это функция\n",
        "print(type(newf)) # вывели на печать, что это именно функция\n",
        "print(newf(1)) # подали в новый объект-функцию ещё один аргумент\n",
        "ret_func(10)(1) # "
      ],
      "execution_count": null,
      "outputs": [
        {
          "output_type": "stream",
          "text": [
            "<class 'function'>\n",
            "11\n"
          ],
          "name": "stdout"
        },
        {
          "output_type": "execute_result",
          "data": {
            "text/plain": [
              "11"
            ]
          },
          "metadata": {
            "tags": []
          },
          "execution_count": 21
        }
      ]
    },
    {
      "cell_type": "markdown",
      "metadata": {
        "id": "yu1K3Vo3z4Om"
      },
      "source": [
        "###Рекурсия"
      ]
    },
    {
      "cell_type": "markdown",
      "metadata": {
        "id": "2_uzQtjVz9Rs"
      },
      "source": [
        "Рекурсия - это вызов функции из самой же функции. По сути, это частный случай вложенной функции. Это может использоваться, например, в создании циклов с помощью функции:\n"
      ]
    },
    {
      "cell_type": "code",
      "metadata": {
        "id": "GwJ8qZPQ8_Qz"
      },
      "source": [
        "def factorial(num):\n",
        "    if num == 0:\n",
        "        return 1\n",
        "    return num * factorial(num - 1)"
      ],
      "execution_count": null,
      "outputs": []
    },
    {
      "cell_type": "code",
      "metadata": {
        "colab": {
          "base_uri": "https://localhost:8080/"
        },
        "id": "xmP150O89M89",
        "outputId": "8a7a4034-1c12-46bc-c560-d3f81ab45861"
      },
      "source": [
        "print(factorial(3))"
      ],
      "execution_count": null,
      "outputs": [
        {
          "output_type": "stream",
          "text": [
            "6\n"
          ],
          "name": "stdout"
        }
      ]
    },
    {
      "cell_type": "markdown",
      "metadata": {
        "id": "0SLaxYfe7YEI"
      },
      "source": [
        "### Использование без *return*\n",
        "Функция может не возвращать ничего, а лишь создавать *побочный эффект*, например печать переменной. При этом, return не ставится:"
      ]
    },
    {
      "cell_type": "code",
      "metadata": {
        "id": "4BIP9KAj6vrc"
      },
      "source": [
        "def print_arg(x):\n",
        "    print(f\"x={x}\")"
      ],
      "execution_count": null,
      "outputs": []
    },
    {
      "cell_type": "markdown",
      "metadata": {
        "id": "FSnQdIq0v6Y_"
      },
      "source": [
        "Такая функция будет возвращать значение `None` (резервированное слово в Python, означающее отсутствие присвоенного значения)"
      ]
    },
    {
      "cell_type": "code",
      "metadata": {
        "colab": {
          "base_uri": "https://localhost:8080/"
        },
        "id": "pescxElQ8KEe",
        "outputId": "b7984ca4-d17d-421e-ea73-0dc1495417c9"
      },
      "source": [
        "a = print_arg(\"qwerty\")\n",
        "print(a)"
      ],
      "execution_count": null,
      "outputs": [
        {
          "output_type": "stream",
          "text": [
            "x=qwerty\n",
            "None\n"
          ],
          "name": "stdout"
        }
      ]
    },
    {
      "cell_type": "markdown",
      "metadata": {
        "id": "uwY4Uk9o8D4V"
      },
      "source": [
        "Если функция ничего не возвращает, то такая функция называется процедурой."
      ]
    },
    {
      "cell_type": "markdown",
      "metadata": {
        "id": "AacIxsjEy7j9"
      },
      "source": [
        "### Пустая функция"
      ]
    },
    {
      "cell_type": "markdown",
      "metadata": {
        "id": "41wgQFjYzKb0"
      },
      "source": [
        "Иногда нужно, чтобы функция не выполняла никаких действий. Тогда в ней ставится \"заглушка\" - оператор pass (пропустить действие). Пример:"
      ]
    },
    {
      "cell_type": "code",
      "metadata": {
        "id": "4fQ_MfsSzI9P"
      },
      "source": [
        "def empty_func():\n",
        "    pass"
      ],
      "execution_count": null,
      "outputs": []
    },
    {
      "cell_type": "code",
      "metadata": {
        "id": "2YrP6OGjzllU"
      },
      "source": [
        "empty_func()"
      ],
      "execution_count": null,
      "outputs": []
    },
    {
      "cell_type": "markdown",
      "metadata": {
        "id": "1Qu1Xd5dzssf"
      },
      "source": [
        "Видно, что после её вызова даже ничего не вывелось. Потому что возвращается \"ничего\", None"
      ]
    },
    {
      "cell_type": "code",
      "metadata": {
        "colab": {
          "base_uri": "https://localhost:8080/"
        },
        "id": "SGi-461HMeBj",
        "outputId": "48e33835-a1d6-40bc-a8eb-e03c33031d9d"
      },
      "source": [
        "print(empty_func())"
      ],
      "execution_count": null,
      "outputs": [
        {
          "output_type": "stream",
          "text": [
            "None\n"
          ],
          "name": "stdout"
        }
      ]
    },
    {
      "cell_type": "code",
      "metadata": {
        "colab": {
          "base_uri": "https://localhost:8080/"
        },
        "id": "MfSi3uunJjnx",
        "outputId": "2beb28ae-65aa-4a90-e6f6-fbdbed782c3b"
      },
      "source": [
        "type(empty_func())"
      ],
      "execution_count": null,
      "outputs": [
        {
          "output_type": "execute_result",
          "data": {
            "text/plain": [
              "NoneType"
            ]
          },
          "metadata": {
            "tags": []
          },
          "execution_count": 29
        }
      ]
    },
    {
      "cell_type": "markdown",
      "metadata": {
        "id": "mLSzGEIvLmp6"
      },
      "source": [
        "А теперь покажем пример, где это можно применить:"
      ]
    },
    {
      "cell_type": "code",
      "metadata": {
        "id": "WBCoXqJEJi0f"
      },
      "source": [
        "# Пример использования\n",
        "def int_dividing(x,y):\n",
        "    print('результат деления', x, 'на', y, ':', x // y, end = ' ')\n",
        "    if (x % y != 0):\n",
        "        print(', остаток от деления:', x % y)\n",
        "    else:  \n",
        "        pass"
      ],
      "execution_count": null,
      "outputs": []
    },
    {
      "cell_type": "code",
      "metadata": {
        "colab": {
          "base_uri": "https://localhost:8080/"
        },
        "id": "4mrOtIZ6LKn9",
        "outputId": "f3357818-7f76-4241-a800-0856560fbc95"
      },
      "source": [
        "int_dividing(10,3)"
      ],
      "execution_count": null,
      "outputs": [
        {
          "output_type": "stream",
          "text": [
            "результат деления 10 на 3 : 3 , остаток от деления: 1\n"
          ],
          "name": "stdout"
        }
      ]
    },
    {
      "cell_type": "code",
      "metadata": {
        "colab": {
          "base_uri": "https://localhost:8080/"
        },
        "id": "LAOm3GIrLShR",
        "outputId": "8089a98e-3af5-4e16-f461-6b7ddad06310"
      },
      "source": [
        "int_dividing(10,5)"
      ],
      "execution_count": null,
      "outputs": [
        {
          "output_type": "stream",
          "text": [
            "результат деления 10 на 5 : 2 "
          ],
          "name": "stdout"
        }
      ]
    },
    {
      "cell_type": "markdown",
      "metadata": {
        "id": "jSHaIHt4wzMz"
      },
      "source": [
        "## Именованные и позиционные аргументы\n",
        "Функция может принимать произвольное количество аргументов или не принимать их вовсе. Могут быть функции с произвольным числом аргументов, функции с позиционными и именованными аргументами, обязательными и необязательными."
      ]
    },
    {
      "cell_type": "markdown",
      "metadata": {
        "id": "tlnR-zK_8UJI"
      },
      "source": [
        "При вызове функций число передаваемых аргументов должно быть строго равно числу агрументов в определении функции. Однако можно задавать значения аргументов по умолчанию, в этом случае можно указывать только те агрументы, для которых не заданы дефолтные (default, т.е. по умолчанию) значения. Аргументы с заданными дефолтными значениями должны идти после *позиционных* агрументов (тех, которые без значений по умолчанию) "
      ]
    },
    {
      "cell_type": "code",
      "metadata": {
        "id": "Qab4b_qn8PpR"
      },
      "source": [
        "def func(x, y, u=5, w=10): # x, y - позиционные аргументы, u, w - именованные (keyword arguments)\n",
        "    print(\"x =\", x, \", y =\", y, \", u =\", u, \", w =\", w)"
      ],
      "execution_count": null,
      "outputs": []
    },
    {
      "cell_type": "code",
      "metadata": {
        "colab": {
          "base_uri": "https://localhost:8080/"
        },
        "id": "_vl9d5MrPleR",
        "outputId": "2d867c7e-14ad-462e-971f-8aab613766d9"
      },
      "source": [
        "# u и w взяты по умолчанию\n",
        "func(1, 2) \n",
        "func(x=1, y=2)"
      ],
      "execution_count": null,
      "outputs": [
        {
          "output_type": "stream",
          "text": [
            "x = 1 , y = 2 , u = 5 , w = 10\n",
            "x = 1 , y = 2 , u = 5 , w = 10\n"
          ],
          "name": "stdout"
        }
      ]
    },
    {
      "cell_type": "code",
      "metadata": {
        "colab": {
          "base_uri": "https://localhost:8080/"
        },
        "id": "N5fcKyndQXpP",
        "outputId": "c0f8e341-d018-42e9-b372-f7f40df9113c"
      },
      "source": [
        "func(y=2, x=1)"
      ],
      "execution_count": null,
      "outputs": [
        {
          "output_type": "stream",
          "text": [
            "x = 1 , y = 2 , u = 5 , w = 10\n"
          ],
          "name": "stdout"
        }
      ]
    },
    {
      "cell_type": "code",
      "metadata": {
        "colab": {
          "base_uri": "https://localhost:8080/"
        },
        "id": "7DKjJDkw9wZs",
        "outputId": "33aba659-7698-45a6-f130-06cbfbff2ef3"
      },
      "source": [
        "# так меняем именованные аргументы\n",
        "func(1, 2, 3)\n",
        "func(1, 2, 3, 4) \n",
        "func(1, 2, w=3, u=4) # указали именованные аргументы в другом порядке\n",
        "func(x=1, y=2, u=3, w=4)"
      ],
      "execution_count": null,
      "outputs": [
        {
          "output_type": "stream",
          "text": [
            "x = 1 , y = 2 , u = 3 , w = 10\n",
            "x = 1 , y = 2 , u = 3 , w = 4\n",
            "x = 1 , y = 2 , u = 4 , w = 3\n",
            "x = 1 , y = 2 , u = 3 , w = 4\n"
          ],
          "name": "stdout"
        }
      ]
    },
    {
      "cell_type": "markdown",
      "metadata": {
        "id": "qQ6760EH_N4z"
      },
      "source": [
        "### Примеры некорректного вызова"
      ]
    },
    {
      "cell_type": "code",
      "metadata": {
        "id": "fiw09eWu99DG",
        "colab": {
          "base_uri": "https://localhost:8080/",
          "height": 129
        },
        "outputId": "0ff006d6-61a3-417c-bcc4-422b8394a6cc"
      },
      "source": [
        "func(w=3, 1, 2) # позиционные аргументы должны идти первыми"
      ],
      "execution_count": null,
      "outputs": [
        {
          "output_type": "error",
          "ename": "SyntaxError",
          "evalue": "ignored",
          "traceback": [
            "\u001b[0;36m  File \u001b[0;32m\"<ipython-input-37-053e9701c21b>\"\u001b[0;36m, line \u001b[0;32m1\u001b[0m\n\u001b[0;31m    func(w=3, 1, 2) # позиционные аргументы должны идти первыми\u001b[0m\n\u001b[0m             ^\u001b[0m\n\u001b[0;31mSyntaxError\u001b[0m\u001b[0;31m:\u001b[0m positional argument follows keyword argument\n"
          ]
        }
      ]
    },
    {
      "cell_type": "code",
      "metadata": {
        "colab": {
          "base_uri": "https://localhost:8080/",
          "height": 129
        },
        "id": "5fQvRgomqE8n",
        "outputId": "e5e9014b-883f-4eaa-b6d4-300e901f5c3e"
      },
      "source": [
        "func(x=1, 2)"
      ],
      "execution_count": null,
      "outputs": [
        {
          "output_type": "error",
          "ename": "SyntaxError",
          "evalue": "ignored",
          "traceback": [
            "\u001b[0;36m  File \u001b[0;32m\"<ipython-input-38-b7718f9361c4>\"\u001b[0;36m, line \u001b[0;32m1\u001b[0m\n\u001b[0;31m    func(x=1, 2)\u001b[0m\n\u001b[0m             ^\u001b[0m\n\u001b[0;31mSyntaxError\u001b[0m\u001b[0;31m:\u001b[0m positional argument follows keyword argument\n"
          ]
        }
      ]
    },
    {
      "cell_type": "markdown",
      "metadata": {
        "id": "CwoyQaEQwOdS"
      },
      "source": [
        "### Подача позиционных аргументов списком: *args\n",
        "Оператор * чаще всего ассоциируется у людей с операцией умножения, но в Python он имеет и другой смысл.\n",
        "Этот оператор позволяет «распаковывать» объекты, внутри которых хранятся некие элементы.\n",
        "Можем подать позиционные аргументы списком:"
      ]
    },
    {
      "cell_type": "code",
      "metadata": {
        "id": "3oqJsO_iwINo",
        "colab": {
          "base_uri": "https://localhost:8080/"
        },
        "outputId": "f472ac14-f1be-4410-9edf-7519271a880d"
      },
      "source": [
        "args = [1, 2, 3]\n",
        "func(*args) # звездочка перед аргументом-списком означает, что список надо развернуть в последовательность аргументов \n",
        "# это эквивалентно вызову \n",
        "func(1, 2, 3)\n",
        "func(*[1, 2, 3])"
      ],
      "execution_count": null,
      "outputs": [
        {
          "output_type": "stream",
          "text": [
            "x = 1 , y = 2 , u = 3 , w = 10\n",
            "x = 1 , y = 2 , u = 3 , w = 10\n",
            "x = 1 , y = 2 , u = 3 , w = 10\n"
          ],
          "name": "stdout"
        }
      ]
    },
    {
      "cell_type": "code",
      "metadata": {
        "colab": {
          "base_uri": "https://localhost:8080/",
          "height": 163
        },
        "id": "f8xCfXFURVYV",
        "outputId": "9eee9cf8-a48a-456e-9080-34aafb3fe9e0"
      },
      "source": [
        "func([1, 2, 3])"
      ],
      "execution_count": null,
      "outputs": [
        {
          "output_type": "error",
          "ename": "TypeError",
          "evalue": "ignored",
          "traceback": [
            "\u001b[0;31m---------------------------------------------------------------------------\u001b[0m",
            "\u001b[0;31mTypeError\u001b[0m                                 Traceback (most recent call last)",
            "\u001b[0;32m<ipython-input-40-8c885b148a78>\u001b[0m in \u001b[0;36m<module>\u001b[0;34m()\u001b[0m\n\u001b[0;32m----> 1\u001b[0;31m \u001b[0mfunc\u001b[0m\u001b[0;34m(\u001b[0m\u001b[0;34m[\u001b[0m\u001b[0;36m1\u001b[0m\u001b[0;34m,\u001b[0m \u001b[0;36m2\u001b[0m\u001b[0;34m,\u001b[0m \u001b[0;36m3\u001b[0m\u001b[0;34m]\u001b[0m\u001b[0;34m)\u001b[0m\u001b[0;34m\u001b[0m\u001b[0;34m\u001b[0m\u001b[0m\n\u001b[0m",
            "\u001b[0;31mTypeError\u001b[0m: func() missing 1 required positional argument: 'y'"
          ]
        }
      ]
    },
    {
      "cell_type": "markdown",
      "metadata": {
        "id": "E0D5xp45N8-L"
      },
      "source": [
        "Чтобы было понятно, что такое может употребялться не только в функции:"
      ]
    },
    {
      "cell_type": "code",
      "metadata": {
        "colab": {
          "base_uri": "https://localhost:8080/"
        },
        "id": "2TGJbs1zNoT7",
        "outputId": "dd062524-90dd-4795-dfc3-5472d574dd96"
      },
      "source": [
        "a = [1,2,3]\n",
        "b = [*a,4,5,6]\n",
        "print(b)"
      ],
      "execution_count": null,
      "outputs": [
        {
          "output_type": "stream",
          "text": [
            "[1, 2, 3, 4, 5, 6]\n"
          ],
          "name": "stdout"
        }
      ]
    },
    {
      "cell_type": "markdown",
      "metadata": {
        "id": "AgLELuu_wdLE"
      },
      "source": [
        "### Подача именованных аргументов в произвольном количестве: **kwargs\n",
        "Функция может принимать и произвольное число именованных аргументов, тогда перед именем ставится **:"
      ]
    },
    {
      "cell_type": "code",
      "metadata": {
        "colab": {
          "base_uri": "https://localhost:8080/"
        },
        "id": "UU1E-AAf_cEU",
        "outputId": "0d09c38b-632e-4138-ba2c-f3f338947390"
      },
      "source": [
        "def func(**kwargs):\n",
        "    return kwargs\n",
        "\n",
        "ret = func(a=1, b=2, c=3)\n",
        "print(ret)\n",
        "\n",
        "ret = func()\n",
        "print(ret)\n",
        "\n",
        "ret = func(a='python')\n",
        "print(ret)"
      ],
      "execution_count": null,
      "outputs": [
        {
          "output_type": "stream",
          "text": [
            "{'a': 1, 'b': 2, 'c': 3}\n",
            "{}\n",
            "{'a': 'python'}\n"
          ],
          "name": "stdout"
        }
      ]
    },
    {
      "cell_type": "markdown",
      "metadata": {
        "id": "sJUZU1sCybtY"
      },
      "source": [
        "В переменной kwargs хранится словарь вида {'имя аргумента': 'значение'}\n",
        "\n",
        "Примечание: если хотим подать позиционные или именованные аргументы помимо `*args` или `**kwargs`, их нужно поставить перед `*args` или `**kwargs`. \n",
        "\n",
        "---\n",
        "\n"
      ]
    },
    {
      "cell_type": "code",
      "metadata": {
        "colab": {
          "base_uri": "https://localhost:8080/"
        },
        "id": "2SE2evFrRpyd",
        "outputId": "a8800b64-4f33-4416-bf6e-80a18b0021a9"
      },
      "source": [
        "ret = func(**{'a': 1, 'b': 2, 'c': 3})\n",
        "print(ret)"
      ],
      "execution_count": null,
      "outputs": [
        {
          "output_type": "stream",
          "text": [
            "{'a': 1, 'b': 2, 'c': 3}\n"
          ],
          "name": "stdout"
        }
      ]
    },
    {
      "cell_type": "code",
      "metadata": {
        "colab": {
          "base_uri": "https://localhost:8080/",
          "height": 180
        },
        "id": "QesAgdnPR3q3",
        "outputId": "4527e378-b745-4376-f02d-1ca48c9ec29e"
      },
      "source": [
        "ret = func({'a': 1, 'b': 2, 'c': 3})\n",
        "print(ret)"
      ],
      "execution_count": null,
      "outputs": [
        {
          "output_type": "error",
          "ename": "TypeError",
          "evalue": "ignored",
          "traceback": [
            "\u001b[0;31m---------------------------------------------------------------------------\u001b[0m",
            "\u001b[0;31mTypeError\u001b[0m                                 Traceback (most recent call last)",
            "\u001b[0;32m<ipython-input-44-12cc40f8e22b>\u001b[0m in \u001b[0;36m<module>\u001b[0;34m()\u001b[0m\n\u001b[0;32m----> 1\u001b[0;31m \u001b[0mret\u001b[0m \u001b[0;34m=\u001b[0m \u001b[0mfunc\u001b[0m\u001b[0;34m(\u001b[0m\u001b[0;34m{\u001b[0m\u001b[0;34m'a'\u001b[0m\u001b[0;34m:\u001b[0m \u001b[0;36m1\u001b[0m\u001b[0;34m,\u001b[0m \u001b[0;34m'b'\u001b[0m\u001b[0;34m:\u001b[0m \u001b[0;36m2\u001b[0m\u001b[0;34m,\u001b[0m \u001b[0;34m'c'\u001b[0m\u001b[0;34m:\u001b[0m \u001b[0;36m3\u001b[0m\u001b[0;34m}\u001b[0m\u001b[0;34m)\u001b[0m\u001b[0;34m\u001b[0m\u001b[0;34m\u001b[0m\u001b[0m\n\u001b[0m\u001b[1;32m      2\u001b[0m \u001b[0mprint\u001b[0m\u001b[0;34m(\u001b[0m\u001b[0mret\u001b[0m\u001b[0;34m)\u001b[0m\u001b[0;34m\u001b[0m\u001b[0;34m\u001b[0m\u001b[0m\n",
            "\u001b[0;31mTypeError\u001b[0m: func() takes 0 positional arguments but 1 was given"
          ]
        }
      ]
    },
    {
      "cell_type": "markdown",
      "metadata": {
        "id": "TkEwQnpCeQJK"
      },
      "source": [
        "“Явное лучше, чем неявное”, — Дзен Python.\n",
        "\n",
        "Использование `**kwargs` может сэкономить нам немного времени при написании первой строки объявления функции, однако зачастую код становится менее явным. То же справедливо и для `*args`.  Но при работе в среде совместного использования кода всегда стоит стремиться к ясному и понятному коду. Поэтому по возможности стоит избегать использования `*args` и `**kwargs` для написания более явно заданного кода.\n",
        "Однако, есть случаи, когда передача параметров подобным образом просто необходима. Например, если число параметров должно быть изменяемым - список параметров разной длины, либо использование в декораторах (их мы рассмотрим ниже), и т.д. В случае, если проще и понятнее использовать такие варианты передачи параметров, или это просто необходимо делать, смело их используйте.  "
      ]
    },
    {
      "cell_type": "markdown",
      "metadata": {
        "id": "-KLazauiRA4g"
      },
      "source": [
        "## Некорректное использование значений по умолчанию"
      ]
    },
    {
      "cell_type": "markdown",
      "metadata": {
        "id": "mpZRTgwdT9s4"
      },
      "source": [
        "Ситуация усложняется при написании функций, использующих значения по умолчанию с изменяемыми типами данных. В Python такие объекты, как списки, словари и наборы, могут быть изменены после создания, это и есть изменяемые типы данных. Рассмотрим следующий тривиальный пример использования значений по умолчанию с изменяемыми аргументами функции:"
      ]
    },
    {
      "cell_type": "code",
      "metadata": {
        "id": "XhKrTgnYUMnm"
      },
      "source": [
        "def append_value(value, values=[]):\n",
        "    values.append(value)\n",
        "    print(values)"
      ],
      "execution_count": null,
      "outputs": []
    },
    {
      "cell_type": "code",
      "metadata": {
        "colab": {
          "base_uri": "https://localhost:8080/"
        },
        "id": "o3pi8yPwUdUF",
        "outputId": "05f7b0fb-c6e6-40c1-85bd-e57201ce1d2b"
      },
      "source": [
        "def append_value(value, values=[]):\n",
        "    print(f'values before: {values}', end = ',')\n",
        "    values.append(value)\n",
        "    print(f'values after: {values} & id: {id(values)}')\n",
        "\n",
        "print(append_value.__defaults__)\n",
        "\n",
        "print(id(append_value.__defaults__[0]))\n",
        "\n",
        "append_value(95)\n",
        "\n",
        "append_value(98)"
      ],
      "execution_count": null,
      "outputs": [
        {
          "output_type": "stream",
          "text": [
            "([],)\n",
            "139676367704864\n",
            "values before: [],values after: [95] & id: 139676367704864\n",
            "values before: [95],values after: [95, 98] & id: 139676367704864\n"
          ],
          "name": "stdout"
        }
      ]
    },
    {
      "cell_type": "markdown",
      "metadata": {
        "id": "xDhmEbdUbWxV"
      },
      "source": [
        "Итого - объявление пустого списка в именованных аргументах не означает, что он будет каждый раз инициализироваться. Для инициализации будем присваивать ему None. "
      ]
    },
    {
      "cell_type": "code",
      "metadata": {
        "id": "uVmaBhHacdS7"
      },
      "source": [
        "def append_value(value, values=None):\n",
        "    if not values:\n",
        "        values = []\n",
        "    values.append(value)\n",
        "    print(values)"
      ],
      "execution_count": null,
      "outputs": []
    },
    {
      "cell_type": "code",
      "metadata": {
        "colab": {
          "base_uri": "https://localhost:8080/"
        },
        "id": "UfH4gROZcdTM",
        "outputId": "8434645a-7e11-4405-f57d-ef13718af01e"
      },
      "source": [
        "append_value(98)\n",
        "append_value(92, [100, 95])\n",
        "append_value(94)\n",
        "append_value(93, None)"
      ],
      "execution_count": null,
      "outputs": [
        {
          "output_type": "stream",
          "text": [
            "[98]\n",
            "[100, 95, 92]\n",
            "[94]\n",
            "[93]\n"
          ],
          "name": "stdout"
        }
      ]
    },
    {
      "cell_type": "markdown",
      "metadata": {
        "id": "RQ1CkMvD__fQ"
      },
      "source": [
        "## Области видимости переменных\n",
        "\n",
        "Переменные, определенные внутри тела функции, называются локальными. Тело функции образует локальную область видимости переменных. К таким переменным нельзя обратиться извне функции.\n",
        "\n",
        "Переменные, определенные вне функций, называются глобальными. Они доступны внутри функций, однако если внутри функции определена локальная переменная с таким же именем, то глобальная переменная станет недоступной из функции (она будет \"экранироваться\" одноименной локальной переменной). При этом, вне функции будет задано всё то же значение, что и было до этого."
      ]
    },
    {
      "cell_type": "code",
      "metadata": {
        "id": "4GhANWO_nlaZ"
      },
      "source": [
        "a = 10\n",
        "b = 5\n",
        "def new_func():\n",
        "    x2 = a + b \n",
        "    x1 = 15\n",
        "    print(x2)"
      ],
      "execution_count": null,
      "outputs": []
    },
    {
      "cell_type": "code",
      "metadata": {
        "colab": {
          "base_uri": "https://localhost:8080/",
          "height": 163
        },
        "id": "WK5m51cY14NK",
        "outputId": "0d489d9d-9513-4b14-9ed4-21bd7aea262c"
      },
      "source": [
        "print(x1)"
      ],
      "execution_count": null,
      "outputs": [
        {
          "output_type": "error",
          "ename": "NameError",
          "evalue": "ignored",
          "traceback": [
            "\u001b[0;31m---------------------------------------------------------------------------\u001b[0m",
            "\u001b[0;31mNameError\u001b[0m                                 Traceback (most recent call last)",
            "\u001b[0;32m<ipython-input-50-1fdd22afb09e>\u001b[0m in \u001b[0;36m<module>\u001b[0;34m()\u001b[0m\n\u001b[0;32m----> 1\u001b[0;31m \u001b[0mprint\u001b[0m\u001b[0;34m(\u001b[0m\u001b[0mx1\u001b[0m\u001b[0;34m)\u001b[0m\u001b[0;34m\u001b[0m\u001b[0;34m\u001b[0m\u001b[0m\n\u001b[0m",
            "\u001b[0;31mNameError\u001b[0m: name 'x1' is not defined"
          ]
        }
      ]
    },
    {
      "cell_type": "code",
      "metadata": {
        "colab": {
          "base_uri": "https://localhost:8080/"
        },
        "id": "X3kRgXX2n468",
        "outputId": "ff897d1f-c042-4f42-9999-c4861b5445f3"
      },
      "source": [
        "new_func()"
      ],
      "execution_count": null,
      "outputs": [
        {
          "output_type": "stream",
          "text": [
            "15\n"
          ],
          "name": "stdout"
        }
      ]
    },
    {
      "cell_type": "markdown",
      "metadata": {
        "id": "kIr2hLT2py3n"
      },
      "source": [
        "Доступность внешней переменной для записи"
      ]
    },
    {
      "cell_type": "code",
      "metadata": {
        "id": "CljJ8XgGHLi4"
      },
      "source": [
        "x = 10\n",
        "def new_func():\n",
        "    x += 1 \n",
        "    print(x)\n",
        "    return x"
      ],
      "execution_count": null,
      "outputs": []
    },
    {
      "cell_type": "code",
      "metadata": {
        "colab": {
          "base_uri": "https://localhost:8080/",
          "height": 282
        },
        "id": "DCiI309UJYw-",
        "outputId": "43b7d7fc-d261-4e38-fc30-9354f513726c"
      },
      "source": [
        "new_func()"
      ],
      "execution_count": null,
      "outputs": [
        {
          "output_type": "error",
          "ename": "UnboundLocalError",
          "evalue": "ignored",
          "traceback": [
            "\u001b[0;31m---------------------------------------------------------------------------\u001b[0m",
            "\u001b[0;31mUnboundLocalError\u001b[0m                         Traceback (most recent call last)",
            "\u001b[0;32m<ipython-input-53-d5d1fe606cff>\u001b[0m in \u001b[0;36m<module>\u001b[0;34m()\u001b[0m\n\u001b[0;32m----> 1\u001b[0;31m \u001b[0mnew_func\u001b[0m\u001b[0;34m(\u001b[0m\u001b[0;34m)\u001b[0m\u001b[0;34m\u001b[0m\u001b[0;34m\u001b[0m\u001b[0m\n\u001b[0m",
            "\u001b[0;32m<ipython-input-52-27fd7d77e61a>\u001b[0m in \u001b[0;36mnew_func\u001b[0;34m()\u001b[0m\n\u001b[1;32m      1\u001b[0m \u001b[0mx\u001b[0m \u001b[0;34m=\u001b[0m \u001b[0;36m10\u001b[0m\u001b[0;34m\u001b[0m\u001b[0;34m\u001b[0m\u001b[0m\n\u001b[1;32m      2\u001b[0m \u001b[0;32mdef\u001b[0m \u001b[0mnew_func\u001b[0m\u001b[0;34m(\u001b[0m\u001b[0;34m)\u001b[0m\u001b[0;34m:\u001b[0m\u001b[0;34m\u001b[0m\u001b[0;34m\u001b[0m\u001b[0m\n\u001b[0;32m----> 3\u001b[0;31m     \u001b[0mx\u001b[0m \u001b[0;34m+=\u001b[0m \u001b[0;36m1\u001b[0m\u001b[0;34m\u001b[0m\u001b[0;34m\u001b[0m\u001b[0m\n\u001b[0m\u001b[1;32m      4\u001b[0m     \u001b[0mprint\u001b[0m\u001b[0;34m(\u001b[0m\u001b[0mx\u001b[0m\u001b[0;34m)\u001b[0m\u001b[0;34m\u001b[0m\u001b[0;34m\u001b[0m\u001b[0m\n\u001b[1;32m      5\u001b[0m     \u001b[0;32mreturn\u001b[0m \u001b[0mx\u001b[0m\u001b[0;34m\u001b[0m\u001b[0;34m\u001b[0m\u001b[0m\n",
            "\u001b[0;31mUnboundLocalError\u001b[0m: local variable 'x' referenced before assignment"
          ]
        }
      ]
    },
    {
      "cell_type": "code",
      "metadata": {
        "id": "zZJ_vylPp8NC"
      },
      "source": [
        "x = 10\n",
        "def new_func():\n",
        "    x = x + 1 \n",
        "    print(x)\n",
        "    return x"
      ],
      "execution_count": null,
      "outputs": []
    },
    {
      "cell_type": "code",
      "metadata": {
        "colab": {
          "base_uri": "https://localhost:8080/",
          "height": 282
        },
        "id": "hL-x6lz4p8NQ",
        "outputId": "90815c81-b7d7-4f3f-f881-a6c987fbe137"
      },
      "source": [
        "new_func()"
      ],
      "execution_count": null,
      "outputs": [
        {
          "output_type": "error",
          "ename": "UnboundLocalError",
          "evalue": "ignored",
          "traceback": [
            "\u001b[0;31m---------------------------------------------------------------------------\u001b[0m",
            "\u001b[0;31mUnboundLocalError\u001b[0m                         Traceback (most recent call last)",
            "\u001b[0;32m<ipython-input-55-d5d1fe606cff>\u001b[0m in \u001b[0;36m<module>\u001b[0;34m()\u001b[0m\n\u001b[0;32m----> 1\u001b[0;31m \u001b[0mnew_func\u001b[0m\u001b[0;34m(\u001b[0m\u001b[0;34m)\u001b[0m\u001b[0;34m\u001b[0m\u001b[0;34m\u001b[0m\u001b[0m\n\u001b[0m",
            "\u001b[0;32m<ipython-input-54-6b6c903a8cb2>\u001b[0m in \u001b[0;36mnew_func\u001b[0;34m()\u001b[0m\n\u001b[1;32m      1\u001b[0m \u001b[0mx\u001b[0m \u001b[0;34m=\u001b[0m \u001b[0;36m10\u001b[0m\u001b[0;34m\u001b[0m\u001b[0;34m\u001b[0m\u001b[0m\n\u001b[1;32m      2\u001b[0m \u001b[0;32mdef\u001b[0m \u001b[0mnew_func\u001b[0m\u001b[0;34m(\u001b[0m\u001b[0;34m)\u001b[0m\u001b[0;34m:\u001b[0m\u001b[0;34m\u001b[0m\u001b[0;34m\u001b[0m\u001b[0m\n\u001b[0;32m----> 3\u001b[0;31m     \u001b[0mx\u001b[0m \u001b[0;34m=\u001b[0m \u001b[0mx\u001b[0m \u001b[0;34m+\u001b[0m \u001b[0;36m1\u001b[0m\u001b[0;34m\u001b[0m\u001b[0;34m\u001b[0m\u001b[0m\n\u001b[0m\u001b[1;32m      4\u001b[0m     \u001b[0mprint\u001b[0m\u001b[0;34m(\u001b[0m\u001b[0mx\u001b[0m\u001b[0;34m)\u001b[0m\u001b[0;34m\u001b[0m\u001b[0;34m\u001b[0m\u001b[0m\n\u001b[1;32m      5\u001b[0m     \u001b[0;32mreturn\u001b[0m \u001b[0mx\u001b[0m\u001b[0;34m\u001b[0m\u001b[0;34m\u001b[0m\u001b[0m\n",
            "\u001b[0;31mUnboundLocalError\u001b[0m: local variable 'x' referenced before assignment"
          ]
        }
      ]
    },
    {
      "cell_type": "markdown",
      "metadata": {
        "id": "0q1UWFMjVcJY"
      },
      "source": [
        "что меняет в видимости использование global"
      ]
    },
    {
      "cell_type": "code",
      "metadata": {
        "colab": {
          "base_uri": "https://localhost:8080/",
          "height": 316
        },
        "id": "UhITp5KyoA3v",
        "outputId": "f7b75d7c-2d14-4762-c6ac-f8ac7e9f55d1"
      },
      "source": [
        "global x\n",
        "x = 10\n",
        "new_func()"
      ],
      "execution_count": null,
      "outputs": [
        {
          "output_type": "error",
          "ename": "UnboundLocalError",
          "evalue": "ignored",
          "traceback": [
            "\u001b[0;31m---------------------------------------------------------------------------\u001b[0m",
            "\u001b[0;31mUnboundLocalError\u001b[0m                         Traceback (most recent call last)",
            "\u001b[0;32m<ipython-input-56-1f31c39ff77e>\u001b[0m in \u001b[0;36m<module>\u001b[0;34m()\u001b[0m\n\u001b[1;32m      1\u001b[0m \u001b[0;32mglobal\u001b[0m \u001b[0mx\u001b[0m\u001b[0;34m\u001b[0m\u001b[0;34m\u001b[0m\u001b[0m\n\u001b[1;32m      2\u001b[0m \u001b[0mx\u001b[0m \u001b[0;34m=\u001b[0m \u001b[0;36m10\u001b[0m\u001b[0;34m\u001b[0m\u001b[0;34m\u001b[0m\u001b[0m\n\u001b[0;32m----> 3\u001b[0;31m \u001b[0mnew_func\u001b[0m\u001b[0;34m(\u001b[0m\u001b[0;34m)\u001b[0m\u001b[0;34m\u001b[0m\u001b[0;34m\u001b[0m\u001b[0m\n\u001b[0m",
            "\u001b[0;32m<ipython-input-54-6b6c903a8cb2>\u001b[0m in \u001b[0;36mnew_func\u001b[0;34m()\u001b[0m\n\u001b[1;32m      1\u001b[0m \u001b[0mx\u001b[0m \u001b[0;34m=\u001b[0m \u001b[0;36m10\u001b[0m\u001b[0;34m\u001b[0m\u001b[0;34m\u001b[0m\u001b[0m\n\u001b[1;32m      2\u001b[0m \u001b[0;32mdef\u001b[0m \u001b[0mnew_func\u001b[0m\u001b[0;34m(\u001b[0m\u001b[0;34m)\u001b[0m\u001b[0;34m:\u001b[0m\u001b[0;34m\u001b[0m\u001b[0;34m\u001b[0m\u001b[0m\n\u001b[0;32m----> 3\u001b[0;31m     \u001b[0mx\u001b[0m \u001b[0;34m=\u001b[0m \u001b[0mx\u001b[0m \u001b[0;34m+\u001b[0m \u001b[0;36m1\u001b[0m\u001b[0;34m\u001b[0m\u001b[0;34m\u001b[0m\u001b[0m\n\u001b[0m\u001b[1;32m      4\u001b[0m     \u001b[0mprint\u001b[0m\u001b[0;34m(\u001b[0m\u001b[0mx\u001b[0m\u001b[0;34m)\u001b[0m\u001b[0;34m\u001b[0m\u001b[0;34m\u001b[0m\u001b[0m\n\u001b[1;32m      5\u001b[0m     \u001b[0;32mreturn\u001b[0m \u001b[0mx\u001b[0m\u001b[0;34m\u001b[0m\u001b[0;34m\u001b[0m\u001b[0m\n",
            "\u001b[0;31mUnboundLocalError\u001b[0m: local variable 'x' referenced before assignment"
          ]
        }
      ]
    },
    {
      "cell_type": "code",
      "metadata": {
        "id": "FRg2FKCLqRPx"
      },
      "source": [
        "x = 10\n",
        "y = 5\n",
        "def new_func():\n",
        "    x = y + 1 \n",
        "    print(x)\n",
        "    return x"
      ],
      "execution_count": null,
      "outputs": []
    },
    {
      "cell_type": "code",
      "metadata": {
        "colab": {
          "base_uri": "https://localhost:8080/"
        },
        "id": "xu6crp_SqRPy",
        "outputId": "d048db85-0414-43ee-9904-df6305aa8f6c"
      },
      "source": [
        "print(new_func())\n",
        "print(x)"
      ],
      "execution_count": null,
      "outputs": [
        {
          "output_type": "stream",
          "text": [
            "6\n",
            "6\n",
            "10\n"
          ],
          "name": "stdout"
        }
      ]
    },
    {
      "cell_type": "code",
      "metadata": {
        "id": "ojF0lcBTWSCG"
      },
      "source": [
        "def new_func():\n",
        "    y = 10\n",
        "    y += 1\n",
        "    print(y)"
      ],
      "execution_count": null,
      "outputs": []
    },
    {
      "cell_type": "code",
      "metadata": {
        "colab": {
          "base_uri": "https://localhost:8080/"
        },
        "id": "WCFP0SMYiI12",
        "outputId": "c07e7b40-dbd6-41d0-f182-3983e8accd3e"
      },
      "source": [
        "new_func()"
      ],
      "execution_count": null,
      "outputs": [
        {
          "output_type": "stream",
          "text": [
            "11\n"
          ],
          "name": "stdout"
        }
      ]
    },
    {
      "cell_type": "code",
      "metadata": {
        "colab": {
          "base_uri": "https://localhost:8080/"
        },
        "id": "E6x11ONr4c-m",
        "outputId": "12291789-9efe-4827-bcdf-9dc8aa50c75b"
      },
      "source": [
        "def new_func3():\n",
        "    new_func()\n",
        "    print(y)\n",
        "\n",
        "new_func3()"
      ],
      "execution_count": null,
      "outputs": [
        {
          "output_type": "stream",
          "text": [
            "11\n",
            "5\n"
          ],
          "name": "stdout"
        }
      ]
    },
    {
      "cell_type": "code",
      "metadata": {
        "id": "wRpwdCujo4kq"
      },
      "source": [
        "def new_func():\n",
        "    global y\n",
        "    y = 7\n",
        "    y += 1\n",
        "    print(y)"
      ],
      "execution_count": null,
      "outputs": []
    },
    {
      "cell_type": "code",
      "metadata": {
        "colab": {
          "base_uri": "https://localhost:8080/"
        },
        "id": "zZt9EhRUpLdV",
        "outputId": "151ee859-5e91-44fa-cd39-0472417cdea0"
      },
      "source": [
        "new_func()\n",
        "print(y)"
      ],
      "execution_count": null,
      "outputs": [
        {
          "output_type": "stream",
          "text": [
            "8\n",
            "8\n"
          ],
          "name": "stdout"
        }
      ]
    },
    {
      "cell_type": "code",
      "metadata": {
        "colab": {
          "base_uri": "https://localhost:8080/",
          "height": 299
        },
        "id": "o5SFmSvZ4CKP",
        "outputId": "ef84278c-7a65-4b64-cebf-c1cf6d667d4b"
      },
      "source": [
        "def new_func2():\n",
        "    y += 1\n",
        "    print(y)\n",
        "new_func2()"
      ],
      "execution_count": null,
      "outputs": [
        {
          "output_type": "error",
          "ename": "UnboundLocalError",
          "evalue": "ignored",
          "traceback": [
            "\u001b[0;31m---------------------------------------------------------------------------\u001b[0m",
            "\u001b[0;31mUnboundLocalError\u001b[0m                         Traceback (most recent call last)",
            "\u001b[0;32m<ipython-input-64-af3e3cd508f0>\u001b[0m in \u001b[0;36m<module>\u001b[0;34m()\u001b[0m\n\u001b[1;32m      2\u001b[0m     \u001b[0my\u001b[0m \u001b[0;34m+=\u001b[0m \u001b[0;36m1\u001b[0m\u001b[0;34m\u001b[0m\u001b[0;34m\u001b[0m\u001b[0m\n\u001b[1;32m      3\u001b[0m     \u001b[0mprint\u001b[0m\u001b[0;34m(\u001b[0m\u001b[0my\u001b[0m\u001b[0;34m)\u001b[0m\u001b[0;34m\u001b[0m\u001b[0;34m\u001b[0m\u001b[0m\n\u001b[0;32m----> 4\u001b[0;31m \u001b[0mnew_func2\u001b[0m\u001b[0;34m(\u001b[0m\u001b[0;34m)\u001b[0m\u001b[0;34m\u001b[0m\u001b[0;34m\u001b[0m\u001b[0m\n\u001b[0m",
            "\u001b[0;32m<ipython-input-64-af3e3cd508f0>\u001b[0m in \u001b[0;36mnew_func2\u001b[0;34m()\u001b[0m\n\u001b[1;32m      1\u001b[0m \u001b[0;32mdef\u001b[0m \u001b[0mnew_func2\u001b[0m\u001b[0;34m(\u001b[0m\u001b[0;34m)\u001b[0m\u001b[0;34m:\u001b[0m\u001b[0;34m\u001b[0m\u001b[0;34m\u001b[0m\u001b[0m\n\u001b[0;32m----> 2\u001b[0;31m     \u001b[0my\u001b[0m \u001b[0;34m+=\u001b[0m \u001b[0;36m1\u001b[0m\u001b[0;34m\u001b[0m\u001b[0;34m\u001b[0m\u001b[0m\n\u001b[0m\u001b[1;32m      3\u001b[0m     \u001b[0mprint\u001b[0m\u001b[0;34m(\u001b[0m\u001b[0my\u001b[0m\u001b[0;34m)\u001b[0m\u001b[0;34m\u001b[0m\u001b[0;34m\u001b[0m\u001b[0m\n\u001b[1;32m      4\u001b[0m \u001b[0mnew_func2\u001b[0m\u001b[0;34m(\u001b[0m\u001b[0;34m)\u001b[0m\u001b[0;34m\u001b[0m\u001b[0;34m\u001b[0m\u001b[0m\n",
            "\u001b[0;31mUnboundLocalError\u001b[0m: local variable 'y' referenced before assignment"
          ]
        }
      ]
    },
    {
      "cell_type": "markdown",
      "metadata": {
        "id": "9BALRzjYpV_1"
      },
      "source": [
        "Переопределение значения переменной"
      ]
    },
    {
      "cell_type": "code",
      "metadata": {
        "colab": {
          "base_uri": "https://localhost:8080/"
        },
        "id": "nd-_ZdSqBQPl",
        "outputId": "36d6f338-7234-4ce0-ce73-abc9f4403600"
      },
      "source": [
        "a = None\n",
        "b = 2\n",
        "x = 10\n",
        "def some_function(x):\n",
        "    b = x\n",
        "    print('a =', a)\n",
        "    print('b =', b)\n",
        "    print('x =', x)\n",
        "\n",
        "some_function(3)\n"
      ],
      "execution_count": null,
      "outputs": [
        {
          "output_type": "stream",
          "text": [
            "a = None\n",
            "b = 3\n",
            "x = 3\n"
          ],
          "name": "stdout"
        }
      ]
    },
    {
      "cell_type": "markdown",
      "metadata": {
        "id": "69NPoQ6HB4fi"
      },
      "source": [
        "В этом примере `a`, `b`, `x` - глобальные переменные, в принципе доступные внутри функции, однако переменная `b` перекрывается локально определенной переменной `b`, а `x` перекрывается формальным параметром функции. "
      ]
    },
    {
      "cell_type": "markdown",
      "metadata": {
        "id": "HZUfg4gJ1NF5"
      },
      "source": [
        "## Область видимости вложенных функций"
      ]
    },
    {
      "cell_type": "markdown",
      "metadata": {
        "id": "7fdBM7-W1Yl-"
      },
      "source": [
        "Допустим, у нас есть функция my_func(). Внутри неё объявили функцию my_inner_func(). Относительно my_inner_func() все переменные, объявленные в my_func(), будут относиться к области объемлющих функций, то есть не локальны - лежат в другом ящике:"
      ]
    },
    {
      "cell_type": "code",
      "metadata": {
        "id": "1xy4H2aIXTxM"
      },
      "source": [
        "def  my_func():\n",
        "    a = 'pepper'\n",
        "    b = 'delicious'\n",
        "\n",
        "    def my_inner_func():\n",
        "        a = a + ' ' + b\n",
        "        return a\n",
        "\n",
        "    return my_inner_func()"
      ],
      "execution_count": null,
      "outputs": []
    },
    {
      "cell_type": "code",
      "metadata": {
        "colab": {
          "base_uri": "https://localhost:8080/",
          "height": 306
        },
        "id": "wLPmlKFoXTxN",
        "outputId": "f0d81167-39a3-40c6-e9b9-8bfabe6d3f24"
      },
      "source": [
        "print(my_func())"
      ],
      "execution_count": null,
      "outputs": [
        {
          "output_type": "error",
          "ename": "UnboundLocalError",
          "evalue": "ignored",
          "traceback": [
            "\u001b[0;31m---------------------------------------------------------------------------\u001b[0m",
            "\u001b[0;31mUnboundLocalError\u001b[0m                         Traceback (most recent call last)",
            "\u001b[0;32m<ipython-input-67-5ed37b9b85a0>\u001b[0m in \u001b[0;36m<module>\u001b[0;34m()\u001b[0m\n\u001b[0;32m----> 1\u001b[0;31m \u001b[0mprint\u001b[0m\u001b[0;34m(\u001b[0m\u001b[0mmy_func\u001b[0m\u001b[0;34m(\u001b[0m\u001b[0;34m)\u001b[0m\u001b[0;34m)\u001b[0m\u001b[0;34m\u001b[0m\u001b[0;34m\u001b[0m\u001b[0m\n\u001b[0m",
            "\u001b[0;32m<ipython-input-66-695f0ae8becb>\u001b[0m in \u001b[0;36mmy_func\u001b[0;34m()\u001b[0m\n\u001b[1;32m      7\u001b[0m         \u001b[0;32mreturn\u001b[0m \u001b[0ma\u001b[0m\u001b[0;34m\u001b[0m\u001b[0;34m\u001b[0m\u001b[0m\n\u001b[1;32m      8\u001b[0m \u001b[0;34m\u001b[0m\u001b[0m\n\u001b[0;32m----> 9\u001b[0;31m     \u001b[0;32mreturn\u001b[0m \u001b[0mmy_inner_func\u001b[0m\u001b[0;34m(\u001b[0m\u001b[0;34m)\u001b[0m\u001b[0;34m\u001b[0m\u001b[0;34m\u001b[0m\u001b[0m\n\u001b[0m",
            "\u001b[0;32m<ipython-input-66-695f0ae8becb>\u001b[0m in \u001b[0;36mmy_inner_func\u001b[0;34m()\u001b[0m\n\u001b[1;32m      4\u001b[0m \u001b[0;34m\u001b[0m\u001b[0m\n\u001b[1;32m      5\u001b[0m     \u001b[0;32mdef\u001b[0m \u001b[0mmy_inner_func\u001b[0m\u001b[0;34m(\u001b[0m\u001b[0;34m)\u001b[0m\u001b[0;34m:\u001b[0m\u001b[0;34m\u001b[0m\u001b[0;34m\u001b[0m\u001b[0m\n\u001b[0;32m----> 6\u001b[0;31m         \u001b[0ma\u001b[0m \u001b[0;34m=\u001b[0m \u001b[0ma\u001b[0m \u001b[0;34m+\u001b[0m \u001b[0;34m' '\u001b[0m \u001b[0;34m+\u001b[0m \u001b[0mb\u001b[0m\u001b[0;34m\u001b[0m\u001b[0;34m\u001b[0m\u001b[0m\n\u001b[0m\u001b[1;32m      7\u001b[0m         \u001b[0;32mreturn\u001b[0m \u001b[0ma\u001b[0m\u001b[0;34m\u001b[0m\u001b[0;34m\u001b[0m\u001b[0m\n\u001b[1;32m      8\u001b[0m \u001b[0;34m\u001b[0m\u001b[0m\n",
            "\u001b[0;31mUnboundLocalError\u001b[0m: local variable 'a' referenced before assignment"
          ]
        }
      ]
    },
    {
      "cell_type": "markdown",
      "metadata": {
        "id": "IZzvs2kZXLcd"
      },
      "source": [
        "Чтобы их значния прочитать, нужно использовать ключевое слово `nonlocal`:"
      ]
    },
    {
      "cell_type": "code",
      "metadata": {
        "id": "eI1Oiang2i3c"
      },
      "source": [
        "def  my_func():\n",
        "    a = 'pepper'\n",
        "    b = 'delicious'\n",
        "\n",
        "    def my_inner_func():\n",
        "        nonlocal a, b\n",
        "        a = a + ' ' + b\n",
        "        return a\n",
        "\n",
        "    return my_inner_func()"
      ],
      "execution_count": null,
      "outputs": []
    },
    {
      "cell_type": "code",
      "metadata": {
        "colab": {
          "base_uri": "https://localhost:8080/"
        },
        "id": "Ik8ECdJw3Pde",
        "outputId": "89aaf3aa-f380-42dc-8d10-4ea88e8d9aed"
      },
      "source": [
        "print(my_func())"
      ],
      "execution_count": null,
      "outputs": [
        {
          "output_type": "stream",
          "text": [
            "pepper delicious\n"
          ],
          "name": "stdout"
        }
      ]
    },
    {
      "cell_type": "markdown",
      "metadata": {
        "id": "yEOLwgYv2u2t"
      },
      "source": [
        "#### Выводы: \n",
        "1. Переменные внутри функции находятся как в отдельной коробке, они закрыты для остального кода. Их можно вывести из этой закрытой области только специальными приёмами - либо через return, либо объявив глобальными, либо воспользоваться другими функциями или специальным ключевым словом. \n",
        "2. Переменные из основного кода программы открыты для функции, за исключением случаев,когда они переопределяются, и тут уже не помогает даже объявление их глобальными. Правильнее использовать Дзен Python - нужно введение их через аргументы, либо внести с вводом внутрь функции другой функции, в которой этот аргумент уже есть.\n",
        "\n",
        "Примечание: использования `global`, `nonlocal` или подобных конструкций считается среди программистов неправильным, т.к. ухудшает прозрачность кода и может привести к сбоям. К тому же, параметры, объявленные таким способом, становятся доступны для чтения в других частях кода, но не для изменения. Рекомендуем использовать либо прямую подачу переменных в функцию через параметры, либо иные логичные и понятные способы передачи. "
      ]
    },
    {
      "cell_type": "markdown",
      "metadata": {
        "id": "ESIVULCXf2Ce"
      },
      "source": [
        "## Замыкания\n",
        "\n",
        "рассмотрим простейший пример функции-замыкания (`closure`):"
      ]
    },
    {
      "cell_type": "code",
      "metadata": {
        "id": "PoOtXp9TgPE7"
      },
      "source": [
        "def make_func(): # функция, возвращающая замыкание\n",
        "    a = 1\n",
        "    def func(): # функция-замыкание\n",
        "        return a\n",
        "\n",
        "    return func"
      ],
      "execution_count": null,
      "outputs": []
    },
    {
      "cell_type": "markdown",
      "metadata": {
        "id": "FTxDeuvJgi_G"
      },
      "source": [
        "В этом примере функция `make_func()` возвращает другую функцию `func()`\n",
        "Посмотрим как будет вести себя функция `func()`:\n"
      ]
    },
    {
      "cell_type": "code",
      "metadata": {
        "id": "Lh8Do1xTgPRc",
        "colab": {
          "base_uri": "https://localhost:8080/"
        },
        "outputId": "3b3961c9-6b67-4a38-e959-b84867342297"
      },
      "source": [
        "a = 10\n",
        "f = make_func()\n",
        "f()"
      ],
      "execution_count": null,
      "outputs": [
        {
          "output_type": "execute_result",
          "data": {
            "text/plain": [
              "1"
            ]
          },
          "metadata": {
            "tags": []
          },
          "execution_count": 71
        }
      ]
    },
    {
      "cell_type": "markdown",
      "metadata": {
        "id": "KKS0mR4phKcF"
      },
      "source": [
        "Функция вернула значение 1 - то самое, что было присвоено переменной a в функции `make_func()`. То, что перед вызовом мы присвоили значение другой переменной с именем `a` никак не повлияло на работу функции `f()`. Функция запомнила то значение `a`, которое было в момент ее создания. \n",
        "\n",
        "Мы видим, что поведение функций, созданных таким образом, зависит от \"контекста\", в котором была создана функция. В нашем случае контекст - это переменная `a`. \n",
        "\n",
        "Такие функции вместе со своими контекстами называются *замыканиями* (английский термин - closure). Переменные контекста можно рассматривать как неизменяемые параметры функции (Неизменяемые в том смысле, что мы не можем их менять при вызове замыкания). Важно понимать, в какой момент фиксируются переменные контекста.\n",
        "\n",
        "Немного усложним пример. Пусть `make_func()` будет возвращать 2 функции-замыкания:"
      ]
    },
    {
      "cell_type": "code",
      "metadata": {
        "id": "7_nb3EGCgPWt"
      },
      "source": [
        "def make_func():\n",
        "    a = 1\n",
        "    def func1():\n",
        "        return a\n",
        "    a = 2\n",
        "    def func2():\n",
        "        return a\n",
        "    a = 3\n",
        "\n",
        "    return func1, func2"
      ],
      "execution_count": null,
      "outputs": []
    },
    {
      "cell_type": "markdown",
      "metadata": {
        "id": "-gFKbqoqjGAI"
      },
      "source": [
        "Создадим 2 этих замыкания:"
      ]
    },
    {
      "cell_type": "code",
      "metadata": {
        "id": "DUXTes3ngPc4",
        "colab": {
          "base_uri": "https://localhost:8080/"
        },
        "outputId": "68391de3-1c09-48ad-9e05-ab1763c524f2"
      },
      "source": [
        "f1, f2 = make_func()\n",
        "f1(), f2()"
      ],
      "execution_count": null,
      "outputs": [
        {
          "output_type": "execute_result",
          "data": {
            "text/plain": [
              "(3, 3)"
            ]
          },
          "metadata": {
            "tags": []
          },
          "execution_count": 73
        }
      ]
    },
    {
      "cell_type": "markdown",
      "metadata": {
        "id": "mLQgqyxujybP"
      },
      "source": [
        "Обе функции вернули одно и то же значение 3, которое было в переменной `a` в *момент возврата* замыканий оператором `return`. О таком поведении говорят как о *позднем связывании*. Другими словами, замыкания используют не те значения внешних переменных, которые были на момент определения замыканий, (это было бы *ранним связыванием*), а последние значения - на момент возврата замыканий порождающей функцией.\n",
        "\n",
        "Позднее связывание получается, как если бы компилятор опускал все определения функций-замыканий в самый конец порождающей функции, перед оператором `return`."
      ]
    },
    {
      "cell_type": "markdown",
      "metadata": {
        "id": "fM9BUwdjL1yG"
      },
      "source": [
        "# Другие виды используемых функций, генераторы"
      ]
    },
    {
      "cell_type": "markdown",
      "metadata": {
        "id": "FKuJJezC4LS2"
      },
      "source": [
        "## Анонимные функции, lambda\n",
        "\n",
        "Функции можно создавать с помощью инструкции lambda, если результат можно записать одним выражением. \n",
        "\n",
        "Синтаксис:\n",
        "\n",
        "```\n",
        "lambda <список формальных параметров> : <выражение>\n",
        "```\n",
        "\n",
        "Пример:"
      ]
    },
    {
      "cell_type": "code",
      "metadata": {
        "id": "D-ubO2R-7hp8",
        "colab": {
          "base_uri": "https://localhost:8080/"
        },
        "outputId": "5f7d09bc-e55a-4053-ea22-f74dc2f99fd3"
      },
      "source": [
        "# обычное определение функции\n",
        "def func(x, y):\n",
        "    return x**2 + y**2\n",
        "\n",
        "func(3, 4)"
      ],
      "execution_count": null,
      "outputs": [
        {
          "output_type": "execute_result",
          "data": {
            "text/plain": [
              "25"
            ]
          },
          "metadata": {
            "tags": []
          },
          "execution_count": 74
        }
      ]
    },
    {
      "cell_type": "code",
      "metadata": {
        "colab": {
          "base_uri": "https://localhost:8080/"
        },
        "id": "-hN9hyQ9cZNH",
        "outputId": "f3d84e26-d9aa-45c9-be39-ced31039205d"
      },
      "source": [
        "type(func)"
      ],
      "execution_count": null,
      "outputs": [
        {
          "output_type": "execute_result",
          "data": {
            "text/plain": [
              "function"
            ]
          },
          "metadata": {
            "tags": []
          },
          "execution_count": 75
        }
      ]
    },
    {
      "cell_type": "markdown",
      "metadata": {
        "id": "dkeoEm-O7pxY"
      },
      "source": [
        "Эту же функцию можно определить с помощью конструкции `lambda`:"
      ]
    },
    {
      "cell_type": "code",
      "metadata": {
        "colab": {
          "base_uri": "https://localhost:8080/"
        },
        "id": "YMrnMa3u2dgb",
        "outputId": "e588001e-75c6-48c3-ea89-dd81f3db3b8e"
      },
      "source": [
        "func = lambda x, y: x**2 + y**2\n",
        "\n",
        "func(3, 4)"
      ],
      "execution_count": null,
      "outputs": [
        {
          "output_type": "execute_result",
          "data": {
            "text/plain": [
              "25"
            ]
          },
          "metadata": {
            "tags": []
          },
          "execution_count": 76
        }
      ]
    },
    {
      "cell_type": "code",
      "metadata": {
        "colab": {
          "base_uri": "https://localhost:8080/"
        },
        "id": "F02NCwIQcOsV",
        "outputId": "608aafe8-811f-4b11-a80e-a920329270fb"
      },
      "source": [
        "type(func)"
      ],
      "execution_count": null,
      "outputs": [
        {
          "output_type": "execute_result",
          "data": {
            "text/plain": [
              "function"
            ]
          },
          "metadata": {
            "tags": []
          },
          "execution_count": 77
        }
      ]
    },
    {
      "cell_type": "markdown",
      "metadata": {
        "id": "8yLWi0A65u8N"
      },
      "source": [
        "Созданные таким образом функции не обязательно присваивать переменной. В таком случае говорят что функция анонимная (не имеет имени)\n",
        "\n",
        "Пример использования анонимной функции:"
      ]
    },
    {
      "cell_type": "code",
      "metadata": {
        "colab": {
          "base_uri": "https://localhost:8080/"
        },
        "id": "1Ox88MC_5hnU",
        "outputId": "2b0f3027-0429-43b7-89ab-07b07c4ba7d7"
      },
      "source": [
        "(lambda x, y, z: x + y + z)(10, 20, 30)"
      ],
      "execution_count": null,
      "outputs": [
        {
          "output_type": "execute_result",
          "data": {
            "text/plain": [
              "60"
            ]
          },
          "metadata": {
            "tags": []
          },
          "execution_count": 78
        }
      ]
    },
    {
      "cell_type": "markdown",
      "metadata": {
        "id": "jeM1jkHe6waQ"
      },
      "source": [
        "## Декораторы\n",
        "\n",
        "Декораторы - это функции, возвращающие функции-обертки (wrappers), оборачивающие другие функции.\n",
        "Рассмотрим пример:\n"
      ]
    },
    {
      "cell_type": "code",
      "metadata": {
        "id": "b6wY39Ux7GsN"
      },
      "source": [
        "# функция-декоратор my_decorator() возвращает функцию-обертку wrapper()\n",
        "def my_decorator(func_to_be_decorated):\n",
        "    def wrapper(message):\n",
        "        before, after  = '<', '>'\n",
        "        print(before, end='')\n",
        "        print(func_to_be_decorated(message).upper(), end='')\n",
        "        print(after)\n",
        "        return \n",
        "    \n",
        "    return wrapper\n"
      ],
      "execution_count": null,
      "outputs": []
    },
    {
      "cell_type": "markdown",
      "metadata": {
        "id": "CyWW-l6rGFwf"
      },
      "source": [
        "Наша функция-декоратор возвращает функцию-обертку, которая переводит вывод декорируемой функции в верхний регистр и печатает его, добавив в начало и конец угловые скобки\n",
        "\n",
        "Определим декорируемую функцию"
      ]
    },
    {
      "cell_type": "code",
      "metadata": {
        "id": "f7J87UBe7GxO"
      },
      "source": [
        "def func(message):\n",
        "    return message"
      ],
      "execution_count": null,
      "outputs": []
    },
    {
      "cell_type": "markdown",
      "metadata": {
        "id": "hhOCHKsCG9TR"
      },
      "source": [
        "Применим декоратор:"
      ]
    },
    {
      "cell_type": "code",
      "metadata": {
        "colab": {
          "base_uri": "https://localhost:8080/"
        },
        "id": "djmISrvf7G4W",
        "outputId": "6b74980d-1604-4dfd-ab29-ad9575c01dc2"
      },
      "source": [
        "my_decorator(func)('Some text')"
      ],
      "execution_count": null,
      "outputs": [
        {
          "output_type": "stream",
          "text": [
            "<SOME TEXT>\n"
          ],
          "name": "stdout"
        }
      ]
    },
    {
      "cell_type": "markdown",
      "metadata": {
        "id": "66-Mhyx4HGpA"
      },
      "source": [
        "В языке имеется синтаксическая конструкция для применения декорирования, эквивалентная использованной выше"
      ]
    },
    {
      "cell_type": "code",
      "metadata": {
        "id": "C9vg5Ir47G7I"
      },
      "source": [
        "@my_decorator  # Означает, что к функции func2 применено декорирование функцией my_decorator()\n",
        "def func2(message):\n",
        "    return message"
      ],
      "execution_count": null,
      "outputs": []
    },
    {
      "cell_type": "code",
      "metadata": {
        "colab": {
          "base_uri": "https://localhost:8080/"
        },
        "id": "kz1WvOCk7G-Y",
        "outputId": "3b321953-8e4f-4d81-94ca-25ac71f13c32"
      },
      "source": [
        "func2('Some text')"
      ],
      "execution_count": null,
      "outputs": [
        {
          "output_type": "stream",
          "text": [
            "<SOME TEXT>\n"
          ],
          "name": "stdout"
        }
      ]
    },
    {
      "cell_type": "markdown",
      "metadata": {
        "id": "J_EaHjISTdAJ"
      },
      "source": [
        "Рассмотрим более практический пример. Пусть мы хотим измерять время выполнения функции и выводить его на печать при каждом вызове функции. Это можно сделать путем применения такого декоратора:"
      ]
    },
    {
      "cell_type": "code",
      "metadata": {
        "id": "WwDg5Ma57HBS"
      },
      "source": [
        "import time # загружаем библиотеку для работы со временем\n",
        "\n",
        "def timer(f):\n",
        "    def tmp(*args, **kwargs):\n",
        "        t = time.time() # фиксируем начальный момент времени\n",
        "        res = f(*args, **kwargs) # передаём параметры в функцию\n",
        "        t = time.time() - t # фиксируем конечный момент времени\n",
        "        print(\"Время выполнения функции: %.6f\" % t)\n",
        "        return res\n",
        "\n",
        "    return tmp"
      ],
      "execution_count": null,
      "outputs": []
    },
    {
      "cell_type": "markdown",
      "metadata": {
        "id": "I14pgU2OUmOZ"
      },
      "source": [
        "Конструкция `(*args, **kwargs)` позволяет обработать любую комбинацию аргументов декорируемой функции.\n",
        "\n",
        "Применим этот декоратор к функции:"
      ]
    },
    {
      "cell_type": "code",
      "metadata": {
        "colab": {
          "base_uri": "https://localhost:8080/"
        },
        "id": "YYxMWBLAUlAQ",
        "outputId": "93b3b39e-af5a-4765-c9ed-a0ad29366080"
      },
      "source": [
        "@timer\n",
        "def func(delay):\n",
        "    time.sleep(delay)\n",
        "    return\n",
        "\n",
        "func(0.5)"
      ],
      "execution_count": null,
      "outputs": [
        {
          "output_type": "stream",
          "text": [
            "Время выполнения функции: 0.500614\n"
          ],
          "name": "stdout"
        }
      ]
    },
    {
      "cell_type": "markdown",
      "metadata": {
        "id": "gZjfpksQXNry"
      },
      "source": [
        "Для измерения времени исполнения функций или выражений можно использовать 'магическую' функцию `%timeit`. Эта функция вызовет таймируемый код несколько раз (для статистики) и напечатает результат:"
      ]
    },
    {
      "cell_type": "code",
      "metadata": {
        "colab": {
          "base_uri": "https://localhost:8080/"
        },
        "id": "ZokqWwURXD1G",
        "outputId": "739470ef-2baf-45b7-930e-436894d05632"
      },
      "source": [
        "%timeit func(1.0)"
      ],
      "execution_count": null,
      "outputs": [
        {
          "output_type": "stream",
          "text": [
            "Время выполнения функции: 1.001110\n",
            "Время выполнения функции: 1.001103\n",
            "Время выполнения функции: 1.000112\n",
            "Время выполнения функции: 1.001131\n",
            "Время выполнения функции: 1.001110\n",
            "Время выполнения функции: 1.001109\n",
            "1 loop, best of 5: 1 s per loop\n"
          ],
          "name": "stdout"
        }
      ]
    },
    {
      "cell_type": "markdown",
      "metadata": {
        "id": "Ihx47kvF-W4a"
      },
      "source": [
        "## Генераторы\n",
        "\n",
        "Генераторы - объекты Python, похожие на функции с циклом внутри себя и с оператором `yield` вместо `return`.\n",
        "\n",
        "Часто встречается ситуация (особенно при обучении нейронных сетей) когда требуется в цикле обработать длинную последовательность данных, которые не умещаются целиком в оперативную память.\n",
        "\n",
        "Генераторы призваны решать подобную проблему. Они выдают данные для обработки последовательно, небольшими порциями.\n",
        "\n",
        "Рассмотрим пример простого генератора:"
      ]
    },
    {
      "cell_type": "code",
      "metadata": {
        "id": "eBbY78oyBsTb"
      },
      "source": [
        "def my_generator(n):\n",
        "    for i in range(n):\n",
        "        yield i**2  "
      ],
      "execution_count": null,
      "outputs": []
    },
    {
      "cell_type": "markdown",
      "metadata": {
        "id": "1XWAtZgBCcu1"
      },
      "source": [
        "Существенно наличие цикла (возможно бесконечного) и использование оператора `yield` вместо `return`. Отличие этого оператора в том, что выполнение кода не прекращается (как это было бы в случае использования `return`), а приостанавливается до следующего вызова генератора и возобновляется с места окончания предыдущего вызова. Генераторы способны запоминать свое состояние (в отличие от функций, которые не запоминают свое состояние и выдают всегда одни и те же данные)"
      ]
    },
    {
      "cell_type": "code",
      "metadata": {
        "id": "E2uERmYaGx4a"
      },
      "source": [
        "def my_function(n):\n",
        "    for i in range(n):\n",
        "        return i**2  "
      ],
      "execution_count": null,
      "outputs": []
    },
    {
      "cell_type": "code",
      "metadata": {
        "colab": {
          "base_uri": "https://localhost:8080/"
        },
        "id": "Rp15UwM_GNHc",
        "outputId": "a3b10cbc-157f-4385-da41-f86353e95105"
      },
      "source": [
        "i = my_generator(10)\n",
        "print(type(i))\n",
        "print(i)"
      ],
      "execution_count": null,
      "outputs": [
        {
          "output_type": "stream",
          "text": [
            "<class 'generator'>\n",
            "<generator object my_generator at 0x7f08f04ac0d0>\n"
          ],
          "name": "stdout"
        }
      ]
    },
    {
      "cell_type": "markdown",
      "metadata": {
        "id": "wC91Baa1ah8r"
      },
      "source": [
        "то есть получаем объект генератор, а не число, как было при использовании функции. Чтобы получить число, можем воспользоваться оператором next:"
      ]
    },
    {
      "cell_type": "code",
      "metadata": {
        "colab": {
          "base_uri": "https://localhost:8080/"
        },
        "id": "JOqVMkAsHngq",
        "outputId": "c0ff8d34-c5c1-4f17-eff7-cefe92e054b6"
      },
      "source": [
        "next(my_generator(10))"
      ],
      "execution_count": null,
      "outputs": [
        {
          "output_type": "execute_result",
          "data": {
            "text/plain": [
              "0"
            ]
          },
          "metadata": {
            "tags": []
          },
          "execution_count": 90
        }
      ]
    },
    {
      "cell_type": "code",
      "metadata": {
        "colab": {
          "base_uri": "https://localhost:8080/"
        },
        "id": "aEfbQXLNJ3Mf",
        "outputId": "ccf139c5-851c-4fa7-c102-1d3d5cb8a985"
      },
      "source": [
        "next(i)"
      ],
      "execution_count": null,
      "outputs": [
        {
          "output_type": "execute_result",
          "data": {
            "text/plain": [
              "0"
            ]
          },
          "metadata": {
            "tags": []
          },
          "execution_count": 91
        }
      ]
    },
    {
      "cell_type": "code",
      "metadata": {
        "colab": {
          "base_uri": "https://localhost:8080/",
          "height": 214
        },
        "id": "jbc3Iq0-wzEs",
        "outputId": "79703174-26d8-4c09-be4f-f9fc42c27a91"
      },
      "source": [
        "[next(i) for k in range(10)]"
      ],
      "execution_count": null,
      "outputs": [
        {
          "output_type": "error",
          "ename": "StopIteration",
          "evalue": "ignored",
          "traceback": [
            "\u001b[0;31m---------------------------------------------------------------------------\u001b[0m",
            "\u001b[0;31mStopIteration\u001b[0m                             Traceback (most recent call last)",
            "\u001b[0;32m<ipython-input-92-c50c8392a55a>\u001b[0m in \u001b[0;36m<module>\u001b[0;34m()\u001b[0m\n\u001b[0;32m----> 1\u001b[0;31m \u001b[0;34m[\u001b[0m\u001b[0mnext\u001b[0m\u001b[0;34m(\u001b[0m\u001b[0mi\u001b[0m\u001b[0;34m)\u001b[0m \u001b[0;32mfor\u001b[0m \u001b[0mk\u001b[0m \u001b[0;32min\u001b[0m \u001b[0mrange\u001b[0m\u001b[0;34m(\u001b[0m\u001b[0;36m10\u001b[0m\u001b[0;34m)\u001b[0m\u001b[0;34m]\u001b[0m\u001b[0;34m\u001b[0m\u001b[0;34m\u001b[0m\u001b[0m\n\u001b[0m",
            "\u001b[0;32m<ipython-input-92-c50c8392a55a>\u001b[0m in \u001b[0;36m<listcomp>\u001b[0;34m(.0)\u001b[0m\n\u001b[0;32m----> 1\u001b[0;31m \u001b[0;34m[\u001b[0m\u001b[0mnext\u001b[0m\u001b[0;34m(\u001b[0m\u001b[0mi\u001b[0m\u001b[0;34m)\u001b[0m \u001b[0;32mfor\u001b[0m \u001b[0mk\u001b[0m \u001b[0;32min\u001b[0m \u001b[0mrange\u001b[0m\u001b[0;34m(\u001b[0m\u001b[0;36m10\u001b[0m\u001b[0;34m)\u001b[0m\u001b[0;34m]\u001b[0m\u001b[0;34m\u001b[0m\u001b[0;34m\u001b[0m\u001b[0m\n\u001b[0m",
            "\u001b[0;31mStopIteration\u001b[0m: "
          ]
        }
      ]
    },
    {
      "cell_type": "code",
      "metadata": {
        "colab": {
          "base_uri": "https://localhost:8080/"
        },
        "id": "cEvlXUh_G9Wd",
        "outputId": "10a58a9f-b02d-4e3c-fc66-0f445b098b38"
      },
      "source": [
        "i = my_function(10)\n",
        "print(type(i))\n",
        "print(i)"
      ],
      "execution_count": null,
      "outputs": [
        {
          "output_type": "stream",
          "text": [
            "<class 'int'>\n",
            "0\n"
          ],
          "name": "stdout"
        }
      ]
    },
    {
      "cell_type": "code",
      "metadata": {
        "colab": {
          "base_uri": "https://localhost:8080/",
          "height": 163
        },
        "id": "wkGPAE4GIAA4",
        "outputId": "73fce428-cc1b-4223-d51d-e5a4b6faee54"
      },
      "source": [
        "next(i)"
      ],
      "execution_count": null,
      "outputs": [
        {
          "output_type": "error",
          "ename": "TypeError",
          "evalue": "ignored",
          "traceback": [
            "\u001b[0;31m---------------------------------------------------------------------------\u001b[0m",
            "\u001b[0;31mTypeError\u001b[0m                                 Traceback (most recent call last)",
            "\u001b[0;32m<ipython-input-94-a883b34d6d8a>\u001b[0m in \u001b[0;36m<module>\u001b[0;34m()\u001b[0m\n\u001b[0;32m----> 1\u001b[0;31m \u001b[0mnext\u001b[0m\u001b[0;34m(\u001b[0m\u001b[0mi\u001b[0m\u001b[0;34m)\u001b[0m\u001b[0;34m\u001b[0m\u001b[0;34m\u001b[0m\u001b[0m\n\u001b[0m",
            "\u001b[0;31mTypeError\u001b[0m: 'int' object is not an iterator"
          ]
        }
      ]
    },
    {
      "cell_type": "code",
      "metadata": {
        "colab": {
          "base_uri": "https://localhost:8080/",
          "height": 163
        },
        "id": "Nd5TIi-FxJ_y",
        "outputId": "8913ea34-a2d4-4853-aab7-6c298c9b5a75"
      },
      "source": [
        "next(my_function(10))"
      ],
      "execution_count": null,
      "outputs": [
        {
          "output_type": "error",
          "ename": "TypeError",
          "evalue": "ignored",
          "traceback": [
            "\u001b[0;31m---------------------------------------------------------------------------\u001b[0m",
            "\u001b[0;31mTypeError\u001b[0m                                 Traceback (most recent call last)",
            "\u001b[0;32m<ipython-input-95-e1cea499eed5>\u001b[0m in \u001b[0;36m<module>\u001b[0;34m()\u001b[0m\n\u001b[0;32m----> 1\u001b[0;31m \u001b[0mnext\u001b[0m\u001b[0;34m(\u001b[0m\u001b[0mmy_function\u001b[0m\u001b[0;34m(\u001b[0m\u001b[0;36m10\u001b[0m\u001b[0;34m)\u001b[0m\u001b[0;34m)\u001b[0m\u001b[0;34m\u001b[0m\u001b[0;34m\u001b[0m\u001b[0m\n\u001b[0m",
            "\u001b[0;31mTypeError\u001b[0m: 'int' object is not an iterator"
          ]
        }
      ]
    },
    {
      "cell_type": "code",
      "metadata": {
        "colab": {
          "base_uri": "https://localhost:8080/"
        },
        "id": "1bKjQItXKRO5",
        "outputId": "f538b532-a0c5-4837-c3d6-19511e755c62"
      },
      "source": [
        "[my_function(i) for k in range(10)]"
      ],
      "execution_count": null,
      "outputs": [
        {
          "output_type": "execute_result",
          "data": {
            "text/plain": [
              "[None, None, None, None, None, None, None, None, None, None]"
            ]
          },
          "metadata": {
            "tags": []
          },
          "execution_count": 96
        }
      ]
    },
    {
      "cell_type": "markdown",
      "metadata": {
        "id": "YBW_s24Lb1Nc"
      },
      "source": [
        "Ситуация понятна, мы каждый раз в range указываем 0. Функция возвращает None, т.к. цикл просто не запускается."
      ]
    },
    {
      "cell_type": "code",
      "metadata": {
        "colab": {
          "base_uri": "https://localhost:8080/"
        },
        "id": "W3ohh-nLKe0s",
        "outputId": "27323cb9-beec-4551-b416-952cf6f99486"
      },
      "source": [
        "[my_function(i) for i in range(10)]"
      ],
      "execution_count": null,
      "outputs": [
        {
          "output_type": "execute_result",
          "data": {
            "text/plain": [
              "[None, 0, 0, 0, 0, 0, 0, 0, 0, 0]"
            ]
          },
          "metadata": {
            "tags": []
          },
          "execution_count": 97
        }
      ]
    },
    {
      "cell_type": "markdown",
      "metadata": {
        "id": "tadDkJUAcjZs"
      },
      "source": [
        "В первый раз в range указываем 0. Функция возвращает None, т.к. цикл просто не запускается. А в остальных выдаёт самое первое значение, т.к. это функция, а не генератор."
      ]
    },
    {
      "cell_type": "markdown",
      "metadata": {
        "id": "KuEgyIAKDoCd"
      },
      "source": [
        "В следующем примере делается итерация по списку, и все элементы списка загружены в память. При большой длине списка он может не поместиться целиком в память, да это и не нужно."
      ]
    },
    {
      "cell_type": "code",
      "metadata": {
        "colab": {
          "base_uri": "https://localhost:8080/"
        },
        "id": "V0D-Rh3X4-L3",
        "outputId": "799794e2-5fcb-4c6e-c715-2866cc3e1419"
      },
      "source": [
        "for i in [x**2 for x in range(10)]:\n",
        "    print(i)    "
      ],
      "execution_count": null,
      "outputs": [
        {
          "output_type": "stream",
          "text": [
            "0\n",
            "1\n",
            "4\n",
            "9\n",
            "16\n",
            "25\n",
            "36\n",
            "49\n",
            "64\n",
            "81\n"
          ],
          "name": "stdout"
        }
      ]
    },
    {
      "cell_type": "code",
      "metadata": {
        "colab": {
          "base_uri": "https://localhost:8080/"
        },
        "id": "8Ia2R5d4Ia5J",
        "outputId": "8ef15464-db65-4fcf-ba82-17fb1f11c7ab"
      },
      "source": [
        "print(type(x))"
      ],
      "execution_count": null,
      "outputs": [
        {
          "output_type": "stream",
          "text": [
            "<class 'int'>\n"
          ],
          "name": "stdout"
        }
      ]
    },
    {
      "cell_type": "markdown",
      "metadata": {
        "id": "pdeW65nbD9gW"
      },
      "source": [
        "Тот же список можно обработать последовательно, с помощью нашего генератора:"
      ]
    },
    {
      "cell_type": "code",
      "metadata": {
        "colab": {
          "base_uri": "https://localhost:8080/"
        },
        "id": "6xDHpKSQIpuI",
        "outputId": "f5ca6560-97fb-4236-b60e-92185392c639"
      },
      "source": [
        "for i in my_generator(10):\n",
        "    print(i)"
      ],
      "execution_count": null,
      "outputs": [
        {
          "output_type": "stream",
          "text": [
            "0\n",
            "1\n",
            "4\n",
            "9\n",
            "16\n",
            "25\n",
            "36\n",
            "49\n",
            "64\n",
            "81\n"
          ],
          "name": "stdout"
        }
      ]
    },
    {
      "cell_type": "code",
      "metadata": {
        "colab": {
          "base_uri": "https://localhost:8080/"
        },
        "id": "bpSXJTmqxw2R",
        "outputId": "cddc8c1d-91d6-4394-f852-d3018606ac50"
      },
      "source": [
        "print(type(i))"
      ],
      "execution_count": null,
      "outputs": [
        {
          "output_type": "stream",
          "text": [
            "<class 'int'>\n"
          ],
          "name": "stdout"
        }
      ]
    },
    {
      "cell_type": "code",
      "metadata": {
        "colab": {
          "base_uri": "https://localhost:8080/",
          "height": 180
        },
        "id": "CjTjiCitJB_t",
        "outputId": "5079ad6a-e7b4-41c1-d46e-d030312f4dc5"
      },
      "source": [
        "for i in next(my_generator(10)):\n",
        "    print(i)"
      ],
      "execution_count": null,
      "outputs": [
        {
          "output_type": "error",
          "ename": "TypeError",
          "evalue": "ignored",
          "traceback": [
            "\u001b[0;31m---------------------------------------------------------------------------\u001b[0m",
            "\u001b[0;31mTypeError\u001b[0m                                 Traceback (most recent call last)",
            "\u001b[0;32m<ipython-input-102-fb9fd97ced63>\u001b[0m in \u001b[0;36m<module>\u001b[0;34m()\u001b[0m\n\u001b[0;32m----> 1\u001b[0;31m \u001b[0;32mfor\u001b[0m \u001b[0mi\u001b[0m \u001b[0;32min\u001b[0m \u001b[0mnext\u001b[0m\u001b[0;34m(\u001b[0m\u001b[0mmy_generator\u001b[0m\u001b[0;34m(\u001b[0m\u001b[0;36m10\u001b[0m\u001b[0;34m)\u001b[0m\u001b[0;34m)\u001b[0m\u001b[0;34m:\u001b[0m\u001b[0;34m\u001b[0m\u001b[0;34m\u001b[0m\u001b[0m\n\u001b[0m\u001b[1;32m      2\u001b[0m     \u001b[0mprint\u001b[0m\u001b[0;34m(\u001b[0m\u001b[0mi\u001b[0m\u001b[0;34m)\u001b[0m\u001b[0;34m\u001b[0m\u001b[0;34m\u001b[0m\u001b[0m\n",
            "\u001b[0;31mTypeError\u001b[0m: 'int' object is not iterable"
          ]
        }
      ]
    },
    {
      "cell_type": "code",
      "metadata": {
        "colab": {
          "base_uri": "https://localhost:8080/",
          "height": 180
        },
        "id": "zbHyeMwyBh0f",
        "outputId": "82e57382-d791-4f1f-ea3b-12bfb7cea90b"
      },
      "source": [
        "for i in my_function(10):\n",
        "    print(i)"
      ],
      "execution_count": null,
      "outputs": [
        {
          "output_type": "error",
          "ename": "TypeError",
          "evalue": "ignored",
          "traceback": [
            "\u001b[0;31m---------------------------------------------------------------------------\u001b[0m",
            "\u001b[0;31mTypeError\u001b[0m                                 Traceback (most recent call last)",
            "\u001b[0;32m<ipython-input-103-343257d5d994>\u001b[0m in \u001b[0;36m<module>\u001b[0;34m()\u001b[0m\n\u001b[0;32m----> 1\u001b[0;31m \u001b[0;32mfor\u001b[0m \u001b[0mi\u001b[0m \u001b[0;32min\u001b[0m \u001b[0mmy_function\u001b[0m\u001b[0;34m(\u001b[0m\u001b[0;36m10\u001b[0m\u001b[0;34m)\u001b[0m\u001b[0;34m:\u001b[0m\u001b[0;34m\u001b[0m\u001b[0;34m\u001b[0m\u001b[0m\n\u001b[0m\u001b[1;32m      2\u001b[0m     \u001b[0mprint\u001b[0m\u001b[0;34m(\u001b[0m\u001b[0mi\u001b[0m\u001b[0;34m)\u001b[0m\u001b[0;34m\u001b[0m\u001b[0;34m\u001b[0m\u001b[0m\n",
            "\u001b[0;31mTypeError\u001b[0m: 'int' object is not iterable"
          ]
        }
      ]
    },
    {
      "cell_type": "markdown",
      "metadata": {
        "id": "Sxmmt1_8ELpK"
      },
      "source": [
        "Существует еще один способ создания генераторов. Эта конструкция очень похожа на список, но использует круглые скобки вместо квадратных:"
      ]
    },
    {
      "cell_type": "code",
      "metadata": {
        "colab": {
          "base_uri": "https://localhost:8080/"
        },
        "id": "vX6NRWoBCDHt",
        "outputId": "2f79964f-96ee-4044-e95b-14f919d12259"
      },
      "source": [
        "generator = (x**2 for x in range(10))\n",
        "for i in generator:\n",
        "    print(i)"
      ],
      "execution_count": null,
      "outputs": [
        {
          "output_type": "stream",
          "text": [
            "0\n",
            "1\n",
            "4\n",
            "9\n",
            "16\n",
            "25\n",
            "36\n",
            "49\n",
            "64\n",
            "81\n"
          ],
          "name": "stdout"
        }
      ]
    },
    {
      "cell_type": "code",
      "metadata": {
        "colab": {
          "base_uri": "https://localhost:8080/"
        },
        "id": "M3s6s52xnESj",
        "outputId": "25068542-c732-4617-aa89-37cd6f79431a"
      },
      "source": [
        "type(generator)"
      ],
      "execution_count": null,
      "outputs": [
        {
          "output_type": "execute_result",
          "data": {
            "text/plain": [
              "generator"
            ]
          },
          "metadata": {
            "tags": []
          },
          "execution_count": 105
        }
      ]
    },
    {
      "cell_type": "markdown",
      "metadata": {
        "id": "8e6-rqctMmEE"
      },
      "source": [
        "# Модули\n",
        "\n",
        "Большие программы для удобства дробят на отдельные файлы, или *модули*. Библиотечный код, без которого немыслима любая серьезная программа, также является набором модулей. Для файлов, содержащих код на языке Python принято расширение `.py` "
      ]
    },
    {
      "cell_type": "markdown",
      "metadata": {
        "id": "zhTMvyp2OEXT"
      },
      "source": [
        "Система модулей позволяет Вам логически организовать Ваш код на Python. Группирование кода в модули значительно облегчает процесс написания и понимания программы. Говоря простым языком, модуль в Python это  просто файл, содержащий код на Python. Каждый модуль в Python может содержать переменные, объявления классов и функций. Кроме того, в модуле может находиться исполняемый код.\n",
        "\n",
        "Можно использовать готовые (библиотечные) модули, а можно создавать свои. Свой модуль - это просто файл с кодом на Python.\n",
        "\n",
        "\n"
      ]
    },
    {
      "cell_type": "markdown",
      "metadata": {
        "id": "y8-rRtvLQfi9"
      },
      "source": [
        "### Варианты импорта\n",
        "\n",
        "Для того, чобы подключить внешний модуль к своей программе, его надо *импортировать*. Это делается с помощью команды `import`:\n",
        "\n",
        "```\n",
        "import module1, module2, ...\n",
        "```\n",
        "где `module1` и т.д. - названия файлов (без расширения `.py`), а сам файл должен находиться в том же каталоге что и программа или в одном из каталогов из списка путей.\n",
        "\n",
        "Пример:"
      ]
    },
    {
      "cell_type": "code",
      "metadata": {
        "colab": {
          "base_uri": "https://localhost:8080/"
        },
        "id": "CjxkOAq_Ghnr",
        "outputId": "b8c1a0aa-f4c8-4133-dda7-ae56e038cc0c"
      },
      "source": [
        "import math\n",
        "# Используем функцию sqrt из модуля math\n",
        "print (math.sqrt(9))\n",
        "# Печатаем значение переменной pi, определенной в math\n",
        "print (math.pi)"
      ],
      "execution_count": null,
      "outputs": [
        {
          "output_type": "stream",
          "text": [
            "3.0\n",
            "3.141592653589793\n"
          ],
          "name": "stdout"
        }
      ]
    },
    {
      "cell_type": "markdown",
      "metadata": {
        "id": "L1qR1Gp3XOeF"
      },
      "source": [
        "#### Алиас (import ... as ...)\n",
        "При импортировании можно переименовывать (задавать алиас) модуль, например:"
      ]
    },
    {
      "cell_type": "code",
      "metadata": {
        "colab": {
          "base_uri": "https://localhost:8080/"
        },
        "id": "p5PxNbgOXdQg",
        "outputId": "05c85484-adbe-43ff-9f34-876ed96b5a54"
      },
      "source": [
        "import numpy as np\n",
        "\n",
        "np.array([1, 2, 3])\n",
        "# numpy.array([1,2]) # но по первоначальному имени обращаться будет нельзя"
      ],
      "execution_count": null,
      "outputs": [
        {
          "output_type": "execute_result",
          "data": {
            "text/plain": [
              "array([1, 2, 3])"
            ]
          },
          "metadata": {
            "tags": []
          },
          "execution_count": 107
        }
      ]
    },
    {
      "cell_type": "markdown",
      "metadata": {
        "id": "042AMeoFmv2k"
      },
      "source": [
        "Если не импортировали такой модуль, или указали неправильно имя (а у нас numpy импортирован как np), получаем ошибку:"
      ]
    },
    {
      "cell_type": "code",
      "metadata": {
        "colab": {
          "base_uri": "https://localhost:8080/",
          "height": 163
        },
        "id": "V9vwC67mmFY_",
        "outputId": "b878d7ad-c36d-42dd-ac95-0fcf167a99f1"
      },
      "source": [
        "numpy.array([1,2])"
      ],
      "execution_count": null,
      "outputs": [
        {
          "output_type": "error",
          "ename": "NameError",
          "evalue": "ignored",
          "traceback": [
            "\u001b[0;31m---------------------------------------------------------------------------\u001b[0m",
            "\u001b[0;31mNameError\u001b[0m                                 Traceback (most recent call last)",
            "\u001b[0;32m<ipython-input-108-d74a6eff3e9e>\u001b[0m in \u001b[0;36m<module>\u001b[0;34m()\u001b[0m\n\u001b[0;32m----> 1\u001b[0;31m \u001b[0mnumpy\u001b[0m\u001b[0;34m.\u001b[0m\u001b[0marray\u001b[0m\u001b[0;34m(\u001b[0m\u001b[0;34m[\u001b[0m\u001b[0;36m1\u001b[0m\u001b[0;34m,\u001b[0m\u001b[0;36m2\u001b[0m\u001b[0;34m]\u001b[0m\u001b[0;34m)\u001b[0m\u001b[0;34m\u001b[0m\u001b[0;34m\u001b[0m\u001b[0m\n\u001b[0m",
            "\u001b[0;31mNameError\u001b[0m: name 'numpy' is not defined"
          ]
        }
      ]
    },
    {
      "cell_type": "markdown",
      "metadata": {
        "id": "oDjBP3wkn0AB"
      },
      "source": [
        "Если не указали модуль, а только функцию из него, получаем ошибку:"
      ]
    },
    {
      "cell_type": "code",
      "metadata": {
        "colab": {
          "base_uri": "https://localhost:8080/",
          "height": 163
        },
        "id": "TGeoVaDxmlSi",
        "outputId": "ce348e6d-6734-4ced-f378-619f90040e9f"
      },
      "source": [
        "array([1,2])"
      ],
      "execution_count": null,
      "outputs": [
        {
          "output_type": "error",
          "ename": "NameError",
          "evalue": "ignored",
          "traceback": [
            "\u001b[0;31m---------------------------------------------------------------------------\u001b[0m",
            "\u001b[0;31mNameError\u001b[0m                                 Traceback (most recent call last)",
            "\u001b[0;32m<ipython-input-109-61e13af8990f>\u001b[0m in \u001b[0;36m<module>\u001b[0;34m()\u001b[0m\n\u001b[0;32m----> 1\u001b[0;31m \u001b[0marray\u001b[0m\u001b[0;34m(\u001b[0m\u001b[0;34m[\u001b[0m\u001b[0;36m1\u001b[0m\u001b[0;34m,\u001b[0m\u001b[0;36m2\u001b[0m\u001b[0;34m]\u001b[0m\u001b[0;34m)\u001b[0m\u001b[0;34m\u001b[0m\u001b[0;34m\u001b[0m\u001b[0m\n\u001b[0m",
            "\u001b[0;31mNameError\u001b[0m: name 'array' is not defined"
          ]
        }
      ]
    },
    {
      "cell_type": "markdown",
      "metadata": {
        "id": "lNkdp6CYoDQl"
      },
      "source": [
        "Загружаем сам модуль по имени, без алиаса:"
      ]
    },
    {
      "cell_type": "code",
      "metadata": {
        "colab": {
          "base_uri": "https://localhost:8080/"
        },
        "id": "FL01s2bemO2T",
        "outputId": "84005499-0630-4c67-e435-46df3831512f"
      },
      "source": [
        "import numpy\n",
        "numpy.array([1,2])"
      ],
      "execution_count": null,
      "outputs": [
        {
          "output_type": "execute_result",
          "data": {
            "text/plain": [
              "array([1, 2])"
            ]
          },
          "metadata": {
            "tags": []
          },
          "execution_count": 110
        }
      ]
    },
    {
      "cell_type": "markdown",
      "metadata": {
        "id": "dwogTlnwRDYJ"
      },
      "source": [
        "#### Команда from ... import ... в Python\n",
        "Команда from ... import... позволяет вам импортировать не весь модуль целиком, а только определенное его содержимое. Например:"
      ]
    },
    {
      "cell_type": "code",
      "metadata": {
        "colab": {
          "base_uri": "https://localhost:8080/"
        },
        "id": "hg6u78TZQXoE",
        "outputId": "7070aecd-ce6a-4310-f368-fe6b86803439"
      },
      "source": [
        "# Импортируем из модуля math функцию sqrt\n",
        "from math import sqrt\n",
        "# Выводим результат выполнения функции sqrt.\n",
        "# Обратите внимание, что нам больше незачем указывать имя модуля\n",
        "print (sqrt(144))\n",
        " \n",
        "# Но мы уже не можем получить из модуля то, что не импортировали\n",
        "# print (pi) # Выдаст ошибку"
      ],
      "execution_count": null,
      "outputs": [
        {
          "output_type": "stream",
          "text": [
            "12.0\n"
          ],
          "name": "stdout"
        }
      ]
    },
    {
      "cell_type": "markdown",
      "metadata": {
        "id": "xjTmvVmlRqvt"
      },
      "source": [
        "Выражение `from ... import ...` не импортирует весь модуль, а только предоставляет доступ к конкретным объектам, которые мы указали."
      ]
    },
    {
      "cell_type": "markdown",
      "metadata": {
        "id": "nhhKxwaWSCGH"
      },
      "source": [
        "#### Команда from ... import * в Python:\n",
        "В Python так же возможно импортировать всё (переменные, функции, классы) за раз из модуля, для этого используется конструкция from ... import *. Например:"
      ]
    },
    {
      "cell_type": "code",
      "metadata": {
        "id": "KQdZsuRpzRb8"
      },
      "source": [
        "e = 3"
      ],
      "execution_count": null,
      "outputs": []
    },
    {
      "cell_type": "code",
      "metadata": {
        "colab": {
          "base_uri": "https://localhost:8080/"
        },
        "id": "E7CbrUloRWQ6",
        "outputId": "55bfb94a-925c-41f6-efa8-5bf528043166"
      },
      "source": [
        "from math import *\n",
        " \n",
        "# Теперь у нас есть доступ ко всем функция и переменным, определенным в модуле math\n",
        " \n",
        "print (sqrt(121))\n",
        "print (pi)"
      ],
      "execution_count": null,
      "outputs": [
        {
          "output_type": "stream",
          "text": [
            "11.0\n",
            "3.141592653589793\n"
          ],
          "name": "stdout"
        }
      ]
    },
    {
      "cell_type": "code",
      "metadata": {
        "colab": {
          "base_uri": "https://localhost:8080/"
        },
        "id": "THLH1dn7zXIA",
        "outputId": "87a0e7b0-6c77-40d5-913e-5054a356e0d9"
      },
      "source": [
        "print (e)"
      ],
      "execution_count": null,
      "outputs": [
        {
          "output_type": "stream",
          "text": [
            "2.718281828459045\n"
          ],
          "name": "stdout"
        }
      ]
    },
    {
      "cell_type": "markdown",
      "metadata": {
        "id": "C2LmJZ9hVJVa"
      },
      "source": [
        "Однако эту конструкцию следует использовать с осторожностью, поскольку при таком импортировании можно получить конфликты имен с собственным кодом.\n",
        "\n",
        "ВАЖНО! \n",
        "1. Модули в Python можно импортировать многократно и даже циклически, при этом будет загружена в память только одна копия. \n",
        "2. Нужно помнить, что без импорта модулей, вложенные в них функции работать не будут. Их вызов приведёт к ошибке. \n",
        "3. Иногда важен даже порядок импорта модулей, т.к. в некоторых из них содержатся функции, которым необходимы данные из других модулей. Лучше пользоваться готовыми примерами.\n"
      ]
    },
    {
      "cell_type": "markdown",
      "metadata": {
        "id": "U9w7ynmVVy-R"
      },
      "source": [
        "### Местонахождение модулей в Python:\n",
        "Когда вы импортируете модуль, интерпретатор Python ищет этот модуль в следующих местах:\n",
        "\n",
        "* Директория, в которой находится файл, в котором вызывается команда импорта\n",
        "\n",
        "* Если модуль не найден, Python ищет в каждой директории, определенной в консольной переменной `PYTHONPATH`.\n",
        "\n",
        "* Если и там модуль не найден, Python проверяет путь заданный по умолчанию\n",
        "\n",
        "Путь поиска модулей сохранен в системном модуле `sys` в переменной `path`. Переменная `sys.path` содержит все три вышеописанных места поиска модулей."
      ]
    },
    {
      "cell_type": "code",
      "metadata": {
        "colab": {
          "base_uri": "https://localhost:8080/"
        },
        "id": "gpl_fGsBVH7r",
        "outputId": "ce15022f-59ad-40ed-e5a1-35c113241482"
      },
      "source": [
        "import sys\n",
        "sys.path"
      ],
      "execution_count": null,
      "outputs": [
        {
          "output_type": "execute_result",
          "data": {
            "text/plain": [
              "['',\n",
              " '/content',\n",
              " '/env/python',\n",
              " '/usr/lib/python37.zip',\n",
              " '/usr/lib/python3.7',\n",
              " '/usr/lib/python3.7/lib-dynload',\n",
              " '/usr/local/lib/python3.7/dist-packages',\n",
              " '/usr/lib/python3/dist-packages',\n",
              " '/usr/local/lib/python3.7/dist-packages/IPython/extensions',\n",
              " '/root/.ipython']"
            ]
          },
          "metadata": {
            "tags": []
          },
          "execution_count": 115
        }
      ]
    },
    {
      "cell_type": "markdown",
      "metadata": {
        "id": "BISGv5S2Y8q9"
      },
      "source": [
        "### Функция dir():\n",
        "Встроенная функция `dir()` возвращает отсортированный список строк, содержащих все имена, определенные в программе."
      ]
    },
    {
      "cell_type": "code",
      "metadata": {
        "colab": {
          "base_uri": "https://localhost:8080/"
        },
        "id": "9bi8ydDeWvqd",
        "outputId": "ddc3e989-8193-436d-9ab7-93e859e74047"
      },
      "source": [
        "dir()"
      ],
      "execution_count": null,
      "outputs": [
        {
          "output_type": "execute_result",
          "data": {
            "text/plain": [
              "['In',\n",
              " 'Out',\n",
              " '_',\n",
              " '_105',\n",
              " '_107',\n",
              " '_110',\n",
              " '_115',\n",
              " '_12',\n",
              " '_14',\n",
              " '_16',\n",
              " '_2',\n",
              " '_20',\n",
              " '_21',\n",
              " '_29',\n",
              " '_3',\n",
              " '_4',\n",
              " '_5',\n",
              " '_6',\n",
              " '_71',\n",
              " '_73',\n",
              " '_74',\n",
              " '_75',\n",
              " '_76',\n",
              " '_77',\n",
              " '_78',\n",
              " '_8',\n",
              " '_9',\n",
              " '_90',\n",
              " '_91',\n",
              " '_96',\n",
              " '_97',\n",
              " '__',\n",
              " '___',\n",
              " '__builtin__',\n",
              " '__builtins__',\n",
              " '__doc__',\n",
              " '__loader__',\n",
              " '__name__',\n",
              " '__package__',\n",
              " '__spec__',\n",
              " '_dh',\n",
              " '_i',\n",
              " '_i1',\n",
              " '_i10',\n",
              " '_i100',\n",
              " '_i101',\n",
              " '_i102',\n",
              " '_i103',\n",
              " '_i104',\n",
              " '_i105',\n",
              " '_i106',\n",
              " '_i107',\n",
              " '_i108',\n",
              " '_i109',\n",
              " '_i11',\n",
              " '_i110',\n",
              " '_i111',\n",
              " '_i112',\n",
              " '_i113',\n",
              " '_i114',\n",
              " '_i115',\n",
              " '_i116',\n",
              " '_i12',\n",
              " '_i13',\n",
              " '_i14',\n",
              " '_i15',\n",
              " '_i16',\n",
              " '_i17',\n",
              " '_i18',\n",
              " '_i19',\n",
              " '_i2',\n",
              " '_i20',\n",
              " '_i21',\n",
              " '_i22',\n",
              " '_i23',\n",
              " '_i24',\n",
              " '_i25',\n",
              " '_i26',\n",
              " '_i27',\n",
              " '_i28',\n",
              " '_i29',\n",
              " '_i3',\n",
              " '_i30',\n",
              " '_i31',\n",
              " '_i32',\n",
              " '_i33',\n",
              " '_i34',\n",
              " '_i35',\n",
              " '_i36',\n",
              " '_i37',\n",
              " '_i38',\n",
              " '_i39',\n",
              " '_i4',\n",
              " '_i40',\n",
              " '_i41',\n",
              " '_i42',\n",
              " '_i43',\n",
              " '_i44',\n",
              " '_i45',\n",
              " '_i46',\n",
              " '_i47',\n",
              " '_i48',\n",
              " '_i49',\n",
              " '_i5',\n",
              " '_i50',\n",
              " '_i51',\n",
              " '_i52',\n",
              " '_i53',\n",
              " '_i54',\n",
              " '_i55',\n",
              " '_i56',\n",
              " '_i57',\n",
              " '_i58',\n",
              " '_i59',\n",
              " '_i6',\n",
              " '_i60',\n",
              " '_i61',\n",
              " '_i62',\n",
              " '_i63',\n",
              " '_i64',\n",
              " '_i65',\n",
              " '_i66',\n",
              " '_i67',\n",
              " '_i68',\n",
              " '_i69',\n",
              " '_i7',\n",
              " '_i70',\n",
              " '_i71',\n",
              " '_i72',\n",
              " '_i73',\n",
              " '_i74',\n",
              " '_i75',\n",
              " '_i76',\n",
              " '_i77',\n",
              " '_i78',\n",
              " '_i79',\n",
              " '_i8',\n",
              " '_i80',\n",
              " '_i81',\n",
              " '_i82',\n",
              " '_i83',\n",
              " '_i84',\n",
              " '_i85',\n",
              " '_i86',\n",
              " '_i87',\n",
              " '_i88',\n",
              " '_i89',\n",
              " '_i9',\n",
              " '_i90',\n",
              " '_i91',\n",
              " '_i92',\n",
              " '_i93',\n",
              " '_i94',\n",
              " '_i95',\n",
              " '_i96',\n",
              " '_i97',\n",
              " '_i98',\n",
              " '_i99',\n",
              " '_ih',\n",
              " '_ii',\n",
              " '_iii',\n",
              " '_oh',\n",
              " '_sh',\n",
              " 'a',\n",
              " 'acos',\n",
              " 'acosh',\n",
              " 'append_value',\n",
              " 'args',\n",
              " 'asin',\n",
              " 'asinh',\n",
              " 'atan',\n",
              " 'atan2',\n",
              " 'atanh',\n",
              " 'b',\n",
              " 'ceil',\n",
              " 'copysign',\n",
              " 'cos',\n",
              " 'cosh',\n",
              " 'degrees',\n",
              " 'e',\n",
              " 'empty_func',\n",
              " 'erf',\n",
              " 'erfc',\n",
              " 'exit',\n",
              " 'exp',\n",
              " 'expm1',\n",
              " 'f',\n",
              " 'f1',\n",
              " 'f2',\n",
              " 'fabs',\n",
              " 'factorial',\n",
              " 'floor',\n",
              " 'fmod',\n",
              " 'frexp',\n",
              " 'fsum',\n",
              " 'func',\n",
              " 'func2',\n",
              " 'gamma',\n",
              " 'gcd',\n",
              " 'generator',\n",
              " 'get_ipython',\n",
              " 'hypot',\n",
              " 'i',\n",
              " 'inf',\n",
              " 'int_dividing',\n",
              " 'isclose',\n",
              " 'isfinite',\n",
              " 'isinf',\n",
              " 'isnan',\n",
              " 'ldexp',\n",
              " 'lgamma',\n",
              " 'log',\n",
              " 'log10',\n",
              " 'log1p',\n",
              " 'log2',\n",
              " 'make_func',\n",
              " 'math',\n",
              " 'modf',\n",
              " 'my',\n",
              " 'my_decorator',\n",
              " 'my_func',\n",
              " 'my_function',\n",
              " 'my_generator',\n",
              " 'nan',\n",
              " 'new_func',\n",
              " 'new_func2',\n",
              " 'new_func3',\n",
              " 'newf',\n",
              " 'np',\n",
              " 'numpy',\n",
              " 'pi',\n",
              " 'pow',\n",
              " 'print_arg',\n",
              " 'quit',\n",
              " 'radians',\n",
              " 'remainder',\n",
              " 'ret',\n",
              " 'ret_func',\n",
              " 'sin',\n",
              " 'sinh',\n",
              " 'some_function',\n",
              " 'sqrt',\n",
              " 'sys',\n",
              " 'tan',\n",
              " 'tanh',\n",
              " 'tau',\n",
              " 'time',\n",
              " 'timer',\n",
              " 'trunc',\n",
              " 'x',\n",
              " 'y']"
            ]
          },
          "metadata": {
            "tags": []
          },
          "execution_count": 116
        }
      ]
    },
    {
      "cell_type": "markdown",
      "metadata": {
        "id": "LYG8Zn7IZxSu"
      },
      "source": [
        "## Создание своего модуля в Python:\n",
        "Чтобы создать свой модуль в Python достаточно сохранить ваш скрипт с расширением .py Теперь он доступен в любом другом файле.\n",
        "\n",
        "Создадим для примера в каталоге `/content` файл `mymodule.py` со следующим содержанием:\n",
        "\n",
        "```\n",
        "def my_func(x):\n",
        "    return x**2\n",
        "```\n",
        "\n",
        "Импортируем функцию из нашего модуля:"
      ]
    },
    {
      "cell_type": "code",
      "metadata": {
        "colab": {
          "base_uri": "https://localhost:8080/"
        },
        "id": "XQujk9cYYytL",
        "outputId": "176225a7-37ab-451e-ecb3-bb6d143f4c0a"
      },
      "source": [
        "from mymodule import my_func as func\n",
        "\n",
        "func(10)"
      ],
      "execution_count": null,
      "outputs": [
        {
          "output_type": "execute_result",
          "data": {
            "text/plain": [
              "100"
            ]
          },
          "metadata": {
            "tags": []
          },
          "execution_count": 79
        }
      ]
    },
    {
      "cell_type": "markdown",
      "metadata": {
        "id": "5kdd7pPIesQj"
      },
      "source": [
        "# Литература\n",
        "\n"
      ]
    },
    {
      "cell_type": "markdown",
      "metadata": {
        "id": "UuqC13bafBuq"
      },
      "source": [
        "1. https://yandex.ru/turbo/nuancesprog.ru/s/p/11182/\n",
        "2. https://all-python.ru/osnovy/funktsii.html\n",
        "3. https://pythonchik.ru/osnovy/funkcii-v-python\n",
        "4. http://pythonicway.com/python-functions\n",
        "5. https://pythonworld.ru/tipy-dannyx-v-python/vse-o-funkciyax-i-ix-argumentax.html\n",
        "6. https://devpractice.ru/python-modules-and-packages/\n",
        "7. https://pythonworld.ru/moduli\n",
        "8. https://pythonru.com/osnovy/funkcija-map-v-python\n",
        "9. https://dev-gang.ru/article/lambda-map-i-filter-v-python/\n",
        "10. https://pythonru.com/uroki/funkcija-filter-dlja-nachinajushhih\n",
        "\n",
        "\n",
        "---\n",
        "\n"
      ]
    },
    {
      "cell_type": "markdown",
      "metadata": {
        "id": "Y64QY1Hv-R_K"
      },
      "source": [
        "# The End"
      ]
    }
  ]
}
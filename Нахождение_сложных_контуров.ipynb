{
  "nbformat": 4,
  "nbformat_minor": 0,
  "metadata": {
    "colab": {
      "name": "Нахождение сложных контуров",
      "provenance": [],
      "collapsed_sections": [],
      "include_colab_link": true
    },
    "kernelspec": {
      "name": "python3",
      "display_name": "Python 3"
    },
    "language_info": {
      "name": "python"
    }
  },
  "cells": [
    {
      "cell_type": "markdown",
      "metadata": {
        "id": "view-in-github",
        "colab_type": "text"
      },
      "source": [
        "<a href=\"https://colab.research.google.com/github/vadim-privalov/Neiroset_Novosibirsk/blob/main/%D0%9D%D0%B0%D1%85%D0%BE%D0%B6%D0%B4%D0%B5%D0%BD%D0%B8%D0%B5_%D1%81%D0%BB%D0%BE%D0%B6%D0%BD%D1%8B%D1%85_%D0%BA%D0%BE%D0%BD%D1%82%D1%83%D1%80%D0%BE%D0%B2.ipynb\" target=\"_parent\"><img src=\"https://colab.research.google.com/assets/colab-badge.svg\" alt=\"Open In Colab\"/></a>"
      ]
    },
    {
      "cell_type": "markdown",
      "metadata": {
        "id": "iUq_f3P_pfR1"
      },
      "source": [
        "# Нахождение контуров\n",
        "\n",
        "# Finding contours\n"
      ]
    },
    {
      "cell_type": "markdown",
      "metadata": {
        "id": "M4B9salxBy2o"
      },
      "source": [
        "В этом уроке мы научимся находить более сложные контуры и обводить их в необходимые нам формы\n",
        "\n",
        "\n",
        "In this lesson we will learn how to find more complex outlines and shape them into the shapes we need"
      ]
    },
    {
      "cell_type": "markdown",
      "metadata": {
        "id": "EB3gf9K3Wl44"
      },
      "source": [
        "Существует довольно обширный список свойств, которые мы можем вычислить для контуров. Пройдемся по самым ключевым здесь.\n",
        "\n",
        "There is a fairly extensive list of properties that we can calculate for contours. Let's walk through the most key ones here.\n",
        "\n",
        "\n"
      ]
    },
    {
      "cell_type": "code",
      "metadata": {
        "colab": {
          "base_uri": "https://localhost:8080/"
        },
        "id": "CMEpuXTuoCYN",
        "outputId": "446a62ad-9e9b-478e-d509-e3c7292bf713"
      },
      "source": [
        "!wget http://dataudt.ru/datasets/cv/Lesson_26.Contour.zip\n",
        "!unzip Lesson_26.Contour.zip\n",
        "%cd /content/Lesson_26.Contour"
      ],
      "execution_count": 1,
      "outputs": [
        {
          "output_type": "stream",
          "name": "stdout",
          "text": [
            "--2022-02-02 18:43:38--  http://dataudt.ru/datasets/cv/Lesson_26.Contour.zip\n",
            "Resolving dataudt.ru (dataudt.ru)... 37.228.117.130\n",
            "Connecting to dataudt.ru (dataudt.ru)|37.228.117.130|:80... connected.\n",
            "HTTP request sent, awaiting response... 200 OK\n",
            "Length: 9320 (9.1K) [application/zip]\n",
            "Saving to: ‘Lesson_26.Contour.zip’\n",
            "\n",
            "Lesson_26.Contour.z 100%[===================>]   9.10K  --.-KB/s    in 0s      \n",
            "\n",
            "2022-02-02 18:43:38 (114 MB/s) - ‘Lesson_26.Contour.zip’ saved [9320/9320]\n",
            "\n",
            "Archive:  Lesson_26.Contour.zip\n",
            "  inflating: Lesson_26.Contour/Contour.py  \n",
            "  inflating: Lesson_26.Contour/shapes_01.png  \n",
            "  inflating: Lesson_26.Contour/shapes_02.png  \n",
            "/content/Lesson_26.Contour\n"
          ]
        }
      ]
    },
    {
      "cell_type": "code",
      "metadata": {
        "id": "Hq9JQabjoLrI"
      },
      "source": [
        "# импортируем необходимые модули\n",
        "# import the necessary packages\n",
        "import numpy as np\n",
        "import cv2\n",
        "from google.colab.patches import cv2_imshow\n",
        "import imutils"
      ],
      "execution_count": 2,
      "outputs": []
    },
    {
      "cell_type": "code",
      "metadata": {
        "id": "oGAzwonsoP8N"
      },
      "source": [
        "# создаем отдельный словарь с аргументами \n",
        "# create a separate dictionary with arguments\n",
        "args = {\n",
        " # путь к входному изображению \n",
        " # path to input image\n",
        "'image':\"shapes_02.png\", \n",
        "}"
      ],
      "execution_count": 3,
      "outputs": []
    },
    {
      "cell_type": "markdown",
      "metadata": {
        "id": "QMEfeCmnWt-I"
      },
      "source": [
        "\n",
        "> **«Центроид» или «центр масс»** - это координата центра объекта на изображении. \n",
        "\n",
        "> **The \"centroid\" or \"center of mass \"** is the coordinate of the center of the object in the image. \n",
        "\n",
        "По факту, это просто среднее положение всех координат по контуру формы\n",
        "\n",
        "\n",
        "\n",
        "\n",
        "\n",
        "In fact, it is just the average position of all coordinates along the contour of the shape"
      ]
    },
    {
      "cell_type": "code",
      "metadata": {
        "colab": {
          "base_uri": "https://localhost:8080/",
          "height": 366
        },
        "id": "iQrqX8I6ooug",
        "outputId": "07f3bd09-0d07-40ab-fbb6-6d498fe808c9"
      },
      "source": [
        "# загружаем изображение и конвертируем его в градации серого\n",
        "# load the image and convert it to grayscale\n",
        "image = cv2.imread(args[\"image\"])\n",
        "gray = cv2.cvtColor(image, cv2.COLOR_BGR2GRAY)\n",
        "\n",
        "# найдём внешние контуры на изображении\n",
        "# find external contours in the image\n",
        "cnts = cv2.findContours(gray.copy(), cv2.RETR_EXTERNAL, cv2.CHAIN_APPROX_SIMPLE)\n",
        "cnts = imutils.grab_contours(cnts)\n",
        "clone = image.copy()\n",
        "\n",
        "# перебираем контуры\n",
        "# loop over the contours\n",
        "for c in cnts:\n",
        "\t# вычисляем моменты контура, которые можно использовать\n",
        "    # для вычисления центроида или \"центра масс\" области\n",
        "    # compute the moments of the contour which can be used to compute the\n",
        "\t# centroid or \"center of mass\" of the region\n",
        "\tM = cv2.moments(c)\n",
        "\tcX = int(M[\"m10\"] / M[\"m00\"])\n",
        "\tcY = int(M[\"m01\"] / M[\"m00\"])\n",
        "\n",
        "    # рисуем центр контура на изображении\n",
        "    # draw the center of the contour on the image\n",
        "\tcv2.circle(clone, (cX, cY), 10, (0, 255, 0), -1)\n",
        "\n",
        "# отобразим получившееся изображение\n",
        "# show the output image\n",
        "print(\"Centroids\") \n",
        "cv2_imshow(clone)"
      ],
      "execution_count": 4,
      "outputs": [
        {
          "output_type": "stream",
          "name": "stdout",
          "text": [
            "Centroids\n"
          ]
        },
        {
          "output_type": "display_data",
          "data": {
            "image/png": "[encoded data removed]",
            "text/plain": [
              "<PIL.Image.Image image mode=RGB size=500x332 at 0x7F23288C7F10>"
            ]
          },
          "metadata": {}
        }
      ]
    },
    {
      "cell_type": "markdown",
      "metadata": {
        "id": "D5HtvyGkWxuC"
      },
      "source": [
        "> **Площадь контура** -  является количество пикселей, которые находятся внутри контура.\n",
        "\n",
        "> **contour area** - is the number of pixels that are inside the contour.\n",
        "\n",
        "\n",
        "> **Периметр контура** (иногда называемый  длиной дуги ) - это длина контура\n",
        "\n",
        "> **contour perimeter** (sometimes called arc length) is the length of the contour"
      ]
    },
    {
      "cell_type": "code",
      "metadata": {
        "colab": {
          "base_uri": "https://localhost:8080/",
          "height": 471
        },
        "id": "oC3J4EV8o1Px",
        "outputId": "b3c78b38-7687-499e-eb72-119a8d750270"
      },
      "source": [
        "clone = image.copy()\n",
        "\n",
        "# перебираем контуры\n",
        "# loop over the contours again\n",
        "for (i, c) in enumerate(cnts):\n",
        "\t# вычисляем площадь и периметр контура\n",
        "    # compute the area and the perimeter of the contour\n",
        "\tarea = cv2.contourArea(c)\n",
        "\tperimeter = cv2.arcLength(c, True)\n",
        "\tprint(\"Contour #{} -- area: {:.2f}, perimeter: {:.2f}\".format(i + 1, area, perimeter))\n",
        "\n",
        "\t# рисуем контур на изображении\n",
        "    # draw the contour on the image\n",
        "\tcv2.drawContours(clone, [c], -1, (0, 255, 0), 2)\n",
        "\n",
        "    # вычисляем центр контура и рисуем номер контура\n",
        "    # compute the center of the contour and draw the contour number\n",
        "\tM = cv2.moments(c)\n",
        "\tcX = int(M[\"m10\"] / M[\"m00\"])\n",
        "\tcY = int(M[\"m01\"] / M[\"m00\"])\n",
        "\tcv2.putText(clone, \"#{}\".format(i + 1), (cX - 20, cY), cv2.FONT_HERSHEY_SIMPLEX,\n",
        "\t\t1.25, (255, 255, 255), 4)\n",
        "\n",
        "# выведем на экран получившееся изображение\n",
        "# show the output image\n",
        "print(\"Contours\") \n",
        "cv2_imshow(clone)"
      ],
      "execution_count": 5,
      "outputs": [
        {
          "output_type": "stream",
          "name": "stdout",
          "text": [
            "Contour #1 -- area: 9426.00, perimeter: 378.88\n",
            "Contour #2 -- area: 6861.00, perimeter: 396.39\n",
            "Contour #3 -- area: 6189.00, perimeter: 512.32\n",
            "Contour #4 -- area: 15036.00, perimeter: 519.04\n",
            "Contour #5 -- area: 4332.00, perimeter: 434.13\n",
            "Contour #6 -- area: 4423.00, perimeter: 273.24\n",
            "Contours\n"
          ]
        },
        {
          "output_type": "display_data",
          "data": {
            "image/png": "[encoded data removed]",
            "text/plain": [
              "<PIL.Image.Image image mode=RGB size=500x332 at 0x7F231DD8FF90>"
            ]
          },
          "metadata": {}
        }
      ]
    },
    {
      "cell_type": "markdown",
      "metadata": {
        "id": "BrXc5fNbXAXx"
      },
      "source": [
        "> **Ограничивающий прямоугольник** - это вертикальный прямоугольник, который «ограничивает» и «содержит» всю контурную область изображения.\n",
        "\n",
        "> **bounding rectangle** is a vertical rectangle that \"bounds\" and \"contains\" the entire outline area of the image.\n",
        "\n",
        "Ограничивающий прямоугольник состоит из четырех компонентов: начальной  координаты x и y прямоугольника, а затем ширины и высоты прямоугольника.\n",
        "\n",
        "Для его построения будем использовать функцию `cv2.boundingRect()`\n",
        "\n",
        "\n",
        "\n",
        "A bounding rectangle consists of four components: the initial x and y coordinates of the rectangle, and then the width and height of the rectangle.\n",
        "\n",
        "We'll use the function `cv2.boundingRect()` to build it.\n"
      ]
    },
    {
      "cell_type": "code",
      "metadata": {
        "colab": {
          "base_uri": "https://localhost:8080/",
          "height": 366
        },
        "id": "DRmLj1JBo_Me",
        "outputId": "71198426-2943-4b9e-d33e-edea60330130"
      },
      "source": [
        "# скопируем исходное изображение\n",
        "# clone the original image\n",
        "clone = image.copy()\n",
        "\n",
        "# перебираем контуры\n",
        "# loop over the contours\n",
        "for c in cnts:\n",
        "\t# подгоняем ограничивающую рамку к контуру\n",
        "    # fit a bounding box to the contour\n",
        "\t(x, y, w, h) = cv2.boundingRect(c)\n",
        "\tcv2.rectangle(clone, (x, y), (x + w, y + h), (0, 255, 0), 2)\n",
        "\n",
        "# покажем выходное изображение\n",
        "# show the output image\n",
        "print(\"Bounding Boxes\") \n",
        "cv2_imshow(clone)"
      ],
      "execution_count": 6,
      "outputs": [
        {
          "output_type": "stream",
          "name": "stdout",
          "text": [
            "Bounding Boxes\n"
          ]
        },
        {
          "output_type": "display_data",
          "data": {
            "image/png": "[encoded data removed]",
            "text/plain": [
              "<PIL.Image.Image image mode=RGB size=500x332 at 0x7F231DDE5A90>"
            ]
          },
          "metadata": {}
        }
      ]
    },
    {
      "cell_type": "markdown",
      "metadata": {
        "id": "7LGeBZ_DXEqB"
      },
      "source": [
        "> **Повернутые ограничивающие рамки** - модифицированный ограничивающий прямоугольник. \n",
        "\n",
        "> **Turned bounding boxes** are a modified bounding rectangle. \n",
        "\n",
        "Хотя простые ограничивающие рамки хороши, но они не учитывают  поворот фигуры на изображении. Чтобы учесть ротацию, нам нужно расширить наш подход, вычислив и добавив угол поворота нашей фигуры. \n",
        "\n",
        "\n",
        "\n",
        "While simple bounding boxes are nice, they don't take into account the rotation of the figure in the image. To account for rotation, we need to extend our approach by calculating and adding the rotation angle of our figure. "
      ]
    },
    {
      "cell_type": "code",
      "metadata": {
        "colab": {
          "base_uri": "https://localhost:8080/",
          "height": 366
        },
        "id": "V1blYpF_pFyp",
        "outputId": "fac2c75a-1c0f-4492-cf2b-3e85b83c826f"
      },
      "source": [
        "clone = image.copy()\n",
        "\n",
        "# перебираем контуры\n",
        "# loop over the contours\n",
        "for c in cnts:\n",
        "    # подгоняем повернутую ограничивающую рамку к контуру\n",
        "    # и рисуем повернутую ограничивающую рамку\n",
        "    # fit a rotated bounding box to the contour and draw a rotated bounding box\n",
        "\tbox = cv2.minAreaRect(c)\n",
        "\tbox = np.int0(cv2.cv.BoxPoints(box) if imutils.is_cv2() else cv2.boxPoints(box))\n",
        "\tcv2.drawContours(clone, [box], -1, (0, 255, 0), 2)\n",
        "\n",
        "# отобразим выходное изображение\n",
        "# show the output image\n",
        "print(\"Rotated Bounding Boxes\") \n",
        "cv2_imshow(clone)"
      ],
      "execution_count": 7,
      "outputs": [
        {
          "output_type": "stream",
          "name": "stdout",
          "text": [
            "Rotated Bounding Boxes\n"
          ]
        },
        {
          "output_type": "display_data",
          "data": {
            "image/png": "[encoded data removed]",
            "text/plain": [
              "<PIL.Image.Image image mode=RGB size=500x332 at 0x7F231DDFDB50>"
            ]
          },
          "metadata": {}
        }
      ]
    },
    {
      "cell_type": "markdown",
      "metadata": {
        "id": "zaeuAB-OXJPQ"
      },
      "source": [
        "> **Минимальные окружающие круги** - это круги, которые «ограничивают» и «содержат» всю контурную область изображения.\n",
        "\n",
        "> **Minimal surrounding circles** are circles that \"bound\" and \"contain\" the entire contour area of the image.\n",
        "\n",
        "Самая важная функция, на которую следует обратить внимание здесь -  это \n",
        "`cv2.minEnclosingCircle`, которая берет наш контур и возвращает координаты центра круга вместе с  радиусом круга.\n",
        "\n",
        "\n",
        "\n",
        "The most important function to look at here is \n",
        "`cv2.minEnclosingCircle`, which takes our outline and returns the coordinates of the circle center along with the circle radius."
      ]
    },
    {
      "cell_type": "code",
      "metadata": {
        "colab": {
          "base_uri": "https://localhost:8080/",
          "height": 366
        },
        "id": "onmKUtWrpMnG",
        "outputId": "f79d5186-f8fb-430a-c657-5d1452581ecb"
      },
      "source": [
        "clone = image.copy()\n",
        "\n",
        "# перебираем контуры\n",
        "# loop over the contours\n",
        "for c in cnts:\n",
        "\t# подгоняем минимальную окружность к контуру\n",
        "    # fit a minimum enclosing circle to the contour\n",
        "\t((x, y), radius) = cv2.minEnclosingCircle(c)\n",
        "\tcv2.circle(clone, (int(x), int(y)), int(radius), (0, 255, 0), 2)\n",
        "\n",
        "# отобразим получившееся изображение\n",
        "# show the output image\n",
        "print(\"Min-Enclosing Circles\") \n",
        "cv2_imshow(clone)"
      ],
      "execution_count": 8,
      "outputs": [
        {
          "output_type": "stream",
          "name": "stdout",
          "text": [
            "Min-Enclosing Circles\n"
          ]
        },
        {
          "output_type": "display_data",
          "data": {
            "image/png": "[encoded data removed]",
            "text/plain": [
              "<PIL.Image.Image image mode=RGB size=500x332 at 0x7F231DDFD590>"
            ]
          },
          "metadata": {}
        }
      ]
    },
    {
      "cell_type": "markdown",
      "metadata": {
        "id": "KyvyobMlXS7p"
      },
      "source": [
        "> **Подгонка эллипса** - модифицированный ограничивающий круг.\n",
        "\n",
        "> **Fit ellipse** is a modified bounding circle.\n",
        "\n",
        "Подгонка эллипса к контуру во многом похожа на подгонку повернутого прямоугольника к контуру.\n",
        "Под капотом OpenCV вычисляет повернутый прямоугольник контура. А затем он берет повернутый прямоугольник и вычисляет эллипс, который помещается в повернутую область.\n",
        "\n",
        "\n",
        "\n",
        "Fitting an ellipse to a path is much like fitting a rotated rectangle to a path.\n",
        "Under the hood, OpenCV calculates the rotated rectangle of a contour. And then it takes the rotated rectangle and calculates an ellipse that fits into the rotated area.\n"
      ]
    },
    {
      "cell_type": "code",
      "metadata": {
        "colab": {
          "base_uri": "https://localhost:8080/",
          "height": 366
        },
        "id": "0yLmjokjnttl",
        "outputId": "cd0ee186-9a3e-4f43-933f-c678d16bc8da"
      },
      "source": [
        "clone = image.copy()\n",
        "\n",
        "# перебираем контуры\n",
        "# loop over the contours\n",
        "for c in cnts:\n",
        "\t# чтобы соответствовать эллипсу, \n",
        "    # наш контур должен иметь не менее 5 точек\n",
        "    # to to fit an ellipse, our contour must have at least 5 points\n",
        "\tif len(c) >= 5:\n",
        "\t\t# подгоняем элипс к контуру\n",
        "        # fit an ellipse to the contour\n",
        "\t\tellipse = cv2.fitEllipse(c)\n",
        "\t\tcv2.ellipse(clone, ellipse, (0, 255, 0), 2)\n",
        "\n",
        "# выведем на экран получившееся изображение\n",
        "# show the output image\n",
        "print(\"Ellipses\") \n",
        "cv2_imshow(clone)\n"
      ],
      "execution_count": 9,
      "outputs": [
        {
          "output_type": "stream",
          "name": "stdout",
          "text": [
            "Ellipses\n"
          ]
        },
        {
          "output_type": "display_data",
          "data": {
            "image/png": "[encoded data removed]",
            "text/plain": [
              "<PIL.Image.Image image mode=RGB size=500x332 at 0x7F231DD8D290>"
            ]
          },
          "metadata": {}
        }
      ]
    }
  ]
}
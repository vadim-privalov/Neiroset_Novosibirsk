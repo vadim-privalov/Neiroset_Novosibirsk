{
  "nbformat": 4,
  "nbformat_minor": 0,
  "metadata": {
    "colab": {
      "name": "Работа с таблицами данных на примере Pandas. Часть 1",
      "provenance": [],
      "collapsed_sections": [],
      "include_colab_link": true
    },
    "kernelspec": {
      "name": "python3",
      "display_name": "Python 3"
    }
  },
  "cells": [
    {
      "cell_type": "markdown",
      "metadata": {
        "id": "view-in-github",
        "colab_type": "text"
      },
      "source": [
        "<a href=\"https://colab.research.google.com/github/vadim-privalov/Neiroset_Novosibirsk/blob/main/%D0%A0%D0%B0%D0%B1%D0%BE%D1%82%D0%B0_%D1%81_%D1%82%D0%B0%D0%B1%D0%BB%D0%B8%D1%86%D0%B0%D0%BC%D0%B8_%D0%B4%D0%B0%D0%BD%D0%BD%D1%8B%D1%85_%D0%BD%D0%B0_%D0%BF%D1%80%D0%B8%D0%BC%D0%B5%D1%80%D0%B5_Pandas_%D0%A7%D0%B0%D1%81%D1%82%D1%8C_1.ipynb\" target=\"_parent\"><img src=\"https://colab.research.google.com/assets/colab-badge.svg\" alt=\"Open In Colab\"/></a>"
      ]
    },
    {
      "cell_type": "markdown",
      "metadata": {
        "id": "uVQjRFc6abYJ"
      },
      "source": [
        "## ООО \"Университет Цифровых Технологий платформа 3\""
      ]
    },
    {
      "cell_type": "markdown",
      "metadata": {
        "id": "NQbCAm9D3Brz"
      },
      "source": [
        "# Работа с таблицами данных на примере Pandas. Часть 1"
      ]
    },
    {
      "cell_type": "markdown",
      "metadata": {
        "id": "0wuYOMTrUwlw"
      },
      "source": [
        "\n",
        "Pandas, часть 1.\n",
        "*   pd.Series\n",
        "*   pd.DataFrame\n",
        "*   Знакомство с основными методами Pandas на примере обработки датасета Titanic\n",
        "*   Чтение DataFrame из различны форматов файлов, сохранение DataFrame\n",
        "*   Первое знакомство с данными\n",
        "*   Работа с пропусками\n",
        "*   Получение подвыборок из DataFrame\n",
        "    *   Извлечение нескольких колонок\n",
        "    *   Извлечение строк по маске\n",
        "    *   Извлечение (обращение) к конкретным значениям таблицы\n",
        "*   Добавление данных:\n",
        "    *   Добавление новых колонок\n",
        "    *   Добавление новых строк\n",
        "\n",
        "\n"
      ]
    },
    {
      "cell_type": "markdown",
      "metadata": {
        "id": "-aNTNxyEUtX3"
      },
      "source": [
        "## Введение"
      ]
    },
    {
      "cell_type": "markdown",
      "metadata": {
        "id": "9a4zT1RL3IdH"
      },
      "source": [
        "Pandas  - одна из самых популярных библиотек для анализа данных.\n",
        "\n",
        "В библиотеке Pandas есть два основных вида информационных контейнеров:\n",
        "\n",
        "*   Series\n",
        "*   DataFrame\n",
        "\n",
        "**Series** - это структура, которая содержит одномерный массив данных и индексы.\n",
        "\n",
        "**DataFrame** - это двумерная структура данных (таблица), которая содержит данные и их индексы.\n",
        "\n"
      ]
    },
    {
      "cell_type": "markdown",
      "metadata": {
        "id": "xPo7jefS6Z28"
      },
      "source": [
        "## pd.Series"
      ]
    },
    {
      "cell_type": "code",
      "metadata": {
        "id": "ZTF0LIOulVi9"
      },
      "source": [
        "# для начала работы подключим библиотеку\n",
        "import pandas as pd"
      ],
      "execution_count": null,
      "outputs": []
    },
    {
      "cell_type": "code",
      "metadata": {
        "colab": {
          "base_uri": "https://localhost:8080/"
        },
        "id": "9KueWH704xMf",
        "outputId": "a76532e9-ab03-49f1-d708-d45fddd77ec6"
      },
      "source": [
        "# создадим объект Series из списка чисел\n",
        "s = pd.Series([1, 2, 3, 4, 5, 6, 7, 6, 5, 4, 4, 3, 2, 1, 1, 1])\n",
        "print(s) # вывеем его на печать"
      ],
      "execution_count": null,
      "outputs": [
        {
          "output_type": "stream",
          "text": [
            "0     1\n",
            "1     2\n",
            "2     3\n",
            "3     4\n",
            "4     5\n",
            "5     6\n",
            "6     7\n",
            "7     6\n",
            "8     5\n",
            "9     4\n",
            "10    4\n",
            "11    3\n",
            "12    2\n",
            "13    1\n",
            "14    1\n",
            "15    1\n",
            "dtype: int64\n"
          ],
          "name": "stdout"
        }
      ]
    },
    {
      "cell_type": "code",
      "metadata": {
        "colab": {
          "base_uri": "https://localhost:8080/"
        },
        "id": "fxwTxsgW5Axx",
        "outputId": "fdc7b995-6692-4d72-ce38-a42631d77091"
      },
      "source": [
        "# посмотрим что из себя представляет index\n",
        "s.index"
      ],
      "execution_count": null,
      "outputs": [
        {
          "output_type": "execute_result",
          "data": {
            "text/plain": [
              "RangeIndex(start=0, stop=16, step=1)"
            ]
          },
          "metadata": {
            "tags": []
          },
          "execution_count": 22
        }
      ]
    },
    {
      "cell_type": "code",
      "metadata": {
        "colab": {
          "base_uri": "https://localhost:8080/"
        },
        "id": "U0VN_4R05GIw",
        "outputId": "320c14b1-882e-4595-a79e-5b3f125f41cd"
      },
      "source": [
        "# посмотрим какие значения хранятся в Series\n",
        "s.values"
      ],
      "execution_count": null,
      "outputs": [
        {
          "output_type": "execute_result",
          "data": {
            "text/plain": [
              "array([1, 2, 3, 4, 5, 6, 7, 6, 5, 4, 4, 3, 2, 1, 1, 1])"
            ]
          },
          "metadata": {
            "tags": []
          },
          "execution_count": 23
        }
      ]
    },
    {
      "cell_type": "code",
      "metadata": {
        "colab": {
          "base_uri": "https://localhost:8080/"
        },
        "id": "UlBCMVnX5IJ4",
        "outputId": "08bfbf8a-ce21-4554-e7c9-971c53791d7b"
      },
      "source": [
        "# выведем сколько встречается каждое уникальное значение\n",
        "s.value_counts()"
      ],
      "execution_count": null,
      "outputs": [
        {
          "output_type": "execute_result",
          "data": {
            "text/plain": [
              "1    4\n",
              "4    3\n",
              "6    2\n",
              "5    2\n",
              "3    2\n",
              "2    2\n",
              "7    1\n",
              "dtype: int64"
            ]
          },
          "metadata": {
            "tags": []
          },
          "execution_count": 24
        }
      ]
    },
    {
      "cell_type": "code",
      "metadata": {
        "colab": {
          "base_uri": "https://localhost:8080/"
        },
        "id": "J9x7ZfBQ5M9p",
        "outputId": "3bc263b5-db35-4d70-9acc-f52594bc7ec3"
      },
      "source": [
        "# создадим еще один объект Series \n",
        "sales = pd.Series([1320, 1680, 1570, 1726], index=['2017 Sales', '2018 Sales', '2019 Sales', '2020 Sales'], name='Sales product B')\n",
        "print(sales) # выведем его на печать"
      ],
      "execution_count": null,
      "outputs": [
        {
          "output_type": "stream",
          "text": [
            "2017 Sales    1320\n",
            "2018 Sales    1680\n",
            "2019 Sales    1570\n",
            "2020 Sales    1726\n",
            "Name: Sales product B, dtype: int64\n"
          ],
          "name": "stdout"
        }
      ]
    },
    {
      "cell_type": "code",
      "metadata": {
        "colab": {
          "base_uri": "https://localhost:8080/"
        },
        "id": "ZUA_zZ4_6Ipf",
        "outputId": "1dc37284-6292-4117-ac67-b9d9968cb0c3"
      },
      "source": [
        "# посмотрим на значения\n",
        "sales.values"
      ],
      "execution_count": null,
      "outputs": [
        {
          "output_type": "execute_result",
          "data": {
            "text/plain": [
              "array([1320, 1680, 1570, 1726])"
            ]
          },
          "metadata": {
            "tags": []
          },
          "execution_count": 26
        }
      ]
    },
    {
      "cell_type": "code",
      "metadata": {
        "colab": {
          "base_uri": "https://localhost:8080/"
        },
        "id": "a-g6Ip4t6SKJ",
        "outputId": "d8775bf8-b111-4ed4-9636-27d0aebe6d41"
      },
      "source": [
        "# посмотрим на индексы\n",
        "sales.index"
      ],
      "execution_count": null,
      "outputs": [
        {
          "output_type": "execute_result",
          "data": {
            "text/plain": [
              "Index(['2017 Sales', '2018 Sales', '2019 Sales', '2020 Sales'], dtype='object')"
            ]
          },
          "metadata": {
            "tags": []
          },
          "execution_count": 27
        }
      ]
    },
    {
      "cell_type": "code",
      "metadata": {
        "colab": {
          "base_uri": "https://localhost:8080/"
        },
        "id": "KRC6NefD_AcX",
        "outputId": "128a043d-6f5a-44ca-adca-cddadac7a178"
      },
      "source": [
        "# посмотрим на тип данных\n",
        "type(s)"
      ],
      "execution_count": null,
      "outputs": [
        {
          "output_type": "execute_result",
          "data": {
            "text/plain": [
              "pandas.core.series.Series"
            ]
          },
          "metadata": {
            "tags": []
          },
          "execution_count": 28
        }
      ]
    },
    {
      "cell_type": "markdown",
      "metadata": {
        "id": "dMS1Rgzf6fzn"
      },
      "source": [
        "## pd.DataFrame"
      ]
    },
    {
      "cell_type": "code",
      "metadata": {
        "colab": {
          "base_uri": "https://localhost:8080/",
          "height": 142
        },
        "id": "aV7dlaYg6WIq",
        "outputId": "11b368d0-bbcd-4973-f14e-e0e3734519aa"
      },
      "source": [
        "# создание DataFrame, вариант 1\n",
        "\n",
        "index = ['Иванов', 'Петров', 'Сидоров'] # создадим список, будем использовать его для индексов\n",
        "columns = ['математика', 'физика', 'литература'] # создадим список, будем использовать его как названия колонок\n",
        "\n",
        "# создадим список с данными\n",
        "data = [[5, 5, 4], \n",
        "        [2, 4, 5],\n",
        "        [3, 2, 4]]\n",
        "\n",
        "# создадим DataFrame \n",
        "tabel = pd.DataFrame(data=data, index=index, columns=columns)\n",
        "tabel # выведем его"
      ],
      "execution_count": null,
      "outputs": [
        {
          "output_type": "execute_result",
          "data": {
            "text/html": [
              "<div>\n",
              "<style scoped>\n",
              "    .dataframe tbody tr th:only-of-type {\n",
              "        vertical-align: middle;\n",
              "    }\n",
              "\n",
              "    .dataframe tbody tr th {\n",
              "        vertical-align: top;\n",
              "    }\n",
              "\n",
              "    .dataframe thead th {\n",
              "        text-align: right;\n",
              "    }\n",
              "</style>\n",
              "<table border=\"1\" class=\"dataframe\">\n",
              "  <thead>\n",
              "    <tr style=\"text-align: right;\">\n",
              "      <th></th>\n",
              "      <th>математика</th>\n",
              "      <th>физика</th>\n",
              "      <th>литература</th>\n",
              "    </tr>\n",
              "  </thead>\n",
              "  <tbody>\n",
              "    <tr>\n",
              "      <th>Иванов</th>\n",
              "      <td>5</td>\n",
              "      <td>5</td>\n",
              "      <td>4</td>\n",
              "    </tr>\n",
              "    <tr>\n",
              "      <th>Петров</th>\n",
              "      <td>2</td>\n",
              "      <td>4</td>\n",
              "      <td>5</td>\n",
              "    </tr>\n",
              "    <tr>\n",
              "      <th>Сидоров</th>\n",
              "      <td>3</td>\n",
              "      <td>2</td>\n",
              "      <td>4</td>\n",
              "    </tr>\n",
              "  </tbody>\n",
              "</table>\n",
              "</div>"
            ],
            "text/plain": [
              "         математика  физика  литература\n",
              "Иванов            5       5           4\n",
              "Петров            2       4           5\n",
              "Сидоров           3       2           4"
            ]
          },
          "metadata": {
            "tags": []
          },
          "execution_count": 29
        }
      ]
    },
    {
      "cell_type": "code",
      "metadata": {
        "colab": {
          "base_uri": "https://localhost:8080/",
          "height": 142
        },
        "id": "NybahMNu8ORw",
        "outputId": "6f996bba-1b12-43ce-a8a9-6574a63d2afe"
      },
      "source": [
        "# еще один способ создать DataFrame, через словарь\n",
        "tabel_a = pd.DataFrame({'математика' : [5, 2, 3], \n",
        "                        'физика' : [5, 4, 2], \n",
        "                        'литература' : [4, 5, 4]}, index = index)\n",
        "tabel_a # выведем DataFrame"
      ],
      "execution_count": null,
      "outputs": [
        {
          "output_type": "execute_result",
          "data": {
            "text/html": [
              "<div>\n",
              "<style scoped>\n",
              "    .dataframe tbody tr th:only-of-type {\n",
              "        vertical-align: middle;\n",
              "    }\n",
              "\n",
              "    .dataframe tbody tr th {\n",
              "        vertical-align: top;\n",
              "    }\n",
              "\n",
              "    .dataframe thead th {\n",
              "        text-align: right;\n",
              "    }\n",
              "</style>\n",
              "<table border=\"1\" class=\"dataframe\">\n",
              "  <thead>\n",
              "    <tr style=\"text-align: right;\">\n",
              "      <th></th>\n",
              "      <th>математика</th>\n",
              "      <th>физика</th>\n",
              "      <th>литература</th>\n",
              "    </tr>\n",
              "  </thead>\n",
              "  <tbody>\n",
              "    <tr>\n",
              "      <th>Иванов</th>\n",
              "      <td>5</td>\n",
              "      <td>5</td>\n",
              "      <td>4</td>\n",
              "    </tr>\n",
              "    <tr>\n",
              "      <th>Петров</th>\n",
              "      <td>2</td>\n",
              "      <td>4</td>\n",
              "      <td>5</td>\n",
              "    </tr>\n",
              "    <tr>\n",
              "      <th>Сидоров</th>\n",
              "      <td>3</td>\n",
              "      <td>2</td>\n",
              "      <td>4</td>\n",
              "    </tr>\n",
              "  </tbody>\n",
              "</table>\n",
              "</div>"
            ],
            "text/plain": [
              "         математика  физика  литература\n",
              "Иванов            5       5           4\n",
              "Петров            2       4           5\n",
              "Сидоров           3       2           4"
            ]
          },
          "metadata": {
            "tags": []
          },
          "execution_count": 30
        }
      ]
    },
    {
      "cell_type": "code",
      "metadata": {
        "colab": {
          "base_uri": "https://localhost:8080/"
        },
        "id": "ioqLqZxl8PIA",
        "outputId": "26bb09e6-b61f-4117-e59c-ad912a24448e"
      },
      "source": [
        "type(tabel) # посмотрим тип данных"
      ],
      "execution_count": null,
      "outputs": [
        {
          "output_type": "execute_result",
          "data": {
            "text/plain": [
              "pandas.core.frame.DataFrame"
            ]
          },
          "metadata": {
            "tags": []
          },
          "execution_count": 31
        }
      ]
    },
    {
      "cell_type": "code",
      "metadata": {
        "colab": {
          "base_uri": "https://localhost:8080/"
        },
        "id": "nCqhos1t-14Z",
        "outputId": "a1384125-f7d3-47ae-903b-50cea712f8c1"
      },
      "source": [
        "# посмотрим на колонку с данными, похоже на Series\n",
        "tabel['математика']"
      ],
      "execution_count": null,
      "outputs": [
        {
          "output_type": "execute_result",
          "data": {
            "text/plain": [
              "Иванов     5\n",
              "Петров     2\n",
              "Сидоров    3\n",
              "Name: математика, dtype: int64"
            ]
          },
          "metadata": {
            "tags": []
          },
          "execution_count": 32
        }
      ]
    },
    {
      "cell_type": "code",
      "metadata": {
        "colab": {
          "base_uri": "https://localhost:8080/"
        },
        "id": "EVrTzKDX-6UC",
        "outputId": "e7e2140c-eba7-4024-c11d-6671e2692623"
      },
      "source": [
        "# убедимся что это Series, вызвав функцию type\n",
        "type(tabel['математика'])"
      ],
      "execution_count": null,
      "outputs": [
        {
          "output_type": "execute_result",
          "data": {
            "text/plain": [
              "pandas.core.series.Series"
            ]
          },
          "metadata": {
            "tags": []
          },
          "execution_count": 33
        }
      ]
    },
    {
      "cell_type": "code",
      "metadata": {
        "colab": {
          "base_uri": "https://localhost:8080/"
        },
        "id": "iEvXQuzphh2z",
        "outputId": "e7a51c32-b882-4be9-c6b9-c7f09a381ea7"
      },
      "source": [
        "# а еще к колонке можно обращаться по имени через точку\n",
        "\n",
        "tabel.математика"
      ],
      "execution_count": null,
      "outputs": [
        {
          "output_type": "execute_result",
          "data": {
            "text/plain": [
              "Иванов     5\n",
              "Петров     2\n",
              "Сидоров    3\n",
              "Name: математика, dtype: int64"
            ]
          },
          "metadata": {
            "tags": []
          },
          "execution_count": 34
        }
      ]
    },
    {
      "cell_type": "markdown",
      "metadata": {
        "id": "riPRd1IcbZOL"
      },
      "source": [
        "## Еще раз повторяем и соединяем все вместе"
      ]
    },
    {
      "cell_type": "markdown",
      "metadata": {
        "id": "4b3uQoF1jRzr"
      },
      "source": [
        "DataFrame - двумерная структура данных. Строки можно разссматривать как разные экземпляры (объекты), в каждой колонке содержится определенный признак.\n",
        "* Columns - названия столбцов\n",
        "* index - индексы рядов (строк)\n",
        "\n",
        "Структура данных (data)\n",
        "* Row - ряды\n",
        "* Column - колонки"
      ]
    },
    {
      "cell_type": "markdown",
      "metadata": {
        "id": "JLGpUeFObiHd"
      },
      "source": [
        "![image.png](data:image/png;base64,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)"
      ]
    },
    {
      "cell_type": "markdown",
      "metadata": {
        "id": "Elo3uPu6keNQ"
      },
      "source": [
        "Series - это одномерная структура данных, похожая на np.array + индексы.\n",
        "Каждая колонка DataFame является Series"
      ]
    },
    {
      "cell_type": "markdown",
      "metadata": {
        "id": "scfwb4bnczuK"
      },
      "source": [
        "![image.png](data:image/png;base64,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)"
      ]
    },
    {
      "cell_type": "markdown",
      "metadata": {
        "id": "krLa-n4WAKEr"
      },
      "source": [
        "## Экспресс-знакомство с основными методами работы с данными на примере датасета Titanic"
      ]
    },
    {
      "cell_type": "markdown",
      "metadata": {
        "id": "djQlD3iZKTYV"
      },
      "source": [
        "! Мы используем загрузку датасетов из своего источника. Рекомендуем вам загружать из него. Однако, если у вас есть свой датасет, можете использовать ячейки ниже, подключить Google Drive, скопировать на него датасет, и не забудьте при загрузке указать свой адрес к файлу датасета, см. занятие по основам Python."
      ]
    },
    {
      "cell_type": "code",
      "metadata": {
        "colab": {
          "base_uri": "https://localhost:8080/"
        },
        "id": "4KEXLQWiqmug",
        "outputId": "aba41133-8fef-4ea6-96a3-b9a6663d9ffe"
      },
      "source": [
        "!wget http://dataudt.ru/datasets/titanic.csv"
      ],
      "execution_count": null,
      "outputs": [
        {
          "output_type": "stream",
          "text": [
            "--2021-04-15 09:10:55--  http://dataudt.ru/datasets/titanic.csv\n",
            "Resolving dataudt.ru (dataudt.ru)... 37.228.117.130\n",
            "Connecting to dataudt.ru (dataudt.ru)|37.228.117.130|:80... connected.\n",
            "HTTP request sent, awaiting response... 200 OK\n",
            "Length: 29474 (29K) [application/octet-stream]\n",
            "Saving to: ‘titanic.csv.1’\n",
            "\n",
            "titanic.csv.1       100%[===================>]  28.78K  --.-KB/s    in 0.1s    \n",
            "\n",
            "2021-04-15 09:10:56 (203 KB/s) - ‘titanic.csv.1’ saved [29474/29474]\n",
            "\n"
          ],
          "name": "stdout"
        }
      ]
    },
    {
      "cell_type": "code",
      "metadata": {
        "colab": {
          "base_uri": "https://localhost:8080/"
        },
        "id": "QGr54e72LY7P",
        "outputId": "788f3a5d-b124-4907-c14a-531e725eae9b"
      },
      "source": [
        "!ls"
      ],
      "execution_count": null,
      "outputs": [
        {
          "output_type": "stream",
          "text": [
            "sample_data  titanic.csv  titanic.csv.1\n"
          ],
          "name": "stdout"
        }
      ]
    },
    {
      "cell_type": "code",
      "metadata": {
        "colab": {
          "base_uri": "https://localhost:8080/",
          "height": 427
        },
        "id": "yw4WjGTQKQ2G",
        "outputId": "dc1a9e8c-db22-45f1-b9e2-acaaec249460"
      },
      "source": [
        "# загрузим датасет Титаник из csv в DataFrame\n",
        "\n",
        "titanic_df = pd.read_csv('/content/titanic.csv')\n",
        "titanic_df.head(10) # выведем первые 10 строк"
      ],
      "execution_count": null,
      "outputs": [
        {
          "output_type": "execute_result",
          "data": {
            "text/html": [
              "<div>\n",
              "<style scoped>\n",
              "    .dataframe tbody tr th:only-of-type {\n",
              "        vertical-align: middle;\n",
              "    }\n",
              "\n",
              "    .dataframe tbody tr th {\n",
              "        vertical-align: top;\n",
              "    }\n",
              "\n",
              "    .dataframe thead th {\n",
              "        text-align: right;\n",
              "    }\n",
              "</style>\n",
              "<table border=\"1\" class=\"dataframe\">\n",
              "  <thead>\n",
              "    <tr style=\"text-align: right;\">\n",
              "      <th></th>\n",
              "      <th>PassengerId</th>\n",
              "      <th>Survived</th>\n",
              "      <th>Pclass</th>\n",
              "      <th>Name</th>\n",
              "      <th>Sex</th>\n",
              "      <th>Age</th>\n",
              "      <th>SibSp</th>\n",
              "      <th>Parch</th>\n",
              "      <th>Ticket</th>\n",
              "      <th>Fare</th>\n",
              "      <th>Cabin</th>\n",
              "      <th>Embarked</th>\n",
              "    </tr>\n",
              "  </thead>\n",
              "  <tbody>\n",
              "    <tr>\n",
              "      <th>0</th>\n",
              "      <td>892</td>\n",
              "      <td>0</td>\n",
              "      <td>3</td>\n",
              "      <td>Kelly, Mr. James</td>\n",
              "      <td>male</td>\n",
              "      <td>34.5</td>\n",
              "      <td>0</td>\n",
              "      <td>0</td>\n",
              "      <td>330911</td>\n",
              "      <td>7.8292</td>\n",
              "      <td>NaN</td>\n",
              "      <td>Q</td>\n",
              "    </tr>\n",
              "    <tr>\n",
              "      <th>1</th>\n",
              "      <td>893</td>\n",
              "      <td>1</td>\n",
              "      <td>3</td>\n",
              "      <td>Wilkes, Mrs. James (Ellen Needs)</td>\n",
              "      <td>female</td>\n",
              "      <td>47.0</td>\n",
              "      <td>1</td>\n",
              "      <td>0</td>\n",
              "      <td>363272</td>\n",
              "      <td>7.0000</td>\n",
              "      <td>NaN</td>\n",
              "      <td>S</td>\n",
              "    </tr>\n",
              "    <tr>\n",
              "      <th>2</th>\n",
              "      <td>894</td>\n",
              "      <td>0</td>\n",
              "      <td>2</td>\n",
              "      <td>Myles, Mr. Thomas Francis</td>\n",
              "      <td>male</td>\n",
              "      <td>62.0</td>\n",
              "      <td>0</td>\n",
              "      <td>0</td>\n",
              "      <td>240276</td>\n",
              "      <td>9.6875</td>\n",
              "      <td>NaN</td>\n",
              "      <td>Q</td>\n",
              "    </tr>\n",
              "    <tr>\n",
              "      <th>3</th>\n",
              "      <td>895</td>\n",
              "      <td>0</td>\n",
              "      <td>3</td>\n",
              "      <td>Wirz, Mr. Albert</td>\n",
              "      <td>male</td>\n",
              "      <td>27.0</td>\n",
              "      <td>0</td>\n",
              "      <td>0</td>\n",
              "      <td>315154</td>\n",
              "      <td>8.6625</td>\n",
              "      <td>NaN</td>\n",
              "      <td>S</td>\n",
              "    </tr>\n",
              "    <tr>\n",
              "      <th>4</th>\n",
              "      <td>896</td>\n",
              "      <td>1</td>\n",
              "      <td>3</td>\n",
              "      <td>Hirvonen, Mrs. Alexander (Helga E Lindqvist)</td>\n",
              "      <td>female</td>\n",
              "      <td>22.0</td>\n",
              "      <td>1</td>\n",
              "      <td>1</td>\n",
              "      <td>3101298</td>\n",
              "      <td>12.2875</td>\n",
              "      <td>NaN</td>\n",
              "      <td>S</td>\n",
              "    </tr>\n",
              "    <tr>\n",
              "      <th>5</th>\n",
              "      <td>897</td>\n",
              "      <td>0</td>\n",
              "      <td>3</td>\n",
              "      <td>Svensson, Mr. Johan Cervin</td>\n",
              "      <td>male</td>\n",
              "      <td>14.0</td>\n",
              "      <td>0</td>\n",
              "      <td>0</td>\n",
              "      <td>7538</td>\n",
              "      <td>9.2250</td>\n",
              "      <td>NaN</td>\n",
              "      <td>S</td>\n",
              "    </tr>\n",
              "    <tr>\n",
              "      <th>6</th>\n",
              "      <td>898</td>\n",
              "      <td>1</td>\n",
              "      <td>3</td>\n",
              "      <td>Connolly, Miss. Kate</td>\n",
              "      <td>female</td>\n",
              "      <td>30.0</td>\n",
              "      <td>0</td>\n",
              "      <td>0</td>\n",
              "      <td>330972</td>\n",
              "      <td>7.6292</td>\n",
              "      <td>NaN</td>\n",
              "      <td>Q</td>\n",
              "    </tr>\n",
              "    <tr>\n",
              "      <th>7</th>\n",
              "      <td>899</td>\n",
              "      <td>0</td>\n",
              "      <td>2</td>\n",
              "      <td>Caldwell, Mr. Albert Francis</td>\n",
              "      <td>male</td>\n",
              "      <td>26.0</td>\n",
              "      <td>1</td>\n",
              "      <td>1</td>\n",
              "      <td>248738</td>\n",
              "      <td>29.0000</td>\n",
              "      <td>NaN</td>\n",
              "      <td>S</td>\n",
              "    </tr>\n",
              "    <tr>\n",
              "      <th>8</th>\n",
              "      <td>900</td>\n",
              "      <td>1</td>\n",
              "      <td>3</td>\n",
              "      <td>Abrahim, Mrs. Joseph (Sophie Halaut Easu)</td>\n",
              "      <td>female</td>\n",
              "      <td>18.0</td>\n",
              "      <td>0</td>\n",
              "      <td>0</td>\n",
              "      <td>2657</td>\n",
              "      <td>7.2292</td>\n",
              "      <td>NaN</td>\n",
              "      <td>C</td>\n",
              "    </tr>\n",
              "    <tr>\n",
              "      <th>9</th>\n",
              "      <td>901</td>\n",
              "      <td>0</td>\n",
              "      <td>3</td>\n",
              "      <td>Davies, Mr. John Samuel</td>\n",
              "      <td>male</td>\n",
              "      <td>21.0</td>\n",
              "      <td>2</td>\n",
              "      <td>0</td>\n",
              "      <td>A/4 48871</td>\n",
              "      <td>24.1500</td>\n",
              "      <td>NaN</td>\n",
              "      <td>S</td>\n",
              "    </tr>\n",
              "  </tbody>\n",
              "</table>\n",
              "</div>"
            ],
            "text/plain": [
              "   PassengerId  Survived  Pclass  ...     Fare Cabin  Embarked\n",
              "0          892         0       3  ...   7.8292   NaN         Q\n",
              "1          893         1       3  ...   7.0000   NaN         S\n",
              "2          894         0       2  ...   9.6875   NaN         Q\n",
              "3          895         0       3  ...   8.6625   NaN         S\n",
              "4          896         1       3  ...  12.2875   NaN         S\n",
              "5          897         0       3  ...   9.2250   NaN         S\n",
              "6          898         1       3  ...   7.6292   NaN         Q\n",
              "7          899         0       2  ...  29.0000   NaN         S\n",
              "8          900         1       3  ...   7.2292   NaN         C\n",
              "9          901         0       3  ...  24.1500   NaN         S\n",
              "\n",
              "[10 rows x 12 columns]"
            ]
          },
          "metadata": {
            "tags": []
          },
          "execution_count": 37
        }
      ]
    },
    {
      "cell_type": "markdown",
      "metadata": {
        "id": "uO_mmdCfLCi6"
      },
      "source": [
        "Вот эти 2 ячейки ниже можно использовать чтобы загрузить данные. Не забудьте изменить путь к файлу. Если не хотите менять путь, нужно предварительно на Google Drive создать папку datasets, и уже в неё скопировать файлы датасетов.\n"
      ]
    },
    {
      "cell_type": "code",
      "metadata": {
        "id": "RDvFcj3CjnxG"
      },
      "source": [
        "# подключаем Google Drive - будем скачивать с него, т.к. намного быстрее\n",
        "# файлы предварительно уже записали на Google Drive\n",
        "# после запуска переходим по ссылке, которая появится, для идентификации\n",
        "# копируем оттуда код authorization code и вставляем здесь в окошко\n",
        "# Вам нужно создать собственные папки, указать собственный путь, какой у Вас к файлам\n",
        "\n",
        "#from google.colab import drive\n",
        "#drive.mount('/content/drive')"
      ],
      "execution_count": null,
      "outputs": []
    },
    {
      "cell_type": "code",
      "metadata": {
        "id": "Ou7PI5qV-936"
      },
      "source": [
        "# загрузим датасет Титаник из csv в DataFrame\n",
        "\n",
        "#titanic_df = pd.read_csv('/content/drive/MyDrive/datasets/titanic.csv')\n",
        "#titanic_df.head(10) # выведем первые 10 строк"
      ],
      "execution_count": null,
      "outputs": []
    },
    {
      "cell_type": "code",
      "metadata": {
        "colab": {
          "base_uri": "https://localhost:8080/",
          "height": 255
        },
        "id": "Rs0B_9DadBWm",
        "outputId": "9f5b5668-6d31-4df6-f189-14c508c58e55"
      },
      "source": [
        "titanic_df.tail() # выведем последние 5 строк"
      ],
      "execution_count": null,
      "outputs": [
        {
          "output_type": "execute_result",
          "data": {
            "text/html": [
              "<div>\n",
              "<style scoped>\n",
              "    .dataframe tbody tr th:only-of-type {\n",
              "        vertical-align: middle;\n",
              "    }\n",
              "\n",
              "    .dataframe tbody tr th {\n",
              "        vertical-align: top;\n",
              "    }\n",
              "\n",
              "    .dataframe thead th {\n",
              "        text-align: right;\n",
              "    }\n",
              "</style>\n",
              "<table border=\"1\" class=\"dataframe\">\n",
              "  <thead>\n",
              "    <tr style=\"text-align: right;\">\n",
              "      <th></th>\n",
              "      <th>PassengerId</th>\n",
              "      <th>Survived</th>\n",
              "      <th>Pclass</th>\n",
              "      <th>Name</th>\n",
              "      <th>Sex</th>\n",
              "      <th>Age</th>\n",
              "      <th>SibSp</th>\n",
              "      <th>Parch</th>\n",
              "      <th>Ticket</th>\n",
              "      <th>Fare</th>\n",
              "      <th>Cabin</th>\n",
              "      <th>Embarked</th>\n",
              "    </tr>\n",
              "  </thead>\n",
              "  <tbody>\n",
              "    <tr>\n",
              "      <th>413</th>\n",
              "      <td>1305</td>\n",
              "      <td>0</td>\n",
              "      <td>3</td>\n",
              "      <td>Spector, Mr. Woolf</td>\n",
              "      <td>male</td>\n",
              "      <td>NaN</td>\n",
              "      <td>0</td>\n",
              "      <td>0</td>\n",
              "      <td>A.5. 3236</td>\n",
              "      <td>8.0500</td>\n",
              "      <td>NaN</td>\n",
              "      <td>S</td>\n",
              "    </tr>\n",
              "    <tr>\n",
              "      <th>414</th>\n",
              "      <td>1306</td>\n",
              "      <td>1</td>\n",
              "      <td>1</td>\n",
              "      <td>Oliva y Ocana, Dona. Fermina</td>\n",
              "      <td>female</td>\n",
              "      <td>39.0</td>\n",
              "      <td>0</td>\n",
              "      <td>0</td>\n",
              "      <td>PC 17758</td>\n",
              "      <td>108.9000</td>\n",
              "      <td>C105</td>\n",
              "      <td>C</td>\n",
              "    </tr>\n",
              "    <tr>\n",
              "      <th>415</th>\n",
              "      <td>1307</td>\n",
              "      <td>0</td>\n",
              "      <td>3</td>\n",
              "      <td>Saether, Mr. Simon Sivertsen</td>\n",
              "      <td>male</td>\n",
              "      <td>38.5</td>\n",
              "      <td>0</td>\n",
              "      <td>0</td>\n",
              "      <td>SOTON/O.Q. 3101262</td>\n",
              "      <td>7.2500</td>\n",
              "      <td>NaN</td>\n",
              "      <td>S</td>\n",
              "    </tr>\n",
              "    <tr>\n",
              "      <th>416</th>\n",
              "      <td>1308</td>\n",
              "      <td>0</td>\n",
              "      <td>3</td>\n",
              "      <td>Ware, Mr. Frederick</td>\n",
              "      <td>male</td>\n",
              "      <td>NaN</td>\n",
              "      <td>0</td>\n",
              "      <td>0</td>\n",
              "      <td>359309</td>\n",
              "      <td>8.0500</td>\n",
              "      <td>NaN</td>\n",
              "      <td>S</td>\n",
              "    </tr>\n",
              "    <tr>\n",
              "      <th>417</th>\n",
              "      <td>1309</td>\n",
              "      <td>0</td>\n",
              "      <td>3</td>\n",
              "      <td>Peter, Master. Michael J</td>\n",
              "      <td>male</td>\n",
              "      <td>NaN</td>\n",
              "      <td>1</td>\n",
              "      <td>1</td>\n",
              "      <td>2668</td>\n",
              "      <td>22.3583</td>\n",
              "      <td>NaN</td>\n",
              "      <td>C</td>\n",
              "    </tr>\n",
              "  </tbody>\n",
              "</table>\n",
              "</div>"
            ],
            "text/plain": [
              "     PassengerId  Survived  Pclass  ...      Fare Cabin  Embarked\n",
              "413         1305         0       3  ...    8.0500   NaN         S\n",
              "414         1306         1       1  ...  108.9000  C105         C\n",
              "415         1307         0       3  ...    7.2500   NaN         S\n",
              "416         1308         0       3  ...    8.0500   NaN         S\n",
              "417         1309         0       3  ...   22.3583   NaN         C\n",
              "\n",
              "[5 rows x 12 columns]"
            ]
          },
          "metadata": {
            "tags": []
          },
          "execution_count": 40
        }
      ]
    },
    {
      "cell_type": "code",
      "metadata": {
        "colab": {
          "base_uri": "https://localhost:8080/"
        },
        "id": "Df4txEmvDj-s",
        "outputId": "8d32ccad-4ea0-46a7-c3a8-7d96b9e8f922"
      },
      "source": [
        "titanic_df.shape # посмотрим на форму загруженного DataFrame"
      ],
      "execution_count": null,
      "outputs": [
        {
          "output_type": "execute_result",
          "data": {
            "text/plain": [
              "(418, 12)"
            ]
          },
          "metadata": {
            "tags": []
          },
          "execution_count": 41
        }
      ]
    },
    {
      "cell_type": "code",
      "metadata": {
        "colab": {
          "base_uri": "https://localhost:8080/"
        },
        "id": "4McI2BvbBpXm",
        "outputId": "3d3282e3-baea-4048-f1c1-ddf57e90fea1"
      },
      "source": [
        "titanic_df.info() # выведем инфомрацию методом info"
      ],
      "execution_count": null,
      "outputs": [
        {
          "output_type": "stream",
          "text": [
            "<class 'pandas.core.frame.DataFrame'>\n",
            "RangeIndex: 418 entries, 0 to 417\n",
            "Data columns (total 12 columns):\n",
            " #   Column       Non-Null Count  Dtype  \n",
            "---  ------       --------------  -----  \n",
            " 0   PassengerId  418 non-null    int64  \n",
            " 1   Survived     418 non-null    int64  \n",
            " 2   Pclass       418 non-null    int64  \n",
            " 3   Name         418 non-null    object \n",
            " 4   Sex          418 non-null    object \n",
            " 5   Age          332 non-null    float64\n",
            " 6   SibSp        418 non-null    int64  \n",
            " 7   Parch        418 non-null    int64  \n",
            " 8   Ticket       418 non-null    object \n",
            " 9   Fare         417 non-null    float64\n",
            " 10  Cabin        91 non-null     object \n",
            " 11  Embarked     418 non-null    object \n",
            "dtypes: float64(2), int64(5), object(5)\n",
            "memory usage: 39.3+ KB\n"
          ],
          "name": "stdout"
        }
      ]
    },
    {
      "cell_type": "code",
      "metadata": {
        "colab": {
          "base_uri": "https://localhost:8080/"
        },
        "id": "L9JyBoPkDS4i",
        "outputId": "fa495642-4a7a-4d84-be60-ab10ec4347f6"
      },
      "source": [
        "titanic_df['Sex'] # Посмотрим на колонку \"Пол\""
      ],
      "execution_count": null,
      "outputs": [
        {
          "output_type": "execute_result",
          "data": {
            "text/plain": [
              "0        male\n",
              "1      female\n",
              "2        male\n",
              "3        male\n",
              "4      female\n",
              "        ...  \n",
              "413      male\n",
              "414    female\n",
              "415      male\n",
              "416      male\n",
              "417      male\n",
              "Name: Sex, Length: 418, dtype: object"
            ]
          },
          "metadata": {
            "tags": []
          },
          "execution_count": 43
        }
      ]
    },
    {
      "cell_type": "code",
      "metadata": {
        "colab": {
          "base_uri": "https://localhost:8080/"
        },
        "id": "ojw8kBxiD-Uq",
        "outputId": "a2f42dca-5b3f-46c0-b4d5-b939fa99b0df"
      },
      "source": [
        "titanic_df['Sex'].value_counts() # методом value_counts выведем количество мужчин и женщин"
      ],
      "execution_count": null,
      "outputs": [
        {
          "output_type": "execute_result",
          "data": {
            "text/plain": [
              "male      266\n",
              "female    152\n",
              "Name: Sex, dtype: int64"
            ]
          },
          "metadata": {
            "tags": []
          },
          "execution_count": 44
        }
      ]
    },
    {
      "cell_type": "code",
      "metadata": {
        "colab": {
          "base_uri": "https://localhost:8080/"
        },
        "id": "o81jBRy6EIza",
        "outputId": "f22ccbc7-0854-43b0-c848-5df41af58068"
      },
      "source": [
        "titanic_df['Age'].value_counts() # методом value_counts выведем сколько раз встречаются разные значения возраста в наших данных "
      ],
      "execution_count": null,
      "outputs": [
        {
          "output_type": "execute_result",
          "data": {
            "text/plain": [
              "24.0    17\n",
              "21.0    17\n",
              "22.0    16\n",
              "30.0    15\n",
              "18.0    13\n",
              "        ..\n",
              "7.0      1\n",
              "60.5     1\n",
              "26.5     1\n",
              "76.0     1\n",
              "34.5     1\n",
              "Name: Age, Length: 79, dtype: int64"
            ]
          },
          "metadata": {
            "tags": []
          },
          "execution_count": 45
        }
      ]
    },
    {
      "cell_type": "code",
      "metadata": {
        "colab": {
          "base_uri": "https://localhost:8080/"
        },
        "id": "maZU-TIWraaL",
        "outputId": "1d7d08c4-17b1-4d24-8269-58bfccb72ab3"
      },
      "source": [
        "age_mask = titanic_df['Age'].isna() # создадим маску, соответствующую пропущенным значениям в колонке Возраст (Age)\n",
        "age_mask # выведем маску - это Series содержащий данные формата boolean"
      ],
      "execution_count": null,
      "outputs": [
        {
          "output_type": "execute_result",
          "data": {
            "text/plain": [
              "0      False\n",
              "1      False\n",
              "2      False\n",
              "3      False\n",
              "4      False\n",
              "       ...  \n",
              "413     True\n",
              "414    False\n",
              "415    False\n",
              "416     True\n",
              "417     True\n",
              "Name: Age, Length: 418, dtype: bool"
            ]
          },
          "metadata": {
            "tags": []
          },
          "execution_count": 46
        }
      ]
    },
    {
      "cell_type": "code",
      "metadata": {
        "colab": {
          "base_uri": "https://localhost:8080/",
          "height": 487
        },
        "id": "lx6lNUs1EPJK",
        "outputId": "c7f1d1ba-fbbc-4b63-b6bc-f193eaf8a811"
      },
      "source": [
        "titanic_df[age_mask] # применим маску к датасету и посмотрим на записи в которых возраст неизвестен"
      ],
      "execution_count": null,
      "outputs": [
        {
          "output_type": "execute_result",
          "data": {
            "text/html": [
              "<div>\n",
              "<style scoped>\n",
              "    .dataframe tbody tr th:only-of-type {\n",
              "        vertical-align: middle;\n",
              "    }\n",
              "\n",
              "    .dataframe tbody tr th {\n",
              "        vertical-align: top;\n",
              "    }\n",
              "\n",
              "    .dataframe thead th {\n",
              "        text-align: right;\n",
              "    }\n",
              "</style>\n",
              "<table border=\"1\" class=\"dataframe\">\n",
              "  <thead>\n",
              "    <tr style=\"text-align: right;\">\n",
              "      <th></th>\n",
              "      <th>PassengerId</th>\n",
              "      <th>Survived</th>\n",
              "      <th>Pclass</th>\n",
              "      <th>Name</th>\n",
              "      <th>Sex</th>\n",
              "      <th>Age</th>\n",
              "      <th>SibSp</th>\n",
              "      <th>Parch</th>\n",
              "      <th>Ticket</th>\n",
              "      <th>Fare</th>\n",
              "      <th>Cabin</th>\n",
              "      <th>Embarked</th>\n",
              "    </tr>\n",
              "  </thead>\n",
              "  <tbody>\n",
              "    <tr>\n",
              "      <th>10</th>\n",
              "      <td>902</td>\n",
              "      <td>0</td>\n",
              "      <td>3</td>\n",
              "      <td>Ilieff, Mr. Ylio</td>\n",
              "      <td>male</td>\n",
              "      <td>NaN</td>\n",
              "      <td>0</td>\n",
              "      <td>0</td>\n",
              "      <td>349220</td>\n",
              "      <td>7.8958</td>\n",
              "      <td>NaN</td>\n",
              "      <td>S</td>\n",
              "    </tr>\n",
              "    <tr>\n",
              "      <th>22</th>\n",
              "      <td>914</td>\n",
              "      <td>1</td>\n",
              "      <td>1</td>\n",
              "      <td>Flegenheim, Mrs. Alfred (Antoinette)</td>\n",
              "      <td>female</td>\n",
              "      <td>NaN</td>\n",
              "      <td>0</td>\n",
              "      <td>0</td>\n",
              "      <td>PC 17598</td>\n",
              "      <td>31.6833</td>\n",
              "      <td>NaN</td>\n",
              "      <td>S</td>\n",
              "    </tr>\n",
              "    <tr>\n",
              "      <th>29</th>\n",
              "      <td>921</td>\n",
              "      <td>0</td>\n",
              "      <td>3</td>\n",
              "      <td>Samaan, Mr. Elias</td>\n",
              "      <td>male</td>\n",
              "      <td>NaN</td>\n",
              "      <td>2</td>\n",
              "      <td>0</td>\n",
              "      <td>2662</td>\n",
              "      <td>21.6792</td>\n",
              "      <td>NaN</td>\n",
              "      <td>C</td>\n",
              "    </tr>\n",
              "    <tr>\n",
              "      <th>33</th>\n",
              "      <td>925</td>\n",
              "      <td>1</td>\n",
              "      <td>3</td>\n",
              "      <td>Johnston, Mrs. Andrew G (Elizabeth Lily\" Watson)\"</td>\n",
              "      <td>female</td>\n",
              "      <td>NaN</td>\n",
              "      <td>1</td>\n",
              "      <td>2</td>\n",
              "      <td>W./C. 6607</td>\n",
              "      <td>23.4500</td>\n",
              "      <td>NaN</td>\n",
              "      <td>S</td>\n",
              "    </tr>\n",
              "    <tr>\n",
              "      <th>36</th>\n",
              "      <td>928</td>\n",
              "      <td>1</td>\n",
              "      <td>3</td>\n",
              "      <td>Roth, Miss. Sarah A</td>\n",
              "      <td>female</td>\n",
              "      <td>NaN</td>\n",
              "      <td>0</td>\n",
              "      <td>0</td>\n",
              "      <td>342712</td>\n",
              "      <td>8.0500</td>\n",
              "      <td>NaN</td>\n",
              "      <td>S</td>\n",
              "    </tr>\n",
              "    <tr>\n",
              "      <th>...</th>\n",
              "      <td>...</td>\n",
              "      <td>...</td>\n",
              "      <td>...</td>\n",
              "      <td>...</td>\n",
              "      <td>...</td>\n",
              "      <td>...</td>\n",
              "      <td>...</td>\n",
              "      <td>...</td>\n",
              "      <td>...</td>\n",
              "      <td>...</td>\n",
              "      <td>...</td>\n",
              "      <td>...</td>\n",
              "    </tr>\n",
              "    <tr>\n",
              "      <th>408</th>\n",
              "      <td>1300</td>\n",
              "      <td>1</td>\n",
              "      <td>3</td>\n",
              "      <td>Riordan, Miss. Johanna Hannah\"\"</td>\n",
              "      <td>female</td>\n",
              "      <td>NaN</td>\n",
              "      <td>0</td>\n",
              "      <td>0</td>\n",
              "      <td>334915</td>\n",
              "      <td>7.7208</td>\n",
              "      <td>NaN</td>\n",
              "      <td>Q</td>\n",
              "    </tr>\n",
              "    <tr>\n",
              "      <th>410</th>\n",
              "      <td>1302</td>\n",
              "      <td>1</td>\n",
              "      <td>3</td>\n",
              "      <td>Naughton, Miss. Hannah</td>\n",
              "      <td>female</td>\n",
              "      <td>NaN</td>\n",
              "      <td>0</td>\n",
              "      <td>0</td>\n",
              "      <td>365237</td>\n",
              "      <td>7.7500</td>\n",
              "      <td>NaN</td>\n",
              "      <td>Q</td>\n",
              "    </tr>\n",
              "    <tr>\n",
              "      <th>413</th>\n",
              "      <td>1305</td>\n",
              "      <td>0</td>\n",
              "      <td>3</td>\n",
              "      <td>Spector, Mr. Woolf</td>\n",
              "      <td>male</td>\n",
              "      <td>NaN</td>\n",
              "      <td>0</td>\n",
              "      <td>0</td>\n",
              "      <td>A.5. 3236</td>\n",
              "      <td>8.0500</td>\n",
              "      <td>NaN</td>\n",
              "      <td>S</td>\n",
              "    </tr>\n",
              "    <tr>\n",
              "      <th>416</th>\n",
              "      <td>1308</td>\n",
              "      <td>0</td>\n",
              "      <td>3</td>\n",
              "      <td>Ware, Mr. Frederick</td>\n",
              "      <td>male</td>\n",
              "      <td>NaN</td>\n",
              "      <td>0</td>\n",
              "      <td>0</td>\n",
              "      <td>359309</td>\n",
              "      <td>8.0500</td>\n",
              "      <td>NaN</td>\n",
              "      <td>S</td>\n",
              "    </tr>\n",
              "    <tr>\n",
              "      <th>417</th>\n",
              "      <td>1309</td>\n",
              "      <td>0</td>\n",
              "      <td>3</td>\n",
              "      <td>Peter, Master. Michael J</td>\n",
              "      <td>male</td>\n",
              "      <td>NaN</td>\n",
              "      <td>1</td>\n",
              "      <td>1</td>\n",
              "      <td>2668</td>\n",
              "      <td>22.3583</td>\n",
              "      <td>NaN</td>\n",
              "      <td>C</td>\n",
              "    </tr>\n",
              "  </tbody>\n",
              "</table>\n",
              "<p>86 rows × 12 columns</p>\n",
              "</div>"
            ],
            "text/plain": [
              "     PassengerId  Survived  Pclass  ...     Fare Cabin  Embarked\n",
              "10           902         0       3  ...   7.8958   NaN         S\n",
              "22           914         1       1  ...  31.6833   NaN         S\n",
              "29           921         0       3  ...  21.6792   NaN         C\n",
              "33           925         1       3  ...  23.4500   NaN         S\n",
              "36           928         1       3  ...   8.0500   NaN         S\n",
              "..           ...       ...     ...  ...      ...   ...       ...\n",
              "408         1300         1       3  ...   7.7208   NaN         Q\n",
              "410         1302         1       3  ...   7.7500   NaN         Q\n",
              "413         1305         0       3  ...   8.0500   NaN         S\n",
              "416         1308         0       3  ...   8.0500   NaN         S\n",
              "417         1309         0       3  ...  22.3583   NaN         C\n",
              "\n",
              "[86 rows x 12 columns]"
            ]
          },
          "metadata": {
            "tags": []
          },
          "execution_count": 47
        }
      ]
    },
    {
      "cell_type": "code",
      "metadata": {
        "colab": {
          "base_uri": "https://localhost:8080/",
          "height": 428
        },
        "id": "0dTO1ZW-p1s7",
        "outputId": "1c9c73af-033e-4c0d-f05f-05d761d79a4b"
      },
      "source": [
        "# предположим, что отсутствие информации о возрасте и номере каюты может оказаться полезным признаком\n",
        "# поэтому прежде чем обрабатывтаь пропуски сохраним информацию о том, что пропуски в данных были\n",
        "# в новых колонках Age_is_Unknown  и Cabin_is_Unknown\n",
        "\n",
        "titanic_df['Age_is_Unknown'] = titanic_df['Age'].isna().astype(int) # к колоке Age последовательно применяем isna,  а затем переводим логические True/False в целочисленные 1 и 0\n",
        "titanic_df['Cabin_is_Unknown'] = titanic_df['Cabin'].isna().astype(int) # к колоке Cabin последовательно применяем isna,  а затем переводим логические True/False в целочисленные 1 и 0\n",
        "titanic_df.head() # выведем 5 первых строк"
      ],
      "execution_count": null,
      "outputs": [
        {
          "output_type": "execute_result",
          "data": {
            "text/html": [
              "<div>\n",
              "<style scoped>\n",
              "    .dataframe tbody tr th:only-of-type {\n",
              "        vertical-align: middle;\n",
              "    }\n",
              "\n",
              "    .dataframe tbody tr th {\n",
              "        vertical-align: top;\n",
              "    }\n",
              "\n",
              "    .dataframe thead th {\n",
              "        text-align: right;\n",
              "    }\n",
              "</style>\n",
              "<table border=\"1\" class=\"dataframe\">\n",
              "  <thead>\n",
              "    <tr style=\"text-align: right;\">\n",
              "      <th></th>\n",
              "      <th>PassengerId</th>\n",
              "      <th>Survived</th>\n",
              "      <th>Pclass</th>\n",
              "      <th>Name</th>\n",
              "      <th>Sex</th>\n",
              "      <th>Age</th>\n",
              "      <th>SibSp</th>\n",
              "      <th>Parch</th>\n",
              "      <th>Ticket</th>\n",
              "      <th>Fare</th>\n",
              "      <th>Cabin</th>\n",
              "      <th>Embarked</th>\n",
              "      <th>Age_is_Unknown</th>\n",
              "      <th>Cabin_is_Unknown</th>\n",
              "    </tr>\n",
              "  </thead>\n",
              "  <tbody>\n",
              "    <tr>\n",
              "      <th>0</th>\n",
              "      <td>892</td>\n",
              "      <td>0</td>\n",
              "      <td>3</td>\n",
              "      <td>Kelly, Mr. James</td>\n",
              "      <td>male</td>\n",
              "      <td>34.5</td>\n",
              "      <td>0</td>\n",
              "      <td>0</td>\n",
              "      <td>330911</td>\n",
              "      <td>7.8292</td>\n",
              "      <td>NaN</td>\n",
              "      <td>Q</td>\n",
              "      <td>0</td>\n",
              "      <td>1</td>\n",
              "    </tr>\n",
              "    <tr>\n",
              "      <th>1</th>\n",
              "      <td>893</td>\n",
              "      <td>1</td>\n",
              "      <td>3</td>\n",
              "      <td>Wilkes, Mrs. James (Ellen Needs)</td>\n",
              "      <td>female</td>\n",
              "      <td>47.0</td>\n",
              "      <td>1</td>\n",
              "      <td>0</td>\n",
              "      <td>363272</td>\n",
              "      <td>7.0000</td>\n",
              "      <td>NaN</td>\n",
              "      <td>S</td>\n",
              "      <td>0</td>\n",
              "      <td>1</td>\n",
              "    </tr>\n",
              "    <tr>\n",
              "      <th>2</th>\n",
              "      <td>894</td>\n",
              "      <td>0</td>\n",
              "      <td>2</td>\n",
              "      <td>Myles, Mr. Thomas Francis</td>\n",
              "      <td>male</td>\n",
              "      <td>62.0</td>\n",
              "      <td>0</td>\n",
              "      <td>0</td>\n",
              "      <td>240276</td>\n",
              "      <td>9.6875</td>\n",
              "      <td>NaN</td>\n",
              "      <td>Q</td>\n",
              "      <td>0</td>\n",
              "      <td>1</td>\n",
              "    </tr>\n",
              "    <tr>\n",
              "      <th>3</th>\n",
              "      <td>895</td>\n",
              "      <td>0</td>\n",
              "      <td>3</td>\n",
              "      <td>Wirz, Mr. Albert</td>\n",
              "      <td>male</td>\n",
              "      <td>27.0</td>\n",
              "      <td>0</td>\n",
              "      <td>0</td>\n",
              "      <td>315154</td>\n",
              "      <td>8.6625</td>\n",
              "      <td>NaN</td>\n",
              "      <td>S</td>\n",
              "      <td>0</td>\n",
              "      <td>1</td>\n",
              "    </tr>\n",
              "    <tr>\n",
              "      <th>4</th>\n",
              "      <td>896</td>\n",
              "      <td>1</td>\n",
              "      <td>3</td>\n",
              "      <td>Hirvonen, Mrs. Alexander (Helga E Lindqvist)</td>\n",
              "      <td>female</td>\n",
              "      <td>22.0</td>\n",
              "      <td>1</td>\n",
              "      <td>1</td>\n",
              "      <td>3101298</td>\n",
              "      <td>12.2875</td>\n",
              "      <td>NaN</td>\n",
              "      <td>S</td>\n",
              "      <td>0</td>\n",
              "      <td>1</td>\n",
              "    </tr>\n",
              "  </tbody>\n",
              "</table>\n",
              "</div>"
            ],
            "text/plain": [
              "   PassengerId  Survived  Pclass  ... Embarked Age_is_Unknown  Cabin_is_Unknown\n",
              "0          892         0       3  ...        Q              0                 1\n",
              "1          893         1       3  ...        S              0                 1\n",
              "2          894         0       2  ...        Q              0                 1\n",
              "3          895         0       3  ...        S              0                 1\n",
              "4          896         1       3  ...        S              0                 1\n",
              "\n",
              "[5 rows x 14 columns]"
            ]
          },
          "metadata": {
            "tags": []
          },
          "execution_count": 48
        }
      ]
    },
    {
      "cell_type": "code",
      "metadata": {
        "id": "fF-p0jb5FQdo"
      },
      "source": [
        "median_age = titanic_df['Age'].median() # находим медианну всех возрастов\n",
        "repl = {'Age' : median_age} # создадим словарь\n",
        "titanic_df.fillna(repl, inplace=True) # заполним все пропущенные значения в колонке возраст медианным значением"
      ],
      "execution_count": null,
      "outputs": []
    },
    {
      "cell_type": "code",
      "metadata": {
        "id": "xbtLxheZH-Ny"
      },
      "source": [
        "titanic_df.drop(columns=['PassengerId', 'Cabin'], inplace=True) # удалим колонки PassengerId и Cabin"
      ],
      "execution_count": null,
      "outputs": []
    },
    {
      "cell_type": "code",
      "metadata": {
        "colab": {
          "base_uri": "https://localhost:8080/"
        },
        "id": "nU3Ge09kIEKj",
        "outputId": "9e2cb614-478c-4459-8ce6-3102ecca8e7b"
      },
      "source": [
        "titanic_df.info() # выведем информацию о том, как сейчас выглядят наши данные. как видим есть только одно пропущенное значение в колонке fare"
      ],
      "execution_count": null,
      "outputs": [
        {
          "output_type": "stream",
          "text": [
            "<class 'pandas.core.frame.DataFrame'>\n",
            "RangeIndex: 418 entries, 0 to 417\n",
            "Data columns (total 12 columns):\n",
            " #   Column            Non-Null Count  Dtype  \n",
            "---  ------            --------------  -----  \n",
            " 0   Survived          418 non-null    int64  \n",
            " 1   Pclass            418 non-null    int64  \n",
            " 2   Name              418 non-null    object \n",
            " 3   Sex               418 non-null    object \n",
            " 4   Age               418 non-null    float64\n",
            " 5   SibSp             418 non-null    int64  \n",
            " 6   Parch             418 non-null    int64  \n",
            " 7   Ticket            418 non-null    object \n",
            " 8   Fare              417 non-null    float64\n",
            " 9   Embarked          418 non-null    object \n",
            " 10  Age_is_Unknown    418 non-null    int64  \n",
            " 11  Cabin_is_Unknown  418 non-null    int64  \n",
            "dtypes: float64(2), int64(6), object(4)\n",
            "memory usage: 39.3+ KB\n"
          ],
          "name": "stdout"
        }
      ]
    },
    {
      "cell_type": "code",
      "metadata": {
        "id": "hZJSmAjSIPpi"
      },
      "source": [
        "titanic_df.dropna(inplace=True) # удалим строку с пропущенным значением"
      ],
      "execution_count": null,
      "outputs": []
    },
    {
      "cell_type": "code",
      "metadata": {
        "colab": {
          "base_uri": "https://localhost:8080/"
        },
        "id": "vY1S6dHzIYCq",
        "outputId": "ace8b841-77d3-4885-9e41-9c2777fee756"
      },
      "source": [
        "titanic_df.info() # посмотрим на результат"
      ],
      "execution_count": null,
      "outputs": [
        {
          "output_type": "stream",
          "text": [
            "<class 'pandas.core.frame.DataFrame'>\n",
            "Int64Index: 417 entries, 0 to 417\n",
            "Data columns (total 12 columns):\n",
            " #   Column            Non-Null Count  Dtype  \n",
            "---  ------            --------------  -----  \n",
            " 0   Survived          417 non-null    int64  \n",
            " 1   Pclass            417 non-null    int64  \n",
            " 2   Name              417 non-null    object \n",
            " 3   Sex               417 non-null    object \n",
            " 4   Age               417 non-null    float64\n",
            " 5   SibSp             417 non-null    int64  \n",
            " 6   Parch             417 non-null    int64  \n",
            " 7   Ticket            417 non-null    object \n",
            " 8   Fare              417 non-null    float64\n",
            " 9   Embarked          417 non-null    object \n",
            " 10  Age_is_Unknown    417 non-null    int64  \n",
            " 11  Cabin_is_Unknown  417 non-null    int64  \n",
            "dtypes: float64(2), int64(6), object(4)\n",
            "memory usage: 42.4+ KB\n"
          ],
          "name": "stdout"
        }
      ]
    },
    {
      "cell_type": "code",
      "metadata": {
        "colab": {
          "base_uri": "https://localhost:8080/"
        },
        "id": "NUcyo-FYIdXC",
        "outputId": "38987060-b690-4291-d1d7-e814702df3b5"
      },
      "source": [
        "titanic_df['SibSp'].value_counts() # посмотрим, какие значения принимает колонка  SibSp (родственники)"
      ],
      "execution_count": null,
      "outputs": [
        {
          "output_type": "execute_result",
          "data": {
            "text/plain": [
              "0    282\n",
              "1    110\n",
              "2     14\n",
              "4      4\n",
              "3      4\n",
              "8      2\n",
              "5      1\n",
              "Name: SibSp, dtype: int64"
            ]
          },
          "metadata": {
            "tags": []
          },
          "execution_count": 54
        }
      ]
    },
    {
      "cell_type": "code",
      "metadata": {
        "colab": {
          "base_uri": "https://localhost:8080/",
          "height": 445
        },
        "id": "KEq9SZYIJUQj",
        "outputId": "698dcbf6-6a77-4d90-ff7f-a1d108c6c55d"
      },
      "source": [
        "# создадим новый признак (новую колонку 'Has SibSp') - означающую есть ли родственники на борту\n",
        "\n",
        "titanic_df['Has SibSp'] = (titanic_df['SibSp'] > 0).astype(int) \n",
        "titanic_df.head()"
      ],
      "execution_count": null,
      "outputs": [
        {
          "output_type": "execute_result",
          "data": {
            "text/html": [
              "<div>\n",
              "<style scoped>\n",
              "    .dataframe tbody tr th:only-of-type {\n",
              "        vertical-align: middle;\n",
              "    }\n",
              "\n",
              "    .dataframe tbody tr th {\n",
              "        vertical-align: top;\n",
              "    }\n",
              "\n",
              "    .dataframe thead th {\n",
              "        text-align: right;\n",
              "    }\n",
              "</style>\n",
              "<table border=\"1\" class=\"dataframe\">\n",
              "  <thead>\n",
              "    <tr style=\"text-align: right;\">\n",
              "      <th></th>\n",
              "      <th>Survived</th>\n",
              "      <th>Pclass</th>\n",
              "      <th>Name</th>\n",
              "      <th>Sex</th>\n",
              "      <th>Age</th>\n",
              "      <th>SibSp</th>\n",
              "      <th>Parch</th>\n",
              "      <th>Ticket</th>\n",
              "      <th>Fare</th>\n",
              "      <th>Embarked</th>\n",
              "      <th>Age_is_Unknown</th>\n",
              "      <th>Cabin_is_Unknown</th>\n",
              "      <th>Has SibSp</th>\n",
              "    </tr>\n",
              "  </thead>\n",
              "  <tbody>\n",
              "    <tr>\n",
              "      <th>0</th>\n",
              "      <td>0</td>\n",
              "      <td>3</td>\n",
              "      <td>Kelly, Mr. James</td>\n",
              "      <td>male</td>\n",
              "      <td>34.5</td>\n",
              "      <td>0</td>\n",
              "      <td>0</td>\n",
              "      <td>330911</td>\n",
              "      <td>7.8292</td>\n",
              "      <td>Q</td>\n",
              "      <td>0</td>\n",
              "      <td>1</td>\n",
              "      <td>0</td>\n",
              "    </tr>\n",
              "    <tr>\n",
              "      <th>1</th>\n",
              "      <td>1</td>\n",
              "      <td>3</td>\n",
              "      <td>Wilkes, Mrs. James (Ellen Needs)</td>\n",
              "      <td>female</td>\n",
              "      <td>47.0</td>\n",
              "      <td>1</td>\n",
              "      <td>0</td>\n",
              "      <td>363272</td>\n",
              "      <td>7.0000</td>\n",
              "      <td>S</td>\n",
              "      <td>0</td>\n",
              "      <td>1</td>\n",
              "      <td>1</td>\n",
              "    </tr>\n",
              "    <tr>\n",
              "      <th>2</th>\n",
              "      <td>0</td>\n",
              "      <td>2</td>\n",
              "      <td>Myles, Mr. Thomas Francis</td>\n",
              "      <td>male</td>\n",
              "      <td>62.0</td>\n",
              "      <td>0</td>\n",
              "      <td>0</td>\n",
              "      <td>240276</td>\n",
              "      <td>9.6875</td>\n",
              "      <td>Q</td>\n",
              "      <td>0</td>\n",
              "      <td>1</td>\n",
              "      <td>0</td>\n",
              "    </tr>\n",
              "    <tr>\n",
              "      <th>3</th>\n",
              "      <td>0</td>\n",
              "      <td>3</td>\n",
              "      <td>Wirz, Mr. Albert</td>\n",
              "      <td>male</td>\n",
              "      <td>27.0</td>\n",
              "      <td>0</td>\n",
              "      <td>0</td>\n",
              "      <td>315154</td>\n",
              "      <td>8.6625</td>\n",
              "      <td>S</td>\n",
              "      <td>0</td>\n",
              "      <td>1</td>\n",
              "      <td>0</td>\n",
              "    </tr>\n",
              "    <tr>\n",
              "      <th>4</th>\n",
              "      <td>1</td>\n",
              "      <td>3</td>\n",
              "      <td>Hirvonen, Mrs. Alexander (Helga E Lindqvist)</td>\n",
              "      <td>female</td>\n",
              "      <td>22.0</td>\n",
              "      <td>1</td>\n",
              "      <td>1</td>\n",
              "      <td>3101298</td>\n",
              "      <td>12.2875</td>\n",
              "      <td>S</td>\n",
              "      <td>0</td>\n",
              "      <td>1</td>\n",
              "      <td>1</td>\n",
              "    </tr>\n",
              "  </tbody>\n",
              "</table>\n",
              "</div>"
            ],
            "text/plain": [
              "   Survived  Pclass  ... Cabin_is_Unknown Has SibSp\n",
              "0         0       3  ...                1         0\n",
              "1         1       3  ...                1         1\n",
              "2         0       2  ...                1         0\n",
              "3         0       3  ...                1         0\n",
              "4         1       3  ...                1         1\n",
              "\n",
              "[5 rows x 13 columns]"
            ]
          },
          "metadata": {
            "tags": []
          },
          "execution_count": 55
        }
      ]
    },
    {
      "cell_type": "code",
      "metadata": {
        "id": "cV8fROXtjkKZ"
      },
      "source": [
        "titanic_df['Has Parch'] = (titanic_df['Parch'] > 0).astype(int) "
      ],
      "execution_count": null,
      "outputs": []
    },
    {
      "cell_type": "code",
      "metadata": {
        "colab": {
          "base_uri": "https://localhost:8080/",
          "height": 445
        },
        "id": "E5tI_mHLJmfr",
        "outputId": "8af748fb-e1d3-4ad2-f1aa-7d7f028be610"
      },
      "source": [
        "#создадим новый признак Sex01 и запишем в него 1 если у нас мужчина и 0 если женщина\n",
        "\n",
        "titanic_df['Sex01'] = (titanic_df['Sex'] == 'male').astype(int) \n",
        "titanic_df.head()"
      ],
      "execution_count": null,
      "outputs": [
        {
          "output_type": "execute_result",
          "data": {
            "text/html": [
              "<div>\n",
              "<style scoped>\n",
              "    .dataframe tbody tr th:only-of-type {\n",
              "        vertical-align: middle;\n",
              "    }\n",
              "\n",
              "    .dataframe tbody tr th {\n",
              "        vertical-align: top;\n",
              "    }\n",
              "\n",
              "    .dataframe thead th {\n",
              "        text-align: right;\n",
              "    }\n",
              "</style>\n",
              "<table border=\"1\" class=\"dataframe\">\n",
              "  <thead>\n",
              "    <tr style=\"text-align: right;\">\n",
              "      <th></th>\n",
              "      <th>Survived</th>\n",
              "      <th>Pclass</th>\n",
              "      <th>Name</th>\n",
              "      <th>Sex</th>\n",
              "      <th>Age</th>\n",
              "      <th>SibSp</th>\n",
              "      <th>Parch</th>\n",
              "      <th>Ticket</th>\n",
              "      <th>Fare</th>\n",
              "      <th>Embarked</th>\n",
              "      <th>Age_is_Unknown</th>\n",
              "      <th>Cabin_is_Unknown</th>\n",
              "      <th>Has SibSp</th>\n",
              "      <th>Has Parch</th>\n",
              "      <th>Sex01</th>\n",
              "    </tr>\n",
              "  </thead>\n",
              "  <tbody>\n",
              "    <tr>\n",
              "      <th>0</th>\n",
              "      <td>0</td>\n",
              "      <td>3</td>\n",
              "      <td>Kelly, Mr. James</td>\n",
              "      <td>male</td>\n",
              "      <td>34.5</td>\n",
              "      <td>0</td>\n",
              "      <td>0</td>\n",
              "      <td>330911</td>\n",
              "      <td>7.8292</td>\n",
              "      <td>Q</td>\n",
              "      <td>0</td>\n",
              "      <td>1</td>\n",
              "      <td>0</td>\n",
              "      <td>0</td>\n",
              "      <td>1</td>\n",
              "    </tr>\n",
              "    <tr>\n",
              "      <th>1</th>\n",
              "      <td>1</td>\n",
              "      <td>3</td>\n",
              "      <td>Wilkes, Mrs. James (Ellen Needs)</td>\n",
              "      <td>female</td>\n",
              "      <td>47.0</td>\n",
              "      <td>1</td>\n",
              "      <td>0</td>\n",
              "      <td>363272</td>\n",
              "      <td>7.0000</td>\n",
              "      <td>S</td>\n",
              "      <td>0</td>\n",
              "      <td>1</td>\n",
              "      <td>1</td>\n",
              "      <td>0</td>\n",
              "      <td>0</td>\n",
              "    </tr>\n",
              "    <tr>\n",
              "      <th>2</th>\n",
              "      <td>0</td>\n",
              "      <td>2</td>\n",
              "      <td>Myles, Mr. Thomas Francis</td>\n",
              "      <td>male</td>\n",
              "      <td>62.0</td>\n",
              "      <td>0</td>\n",
              "      <td>0</td>\n",
              "      <td>240276</td>\n",
              "      <td>9.6875</td>\n",
              "      <td>Q</td>\n",
              "      <td>0</td>\n",
              "      <td>1</td>\n",
              "      <td>0</td>\n",
              "      <td>0</td>\n",
              "      <td>1</td>\n",
              "    </tr>\n",
              "    <tr>\n",
              "      <th>3</th>\n",
              "      <td>0</td>\n",
              "      <td>3</td>\n",
              "      <td>Wirz, Mr. Albert</td>\n",
              "      <td>male</td>\n",
              "      <td>27.0</td>\n",
              "      <td>0</td>\n",
              "      <td>0</td>\n",
              "      <td>315154</td>\n",
              "      <td>8.6625</td>\n",
              "      <td>S</td>\n",
              "      <td>0</td>\n",
              "      <td>1</td>\n",
              "      <td>0</td>\n",
              "      <td>0</td>\n",
              "      <td>1</td>\n",
              "    </tr>\n",
              "    <tr>\n",
              "      <th>4</th>\n",
              "      <td>1</td>\n",
              "      <td>3</td>\n",
              "      <td>Hirvonen, Mrs. Alexander (Helga E Lindqvist)</td>\n",
              "      <td>female</td>\n",
              "      <td>22.0</td>\n",
              "      <td>1</td>\n",
              "      <td>1</td>\n",
              "      <td>3101298</td>\n",
              "      <td>12.2875</td>\n",
              "      <td>S</td>\n",
              "      <td>0</td>\n",
              "      <td>1</td>\n",
              "      <td>1</td>\n",
              "      <td>1</td>\n",
              "      <td>0</td>\n",
              "    </tr>\n",
              "  </tbody>\n",
              "</table>\n",
              "</div>"
            ],
            "text/plain": [
              "   Survived  Pclass  ... Has Parch Sex01\n",
              "0         0       3  ...         0     1\n",
              "1         1       3  ...         0     0\n",
              "2         0       2  ...         0     1\n",
              "3         0       3  ...         0     1\n",
              "4         1       3  ...         1     0\n",
              "\n",
              "[5 rows x 15 columns]"
            ]
          },
          "metadata": {
            "tags": []
          },
          "execution_count": 57
        }
      ]
    },
    {
      "cell_type": "code",
      "metadata": {
        "colab": {
          "base_uri": "https://localhost:8080/",
          "height": 530
        },
        "id": "lFu26Iu6MZHJ",
        "outputId": "f9d68a37-0aac-4745-cae9-b192f1631bd7"
      },
      "source": [
        "# оказывается у нас есть значения возраста меньшие 1, скорее всего это ошибка ввода данных\n",
        "titanic_df[titanic_df['Age'] < 1]"
      ],
      "execution_count": null,
      "outputs": [
        {
          "output_type": "execute_result",
          "data": {
            "text/html": [
              "<div>\n",
              "<style scoped>\n",
              "    .dataframe tbody tr th:only-of-type {\n",
              "        vertical-align: middle;\n",
              "    }\n",
              "\n",
              "    .dataframe tbody tr th {\n",
              "        vertical-align: top;\n",
              "    }\n",
              "\n",
              "    .dataframe thead th {\n",
              "        text-align: right;\n",
              "    }\n",
              "</style>\n",
              "<table border=\"1\" class=\"dataframe\">\n",
              "  <thead>\n",
              "    <tr style=\"text-align: right;\">\n",
              "      <th></th>\n",
              "      <th>Survived</th>\n",
              "      <th>Pclass</th>\n",
              "      <th>Name</th>\n",
              "      <th>Sex</th>\n",
              "      <th>Age</th>\n",
              "      <th>SibSp</th>\n",
              "      <th>Parch</th>\n",
              "      <th>Ticket</th>\n",
              "      <th>Fare</th>\n",
              "      <th>Embarked</th>\n",
              "      <th>Age_is_Unknown</th>\n",
              "      <th>Cabin_is_Unknown</th>\n",
              "      <th>Has SibSp</th>\n",
              "      <th>Has Parch</th>\n",
              "      <th>Sex01</th>\n",
              "    </tr>\n",
              "  </thead>\n",
              "  <tbody>\n",
              "    <tr>\n",
              "      <th>201</th>\n",
              "      <td>0</td>\n",
              "      <td>3</td>\n",
              "      <td>Danbom, Master. Gilbert Sigvard Emanuel</td>\n",
              "      <td>male</td>\n",
              "      <td>0.33</td>\n",
              "      <td>0</td>\n",
              "      <td>2</td>\n",
              "      <td>347080</td>\n",
              "      <td>14.400</td>\n",
              "      <td>S</td>\n",
              "      <td>0</td>\n",
              "      <td>1</td>\n",
              "      <td>0</td>\n",
              "      <td>1</td>\n",
              "      <td>1</td>\n",
              "    </tr>\n",
              "    <tr>\n",
              "      <th>250</th>\n",
              "      <td>1</td>\n",
              "      <td>2</td>\n",
              "      <td>West, Miss. Barbara J</td>\n",
              "      <td>female</td>\n",
              "      <td>0.92</td>\n",
              "      <td>1</td>\n",
              "      <td>2</td>\n",
              "      <td>C.A. 34651</td>\n",
              "      <td>27.750</td>\n",
              "      <td>S</td>\n",
              "      <td>0</td>\n",
              "      <td>1</td>\n",
              "      <td>1</td>\n",
              "      <td>1</td>\n",
              "      <td>0</td>\n",
              "    </tr>\n",
              "    <tr>\n",
              "      <th>281</th>\n",
              "      <td>0</td>\n",
              "      <td>3</td>\n",
              "      <td>Peacock, Master. Alfred Edward</td>\n",
              "      <td>male</td>\n",
              "      <td>0.75</td>\n",
              "      <td>1</td>\n",
              "      <td>1</td>\n",
              "      <td>SOTON/O.Q. 3101315</td>\n",
              "      <td>13.775</td>\n",
              "      <td>S</td>\n",
              "      <td>0</td>\n",
              "      <td>1</td>\n",
              "      <td>1</td>\n",
              "      <td>1</td>\n",
              "      <td>1</td>\n",
              "    </tr>\n",
              "    <tr>\n",
              "      <th>307</th>\n",
              "      <td>0</td>\n",
              "      <td>3</td>\n",
              "      <td>Aks, Master. Philip Frank</td>\n",
              "      <td>male</td>\n",
              "      <td>0.83</td>\n",
              "      <td>0</td>\n",
              "      <td>1</td>\n",
              "      <td>392091</td>\n",
              "      <td>9.350</td>\n",
              "      <td>S</td>\n",
              "      <td>0</td>\n",
              "      <td>1</td>\n",
              "      <td>0</td>\n",
              "      <td>1</td>\n",
              "      <td>1</td>\n",
              "    </tr>\n",
              "    <tr>\n",
              "      <th>354</th>\n",
              "      <td>1</td>\n",
              "      <td>3</td>\n",
              "      <td>Dean, Miss. Elizabeth Gladys Millvina\"\"</td>\n",
              "      <td>female</td>\n",
              "      <td>0.17</td>\n",
              "      <td>1</td>\n",
              "      <td>2</td>\n",
              "      <td>C.A. 2315</td>\n",
              "      <td>20.575</td>\n",
              "      <td>S</td>\n",
              "      <td>0</td>\n",
              "      <td>1</td>\n",
              "      <td>1</td>\n",
              "      <td>1</td>\n",
              "      <td>0</td>\n",
              "    </tr>\n",
              "  </tbody>\n",
              "</table>\n",
              "</div>"
            ],
            "text/plain": [
              "     Survived  Pclass  ... Has Parch Sex01\n",
              "201         0       3  ...         1     1\n",
              "250         1       2  ...         1     0\n",
              "281         0       3  ...         1     1\n",
              "307         0       3  ...         1     1\n",
              "354         1       3  ...         1     0\n",
              "\n",
              "[5 rows x 15 columns]"
            ]
          },
          "metadata": {
            "tags": []
          },
          "execution_count": 58
        }
      ]
    },
    {
      "cell_type": "code",
      "metadata": {
        "colab": {
          "base_uri": "https://localhost:8080/"
        },
        "id": "hPxv2tA7K6XT",
        "outputId": "a6ac8b30-f29e-4777-d24e-4b318e08fdb7"
      },
      "source": [
        "# создадим булеву маску для выделения таких позиций, в которых есть ошибка с возрастом\n",
        "mask = titanic_df[titanic_df['Age'] < 1]['Age'].index\n",
        "mask"
      ],
      "execution_count": null,
      "outputs": [
        {
          "output_type": "execute_result",
          "data": {
            "text/plain": [
              "Int64Index([201, 250, 281, 307, 354], dtype='int64')"
            ]
          },
          "metadata": {
            "tags": []
          },
          "execution_count": 59
        }
      ]
    },
    {
      "cell_type": "code",
      "metadata": {
        "id": "WQbJ8oQ4LB-S"
      },
      "source": [
        "# исправим ошибку - умножим значения возраста на 100\n",
        "titanic_df.loc[mask, 'Age'] = titanic_df.loc[mask, 'Age']*100"
      ],
      "execution_count": null,
      "outputs": []
    },
    {
      "cell_type": "code",
      "metadata": {
        "colab": {
          "base_uri": "https://localhost:8080/",
          "height": 86
        },
        "id": "xUkMvcntMAe0",
        "outputId": "7059b5e5-c0f0-4160-e7f0-37e1fd9bae10"
      },
      "source": [
        "titanic_df[titanic_df['Age'] < 1] # проверим, что все прошло успешно и значений возраста меньше 1 не осталось"
      ],
      "execution_count": null,
      "outputs": [
        {
          "output_type": "execute_result",
          "data": {
            "text/html": [
              "<div>\n",
              "<style scoped>\n",
              "    .dataframe tbody tr th:only-of-type {\n",
              "        vertical-align: middle;\n",
              "    }\n",
              "\n",
              "    .dataframe tbody tr th {\n",
              "        vertical-align: top;\n",
              "    }\n",
              "\n",
              "    .dataframe thead th {\n",
              "        text-align: right;\n",
              "    }\n",
              "</style>\n",
              "<table border=\"1\" class=\"dataframe\">\n",
              "  <thead>\n",
              "    <tr style=\"text-align: right;\">\n",
              "      <th></th>\n",
              "      <th>Survived</th>\n",
              "      <th>Pclass</th>\n",
              "      <th>Name</th>\n",
              "      <th>Sex</th>\n",
              "      <th>Age</th>\n",
              "      <th>SibSp</th>\n",
              "      <th>Parch</th>\n",
              "      <th>Ticket</th>\n",
              "      <th>Fare</th>\n",
              "      <th>Embarked</th>\n",
              "      <th>Age_is_Unknown</th>\n",
              "      <th>Cabin_is_Unknown</th>\n",
              "      <th>Has SibSp</th>\n",
              "      <th>Has Parch</th>\n",
              "      <th>Sex01</th>\n",
              "    </tr>\n",
              "  </thead>\n",
              "  <tbody>\n",
              "  </tbody>\n",
              "</table>\n",
              "</div>"
            ],
            "text/plain": [
              "Empty DataFrame\n",
              "Columns: [Survived, Pclass, Name, Sex, Age, SibSp, Parch, Ticket, Fare, Embarked, Age_is_Unknown, Cabin_is_Unknown, Has SibSp, Has Parch, Sex01]\n",
              "Index: []"
            ]
          },
          "metadata": {
            "tags": []
          },
          "execution_count": 61
        }
      ]
    },
    {
      "cell_type": "code",
      "metadata": {
        "colab": {
          "base_uri": "https://localhost:8080/",
          "height": 282
        },
        "id": "vnSPojYFMym2",
        "outputId": "9c12ac20-32c1-45bd-a7fd-02f68cafe105"
      },
      "source": [
        "titanic_df.Age.hist(bins=91) # построим гистограмму распределения возраста пассажиров"
      ],
      "execution_count": null,
      "outputs": [
        {
          "output_type": "execute_result",
          "data": {
            "text/plain": [
              "<matplotlib.axes._subplots.AxesSubplot at 0x7f92dac8d250>"
            ]
          },
          "metadata": {
            "tags": []
          },
          "execution_count": 62
        },
        {
          "output_type": "display_data",
          "data": {
            "image/png": "[encoded data removed]",
            "text/plain": [
              "<Figure size 432x288 with 1 Axes>"
            ]
          },
          "metadata": {
            "tags": [],
            "needs_background": "light"
          }
        }
      ]
    },
    {
      "cell_type": "code",
      "metadata": {
        "colab": {
          "base_uri": "https://localhost:8080/"
        },
        "id": "U6esmeT_NhFE",
        "outputId": "5ddeae38-f226-4d67-be8e-9cf18a5012a1"
      },
      "source": [
        "titanic_df['Pclass'].unique() # посмотрим какие значения принимает признак Pclass (класс каюты)"
      ],
      "execution_count": null,
      "outputs": [
        {
          "output_type": "execute_result",
          "data": {
            "text/plain": [
              "array([3, 2, 1])"
            ]
          },
          "metadata": {
            "tags": []
          },
          "execution_count": 63
        }
      ]
    },
    {
      "cell_type": "code",
      "metadata": {
        "colab": {
          "base_uri": "https://localhost:8080/"
        },
        "id": "d7CmkX1PlZid",
        "outputId": "1513c5fe-b6f9-4874-98d1-cda4998e7b3a"
      },
      "source": [
        "titanic_df['Pclass'].value_counts() # сколько раз встерчается каждый класс обслуживания в нашем датасете"
      ],
      "execution_count": null,
      "outputs": [
        {
          "output_type": "execute_result",
          "data": {
            "text/plain": [
              "3    217\n",
              "1    107\n",
              "2     93\n",
              "Name: Pclass, dtype: int64"
            ]
          },
          "metadata": {
            "tags": []
          },
          "execution_count": 64
        }
      ]
    },
    {
      "cell_type": "code",
      "metadata": {
        "id": "LR372tZQls6e"
      },
      "source": [
        "# создадим новые признаки, кодирующие класс обслуживания в формате OHE\n",
        "\n",
        "titanic_df['Pclass_01'] = (titanic_df['Pclass'] == 1).astype(int)\n",
        "titanic_df['Pclass_02'] = (titanic_df['Pclass'] == 2).astype(int)\n",
        "titanic_df['Pclass_03'] = (titanic_df['Pclass'] == 3).astype(int)"
      ],
      "execution_count": null,
      "outputs": []
    },
    {
      "cell_type": "code",
      "metadata": {
        "colab": {
          "base_uri": "https://localhost:8080/",
          "height": 445
        },
        "id": "Z3zYeC7AmLkl",
        "outputId": "2be659f0-f334-4c66-f323-838c01bbada0"
      },
      "source": [
        "titanic_df.head() # выведем результат"
      ],
      "execution_count": null,
      "outputs": [
        {
          "output_type": "execute_result",
          "data": {
            "text/html": [
              "<div>\n",
              "<style scoped>\n",
              "    .dataframe tbody tr th:only-of-type {\n",
              "        vertical-align: middle;\n",
              "    }\n",
              "\n",
              "    .dataframe tbody tr th {\n",
              "        vertical-align: top;\n",
              "    }\n",
              "\n",
              "    .dataframe thead th {\n",
              "        text-align: right;\n",
              "    }\n",
              "</style>\n",
              "<table border=\"1\" class=\"dataframe\">\n",
              "  <thead>\n",
              "    <tr style=\"text-align: right;\">\n",
              "      <th></th>\n",
              "      <th>Survived</th>\n",
              "      <th>Pclass</th>\n",
              "      <th>Name</th>\n",
              "      <th>Sex</th>\n",
              "      <th>Age</th>\n",
              "      <th>SibSp</th>\n",
              "      <th>Parch</th>\n",
              "      <th>Ticket</th>\n",
              "      <th>Fare</th>\n",
              "      <th>Embarked</th>\n",
              "      <th>Age_is_Unknown</th>\n",
              "      <th>Cabin_is_Unknown</th>\n",
              "      <th>Has SibSp</th>\n",
              "      <th>Has Parch</th>\n",
              "      <th>Sex01</th>\n",
              "      <th>Pclass_01</th>\n",
              "      <th>Pclass_02</th>\n",
              "      <th>Pclass_03</th>\n",
              "    </tr>\n",
              "  </thead>\n",
              "  <tbody>\n",
              "    <tr>\n",
              "      <th>0</th>\n",
              "      <td>0</td>\n",
              "      <td>3</td>\n",
              "      <td>Kelly, Mr. James</td>\n",
              "      <td>male</td>\n",
              "      <td>34.5</td>\n",
              "      <td>0</td>\n",
              "      <td>0</td>\n",
              "      <td>330911</td>\n",
              "      <td>7.8292</td>\n",
              "      <td>Q</td>\n",
              "      <td>0</td>\n",
              "      <td>1</td>\n",
              "      <td>0</td>\n",
              "      <td>0</td>\n",
              "      <td>1</td>\n",
              "      <td>0</td>\n",
              "      <td>0</td>\n",
              "      <td>1</td>\n",
              "    </tr>\n",
              "    <tr>\n",
              "      <th>1</th>\n",
              "      <td>1</td>\n",
              "      <td>3</td>\n",
              "      <td>Wilkes, Mrs. James (Ellen Needs)</td>\n",
              "      <td>female</td>\n",
              "      <td>47.0</td>\n",
              "      <td>1</td>\n",
              "      <td>0</td>\n",
              "      <td>363272</td>\n",
              "      <td>7.0000</td>\n",
              "      <td>S</td>\n",
              "      <td>0</td>\n",
              "      <td>1</td>\n",
              "      <td>1</td>\n",
              "      <td>0</td>\n",
              "      <td>0</td>\n",
              "      <td>0</td>\n",
              "      <td>0</td>\n",
              "      <td>1</td>\n",
              "    </tr>\n",
              "    <tr>\n",
              "      <th>2</th>\n",
              "      <td>0</td>\n",
              "      <td>2</td>\n",
              "      <td>Myles, Mr. Thomas Francis</td>\n",
              "      <td>male</td>\n",
              "      <td>62.0</td>\n",
              "      <td>0</td>\n",
              "      <td>0</td>\n",
              "      <td>240276</td>\n",
              "      <td>9.6875</td>\n",
              "      <td>Q</td>\n",
              "      <td>0</td>\n",
              "      <td>1</td>\n",
              "      <td>0</td>\n",
              "      <td>0</td>\n",
              "      <td>1</td>\n",
              "      <td>0</td>\n",
              "      <td>1</td>\n",
              "      <td>0</td>\n",
              "    </tr>\n",
              "    <tr>\n",
              "      <th>3</th>\n",
              "      <td>0</td>\n",
              "      <td>3</td>\n",
              "      <td>Wirz, Mr. Albert</td>\n",
              "      <td>male</td>\n",
              "      <td>27.0</td>\n",
              "      <td>0</td>\n",
              "      <td>0</td>\n",
              "      <td>315154</td>\n",
              "      <td>8.6625</td>\n",
              "      <td>S</td>\n",
              "      <td>0</td>\n",
              "      <td>1</td>\n",
              "      <td>0</td>\n",
              "      <td>0</td>\n",
              "      <td>1</td>\n",
              "      <td>0</td>\n",
              "      <td>0</td>\n",
              "      <td>1</td>\n",
              "    </tr>\n",
              "    <tr>\n",
              "      <th>4</th>\n",
              "      <td>1</td>\n",
              "      <td>3</td>\n",
              "      <td>Hirvonen, Mrs. Alexander (Helga E Lindqvist)</td>\n",
              "      <td>female</td>\n",
              "      <td>22.0</td>\n",
              "      <td>1</td>\n",
              "      <td>1</td>\n",
              "      <td>3101298</td>\n",
              "      <td>12.2875</td>\n",
              "      <td>S</td>\n",
              "      <td>0</td>\n",
              "      <td>1</td>\n",
              "      <td>1</td>\n",
              "      <td>1</td>\n",
              "      <td>0</td>\n",
              "      <td>0</td>\n",
              "      <td>0</td>\n",
              "      <td>1</td>\n",
              "    </tr>\n",
              "  </tbody>\n",
              "</table>\n",
              "</div>"
            ],
            "text/plain": [
              "   Survived  Pclass  ... Pclass_02 Pclass_03\n",
              "0         0       3  ...         0         1\n",
              "1         1       3  ...         0         1\n",
              "2         0       2  ...         1         0\n",
              "3         0       3  ...         0         1\n",
              "4         1       3  ...         0         1\n",
              "\n",
              "[5 rows x 18 columns]"
            ]
          },
          "metadata": {
            "tags": []
          },
          "execution_count": 66
        }
      ]
    },
    {
      "cell_type": "code",
      "metadata": {
        "id": "rpDOhc5UmWJl"
      },
      "source": [
        "# создадим признаки  is_child (ребенок) is_adult (взрослый) и is_old (пожилой) и заполним их\n",
        "titanic_df['is_child'] = (titanic_df['Age'] <= 17).astype(int)\n",
        "titanic_df['is_adult'] = ((titanic_df['Age'] >= 18) & (titanic_df['Age'] < 60) ).astype(int)\n",
        "titanic_df['is_old'] = (titanic_df['Age'] >= 60).astype(int)"
      ],
      "execution_count": null,
      "outputs": []
    },
    {
      "cell_type": "code",
      "metadata": {
        "id": "BqbDOSaFcaNE"
      },
      "source": [
        "# напишем функцию для извлечения титула из имени пассажира\n",
        "def title_from_name(s):\n",
        "    return str.strip(str.split(str.split(s,\",\")[1],\".\")[0] + \".\")\n",
        "\n",
        "# создадим новую колонку, соответствующую титулу пассажира\n",
        "titanic_df['Title'] = titanic_df['Name'].apply(title_from_name)"
      ],
      "execution_count": null,
      "outputs": []
    },
    {
      "cell_type": "code",
      "metadata": {
        "id": "CpaBEoQlfdbx"
      },
      "source": [
        "# напишем функцию для объединения похожих титулов в одну группу\n",
        "def transform_title(title):\n",
        "    if(title in ['Mr.','Mrs.','Miss.','Master.']):\n",
        "        return title\n",
        "    elif (title in  ['Ms.', 'Mme.']):\n",
        "        return 'Mrs.'\n",
        "    elif(title=='Mlle.'):\n",
        "        return 'Miss.'\n",
        "    elif(title in  ['Sir', 'Don.', 'Jonkheer.', 'Dr.', 'Col.', 'Capt.', 'Major.', 'Rev.']): \n",
        "        return 'Mr.'\n",
        "    elif(title in ['Lady.', 'the Countess.']):\n",
        "        return 'Mrs.'\n",
        "    else:\n",
        "        return 'Mr.'\n",
        "    \n",
        "titanic_df['Title'] = titanic_df['Title'].apply(transform_title)"
      ],
      "execution_count": null,
      "outputs": []
    },
    {
      "cell_type": "code",
      "metadata": {
        "colab": {
          "base_uri": "https://localhost:8080/"
        },
        "id": "t87LmDSOfmSP",
        "outputId": "418a5e75-672b-4dea-c545-1a14c86d21c9"
      },
      "source": [
        "# посмотрим значения, которые хранятся в колонке \"Титул\"\n",
        "titanic_df.Title.value_counts()"
      ],
      "execution_count": null,
      "outputs": [
        {
          "output_type": "execute_result",
          "data": {
            "text/plain": [
              "Mr.        245\n",
              "Miss.       78\n",
              "Mrs.        73\n",
              "Master.     21\n",
              "Name: Title, dtype: int64"
            ]
          },
          "metadata": {
            "tags": []
          },
          "execution_count": 70
        }
      ]
    },
    {
      "cell_type": "code",
      "metadata": {
        "id": "C-jWqMn_hE4V"
      },
      "source": [
        "# создадим новые колонки, в которых закодируем один из четырех вариантов титула пассажира в формате OHE \n",
        "titanic_df['is_Mr'] = titanic_df['Title'].apply(lambda x : int(x == 'Mr.')) \n",
        "titanic_df['is_Miss'] = titanic_df['Title'].apply(lambda x : int(x == 'Miss.'))\n",
        "titanic_df['is_Mrs'] = titanic_df['Title'].apply(lambda x : int(x == 'Mrs.'))\n",
        "titanic_df['is_Master'] = titanic_df['Title'].apply(lambda x : int(x == 'Master.'))"
      ],
      "execution_count": null,
      "outputs": []
    },
    {
      "cell_type": "code",
      "metadata": {
        "colab": {
          "base_uri": "https://localhost:8080/",
          "height": 332
        },
        "id": "31M3CZdKiGsX",
        "outputId": "5dd9b06d-7a5b-4bc4-8b6f-8b9c14b076ee"
      },
      "source": [
        "titanic_df.head(3)"
      ],
      "execution_count": null,
      "outputs": [
        {
          "output_type": "execute_result",
          "data": {
            "text/html": [
              "<div>\n",
              "<style scoped>\n",
              "    .dataframe tbody tr th:only-of-type {\n",
              "        vertical-align: middle;\n",
              "    }\n",
              "\n",
              "    .dataframe tbody tr th {\n",
              "        vertical-align: top;\n",
              "    }\n",
              "\n",
              "    .dataframe thead th {\n",
              "        text-align: right;\n",
              "    }\n",
              "</style>\n",
              "<table border=\"1\" class=\"dataframe\">\n",
              "  <thead>\n",
              "    <tr style=\"text-align: right;\">\n",
              "      <th></th>\n",
              "      <th>Survived</th>\n",
              "      <th>Pclass</th>\n",
              "      <th>Name</th>\n",
              "      <th>Sex</th>\n",
              "      <th>Age</th>\n",
              "      <th>SibSp</th>\n",
              "      <th>Parch</th>\n",
              "      <th>Ticket</th>\n",
              "      <th>Fare</th>\n",
              "      <th>Embarked</th>\n",
              "      <th>Age_is_Unknown</th>\n",
              "      <th>Cabin_is_Unknown</th>\n",
              "      <th>Has SibSp</th>\n",
              "      <th>Has Parch</th>\n",
              "      <th>Sex01</th>\n",
              "      <th>Pclass_01</th>\n",
              "      <th>Pclass_02</th>\n",
              "      <th>Pclass_03</th>\n",
              "      <th>is_child</th>\n",
              "      <th>is_adult</th>\n",
              "      <th>is_old</th>\n",
              "      <th>Title</th>\n",
              "      <th>is_Mr</th>\n",
              "      <th>is_Miss</th>\n",
              "      <th>is_Mrs</th>\n",
              "      <th>is_Master</th>\n",
              "    </tr>\n",
              "  </thead>\n",
              "  <tbody>\n",
              "    <tr>\n",
              "      <th>0</th>\n",
              "      <td>0</td>\n",
              "      <td>3</td>\n",
              "      <td>Kelly, Mr. James</td>\n",
              "      <td>male</td>\n",
              "      <td>34.5</td>\n",
              "      <td>0</td>\n",
              "      <td>0</td>\n",
              "      <td>330911</td>\n",
              "      <td>7.8292</td>\n",
              "      <td>Q</td>\n",
              "      <td>0</td>\n",
              "      <td>1</td>\n",
              "      <td>0</td>\n",
              "      <td>0</td>\n",
              "      <td>1</td>\n",
              "      <td>0</td>\n",
              "      <td>0</td>\n",
              "      <td>1</td>\n",
              "      <td>0</td>\n",
              "      <td>1</td>\n",
              "      <td>0</td>\n",
              "      <td>Mr.</td>\n",
              "      <td>1</td>\n",
              "      <td>0</td>\n",
              "      <td>0</td>\n",
              "      <td>0</td>\n",
              "    </tr>\n",
              "    <tr>\n",
              "      <th>1</th>\n",
              "      <td>1</td>\n",
              "      <td>3</td>\n",
              "      <td>Wilkes, Mrs. James (Ellen Needs)</td>\n",
              "      <td>female</td>\n",
              "      <td>47.0</td>\n",
              "      <td>1</td>\n",
              "      <td>0</td>\n",
              "      <td>363272</td>\n",
              "      <td>7.0000</td>\n",
              "      <td>S</td>\n",
              "      <td>0</td>\n",
              "      <td>1</td>\n",
              "      <td>1</td>\n",
              "      <td>0</td>\n",
              "      <td>0</td>\n",
              "      <td>0</td>\n",
              "      <td>0</td>\n",
              "      <td>1</td>\n",
              "      <td>0</td>\n",
              "      <td>1</td>\n",
              "      <td>0</td>\n",
              "      <td>Mrs.</td>\n",
              "      <td>0</td>\n",
              "      <td>0</td>\n",
              "      <td>1</td>\n",
              "      <td>0</td>\n",
              "    </tr>\n",
              "    <tr>\n",
              "      <th>2</th>\n",
              "      <td>0</td>\n",
              "      <td>2</td>\n",
              "      <td>Myles, Mr. Thomas Francis</td>\n",
              "      <td>male</td>\n",
              "      <td>62.0</td>\n",
              "      <td>0</td>\n",
              "      <td>0</td>\n",
              "      <td>240276</td>\n",
              "      <td>9.6875</td>\n",
              "      <td>Q</td>\n",
              "      <td>0</td>\n",
              "      <td>1</td>\n",
              "      <td>0</td>\n",
              "      <td>0</td>\n",
              "      <td>1</td>\n",
              "      <td>0</td>\n",
              "      <td>1</td>\n",
              "      <td>0</td>\n",
              "      <td>0</td>\n",
              "      <td>0</td>\n",
              "      <td>1</td>\n",
              "      <td>Mr.</td>\n",
              "      <td>1</td>\n",
              "      <td>0</td>\n",
              "      <td>0</td>\n",
              "      <td>0</td>\n",
              "    </tr>\n",
              "  </tbody>\n",
              "</table>\n",
              "</div>"
            ],
            "text/plain": [
              "   Survived  Pclass  ... is_Mrs is_Master\n",
              "0         0       3  ...      0         0\n",
              "1         1       3  ...      1         0\n",
              "2         0       2  ...      0         0\n",
              "\n",
              "[3 rows x 26 columns]"
            ]
          },
          "metadata": {
            "tags": []
          },
          "execution_count": 72
        }
      ]
    },
    {
      "cell_type": "code",
      "metadata": {
        "colab": {
          "base_uri": "https://localhost:8080/"
        },
        "id": "Q-QRkeKUneOd",
        "outputId": "cb5c1424-5d96-4a75-d319-f07ab83728e3"
      },
      "source": [
        "titanic_df.columns # выведем список колонок в нашем датасете"
      ],
      "execution_count": null,
      "outputs": [
        {
          "output_type": "execute_result",
          "data": {
            "text/plain": [
              "Index(['Survived', 'Pclass', 'Name', 'Sex', 'Age', 'SibSp', 'Parch', 'Ticket',\n",
              "       'Fare', 'Embarked', 'Age_is_Unknown', 'Cabin_is_Unknown', 'Has SibSp',\n",
              "       'Has Parch', 'Sex01', 'Pclass_01', 'Pclass_02', 'Pclass_03', 'is_child',\n",
              "       'is_adult', 'is_old', 'Title', 'is_Mr', 'is_Miss', 'is_Mrs',\n",
              "       'is_Master'],\n",
              "      dtype='object')"
            ]
          },
          "metadata": {
            "tags": []
          },
          "execution_count": 73
        }
      ]
    },
    {
      "cell_type": "code",
      "metadata": {
        "id": "1xOudEUCn1Rm"
      },
      "source": [
        "# создадим список колонок, из которых будем сохранять данные в нашу выборку\n",
        "\n",
        "colums_to_x = ['Has SibSp', 'Has Parch', 'Sex01', 'Pclass_01', 'Pclass_02',\n",
        "       'Pclass_03', 'is_child', 'is_adult', 'is_old', 'is_Mr', 'is_Miss', 'is_Mrs', 'is_Master']"
      ],
      "execution_count": null,
      "outputs": []
    },
    {
      "cell_type": "code",
      "metadata": {
        "colab": {
          "base_uri": "https://localhost:8080/",
          "height": 221
        },
        "id": "DKEwUWxAnrgN",
        "outputId": "f97dd836-c888-4cc4-9c3a-1e0cad95ec75"
      },
      "source": [
        "titanic_df[colums_to_x].head() # посмотрим на данные, на которых мы попробуем обучать нашу модель"
      ],
      "execution_count": null,
      "outputs": [
        {
          "output_type": "execute_result",
          "data": {
            "text/html": [
              "<div>\n",
              "<style scoped>\n",
              "    .dataframe tbody tr th:only-of-type {\n",
              "        vertical-align: middle;\n",
              "    }\n",
              "\n",
              "    .dataframe tbody tr th {\n",
              "        vertical-align: top;\n",
              "    }\n",
              "\n",
              "    .dataframe thead th {\n",
              "        text-align: right;\n",
              "    }\n",
              "</style>\n",
              "<table border=\"1\" class=\"dataframe\">\n",
              "  <thead>\n",
              "    <tr style=\"text-align: right;\">\n",
              "      <th></th>\n",
              "      <th>Has SibSp</th>\n",
              "      <th>Has Parch</th>\n",
              "      <th>Sex01</th>\n",
              "      <th>Pclass_01</th>\n",
              "      <th>Pclass_02</th>\n",
              "      <th>Pclass_03</th>\n",
              "      <th>is_child</th>\n",
              "      <th>is_adult</th>\n",
              "      <th>is_old</th>\n",
              "      <th>is_Mr</th>\n",
              "      <th>is_Miss</th>\n",
              "      <th>is_Mrs</th>\n",
              "      <th>is_Master</th>\n",
              "    </tr>\n",
              "  </thead>\n",
              "  <tbody>\n",
              "    <tr>\n",
              "      <th>0</th>\n",
              "      <td>0</td>\n",
              "      <td>0</td>\n",
              "      <td>1</td>\n",
              "      <td>0</td>\n",
              "      <td>0</td>\n",
              "      <td>1</td>\n",
              "      <td>0</td>\n",
              "      <td>1</td>\n",
              "      <td>0</td>\n",
              "      <td>1</td>\n",
              "      <td>0</td>\n",
              "      <td>0</td>\n",
              "      <td>0</td>\n",
              "    </tr>\n",
              "    <tr>\n",
              "      <th>1</th>\n",
              "      <td>1</td>\n",
              "      <td>0</td>\n",
              "      <td>0</td>\n",
              "      <td>0</td>\n",
              "      <td>0</td>\n",
              "      <td>1</td>\n",
              "      <td>0</td>\n",
              "      <td>1</td>\n",
              "      <td>0</td>\n",
              "      <td>0</td>\n",
              "      <td>0</td>\n",
              "      <td>1</td>\n",
              "      <td>0</td>\n",
              "    </tr>\n",
              "    <tr>\n",
              "      <th>2</th>\n",
              "      <td>0</td>\n",
              "      <td>0</td>\n",
              "      <td>1</td>\n",
              "      <td>0</td>\n",
              "      <td>1</td>\n",
              "      <td>0</td>\n",
              "      <td>0</td>\n",
              "      <td>0</td>\n",
              "      <td>1</td>\n",
              "      <td>1</td>\n",
              "      <td>0</td>\n",
              "      <td>0</td>\n",
              "      <td>0</td>\n",
              "    </tr>\n",
              "    <tr>\n",
              "      <th>3</th>\n",
              "      <td>0</td>\n",
              "      <td>0</td>\n",
              "      <td>1</td>\n",
              "      <td>0</td>\n",
              "      <td>0</td>\n",
              "      <td>1</td>\n",
              "      <td>0</td>\n",
              "      <td>1</td>\n",
              "      <td>0</td>\n",
              "      <td>1</td>\n",
              "      <td>0</td>\n",
              "      <td>0</td>\n",
              "      <td>0</td>\n",
              "    </tr>\n",
              "    <tr>\n",
              "      <th>4</th>\n",
              "      <td>1</td>\n",
              "      <td>1</td>\n",
              "      <td>0</td>\n",
              "      <td>0</td>\n",
              "      <td>0</td>\n",
              "      <td>1</td>\n",
              "      <td>0</td>\n",
              "      <td>1</td>\n",
              "      <td>0</td>\n",
              "      <td>0</td>\n",
              "      <td>0</td>\n",
              "      <td>1</td>\n",
              "      <td>0</td>\n",
              "    </tr>\n",
              "  </tbody>\n",
              "</table>\n",
              "</div>"
            ],
            "text/plain": [
              "   Has SibSp  Has Parch  Sex01  Pclass_01  ...  is_Mr  is_Miss  is_Mrs  is_Master\n",
              "0          0          0      1          0  ...      1        0       0          0\n",
              "1          1          0      0          0  ...      0        0       1          0\n",
              "2          0          0      1          0  ...      1        0       0          0\n",
              "3          0          0      1          0  ...      1        0       0          0\n",
              "4          1          1      0          0  ...      0        0       1          0\n",
              "\n",
              "[5 rows x 13 columns]"
            ]
          },
          "metadata": {
            "tags": []
          },
          "execution_count": 75
        }
      ]
    },
    {
      "cell_type": "code",
      "metadata": {
        "colab": {
          "base_uri": "https://localhost:8080/"
        },
        "id": "Xl-lX1X6nzJ-",
        "outputId": "9f2e3001-22d0-40ba-98de-ecfdd1869dbb"
      },
      "source": [
        "# выгрузим данные в nd.array\n",
        "X = titanic_df[colums_to_x].values\n",
        "X.shape"
      ],
      "execution_count": null,
      "outputs": [
        {
          "output_type": "execute_result",
          "data": {
            "text/plain": [
              "(417, 13)"
            ]
          },
          "metadata": {
            "tags": []
          },
          "execution_count": 76
        }
      ]
    },
    {
      "cell_type": "code",
      "metadata": {
        "colab": {
          "base_uri": "https://localhost:8080/"
        },
        "id": "ULF9bLyjoCcm",
        "outputId": "7b300bbf-fb3d-4ee3-aea7-d24f99e7cdbd"
      },
      "source": [
        "# также сохраним наши метки (выжил/не выжил) в nd.array\n",
        "y = titanic_df[['Survived']].values\n",
        "y.shape"
      ],
      "execution_count": null,
      "outputs": [
        {
          "output_type": "execute_result",
          "data": {
            "text/plain": [
              "(417, 1)"
            ]
          },
          "metadata": {
            "tags": []
          },
          "execution_count": 77
        }
      ]
    },
    {
      "cell_type": "markdown",
      "metadata": {
        "id": "KJRw1HQFt8fD"
      },
      "source": [
        "## Чтение данных в DataFrame и сохранение DataFrame"
      ]
    },
    {
      "cell_type": "markdown",
      "metadata": {
        "id": "zkuRQ1qOuFyP"
      },
      "source": [
        "![image.png](data:image/png;base64,iVBORw0KGgoAAAANSUhEUgAABFsAAAEuCAYAAABRdx3dAAAgAElEQVR4Aey9CbwcVZn3X8749//OzGf+4/8dHUedcdSZUedVcWF0Ft95RR1QcRkcRgQXdDCAIqAQ2WQLi2wBESTsi+y5p/p2QzSEGEBiQhYIOxgCuUlYlCw3ISHJvVnu7fN+ftX1dJ9bt6rrVHd1d1X1734+daur6tSpc35d/dQ533rOcxyHf1SAClABKkAFqAAVoAJUgApQASpABagAFaACVIAKUAEqQAWoABWgAlSAClABKkAFqAAVoAJUgApQASpABagAFaACVIAKUAEqQAWoABWgAlSAClABKkAFqAAVoAJUgApQASpABagAFaACVIAKUAEqQAWoABWgAlSAClABKkAFqAAVoAJUgApQASpABagAFaACVIAKUAEqQAWoABWgAlSAClABKkAFqAAVoAJUgApQASpABagAFaACVIAKUAEqQAWoABWgAlSAClABKkAFqAAVoAJUgApQASpABagAFaACVIAKUAEqQAWoABWgAlSAClABKkAFqAAVoAJUgApQASpABagAFaACVIAKUAEqQAWoABWgAlSAClABKkAFqAAVoAJUgApQASpABagAFaACVIAKUAEqQAWoABWgAlSAClABKkAFqAAVoAJUgApQASpABagAFaACVIAKUAEqQAWoABWgAlSAClABKkAFqAAVoAJUgApQASpABagAFaACVIAKUAEqQAWoABWgAlSAClABKkAFqAAVoAJUgApQASpABagAFaACVIAKUIHWFNBaf2jLK1uWPrnkyaeLsqx6augxrfX/bk2R5mdprf/7uZfXPPyrJxY+XZTlmd8NPaC1fnPzmrd2dHx8/LJnX9r1+KMrdz5dlGV4y9itranBs6gAFaACVIAKUAEqQAWoABWgAlSgLxTQWn/it8t+u+G4/Y7TRVnO++45r6xZtWon6pb2l6i1PuNUdcnv3n7s3rooy7HXnLVpeMOG32ut35q2XmNjY4un3bJlw3dnbNNFWWbNe2rb6OjoPWlrxfyoABWgAlSAClABKkAFqAAVoAJUoCAKaK0/9eTSJ18qCmhBPU49+NQXKq6rVw8N7dJa75XmV6W1PvO4Wy9YWRTQgnp89byjVswql3dvHB5eq7V+S5p6jY2NLTn556+8VBTQgnpcfcuvX/rVXXftHB0dna+1fl2aejEvKkAFqAAVoAJUgApQASpABagAFSiAAkWGLQAuvofL3ml9VUWFLdDKAC5vS0uvIsKWa275tQfz5s2Zs2N0dBRDsAhc0rphmA8VoAJUgApQASpABagAFaACVKAIChQdthgeLqkAlyLDFgEumzZu3KC1TgW4FBm2QK95c+aMjoyMLNJa/48i2APWgQpQASpABagAFaACNgqMj4+fs/qZ1Y8VJeYj6vHyiy/P1lr/iU39k6apVqtz7n16yVNFifmIemzbtu2CpDrYpNdav3PryNjiosR7RD2eWj36lNZ6P5v6M02BFOgH2IJOse/h8rl2v7qiwxZodefg4C4fuLyzXb2KDlug16/uumt0dHT0IQKXdu8Wnk8FqAAVoAJUgArkRYGxsbG7fnrcT9cWKRTBrVfcsnl4/fonOwFcqtXqq+8+ft+dRQpFcMes8uj27duvS/ue1Vq/f/Xa3VuKFIbguGs2bX5o8eIdWusD0taL+WVYgX6BLegUrx4aQtDctoBLP8AWAS6vbNq0CWS5ndu3H2CLB1xmzx7xgUtH3oa08x3wXCpABagAFaACVIAKpK1AdWzsrguOvuD5IsGWqy+44ncYVj+8YcMzWus/TVMzwJa/++GnR4sEW267/RZ4ee/Ytm3bbWlqpbX+wOqXdw8XCbZ8//IN69Fn8IHLl9PUi3llWAHAls2bNg/9bNol04uyXPfTa27EzRy2rB4aGtVaf6nVrwSw5cFnHvvNkRefPL0oyxU/v/KeMK3uHBzc6QOXd7eqF2DLrx5Yc/tFP182vSjLwMw7ngvTa+7s2dt37NiBaccJXFq9YXgeFaACVIAKUAEqkAsFigpb0MbzgctKrfWfpfVlFBW2QC9/WH1Ja/2aNPQqMmyBXg8uXoz+6LfT0Ip5ZFwBwJadO3c+N+i6U4qylF13elhnWPa1A1wAW4aHh+cWRSvUo6LULNEmuAZw2bRx42atdUvABbBlxfLlPyuSXuWBgRVBnWR77uzZ23zgkurbkIybERaPClABKkAFqAAV6DMFigxb0K7zJ45YrbV+YxpfbZFhC/QCcBkdHZ2jtf7DdvUqOmyBXr6HyxHtasXzM65AP8IW3OCrh4a2a60PTPr19BtsgVZ3lko7169bt0Vr/d6kevUbbIFeAC7DGzY8m7b7aVLtmZ4KUAEqQAWoABWgAp1SoOiwBW06AJdNGzf+Xmv95nZ1LDpsgV4+cLlXa/3advTqB9gCvR5avHhkfHz82Ha04rkZV6BfYYt3gy9ZsispcOlH2AKtsKxZtWpbUuDSj7AFWvnupwAur8+4CWDxqAAVoAJUgApQASqQWIF+gC1o02HiiI3Dw+vanamzH2AL9PInjligtX5d4pvKP6FfYAv0wpCi8fHxaa1qxfMyrkA/wxbc4MuWLEHQ3INtv6Z+hi3Qa/XQEIDLB2316lfYAq0899MNG1YRuNjeLUxHBagAFaACVIAK5EUBwJYFv1pQLkrMR9Rj5o23rkQbLrj4M3UOa63f0er3A9hy5k0/vaIoMR9Rj6BOsu0DlyWtztQJ2LJ9dHxdUeI9oh5X3vybm0Wf4Nr3cLmk1XuL52VYgX6HLbjZly1dimm4rIBLv8MW6OUPwbICLv0MW6CVAVz+PMNmgEWjAlSAClABKkAFqEAiBQBbVq9efV2/xOXzgcsrWuu/TySUnxiwZcH8+ScUSa8gNDC3fzV79siOHTse1lr/cVK9AFvGx8fXFkmruJiiD9aGFF2ZVCumz7gChC01eu1HhT407usibKnp5QOXj8Tp1e+wBQ8d/+H8vNb6DXF68TgVoAJUgApQASpABfKgQL/BFmnTvbJpE+IY/q+k31G/wRbo5QOXJ5LGMexH2AK9fOByQ9J7i+kzrIDWeq/CzUak1BmYMSbJcufg4JA/S9HfNfu6tNbThtevL9RsROWBgeuTaIW0v7zzzpc2bdw43EwrHBsbG1u0YvnyS4tEpitKzUuq173z5q0dGRmpxOnF41SAClABKkAFqAAVyIMC/QhbfOCy85VNm7ZqrfdI8j31I2wxgMtvk0yj3a+wxQAutyW5t5g2wwr4ni3PFqkz3GpdxsfHEfyqqeGEZ8v6gsGWVvRaMH/+idVqdUvcrT02Nra4aFM/t6LX6qGh68fGxmbH6cXjVIAKUAEqQAWoABXIgwL9ClsEuGzauBEzm+5p+131K2zxgcv2HTt2YOKI/2mjVz/DFui1dNGi7dVqtaS1fo2NXkyTYQUIW9wp0nkmbGloIZpErQlb7LWChoQtGTaCLBoVoAJUgApQASqQWIF+hi0CXDZv2jSqtf5nG/H6GbYYwGW11vqNcXr1O2yBXgvnzx8dHR2do7X+wzi9eDzDChC2NDrNhC0NLaIgi+wnbLHXirAlwwaQRaMCVIAKUAEqQAVaUqDfYYsAlzWrVu3SWv9bnIj9Dlug16xyeWzTxo2/11q/uZlehC21GJn33H33rtHR0Xu01q9tphePZVgBwpZGp5mwpaGFQJWoNWGLvVaELRk2gCwaFaACVIAKUAEq0JICGB69amjo2qi2Yh73txKX7+7ZszdsWL/+0TgRtdaYjejEPOoSVeakMQyRfv59920ZGRk5r5leWuv3jY2NFWs2ohZiilZKpZWPLls2ghirzfTisQwrQNjS6DQTtjS0iDKqsp+wxV4raMZhRBk2giwaFaACVIAKUAEqkFiBarU6u2hTP0s7N8l6xfLll2FCiDgBi+jZkkQnSYuJRhADs5leRfRskfonXWMiG631J5vpxWMZVoCwpdFpJmxpaBFnCAhb7LWCloQtGTaCLBoVoAJUgApQASqQWAHCllpbkLAlWZuYsCWZXoQtiU1Ttk4gbGnc8IQtDS0IW+y1iNOKsCVbNo+loQJUgApQASpABdpXgLCl1lYkbEnWZiZsSaYXYUv7tqqnORC2NG54wpaGFnEAgZ4t9loRtvTUxPHiVIAKUAEqQAWoQAcUIGyptQUJW5K1iQlbkulF2NIB49XNLAlbGjc8YUtDC8IWey3itCJs6aZF47WoABWgAlSAClCBbihA2FJrKxK2JGszE7Yk04uwpRvWrIPXSAm2HD6o1K1lpdaVldqNqb0qrjtWcd0XB133UrMzWiqVvl9R6u6KUpv8NLqs1M6yUs8Ouu7Fkras1DLkU1ZqvOy6A7K/vh4YmFZWarOXxnWHBl33iPoxN9lNLOd1GrZUXPf0iuu+4uuzZdB1z5FrlwYGvldRarV/bPegUjfJsUGlnvP3by2XSmfU90fUE2nKSj1RVmp7xXWr/rK1rNSiiuseH3e+zXF6tiS7xxizpYNGjFlTASpABagAFaACXVeAsKXWFiRsSdYmJmxJphdhS9dNW7oXbBe2AJ4MKrXc79ADskxclFpbGRycig68t1bqpUlp5Bwjbdl1bxRwU3bdp0IAwO0AMcir7Lp3hRyfknRfp2ELylN23bIBmR4ul0qHeuVU6qaK63qgqqzUk/X9ACoJYEvZda8oKzUapTGAS1JdwtK3C1vKrns1IJtZTtTTvFZZqUHv+wWMc92r68caetTuNeO+QRo5T/LGtr9/kQf2/LwApSquu1Wu68OoCfcv9kk6yU/WZl71skUAMMKWdO0Wc6MCVIAKUAEqQAV6qwBhC2FLXPs37DhhC2FLby1Xl6/eDmwBECiXSouNzucLFde90N9/dFmpclmppwS2+KDB87QoK/Vw2XVP8DrBpdKktIOue1LZdYeRN9bYNn+wFdd9xDum1EjZdaebx1r93A3YAg8WePH4ZQcUuRTAqqwUtIMnz+ayUmdPqEMDLjT1bPF09/OuuO6Osuu6uJ6XV80TCJ4t90zIOwIOxKVJC7YI/BFAItve9VHvgYEXKkqtnbTfdT0tBNoYwEQAjQCW+rYHTgxwIxDFOHcCjAlqgPsYZfEWHyAG00RtE7Z02bDxclSAClABKkAFqEBHFSBsIWyJavc220/YQtjSUcOUtczbgS0V1z3fH6qiK0ptKJVKJzf7caGz6wOFiZ4KER1+eLSEpa93emseMS+WS6Wjm13X9lg3YAvKAsAi3idlpVaUXVf53i7VsuvOmVReS9gyQZeAt8ekPCM0t02XOmwJepn4255XCupv1qemhwdbpM4CTLA205pAhbAla9aH5aECVIAKUAEqQAXyqgBhC2GLbb/BTEfYQtiSV5vXUrnbgS0YvgMY4gORe80fUtjnslL3SnrAmcrAwIwJw2UmAwBzqND9kqd4M9heV86LW3cLtqAcZaUW+kOvxmQ4DbxbvGFZQR0sYQugE+Lk+LoA3DwVB8DiNIk6njpsaQwZqnmkuO7VlYGBbf53PThhyI4BW+Re8ECe73lSBy/+0LW6N4pSy8x8TBDjfyceDKzfozVPI688OC5gx4Q5UfoE99OzpSXzxJOoABWgAlSAClCBjCqQBmzxPLCV+mUgluPu8sAAXkb+2GxPod0WF5PQfBFcVup3Ye3qsuve77f1cJ3rzWu08rkbMVvKAwO3G2EIVpixKjGqoOK6iNM44eW3tJH9foFNGIHD4RVvxuBESIey675Ydt3rYvps1uEbCFsIWzJq0jpTrHZgS0WpJf4PGD/EG+MMFIbHSFBb38hh2MwI8oEBnXS+EQQXEEE8WAxog6Eyl006LwgrLLe7CVsAQTzgJPFqasN+rgytiyVswblmTBhf46p3HaVmhT1wQq9noVdasEXuA/8+qj8IPHjie7PIw0Jir3jeKw3dcA95QERgSDuwxYQxQW0kf8KWztgi5koFqAAVoAJUgArkR4EUYMuPKkr9zmwLmp/N9lyCmIRHlJVa47crR8uue4nZnpvwYjIkTIGZ1vZzN2CLB1dqMTLxkrs+kYYfQuBhX7cxQBkpt7SffS3qbWw5HlhDt6cjY3D6w/cD51gDFvO8tmFLo18kL/wnjJiot9ddVwfuoUnxIqUPgfKZ53l6Sj8k4H2PtKa3vLy89b8Dif1YC3fgj+oIHJtQLlObsM8MkJsfmxha0nZgi3R6m3VQgzdNWakzMOtOWSnEbpEbEh1meGIsrccYwY2MmDC1H74HZfzYLKYRDSXWwWvabncTtqBMAqugAyhySanjQsvaMCpNY7bIuWXXvTkItfxrjGLWKEnXzjot2AJjFSzHJGPn3yd1g+l7tpQGBn7igQ//AVA/zxhyJAYQ55qGEdc0j3nbCIZrxHSJLJeRfzBN1DY9W0LND3dSASpABagAFaACOVWgHdhixjD0OvhK/XZwYGCa1x5z3RMqrjsX8R297Vp/wIt3aBOTcILnfWASDfQlvBe9tbblI1HttiT7uwRbADYQvuFVv03vecOboQkwYYnp8ZIEtgTSDsl34X1PrvtzhD2QfUm0CUubEmyZEE4AE17Ii3vUBd7xg0ohvueE/V47X/oetb6BB2qCfYgJ2+XyReaEGqiT2acI9ifC6gyo439vdY/5sHRh+whbcmogpdjtwBYjpoqVZ4t5A8GzAx4qYjRwA8LYDip1n5luQlDd2kw+Z+GG92/YSR1189ykn7sJW0zjGFX3evkTwhacB1BVcd2LvZmNlNrlXwNQxwvKW8/bwoslLG0nYYsYfJM2+2CvZjB92ALjZqT17gUYP//eqA1HMgDKpLT+jEhyHdNwhtV5guFlgFwxIVxTASpABagAFaACfahAO7AFw3dkFk68hDVftgbbYPX2F/oKFi+84M1ixEZ81hz+Iv0KzGg66Lp1L5DgNZNsdxG2YIbS+9BfQvnLSt2Jdr7fxscwogvNcku7128XN+0zCQww29BmXml+ThO2oFzB9rvXF8B9Unv5vLPezm+0+6XPUA9TIFpJ2kC+ACX12UsDx64mbOlD45ekyu3AlopSC/wfODrxsTFbwn6oPhSYK+MQB5V6uaTUsZK24roNuFKbAtqL49LMA0HOTbruFmzBAwUPFk87pbbAq8U3buEgpAXYEqg7ZtFZKd8VvrfA8cRugB2FLTVgUifRKKs8BDwjaMAWrx4GmZbtel0DcVcExshxbIsWwWP+d1I/Xn/YWzzoJU9Z07MliVViWipABagAFaACVCDrCrQDW4xZRWOhx4ShPzVP+KYxCQPpN4tHhu8x73nIDCq1uTI4eIq009pZdxO2oC1aVur3fht1p0ywEXxZjfoIQAi2ZyPq2oiTqdSr/nCkwyPSJu43mPmkCVtC2+ZKPee9pA3EchQ96m1/oz+B/kWwbyl9j4pS99jAFulbeOtAX0Hy8voxCV9007Ml65YwpnztwBaTSnvBlPypnM0flM1nIYK4OYOwBe5wZdcd8o9hWuQV3k08MLBBpo62uYZNmm7Blorr/gJEWjx55Mfv/zgn0/32YUsdVvjX6Dlssfk+2kkTZjTbya/dcwlbYgwRD1MBKkAFqAAVoAK5UqBV2OJDD69tjyE9fpiAph34pDEJJQiu6cHiwRVAltqLuKdNj5d22nndhC1eOZW6qe4VVKvL7wEdgnUw+xd1wBDR0TchjtdXqOW7y/ecmeAxE7xO0u2UYEs9FAVACPqSKIf0KetQA30oH3yYevj9obWiW1i/Afv8dFawpR7uIERjyaterpA0UToStuTKLE4ubDuwBQFXMYOO8aPE5ws9bxWQV9e9A+MH6zey6z5eVupRDKERd0EAE4zJ9MZr1n7Yy4I3mzH2Em5zEusllXGW5rW6AVsqrnt6xXVf8X+8Ml024tB4EMmHML8wy+UPoYFRqRuTCcflBzswMK3ius9XlJo3ODBwlvcwqw0nulC8Z2Cc04i83q5nS2j5pR4prMWgxj1cOl0OyZ+wZbLt4R4qQAWoABWgAlQgvwq0ClvQL/Bj7sW3bY02YZKYhJhAA/Fd/D6K12fAZB7e7DoYguO6A9JGa3fdbdiCGI9Gux5Dq5aE1UHawtDAsj0MrxkMSxqTvp2/Rv/r2UHXnQR0wq4bty8l2BLaJxKoYZZfPFZED2gh6UQXY7seU8VPh5guHEaUXzPV+5K3A1vwY7qjVDq3Dg/8QKbmDS400fvhNTw0TBpZ/wyvljBvlUAwKxiMxDFi4n74ON5p2OKTfC9iuDfWEjDKf4iYMVwQ3BYzN8kxA7bUtTI1FpIqNNc8FvgMY7koDZKfddgC7VBXo/6hRrmusfEw78Q+wpbe2zqWgApQASpABagAFUhPgVZhS2CYj5Vni7TNvBe6FjEJJwAd8WxotAsR+/EsybPddbdhi8RtkTZuVDxGgQtIJ1DBsq5TB5Wa5c+aKi+5kceTafQhOglbvD6TMYRHNPD6P4GYLX7/yusf1PtQcq8EZyAyhhx5GpoeM8G0IX2KMJhj+V1MoWdLejarJzm1C1two8DDpaLUrwFdDM8T0GRMIXa+3Ex+UFzQxFeNdGMVpTZVlLq7ydTE9RmIPIOR0lRtUi5Zdxy2YI56pTC+EgZrwkxKJojxjzcMWjykeg518A3gpaDPZaWE5uNaoLIvlnH9UulQqW876zzAlnbql/a5hC09MW+8KBWgAlSAClABKtAhBVqFLWhjmR7dbQSqbRqTUF66AUaUXffKiuu+6LexJwTNbbfN103YghEEFddFMFyEXnhJPmOkQbAfJaDBr3M9BmHC+t4uHkLov0n8m4R5TBgi1inYIsDEBEt16KbU2rLr3uL1ifx4jaJP/aW1D2Ogl7eY0MYHKvVjxmgDua5xDOdPeMlL2NIhI5SHbNOALe384LJ0bqdhS5bq2m5ZCFvcCQ+OOD0JW/JgDVlGKkAFqAAVoAJUwFaBdmDLoFKzjRACz0p4gbj2VPC4dGL9zvGEmISB2JJP+FM+Y+bT2cF82tnuFmyBRnihirqKN4sAJW+GItedY9ZDYIKfviXYUocVtWtmA7aEeI6Y9W7ns9RXAEw7eaV1Lj1bbC1SRtMRtjQ6zYQtDS3iDARhi71W0JKwJaMGkMWiAlSAClABKkAFWlKgHdgyIYah61YrSv1WvCYqrnsK4g+WXfdxrz3aekzCk8quO+zDBgyHwXD6RMOW4trDON4t2IIZgiSeCuJd+t7q51Rcd4tfx1cHjREFSWBLuVS6D3E2B5W6AcO8UC+sMdts/ZquO4SJS2w0aZambc+WDsIWr9zBIUOdvl5M/oQtLZmn7JxE2NLoNBO2NLRoZiRxjLDFXivoRdiSHZvHklABKkAFqAAVoALtK9AObEHb6I7asI1RgIKwRbwLIoZpmOdExiSUKaYl/7JSa9IABmY7uRuwBaEY/BgqqPeWQdc9p14Gpe4TLyEPmPhAxIQtUn9zLYFjkY/hIWPq2vis1BbE6axfMwYQNEuXddgSvN/MYUnN6tWpY4Qt7duqnuZA2NLoNBO2NLSIMxiELfZaQUvClp6aOV6cClABKkAFqAAVSFmBdmEL2kcV1z2+rNQyxLgQYFBWajv2ATAgTTsxCWUGIoEMmOE0ro2b9HinYQvqXy6VFht1uN8sYwDEjMEDxtMtGIMkALVM2IKZhiquO9eLo+nPRoT4mn6cTUw4cbx5zXY+Zx22tFO3TpxL2JKy4ep2doQtjU4zYUtDizhjQdhirxW0JGzptmXj9agAFaACVIAKUIFOKpAGbIlrb+bheKdhSx40SFJGwpZkfQjClk5asS7kTdjSuOEJWxpaxBlNwhZ7raAlYUsXjBkvQQWoABWgAlSACnRNAcKWWluQsCVZm5iwJZlehC1dM2mduRBhS+OGJ2xpaEHYYq9FnFaELZ2xXcyVClABKkAFqAAV6J0ChC21tiJhS7I2M2FLMr0IW3pn41K5MmFL44YnbGloEQcQ6NlirxVhSyqmiplQASpABagAFaACGVKAsKXWFiRsSdYmJmxJphdhS4aMXitFIWxp3PCELQ0tigZbzrvhicvi6tTJ4xxG1Ip14jlUgApQASpABahAVhUgbKm1mwlb7PsPaGsTtiTTi7AlqxbQslyELY0bnrCloUUceMiLZ8vZ1y2//sgZrwx/d8Y2jfVNt885Oq5unThO2GJpkJiMClABKkAFqAAVyIUChC21djNhi33/gbAlmVbQi7AlF+YwupC2sKXiuidVSqXVeV0GXfcHcZ3orMOWIy8+efqB5x113SdO/9q8D5643zNY9jr9G/Pi6tWJ41mHLRf9fNl0gSwALVOvWvfoZTctOuP4q373APaff8OTMzqhS1SehC3RNohHqAAVoAJUgApQgfwpQNhC2BLV7m22n54tyYALYUv+bOOEEtvClsGBgWkyv3su14ODU5v98HEsK7DlpMvOPuOQC6de9pkz//tOAJV3/3DfDW8/dm8dtnzwhP1WxNWrE8ezClsAWX5wxfAzACxYjrp80wvYN+3a52YeMWPLdtl/4tUvzQN8wbFO6BPMk7BlgtnhBhWgAlSAClABKpBzBQhbCFuC7V2bbcIWwpacm75kxSdsadzwvYAt51590QmAKh85+b8eed9xX3ghDKg024dzjvrpKRfYLFfeePVRNkbQJk3WYMs1t/36xKlXrntEYMoRM14dmXbtypmAKd+/YtMLsv/IGZuHg/AF53V6eBFhSzK7xNRUgApQASpABahAthUgbCFssekzBNPkCbagz4CQBME6dHObni3ZtoOxpSNs6S1s+cwZ35rVDKbEHfvfZ31dX3z3jVZLml4wWYEtgCwYGiQwBeuTr1k1C14rQfiC/TCOpueLQBmkP+mqF+Z1CroQtsSaIiagAlSAClABKkAFcqQAYQthSyvQIQ+wBZDF7C8cf9XvH2ilrmmcQ9iSI6MYVlRb2FJ23RMqSj2R16VcKsUGRu2FZ0u7sOXAGVO17R+GI6Xxo0cevYYtgCKnXPv8nebQoGMuX78C8OXs65bfEKk8gHwAACAASURBVLYf6bEgDdJiiBEgC4YYCazBeTg/LZ0kH8KWMOvDfVSAClABKkAFqEBeFbCFLWXXvafiuiN5XMpKLZK2XNQ6ywFy4dUO7/f/OOuw2z926oELEZ5AXuQiFmRUnTq5P8uwJegpH/SIB4ABiOmkPsG8CVvyaiH9ctvCluAXX8TtPMIWeLb8dO5N3vLSprV68XOP1bex331wbp3FwLim9b31ErbAnc+EKWIIEfRWhgTBiwVeKwAnACoThxLVZiUCsDGpNYALyDX2w8sFECYtvQhbcm4oWXwqQAWoABWgAlRgggIJYMtvchnv0XV1RallcW3BrMCW4EQaf3vsp7cLWAlbE7Y0Rjeg7W96yovnO8CK2YeQF7XoiwDMxN0baRwnbJlgdvK3QdjS+KHlEbaYxnPJyse94UTmvq9c1vB8wf40fvTIoxewxZzGGWBEDCGMnQlNAGIAWFBOeLKI1wrWAmZgPE1gg2OI8QJjaxpVzFyUBsEmbMmfbWSJqQAVoAJUgApQgWgFCFt6O4wI3vFxE2mYfYLgZ3i6IG5k3IKZUNOM+5glzxa0+4Oe8jKJRhC+SJgCs5+AtGn1raLyIWyJtkG5OGILWzAMp+y6N+Z1GXTdI6JuYtmfR9iyx4/20wAqWJ5+aaXnySLbWJ9Rubzu2fLe47/wgtS13XU3YUuQKgOMwLgBssADJQqmmFM/yznitWKeA2iDawDQBAGMjNGEIW4HuhC25MIcspBUgApQASpABaiApQKELb2FLUF4knT7h7dPt4r5iJAFXznvyNSCxGYFtgQ95RFiAH2BIHyZetW6R9HnwDGz/yD70RfBOehjtNu/CjufsMXSIGU1mS1s4dTPtW9Qa33m+vXr54b9GFrZF4zZIvAEkESM5r4Xfqc+PEj2yTpJzJa8BciFUTM9VmDgxBAGDaTAlDAAA5iCIUbIz6TROAfugDCOGG5kGlB8loC6JtludawmYUtWLSDLRQWoABWgAlSACrSiQALYcmVFqXl5XMoDA7GQoVfDiKQv0OoaHvE2fwhLgP5KK/2csHN6DVuCnvLwekc/AWVFP0P6A+g/oH8gL31xHj4jjYQpMF/s4oUt+iFhdW5nH2FLK9YpQ+cQtmRvGBFir+APkAUGVIwhwEozgxo3jCiPsAWGDkZPDCGMXBDAyPhJGErT6OE8UGfAFDMIrhhRcf0LesfgOIwozgvCGZQH0Cap0SRsyZDRY1GoABWgAlSAClCBthWwhS1J20x5S59X2IJ+BvoWZ95R84KHRzy2ZYHHPP6KAluCfQi06fFiFYAEfQv0B9D2R98hyoNeXsQG+xXop6B/gL4I+g4AM2ndx4QtbZuq3mZA2JI92AK3PvyVHpyrEQAXfwApzUCLQBlMA22mg+GUv7zBFhgpGC4xhKaHCYAIjKTEWTGnebY5BmMIgxoEN8hTjqUFWlAPwpbe2jlenQpQASpABagAFUhXAcKWfA8jkv4C4Ar+ZFvWmHQDf3mHLUHIgn4CwgQAsmD4D7ZlAWhBux19gWBoAemPBPsO8HRBnyIqr3ahC2FLunar67kRtmQPtsDIwbtly8hWff38smfoYAjF+JlrMZBeoph/eYQtMFAwYCDGYgixlnGSYcYQni4woFHHxDPFdBVEnuK1gnPTBC2ELV03a7wgFaACVIAKUAEq0GEFbGFLxXVnlF13Th6XQaWujess59WzRWK2yMyleGFrLi9ufNnrWeQVtqA9H3xRi7a/eKCYMEW8XDzPlivXPWL2OUwPevMcpIEHDM4JXkf6FLgWXgijLHH3UdRxwpYOG7JOZ28NW1z38HKpdFyOl0OjbmLZn6UAuTBs8tfMqwUxXsTd77e/qwXIlW2szQC5eYUt+H5grGC4sACiwGgFvVlg9MS9L0iXcUyGFGGIEFwFkS/S45gY0tp1tmzHPnPBfrlPWlnTs6XTloz5UwEqQAWoABWgAt1UwBa2lF2XUz87jlOtVl9dMH/+Ca20I8POMV++4jPa/YAlWMsxeMnDQ0VCE8h+rPFCF30M9B/wh3TYlgUvffGXR9gSDBEg4QjQng/zTMH+qHiQgCnB/Mz+SPAFLfoUOAf9DbMvASCD/WHfZbN9hC3dtGoduFYC2DKl2Y1QhGNZgi0yfAhGDmMpTeMY9RnGsWjDiMz7Cm6AMFIYJxkkyzJWEsYSabCGIRQjh+FGyMs0ljCOSDfxnMmgBcbSLEcrnwlbOmC8mCUVoAJUgApQASrQMwUIW7I1jAhABX/wSEFfAdAFf+gfRPUdzHTBNHkeRmSCDhn+Y/YB0D9APwHp8AI3CGDQr0C/A32EMJiC/Tge7I9EgRZcT2Y4TdqPIGzpmYlL58KELdkcRgQSjT8MJxKjGTSC2AaUEZc/pINhlG2sxTUQeeXZs0UMEwybABRZiwufQBgYPhhBGE+4CwqkCRpS0/DB2AYNJo6nAVpQdsKWdOwVc+lvBbTW93qGkf+oQPoKPJd+loXO8ej+tkasPRQgbMkWbEG/AGAFfwAv0pcwPV3C+hICZYLH8gxb0PYWT3jpH0i/AWvxdo87Zp6DzwAm8uI37BiuG+Zd3ypoQX6ELTm3t7awpeK6p1dct5rXZdB1p+KGbbZkxbNFvFpgMCVmC8ZVBo0gtmFMkQ7Lq6PbPDAj21hLJHEY3iLAFnx/QqtBpAWkBIcUAZzI+EiAl+AsRTCQMhuR5Bc0mmmBFpSZsCXnhpLFz4QCWut7YMs2rF/PpYkGo6OjXmMb//CZejW/X3yxPNiyZfNm6tXk3tq8ebPcW0dlwiiwED1VwBq2lEr3lZXalcelotSSZn0HHMtSzBYBJwAtGAaEvkBY/wH7cMzmL4/DiOQ7g2e72b4XjxX0EYIeKzI0CDAl2K9AHuIlj3ORj5mv9CmCsVuQph3QgnoQtvTUzLV/cVvYMjgwMK3iujq3y+BgbmCLkGgAFgEvzbxbxIjCaBZ5GJEYTqxBq2EMw1z4TMMGYBLmsSIGsxugBeUlbGnfVjEHKgDPlrGxMUD//D6LulD21UND9fbz86tXU6sYzXft2lXVWnuwZdGCBdSriV4L58+Xe4ueLTTJ1p4tZvutiJ+zBFvQJ4BXvPw182rBC1scL/rUz4Ad6BtgOBH6DmGeJ/CEB0TBC9pgvwEQRjzm4SUPbxgPyFy17lHkKy9nOwFa8HshbMm5sSVsaXi7ZMGzReAKDKUJUWA0o7xbzHT9AltgfGD4YOTMRcZf4nhwbKaka2YUTaOZZoOAsCXnhpLFz4QChC12kImwxU4ngXaELfZ6EbZkwhRmphC2ni1ptqeymFfWYIt4xaPvgIk0pJ8QtRZvmODxvA8jMu8VASlBbxa0+40XsNfjHPNFrMRgCb7checLgAvyxbpZqAKzHK18JmzJjMlrrSCELdmDLTB6oM1i9PAZLnxhsEUMpBDsZuuiDCMyDZVpECVIbpTRk2FHOD+MPncKtOB6hC2t2SeeRQVMBQhb7DrFhC12OhG2JNMJehG2mBaJnxPAlh8Muu5JeVzKpdIxZrsz7HOWYIu8tJUZhtB/kP5EcA0oA6AiIQfw2VzyPBtR2PckHi7y8tWciVQgDKAJ+hGAKzI0CJ4sco6sxdsFaeVcOYZ1u0OHzPITtuTc1trClpJSx5aV+mVul1Lpe+aNG/Y5C54tQUMYt90vUz+HfV+yD8AFRg0GLyo+i2kUw8ZhwjCKx4vkm+aasCXnhpLFz4QChC12nWPCFjudCFuS6UTYkgkzmKlC2MIWTv1c+9o6PfUz+gwSigAvY+ElD2AS5d2Cl7iAMXIOvOOxLQtCGOAP258541uz0moXD69fj1lAzmx2M2utPzA+Pr42rWtKPgJcMKQI+8JACoYU4Rj6FWEvZwXSdAO0oByELc3ulBwcs4UtcpMWeZ1H2GLCmLiYLe877gsvpPX9LZg//8Rqtbol7hYfGxtbvGL58p+ldd1m+QCWBMdZAqKIC2CUUew0aEGZCVvi7hQepwLxChC22HWOCVvsdCJsSaYTYUu8jeq3FIQtNe/4rHi2iFeLhCIAJBFYYvYXgp/FSz64v0jDiMz+A17Mok8Q9vJVvOQxPCjMY0X6FMijWZ/DvF67nwlbcm5ZCVuyNYwoaOjitjHESFz+QK9l+mfZJ66BMLbIq90fvJyfVdgCcGIuYhR7CVqgGWFLzg0li58JBQhb7DrHhC12OhG2JNOJsCUTZjBThSBsyRZsEQ8VBLxFm1/gS5R3C/oQX7lsqj6jcrkHZfDZXKQPUSTPFunHYIiQ2V/AZ9NLPgykwOMF/YlmoEXyT3NN2JIps5e8MLawpTI4OLWMqdtyugy67lFxN34ePVuERntWMubfe48vtmcLvl8zhouMl4waWgTD2smhQ+b9RtiS3DbxDCoQVICwxa5zTNhipxNhSzKdCFuCFonbhC3Zgi1hL2gBVA67/vQJsSAlXT9M/Wy2xYOfZUgR+gNGkNwbghBGQAzOx2yoYSBGXu4Gr5HGNmFLzm2tLWzh1M+1LxpjDNevXz83jR8P8sAYSDF6razNmC0AL82Wj5y0/6NplTuLni1SNwAUCWoVRZ+7CVpQLsKWnBtKFj8TChC22HWOCVvsdCJsSaYTYUsmzGCmCmELWwZd95yy616Xy0WpC6R9GbXOyjCiVvoROEde3AbPL+owIvN7RH8BfQXsC4vPYgNiOglaUC7ClkyZveSFIWzp7TCiIy8+efpep39jHmYKCho5m+00ZxgyjU/c5yzDFil7VkALykPYktw28QwqEFSAsMWuc0zYYqcTYUsynQhbghaJ2wlgyxRpmxVxTdjS6EvZfL+9DJAbVj6bUAOm57zp+dJp0ILyErbk3NYStjQMRC+GEQV/9OdefdEJADDwePnXUw58AEN/mkEXwpbG9xfUEi6BpkGUz+L1EkzfyW3ClpwbShY/EwoQtth1jglb7HQibEmmE2FLJsxgpgpB2FJrg+YVtvTb1M/N2vnmkCL0FzCLKaZ/xjmnXPv8ndKHMNfdAC24PmFLpsxe8sJYwxbXPbWs1Na8Lpi6utmPDMeyAFuiynjSZWef8a2Lpl4GCAPA8u7jPjsMCEPYEg1boGXQeEoclyidO7WfsCW5beIZVCCoAGGLXeeYsMVOJ8KWZDoRtgQtEretYUupNLOs1G9zubjuHXFtw7zCln6P2RL8Xqdete5RAS1xQ4u6BVpQRsKWnNvaBLCl0C6AuJmzDFuCBqHX23kYRiQaCXDpFWhBOQhbcm4oWfxMKEDYYtc5Jmyx04mwJZlOhC2ZMIOZKoQtbCm77m/k95a7tVLLpD0Ztc4rbGnmOW8e+9up+4zgpW9U/ZPuz9owIik/hhOhr4Bpn7EvKoZLN0ELykHYkimzl7wwhC0NzwjCloYWYnii1nmCLahDt2YditKLsCW5beIZVCCoAGGLXeeYsMVOJ+n07dq1q6q1fg4T+i1asEDLfq4n67hw/nyZ9/Do4O+T2/2nAGFLb4cRhXm8m5Ak7jPCFkS1Wzu5P6uwRercLIZLt0ELykTYknPbStjSAAyELQ0txOBErfMGW6Lq0a39hC05N5QsfiYUIGyZ3PkNAwKELXY6iXaELfZ6EbZkwhRmphCELb2FLWFtWACUr5x35PUy+Qa8UqKgC2FLeL8HsOWYy9evMOOz4HMvQAu+Y8KWzJi81gpC2NL4oRG2NLQIM+DmPsIWe62gG2FLa/aJZ1EBUwHCFrtOMWGLnU6ELcl0gl6ELaZF4mdb2FJRqlRRamUel0GlZpvt37DPvRpGFFaWsH1X3nj1UebkG4j3iCXNoUFh143al3XPFpQbwAVwRYBLr0ALykLYknNbS9jS6DQTtjS0iDKQsp+wxV4raEbYknNDyeJnQgHCFrvOMWGLnU6ELcl0ImzJhBnMVCFsYYu0HYu6zjpsyZrueYAt0EyASy9BC8pB2JIps5e8MIQtjU4zYUtDizjDTNhirxW0JGxJbpt4BhUIKkDYYtc5Jmyx04mwJZlOhC1Bi8RtwpZaW5CwJVmbOC+wRYCLzEwU1zfq1HHClpzbWsKWhoEgbGloEWcwCFvstYKWhC05N5QsfiYUIGyx6xwTttjpRNiSTCfClkyYwUwVgrCl1hYkbEnWJs4TbInrD3XjOGFLpsxe8sIQtjQMBGFLQ4s440HYYq8VYUtyu8QzqECYAoQtdp1jwhY7nQhbkulE2BJmlfp7H2FLrS1I2JKsTUzYkkwvwpac21mt9SdlHj+uPQX2aPaVaq3PpE51BV5pphWOVavVB+qp+WFWnF48TgWoQLQChC12nWPCFjudCFuS6UTYEm2b+vUIYQthS9zL2bDjhC2ELf1qM1lvKkAFqAAVoAKZVYCwxa5zTNhipxNhSzKdCFsyaxp7VjDCFsKWMJgSt4+whbClZ0aLF6YCVIAKUAEqQAXCFSBssescE7bY6UTYkkwnwpZwu9TPewlbCFviwErYccIWwpZ+tpusOxWgAlSAClCBTCpA2GLXOSZssdOJsCWZToQtmTSLPS0UYQthSxhMidtH2ELY0lPDxYtTASpABagAFaACkxUgbLHrHBO22OlE2JJMJ8KWyTap3/dorWcxHF9NgWq1uiDuftBab6FedQXObKaX1nqPekp+gAKfbKYXj1EBKkAFqAAVoAJUoC0FCFvsOseELXY6EbYk04mwpS3zxZOpABWgAlSAClABKkAFqAAVoALZVICwxa5zTNhipxNhSzKdCFuyaRdZKipABagAFaACVIAKUAEqQAWoQFsKELbYdY4JW+x0ImxJphNhS1vmiydTASpABagAFaACVIAKUAEqQAWyqQBhi13nmLDFTifClmQ6EbZk0y6yVFSAClABKkAFqAAVoAJUgApQgbYUIGyx6xwTttjpRNiSTCfClrbMV9jJf+Q4zpWO45wadpD7qAAVoAJUoAAKaK1fr7Xeq2hLp74arfXbi6aV1vojHdTrgwXU6+87pVcf5vvnjuPc7TjOY47jvDvl+rMhm7Kgvc6OsMWuc0zYYqcTYUsynXIGW17vOM4xjuPc7DgOnjNZ/JNn1NeyWDiWiQpQASpABVJQAB3hkaFHdjx3wke2FWUZuuRbr65ft25+CvJMykJrPc1dObD1wHlf3laU5ZqHr96+ffv2jrxZqVarCys/OWbL5d/be1tRlofum71Na/2JSTcHd7SiQDdgCxuyrXwzGTyHsMWuc0zYYqcTYUsynXIGWwDvAfEB87MEW/Z0HAdT3v5Px3H+0HGccxzHkWfUexzHudhxnL/IoPllkagAFaACVKAVBbTWn9r04C9eeurLji7K8vAhb3nhF5XK7vVr1z6otX5tK7pEnaO1PvOURT9a+T73Pbooy5TB/35u3pw5O7du3Xp6VL1b3T82NrZ4+jf2fOmUvd+oi7LcfMlZLz+0ePEOgMpWdeF5dQXShi1syNalLd4Hwha7zjFhi51OhC3JdCJsadum/oHjOF9wHOc3juM86DjOvzuOM81xnC/5XjgbHccpO47zD21fiRlQASpABahANhQoKmxBo8AALq9LS+0iwpZD1DdWQC8Al23btp2fllbIp4iw5ecXTXsBei1buhTAZe809erDvNKELWzIFvwGImyx6xwTttjpBDuOZdeuXVWt9XNaa71owQJvnxzjeqKWC+fPh0z4Ozrj5iarni2QDS8BP+V73WjHcV51HOd6x3He5zgOnmP8owJUgApQgaIoUGTYgkaSB1zWrXtUa50KcCkybIFe8+bM2bF9+/YZad3fRYYt0Mv3cCFwaf2GSRO2SCnYkBUlCrYmbJnY8Y0CAYQtdjqJfoQt9nplHLZgOA7gRdwSFSPsjY7jnOg4ziN+Hmscx7nWcZx/chznNSmaUwCVf3Ec5zb/OvBoOc9xnLenfJ0Uixyeldb6QAyvL9hyaHht29+rtT6xYFrhu4eHVup/Wus3FVAr6PV3qYvFDLOtQNFhCxpTs8rl3etrwOV/tPttFB22QK80gUvRYQv08oHL59q9t9o8/2N+ow2NTTQKP+w4jvLfmD3jOA7eQiIYX/APaT/gNyjRsEQj9X7Hcb4ZkR7nYzz5YY7j/MJxHDQScQ4ap2ikorEa9fcnjuN8188f5+Bt3mI/j6jGb1RezfYXpiHbrJL9eExrfQ9eqW9Yv55LEw1GR0drvgdaa3ymXs3vF18sz7Nly+bN1KvJvbV582a5t47KoA1qB7YAfuA5FAZq8Kw60vdIaafaeDbh5QyGEeG5fJDjOGf5MVsQzPf3juPc2IFg8e2Uuem5Y2Njd6087RObixKGAPV4ZvDSndu3b7+8acVbPFitVl/9x8EP7i5KGALU4zdLfg2b8B8tShJ5mtZ6jxdXPDpSlBAEqMf0b/zjjlUrV27VWr8rsuI8UDwF+gG2CHDZsG7dU1rrtoBLP8AWAS7btm27rt07vh9gC/TyhxR9vl292jhfYMspjuN83QcZwUbjcX5APrkMQMuBBjAJpoeHEwCJ+SeeKMG0sv1rx3H+xjzB/wyX7oURDVmcmwZsKVxDNkTHvt4Fzxbp6XFNBVJWwIMtKedZ5OyKNIzoLx3H+aX/3Pyh4zj/v29o8fzD8xQvIrD8YwoG+N8cxznbfzEBj+ufGAFyP+g4ziWO46A8ufirjo3d9fQxH3y+SLDl3p8cs/aeu+8e2759+zVpfwmALR9Q7x0tEmy5zb0JbeAxrTViD6X2p7X+wAvLHx4uEmw5Y7+/X48+w6qVK18lcEntVsl+RoAtW377wAuPHfyGZ4qyLD16z2W4mYMLPFx84BLsQFp/UYAtlz8248mPuf/0TFGWqe73Hw1qhW14uLQLXABbrjpmv0fP3O9dzxRlueWyC9aE6eV7uPyn9c2UbkKBLev8BiPejr3TH//9Sb+h+EAAhOzhOM5vfdCxj//WDsACU1uLezPcaU33acCWCx3HQXo0SHEM5wCmoLEKcII3dOYf0omXzRl+QxLnYbjP+x3HWZISbME1C9WQNUXkZypABagAFbBWIEnMlm/7z64fh3iv4FmF5yCebZhFCDMIpfWX+6mfiwhb5k0/+ndo4907d+7ukZGRm9L6spFPUWEL9EobuBQZtkCvNatWYWZT2Cn+FV0BwJadO3c+N+i6U4qylF13elhnGPs84LJ+/TNa65aAC2DL8PDw3KJohXpUlJoVpZcPXG5t9XcA2LJi+fKfFUmv8sCAF1A4TDMAl7Gxsf1b1auN8wS2oEH404BHijTo4Ar9z/410GBEwxH7AE6Cf3/luzq7juP8WfBgxPb/8Ruk8IgxPci+6O8HpPl/A+eKp0wani2BrL1hU1cabw2Dx7lNBagAFaACxVTAFrbgWYVnFobwfDRCCkzJ/ITjOEmehxFZTdgtz+ZTJ+zN0UaRYQvaePfcfffubdu23ZzWV1Jk2AK9HlqyBB4u8Jhu+6/osAV6+cDlvW2LxQyyrUC/wRbc3AZw+dOk306/wRbo1Q5w6TfY4j1sasDlq0nvrTbTC2y5JQKOoDEHEIN0+IO3CTxR5kXEWZFGYBIIImUA4MD5+MNbQUxtiWuHBRLuBmzJVENWa/1WTBvOxVqDN/v3koPGF3Wz1o33WLLf2d68txLdW2+V32VG17awBS8TAFGaPevkOXW34zj4zD9fgaLDFrTp7rn77l0jIyMz0/jSiw5boNeypUt3pwFc+gG2QK81q1aNaK0JXNL4gWU1j36ELbi5feCyUmudCLj0I2yBXvPmzBkdGRnBUJBEf/0IW6DXg4sWwcMFwfq69RcGOppdG9HQl/kQBCAkaglrgKKxiWCB90TEhjFhi0AbvBXE28HgnzRiw64TTFuIba3194scyKEDdTtcvnjGbOmAusxSFGDMFlHCbl2UmC3y4qHZM0ieU4QtYoz9dT/AFrTp0gIu/QBboNeyJUsAXA4O3C6JNvsFtkCv1UNDAC6I2cS/IirQr7AFN7cPXIa01q+3/W77FbZALx+44A2Q9V+/whbo5Q8p+m9rsdpLmBS2yFu/KMgi+4MN0H/wY6zI8bB1GGwJ5iO1lUZs1HFJV5i11vpo9GWeX7NGL3/6aS4RGrz4/PPS5cPMV96fzEa09uWXZ3GJ1mDH6OgaEW/Hjh0vUKtoraBNtVrdpbWuzUa0ZcsS6hWt15bNmxf591ZRYIu8EMAwoj3F1gTWMowI8TsSvaAL5FO4TcCWZ2848ddLv/eBWUVZZl994Wq04YLLvDlzdo6MjJTb+RIBW7456+tz9lOfn1WUxS3dPkkrrw28ZAnsasvABbBl87rfrb/gW/9nVlGWS445YF7wvpLt1UNDmEaQwKWdH1hWz+1n2IIbHMBleMMGNEytgEs/wxboBeCyffv2O23v536GLdDrwUWLRsfGxg6x1auNdElhi0COJG/qJM4LAAsC6CKQLoLjyl9YGWQ8vBkvRtJjLbFh+gm2eJ4tC+fPD22gyIO339eLFiwQXjDBs6Vare64w3WncInWYNPGjfNFvC2vvLKQWkVrBW3Gx8e3C2x55umnL6Fe0Xo9/dRTF+UEtoj3JmbIe4v50An5jKDueK5hNj8Ebjf/MBT2+/7xYwMB4810ffkZsGX16tXX9UtcPgyrB3DRWpttH+vvHrBlwfz5JxRJr2ZtlWVLluzUWiPAdOI/wJbx8fG1RdKqWUxR6OgPKfpIYrF4QrYV6HfYgpv7zsHBXcMbNuA16hvivq1+hy3Q61d33QXgMsvmYdPvsAV6Pbh48eiuXbu+G3dvtXk8DHQ0y1KmnGwWFDB4vrhbo1GKYLjBv0/4DVLTswVppCFb7zT7JyJINQITIj/ClpA3abh/+nUhbInu8MbBAMKWZNoRttjrlSPYIrFY8HxB3DA8v6L+EC8BM/PhpYA59fP/5zjOdxzH2eh7dOIFA/8MBfoNtuB5DOCyY8eO2TZtYEMq72O/wRbo9VANuNQ9VIOaRG33I2yBXr6HC4FL1I2Rx/1a60/002xEUR0XAJeNw8MvaK3xcI3801qf7CcbxwAAIABJREFUMbx+fd/MRhSl169mzx7Zvn37YKRQ/oGxsbFF/TQbUZReAC5a6yBsiJMvyfGksAV5YxYiNC4BOr5gBNbFGxu8CfyG4zjfMwrxx47jXOPDETReAUvw1u8vHcc5zm+QomEbhC2Y4QFQB1M8YzYkeMhgWmpMT43rY7pqwpY+BithvxvCFvsOcBC+ELYk046wxV6vHMEWPLowKwqeMXgumUvweYPnGNICqpjp5PMzES8YjMdjf37sR9iC5xW8vH3gkmgq8H6ELdALw+q11kcl+ZX0K2yBXr6Hy78m0YtpM6xAEWHLoOseBVetpMumDRs2aK3f3+zr8mHL3QVzazshqVZz58y5ctu2bWjENP0rJGxR6oykej2ybNns7du3z20qVnsHW4EtcJc+IaJxKY3M4Ew+UY1XpJ/jvx0MwhZM94xpnyVPWaNhi/xOI2zpXw+WMNCCfYQt9h1gwpbWtYJ2hC32+uUMtuDFATwuEdzfBClB2IKnL4DLBxzHudZxnDX+8wqQBUOL3tbe47m4Z/crbMEzat5dd43s2LHjV1pra+DSr7AFej20eDGCwFoDl36GLdDL93AhcCmC+fSHET1bJHjQal3Gx8fXaa33aPa9YhjR+oJ5trSi14L580+sVqtbmmmFY0WELa3otXpo6PqxsbHZcXq1cbwV2ILLoTH6L4EGJhqaAz4ICXp6IT28YDATEaAJGrBoyH7KcZw3OY6DGDBB2ILrIAghAiqi8QpIh3M+7DdwAXTCGr9tyJHdU2U2IsZsaQ6YCFvsO8CELa1rRdiSTLucwZbsPggKUrJ+hi3oEMPL2wcuwVg/od9wP8MW6PVgDbjAEzr2r99hiw9cAKj2ihWLCbKtAGGLO0U6z4QtDS1Ek6g1YYu9VtCwC7Al24aGpasrQNjSHLKggYGFsCVZJ9gELhxGlEw7erbY60XYUjfl/OA4Tr/DFjyrAFxGR0fv11rHApd+hy3Q68HFi7dprWOBC2FLrS20emgIAdwJXPJscQlbGp1mwpaGFlGQRfYTtthrRdiSZwuZftkJWwhbTDDSic+ELfbwgJ4tybQibEn/mZDnHKvV6uyhoaG+mY1IXgYE13Nnz942OjqKWRqb/unabEQnSlu6COugFjbbSx94YKvW+mvNxEJYh7Gxsb6ajShKuzVDQwBUDNDd7IbJ8jHClkanmbCloUXcA4CwxV4rwpYsW8Dul42whbClE4DFzJOwJRlAoGeLvV6ELc6f+8NlJfaYzbqww2QBW4o29XNc+zfs+Irlyy/DsPm4FkURPVvC9Ijbh4lGEAOzmV5F9GyJ0yXqOCay0Vp/splePJZhBQhbGp1mwpaGFlE/eNlP2GKvFTTjMCJrI1j4hixhC2GLCUY68ZmwxR4eQH/CFnu9CFsIW8ynOWFLrS1I2JKsTUzYkkwvwhbT6uTwM2FL44YnbGloIVAlak3YYq8VYUsiw0jYwimgGbPFte/8hsEawpZk+hG22OtF2JLoeVb4xIQttbYgYUuyNjFhSzK9CFtybkoJWxo3PGFLQ4soyCL7CVvstSJsybmRTLn49GyhZ0sYIElzH2GLPTygZ0syrQhbUn4g5Dw7wpZaW5CwJVmbmLAlmV6ELTk3lIQtjRuesKWhhUCVqDVhi71WhC05N5IpF5+whbAlTbASlhdhSzKAQM8We70IW1J+IOQ8O8KWWluQsCVZm5iwJZlehC05N5RWsEWp5/wIyVvLpdIZEzrggWNl1726rNTOqIjK9f1Kra0MDk4tKXVcWal12F9WarTsupdI/mXXfUrSl5VaZOyvX8PcL8dbXacBW6BPxXW3otyDSj1nliXsWFmpQamjsa4ij0GlHpmkt+tOiTjHc70Puy7KYeRdT+fvm/yduvFGIE3YgvuggvshYvhEUEdoCl3KSj1RVmp7xXWhl6cZ7oeK6x5v6m6mr7juDv86Y2Wl1ldKpZvKpdKhkt4/v6bRwMCGsuueUD9mfLf4DmS/zZoxW3JuKFMsPmELYUsYIElzH2GLPTyA7oQt9noRtqT4MChAVoQthC02beBgGsKW+H6WqRlhS86NZa9hiwkg0Akuu+5d/g12Utl1h6UDbkIVE+iY+80bs5XPGYItJhDZMajUtWZ9+h22lF33CoA5uTeC6+A9cUcNAEalryK9ABd8lvzKSo2XXXdAtDfvVcKWnBu+HhafsIWwJU2wEpYXYYs9PCBsSaYVYUsPHx4ZvDRhC2GLtJGTrAlbCFsyaM46V6S0YUvwxyadV3i7AJJMOu57C5SV2u11bpV6Fh3fsuveiH3S8a0otUTOLSpskQ58uVQ6uqLU3YaH0CsV1z29Xn/DG0bOkWOha/Fs8b2JQtNYeLOY56Xp2WLmK59NsGF6tnj3hlLP+vfFjrLruqWBge955w0MTPPvt3skn1KpdHJFqQ1IX1bqVQ/UlEqHVlz3fMOjqn5vyv0q911Zqd+VSqXvIz+zTFa6G5rSs6VzNixvORO2ELaEAZI09xG2JAMI9Gyx14uwJW9PnM6Wl7CFsEXa20nWhC2ELZ21TBnLPUOwZWNlYACdYgzBOQudXg82DAy8gI7vhA63MVQJ6ZL8wJul7bVnS7ADX3bdOTJEZlCp2VJ2pDNgQPxwlgLBlglDjizgUdl1y9Aw6KUCLcuue5kxrOgRb5/v2VJWSoYmjZUHBm73jnEYUcasVz6LQ9hC2JImWAnLi7DFHh5AP8IWe70IW/L53OlUqQlbCFukb5JkTdhC2NIpm5TJfHsOW2pDQnb6MTse8DxcBgZur7jui1jKrntPH8OW6WWlRlD/slIrxJD1M2zxvH5q9wY0qSKuD7xXRJvgWuL+ILZLWamzzeNmvKBBpV4uKXWseLaUlRL4h6FtQ4OuewQ9WzJpwnJXKMIWwpYwQJLmPsIWe3hA2JJMK8KW3D1yOlrgONjSzBM97JjZvpWXimFreQFbdt075Djae9LGQ/xHY7j5xNiE8gLSdSfuN7yRJR/bdVoBcsM0kTKEHmvUxQw/MAaP7rJSd4lntuQx4YVlSJzE4CgE85qis7lu9YV3mrCl2T0TrI+vw+Hwiod3u4yg8PqetT7ndRJWQDQbdN1aetdd77+IRf9jpKzUo5NiRBrfh/QdJB/RMqJMUyRd2JoxWzpqxjqfeULYYv6Yg59DjZbRea0P1TBvJLn5fNhys3cTKrXCu5Fd9375EYlhxbn1c2oQIrOeLaZBCn6W+kj9cByfTW1MGFBWag06/F79W/VsaRhWeHoAPjwBgGBe0/Zzr4YRefWveauMGZpWvaFCSs0KPFiOgG5euigvGN8wDiq1uTI4eIrcr7gfy647Fx4xFdfdXR4YuJ6wpfP2qB+uQNhC2JImWAnLi7AlGUCgZ4u9XoQt/fCUsq9jz2GLGWfPdYcHXfckv514l9FGnNg/aXSIJ+4vDmyp98/wItGc6IGwxUW/4Gl/1EBdp6h7xQtToNTyyPRKbbmjVDq33ndq3FvIG6EOLpNj0nclbLG3L4VJmSXYMui65yAorkcYlcJNilmHvCEz4nngG9FczEZk/Hgn/aBtYMsEo2jAAtEkKv8gtMG1mqQdMWeAEqMQt+4lbPHvAYC5zcF64U3GoFK3Ik2UfhPq1tDGe+gGYMuP/aFt4ll0jsw0NUnjmIc0Y7YUxmS2XRHCFsKWMECS5j7CFnt4AN0JW+z1Imxp+xFQqAzShi0T2mdoVwXaaMHj0mbzX9TKS93Gi7bai8yJns0xeQavYbOdAc+WBjgaGJhWUeq3AgjKSj0p3hpW7WKjPSuAAG3tpO3eZrql6dkSdp0J94URLzRQn6HBgYFpOB9Qpey6P/dGEfj7sN8M51BW6uFB153qp8WoC++lrz/ywHsZbtyvXr8PYEe0l2sTthTKBNpVJiFsafyY5ccYY7Sibnjjx3G75z3gwwQZ9uF5ugwOTq2DBRM29EnMFhB6mZFJ4Iz34zc8W4KwwcogIpCs6z5eN8SG66XxvTR1aes1bPF0qAW6vdh7kCi1S7TwXUcvNYccyf00qX7+/QudPb3lLUnjfpS4OTsGS6WZhC12doWpohUgbCFsSROshOVF2GIPDwhbkmlF2BJt2/vxSGZgy8AAPOLH/T7HWWirlZX6vT/cQyBMrV0b02+Z1E6U/k6TdaZgiw8PKkqt9vsE2zEpBOrV97DF6D/FwSNTK3OyDOl/+B4ytSFFrjvdu2+kT+HHfZT+iHeO33clbOlDS9lr2CIwpazUkDfTjB/QtOK6ErC0Fgy2D2FLYMypp4f3g01gLLwff8gDwhyiFAkiQs6T/LIAW6Qs/npqRamVAlwqSi3AfhBnedg0i9nixQcqlY4WOFjXpDbDkedBA+CF4Vd+fhOGfAXKMglU0bOlD41rRJUJWwhbwgBJmvsIW5IBBHq22OtF2BJh2Pt0dwZgi9fGqyg1D8PBMXS8rJTyPeR/4XvL9x1s8dq/ritDqRDfUGGfCRDq7dwmbX3xxmil3dusXdwrz5ZB16294K956rzqT4BxeFhZJ/TBjBlxJa0RL6iur3i2lDF8y/e+Lyu1DOeIloQtfWgsswJbTM8NuZH9m9ObAlpiapg3rP/jz2zMlmCdzJgfckxgU9CQeeCpVFqM/RIzRHSJOkeOW67rXjMCGizP80BCx2GLUmcL2BCt4spn6lKHLf7DJm42IkAW5D8JttQM5P3+9yMzFCV2pyRs6UPjGlFlwhbCljTBSlhehC328AD6EbbY60XYEmHY+3R3Etjit2cnDav321fhbfk4LxTxJHDdclmpZ32PliG/o3shgMKkzm1cnk3gQ1Q7tBOeLVZ6Na/LNWXf67vsuneh7O3AFimPD7LWIcgsgsdGadJsf69gC+oPjyepi3/v7YKHfMV1LzTLXHZdr//pp5n0glXgiX/8Xu9c//tAv0X6E35f5nxJP+l+tLjfGCA35wa257DFjyQe1aGWm9MzoH4wV2MfOr3hBtri5jV/VPiclamfEcyqXAMttSCwSq32gjT5dTKhAj4H69Fs2xs7ODBwljGeE0R2TrNzwo6lCltq3iMIWDXDr+fU+nCyGn2uGTHUH2NRXfd57y3GwMBZPpQ6FEYSkcV9A+oFtPXLjTgrW3xj+GoZs1/Vhh+db6SHt4pnZMU4Boh/PQ8/f8KWnNu9XhafsIWwJQyQpLmPsMUeHhC2JNOKsKWXTw/n9T29esjFMwNblBoEUPCHEu32wcvxXlvOdRueB2hHNgcUkzyTw9rAwX1ZhC1hfaUJsKUxaUYDgBmjCFBHMw9p/xprTLaBiTYODeoRt90r2OKXC8AFcMWcaAMaoD7PIi6LV/eYUQSmNvW+qAFbMHRLXhrjuKQnbAkxJEXf1XPY4sfIaBW2GD/6urFo5UbGD6vXsCWsLl4kcaUmzBiUBLbEGFYYlsdNkBNnIOV4mrDF9PgJahCMpN4srX8u6rTINP5lpe4MMare/eJP93aH1CsCtsDjZZlZtqSQi54tPbOkCx3HWec4zumO47y9Z6UwLkzYQtiSJlgJy4uwJRlAoGeLvV6ELYYx7+5HgBbtOM5DjuN803GyAV6SwJZ6h1ReHNrEX2wCRsy4fGiTGcM+AFfKZvt3QputSZ7SFky67gRssdKrSV3CPDNMTcw2bf1zALYEdfCDw2KCildxDmKStDLJRo9hiwC1qYNKzfJmM3VdeK5Lv0ACCptDjia92BZ44ungew4JyMPaexms1MO+Tpv96aZ3ttJHpWdLd41t6lfLC2wBHZSYG+YNLj8Oc93KjQyDkhXYEuei1y5sKSu1o6LUqsrAwAwTSgSNarPtlGHLoZVS6aayUusFikTNYe+X91LQZ68eDeOIMbkvll33uog6XeodV2q3b/i8Nx+DrnuxWc8o2ALPl4rrevFa/PMnGV4zn+BnwpbUTZdthnv5DdSdjuPsyEJDlbCFsCUMkKS5j7DFHh5Ad8IWe70IW2wfPR1Jd5vjOLscx9nuP9dcx3H+oyNXssy0l7BFwAGGygy67jXGNmbZnC7bk9psTQBFsO1mu51J2KLUvfX2ruveiLqYmgQ8uAVAWK2NeCWJPb1RjozAFrOut2OqZl+vV+FF73nCK7UT+ypNYrbAmwqxYLx7xb+3xIEAUz/7+QLmPO31T5WaGEPIh4/N7jXCFkuDlNVkVrDF4kZodpPk5VgasCUvdW23nGnClnbLkofzCVt6agGX+A1TvBXE0tOGKmELYUuaYCUsL8IWe3hA2JJMK8KWnj7L4N2yKfA82+w4zgbHcS53HOeD3S5dRmBLVOe1PgV0WanGcPQ+gC1eOAIZWj8wsAHbaCunCFu84LsTQEOCvmKnYQvgiA9Oou4NE7RM0AVeO/6U0PXYls1mI/JnKT3L64sEYUupdKgxa5EX97EVhwDClm5btpSvR9ji1n9whC0NLeIABmGLvVbQkrAlZcOVLDt4t2wLNFAFvKChCvjStYYqYQthSxggSXMfYUsygEDPFnu9CFuSPXw6kPq8iGcZPDfhwfmc4zjf79Ywo17CFplVs2nn1e/8ThiSU2DYAs9uP4bhC55HRi1eTT0uY7uwBUO3yq47UBkY2OZ7fGwolUonx/UZgsfThC0V170HcRwrrnuK59mu1A3iiW5OroIylEul+waVWj6o1A2oi78PM5HCC8iL4VJ23aFB1z3CO+aHuvDjuTyMeC7+UKp76umVerjuUR+ALV4exnC5JAAI58pC2NIBS9rNLAlbGjczYUtDC/mBR60JW+y1goaELd20aqHXAlQRwBK2RkN1q+M4q/yGasfiuxC2ELakCVbC8iJssYcH0I+wxV4vwpbQ50s3d8J7ZTjmeYZnGZ5zc/34Lh0rXy9hi8TwawO21GM9+mDC25YhIFHt37D9GRhGNKkuZaUQu2apGZcxKWwxwxaYGnmfBwa2YahNmB5x+9KELfXh/5MD/o4hZqNZliZpa/opteWOUulcOcfzCFLq5Ul19681qNRL4jXknRMCWwBuAHAkj6b3qwFYpAxYE7Z0zIR1J2PClkanmbCloYX5Iw/7TNhirxX0I2zpjj1rcpXHYhqnJoDpaEOVsIWwJQyQpLmPsMUeHhC2JNOKsKXJU6Z7hzBsyHxmNfuM59mI4zi3Oo4DL89U//ICWybE3Gh4tkwCFOgQ5x22IJ6hP6vOhJiEaIumAFvGKkptKrvu/TJrT1gfIW5fmrCl4rrHl5V6FLEefaAByLLeiwU5eaakqRXXnYs6GJ4pmFjjVR/EHB8se6lU+n55YGC+P1zIGwpUUWpLRam7cWxC+nDYghmwbqq4rsSMtBraZOZL2JKq2ep+ZoQtjU4zYUtDC/NHHvaZsMVeK+jXAdhyg+M4v+ZircHLCRqnZsN1t9FQTWXaTcIWwpY0wUpYXoQtyQACPVvs9eoAbHkTn2PWzzF55mO4kPmcsv2M4LoyO18qHY442BLWfizivrQ8W4qoTVid0oQtYfkXbR9hSyrmqneZELY0Os2ELQ0t4gwVYYu9VtCSsCVxY1IalWmtW4Ut4/4sRsvSmjqasIWwJQyQpLmPsMUeHkB3whZ7vQhbev4swzNxtEXYAg8XnFtKq9dB2FJrCxK2JGsTE7Yk04uwJS2L1aN8CFsaNzxhS0MLwhZ7LeK06hBs6ZHFyO1lFyZsnML1er3jOD9IC7KIcoQthC1pgpWwvAhb7OEBYUsyrToAW8Q0cm2vQFwMMtPTBV4wiEmGFwbfSjtwLmFLra1I2JKszUzYkkwvwhZ745jJlIQtjRuesKWhRRxAoGeLvVaELZkwfcHpMs3GqHzGWz8st3VyCk3CFsKWMECS5j7ClmQAgZ4t9noRtvT8eYbg7TawpWMvDEwFCFtqbUHClmRtYsKWZHoRtphWJ4efCVsaNzxhS0MLwhZ7LeK0ImzpuWFE43RLhGcLpn0GbPmV4zj7daOkhC2ELWmClbC8CFvs4QH0I2yx14uwpRtPiabXgHcKPFXkJYG57soLA7N0hC21tiJhS7I2M2FLMr0IW0yrk8PPhC2NG56wpaFFHECgZ4u9VoQtPTeMAClmgxQNVbhWr/SHCaUS+Na2lgJbNP9sFThctNVa32t7EtNRgYQKPJcwfb8nP1p+l1x3TQE8q+QFgTzTZLtrLwzM2hK21NqChC3J2sSELcn0ImwxrU4OPxO2NG54wpaGFoQt9lrEaUXY0lPDiKku5S0gGqXDjuP8NO04LElqqLU+QWu9mou1Boib4/1predQN2vdXtBav0i9rPV6llpZawX7dYL8LrnumgLT/AC3eFmAZUUvXhiYtSVsqbUVCVuStZkJW5LpRdhiWp0cfiZsadzwhC0NLeIAAj1b7LUibOmpYZztN04Rh6Urw4TiakvPlsQOAfRsSSwZT2hBAXq2JBONni1xxj7949uy8MLArBZhS60tSNiSrE1M2JJML8IW0+rk8DNhS+OGJ2xpaJFl2FK6/fZDf3r0fteetu/b1p2y9xv1aZ9728s3XnbesdMP+8zt2D5lnzftPPuAPZbeeOmPj4urR7eOd2Dq5xxam54U+YNpz77Qbi201kehT/Pk44/rBfffzyVCg6effFK6foeK5lrre6rV6q6nH398OpdoDbZt3fqYiLdt69YnqVW0VtBmfHx8VGvtwZbfv/TSIPWK1uv3L72k/HvrKPldct01BfA8y9QfYUut3UzYYt9/QLubsCWZXoQtmTJ7yQtD2NK44TsNW77kfvHOj7n/9My+ap95cZ18pNlT7TH8Pvc9Omr5qNrzBeTXzvJx92OPnKpOOiOuPMHjvfRsufA7n73llH3eOO6BlTDYAuCy9xv1tC+8Y81NM86fGix7L7YJW5LbpqKeIZ4tC+fP1xXXLlhsP6ZbtGCB8IIJni3VanVHWFBY7msEOWWA3IYWNvcFA+Ta68UAuUV9MrVWL8IWwpZW2tSELY2+p41+hC2t2afMnEXY0rjhOwlbvqm+doMJTY51j54e9QM73P32DDNtpz9/3P3Yo1FlidrfK9hy+zWXHj3ti+9cDZhyzlc/eu/M66840iyjO3PmlKumfe/Hp332ra8gzcVH7XedebxXnwlbMmPyel4QwhY7wETYYt8BDgIFwpZk2hG22OtF2NLzR0imCkDYQtjSSruasKXR97TRj7AlU2YveWEIWxo3fCdhy37q87NMaILtqB9YMK15Xic+f2zgoyuiyhK1v1ew5dpzjjvt1M+8Zcsp+7xpFFAlrHwALuce9OH5gC0/Pugf7w9L0+19hC3JbVNRzyBsIWwJwpG0twlb7OEBtCdssdeLsKWoT6bW6kXYQtjSSnu6l7Bl4KbrvjP90E+58lL2zP3f88QNF512AkISoN+AEAUIVYCQBa3UrRPnELa0Zp8yc1YnYcsvb/jZUUuO+tAdDx3+rnvk5rv/tP+8dNlh71xw96WnnCD7srLuR9jyYXeP4TwNI7rmrGOnnfrpN2/Fgs9R9w4gC2FLZswMC2IoQNhC2JI2XAnmR9hiDw8IW5JpRdhiGHN+dAhbCFui2uHN9vcKtqhbbz7s3IP/ZS76B7IEYYu3f583jiNkQbM6dPMYYUvOjW0nYMvcS0486eEpf7P4yS//we6nvuzoh6f89YNyU/7mR5+/HPue/C+n+tjBb3jm/rO+fsGdA9mgh1mFLfB0wbCjr5T2n4khP7beLaJ5J9a98my54uTDzj9l77/YZQtbzvry+x8auOWG73RCgyR50rMl54YyxeITthC2BOFI2tuELckAAj1b7PUibEnxYVCArAhbugNb8FIUcRw/4L53O8ISNGt/SlrbvkI76RAzsllZoo71CrbccOGpPzr1s2/diLiP0w/deyDYP5h5w9VHIEQBgAtCFiB0QVQdurmfsCXnxjIt2AJgAnDy2DdevxogBUBFljDYIsewfvygP16/6Icfv3HWjVcf0c2bN3itLMMWs6wXlM470Qa6mOek/blXsOWyE755MYygLWwBsZ7Z4/sK2hO25NxQplh8whbClrThSjA/whZ7eADtCFvs9SJsSfFhUICsCFu6A1sw3F+gCKBLsza9mVbO6eQ6Dv6ElbVXsGXGjw65EKDltH3/ev3PLz7z+LCyXX321DNsPOjDzu3UPsKWnBvLdmHLL35++fcW/fDjNz1x0B9tNAEKgMsTB/3xWhxDGrkB77jtxsPnn77/JY8e/IbfPnXAa8bNc5444A9HHvrue+b98qrpP5D03VznBbaIJnGxXSRdJ9Y9hy2fecsWxG+JqpsMIyJsybmBKmDxCVsIW4JwJO1twhZ7eEDYkkwrwpYCPpTaqBJhS/dhC8BJVNsX+7sNWzCpR7PyhB3rFWyRF7aIz3LjZecdG1Y223AFYed2ah9hSxtGKguntgpb7ppx5g8fOvxd9wGQTAAmB75uy9Lv/sNcm5gsv7zukqMAY+DZYuYBCPPIt970+Nzzj5w2OHPmlE7dvMF88wZbUP5mHi7B+qW53WvY0sxQop4XHrbPTHjAELZkwcqwDKYChC2ELWnDlWB+hC3JAAI9W+z1ImwxrTk/dwy2zJw55ddnf+vcZYe85ZF7zzv8LGm/Lv7BP89ceuT7f9mrl7JSjuB6xfLll42NjS2KuyOq1eqrC+bPTxyzMghQgtc3t4NpW/FqQTxH5BO3NJvswyxT8HOvYAtmKEXfoFkfQmALQhYgdEGw7L3YJmyJ+2Vl/Hgi2DJz5pR7zv3OmUGvFMRmwVAhGMZW468AzgDePPmV/2erCV4e//qfvog4L/CI6fQNnkfYclXpiqM/oN47EmZMO6lXr2CLGMq4sZS26TqpkZk3hxFl3BB2sXiELYQtQTiS9jZhiz08gPaELfZ6EbZ08WGRg0ulDVvQ1n/ghH+/Tl7CPvGV147cd86U+syTS4/+0B1eHwEvZQ/5qwe7/VLWbNeZn7MMW1BOhB9A3EdbENMqRDE1afa5V7Bl+mGfud0etrxRwxOmWT26dYywJQfGsFkRk8AWeLPIcCEvwO3X/2xXswIDAAAgAElEQVTNwh/te8WdN1/z3bRuOIn98vAhb3lEAuzCsAK4pHWNqHy6CVvC4EjUvjij18y7JSrPfdU+86J0sNnfC9gy8+YbD//xgR9aCEN5ztc+eh+meI4qq5DpUz/9l9uvnPa9c6LSdWs/YUszK9RfxwhbCFvShivB/Ahb7OEBYUsyrQhb+ut5FVfbtGALPFXgsTLJWz4KtvhxIaUvMv/kL8xo9WVvGu3ArMMWs46YcOMj6sMvRPUPsD+u32Hm18rnnsOWz//NS7dcflFoyArpP6CvQdgSZwF43EqBVmGLN9TnkL968FcXfj8ybkYrP0CcA6OL2C2m0SVsqY0LDdMURrGZ0Yw61sqUz3L9bsMWRAiffuin3JP3fuPYaZ996yvXnfvD06UsYWtzerfTPv83L8F4lm7v3axXhC1W5qgvEhG2ELYE4Uja24QtyQACPVvs9SJs6YvHlHUl24ItM2dOgWcKPFQmxXD88h/sXPbtv14a9FxBDMiFJ376mse+/mdrgpNxPHHg67Ys+cFHXTNOZFj7sBP78gRbUH94xTfzcik6bGkWYuCmGedPPe1zb1tL2GJtBpgwToEksAXxU+afcdCFGNojQ308qnzwG57BEKJ246sEp4zGNWA8Fx73yRuKNowoCoCE7Y8zeq3CFrgVtvrQ6SZsMSnztC+8Yw0ihduUG54wF33n07eess9fjsBoImiuzXmdSEPYEmeJ+uc4YQthS9pwJZgfYYs9PIB2hC32ehG29M+zyqamrcAWeKDAE2USMDngNeOPHvznK2xDB9x1xY+nLjnqQ3egnyB9EqzhFb/ssHcusIkdmVZ7L2+wBfVuFoYgrt/Rrm698mw57+CP3YX+wFlffv9DwWmfpU6Y7hmhCpAOIQlkfy/XHEZkY40ynCYRbHF974oQ6AID9/hX/2StN6xoIIEHQVQcmK+8dtviH/7bzd2cDrqbw4hsg0+BPMdNqxZFp7E/aonLM86o9Ay2fPFvh2648NQfxZUPxwFbph+698Ap+7xpJ2FLho1QnxWNsIWwJQhH0t4mbLGHB4QtybQibOmzB1ZMdZPAFnicwPMkCEcQn+WBY/719paD3voeMvCEeeLLf7BTwIu8DL7/rK9f0OkhRt2GLVNLx1wQtXxU7TlhiFCz9jL6AmEvefdWn3ggKn9AmmZ52hzrBWy59apLjz5jv79bgf4AYrdElRMhChCqwOs3HPihhehLRKXt1n7ClhhDlPXDLcEWH7p4dPrU/S8BZBHjhjUM6QNT/+2WZq583rmnH3Cx6SWDc5/8ymu3Lfn+R1U3IYv8WLoJW9KixjB6YYYS+6RenVh3E7ag/DOvv+LIC6Z8snzKPm8cP/1zb3v55xefeXyzesFYTv/2J0qS/qozjj6bw4iybo36o3yELYQtacOVYH6ELckAAj1b7PUibOmP55RtLZPAlnpwW/QTDvjDEUyKMefiE09q1yvebAvCCx6eMfCQkaFJwSC7Zvq0PncbtkS1+8P2N6tjsz5EWF6yr5Xpns1ydBu2ALTAux19AnjIY6iQWZ7gZ4QqQMgCpEffA32QYJpubhO22FqkjKZrB7bIjQZwAo8WiR4u4AXGNDhFGyDKoh9+/EYJtCtpewlZpB55hC0fdz/2iBi/4Frq1Yl1t2EL6jBw03XfOXv/9z0M2gxXwGb1gvfLqZ9960ZM3TbjpG9Pb5a2G8c4jCijBrAHxSJsIWwJwpG0twlb7OEBtCdssdeLsKUHD40MX7Jl2HLQH21EX6ATL1aDIQkIW6JjPqL9G+w72GzDa76dtnM3YQuC3KLfAHBy1n/+w5M3Xvrj42zKfv30U04ST5hTP/3mrQhpYHNeJ9IQtmTYCNoULQ3YIjdWFHTBtNCSBsRZAAvWADIYc9nMC0bO7fQ6b7AFbn7NjGIn9eoFbEF9fvLdfW+G0TzzP9/z1O3XXfW9qDpecswBVyAdguNGRRyPOrcT+wlbbKxRf6QhbCFsSRuuBPMjbLGHB4QtybQibOmP55RtLZPAll/e8LOjHjr8XfdMGOoDb/ajPnQHjrXV9ooISQDP+/mn7n8J+idt5S9hFCLWefVsgSbN+hFRxz7lfuKBdvTsGWz5r/c+cusVFx5jU3a8tJ32xb8dQl+CsMXWIjBdqAJpwha5eT3ocvze14r3ShhsgbFdesT7ZrdtYCMMn5QlyTovsAXTtn3M/adnooyg7E9S96RpewVbhFCf9rm3vXzjZecdG1VujMf0oMz+73li5o1XHxGVrlv7CVtCzU9f7iRsIWwJwpG0twlbkgEEerbY60XY0pePrchKJ4Et0t4KhS5+UNu7Zpz5Q0lns0Z/Y/7pB1wcDLYLT/vEMSTb6E90G7YgFIHt0kxHzEoqfQZz3SyuJEBLu3FbuglbUH+8dD33oA/PR7/gjC+952kMK2qmC0IVIGQBvGHOP/hjszmMKNIE8ICNAp2ALXIDY+wkZhICyZZ980/b/6dZgyxStizBFhgyMzjVN92vX7+v2mfenmqPYdMgymcYP/ksa6lXJ9a9hi2nfuYtW64957jIaccvOGSvCmGLjQVgmm4rQNhC2JI2XAnmR9hiDw+gHWGLvV6ELd1+YmT7eq3AFmmTIiDuQ4e9cz5mD6p7vB/wmvFHvvWmx4NTPss5skb/4oET/v06eakr52N74fF7X9tpTxYph6y7DVvkuu2uw/oO6EOkFVcyqnzdhi0oB4AL4rWgbxA3y5DMWoTQBQhhEFWPbu3nMKJs28HY0nUStnTrJkzrOlmBLSDNH3Dfu12gSdxa3PmC6dLSJSyfnsOWmPGTXiAsDDeiZ0usDWCC7ipA2ELYEoQjaW8TttjDA8KWZFoRtnT3eZH1q7UDW6RtCW+WZVPesVAC2gKceDMJfeP1q4MzCcErBsOOEOdRAAvWvYIsUoc8wpYor5aiwhZ8V+d97aP3ALbAywUTacj3Z65vu+7yo6b5sxYhdIF5rFefCVuybgljykfY0ggclRXYAqIcBCdh23DzMyOCB9N00igQtjTuGxudOYwoxhD10WHCFsKWtOFKMD/ClmQAgZ4t9noRtvTRw8qiqmnAFmlDhUGXYHBbc0YjD7Ic+Lot8KCHp4vk04t13mBL3EvdInq24L6wCTGAEAUIVQAog9AFvbifgtckbLEwRllOQtjS6DR3ErYgzooJQ2Dogj8m2Y6a917O/4j68AtII+lljf2Spt1I4ZJn1LpXsAXRwBGoKi5YlXi2/PiADy5St958WFQ9urWfsCXLVrC7ZSNsIWwJwpG0twlb7OEBtCdssdeLsKW7z4usXy1N2CLtsbt/durxy77910vh6RIFW+DZsviH/3ZzJ2YzknIkWecFtlxQOu/EuMk10I8oOmxpNnkG4rWctu9frydsybr1yVH5CFu6A1tgtAFcYMCwjjPigCkfdz/2KBacgwVeLM2CUgHgIH0awaviypcb2HLQP94fV5duHCdsyZFR7HBRCVsIW9KGK8H8CFvs4QFhSzKtCFs6/IDIWfadgC3SJsMUzg9N+ZtF9553+Fmyb8mx/3pbliCLlCtrsEViPh7uTrnsS+4X7wRg+ajas/5CVl7MYv0B9d6RYOyWwsOWJpNsyEtdwpacGaMsF5ewpXuwRYxyEda9gi2Yiu3Uz7514yn7vGn0qmnf+3GYlvBkgUcLDCWCXIWl6fY+wpYsW8Hulo2whbAlCEfS3iZsSQYQ6NlirxdhS3efF1m/WidhS7fbae1cL0uwxcZzRWALPOLxojbofU/Y8uathC1Ztz45Kh9hC2FLKw+YXsEWTL92xpfetRxG8JyvfvTe4HRspdtvP3TGjw658LTPvvUVTNl2ydSvzGilfmmfQ9iSI6PY4aISthC2pA1XgvkRttjDA2hH2GKvF2FLhx8QOcuesKXWh8gSbBGQ0mwNbxYAFfGW7xfYghgs6D8gJgtis4S19eueLU1e6oad18l9jNmSM8MYLC5hC2FLKwaiV7AFZb3kmAOuAEiBwTSNpgS+kv1n7Pd3K2696tKjW6lf2ucQtgQtT/9uE7YQtgThSNrbhC328ICwJZlWhC39++wKqzlhS3dgy2fUPvMEnsTFZMRxSRtcw5PlK6X9ZyJ2i9nOhXeLmdYm3IF5ftLPvZj6GWVMAlviYkMmrXM76QlbwqxPjvYRthC2tGIAeglbMF3bpVO/etlp+75tXShs2edNO8/5yocW3nrFhce0UrdOnEPYkiOj2OGiErYQtqQNV4L5EbYkAwj0bLHXi7Clww+InGVP2NId2IJ2KeI2Ip6jeKNEtVVxHEAFnitY8BnwJO485I/0nQYtKHevYMsVJx92/il7/8UuBMBFINwwDRGiAKEKELIAoQvC0nR7H2FLzgxjsLiELYQtrRiNXsKWVsrb63MIW4KWp3+3CVsIW4JwJO1twhZ7eADtCVvs9SJs6d9nV1jNCVu6B1t63Y5N8/q9gi03XXL28ad97m1r4R0//dC9BwZuueE7Zr3gDX/uQR+ejxe5CFkQDFVgpu3mZ8KWMOuTo32ELYQtrRgMwpbGfWOjH2FLjoxih4tK2ELYkjZcCeZH2GIPDwhbkmlF2NLhB0TOsidsIWyxaQMH0/QKtsAz/oIpnyxLuAGsz9z/PU/ccNFpJyCOS30/Yj4ec8AVwXL3apuwJWeGMVhcwpZGp3l8fHyd1nqPoEbmttb6zPXr18/t1Q8uK9clbGncNzbfCWGL+Svq78+ELYQtQTiS9jZhSzKAQM8We70IW/r7+RWsPWELYYtNGziYplewBeWYefONh1/4nc/e4k2kEQJbEKIAoQoAZoLl7tU2YUvQ8uRsm7Cl0WkmbGloEWdQCFvstYKWhC05M4wdLC5hC2FL2nAlmB9hiz08gHaELfZ6EbZ08OGQw6wJWwhb4voLYcd7CVvCypP1fYQtOTSOZpEJWxqdZsKWhhZxhoewxV4raEnYYlqd/v5M2ELYEoQjaW8TttjDA8KWZFoRtvT38ytYe8IWwpa4/kLYccKWZH0Iwpag5cnZNmFL44YnbGloEWYczX2ELfZaQTfClpwZxg4Wl7CFsCVtuBLMj7AlGUCgZ4u9XoQtHXw45DBrwpZaW3DF8uWXjY2NLYr7CqvV6qsL5s8/wWxP9+NnwpZkfQjClrhfVsaPa60/OT4+vnHtyy/P6vfFb3DFxmwZHRlZ2e9aDQ8Pz6tWq1vibm88fLZs2bK03/XaunXro2NjY7Pj9OLx4itA2ELYEoQjaW8TttjDA2hP2GKvF2FL8Z9RSWpI2ELY0gosImwhbEliZ3KfVmv9Dq31NC51Dd7U7EvVWn+CWtW1OqGZVjimtf4W9arrdWCcXjxefAUIWwhb0oYrwfwIW+zhAWFLMq0IW4r/jEpSQ8IWwhbClmTgpBW96NmSxCoxLRWgAlSACvS1AgJbNP9sFThcbhit9b22JzEdFUiowHMJ0/d78qPld8l1/ypA2ELY0go8oGdLMkBD2NK/NpY1pwJUgApQgYQKaK0P0Vrfz8Vag6+LxFrrq6ibtW4LtdYPUC9rveZTK2utYL8Okd8l1/2rAGELYQthSzJw0opehC39a2NZcypABagAFUioAD1bEjsE0LMlsWQ8oQUF6NmSTDR6tiS0/UVMPjY29svdu3e/uHPHjif6edm1a9eaarW6MO47RoDcnTt3PtPPWqHuY2NjGxBioJleWuv3wyT1u1aof7VaHUEYi2Z68RgVoAJUgApQASpQi2P0fTQgFs6fryuuXfySfky3aMEC6fpNgC3VanVHMEYJtyfG3WDMlol6xN0fDJBrrxdjtvAxZiqgtX6f1novLp4GHzS1Cfustf7f1Kp+v7w9TCPZp7X+E2pV1wq/sdeLNlxTASpABagAFaACEQqIZwthS3PQRNhi3wEOwgTClmTaEbbY60XYEmHYuZsKUAEqQAWoABWgAlSAClCB3ipA2NIcsogXD2GLfQeYsKV1raAdYYu9foQtvX1+8OpUgApQASpABagAFaACVIAKRChA2ELYEoQjaW/Ts8UeHhC2JNOKsCXCsHM3FaACVIAKUAEqQAWoABWgAr1VgLCFsCVtuBLMj7AlGUCgZ4u9XoQtvX1+8OpUgApQASpABagAFaACVIAKRChA2ELYEoQjaW8TttjDA2hP2GKvF2FLhGHnbipABagAFaACYQporT/58uaqvvE3uwqzzH5kJ2axODasvu3u01qfuW3pUr32sp8VZtm8cOEurfXH29Um7PxqtfrArFmz9JVXXlmY5bnnnvud1vqtYfXlPioQpwBhC2FL2nAlmB9hiz08IGxJphVhS5yF53EqQAWoABWgAoYCWutPLVqx46V/P2dEF2U56OINax9asmT3+Pj48UZVU/kI2LLy5B+tfOK979FFWR488nsvP79q1W5MsZaKSEYmY2NjS77whS+8tOeee+qiLFdeccWWjcPDa7XWbzGqyo9UwEoBwhbCliAcSXubsCUZQKBni71ehC1WZp6JqAAVoAJUgArUFCgibNn/wg0vYEaLh5Ys2ZU2cCkibFlw8DdWQK/VQ0PwcNk7zd9GEWHL9HPPfWFWubzbBy5vS1Mv5lV8BQhbCFvShivB/Ahb7OEBtCNssdeLsKX4zyjWkApQASpABVJUoMiwxQcuGFN0ZlqSFRm2QK81Q0PwcEkNuBQVtkArAJdNGzdu0FoTuKT1A+uDfAhbCFuCcCTtbcIWe3hA2JJMK8KWPnhIsYpUgApQASqQngJFhy0ecFm8eMf4+PhFaahWdNjiAxd4uHwuDb2KDFsCwOUdaejFPIqvAGELYUvacCWYH2FLMoBAzxZ7vQhbiv+MSlLDarX6i/ueHitMzEfEr3xs5SubtdbvSqKDbVqt9Zb111xVmJiPiF+57vnnn9Ba/4mtBrbptNbv37BhQ2HiPSJ25a233qq3b98+w1YDpiuIAv0AW9ApfnDx4tE0gEs/wBYPuKxaBY+gtoFL0WELtLpzcHDXK5s2bdJav7MgZoHV6KAChC2ELUE4kvY2YYs9PID2hC32ehG2dPDhkMOsq2Njdx165ebnixLzEfX4yU1LhlevXLlFa/2/0v5KqtXqq4/v8d7RosR8RD1+ccstu4c3bHhGa/2naeqltf7Ak08+OVyUeI+ox1577bX+njlzRrdt23Zbmloxr4wr0C+wxQcuI+Pj420RxX6BLdBr9dAQgMuX2rmF+wG2BIDLu9vRi+cWXwHCFsKWtOFKMD/CFnt4QNiSTCvCluI/o5LUsIiw5bzrFv4O7bo1q1Zt01rvkUSPuLRFhC133nSTN6x+eMOGlVrrP4vTwPZ4EWHLxz/+8fW4t+bNmTM6MjLi2mrBdDlXALBl586dzw267pSiLGXXnY6bOWxZumjR9naAC2DL8PDw3KJohXpUlJoVphX2rVm1arQd4ALYsmL58p8VSa/ywIAXUDio2Z2Dgzs3bdyItyEELjm3i50sPmFLuG0O/p4WLVig/b/D5fvQWt9brVZ3BOECtyd2mAlbJuoRd3/Qs8VeL8IWsUZcQ4EiwxY8k1YPDW3X+v+2d+4xchz3ncflDsHhgMMBAfJH7o8AF+CAwxlxYkuMBcWOLevJQDGFSIcIlkVEhmz6HJnCmY7lWLFjQlyK5DKSjw9LMSUmIiOYW7XTa1Eh9aAki+ZDpCxRoijbpKg1RYmSKHL52uW+yJmp4NvTtVPbnEdVd/VMz8yXQLNnuqtruj8785uqz1T/Sl3m66/drbIFrKKJI44opX7HB69uli3gFQmXzUqp/+CDF+vIMYFeky14g+/dvft8qVR6JMmfpddkS/RlA+FyaxJevSRbwCoSLrjf92NJePGY7idA2ULZ0qzzn3Y/ZYu9PABryhZ7XpQt3f8d5XKF3S5bjDbwFS5c6pXtZtkCVpFweU8p9bv1GNhu73bZAl4QLpOTk08ppf6jLReW60ACvShb8Abfs2vXaLFYfNT1T9aLsgW83vnNbyaSCJdeky1g9cTgIEa4jFG4uH66eqM8ZQtlS1qZ0ux4yhZ7eUDZ4saKsqU3vqdsr7IXZAvadUeGh6eUUp+x5VKvXLfLlrANXChcOH3q1AdKqf9ej4PN9l6QLeC1bevWicnJyeeVUv/JhgvLdCCBXpUteIPv3L59bGJiYpPLn61XZQt47d+3D18281149aJsASss0f2+f+zCi2W7nwBlC2VLM1mSdj9li5tA4MgWe16ULd3/HeVyhb0iW9Cmi4TL1S584mV7QbaAFSaOODUy8pFS6vfjDGyf94psAa9nt27FCBfcO/3btnxYroMI9LJswRt821NPTbkIl16WLeD1yt69TsKll2ULeB0ZHsaIIAqXDoqJWZ8qZQtlS1qZ0ux4yhZ7eQCWlC32vChbsv6G6Kz6IVuOHDnyaC/k5UOb7p3KTJ1zk/6VIFt2bN9+TzfxApdaC4TL6VOnRpRS/yMJL8iWUql0vJtYNcopGgmXPUqp/5yEF4/JMYFely0IEFGSosDmz9TrsgW8MI22UuorNrx6XbaAV5RgbY4NL5bpfgKULbUbZvHGGhPk2neA4/KFssWNHWWLPS/Klu7/jnK5wl6TLfieioTLPBdOumwvyRawioTLGaXU/9QMbNe9JlvA69ktWyampqZeVUr9F1tOLNcBBChbKg1/3DM3MTERKKV+q9GfjbKlwuvll17CiI2mwoWypcKLwqXRp6q39lG2ULbE5Yjv55Qt9vKAI1vcWFG29Nb3VbOr7UXZYgiX/9OMT3x/r8mWSLggj+GoUup/x3k0et6LssUQLm8opf5rIz7c10EElFJXdeHUz/eE0xljSmOH5f1jxxAM/rDRn08ptXjkxImumvo5HNbmwAlMn/63f/vZmdOnxxqxwr5isfhSF079vN7lfYWyO1988cD4+PjTzXhxf/cToGyhbPEtV+L1Uba4CQSObLHnRdnS/d9RLlfYq7IlFC7DwxeUUrc58eqh24jASC+YqRN9BqXUx2159apsMYTLr5RS/82WF8vlmEA0suWtbronLum1lEolJHNqGAgwsuVEl8mWJLx2bN/+nXK5fK7ZW7sbZUsSXkeGh9cXi8UtzXhxf/cToGypNsB0Q6zWmrcR2XeAKVuSs+LIFjd2lC3d/x3lcoW9LFvwvXVkeHhaKfVlW2a9OLJFf79HwmVcKWU1jXYvyxYwe3bLlvGpqam3fEyjbfv+ZLmMCFC2yDt155mypcpCM6m3pmyxZwWGlC0ZBbAOrJayhbIlLkd8P+fIFjeBwJEt9rwoWzrwSyfDU+512YJOcZTD5f/ZYO5l2QJWEC5nz5yxmka712VLJFwmpqen31VK/Z7N+4tlckqAsqXaaaZsqbKoJ1n0dsoWe1aULTkNfm06LcoWyhbfciVeH2WLvTwAO8oWe16ULW364sjpyxaLxa3Dw8M9MxsROsC1lsOHDmGEy7ea/Zki2fId3ZbuhnUtHo22Qbi8f+wYeF3ZiBfSOhSLxZ6Zjages81BUDw1MvIhR7g0erfkfB9lS7XTTNlSZdHsC4CyxZ4VZUvOg2CLT4+ypXZjNd7Q4G1E9h1gypbkrChb3NhRtrT4CyPnL4fbo7tQtjjn5dv+wguvnjxx4vVmfy6lFKZ+7i7Z4pjzEXkMf7FnzzsTExPLGvHqUtmSKKfor958EzM6XdWIF/flmABlS7XTTNlSZUHZYs+iGSvKlhwHwDacGmULZUtcjvh+zpEtbgKBI1vseVG2tOFLI8cvWS6Xtxw5cqSrRrbYtOniZQ79+tdrisXi7mZ/qm68jSjOwuY5JhpBDsxGvLrxNiIbNrXKYCIbpdTnG/HivhwToGypdqopW6osan3YzW0c2WLPCtyYsyXHQbDFp0bZQtniW67E66NssZcHYEfZYs+LsqXFXxg5fznKlkpbkLLFrU1M2eLGi7Il54Gw2elRtlTf8JQtVRamWKn1mLLFnhVlS7Mo1Fv7KVsoW+JyxPdzyhZ7eUDZ4saKsqW3vq+aXS1lS6UtSNni1iambHHjRdnSLBLlfD9lS/UNT9lSZVFLsJjbKFvsWVG25DwItvj0KFsoW3zLlXh9lC1uAoEjW+x5Uba0+Asj5y9H2VJpC1K2uLWJKVvceFG25DwQNjs9H7JlcHDw7iEhnh4S4vSQlEUkOgyEuDgkxG8CKR8NBge/gg5nIEQhngQxKjuNsgUpV5kd+vCYwcGvDA0ObgikPBEIUY7KTwRCvDYk5bfj5dM8b4VsqcNqOhDirYKUD8bPH+xsrz8YHFw8JOUYGBWEOByvy+dzyha3QMnbiJpFot7ZT9lC2RKXI76fU7bYywOwp2yx50XZ0jvfVTZXStlC2ZKkb0HZ4taHoGyxiUY5LpNWtgxJuXJIyjO1JEq0bQwSAB/GerLFOHYqkPJh/cEdHBj4m0CIV4akDCWLUa4y9ZoQ5346OHi/Lp92nbVsGSoUFhWEOHbJdeip5IQ4HpaRlQ+h6/VTtrgFr7TvF5fjKVtyHARbfGqULZQtvuVKvD7KFnt5QNnixoqypcVfGDl/OcoWyhaXtrAuS9ni1l+hbMl5IGx2emlkSyDlPYEQH0EeYCRLIMRL2IYPUzA4uLAgxIZAiEOFgYEfhNuMkS0QL7pcIMTeGaEixA79YQykDKKRMuVAiFcLUi4KBYSUzxkjaA4VpPy6PibNOmvZEl0PxFF4PSarQIggEOJNU7a4Xj9li1vwSvNecT2WsqVZJOqd/ZQtlC1xOeL7OWWLm0DgyBZ7XpQtvfNdZXOllC2ULa7tYZSnbHHrr1C22ESjHJdJI1uGhNgWSZJyIOVTzT5w5sgWLVtwTCDljwMhpsMRH5Fswe02gRDvRyLnfTzX9ePWmkCIX0b7JgIp+/W+NOvMZYsQu6NznsY1NzrXJNdP2eIWvBrx972PsiXHQbDFp0bZQtniW67E66NssZcHYEfZYs+LsqXFXxg5fzkfsgUpAQIhdgdCjOp0AUNSThWE+PWs2+uFOBz2E/Ro8MoaP4ukyAMAACAASURBVGCORaPgL0ktENWNtANT0bHFQIgT4e35UYoDH+29VuVsQTs/EOKNQIhx3f+Krh/9i1TXj7+BbR8lLTPKFrf+CmVLzgNhs9NLKlswcmVIyvfwwSwIcXaoUPj7Zh++OrJlEUatRKM9JoeivC2BlP8/EALP1ZAQe+J1B1L+NAqcED0ivj/J8xbIluejc8Y1nRwaGFir89nEzzfJ9VO2uAWvOPMsn1O2NItEvbOfsoWyJS5HfD+nbLGXB5QtbqwoW3rnu8rmStPKlmBgYP1MW3+2RNHpAqq319eWLZVylRH2H8RGh6MfMTrT7p5dP0aY767XBndtD7ZCtgRSPtSIFa7HPO+oH2F9/ZQt+e1DULbYRKMcl0kqW0K5AslSCXDDMwErFgwxYkWP4jBlSzz4wdIGUv6rDhSBlI+FSXYr9Ye3HOl9WJujYQIhnjf3JX3cAtmyJIiY6esPhJiATIIoMc87yfVTtuQ3UFK25DgItvjUlFLfUEqpA/v3qx0vvsilDoNfHjgATPj3Ff0nUko9Vy6XL/xy//5+LvUZnB8bez1ip86PjR0gq/qswKZUKk0qpQ6D2QfHjhXIqz6vD44dE9F76xv6c8l17xJIKVuWGzIEORufClMQSHknpMklt9dX+xczuSALAwP3BUJ8GPVF0N94CG3p6PgPou2joajAhBNS4jV1+oOZ/onZ/k7yOGvZEo3ofyvqO4CVRFqF8FwHBn4QiZLn9LknuX7Klvz2IShbOjzGJpUtdTv21WAY2mZb2RIFxLMwsQgWppgxbznSgSQmW2bZXF3GdZ21bImua/GQEEeMoZKaE0bo7NXBM8n11/2bRAl3XXk0Ks/ZiNyCMmVLhwdKj6evR7bozjDXTQks0PiVUs83Lc0CJJCMQChbkh3ak0ct1J9LrnuXQBrZgtthInlwETkeG7U5w33V/kVVtlT6C+btL6FsCaQcCIQohYuUA2bdgZRrjNuK9pn7kj7OWrZAngxhEo3KaP/qaJ867fsk10/Z4tauT/peSXIcZUuHx1jvsiX64GtZUE+2aIESzbjzxEzOFimPwmzj1qDofkQk3208skXKrUnevPFjWiFb9GsODg7eixE5htWHdCkXhHgBZZJcP2VLfgMlZUuHB0qPp6+U+pRS6gdcrBlcpvErpeaTmzW3PqXUUvKy5rWYrKxZIX59Sn8uue5dAkllizk6HikJ9IgW3Uauua4hW2IjVd7V+R0DKd+MfsQdD4RYYtY3KMTf6tEtBSE+HBTim+b+JI+zli1m6gb8WIvrQz+i3rkmuX7Klvz2IShbOjzGJpUtYXCqDt37CMHL/NDbyhYcEw2PG44Md2iszZErjXK2wFoXpPyJ+dpJH7dStuhzxLUPSfmMnl1JB/4k10/Zkt9ASdnS4YGSp08CJEACJEACJDCLQFLZUisv4azRG9X8KtVRLFXZMpOnJeo3qEDK93BLUdS2/nogxDsNR4FEddnmnNRt9nrrrGULXteYoVRffznM/yjEZi2Z0lw/ZUt++xCULbPCTuc9SSpbwg++EK9Ege6SIYBJZQtGemCqaNN6Y1YiM5BEciacjQhZuIek1AH2znqB0GZ7O2RLyHFwcHF0HUg2HFr2JNdP2ZLfQEnZ0nmxkWdMAiRAAiRAAiRQn0AK2TIzCyk6+WgLp5Et0SQbbxWkXDSrHtx6UygsuqQPUBU3VZlT55acS46tUa4VsiXsL0i5MZ77Ef0wJM4tCPH4JRwdrp+yJb99CMqW+jGoI/akkS1DUq4ckhLTj4Uf9ECIJ8NbgDCdmhBbou0zCai0gIm2h7cGhbcRSfmcHtkRSDlckPLrkVDBLEXh7TWYsQhB9JLyQryKsjbBsFmZrGVLIOX+QAhMQbdqJjeLlPfo2ZgiLq+EAbUyvbXT9VO25DdQUrZ0RDjkSZIACZAACZAACVgS8ClbzDa67viH0xrrCSRqCJKg0oY+EKUdwEiPbebI+zDPSQPZEkg5UpDy78zXTvK4VbJF9w+GpHwwEOJAIMSFqJ8U9sPC/gVui4ruPHC5fs3cTP+QhIXNMZz62a2/QtliGZDyWiyNbAk/9FJKI9+KHto2szY/tKZs0cHBXMPM/lTKH+sP6k8HB+8fkvKMWcZ8jGCCQKvLp11nLVsK1S+KGT6Nrsf1+k3ZYtZrPsbfIC0nHM8EuW6BkrIlrxGQ50UCJEACJEACJJCEQFLZghHsOmdhIER1RtNq3scw6W0z2YL2KHKyYEZTtHXRzg7buFF7O5zptEHOFut8MTVGs5ht6VbKFvN1w5E8Qrw9084XYkfS66dscWvXx/4Oqe6saFYXZUuS6JSjY9LKFrxB0MlHVvFwGuPoPstQwAwMnAyE2KpvAaojWzDXPRJYvYF64m+4ISm/HdnbizqYwOQGQuxFkImXT/M8a9kSJcXdjS8YYzai4pAQp4eEeFpzMq/B5fopW/IbKClbchT0eCokQAIkQAIkQAKpCSSWLRjBLqXO1QhRstJs++qOv6tsCYQ4hHowAQX6DM1mI8LrmK+b9HEbZcus2VuHItmS5Po1c/NH8qQ8mh3HkS1u/RXKltShqr0V+JAtzT5UPvYbCWORhTvwUWe8jqxlS/z1XJ634vpdzocjW9wCJWVLe+McX50ESIAESIAESMAvgRSy5U5M9zwkZfhDKvKQBFJujG6xXxBUc0JWc6pUR4fPbIt+xNTSBjN6bkFbNpbmYDSQ8qFoQorleiaiKA3CLMnj0g42y2YuW5DLUsqjuE0KiYDDVAuVCTZWGtdzMRgYWJ/0+ilb3Nr15t8/68eULX7jVstr6xTZEg05PBuZ6g+HpPyHcNSHlPvjRjzpmz7PsqUV1+/CjbLFLShTtrQ8tPEFSYAESIAESIAEMiSQRraEwkDKF3XORj16PbaeESsWt+If06kFwrqF2GmMIo/fvl8MhHjCpd3bqGzWssVi5DruEtiN68Z5Jrl+LVti/Kvc6iXbbXKLVS1uHNni1oegbMkwiLWi6o6RLZVhgTujJFjVD39lmCCGDX691gfaZVuuZUsLrt+FFWWLW6CkbGlFNONrkAAJkAAJkAAJtIpAGtlitDmR7PUtM/9jIMQUZiINpJQFKReEZasjW8w+QN1b8UPxIMTjUe7HciQRMDr+hJkf0jiPxHk3WiBbIFFWRZymtBCJbvl5L5DyUS1a9PW4Xj9li1u7XnNuxZqypVURLaPX6STZgoA7VJnlCNM9I3DCTL8TSNnv482ed9mS9fW7MKRscQvKlC0ZBTBWSwIkQAIkQAIk0BYCnmRLYslh3W7Vosbj6AzztbOWLeZrJXqc8fW7nhNHtrj1IShb2hLe/L1oh8mWTANyB8iWTK/fJVhStrgFSsoWfzGLNZEACZAACZAACbSfQKfIlqByuxJGxGAkzJZgcPBrhcHBTQFuNYpuvXFpA8fL5l22ZH39cR7NnlO2uPUhKFvaH+tSnQFlS/UNT9lSZdEsUFK22LMCS8qWVGGKB5MACZAACZAACeSMQMfIlsr00GHeR30LDta+Zt7JvWzJ+Pqb9Rni+ylb3PoQlC05C3yup0PZUn3DU7ZUWcQDY/w5ZYs9K7CjbHGNTCxPAiRAAiRAAiSQZwKdIlvQDguk7MN004EQegYkTDn9TDQDUqqR43mXLVlff7yP0Ow5ZYtbH4KyJc9R0OLcKFuqb3jKliqLZoGSssWeFVhStlgEIxYhARIgARIgARLoGAKdJFuatWvT7O8E2ZLm+nwfS9ni1oegbOmYkFj7RClbqm94ypYqi2aBlbLFnhVYUrbUjj/cSgIkQAIkQAIk0JkEKFsqbUHKFrc2MWWLGy/Kls6MjzNn3SrZ8tXV7/zk5pVn981bMXrQdfmrfzy18641h9c3EwBp9+dRtmz+0Y++8cLdd6/Ydctf/mTPF2584hefv2rnq1d+6iCWV/7sT/dhGxaUefr+++9Jy8D2eMoWt0BJ2TITcviABEiABEiABEigCwhQtlC22PYbzHKULW59CMqWDg+WrZAtNy6fOHr10qJKu0C6mB9W34/zIlsgTSBX9l3+yXff+Nj/Ui7L6x//2DiEzHP3/t1i33zM+ihb3AIlZUuHB0qePgmQAAmQAAmQwCwClC2ULWbfwPYxZYtbH4KyZVbY6bwnWcuWr646uunqpReVryXLES7tli0YxYJRKrXkyr4r/uTQnhuu2/bSX9y4Ob5g32uf+PhI/DjImqykC2WLW6CkbOm82MgzJgESIAESIAESqE+AsoWyxVawmOUoW9z6EJQt9WNQR+zJUrase/yphdctnRq/eukF5WuZu2ziJOo1P7S+HrdTtkC0mCNZIE923fyXm1xuDUId279655pfXH3VLlO8YJsvRroeyha3QEnZ0hHhkCdJAiRAAiRAAiRgSYCyhbJF9wtc1pQtbn0IyhbLgJTXYlnKltseOL7Nl2Qx6/nrB49tdvlQ25Ztp2zRguT1j39swoccgaR55dNXvgbpgluLIGJsOdiUa7Vs6bvvvns/97nP/XrOnDnj8+fP3/D4xo1fbXSeruW/8+1vL/vMZz7z3hVXXHHqrrvuWiU3bUo1DWD83Chb8hoBeV4kQAIkQAIkQAJJCLRCtix66Fdrk+Z81DkiUUe8XebzeR4T5KLdj3yO8XyPOu+jXmP/jvm3P5rVSPhanClbKFuSxJuOPSYr2bLkkT2Lr146rbJYrls6Of7Dx7Z7TwbbTtmibwPyIVrMwKbr/dnChf3m9rSPWy1bbrn55icvu+wyheXKK6880dfXd2+ja3Apv+Gf//lrc2+4Ybeu/7Of/ezhf3roIa+jpyhbOjZE8sRJgARIgARIgARqEMhatkCSpM33qI+/a81wZhNt5EW2QLAg5yMm0DBHuNs+blXeR8oWypYa4aR7N2UlW+atOHswC9Gi6/yrfzyxq1FnO8m+dsoWHQiR3DbJudc6BpZa10vZUl/OULZ0b3zjlZEACZAACZAACWRDIEvZgpQBc5dNnvSV8/G6pdPjWaUhyINswY+1r33ij07qdj/WGC2PvI5mrkeUM59jZD3KmMfhMYSN71Hxuq9C2ULZkk1EymmtWciWRQ+9ufbqpVMq6+XeH7/qdbRGHmQLAhxyt6QZ4YJbiCBtzMDZ6bJlxbJl3/n8VVe9aXsbkWv57373u0s+/elPv8PbiHIaqHhaJEACJEACJEACuSKQpWxBygAzhYCPx0hvoDv8Ptftli07vvTF9brNjxHtmFAjyW1B6HvoFASoL4s0BOBO2ULZkqtAlvXJZCFb5t4/dvLqvkmV9XLjsnNHfQbLvMgWHTD1cD4MCcR9l7WS5ep7MhEgX77hum1mkl1dD9adLlt8/p3bURdvI8o6krF+EiABEiABEiCBVhLISrYgVYAPuVKrjizSELRTtqBvoNv7GKXiYzQKRA1GxaBe1Om73dxq2eKSlxE5IW/74hc34cdd/MiLH28bXf+j69b9zU3z5j09Z86cyT+fO3fn2rVr725UPsk+JshtZVTL4LV8y5a/fvDoZlvJ8oWVk2rNsxfUzkMl9fo7pXC9fPMFhe22ddy15i1v92DmQbbATutkuTp4JlljSCDq0kMDKVvcLHKSYNjoGMqWDIIXqyQBEiABEiABEmgbgaxky80rT+/TaQN8r5HmoFF7Lcm+dsoWtO/RT8AtREnOvd4x+BFX9z/qlUm6vZWyxTVVAHJCIjekzuOIHJCNrhMi5/LLLy/q8nd++cuPNCqfZB9lS9tCnJ8X9ilb1j++ZeH1fefHr+mbUM2W78tpNTapwn9vHy+r/UdLCmv8+/BsWS14ZLJpHXgNvB5eN8mbN35MHmSLliIw0wh0GAqohYkOerXW++Z88l0M/YtPF62P1fXGrznp81YnyE16nnk5jrLFT7xiLSRAAiRAAiRAAvkgkIVsQYqArNMQIN2Bz/ZhHmQL+gb4kdXHdaEPYo6U91GnWQdli9sPwJQt+Yh3ic/Cp2y5deUHu67pG1fNlkUbK5bl7eMlddsaiJnqMZAs2A4RUxEu1X1mOfPxHQ8e8TIVdJ5kixmUzMcYLghxohdzX63HlC1uAa0WQx/bKFsShygeSAIkQAIkQAIkkEMCWciWG5ePHc1atsxddt7rKJC8yBYIF0zpjB9rk7Rd0cfAVNBIY2D+sJukrkbHtFK24Dxc8jLiNqL58+dvsL2N6F/Wr/+/GP3C24hyGKDyckq+ZMv3Hn613xQgjR4fP1sOhUq9MvNWjiuUwQiXemXi21c99rPUU0HnQbYkDZD1glq3TP1c7/o6ZTtlS14iHs+DBEiABEiABEjABwHfsgWpAWzTCKQth7QHvtqQ7ZQtmFnIFCP6MYQJZhSCPEHfArkfdf5Hne8Rz5EXslHOR9Tni5Oup9WyRb9up645ssVHtGpjHb5ky03LTx68pu+8arZ8X1ZGtWB0iy5725px9djPp2eeY3utcrp8rfUt/R/tS/shyoNsQXD0IVxgp80hgLyNqL0jXChb2hjk+NIkQAIkQAIkQALeCfiULese37Lwur7xcVuJsvzJSs5H/DCLBfkfkffR9ni8Fl4zbd8Bx+dBtmAkOxLbps37iB9pkZIAfREtbnwwMuugbHHrk1C2eA9dra3Qh2xZ+sjuxbUESK1tG35+QZ2fUrPEir6tKF4e+VtQPr693vO0o1vyIFt0YEOiK9hmSBMzQDV6rPO8xKd9Rp2ULW6BrRHnJPsoW1ob1/hqJEACJEACJEAC2RLwKVtuf+D9bc3yPWL/vJUTMzkekeux8PLFcNF5H7FGGZu6bl153MtMO3mRLWb7FLIEo14gYZDXUfcvzDVmHMJ+CBoIFnO6aPQbdFmzXh+PKVvc+iSULdnGscxr9yFbvvfwK/3XLBlTNkth74XKLURLxtSGn0+r/UeLatHGiTAxLo5fsG5c3bb6fFhXRbZMW9WLY3EeaYJAHmSLzrGiAxzWGO2CezAxzA/DAeML9pmjWPSxsNP6NiIE3DRs4scyQa5boKRsyTyU8QVIgARIgARIgARaSMCXbMGPpfH0APWeI68jfrT9vpy6JNUAfrzFPpRBSoJ6dZjbkQYh3sZ1fZ5H2eJ6DfHylC1u7fw4P5/PKVtaGNSyeCkfsiUMkktG1TUWCwQL/qFsVbaMz2yDfMH221aPhdt+9OyUVb3X951NPStRHmQLghtGs4Q2uo6J1jKl1hqWGrMS6ZEsWt5QtrQ3aFK2ZBG9WCcJkAAJkAAJkEC7CPiSLTctHzloCpB6j1c8WelDVFIR1JYpmFwD/yoj42uXMevHa6ftGOdBtmBEPEa4p70WfTxGuuh+ht7ma82RLW59EsqWdkU4T6/rQ7bgw3f7yne32ciWBevOh0FwxebJUKjsOnRRLdpYlS2FvdNqXn9FxKAgpItNvXc88JvUIzfyIlvMYIbACXECWRIKGAwHNBa9HcMFzeF/ug7KFreAprn5XlO2eApYrIYESIAESIAESCAXBHzIlnB0vEXOR6QQwIiV/UdLs9ILrHhySmExUwzsOlSMJtlonksSxy1cczDVlMl5kC0QIxjlrn9sTdqORb8DI+i1aME6aV31jqNsceubULbkItwlPwlfsmX941sWXt93ZvyaJedUswWjV8KpnddBpJxTt60eVc/svzBz3KKNFSFjbmtU59ylp0bw+vU+1Lbb8yhbbM+9XjnKFreAVo9j2u2ULcljFI8kARIgARIgARLIHwEfsuWWFcdfu6ZvTNkslRErmFCjWh6j4bHEt6Gsua3RY0zykaadlxfZogUJ0gsg72OtH2FrXafO+Yh0BfFpnylb2t+PoGzJX+xzOiNfsgUf3gU/PLTpmiVnVbNlXv+50E6PTZbVY9sn1YJQupxVkCyFvVPhyJez42X13AEImOb1fWvta2trBQ/XbXmQLUhu63re9cojyOrAu+NLX0xl7eOvwZwtbsGXssUpLLEwCZAACZAACZBAzgn4kC3hbKaWeR9nZMuSsZmcj1q2zOsfU9/cMBHmecTo+VC2WNbbDbIFORr1D6y67a/XGPECAVNrqSVXdEoCfXy8D5D2OUe2uPUhKFtyHgibnZ5P2YIPH0aZXLvkrGq23NR/LhzNEkbD2H/B3mm1amslae4z+6cb1nXT8o9S2WgzYORBtiCwISjitiDz3FweI+dLfEaitMMK469P2eIWKClbmkUi7icBEiABEiABEugkAj5ky4IfHt5kky4AZY6fLUcj4Ucj2TIejmqBcEFKgnC20yWjCikJ9GObutOmIsjDyBaIFrTV0QfYc8N12+rNQKQFSnytBYv+cRb9Bl0m3gdI+5yyxa0PQdnSSVGxxrn6li3fe/jl/muXnFG2y039GNEypn707ES4xnN9bP/mSi6XYO/UzDa9T6+XPrJzcdoPvT4+L7JFBzfYZkgTDAV84e67V9RLfIURLJAzGP5Xa1Yi1EfZ4hbY9HvC15qypUbw4SYSIAESIAESIIGOJeBDtiANwNylp0dspAjSCyANAXI7YvQKBIse2YLH2IZ9KFNJRdB88g4fE2zkSbbE261o/6OPoHM8mmskwcV+CJpax+n+SHxf2ueULW59EsqWjg2RlRP3LVvwAbxl+bHXrl1yWvlY/kGMqa+tO1ezrlv7j+5K+4E3j8+DbIFRxnz3OsAlXcNwoy49pJCyxS2wme8LH48pWzo8UPL0SYAESIAESIAEZhHwIVvQxvrW2v1rG+Vm1PuQ43Fmauf+So5IpCDAgjI6TQHKoKw+rtF64epfpr7NPhey5fJPvuujvarrQL9B90H0Nl9ryha3Pglly6yw03lPspAtmAr62vtOqyyX65eMpJ7qOR408iBbtBTRyaogXrQw0UGv1hrDBTHlMyy1mRBLH6vrjV9z0ue8jcgtUFK2dF5s5BmTAAmQAAmQAAnUJ+BLtqAtirQANnkakecRMkXnffzmBuRqGVNrn5lQH54tqfFppaYuKLViM/K3NM77+Bf3n/QiKPIgW9A30LcAJW3b6+PQB0F+F93f0Nt9rSlb3PoQlC31Y1BH7MlCtuDDeMcDb22+9r5TKqtlwQ8PbvL1odf15Em26HOKryFNzCW+P/6cssUtoMX5+XpO2dIR4ZAnSQIkQAIkQAIkYEnAp2xZ+sjuxc3yPer9X1o9qnYduhjL+KjCbV9bNzaTE7J/80TDvI9IfeCjnZcX2QI5AkmS9AdWSBakLognzfXByKyDssWtb0LZYhmQ8losK9kSTgW9ZGQ8C9kyt++jEfND6+txO2WLTmSV1WxE5mgXH7w4ssUtUFK25DUC8rxIgARIgARIgASSEPApW9A2vbX/vV06J6PNWud9RO5HM+cjjsUEG/j3pdVIRXBpLkmkPPDRHkYdeZItejQKhMkrf/an+/Z84cYnkPdRLxAq6BPo5zvm3/5oo5yPqM8XJ10PZYtbH4KyJUl0ytExWckWfKAWrj6w/tr7RpTv5XsP7/FiovWHXq/bKVtw+48OkLDSaeQIAimCqzbTEDn6Gn2tKVvcAiVlS46CHk+FBEiABEiABEggNQHfsiX8obZvZNxHzkfUsWjjaM2cj9f3jYwj5YGvNnE7ZQtGsaD/gJHseIyUAro/kWSNKaTRJ0FSXX28L066HsoWtz4EZUvqUNXeCrKULfhQ3bTs2MFr7zupfC2oT39Yfa/bKVtwLcgQrgMb1phZCLYZ9rlWpnDz+hFgMfQPFntWHXM++S7ki1nWx2PKFrdASdnS3jjHVycBEiABEiABEvBLwLdsQfv0jgcOb84y5yPqxmv4aAvrOvIiW/T5oN2vZyCChNGj583+AR5jumfsR37IeM5HLXFQTtfra03Z4taHoGzxG7daXlvWsgWjUHyJFtSz6rHnvZnoeNBot2zB+SC46Twr8aDo8lyb6fg1+npO2eIWKClbWh7a+IIkQAIkQAIkQAIZEshCtqCdinQBWaQhQJ2oGyNofLWHUU/eZIuPa6NscWvn+2Berw7KlgyDWCuqzlq24I2zcPUb66+974RKu6Ceem9EH9vzIFv0dWAkCywzhgNCnNiIFkiaPTdctw02W9eT1ZqyxS0IU7a0IprxNUiABEiABEiABFpFICvZUvmh1n8aAqQ1QIoD323jPMgW9BMgSHxdG0a7oM4sUhFwZItbH4KypVURLaPXaYVswQcfI1IQPJMuvi10rWCUJ9lS6/wQRGstWdwmVOv1zW2ULW6BkrIlowDGakmABEiABEiABNpCICvZgvbmTcveP+g75yPqNNuyvh63U7bgGswR8Zhoo1nqgUbXjemjX/vEH53UP/L6FDj6dSlb3PoQlC1tCW/+XrRVskV/wPK8zrtsyRM7yha3QEnZ4i9msSYSIAESIAESIIH2E8hStuBHWp9pCFDX0kd2Ls6iLd1u2YIfXeOJcXXeR8w2hNyPtX6Y1bMS6ZyPemINiBbkc4F4yYIXZYtbH4Kypf2xLtUZULZU3/CULVUWzYIrZYs9K7CkbEkVpngwCZAACZAACZBAzghkKVvQdrp95fA2X8IFdTVr2ybd327Zos8bo1DMUS56dIrLGpIFtxClGR2jz6femrLFrQ9B2ZKzwOd6OpQt1Tc8ZUuVRb0AqbdTttizAjPKFtfIxPIkQAIkQAIkQAJ5JpC1bEH76faVb29Lm/Px1v4ju7JMR5AX2aLb6BAlGJUCaVJvJiItYPSMRJgRtRU5H3GOlC1ufQjKljxHQYtzo2ypvuEpW6osdMCut6ZssWcFhpQtFsGIRUiABEiABEiABDqGQCtki26HJs35qI/Pcp032VLvWiFhssjBUu/16m2nbHHrQ1C2dExIrH2ilC3VNzxlS5VFvQCpt1O22LMCM8qW2vGHW0mABEiABEiABDqTQCtli25/5nHdKbIlL+woW9z6EJQtnRkfZ85aKXXVxYsXjx3Yv7+/15dSqXRGKfWHM3BqPFBKLT537tzLvc7q7cOHf1wul8/WQDRrU7FYfOn4Bx8Evc7r5IkTW4vF4pZZs7QETwAAAtlJREFUcPiEBEiABEiABEiABDqUAGVLpdNM2eImDyhb3HhRtnRogNSnrZT6RLlc3lksFnf3+lIuFncqpf5As6m1Vkrd0euc9PXjS7YWI3NbqVRarcv3+rpUKi012fAxCZAACZAACZAACXQqAcoWypYko2UoWyhbOjXm8bxJgARIgARIgARIgARIgARIIHMClC2ULZQtbuIkCS+ObMk8lPEFSIAESIAESIAESIAESIAESCA/BChbKFuSyAOObHETNJQt+Yl5PBMSIAESIAESIAESIAESIAESyJwActGdOHFiS6/n5UNuwnK5vKsZcKXUKHIe9jqv0dHRl5EDsxEv5NAslUqne50Vrh+5VZFjtREv7iMBEiABEiABEiABEiABEiABEugSAshF1+v5+PT1l0qlVc3+rOVy+SldvtfXyIHZiBdyaDKnaCWfKjggx2ojXtxHAiRAAiRAAiRAAiRAAiRAAiRAAiRAAiRAAiRAAiRAAiRAAiRAAiRAAiRAAiRAAiRAAiRAAiRAAiRAAiRAAiRAAiRAAiRAAiRAAiRAAiRAAiRAAiRAAiRAAiRAAiRAAiRAAiRAAiRAAiRAAiRAAiRAAiRAAiRAAiRAAiRAAiRAAiRAAiRAAiRAAiRAAiRAAiRAAiRAAiRAAiRAAiRAAiRAAiRAAiRAAiRAAiRAAiRAAiRAAiRAAiRAAiRAAiRAAiRAAiRAAiRAAiRAAiRAAiRAAiRAAiRAAiRAAiRAAiRAAiRAAiRAAiRAAiRAAiRAAiRAAiRAAiRAAiRAAiRAAiRAAiRAAiRAAiRAAiRAAiRAAiRAAiRAAiRAAiRAAiRAAiRAAiRAAiRAAiRAAiRAAiRAAiRAAiRAAiRAAiRAAiRAAiRAAiRAAiRAAiRAAiRAAiRAAiRAAiRAAiRAAiRAAiRAAiRAAiRAAiRAAiRAAiRAAiRAAiRAAiRAAiRAAiRAAiRAAiRAAg0I/DvwJKu/BmKgVAAAAABJRU5ErkJggg==)"
      ]
    },
    {
      "cell_type": "markdown",
      "metadata": {
        "id": "bIzpalZyAxgb"
      },
      "source": [
        "Для чтения данных из форматов csv или таблицы, сохраненной в виде файла XLS можно использовать две основные функции:\n",
        "\n",
        "*   pd.read_csv\n",
        "*   pd.read_excel\n",
        "\n",
        "Аргументы read_csv (только основные)\n",
        "\n",
        "*  filepath_or_buffer - путь к файлу\n",
        "*  sep - разделитель, по умолчанию \",\"\n",
        "*  header - где брать названия колонок \n",
        "*  encoding - используемая кодирвока (для русского языка использовать \"cp1250\")\n"
      ]
    },
    {
      "cell_type": "markdown",
      "metadata": {
        "id": "Qwp-xVDhBaUo"
      },
      "source": [
        "С чтением данных мы уже познакомились, посмотрим как сохранять данные"
      ]
    },
    {
      "cell_type": "code",
      "metadata": {
        "colab": {
          "base_uri": "https://localhost:8080/",
          "height": 142
        },
        "id": "zmsPHvHloPZ1",
        "outputId": "5c7e5da0-b47b-4fda-96a0-a7418711521a"
      },
      "source": [
        "# создадим DataFrame\n",
        "tabel_a = pd.DataFrame({'математика' : [5, 2, 3], \n",
        "                        'физика' : [5, 4, 2], \n",
        "                        'литература' : [4, 5, 4]}, index = index)\n",
        "tabel_a"
      ],
      "execution_count": null,
      "outputs": [
        {
          "output_type": "execute_result",
          "data": {
            "text/html": [
              "<div>\n",
              "<style scoped>\n",
              "    .dataframe tbody tr th:only-of-type {\n",
              "        vertical-align: middle;\n",
              "    }\n",
              "\n",
              "    .dataframe tbody tr th {\n",
              "        vertical-align: top;\n",
              "    }\n",
              "\n",
              "    .dataframe thead th {\n",
              "        text-align: right;\n",
              "    }\n",
              "</style>\n",
              "<table border=\"1\" class=\"dataframe\">\n",
              "  <thead>\n",
              "    <tr style=\"text-align: right;\">\n",
              "      <th></th>\n",
              "      <th>математика</th>\n",
              "      <th>физика</th>\n",
              "      <th>литература</th>\n",
              "    </tr>\n",
              "  </thead>\n",
              "  <tbody>\n",
              "    <tr>\n",
              "      <th>Иванов</th>\n",
              "      <td>5</td>\n",
              "      <td>5</td>\n",
              "      <td>4</td>\n",
              "    </tr>\n",
              "    <tr>\n",
              "      <th>Петров</th>\n",
              "      <td>2</td>\n",
              "      <td>4</td>\n",
              "      <td>5</td>\n",
              "    </tr>\n",
              "    <tr>\n",
              "      <th>Сидоров</th>\n",
              "      <td>3</td>\n",
              "      <td>2</td>\n",
              "      <td>4</td>\n",
              "    </tr>\n",
              "  </tbody>\n",
              "</table>\n",
              "</div>"
            ],
            "text/plain": [
              "         математика  физика  литература\n",
              "Иванов            5       5           4\n",
              "Петров            2       4           5\n",
              "Сидоров           3       2           4"
            ]
          },
          "metadata": {
            "tags": []
          },
          "execution_count": 78
        }
      ]
    },
    {
      "cell_type": "code",
      "metadata": {
        "id": "TzvZaSvW1D4B"
      },
      "source": [
        "# сохраним его в csv файл\n",
        "tabel_a.to_csv('tabel.csv', sep=',', header=True, index=True)"
      ],
      "execution_count": null,
      "outputs": []
    },
    {
      "cell_type": "markdown",
      "metadata": {
        "id": "lxR6GrUs3TVY"
      },
      "source": [
        ",математика,физика,литература\n",
        "\n",
        "Иванов,5,5,4\n",
        "\n",
        "Петров,2,4,5\n",
        "\n",
        "Сидоров,3,2,4\n"
      ]
    },
    {
      "cell_type": "code",
      "metadata": {
        "id": "RIXkt1B13GiZ"
      },
      "source": [
        "# сохраним DataFrame в файл Excel\n",
        "\n",
        "tabel_a.to_excel('tabel.xls')"
      ],
      "execution_count": null,
      "outputs": []
    },
    {
      "cell_type": "markdown",
      "metadata": {
        "id": "WcFXTUc03xja"
      },
      "source": [
        "![2021-03-08_15-05-27.png](data:image/png;base64,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)"
      ]
    },
    {
      "cell_type": "markdown",
      "metadata": {
        "id": "Z6kBu-HR4agI"
      },
      "source": [
        "## Знакомство с данными"
      ]
    },
    {
      "cell_type": "markdown",
      "metadata": {
        "id": "tlMyehI04dqm"
      },
      "source": [
        "Для знакомства с данными можно использовать следующие функции и методы:\n",
        "\n",
        "Для DataFrame:\n",
        "* df.head(n) - вывести n первых строк DataFrame, по умолчанию n=5 \n",
        "* df.tail(n) - вывести n последних строк DataFrame, по умолчанию n=5 \n",
        "* df.shape  - возвращает кортеж, содержащий количество строк и столбцов\n",
        "* df.info - вывести информацию о DataFrame - колонки, количество значений, тип \n",
        "* df.columns - вернет индекс по колонкам\n",
        "* df.index - вернет индекс по строкам\n",
        "* df.describe() - вывод описательных статистик для каждого столбца содержащего числовые данные (количество, среднее, минимальное и максимальное, медиана, квантили) \n",
        "\n",
        "Для Series:\n",
        "*   s.unique() - список уникальных значений\n",
        "*   s.value_counts() - вернет информацию о количестве повторов для каждого уникального значения\n",
        "*  s.max(), s.min(), s.mean(), s.sum() - вернут соответственно максимальный элемент, минимальный элемент, среднее по всем элементам и сумму всех элементов\n",
        "* s.describe() - вывод описательных статистик\n",
        "\n",
        "\n",
        "\n",
        "\n",
        "\n"
      ]
    },
    {
      "cell_type": "code",
      "metadata": {
        "colab": {
          "base_uri": "https://localhost:8080/",
          "height": 297
        },
        "id": "r4bkCJ5g_W2h",
        "outputId": "edd9a384-df72-40d5-f4a4-7bbdbda16c38"
      },
      "source": [
        "# создадим DataFrame\n",
        "\n",
        "index = ['Иванов', 'Петров', 'Сидоров', 'Кузнецов', 'Попов', 'Васильев', 'Кондратьев', 'Соколов']\n",
        "df = pd.DataFrame({'математика' : [5, 2, 3, 5, 4, 5, 4, 5],\n",
        "                    'физика' :    [5, 4, 2, 3, 3, 4, 4, 2], \n",
        "                    'литература' :[4, 5, 4, 3, 5, 5, 4, 5],\n",
        "                   'физкультура' :[5, 3, 2, 3, 4, 5, 5, 3],\n",
        "                   'информатика' :[5, 5, 4, 5, 5, 5, 2, 5], \n",
        "                   },  index = index)\n",
        "df # посмотрим на него"
      ],
      "execution_count": null,
      "outputs": [
        {
          "output_type": "execute_result",
          "data": {
            "text/html": [
              "<div>\n",
              "<style scoped>\n",
              "    .dataframe tbody tr th:only-of-type {\n",
              "        vertical-align: middle;\n",
              "    }\n",
              "\n",
              "    .dataframe tbody tr th {\n",
              "        vertical-align: top;\n",
              "    }\n",
              "\n",
              "    .dataframe thead th {\n",
              "        text-align: right;\n",
              "    }\n",
              "</style>\n",
              "<table border=\"1\" class=\"dataframe\">\n",
              "  <thead>\n",
              "    <tr style=\"text-align: right;\">\n",
              "      <th></th>\n",
              "      <th>математика</th>\n",
              "      <th>физика</th>\n",
              "      <th>литература</th>\n",
              "      <th>физкультура</th>\n",
              "      <th>информатика</th>\n",
              "    </tr>\n",
              "  </thead>\n",
              "  <tbody>\n",
              "    <tr>\n",
              "      <th>Иванов</th>\n",
              "      <td>5</td>\n",
              "      <td>5</td>\n",
              "      <td>4</td>\n",
              "      <td>5</td>\n",
              "      <td>5</td>\n",
              "    </tr>\n",
              "    <tr>\n",
              "      <th>Петров</th>\n",
              "      <td>2</td>\n",
              "      <td>4</td>\n",
              "      <td>5</td>\n",
              "      <td>3</td>\n",
              "      <td>5</td>\n",
              "    </tr>\n",
              "    <tr>\n",
              "      <th>Сидоров</th>\n",
              "      <td>3</td>\n",
              "      <td>2</td>\n",
              "      <td>4</td>\n",
              "      <td>2</td>\n",
              "      <td>4</td>\n",
              "    </tr>\n",
              "    <tr>\n",
              "      <th>Кузнецов</th>\n",
              "      <td>5</td>\n",
              "      <td>3</td>\n",
              "      <td>3</td>\n",
              "      <td>3</td>\n",
              "      <td>5</td>\n",
              "    </tr>\n",
              "    <tr>\n",
              "      <th>Попов</th>\n",
              "      <td>4</td>\n",
              "      <td>3</td>\n",
              "      <td>5</td>\n",
              "      <td>4</td>\n",
              "      <td>5</td>\n",
              "    </tr>\n",
              "    <tr>\n",
              "      <th>Васильев</th>\n",
              "      <td>5</td>\n",
              "      <td>4</td>\n",
              "      <td>5</td>\n",
              "      <td>5</td>\n",
              "      <td>5</td>\n",
              "    </tr>\n",
              "    <tr>\n",
              "      <th>Кондратьев</th>\n",
              "      <td>4</td>\n",
              "      <td>4</td>\n",
              "      <td>4</td>\n",
              "      <td>5</td>\n",
              "      <td>2</td>\n",
              "    </tr>\n",
              "    <tr>\n",
              "      <th>Соколов</th>\n",
              "      <td>5</td>\n",
              "      <td>2</td>\n",
              "      <td>5</td>\n",
              "      <td>3</td>\n",
              "      <td>5</td>\n",
              "    </tr>\n",
              "  </tbody>\n",
              "</table>\n",
              "</div>"
            ],
            "text/plain": [
              "            математика  физика  литература  физкультура  информатика\n",
              "Иванов               5       5           4            5            5\n",
              "Петров               2       4           5            3            5\n",
              "Сидоров              3       2           4            2            4\n",
              "Кузнецов             5       3           3            3            5\n",
              "Попов                4       3           5            4            5\n",
              "Васильев             5       4           5            5            5\n",
              "Кондратьев           4       4           4            5            2\n",
              "Соколов              5       2           5            3            5"
            ]
          },
          "metadata": {
            "tags": []
          },
          "execution_count": 81
        }
      ]
    },
    {
      "cell_type": "code",
      "metadata": {
        "colab": {
          "base_uri": "https://localhost:8080/",
          "height": 142
        },
        "id": "wb65OOYM3ehv",
        "outputId": "403e6945-51c8-4d76-86b2-f5de3ec7e47e"
      },
      "source": [
        "df.head(3) # выведем три первых значения"
      ],
      "execution_count": null,
      "outputs": [
        {
          "output_type": "execute_result",
          "data": {
            "text/html": [
              "<div>\n",
              "<style scoped>\n",
              "    .dataframe tbody tr th:only-of-type {\n",
              "        vertical-align: middle;\n",
              "    }\n",
              "\n",
              "    .dataframe tbody tr th {\n",
              "        vertical-align: top;\n",
              "    }\n",
              "\n",
              "    .dataframe thead th {\n",
              "        text-align: right;\n",
              "    }\n",
              "</style>\n",
              "<table border=\"1\" class=\"dataframe\">\n",
              "  <thead>\n",
              "    <tr style=\"text-align: right;\">\n",
              "      <th></th>\n",
              "      <th>математика</th>\n",
              "      <th>физика</th>\n",
              "      <th>литература</th>\n",
              "      <th>физкультура</th>\n",
              "      <th>информатика</th>\n",
              "    </tr>\n",
              "  </thead>\n",
              "  <tbody>\n",
              "    <tr>\n",
              "      <th>Иванов</th>\n",
              "      <td>5</td>\n",
              "      <td>5</td>\n",
              "      <td>4</td>\n",
              "      <td>5</td>\n",
              "      <td>5</td>\n",
              "    </tr>\n",
              "    <tr>\n",
              "      <th>Петров</th>\n",
              "      <td>2</td>\n",
              "      <td>4</td>\n",
              "      <td>5</td>\n",
              "      <td>3</td>\n",
              "      <td>5</td>\n",
              "    </tr>\n",
              "    <tr>\n",
              "      <th>Сидоров</th>\n",
              "      <td>3</td>\n",
              "      <td>2</td>\n",
              "      <td>4</td>\n",
              "      <td>2</td>\n",
              "      <td>4</td>\n",
              "    </tr>\n",
              "  </tbody>\n",
              "</table>\n",
              "</div>"
            ],
            "text/plain": [
              "         математика  физика  литература  физкультура  информатика\n",
              "Иванов            5       5           4            5            5\n",
              "Петров            2       4           5            3            5\n",
              "Сидоров           3       2           4            2            4"
            ]
          },
          "metadata": {
            "tags": []
          },
          "execution_count": 82
        }
      ]
    },
    {
      "cell_type": "code",
      "metadata": {
        "colab": {
          "base_uri": "https://localhost:8080/"
        },
        "id": "vyCQ3v4m6MEK",
        "outputId": "0613ba93-a6a2-4d14-9728-71e0410e9329"
      },
      "source": [
        "df.shape # посмотрим на форму данных (количество строк и столбцов)"
      ],
      "execution_count": null,
      "outputs": [
        {
          "output_type": "execute_result",
          "data": {
            "text/plain": [
              "(8, 5)"
            ]
          },
          "metadata": {
            "tags": []
          },
          "execution_count": 83
        }
      ]
    },
    {
      "cell_type": "code",
      "metadata": {
        "colab": {
          "base_uri": "https://localhost:8080/"
        },
        "id": "L3Ng4lsW7s6S",
        "outputId": "b1842e73-ea7e-4eeb-8c40-e4ec14e922c5"
      },
      "source": [
        "df.info() # выведем инфомрацию о количестве колонок, типе данных, количестве значений"
      ],
      "execution_count": null,
      "outputs": [
        {
          "output_type": "stream",
          "text": [
            "<class 'pandas.core.frame.DataFrame'>\n",
            "Index: 8 entries, Иванов to Соколов\n",
            "Data columns (total 5 columns):\n",
            " #   Column       Non-Null Count  Dtype\n",
            "---  ------       --------------  -----\n",
            " 0   математика   8 non-null      int64\n",
            " 1   физика       8 non-null      int64\n",
            " 2   литература   8 non-null      int64\n",
            " 3   физкультура  8 non-null      int64\n",
            " 4   информатика  8 non-null      int64\n",
            "dtypes: int64(5)\n",
            "memory usage: 384.0+ bytes\n"
          ],
          "name": "stdout"
        }
      ]
    },
    {
      "cell_type": "code",
      "metadata": {
        "colab": {
          "base_uri": "https://localhost:8080/"
        },
        "id": "fKZtrsCo7v5R",
        "outputId": "ac36089e-bf51-4e91-86d2-48ad8a522f04"
      },
      "source": [
        "df.columns # посмотрим на названия колонок"
      ],
      "execution_count": null,
      "outputs": [
        {
          "output_type": "execute_result",
          "data": {
            "text/plain": [
              "Index(['математика', 'физика', 'литература', 'физкультура', 'информатика'], dtype='object')"
            ]
          },
          "metadata": {
            "tags": []
          },
          "execution_count": 85
        }
      ]
    },
    {
      "cell_type": "code",
      "metadata": {
        "colab": {
          "base_uri": "https://localhost:8080/"
        },
        "id": "4HP1d6xYA8xh",
        "outputId": "9bcd83ac-e2f8-4735-9421-054aa8116d44"
      },
      "source": [
        "df.index # посмотрим на индексы строк"
      ],
      "execution_count": null,
      "outputs": [
        {
          "output_type": "execute_result",
          "data": {
            "text/plain": [
              "Index(['Иванов', 'Петров', 'Сидоров', 'Кузнецов', 'Попов', 'Васильев',\n",
              "       'Кондратьев', 'Соколов'],\n",
              "      dtype='object')"
            ]
          },
          "metadata": {
            "tags": []
          },
          "execution_count": 86
        }
      ]
    },
    {
      "cell_type": "code",
      "metadata": {
        "colab": {
          "base_uri": "https://localhost:8080/",
          "height": 297
        },
        "id": "_ogKeIJoA_bY",
        "outputId": "0d8ace1e-8236-4c62-bb6c-977d14c7a0ff"
      },
      "source": [
        "df.describe() # выведем описательную статистику методом describe"
      ],
      "execution_count": null,
      "outputs": [
        {
          "output_type": "execute_result",
          "data": {
            "text/html": [
              "<div>\n",
              "<style scoped>\n",
              "    .dataframe tbody tr th:only-of-type {\n",
              "        vertical-align: middle;\n",
              "    }\n",
              "\n",
              "    .dataframe tbody tr th {\n",
              "        vertical-align: top;\n",
              "    }\n",
              "\n",
              "    .dataframe thead th {\n",
              "        text-align: right;\n",
              "    }\n",
              "</style>\n",
              "<table border=\"1\" class=\"dataframe\">\n",
              "  <thead>\n",
              "    <tr style=\"text-align: right;\">\n",
              "      <th></th>\n",
              "      <th>математика</th>\n",
              "      <th>физика</th>\n",
              "      <th>литература</th>\n",
              "      <th>физкультура</th>\n",
              "      <th>информатика</th>\n",
              "    </tr>\n",
              "  </thead>\n",
              "  <tbody>\n",
              "    <tr>\n",
              "      <th>count</th>\n",
              "      <td>8.000000</td>\n",
              "      <td>8.00000</td>\n",
              "      <td>8.000000</td>\n",
              "      <td>8.000000</td>\n",
              "      <td>8.000000</td>\n",
              "    </tr>\n",
              "    <tr>\n",
              "      <th>mean</th>\n",
              "      <td>4.125000</td>\n",
              "      <td>3.37500</td>\n",
              "      <td>4.375000</td>\n",
              "      <td>3.750000</td>\n",
              "      <td>4.500000</td>\n",
              "    </tr>\n",
              "    <tr>\n",
              "      <th>std</th>\n",
              "      <td>1.125992</td>\n",
              "      <td>1.06066</td>\n",
              "      <td>0.744024</td>\n",
              "      <td>1.164965</td>\n",
              "      <td>1.069045</td>\n",
              "    </tr>\n",
              "    <tr>\n",
              "      <th>min</th>\n",
              "      <td>2.000000</td>\n",
              "      <td>2.00000</td>\n",
              "      <td>3.000000</td>\n",
              "      <td>2.000000</td>\n",
              "      <td>2.000000</td>\n",
              "    </tr>\n",
              "    <tr>\n",
              "      <th>25%</th>\n",
              "      <td>3.750000</td>\n",
              "      <td>2.75000</td>\n",
              "      <td>4.000000</td>\n",
              "      <td>3.000000</td>\n",
              "      <td>4.750000</td>\n",
              "    </tr>\n",
              "    <tr>\n",
              "      <th>50%</th>\n",
              "      <td>4.500000</td>\n",
              "      <td>3.50000</td>\n",
              "      <td>4.500000</td>\n",
              "      <td>3.500000</td>\n",
              "      <td>5.000000</td>\n",
              "    </tr>\n",
              "    <tr>\n",
              "      <th>75%</th>\n",
              "      <td>5.000000</td>\n",
              "      <td>4.00000</td>\n",
              "      <td>5.000000</td>\n",
              "      <td>5.000000</td>\n",
              "      <td>5.000000</td>\n",
              "    </tr>\n",
              "    <tr>\n",
              "      <th>max</th>\n",
              "      <td>5.000000</td>\n",
              "      <td>5.00000</td>\n",
              "      <td>5.000000</td>\n",
              "      <td>5.000000</td>\n",
              "      <td>5.000000</td>\n",
              "    </tr>\n",
              "  </tbody>\n",
              "</table>\n",
              "</div>"
            ],
            "text/plain": [
              "       математика   физика  литература  физкультура  информатика\n",
              "count    8.000000  8.00000    8.000000     8.000000     8.000000\n",
              "mean     4.125000  3.37500    4.375000     3.750000     4.500000\n",
              "std      1.125992  1.06066    0.744024     1.164965     1.069045\n",
              "min      2.000000  2.00000    3.000000     2.000000     2.000000\n",
              "25%      3.750000  2.75000    4.000000     3.000000     4.750000\n",
              "50%      4.500000  3.50000    4.500000     3.500000     5.000000\n",
              "75%      5.000000  4.00000    5.000000     5.000000     5.000000\n",
              "max      5.000000  5.00000    5.000000     5.000000     5.000000"
            ]
          },
          "metadata": {
            "tags": []
          },
          "execution_count": 87
        }
      ]
    },
    {
      "cell_type": "code",
      "metadata": {
        "colab": {
          "base_uri": "https://localhost:8080/",
          "height": 297
        },
        "id": "qDeesM38BD3H",
        "outputId": "a1383cdf-254b-4edd-dd62-94c603ebf4d2"
      },
      "source": [
        "df.T.describe() # выведем описательную статистику по транспонированному DataFrame"
      ],
      "execution_count": null,
      "outputs": [
        {
          "output_type": "execute_result",
          "data": {
            "text/html": [
              "<div>\n",
              "<style scoped>\n",
              "    .dataframe tbody tr th:only-of-type {\n",
              "        vertical-align: middle;\n",
              "    }\n",
              "\n",
              "    .dataframe tbody tr th {\n",
              "        vertical-align: top;\n",
              "    }\n",
              "\n",
              "    .dataframe thead th {\n",
              "        text-align: right;\n",
              "    }\n",
              "</style>\n",
              "<table border=\"1\" class=\"dataframe\">\n",
              "  <thead>\n",
              "    <tr style=\"text-align: right;\">\n",
              "      <th></th>\n",
              "      <th>Иванов</th>\n",
              "      <th>Петров</th>\n",
              "      <th>Сидоров</th>\n",
              "      <th>Кузнецов</th>\n",
              "      <th>Попов</th>\n",
              "      <th>Васильев</th>\n",
              "      <th>Кондратьев</th>\n",
              "      <th>Соколов</th>\n",
              "    </tr>\n",
              "  </thead>\n",
              "  <tbody>\n",
              "    <tr>\n",
              "      <th>count</th>\n",
              "      <td>5.000000</td>\n",
              "      <td>5.00000</td>\n",
              "      <td>5.0</td>\n",
              "      <td>5.000000</td>\n",
              "      <td>5.00000</td>\n",
              "      <td>5.000000</td>\n",
              "      <td>5.000000</td>\n",
              "      <td>5.000000</td>\n",
              "    </tr>\n",
              "    <tr>\n",
              "      <th>mean</th>\n",
              "      <td>4.800000</td>\n",
              "      <td>3.80000</td>\n",
              "      <td>3.0</td>\n",
              "      <td>3.800000</td>\n",
              "      <td>4.20000</td>\n",
              "      <td>4.800000</td>\n",
              "      <td>3.800000</td>\n",
              "      <td>4.000000</td>\n",
              "    </tr>\n",
              "    <tr>\n",
              "      <th>std</th>\n",
              "      <td>0.447214</td>\n",
              "      <td>1.30384</td>\n",
              "      <td>1.0</td>\n",
              "      <td>1.095445</td>\n",
              "      <td>0.83666</td>\n",
              "      <td>0.447214</td>\n",
              "      <td>1.095445</td>\n",
              "      <td>1.414214</td>\n",
              "    </tr>\n",
              "    <tr>\n",
              "      <th>min</th>\n",
              "      <td>4.000000</td>\n",
              "      <td>2.00000</td>\n",
              "      <td>2.0</td>\n",
              "      <td>3.000000</td>\n",
              "      <td>3.00000</td>\n",
              "      <td>4.000000</td>\n",
              "      <td>2.000000</td>\n",
              "      <td>2.000000</td>\n",
              "    </tr>\n",
              "    <tr>\n",
              "      <th>25%</th>\n",
              "      <td>5.000000</td>\n",
              "      <td>3.00000</td>\n",
              "      <td>2.0</td>\n",
              "      <td>3.000000</td>\n",
              "      <td>4.00000</td>\n",
              "      <td>5.000000</td>\n",
              "      <td>4.000000</td>\n",
              "      <td>3.000000</td>\n",
              "    </tr>\n",
              "    <tr>\n",
              "      <th>50%</th>\n",
              "      <td>5.000000</td>\n",
              "      <td>4.00000</td>\n",
              "      <td>3.0</td>\n",
              "      <td>3.000000</td>\n",
              "      <td>4.00000</td>\n",
              "      <td>5.000000</td>\n",
              "      <td>4.000000</td>\n",
              "      <td>5.000000</td>\n",
              "    </tr>\n",
              "    <tr>\n",
              "      <th>75%</th>\n",
              "      <td>5.000000</td>\n",
              "      <td>5.00000</td>\n",
              "      <td>4.0</td>\n",
              "      <td>5.000000</td>\n",
              "      <td>5.00000</td>\n",
              "      <td>5.000000</td>\n",
              "      <td>4.000000</td>\n",
              "      <td>5.000000</td>\n",
              "    </tr>\n",
              "    <tr>\n",
              "      <th>max</th>\n",
              "      <td>5.000000</td>\n",
              "      <td>5.00000</td>\n",
              "      <td>4.0</td>\n",
              "      <td>5.000000</td>\n",
              "      <td>5.00000</td>\n",
              "      <td>5.000000</td>\n",
              "      <td>5.000000</td>\n",
              "      <td>5.000000</td>\n",
              "    </tr>\n",
              "  </tbody>\n",
              "</table>\n",
              "</div>"
            ],
            "text/plain": [
              "         Иванов   Петров  Сидоров  ...  Васильев  Кондратьев   Соколов\n",
              "count  5.000000  5.00000      5.0  ...  5.000000    5.000000  5.000000\n",
              "mean   4.800000  3.80000      3.0  ...  4.800000    3.800000  4.000000\n",
              "std    0.447214  1.30384      1.0  ...  0.447214    1.095445  1.414214\n",
              "min    4.000000  2.00000      2.0  ...  4.000000    2.000000  2.000000\n",
              "25%    5.000000  3.00000      2.0  ...  5.000000    4.000000  3.000000\n",
              "50%    5.000000  4.00000      3.0  ...  5.000000    4.000000  5.000000\n",
              "75%    5.000000  5.00000      4.0  ...  5.000000    4.000000  5.000000\n",
              "max    5.000000  5.00000      4.0  ...  5.000000    5.000000  5.000000\n",
              "\n",
              "[8 rows x 8 columns]"
            ]
          },
          "metadata": {
            "tags": []
          },
          "execution_count": 88
        }
      ]
    },
    {
      "cell_type": "code",
      "metadata": {
        "colab": {
          "base_uri": "https://localhost:8080/"
        },
        "id": "TaL4mqFZBkf4",
        "outputId": "e512ccd7-baec-496a-f939-e5bf226c5d38"
      },
      "source": [
        "s = df['математика'] # создадим объект Series как колонку нашего DataFrame\n",
        "s"
      ],
      "execution_count": null,
      "outputs": [
        {
          "output_type": "execute_result",
          "data": {
            "text/plain": [
              "Иванов        5\n",
              "Петров        2\n",
              "Сидоров       3\n",
              "Кузнецов      5\n",
              "Попов         4\n",
              "Васильев      5\n",
              "Кондратьев    4\n",
              "Соколов       5\n",
              "Name: математика, dtype: int64"
            ]
          },
          "metadata": {
            "tags": []
          },
          "execution_count": 89
        }
      ]
    },
    {
      "cell_type": "code",
      "metadata": {
        "colab": {
          "base_uri": "https://localhost:8080/"
        },
        "id": "9rv19-ZCBnV4",
        "outputId": "f8ebf1f5-51f1-41e2-e5f8-c6faeaa7a67b"
      },
      "source": [
        "s.unique() # посмотрим на то, какие уникальные оценки у нас есть"
      ],
      "execution_count": null,
      "outputs": [
        {
          "output_type": "execute_result",
          "data": {
            "text/plain": [
              "array([5, 2, 3, 4])"
            ]
          },
          "metadata": {
            "tags": []
          },
          "execution_count": 90
        }
      ]
    },
    {
      "cell_type": "code",
      "metadata": {
        "colab": {
          "base_uri": "https://localhost:8080/"
        },
        "id": "piwZXuiNBsG2",
        "outputId": "fdd21d15-90c6-4eb6-f9d6-f31cf5674c65"
      },
      "source": [
        "s.value_counts() # и посчитаем какие оценки сколько раз встречаются"
      ],
      "execution_count": null,
      "outputs": [
        {
          "output_type": "execute_result",
          "data": {
            "text/plain": [
              "5    4\n",
              "4    2\n",
              "3    1\n",
              "2    1\n",
              "Name: математика, dtype: int64"
            ]
          },
          "metadata": {
            "tags": []
          },
          "execution_count": 91
        }
      ]
    },
    {
      "cell_type": "code",
      "metadata": {
        "colab": {
          "base_uri": "https://localhost:8080/"
        },
        "id": "S_UVxeXnBvbA",
        "outputId": "a15cfbde-f9a8-409f-c26a-4bca836faf4b"
      },
      "source": [
        "s.describe() # посмотрим на описательные статистики"
      ],
      "execution_count": null,
      "outputs": [
        {
          "output_type": "execute_result",
          "data": {
            "text/plain": [
              "count    8.000000\n",
              "mean     4.125000\n",
              "std      1.125992\n",
              "min      2.000000\n",
              "25%      3.750000\n",
              "50%      4.500000\n",
              "75%      5.000000\n",
              "max      5.000000\n",
              "Name: математика, dtype: float64"
            ]
          },
          "metadata": {
            "tags": []
          },
          "execution_count": 92
        }
      ]
    },
    {
      "cell_type": "code",
      "metadata": {
        "colab": {
          "base_uri": "https://localhost:8080/",
          "height": 282
        },
        "id": "EgfK1zDhB1IP",
        "outputId": "4107c588-7948-40d3-e751-75e6997c22ef"
      },
      "source": [
        "s.hist(bins=4)# визуализируем (построим гистограмму)"
      ],
      "execution_count": null,
      "outputs": [
        {
          "output_type": "execute_result",
          "data": {
            "text/plain": [
              "<matplotlib.axes._subplots.AxesSubplot at 0x7f92d99fbbd0>"
            ]
          },
          "metadata": {
            "tags": []
          },
          "execution_count": 93
        },
        {
          "output_type": "display_data",
          "data": {
            "image/png": "[encoded data removed]",
            "text/plain": [
              "<Figure size 432x288 with 1 Axes>"
            ]
          },
          "metadata": {
            "tags": [],
            "needs_background": "light"
          }
        }
      ]
    },
    {
      "cell_type": "markdown",
      "metadata": {
        "id": "GqP97ycGCVaU"
      },
      "source": [
        "## Работа с пропусками\n",
        "\n",
        "Работа с пропусками - это творческая задача. Какой конкретный инструмент применять в том или ином случае решает исследователь, наша цель - познакомиться  основными доступными инструментами.\n",
        "\n",
        "Для обработки пропусков возможны две основные стратегии - заполнение пропусков или удаление строк/колонок содержащих пропуски. Основные функции:\n",
        "\n",
        "\n",
        "*   df.fillna(value) -заполняет пропущенный значения значением value\n",
        "*   df.dropna(axis) \n",
        "    *   axis=0 -удаление строк\n",
        "    *   axis=1 -удаление столбцов\n",
        "\n",
        "\n",
        "\n",
        "\n"
      ]
    },
    {
      "cell_type": "code",
      "metadata": {
        "id": "J45VhAXm_Nr5"
      },
      "source": [
        "import numpy as np # импортируем numpy, он нам понадобится дальше"
      ],
      "execution_count": null,
      "outputs": []
    },
    {
      "cell_type": "code",
      "metadata": {
        "colab": {
          "base_uri": "https://localhost:8080/",
          "height": 297
        },
        "id": "-OunNSqrB8O5",
        "outputId": "7b0566ac-e7ea-4306-927e-3fb347eef353"
      },
      "source": [
        "# создадим DataFrame, но на этот раз добавим в него пропуски\n",
        "index = ['Иванов', 'Петров', 'Сидоров', 'Кузнецов', 'Попов', 'Васильев', 'Кондратьев', 'Соколов']\n",
        "\n",
        "df = pd.DataFrame({'математика' : [np.nan, 2, 3, 5, 4, 5, 4, 5],\n",
        "                    'физика' :    [5, 4, 2, 3, 3, 4, 4, 2], \n",
        "                    'литература' :[4, 5, 4, 3, 5, 5, 4, 5],\n",
        "                   'физкультура' :[np.nan, 3, 2, 3, 4, 5, 5, 3],\n",
        "                   'информатика' :[5, 5, 4, 5, 5, 5, 2, 5],\n",
        "                   'труды'       :[np.nan, np.nan, np.nan, np.nan, 5, 3, np.nan, np.nan] \n",
        "                   }, \n",
        "                        index = index)\n",
        "df # посмотрим на результат"
      ],
      "execution_count": null,
      "outputs": [
        {
          "output_type": "execute_result",
          "data": {
            "text/html": [
              "<div>\n",
              "<style scoped>\n",
              "    .dataframe tbody tr th:only-of-type {\n",
              "        vertical-align: middle;\n",
              "    }\n",
              "\n",
              "    .dataframe tbody tr th {\n",
              "        vertical-align: top;\n",
              "    }\n",
              "\n",
              "    .dataframe thead th {\n",
              "        text-align: right;\n",
              "    }\n",
              "</style>\n",
              "<table border=\"1\" class=\"dataframe\">\n",
              "  <thead>\n",
              "    <tr style=\"text-align: right;\">\n",
              "      <th></th>\n",
              "      <th>математика</th>\n",
              "      <th>физика</th>\n",
              "      <th>литература</th>\n",
              "      <th>физкультура</th>\n",
              "      <th>информатика</th>\n",
              "      <th>труды</th>\n",
              "    </tr>\n",
              "  </thead>\n",
              "  <tbody>\n",
              "    <tr>\n",
              "      <th>Иванов</th>\n",
              "      <td>NaN</td>\n",
              "      <td>5</td>\n",
              "      <td>4</td>\n",
              "      <td>NaN</td>\n",
              "      <td>5</td>\n",
              "      <td>NaN</td>\n",
              "    </tr>\n",
              "    <tr>\n",
              "      <th>Петров</th>\n",
              "      <td>2.0</td>\n",
              "      <td>4</td>\n",
              "      <td>5</td>\n",
              "      <td>3.0</td>\n",
              "      <td>5</td>\n",
              "      <td>NaN</td>\n",
              "    </tr>\n",
              "    <tr>\n",
              "      <th>Сидоров</th>\n",
              "      <td>3.0</td>\n",
              "      <td>2</td>\n",
              "      <td>4</td>\n",
              "      <td>2.0</td>\n",
              "      <td>4</td>\n",
              "      <td>NaN</td>\n",
              "    </tr>\n",
              "    <tr>\n",
              "      <th>Кузнецов</th>\n",
              "      <td>5.0</td>\n",
              "      <td>3</td>\n",
              "      <td>3</td>\n",
              "      <td>3.0</td>\n",
              "      <td>5</td>\n",
              "      <td>NaN</td>\n",
              "    </tr>\n",
              "    <tr>\n",
              "      <th>Попов</th>\n",
              "      <td>4.0</td>\n",
              "      <td>3</td>\n",
              "      <td>5</td>\n",
              "      <td>4.0</td>\n",
              "      <td>5</td>\n",
              "      <td>5.0</td>\n",
              "    </tr>\n",
              "    <tr>\n",
              "      <th>Васильев</th>\n",
              "      <td>5.0</td>\n",
              "      <td>4</td>\n",
              "      <td>5</td>\n",
              "      <td>5.0</td>\n",
              "      <td>5</td>\n",
              "      <td>3.0</td>\n",
              "    </tr>\n",
              "    <tr>\n",
              "      <th>Кондратьев</th>\n",
              "      <td>4.0</td>\n",
              "      <td>4</td>\n",
              "      <td>4</td>\n",
              "      <td>5.0</td>\n",
              "      <td>2</td>\n",
              "      <td>NaN</td>\n",
              "    </tr>\n",
              "    <tr>\n",
              "      <th>Соколов</th>\n",
              "      <td>5.0</td>\n",
              "      <td>2</td>\n",
              "      <td>5</td>\n",
              "      <td>3.0</td>\n",
              "      <td>5</td>\n",
              "      <td>NaN</td>\n",
              "    </tr>\n",
              "  </tbody>\n",
              "</table>\n",
              "</div>"
            ],
            "text/plain": [
              "            математика  физика  литература  физкультура  информатика  труды\n",
              "Иванов             NaN       5           4          NaN            5    NaN\n",
              "Петров             2.0       4           5          3.0            5    NaN\n",
              "Сидоров            3.0       2           4          2.0            4    NaN\n",
              "Кузнецов           5.0       3           3          3.0            5    NaN\n",
              "Попов              4.0       3           5          4.0            5    5.0\n",
              "Васильев           5.0       4           5          5.0            5    3.0\n",
              "Кондратьев         4.0       4           4          5.0            2    NaN\n",
              "Соколов            5.0       2           5          3.0            5    NaN"
            ]
          },
          "metadata": {
            "tags": []
          },
          "execution_count": 95
        }
      ]
    },
    {
      "cell_type": "code",
      "metadata": {
        "colab": {
          "base_uri": "https://localhost:8080/",
          "height": 297
        },
        "id": "3kNtAUOuEfkH",
        "outputId": "f918026e-993a-4244-de25-86c0f8031e86"
      },
      "source": [
        "df.fillna(2) # посмотрим что будет если заполнить все пропуски оценкой 2"
      ],
      "execution_count": null,
      "outputs": [
        {
          "output_type": "execute_result",
          "data": {
            "text/html": [
              "<div>\n",
              "<style scoped>\n",
              "    .dataframe tbody tr th:only-of-type {\n",
              "        vertical-align: middle;\n",
              "    }\n",
              "\n",
              "    .dataframe tbody tr th {\n",
              "        vertical-align: top;\n",
              "    }\n",
              "\n",
              "    .dataframe thead th {\n",
              "        text-align: right;\n",
              "    }\n",
              "</style>\n",
              "<table border=\"1\" class=\"dataframe\">\n",
              "  <thead>\n",
              "    <tr style=\"text-align: right;\">\n",
              "      <th></th>\n",
              "      <th>математика</th>\n",
              "      <th>физика</th>\n",
              "      <th>литература</th>\n",
              "      <th>физкультура</th>\n",
              "      <th>информатика</th>\n",
              "      <th>труды</th>\n",
              "    </tr>\n",
              "  </thead>\n",
              "  <tbody>\n",
              "    <tr>\n",
              "      <th>Иванов</th>\n",
              "      <td>2.0</td>\n",
              "      <td>5</td>\n",
              "      <td>4</td>\n",
              "      <td>2.0</td>\n",
              "      <td>5</td>\n",
              "      <td>2.0</td>\n",
              "    </tr>\n",
              "    <tr>\n",
              "      <th>Петров</th>\n",
              "      <td>2.0</td>\n",
              "      <td>4</td>\n",
              "      <td>5</td>\n",
              "      <td>3.0</td>\n",
              "      <td>5</td>\n",
              "      <td>2.0</td>\n",
              "    </tr>\n",
              "    <tr>\n",
              "      <th>Сидоров</th>\n",
              "      <td>3.0</td>\n",
              "      <td>2</td>\n",
              "      <td>4</td>\n",
              "      <td>2.0</td>\n",
              "      <td>4</td>\n",
              "      <td>2.0</td>\n",
              "    </tr>\n",
              "    <tr>\n",
              "      <th>Кузнецов</th>\n",
              "      <td>5.0</td>\n",
              "      <td>3</td>\n",
              "      <td>3</td>\n",
              "      <td>3.0</td>\n",
              "      <td>5</td>\n",
              "      <td>2.0</td>\n",
              "    </tr>\n",
              "    <tr>\n",
              "      <th>Попов</th>\n",
              "      <td>4.0</td>\n",
              "      <td>3</td>\n",
              "      <td>5</td>\n",
              "      <td>4.0</td>\n",
              "      <td>5</td>\n",
              "      <td>5.0</td>\n",
              "    </tr>\n",
              "    <tr>\n",
              "      <th>Васильев</th>\n",
              "      <td>5.0</td>\n",
              "      <td>4</td>\n",
              "      <td>5</td>\n",
              "      <td>5.0</td>\n",
              "      <td>5</td>\n",
              "      <td>3.0</td>\n",
              "    </tr>\n",
              "    <tr>\n",
              "      <th>Кондратьев</th>\n",
              "      <td>4.0</td>\n",
              "      <td>4</td>\n",
              "      <td>4</td>\n",
              "      <td>5.0</td>\n",
              "      <td>2</td>\n",
              "      <td>2.0</td>\n",
              "    </tr>\n",
              "    <tr>\n",
              "      <th>Соколов</th>\n",
              "      <td>5.0</td>\n",
              "      <td>2</td>\n",
              "      <td>5</td>\n",
              "      <td>3.0</td>\n",
              "      <td>5</td>\n",
              "      <td>2.0</td>\n",
              "    </tr>\n",
              "  </tbody>\n",
              "</table>\n",
              "</div>"
            ],
            "text/plain": [
              "            математика  физика  литература  физкультура  информатика  труды\n",
              "Иванов             2.0       5           4          2.0            5    2.0\n",
              "Петров             2.0       4           5          3.0            5    2.0\n",
              "Сидоров            3.0       2           4          2.0            4    2.0\n",
              "Кузнецов           5.0       3           3          3.0            5    2.0\n",
              "Попов              4.0       3           5          4.0            5    5.0\n",
              "Васильев           5.0       4           5          5.0            5    3.0\n",
              "Кондратьев         4.0       4           4          5.0            2    2.0\n",
              "Соколов            5.0       2           5          3.0            5    2.0"
            ]
          },
          "metadata": {
            "tags": []
          },
          "execution_count": 96
        }
      ]
    },
    {
      "cell_type": "code",
      "metadata": {
        "colab": {
          "base_uri": "https://localhost:8080/",
          "height": 111
        },
        "id": "hKgGZ6YcE7_J",
        "outputId": "aff9701d-e646-4245-db1f-0db24c418294"
      },
      "source": [
        "df.dropna(axis=0) # посмотрим что будет если удалить все строки, в которых есть пропуски"
      ],
      "execution_count": null,
      "outputs": [
        {
          "output_type": "execute_result",
          "data": {
            "text/html": [
              "<div>\n",
              "<style scoped>\n",
              "    .dataframe tbody tr th:only-of-type {\n",
              "        vertical-align: middle;\n",
              "    }\n",
              "\n",
              "    .dataframe tbody tr th {\n",
              "        vertical-align: top;\n",
              "    }\n",
              "\n",
              "    .dataframe thead th {\n",
              "        text-align: right;\n",
              "    }\n",
              "</style>\n",
              "<table border=\"1\" class=\"dataframe\">\n",
              "  <thead>\n",
              "    <tr style=\"text-align: right;\">\n",
              "      <th></th>\n",
              "      <th>математика</th>\n",
              "      <th>физика</th>\n",
              "      <th>литература</th>\n",
              "      <th>физкультура</th>\n",
              "      <th>информатика</th>\n",
              "      <th>труды</th>\n",
              "    </tr>\n",
              "  </thead>\n",
              "  <tbody>\n",
              "    <tr>\n",
              "      <th>Попов</th>\n",
              "      <td>4.0</td>\n",
              "      <td>3</td>\n",
              "      <td>5</td>\n",
              "      <td>4.0</td>\n",
              "      <td>5</td>\n",
              "      <td>5.0</td>\n",
              "    </tr>\n",
              "    <tr>\n",
              "      <th>Васильев</th>\n",
              "      <td>5.0</td>\n",
              "      <td>4</td>\n",
              "      <td>5</td>\n",
              "      <td>5.0</td>\n",
              "      <td>5</td>\n",
              "      <td>3.0</td>\n",
              "    </tr>\n",
              "  </tbody>\n",
              "</table>\n",
              "</div>"
            ],
            "text/plain": [
              "          математика  физика  литература  физкультура  информатика  труды\n",
              "Попов            4.0       3           5          4.0            5    5.0\n",
              "Васильев         5.0       4           5          5.0            5    3.0"
            ]
          },
          "metadata": {
            "tags": []
          },
          "execution_count": 97
        }
      ]
    },
    {
      "cell_type": "code",
      "metadata": {
        "colab": {
          "base_uri": "https://localhost:8080/",
          "height": 297
        },
        "id": "PDUZTebrFBmR",
        "outputId": "9ebcdcd0-4668-4bc6-a7f8-63e2f1f780b0"
      },
      "source": [
        "df.dropna(axis=1) # посмотрим что будет если удалить все столбцы, в которых есть пропуски"
      ],
      "execution_count": null,
      "outputs": [
        {
          "output_type": "execute_result",
          "data": {
            "text/html": [
              "<div>\n",
              "<style scoped>\n",
              "    .dataframe tbody tr th:only-of-type {\n",
              "        vertical-align: middle;\n",
              "    }\n",
              "\n",
              "    .dataframe tbody tr th {\n",
              "        vertical-align: top;\n",
              "    }\n",
              "\n",
              "    .dataframe thead th {\n",
              "        text-align: right;\n",
              "    }\n",
              "</style>\n",
              "<table border=\"1\" class=\"dataframe\">\n",
              "  <thead>\n",
              "    <tr style=\"text-align: right;\">\n",
              "      <th></th>\n",
              "      <th>физика</th>\n",
              "      <th>литература</th>\n",
              "      <th>информатика</th>\n",
              "    </tr>\n",
              "  </thead>\n",
              "  <tbody>\n",
              "    <tr>\n",
              "      <th>Иванов</th>\n",
              "      <td>5</td>\n",
              "      <td>4</td>\n",
              "      <td>5</td>\n",
              "    </tr>\n",
              "    <tr>\n",
              "      <th>Петров</th>\n",
              "      <td>4</td>\n",
              "      <td>5</td>\n",
              "      <td>5</td>\n",
              "    </tr>\n",
              "    <tr>\n",
              "      <th>Сидоров</th>\n",
              "      <td>2</td>\n",
              "      <td>4</td>\n",
              "      <td>4</td>\n",
              "    </tr>\n",
              "    <tr>\n",
              "      <th>Кузнецов</th>\n",
              "      <td>3</td>\n",
              "      <td>3</td>\n",
              "      <td>5</td>\n",
              "    </tr>\n",
              "    <tr>\n",
              "      <th>Попов</th>\n",
              "      <td>3</td>\n",
              "      <td>5</td>\n",
              "      <td>5</td>\n",
              "    </tr>\n",
              "    <tr>\n",
              "      <th>Васильев</th>\n",
              "      <td>4</td>\n",
              "      <td>5</td>\n",
              "      <td>5</td>\n",
              "    </tr>\n",
              "    <tr>\n",
              "      <th>Кондратьев</th>\n",
              "      <td>4</td>\n",
              "      <td>4</td>\n",
              "      <td>2</td>\n",
              "    </tr>\n",
              "    <tr>\n",
              "      <th>Соколов</th>\n",
              "      <td>2</td>\n",
              "      <td>5</td>\n",
              "      <td>5</td>\n",
              "    </tr>\n",
              "  </tbody>\n",
              "</table>\n",
              "</div>"
            ],
            "text/plain": [
              "            физика  литература  информатика\n",
              "Иванов           5           4            5\n",
              "Петров           4           5            5\n",
              "Сидоров          2           4            4\n",
              "Кузнецов         3           3            5\n",
              "Попов            3           5            5\n",
              "Васильев         4           5            5\n",
              "Кондратьев       4           4            2\n",
              "Соколов          2           5            5"
            ]
          },
          "metadata": {
            "tags": []
          },
          "execution_count": 98
        }
      ]
    },
    {
      "cell_type": "markdown",
      "metadata": {
        "id": "NpUNhTXDFRUb"
      },
      "source": [
        "несколько слов о том, как производятся преобразования с таблицей\n",
        "\n",
        "Eсли мы просто применяем метод, изменяющий наш DataFrame, то  получаем **копию** исходной таблицы с произведенными изменениями. **Исходная таблица не меняется**. \n",
        "\n",
        "Если мы хотим изменить исходную таблицу нужно вызвать метод, изменяющий таблицу с параметром **inplace=True**"
      ]
    },
    {
      "cell_type": "code",
      "metadata": {
        "colab": {
          "base_uri": "https://localhost:8080/",
          "height": 297
        },
        "id": "aH6_lZZeG2x4",
        "outputId": "ef0b3d22-e14c-4f3e-bacf-c8b64a431966"
      },
      "source": [
        "df.fillna(0, inplace=True) # заполним пропуски значением 0, и применим это к нашей таблице\n",
        "df # посмотрим на результат"
      ],
      "execution_count": null,
      "outputs": [
        {
          "output_type": "execute_result",
          "data": {
            "text/html": [
              "<div>\n",
              "<style scoped>\n",
              "    .dataframe tbody tr th:only-of-type {\n",
              "        vertical-align: middle;\n",
              "    }\n",
              "\n",
              "    .dataframe tbody tr th {\n",
              "        vertical-align: top;\n",
              "    }\n",
              "\n",
              "    .dataframe thead th {\n",
              "        text-align: right;\n",
              "    }\n",
              "</style>\n",
              "<table border=\"1\" class=\"dataframe\">\n",
              "  <thead>\n",
              "    <tr style=\"text-align: right;\">\n",
              "      <th></th>\n",
              "      <th>математика</th>\n",
              "      <th>физика</th>\n",
              "      <th>литература</th>\n",
              "      <th>физкультура</th>\n",
              "      <th>информатика</th>\n",
              "      <th>труды</th>\n",
              "    </tr>\n",
              "  </thead>\n",
              "  <tbody>\n",
              "    <tr>\n",
              "      <th>Иванов</th>\n",
              "      <td>0.0</td>\n",
              "      <td>5</td>\n",
              "      <td>4</td>\n",
              "      <td>0.0</td>\n",
              "      <td>5</td>\n",
              "      <td>0.0</td>\n",
              "    </tr>\n",
              "    <tr>\n",
              "      <th>Петров</th>\n",
              "      <td>2.0</td>\n",
              "      <td>4</td>\n",
              "      <td>5</td>\n",
              "      <td>3.0</td>\n",
              "      <td>5</td>\n",
              "      <td>0.0</td>\n",
              "    </tr>\n",
              "    <tr>\n",
              "      <th>Сидоров</th>\n",
              "      <td>3.0</td>\n",
              "      <td>2</td>\n",
              "      <td>4</td>\n",
              "      <td>2.0</td>\n",
              "      <td>4</td>\n",
              "      <td>0.0</td>\n",
              "    </tr>\n",
              "    <tr>\n",
              "      <th>Кузнецов</th>\n",
              "      <td>5.0</td>\n",
              "      <td>3</td>\n",
              "      <td>3</td>\n",
              "      <td>3.0</td>\n",
              "      <td>5</td>\n",
              "      <td>0.0</td>\n",
              "    </tr>\n",
              "    <tr>\n",
              "      <th>Попов</th>\n",
              "      <td>4.0</td>\n",
              "      <td>3</td>\n",
              "      <td>5</td>\n",
              "      <td>4.0</td>\n",
              "      <td>5</td>\n",
              "      <td>5.0</td>\n",
              "    </tr>\n",
              "    <tr>\n",
              "      <th>Васильев</th>\n",
              "      <td>5.0</td>\n",
              "      <td>4</td>\n",
              "      <td>5</td>\n",
              "      <td>5.0</td>\n",
              "      <td>5</td>\n",
              "      <td>3.0</td>\n",
              "    </tr>\n",
              "    <tr>\n",
              "      <th>Кондратьев</th>\n",
              "      <td>4.0</td>\n",
              "      <td>4</td>\n",
              "      <td>4</td>\n",
              "      <td>5.0</td>\n",
              "      <td>2</td>\n",
              "      <td>0.0</td>\n",
              "    </tr>\n",
              "    <tr>\n",
              "      <th>Соколов</th>\n",
              "      <td>5.0</td>\n",
              "      <td>2</td>\n",
              "      <td>5</td>\n",
              "      <td>3.0</td>\n",
              "      <td>5</td>\n",
              "      <td>0.0</td>\n",
              "    </tr>\n",
              "  </tbody>\n",
              "</table>\n",
              "</div>"
            ],
            "text/plain": [
              "            математика  физика  литература  физкультура  информатика  труды\n",
              "Иванов             0.0       5           4          0.0            5    0.0\n",
              "Петров             2.0       4           5          3.0            5    0.0\n",
              "Сидоров            3.0       2           4          2.0            4    0.0\n",
              "Кузнецов           5.0       3           3          3.0            5    0.0\n",
              "Попов              4.0       3           5          4.0            5    5.0\n",
              "Васильев           5.0       4           5          5.0            5    3.0\n",
              "Кондратьев         4.0       4           4          5.0            2    0.0\n",
              "Соколов            5.0       2           5          3.0            5    0.0"
            ]
          },
          "metadata": {
            "tags": []
          },
          "execution_count": 99
        }
      ]
    },
    {
      "cell_type": "markdown",
      "metadata": {
        "id": "5lLKyP__JNJE"
      },
      "source": [
        "## Извлечение подмножеств из DataFrame"
      ]
    },
    {
      "cell_type": "markdown",
      "metadata": {
        "id": "hDXc72UXJqde"
      },
      "source": [
        "### Извлечение нескольких колонок"
      ]
    },
    {
      "cell_type": "markdown",
      "metadata": {
        "id": "uhQTX7nUlFVQ"
      },
      "source": [
        "Выбрать несколько колонок можно следующим способом:\n",
        "\n",
        "```\n",
        "df[список колонок] # результатом будет pd.DataFrame\n",
        "```\n",
        "\n",
        "\n",
        "Обратиться к одной колонке мы можем двумя способами\n",
        "\n",
        "```\n",
        "df[имя колонки] # результатом будет pd.Series\n",
        "```\n",
        "\n",
        "```\n",
        "df[[имя колонки]] # результатом будет pd.DataFrame\n",
        "\n",
        "```\n",
        "\n",
        "\n",
        "\n"
      ]
    },
    {
      "cell_type": "markdown",
      "metadata": {
        "id": "YxM4HpZpJvQN"
      },
      "source": [
        "![image.png](data:image/png;base64,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)"
      ]
    },
    {
      "cell_type": "code",
      "metadata": {
        "colab": {
          "base_uri": "https://localhost:8080/",
          "height": 297
        },
        "id": "L-ynuaRFJoMv",
        "outputId": "a3b5e84e-8b11-4990-956b-f63a07042182"
      },
      "source": [
        "# снова создадим DataFrame\n",
        "index = ['Иванов', 'Петров', 'Сидоров', 'Кузнецов', 'Попов', 'Васильев', 'Кондарьев', 'Соколов']\n",
        "\n",
        "df = pd.DataFrame({'математика' : [5, 2, 3, 5, 4, 5, 4, 5],\n",
        "                    'физика' :    [5, 4, 2, 3, 3, 4, 4, 2], \n",
        "                    'литература' :[4, 5, 4, 3, 5, 5, 4, 5],\n",
        "                   'физкультура' :[5, 3, 2, 3, 4, 5, 5, 3],\n",
        "                   'информатика' :[5, 5, 4, 5, 5, 5, 2, 5], \n",
        "                   }, \n",
        "                        index = index)\n",
        "df"
      ],
      "execution_count": null,
      "outputs": [
        {
          "output_type": "execute_result",
          "data": {
            "text/html": [
              "<div>\n",
              "<style scoped>\n",
              "    .dataframe tbody tr th:only-of-type {\n",
              "        vertical-align: middle;\n",
              "    }\n",
              "\n",
              "    .dataframe tbody tr th {\n",
              "        vertical-align: top;\n",
              "    }\n",
              "\n",
              "    .dataframe thead th {\n",
              "        text-align: right;\n",
              "    }\n",
              "</style>\n",
              "<table border=\"1\" class=\"dataframe\">\n",
              "  <thead>\n",
              "    <tr style=\"text-align: right;\">\n",
              "      <th></th>\n",
              "      <th>математика</th>\n",
              "      <th>физика</th>\n",
              "      <th>литература</th>\n",
              "      <th>физкультура</th>\n",
              "      <th>информатика</th>\n",
              "    </tr>\n",
              "  </thead>\n",
              "  <tbody>\n",
              "    <tr>\n",
              "      <th>Иванов</th>\n",
              "      <td>5</td>\n",
              "      <td>5</td>\n",
              "      <td>4</td>\n",
              "      <td>5</td>\n",
              "      <td>5</td>\n",
              "    </tr>\n",
              "    <tr>\n",
              "      <th>Петров</th>\n",
              "      <td>2</td>\n",
              "      <td>4</td>\n",
              "      <td>5</td>\n",
              "      <td>3</td>\n",
              "      <td>5</td>\n",
              "    </tr>\n",
              "    <tr>\n",
              "      <th>Сидоров</th>\n",
              "      <td>3</td>\n",
              "      <td>2</td>\n",
              "      <td>4</td>\n",
              "      <td>2</td>\n",
              "      <td>4</td>\n",
              "    </tr>\n",
              "    <tr>\n",
              "      <th>Кузнецов</th>\n",
              "      <td>5</td>\n",
              "      <td>3</td>\n",
              "      <td>3</td>\n",
              "      <td>3</td>\n",
              "      <td>5</td>\n",
              "    </tr>\n",
              "    <tr>\n",
              "      <th>Попов</th>\n",
              "      <td>4</td>\n",
              "      <td>3</td>\n",
              "      <td>5</td>\n",
              "      <td>4</td>\n",
              "      <td>5</td>\n",
              "    </tr>\n",
              "    <tr>\n",
              "      <th>Васильев</th>\n",
              "      <td>5</td>\n",
              "      <td>4</td>\n",
              "      <td>5</td>\n",
              "      <td>5</td>\n",
              "      <td>5</td>\n",
              "    </tr>\n",
              "    <tr>\n",
              "      <th>Кондарьев</th>\n",
              "      <td>4</td>\n",
              "      <td>4</td>\n",
              "      <td>4</td>\n",
              "      <td>5</td>\n",
              "      <td>2</td>\n",
              "    </tr>\n",
              "    <tr>\n",
              "      <th>Соколов</th>\n",
              "      <td>5</td>\n",
              "      <td>2</td>\n",
              "      <td>5</td>\n",
              "      <td>3</td>\n",
              "      <td>5</td>\n",
              "    </tr>\n",
              "  </tbody>\n",
              "</table>\n",
              "</div>"
            ],
            "text/plain": [
              "           математика  физика  литература  физкультура  информатика\n",
              "Иванов              5       5           4            5            5\n",
              "Петров              2       4           5            3            5\n",
              "Сидоров             3       2           4            2            4\n",
              "Кузнецов            5       3           3            3            5\n",
              "Попов               4       3           5            4            5\n",
              "Васильев            5       4           5            5            5\n",
              "Кондарьев           4       4           4            5            2\n",
              "Соколов             5       2           5            3            5"
            ]
          },
          "metadata": {
            "tags": []
          },
          "execution_count": 100
        }
      ]
    },
    {
      "cell_type": "code",
      "metadata": {
        "colab": {
          "base_uri": "https://localhost:8080/",
          "height": 297
        },
        "id": "E-IfhXDvBIY6",
        "outputId": "6159a5cd-95d4-4e33-fc06-e8b13834c930"
      },
      "source": [
        "df1 = df[['математика', 'физика']] # извлечем две колонки из исходного\n",
        "df1 "
      ],
      "execution_count": null,
      "outputs": [
        {
          "output_type": "execute_result",
          "data": {
            "text/html": [
              "<div>\n",
              "<style scoped>\n",
              "    .dataframe tbody tr th:only-of-type {\n",
              "        vertical-align: middle;\n",
              "    }\n",
              "\n",
              "    .dataframe tbody tr th {\n",
              "        vertical-align: top;\n",
              "    }\n",
              "\n",
              "    .dataframe thead th {\n",
              "        text-align: right;\n",
              "    }\n",
              "</style>\n",
              "<table border=\"1\" class=\"dataframe\">\n",
              "  <thead>\n",
              "    <tr style=\"text-align: right;\">\n",
              "      <th></th>\n",
              "      <th>математика</th>\n",
              "      <th>физика</th>\n",
              "    </tr>\n",
              "  </thead>\n",
              "  <tbody>\n",
              "    <tr>\n",
              "      <th>Иванов</th>\n",
              "      <td>5</td>\n",
              "      <td>5</td>\n",
              "    </tr>\n",
              "    <tr>\n",
              "      <th>Петров</th>\n",
              "      <td>2</td>\n",
              "      <td>4</td>\n",
              "    </tr>\n",
              "    <tr>\n",
              "      <th>Сидоров</th>\n",
              "      <td>3</td>\n",
              "      <td>2</td>\n",
              "    </tr>\n",
              "    <tr>\n",
              "      <th>Кузнецов</th>\n",
              "      <td>5</td>\n",
              "      <td>3</td>\n",
              "    </tr>\n",
              "    <tr>\n",
              "      <th>Попов</th>\n",
              "      <td>4</td>\n",
              "      <td>3</td>\n",
              "    </tr>\n",
              "    <tr>\n",
              "      <th>Васильев</th>\n",
              "      <td>5</td>\n",
              "      <td>4</td>\n",
              "    </tr>\n",
              "    <tr>\n",
              "      <th>Кондарьев</th>\n",
              "      <td>4</td>\n",
              "      <td>4</td>\n",
              "    </tr>\n",
              "    <tr>\n",
              "      <th>Соколов</th>\n",
              "      <td>5</td>\n",
              "      <td>2</td>\n",
              "    </tr>\n",
              "  </tbody>\n",
              "</table>\n",
              "</div>"
            ],
            "text/plain": [
              "           математика  физика\n",
              "Иванов              5       5\n",
              "Петров              2       4\n",
              "Сидоров             3       2\n",
              "Кузнецов            5       3\n",
              "Попов               4       3\n",
              "Васильев            5       4\n",
              "Кондарьев           4       4\n",
              "Соколов             5       2"
            ]
          },
          "metadata": {
            "tags": []
          },
          "execution_count": 101
        }
      ]
    },
    {
      "cell_type": "code",
      "metadata": {
        "colab": {
          "base_uri": "https://localhost:8080/",
          "height": 297
        },
        "id": "t4Y2N9PABd2I",
        "outputId": "e42931ed-581a-4025-df00-087902390e41"
      },
      "source": [
        "df2 = df[['математика']] # извлечем одну колонку\n",
        "df2"
      ],
      "execution_count": null,
      "outputs": [
        {
          "output_type": "execute_result",
          "data": {
            "text/html": [
              "<div>\n",
              "<style scoped>\n",
              "    .dataframe tbody tr th:only-of-type {\n",
              "        vertical-align: middle;\n",
              "    }\n",
              "\n",
              "    .dataframe tbody tr th {\n",
              "        vertical-align: top;\n",
              "    }\n",
              "\n",
              "    .dataframe thead th {\n",
              "        text-align: right;\n",
              "    }\n",
              "</style>\n",
              "<table border=\"1\" class=\"dataframe\">\n",
              "  <thead>\n",
              "    <tr style=\"text-align: right;\">\n",
              "      <th></th>\n",
              "      <th>математика</th>\n",
              "    </tr>\n",
              "  </thead>\n",
              "  <tbody>\n",
              "    <tr>\n",
              "      <th>Иванов</th>\n",
              "      <td>5</td>\n",
              "    </tr>\n",
              "    <tr>\n",
              "      <th>Петров</th>\n",
              "      <td>2</td>\n",
              "    </tr>\n",
              "    <tr>\n",
              "      <th>Сидоров</th>\n",
              "      <td>3</td>\n",
              "    </tr>\n",
              "    <tr>\n",
              "      <th>Кузнецов</th>\n",
              "      <td>5</td>\n",
              "    </tr>\n",
              "    <tr>\n",
              "      <th>Попов</th>\n",
              "      <td>4</td>\n",
              "    </tr>\n",
              "    <tr>\n",
              "      <th>Васильев</th>\n",
              "      <td>5</td>\n",
              "    </tr>\n",
              "    <tr>\n",
              "      <th>Кондарьев</th>\n",
              "      <td>4</td>\n",
              "    </tr>\n",
              "    <tr>\n",
              "      <th>Соколов</th>\n",
              "      <td>5</td>\n",
              "    </tr>\n",
              "  </tbody>\n",
              "</table>\n",
              "</div>"
            ],
            "text/plain": [
              "           математика\n",
              "Иванов              5\n",
              "Петров              2\n",
              "Сидоров             3\n",
              "Кузнецов            5\n",
              "Попов               4\n",
              "Васильев            5\n",
              "Кондарьев           4\n",
              "Соколов             5"
            ]
          },
          "metadata": {
            "tags": []
          },
          "execution_count": 102
        }
      ]
    },
    {
      "cell_type": "code",
      "metadata": {
        "colab": {
          "base_uri": "https://localhost:8080/"
        },
        "id": "cSr65yQrKNep",
        "outputId": "3a8aaa2c-bc4b-43e6-abbb-31c2c19beefa"
      },
      "source": [
        "df['математика'] # а так создается Series (обратите внимание на количество квадратных скобок)"
      ],
      "execution_count": null,
      "outputs": [
        {
          "output_type": "execute_result",
          "data": {
            "text/plain": [
              "Иванов       5\n",
              "Петров       2\n",
              "Сидоров      3\n",
              "Кузнецов     5\n",
              "Попов        4\n",
              "Васильев     5\n",
              "Кондарьев    4\n",
              "Соколов      5\n",
              "Name: математика, dtype: int64"
            ]
          },
          "metadata": {
            "tags": []
          },
          "execution_count": 103
        }
      ]
    },
    {
      "cell_type": "markdown",
      "metadata": {
        "id": "3v9SUbRWKmal"
      },
      "source": [
        "### Извлечение нескольких строк по маске (фильтрация)"
      ]
    },
    {
      "cell_type": "markdown",
      "metadata": {
        "id": "c7-_NxuomJsG"
      },
      "source": [
        "DataFrame поддерживает фильтрацию с помощью маски. \n"
      ]
    },
    {
      "cell_type": "markdown",
      "metadata": {
        "id": "nj8dpPefKq2i"
      },
      "source": [
        "![image.png](data:image/png;base64,iVBORw0KGgoAAAANSUhEUgAABLwAAAEHCAYAAACk6l8rAAAgAElEQVR4Ae3dzY8c95nY8fZ/kL3nsHvd0wIGfN4YORrIHvaSU3KQmEtgJ4fdk4EogY1Q0MVvWMSHBRIFMZIQtrx2dm1quRY3li1ZK9oiaIIUJZKhJL4sOaZIDd+GGvIX1LCr1SLF6XqeqamXrg+B3m7P9HRXf6amf1XffWY0m/lHgAABAgQIECBAgAABAgQIECBAgAABAgQIECBAgAABAgQIECBAgAABAgQIECBAgAABAgQIECBAgAABAgQIECBAgAABAgQIECBAgAABAgQIECBAgAABAgQIECBAgAABAgQIECBAgAABAgQIECBAgAABAgQIECBAgAABAgQIECBAgAABAgQIECBAgAABAgQIECBAgAABAgQIECBAgAABAgQIECBAgAABAgQIECBAgAABAgQIECBAgAABAgQIECBAgAABAgQIECBAgAABAgQIECBAgAABAgQIECBAgAABAgQIECBAgAABAgQIECBAgAABAgQIECBAgAABAgQIECBAgAABAgQIECBAgAABAgQIECBAgAABAgSGIFBKOVBKOeoSNniVWdis2s/e4hZ2e7OU8gtuYbfvDeE91jYQIECAAAECBAgQIECAQA8CpZTni38ZgSuZL/I1BAh0JnCuh7dUT0mAAAECBAgQIECAAAECQxAopRysTj/fefvt8vOjR11WGJw6ebI+W79c3Tj2xhvMVphV+9Wlixdrt3L//n1mDcwqt9u3bi3crl29yq2B22u/qIbhdv6dHcJ7rG0gQIAAAQIECBAgQIAAgR4E6gmv3xw7Vl46dMhlhcEbr79en0zvTHj97U9/ymyFWbVfnXv33dqtbG1tMWtgVrl9dPPmwu3iBx9wa+D2f374w9rMhFcPa4qnJECAAAECBAgQIECAwCAEBK9Y5BO8Yl51RBW8cm6CV9xN8BrE0mIjCBAgQIAAAQIECBAg0K+A4BU7oRa8Yl6CV86rdhO84n6CV79rimcnQIAAAQIECBAgQIDAIAQEr9gJteAV86rDjQmvnJvgFXcTvAaxtNgIAgQIECBAgAABAgQI9CsgeMVOqAWvmJfglfOq3QSvuJ/g1e+a4tkJECBAgAABAgQIECAwCAHBK3ZCLXjFvOpwY8Ir5yZ4xd0Er0EsLTaCAAECBAgQIECAAAEC/QoIXrETasEr5iV45bxqN8Er7id49bumeHYCBAgQIECAAAECBAgMQkDwip1QC14xrzrcmPDKuQlecTfBaxBLi40gQIAAAQIECBAgQIBAvwKCV+yEWvCKeQleOa/aTfCK+wle/a4pnp0AAQIECBAgQIAAAQKDEBC8YifUglfMqw43JrxyboJX3E3wGsTSYiMIECBAgAABAgQIECDQr4DgFTuhFrxiXoJXzqt2E7zifoJXv2uKZydAgAABAgQIECBAgMAgBASv2Am14BXzqsONCa+cm+AVdxO8BrG02AgCBAgQIECAAAECBAj0KyB4xU6oBa+Yl+CV86rdBK+4n+DV75ri2QkQIECAAAECBAgQIDAIAcErdkIteMW86nBjwivnJnjF3QSvQSwtNoIAAQIECBAgQIAAAQL9CghesRNqwSvmJXjlvGo3wSvuJ3j1u6Z4dgIECBAgQIAAAQIECAxCQPCKnVALXjGvOtyY8Mq5CV5xN8FrEEuLjSBAgAABAgQIECBAgEC/AoJX7IRa8Ip5CV45r9pN8Ir7CV79rimenQABAgQIECBAgAABAoMQELxiJ9SCV8yrDjcmvHJuglfcTfAaxNJiIwgQIECAAAECBAgQINCvgOAVO6EWvGJeglfOq3YTvOJ+gle/a4pnJ0CAAAECBAgQIECAwCAEBK/YCbXgFfOqw40Jr5yb4BV3E7wGsbTYCAIECBAgQIAAAQIECPQrIHjFTqgFr5iX4JXzqt0Er7if4NXvmuLZCRAgQIAAAQIECBAgMAgBwSt2Qi14xbzqcGPCK+cmeMXdBK9BLC02ggABAgQIECBAgAABAv0KCF6xE2rBK+YleOW8ajfBK+4nePW7pnh2AgQIECBAgAABAgQIDEJA8IqdUAteMa863JjwyrkJXnE3wWsQS4uNIECAAAECBAgQIECAQL8CglfshFrwinkJXjmv2k3wivsJXv2uKZ6dAAECBAgQIECAAAECgxAQvGIn1IJXzKsONya8cm6CV9xN8BrE0mIjCBAgQIAAAQIECBAg0K+A4BU7oRa8Yl6CV86rdhO84n6CV79rimcnQIAAAQIECBAgQIDAIAQEr9gJteAV86rDjQmvnJvgFXcTvAaxtNgIAgQIECBAgAABAgQI9CsgeMVOqAWvmJfglfOq3QSvuJ/g1e+a4tkJECBAgAABAgQIECAwCAHBK3ZCLXjFvOpwY8Ir5yZ4xd0Er0EsLTaCAAECBAgQIECAAAEC/QoIXrETasEr5iV45bxqN8Er7id49bumeHYCBAgQIECAAAECBAgMQkDwip1QC14xrzrcmPDKuQlecTfBaxBLi40gQIAAAQIECBAgQIBAvwKCV+yEWvCKeQleOa/aTfCK+wle/a4pnp0AAQIECBAgQIAAAQKDEBC8YifUglfMqw43JrxyboJX3E3wGsTSYiMIECBAgAABAgQIECDQr0Ap5WAppVy+dKmcOnnSZYXBxfffr7iqf1eq/3P2nXeYrTCr9qsPr19/pFZK2d7eZtbArHK7d+/ewq2KX35GV79HnTl9ujY71++7q2cnQIAAAQIECBAgQIAAgd4E6gmv+gzRdWOBneDV+N7uSIBA1wKCV28riycmQIAAAQIECBAgQIBAzwKllH9eSnnOJWzwLWZhs2o/+wtuYbdvllL+M7ew21d6fnv19AQIECBAgAABAgQIECBAgAABAgQIECBAgAABAgQIECBAgAABAgQIECBAgAABAgQIECBAgAABAuslUEr5UinlqEvY4IV6TyilHOAX9qv2uVe5pdze4hZ2e7OU8gtuYbfv1e9zrgkQIECAAAECBAgQIDAqgVLKv+n6ryCvyfO9XH+j/dH69HfUH61P0/lCAp0I+KP19Ru9awIECBAgQIAAAQIExiVQSnm2Om16/8KF8vOjR11WGLz161/XZ5mH6+90KeVg9cGNq1cPnzx+/AWX3Q2uXrny4zni5er6/Nmzf3ni+PEXXHY32Nzc/E298z148OA2r929ap+P79/fqN3u3Lnzdv1x10/3e/vUqW/Pzc7W73OuCRAgQIAAAQIECBAgMCqBesLrzOnT5aVDh1xWGBw9cqQ+d35iwuv9Cxde/OGhQ8+47G5w7syZ784Rdya83njtta9+/9ChZ1x2N7i+sfFKvfNtb29v8trdq/a5d+/exdpt8+bNY/XHXT/d78jhw1+em5nwGtWKbmMJECBAgAABAgQIEFgICF6xyCd47R6zmsQ+wevpoWG3CCN45dwEr7ib4LVYIt0gQIAAAQIECBAgQGCsAoKX4NUkUrV5H8ErHiCqECZ45dwEr7ib4DXWFd12EyBAgAABAgQIECCwEBC8BK82Y1aTxxK84gFC8MqZVW6CV9xO8FoskW4QIECAAAECBAgQIDBWAcFL8GoSqdq8j+AVDxCCV85M8Mq5CV5jXdFtNwECBAgQIECAAAECCwHBS/BqM2Y1eSzBKxch/Epjzs2EV9xN8FoskW4QIECAAAECBAgQIDBWAcFL8GoSqdq8j+AVDxAmvHJmJrxyboLXWFd0202AAAECBAgQIECAwEJA8BK82oxZTR5L8MpFCBNeOTcTXnE3wWuxRLpBgAABAgQIECBAgMBYBQQvwatJpGrzPoJXPECY8MqZmfDKuQleY13RbTcBAgQIECBAgAABAgsBwUvwajNmNXkswSsXIUx45dxMeMXdBK/FEukGAQIECBAgQIAAAQJjFRC8BK8mkarN+whe8QBhwitnZsIr5yZ4jXVFt90ECBAgQIAAAQIECCwEBC/Bq82Y1eSxBK9chDDhlXMz4RV3E7wWS6QbBAgQIECAAAECBAiMVUDwEryaRKo27yN4xQOECa+cmQmvnJvgNdYV3XYTIECAAAECBAgQILAQELwErzZjVpPHErxyEcKEV87NhFfcTfBaLJFuECBAgMBsNiulPOcSNvhGKeUgt7Dbd5iFzaqfz29yS7l93pv8mgsIXoJXk0jV5n0Er3iAMOGVMzPhlXMTvNZ84ffyCBAgEBAopXyu+EegO4Eb3T3VWj3T5bV6Nd29mAOBt0N3HaOA4CV4tRmzmjyW4JWLECa8cm4mvOJugtcYV3PbTIAAgf0TqM49t7e3y6mTJ10aGNy7e3dxur750UfMGpi9fepUbXazuvGPV65wa+D2/oULtdul6sb5s2e5NXD73cZG7SZ47d/SMYxHFrwEryaRqs37CF7xAGHCK2dmwivnJngNY322FQQIEBiCQD3hdf/+/fLSodhx81Tvf+PGJ0NKly9e5NZgv/nxSy/VAWIH78Tx49wauL326qu1286E1ytHjnBr4Hbm9OnaTfAawkKzn9sgeMUW7qNHjtQ/HC/X35dSyvPVB9+/cOHFNsPQuj6W4JWLECa8cm4mvOJuglf97u6aAAECBASv2LlCFfkEr7iZ4BU3q/Y1wSvnJnhNaG0TvGI/JILXoWf2GuIEr3iAMOGVMzPhlXMTvCZ0EOClEiBAYIWA4BU7VxC84l6VmeCVcxO8cm6C14o3/nX6tOAV+yERvASvKqL0cTHhlXM34RV3E7zWaZX3WggQILA3AcErdq4geMW9BK+cWeUmeOXsBK+9rQuj+mrBK/ZDIngJXn3Eruo5Ba94uKncBK+4m+A1qmXcxhIgQGBfBQSv2LmC4BX3ErxyZoJX3k3w2tdlY1gPLnjFflAEL8FL8IoHlL7MBK/c90rwGtY6bWsIECDQp4DgFTtXELziXoJXzkzwyrsJXn2uKh0/t+AV+0ERvASvvuKNCa9cvDHhFXcTvDpeiD0dAQIEBiwgeMXOFQSvuJfglTMTvPJugteAF522N03wiv2gCF6Cl+AVDyh9mZnwyn2vBK+2V1qPR4AAgfEKCF6xcwXBK+4leOXMBK+8m+A13jUpvOWCV+wHRfASvPqKNya8cvHGhFfcTfAKL6W+gAABAmsrIHjFzhUEr7iX4JUzE7zyboLX2i5ZT74wwSv2gyJ4CV6CVzyg9GVmwiv3vRK8nlwrfYQAAQJTFRC8YucKglfcS/DKmQleeTfBa0IrmuAV+0ERvASvvuKNCa9cvDHhFXcTvCZ0EOClEiBAYIWA4BU7VxC84l6CV85M8Mq7CV4r3vjX6dOCV+wHRfASvASveEDpy8yEV+57JXit0yrvtRAgQGBvAoJX7FxB8Ip7CV45M8Er7yZ47W1dGNVXC16xHxTBS/DqK96Y8MrFGxNecTfBa1TLuI0lQIDAvgoIXrFzBcEr7iV45cwEr7yb4LWvy8awHlzwiv2gCF6Cl+AVDyh9mZnwyn2vBK9hrdO2hgABAn0KCF6xcwXBK+4leOXMBK+8m+DV56rS8XMLXrEfFMFL8Oor3pjwysUbE15xN8Gr44XY0xEgQGDAAoJX7FxB8Ip7CV45M8Er7yZ4DXjRaXvTBK/YD4rgJXgJXvGA0peZCa/c90rwanul9XgECBAYr4DgFTtXELziXoJXzkzwyrsJXuNdk8JbLnjFflAEL8Grr3hjwisXb0x4xd0Er/BS6gsIECCwtgKCV+xcQfCKewleOTPBK+8meK3tkvXkCxO8Yj8ogpfgJXjFA0pfZia8ct8rwevJtdJHCBAgMFUBwSt2riB4xb0Er5yZ4JV3E7wmtKKVUg6UUsrGtWvl1MmTLisMzp87V3FV/16ud5NSysHqA5ubm8evXL78I5fdDTY3N998RFiuVNcbGxs/Y7a7WeVz796983O38vDhwy1mq80qowfb2x/VbltbW5e4rXa7evXqT+Zm5+r3OdcECBAgME0BwSt+Un3jxo360KNcvnixVGHCZXeDH7/0Um22g3fi+HFmDfab1159tXa7XN145cgRbg3cBK8JrWf1hFf9k+K6scBy8Hq+8Ve547LATvBa/oDbBAgMSkDwmtDxgJdKgACBzxIQvHYPNZ8VsgSvuJngFTcz4ZUzq9wEr896t1/Tj5VSvj6o06vxbMyJepcopfzP8Wz2oLb09qC2xsYQIPC4wEb9PueaAAECBKYpIHjFT6oFr7iZ4BU3E7xyZoLXxNYyE16Pn981/t8mvBpTPfWOJryeSuMTBAYhYMJrYscEXi4BAgQeFxC84ifVglfcTPCKmwleOTPB6/F3+TX/34vgden5Ut6YuawyOPmF+iz0yeC18eKL5VezZ1xWGFz59nfniI+C17t/+lVmK8yq/Wrz9Vfqna88uLvJrIFZ5fbxxsWF251Tx7g1cDvxh1+emwlea34M4OURIEBglYDgFT+pFrziZoJX3EzwypkJXqve9dfs84JXMPIJXnsPeoJXzlDwyrkJXnE3wWvNVnovhwABAnkBwSt+Ui14xc0Er7iZ4JUzE7zy68Eov1LwErw6n3gRvOIBwoRXzsyEV85N8Brlem6jCRAgsB8Cglf8pFrwipsJXnEzwStnJnjtx0ox4McUvAQvwavBr3hV4aTviwmv3PfAhFfcTfAa8Kpt0wgQINCtgOAVP6kWvOJmglfcTPDKmQle3a4hvT+b4CV4dR5yTHjFA4QJr5yZCa+cm+DV+9psAwgQIDAUAcErflIteMXNBK+4meCVMxO8hrK6dLQdgpfgJXgNYHqryfSYCa9cvDHhFXcTvDpagT0NAQIEhi8geMVPqgWvuJngFTcTvHJmgtfw151Wt1DwErwEL8Gr832gSeBr6z6Cl+DV6qrpwQgQIDAtAcErflIteMXNBK+4meCVMxO8prWGzQQvwavz2OFXGuMBooo/JrxyboJX3M2E18SOBLxcAgQIPF1A8IqfVAtecTPBK24meOXMBK+nv9+v5WcEL8FL8DLh1fk+0Nb0VpPHEbwEr7Vcvb0oAgQIdCMgeMVPqgWvuJngFTcTvHJmglc3a8dgnkXwErw6jx0mvOIBwoRXzqxyE7zidia8BrNG2xACBAj0LSB4xU+qBa+4meAVNxO8cmaCV9+rSsfPL3gJXoKXCa/O94Emk1lt3UfwErw6Xlc9HQECBNZJQPCKn1QLXnEzwStuJnjlzASvdVqhGrwWwUvw6jx2mPCKBwgTXjkzE145NxNeDVZPdyFAgMA0BASv+Em14BU3E7ziZoJXzkzwmsbatXiVgpfgJXiZ8Op8H2hreqvJ45jwikcvwWuxRrpBgAABArPqP3JVPv744/Lzo0ddGhjc2tysyHb+bVy7xqyB2S9ffbUmu1HdOPvuu9wauJ08caJ2u1TdeOvYMW4N3N5/773a7Vnv8WsuIHgJXp3HDhNe8QBhwitnZsIr5yZ4rfnK7+URIECguUA94VWfHbomsM8CO8Frn59jHR/+8jq+qA5e04Hm74buOUoBwUvwErxMeHW+DzSZzGrrPia84tFL8Brlem6jCRAgsF8CpZSjLmGDN0spv+QWdvsVs7BZ9fP5c24pty/t1/umxx2IgOAleHUeO0x4xQOECa+cmQmvnJvgNZAV2mYQIECAAAECBAgQIJAWELwEL8HLhFfn+0Bb01tNHseEVzx6CV7pNdUXEiBAgAABAgQIECAwEAHBS/DqPHaY8IoHCBNeOTMTXjk3wWsgK7TNIECgDYFSyldKKc+5hA3+oPZnF7ar9rdvlFIOsgvbfYdZ2Kza377JLeX2+fp9zvWaCghegpfgZcKr832gyWRWW/cx4RWPXoLXmq74XhaBaQqUUs538IeP1/EpvljtMf5o/Tp+awf9mvzR+ty3xx+tz7n5o/XrfmggeAlenccOE17xAGHCK2dmwivnJnit+9Lv9RGYlEAp5dzOedClg6V88JzLKoO7p+rTxp3gVe0sOx94uH2/fPiTH7k0MHhw+2aNWLavX2bWwOzm3/3N3OyR3db533Jr4Hb7RPVH/qt/l3b+761/+HtuDdy2Pnj3EVsRvNb9iEDwErwELxNene8DbU1vNXkcE17x6CV4rfvS7/URmJTAYsLr2O+V8kbwuG+K97/+g/l5YPn0hNfDrdtrfbzQ5Jii6X3uX3uvRiz3zvyGW4Nj7bf+4N/OzR5NeP3u+/+bWwO3i1//1tzt0YTXuQNf49bA7eYrP527CV7rfkQgeAUPfE5+oV6/Xq73jVLK8zsf3HjxRW8wDd5gTHjFA0R1gLX5+iv1zlce3N20rzXY1yo3wSu+vwle9du7awIE1kBA8Aoe6wpe8XXz8RAmeMUNBa+4WbXfCV45N8FrDVb3hi9B8AoeBAheuTeV5QMBwStnKHjl3ASvuJvg1XAFdTcCBMYgIHgFj3UFr/i6uXycW90WvOKGglfcTPDKmVVugtcYlu92tlHwCh4ECF75N5b6YEDwyhkKXjk3wSvuJni1s8B6FAIEBiEgeAWPdQWv+LpZH+PW14JX3FDwiptV+5sJr5yb4DWI9bmTjRC8ggcBglfuTaU+AKiuBa+coeCVcxO84m6CVyfrrychQKAbAcEreKwreMXXzeXj3Oq24BU3FLziZtW+Jnjl3ASvbhbgITyL4BU8CBC8cm8qywcCglfOUPDKuQlecTfBawjLs20gQKAlAcEreKwreMXXzeXjXMEr5yd45dwEr5yb4NXSCjuChxG8ggcBglfuTWX5QEDwyhkKXjk3wSvuJniNYPW2iQQINBUQvILHuoJXfN1cPs4VvHJ+glfOTfDKuQleTZfQ8d9P8AoeBAheuTeV5QMBwStnKHjl3ASvuJvgNf7F3SsgQGAhIHgFj3UFr/i6uXycK3jl/ASvnJvglXMTvBZr5NrfELyCBwGCV+5NZflAQPDKGQpeOTfBK+4meK392u8FdibwJ7PZ7C9ms9kfdfaMnugJAcEreKwreMXXzeXjXMEr5yd45dwEr5yb4PXEWrm2HxC8ggcBglfuTWX5QEDwyhkKXjk3wSvuJnit7ZrvhXUu8Mez2azMZrOt2Wx2bjabfWU2m/1+51sx8ScUvILHuoJXfN1cPs4VvHJ+glfOTfDKuQle0zkyELyCBwGCV+5NZflAQPDKGQpeOTfBK+4meE3nIMAr7ULgr2ez2Z15+NqcXx+ezWb/qosn9xyzmeAVPNYVvOLr5vJxruCV8xO8cm6CV85N8JrO4YHgFTwIELxybyrLBwKCV85Q8Mq5CV5xN8FrOgcBXmkXAtVE16156KqmvepLFb+qEPY/ZrNZNQnm3z4JCF7BY13BK75uLh/nCl45P8Er5yZ45dwEr31acQf4sIJX8CBA8Mq9qSwfCAheOUPBK+cmeMXdBK8BrtY2aeQCry6Frjp4LV/fns1m/zibzf6DX3ls/zsteAWPdQWv+Lq5fJwreOX8BK+cm+CVcxO82l9sh/qIglfwIEDwyr2pLB8ICF45Q8Er5yZ4xd0Er6Eu2bZrvAIHVwSvOn5Vf+urupye/8rjPxnvSx7OlgtewWNdwSu+bi4f5wpeOT/BK+cmeOXcBK/hLNL7vSWCV/AgQPDKvaksHwgIXjlDwSvnJnjF3QSvNpbefzr/NbXqV9VcGPy7hsGrDl/V9b351/ztbDb7F23slFN9DMEreKwreMXXzeXjXMEr5yd45dwEr5yb4DWdQ4JSyrOl+rf1XikfHXVZZXDr2A5XKaX6g7M7/0opB3c+uP3hlXLvvbddVhhs/+7SHPHyzvXW5fPMVphV+9WDWx/WO9/OtX2t2c/aw4+3Fm4P7m7a1xrsa1sfvDM3O1u/z7kOC/z7ROBYjh1uf/K3rlg8sviv4b3QF+wICF6CV3k8SO33/75/7b3Fsce9M7/p/Pn3+/Xtx+MLXrlwI3jl3ASv6RwhlFL+fPGG7EZE4LV6LymlfDfyhe67ELixuOUGAQJDFLhYv8+5DguY8DLVtTzZt5cJr5dms9mfhPdAX7AQELwEr86Dk+AVjxCCV9ysCo+CV85N8FqskWt/o5TyZ0M8yxrBNv2y3jlKKf9lBNs7xE389MTSELfQNhGYtoDgVb/RuyawN4HnGk78VX+/q/pVxjdns9m/ns1m/obX3tx3vlrwErwEr1kuCuzHJNfTHlPwyn2PBK+cm+DVwuo6koeof6Xxzu3b5drVqy4rDD68fr0+/X3iVxrv379/5c6tW2+77G6wtbX1qV9pvHv37nlmu5tVPtvb258KhMxWm1VGDx8+XPxK4/b29ia31W5379zxK40jWcNt5mgEmvxXGq/OZrMqjP3+aF7VSDZU8BK8BC/Bq/N94Glhr+2PC16C10jW4t42s/6j9WdOny4vHTrkssLg6JEjdfB6uf6mlVKerz74/oULL/7w0KFnXHY3OHfmTP0roFcqtzdee+2r3z906BmX3Q2ub2y8Uu98VbjhtbtX7XPv3r2LtdvmzZvH6o+7frrfkcOHvzw3O1e/z7kmQCAtUAWs+58x4XVnNptVl+/NZrM/Sj+6L1wpIHgJXp3HDr/SGI8QJrziZlU8E7xybia8Vq6da3MHwSsW+QSv3WNWk9gneD09NOwWYQSvnJvgFXcTvNZmifdChiHw1/OwVf3x/dvz8FX9P82qX1n0rwMBwUvwErxMeHW+D7Q9yfW0xxO8BK8O1tFRP4XgJXg1iVRt3kfwigeIKoQJXjk3wSvuJniNelm38cMSqP5wfRW6qr/N9e5sNqv+eL2/y9Xx90jwErw6jx0mvOIRwoRX3MyEV86scjPh1fFK3OPTCV6CV5sxq8ljCV7xACF45cwqN8Erbid49bgoe+p1E6j+64rf8He5+v22Cl6Cl+BlwqvzfeBpE1ltf9yEVy56CV79LsxdPrvgJXg1iVRt3kfwigcIwStnJnjl3ASvLldhz0WAwH4LCF6CV+exw4RXPEKY8IqbmfDKmZnw2u9ld1iPL3gJXm3GrCaPJXjlIoRfacy5mfCKuwlew1qnbQ0BAnsTELwEL8HLhFfn+3llY6EAABl5SURBVEDbk1xPezwTXrnoZcJrbwvrmL5a8BK8mkSqNu8jeMUDhAmvnJkJr5yb4DWmVdy2EiCwSkDwErw6jx0mvOIRwoRX3MyEV87MhNeqZXO9Pi94CV5txqwmjyV45SKECa+cmwmvuJvgtV7rvFdDYOoCgpfgJXiZ8Op8H3jaRFbbHzfhlYteJrymc2ggeAleTSJVm/cRvOIBwoRXzsyEV85N8JrOMYBXSmAKAoKX4NV57DDhFY8QJrziZia8cmYmvKaw9H/yGgUvwavNmNXksQSvXIQw4ZVzM+EVdxO8Plkj3SJAYPwCgpfgJXiZ8Op8H2h7kutpj2fCKxe9THiNf3Fv+goEL8GrSaRq8z6CVzxAmPDKmZnwyrkJXk1XUPcjQGAMAoKX4NV57DDhFY8QJrziZia8cmYmvMawdLe3jYKX4NVmzGryWIJXLkKY8Mq5mfCKuwle7a2xHokAgf4FBC/BS/Ay4dX5PvC0iay2P27CKxe9THj1vzh3tQWCl+DVJFK1eR/BKx4gTHjlzEx45dwEr65WYM9DgEAXAoKX4NV57DDhFY8QJrziZia8cmYmvLpYeofzHIKX4NVmzGryWIJXLkKY8Mq5mfCKuwlew1mjbQkBAnsXELwEL8HLhFfn+0Dbk1xPezwTXrnoZcJr74vrWB5B8BK8mkSqNu8jeMUDhAmvnJkJr5yb4DWWFdx2EiDQREDwErw6jx0mvOIRwoRX3MyEV87MhFeTpXN97iN4CV5txqwmjyV45SKECa+cmwmvuJvgtT5rvFdCgMBsVko5W6p/Z75Uyuk/dlll8NH/3eEqpfyzev/Z+cDD+3fLe3/2gksDg+0bV2vEsvXBO8wamF38T9+cm93Yub71+s+4NXD78K9+MHe7tHN97b/9d24N3O789ldzt2fr9znXayogeAleTSJVm/cRvOIBwoRXzsyEV85N8FrTBd/LIjBRgcWE1/zsxlVjgS9Wu0wp5XONv8IdCexd4FHw2vvjTO0RLk/tBbf0eg9MdGmczssWvASvNmNWk8cSvHIRwoRXzs2EV9xN8JrOMYBXSmAKAqWU/1dK+dAlbPAv6/2DXdiu2t9ul1I+Yhe2u8UsbFbtbze5pdz+Y/0+53pNBQQvwatJpGrzPoJXPECY8MqZmfDKuQlea7rge1kEJipgwis9B2HCK03nC/cgYMIrh2fCK+dmwmvdjw0EL8GrzZjV5LEEr1yEMOGVczPhFXcTvNZ95ff6CExLwN/wCv7dMn/Da+9/p8zf8Iob+htecbPqb+r5G145N3/DazoHAoKX4NUkUrV5H8ErHiBMeOXMTHjl3ASv6RwDeKUEpiCwmPA69nulvBH8LxZO8f7X67+BXT494fVw63bn/7XD6r+mNsaL/0pj/Pvmv9IYN/NfacyZ+a80TmHp/+Q1Cl6CV5sxq8ljCV65CGHCK+dmwivuJnh9ska6RYDA+AUEr2DkE7zyJ9F1nBO84oaCV9xM8MqZCV7jX9gjr0DwEryaRKo27yN4xQOECa+cmQmvnJvgFVlF3ZcAgaELCF6CV+dTYoJXPEQIXnEzwStnJngNfdlud/sEL8GrzZjV5LEEr1yEMOGVczPhFXcTvNpdZz0aAQL9CghegpfgNYJfDRW8cvHm4te/Nf9b7Y/+aP25A1/rfH+vAtLYLjdf+enczR+t73eJ3v9nF7wEryaRqs37CF7xAGHCK2dmwivnJnjt/9rrGQgQ6E5A8BK8Oj8ZN+EVDyCCV9zMhFfOzIRXdwvwEJ5J8BK82oxZTR5L8MpFCBNeOTcTXnE3wWsIq7NtIECgLQHBS/ASvEYwgSN45eKNCa+cmwmvtpbY4T+O4CV4NYlUbd5H8IoHCBNeOTMTXjk3wWv4a7ctJECguYDgJXgJXoJX5/tAV7/iJ3gJXs2Xw2neU/ASvNqMWU0eS/DKRQgTXjk3E15xN8FrmscDXjWBdRUQvASvzmOHX2mMRwgTXnEzv9KYM/Mrjeu63H/26xK8BK8mkarN+whe8QBhwitnZsIr5yZ4ffZ66aMECIxTQPASvAQvE16d7wMmvPIxqgs7v9I4zgU9s9WCl+DVZsxq8liCVy5CmPDKuZnwirsJXpnV1NcQIDBUAcFL8Oo8dpjwiscOE15xMxNeOTMTXkNdrvdnuwQvwatJpGrzPoJXPECY8MqZmfDKuQle+7PeelQCBPoRELwEL8HLhFfn+0AXU0qCl+DVz7I6rmcVvASvNmNWk8cSvHIRwoRXzs2EV9xN8BrXOm5rCRDYXUDwErw6jx0mvOIhwoRX3EzwypmZ8Np90Vy3zwpegleTSNXmfQSveIAw4ZUzM+GVcxO81m2l93oITFtA8BK8BC8TXp3vAya88jGqCzt/w2s6BwaCl+DVZsxq8liCVy5CmPDKuZnwirsJXtM5BvBKCUxBQPASvDqPHSa84rHDhFfczIRXzsyE1xSW/k9eo+AleDWJVG3eR/CKBwgTXjkzE145N8HrkzXSLQIExi8geAlegpcJr873gS6mlAQvwWv8S/T+v4JSyrOllHLn9u1y7epVlxUGH16/XnFV/w7X351SysHqA/fv379y59att112N9ja2rr0iLBcrq7v3r17ntnuZpXP9vb2h3O3nStmq80qo4cPH27Vbtvb25vcVrvdvXPnnbnZ2fp9zjUBAgTGKiB4CV6dxw4TXvEQYcIrbiZ45cxMeI11Oc9tdynlz+uTQdchgddq8VLKd0Nf6c61wI36hmsCBAYpcLF+n3NNgACBsQoIXoKX4GXCq/N9wIRXPkZ1YedveI11SY9vd/0rjYM81Rr2Rr1ca5dSnh/2pg52664MdstsGAEClcC5+n3ONQECBMYqIHgJXp3HDhNe8dhhwituZsIrZ2bCa6zLeW67619pLFvvlfLRUZdVBreO1afBT/xKY9n+8Eq5997bLisMtn/3qV9pLFuXzzNbYVbtVw9ufepXGpk1MKvcHn68+JXG8uDuJrcGblsf+JXG3JLqqwgQGKCA4CV4CV4mvDrfB7qYUhK8BK8BrrmD26TFhNel50t5I7ggTvH+J79QB68nJ7w2Xnxxbd9M23zTvvLt+ldAH014vfunX+XW4EBk8/VX6p1vJ9y0+T1Z58f6eOPiwu3OqWP2tQb72ok//PLczITX4FZtG0SAQFRA8Aoe31//Qb1sfrGyLqV8bucDD7duW0MbrKHVMZUJr3iIMOEVN6v2tYtf/9b8B3bnbyOXcwe+5ue0wc+pX2mMLqXjvb/gFTwIELxyb8bLQUXwyhkKXjk3wSvuJniNd1G35QQIPCEgeAWPdQWv+Lq5fJwreOX8BK+cm+CVcxO8nlgr1/YDglfwIEDwyr2pLB8ICF45Q8Er5yZ4xd0Er7Vd870wAlMUELyCx7qCV3zdXD7OFbxyfoJXzk3wyrkJXtM5HBC8ggcBglfuTWX5QEDwyhkKXjk3wSvuJnhN5yDAKyUwAQHBK3isK3jF183l41zBK+cneOXcBK+cm+A1gdV//hIFr+BBgOCVe1NZPhAQvHKGglfOTfCKuwle0zkI8EoJTEBA8Aoe6wpe8XVz+ThX8Mr5CV45N8Er5yZ4TWD1n79EwSt4ECB45d5Ulg8EBK+coeCVcxO84m6C13QOArxSAhMQELyCx7qCV3zdXD7OFbxyfoJXzk3wyrkJXhNY/ecvUfAKHgQIXrk3leUDAcErZyh45dwEr7ib4DWdgwCvlMAEBASv4LGu4BVfN5ePcwWvnJ/glXMTvHJugtcEVv/5SxS8ggcBglfuTWX5QEDwyhkKXjk3wSvuJnhN5yDAKyUwAQHBK3isK3jF183l41zBK+cneOXcBK+cm+A1gdV//hIFr+BBgOCVe1NZPhAQvHKGglfOTfCKuwle0zkI8EoJTEBA8Aoe6wpe8XVz+ThX8Mr5CV45N8Er5yZ4TWD1n79EwSt4ECB45d5Ulg8EBK+coeCVcxO84m6C13QOArxSAhMQELyCx7qCV3zdXD7OFbxyfoJXzk3wyrkJXhNY/ecvUfAKHgQIXrk3leUDAcErZyh45dwEr7ib4DWdgwCvlMAEBASv4LGu4BVfN5ePcwWvnJ/glXMTvHJugtcEVv/5SxS8ggcBglfuTWX5QEDwyhkKXjk3wSvuJnhN5yDAKyUwAQHBK3isK3jF183l41zBK+cneOXcBK+cm+A1gdV//hIFr+BBgOCVe1NZPhAQvHKGglfOTfCKuwle0zkI8EoJTEBA8Aoe6wpe8XVz+ThX8Mr5CV45N8Er5yZ4TWD1n79EwSt4ECB45d5Ulg8EBK+coeCVcxO84m6C13QOArxSAhMQELyCx7qCV3zdXD7OFbxyfoJXzk3wyrkJXhNY/ecvUfAKHgQIXrk3leUDAcErZyh45dwEr7ib4DWdgwCvlMAEBASv4LGu4BVfN5ePcwWvnJ/glXMTvHJugtcEVv/5SxS8ggcBglfuTWX5QEDwyhkKXjk3wSvuJnhN5yDAKyUwAYFSyrlS/bt0sJQPnnNZZXD31A5XKeWL9e6x84GH2/fLhz/5kUsDgwe3b9aIZfv6ZWYNzG7+3d/MzR7ZbZ3/LbcGbrdP/Grudmnn+tY//D23Bm5bH7w7dztQv8+5XlMBwUvwKssxqovbglc8QFTfF8Er5yZ4xd0ErzVd8b0sAtMUWEx4zc9uXDUW2AlepZTPNf4KdySwd4Ebe3+IST7C5Um+6r2/aMFr3Q8NBC/BS/CaxYNAF2Hw8ecQvHLfJ8Er7iZ4rfvS7/URmJRAKeUrpZTnXMIGf1DvKOzCdtX+9o1SykF2YbvvMAubVfvbN7ml3D5fv8+5XlMBwUvwErwEr873gcdj3n7+b8FL8FrT9dvLIkCAAAECBAgQIEBgFwHBS/DqPHb4lcZ4gKiCkAmvnJvgFXcz4bXLqulTBAgQIECAAAECBAiMQkDwErwELxNene8D+znR9fhjC16C1yhWYxtJgAABAgQIECBAgECrAoKX4NV57DDhFQ8QJrxyZpWb4BW3M+HV6jrrwQgQIECAAAECBAgQ6EFA8BK8BC8TXp3vA49PYe3n/xa8BK8e1lZPSYAAAQIECBAgQIBAzwKCl+DVeeww4RUPECa8cmYmvHJuJrx6Xpk9PQECBAgQIECAAAECexYQvAQvwcuEV+f7wH5OdD3+2Ca84tFL8Nrz2uoBCBAgQIAAAQIECBDoWUDwErw6jx0mvOIBwoRXzsyEV85N8Op5Zfb0BAgQIECAAAECBAjsWUDwErwELxNene8Dj09h7ef/NuEVj16C157XVg9AgAABAgQIECBAgEDPAoKX4NV57DDhFQ8QJrxyZia8cm6CV88rs6cnQIAAAQIECBAgQGDPAoKX4CV4mfDqfB/Yz4muxx/bhFc8eglee15bPQABAgQIECBAgAABAj0LCF6CV+exw4RXPECY8MqZmfDKuQlePa/Mnp4AAQIECBAgQIAAgT0LCF6Cl+BlwqvzfeDxKaz9/N8mvOLRS/Da89rqAQgQIECAAAECBAgQ6FlA8BK8Oo8dJrziAcKEV87MhFfOTfDqeWX29AQIECBAgAABAgQI7FlA8BK8BC8TXp3vA/s50fX4Y5vwikcvwWvPa6sHIECAAAECBAgQIECgZwHBS/DqPHaY8IoHCBNeOTMTXjk3wavnldnTEyBAgAABAgQIECCwZwHBS/ASvEx4db4PPD6FtZ//24RXPHoJXnteWz0AAQIECBAgQIAAAQI9CyyCV/EvKPBy/a0rpTwf/Fp3fyRwBQQBAoMWOFe/z7kmQIAAAQIECBAgQIDAqARKKV8f9OnWcDfuRP2NLqX8r+Fu5qC37M6gt87GESDwu/p9zjUBAgQIECBAgAABAgRGJWDCK31Ga8IrTbf4QhNeCwo3CAxSwITXqFZ0G0uAAAECBAgQIECAwEKglHKgOs3auHatnDp50mWFwflz5+qz0uXgdbD64Obm5vErly//yGV3g83NzTfniDvBa2Nj42fMdjerfO7du3e+3vkePny4xWy1WWX0YHv7o9pta2vrErfVblevXv3J3EzwWqyWbhAgQIAAAQIECBAgMCqBesLrzOnT5aVDh1xWGBw9cqQ+d14OXjt/w+vChQsvfv/QoWdcdjd498yZ784Rd4LXG6+99lVmu5tVPtc3Nl6pd77t7e1NZqvNKqN79+5drN02b948xm2125HDh788NxO8RrWi21gCBAgQIECAAAECBBYCglcs8gleq0+WVwUFwStnKHjl3ASvuJvgtVgi3SBAgAABAgQIECBAYKwCgpfgtSpQtf15wSseIKrvgeCVcxO84m6C11hXdNtNgAABAgQIECBAgMBCQPASvNoOWqseT/CKBwjBK2dWuQlecTvBa7FEukGAAAECBAgQIECAwFgFBC/Ba1Wgavvzglc8QAheOTPBK+cmeI11RbfdBAgQIECAAAECBAgsBAQvwavtoLXq8QSvXITwK405NxNecTfBa7FEukGAAAECBAgQIECAwFgFBC/Ba1Wgavvzglc8QFTfA8Er5yZ4xd0Er7Gu6LabAAECBAgQIECAAIGFgOAleLUdtFY9nuAVDxCCV86schO84naC12KJdIMAAQIECBAgQIAAgbEKCF6C16pA1fbnBa94gBC8cmaCV85N8Brrim67CRAgQIAAAQIECBBYCAheglfbQWvV4wleuQjhVxpzbia84m6C12KJdIMAAQIECBAgQIAAgbEKCF6C16pA1fbnBa94gKi+B4JXzk3wirsJXmNd0W03AQIECBAgQIAAAQILAcFL8Go7aK16PMErHiAEr5xZ5SZ4xe0Er8US6QYBAgQIECBAgAABAmMVELwEr1WBqu3PC17xACF45cwEr5yb4DXWFd12EyBAgAABAgQIECCwEBC8BK+2g9aqxxO8chHCrzTm3Ex4xd0Er8US6QYBAgQIECBAgAABAmMVELwEr1WBqu3PC17xAFF9DwSvnJvgFXcTvMa6ottuAgQIECBAgAABAgQWAoKX4NV20Fr1eIJXPEAIXjmzyk3witsJXosl0g0CBAgQIECAAAECBMYqIHgJXqsCVdufF7ziAULwypkJXjk3wWusK7rtJkCAAAECBAgQIEBgISB4CV5tB61Vjyd45SKEX2nMuZnwirsJXosl0g0CBAgQIECAAAECBMYqIHgJXqsCVdufF7ziAaL6HgheOTfBK+4meI11RbfdBAgQIECAAAECBAgsBAQvwavtoLXq8QSveIAQvHJmlZvgFbcTvBZLpBsECBAgQIAAAQIECIxVQPASvFYFqrY/L3jFA4TglTMTvHJugtdYV3TbTYAAAQIECBAgQIDAQkDwErzaDlqrHk/wykUIv9KYczPhFXcTvBZLpBsECBAgQIAAAQIECIxVQPASvFYFqrY/L3jFA0T1PRC8cm6CV9xN8Brrim67CRAgQIAAAQIECBBYCAheglfbQWvV4wle8QAheOXMKjfBK24neC2WSDcIECBAgAABAgQIEBirgOAleK0KVG1/XvCKBwjBK2cmeOXcBK+xrui2mwABAgQIECBAgACBhYDgJXi1HbRWPZ7glYsQfqUx52bCK+4meC2WSDcIECBAgAABAgQIEBirgOAleK0KVG1/XvCKB4jqeyB45dwEr7ib4DXWFd12EyBAgAABAgQIECCwEBC8BK+2g9aqxxO84gFC8MqZVW6CV9xO8FoskW4QIECAAAECBAgQIDBWAcFL8FoVqNr+vOAVDxCCV85M8Mq5CV5jXdFtNwECBAgQIECAAAECCwHBS/BqO2itejzBKxch/Epjzs2EV9xN8FoskW4QIECAAAECBAgQIDBWAcFL8FoVqNr+vOAVDxDV90DwyrkJXnE3wWusK7rtJkCAAAECBAgQIEBgISB4CV5tB61Vjyd4xQOE4JUzq9wEr7id4LVYIt0gQIAAAQIECBAgQGCsAoKX4LUqULX9ecErHiAEr5yZ4JVzE7zGuqLbbgIECBAgQIAAAQIEFgKCl+DVdtBa9XiCVy5C+JXGnJsJr7ib4LVYIt0gQIAAAQIECBAgQGCsAqWUZ0sp5f0LF8rPjx51WWHw1q9/XXFV/w7X3/NSysHqAxtXrx4+cfz4Cy67G1y5cuXHjwjL5er6/Nmzf8lsd7PKZ3Nz8zdzt/LgwYPbzFabVUYf37+/UbvduXPnbW6r3d4+derbc7Oz9fucawIECBAgQIAAAQIECIxKoJ7wqk8IXTcWeLn+RpdSnm/8Ve64LHBl+X+4TYDA4ATO1e9zrgkQIECAAAECBAgQIDAqgVLKl0opR13CBi/U3+hSygF+Yb9qn3uVW8rtLW5htzdLKb/gFnb7Xv0+55oAAQIECBAgQIAAAQIECBAgQIAAAQIECBAgQIAAAQIECBAgQIAAAQIECBAgQIAAAQIECBAgQIAAAQIECBAgQIAAAQIECBAgQIAAAQIECBAgQIAAAQIECBAgQIAAAQIECBAgQIAAAQIECBAgQIAAAQIECBAgQIAAAQIECBAgQIAAAQIECBAgQIAAAQIECBAgQIAAAQIECBAgQIAAAQIECBAgQIAAAQIECBAgQIAAAQIECBAgQIAAAQIECBAgQIAAAQIECBAgQIAAAQIECBAgQIAAAQIECBAgQIAAAQIECBAgQIAAAQIECBAgQIAAAQIECBAgQIAAAQIECBAgQIAAAQIECBAgQIAAAQIECBAgQIAAAQIECBAgQIAAAQIECBAg8ITA/weuPM6yZYcnIQAAAABJRU5ErkJggg==)"
      ]
    },
    {
      "cell_type": "code",
      "metadata": {
        "colab": {
          "base_uri": "https://localhost:8080/"
        },
        "id": "Cd78y-8OKZLp",
        "outputId": "a84150c9-47be-417d-c82c-b1feae02064b"
      },
      "source": [
        "# создание маски с условием \"оценка по математике больше или равна 4\"\n",
        "mask = df['математика'] >= 4\n",
        "mask "
      ],
      "execution_count": null,
      "outputs": [
        {
          "output_type": "execute_result",
          "data": {
            "text/plain": [
              "Иванов        True\n",
              "Петров       False\n",
              "Сидоров      False\n",
              "Кузнецов      True\n",
              "Попов         True\n",
              "Васильев      True\n",
              "Кондарьев     True\n",
              "Соколов       True\n",
              "Name: математика, dtype: bool"
            ]
          },
          "metadata": {
            "tags": []
          },
          "execution_count": 104
        }
      ]
    },
    {
      "cell_type": "code",
      "metadata": {
        "colab": {
          "base_uri": "https://localhost:8080/",
          "height": 235
        },
        "id": "7ZePhsVJKzJh",
        "outputId": "5e16b49a-dc35-4295-e687-a80f046393a8"
      },
      "source": [
        "df[mask] # применим маску к нашему DataFrame и выведем всех \"хорошистов\" по математике"
      ],
      "execution_count": null,
      "outputs": [
        {
          "output_type": "execute_result",
          "data": {
            "text/html": [
              "<div>\n",
              "<style scoped>\n",
              "    .dataframe tbody tr th:only-of-type {\n",
              "        vertical-align: middle;\n",
              "    }\n",
              "\n",
              "    .dataframe tbody tr th {\n",
              "        vertical-align: top;\n",
              "    }\n",
              "\n",
              "    .dataframe thead th {\n",
              "        text-align: right;\n",
              "    }\n",
              "</style>\n",
              "<table border=\"1\" class=\"dataframe\">\n",
              "  <thead>\n",
              "    <tr style=\"text-align: right;\">\n",
              "      <th></th>\n",
              "      <th>математика</th>\n",
              "      <th>физика</th>\n",
              "      <th>литература</th>\n",
              "      <th>физкультура</th>\n",
              "      <th>информатика</th>\n",
              "    </tr>\n",
              "  </thead>\n",
              "  <tbody>\n",
              "    <tr>\n",
              "      <th>Иванов</th>\n",
              "      <td>5</td>\n",
              "      <td>5</td>\n",
              "      <td>4</td>\n",
              "      <td>5</td>\n",
              "      <td>5</td>\n",
              "    </tr>\n",
              "    <tr>\n",
              "      <th>Кузнецов</th>\n",
              "      <td>5</td>\n",
              "      <td>3</td>\n",
              "      <td>3</td>\n",
              "      <td>3</td>\n",
              "      <td>5</td>\n",
              "    </tr>\n",
              "    <tr>\n",
              "      <th>Попов</th>\n",
              "      <td>4</td>\n",
              "      <td>3</td>\n",
              "      <td>5</td>\n",
              "      <td>4</td>\n",
              "      <td>5</td>\n",
              "    </tr>\n",
              "    <tr>\n",
              "      <th>Васильев</th>\n",
              "      <td>5</td>\n",
              "      <td>4</td>\n",
              "      <td>5</td>\n",
              "      <td>5</td>\n",
              "      <td>5</td>\n",
              "    </tr>\n",
              "    <tr>\n",
              "      <th>Кондарьев</th>\n",
              "      <td>4</td>\n",
              "      <td>4</td>\n",
              "      <td>4</td>\n",
              "      <td>5</td>\n",
              "      <td>2</td>\n",
              "    </tr>\n",
              "    <tr>\n",
              "      <th>Соколов</th>\n",
              "      <td>5</td>\n",
              "      <td>2</td>\n",
              "      <td>5</td>\n",
              "      <td>3</td>\n",
              "      <td>5</td>\n",
              "    </tr>\n",
              "  </tbody>\n",
              "</table>\n",
              "</div>"
            ],
            "text/plain": [
              "           математика  физика  литература  физкультура  информатика\n",
              "Иванов              5       5           4            5            5\n",
              "Кузнецов            5       3           3            3            5\n",
              "Попов               4       3           5            4            5\n",
              "Васильев            5       4           5            5            5\n",
              "Кондарьев           4       4           4            5            2\n",
              "Соколов             5       2           5            3            5"
            ]
          },
          "metadata": {
            "tags": []
          },
          "execution_count": 105
        }
      ]
    },
    {
      "cell_type": "markdown",
      "metadata": {
        "id": "CIDqAoKLMpSz"
      },
      "source": [
        "### Выбор конкретных значений из нашей таблицы"
      ]
    },
    {
      "cell_type": "markdown",
      "metadata": {
        "id": "hSBVuWmmM7nb"
      },
      "source": [
        "![image.png](data:image/png;base64,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)"
      ]
    },
    {
      "cell_type": "markdown",
      "metadata": {
        "id": "4x_TqIytM9Yx"
      },
      "source": [
        "для выбора конкретных значений мы используем методы loc и iloc c квадратными скобками  [  ]\n",
        "\n",
        "Внутри квадратных скобок можно использовать \n",
        "* просто название колонки, ряда\n",
        "* список из колонок и рядов\n",
        "* срез\n",
        "* логическое выражене\n",
        "* двоеточие\n",
        "\n",
        "Выбираем loc если используем поиск по наименованиям строк/столбцов\n",
        "Выбираем iloc если используем поиск по номеру строки/столбца\n",
        "\n",
        "В подвыборкам можно присвоить новые значения и это изменит основную таблицу с данными\n"
      ]
    },
    {
      "cell_type": "code",
      "metadata": {
        "id": "jS7Nc_RkLAiA"
      },
      "source": [
        "students = ['Кузнецов', 'Петров'] # список студентов, по которым мы хотим посмотреть\n",
        "students_idx = [1, 4] # порядковый номер студентов в индексе\n",
        "ciricula = ['математика', 'физика'] # список предметов, по которым мы хотим получить информацию\n",
        "ciricula_idx = [0, 1] # порядковый номер предметов в индексах колонок"
      ],
      "execution_count": null,
      "outputs": []
    },
    {
      "cell_type": "code",
      "metadata": {
        "colab": {
          "base_uri": "https://localhost:8080/",
          "height": 111
        },
        "id": "D8LSaerUNrtk",
        "outputId": "11d9c0df-0334-40da-e29f-288ad876a824"
      },
      "source": [
        "df.loc[students, ciricula] # получим выборку студенты/предметы с применением loc"
      ],
      "execution_count": null,
      "outputs": [
        {
          "output_type": "execute_result",
          "data": {
            "text/html": [
              "<div>\n",
              "<style scoped>\n",
              "    .dataframe tbody tr th:only-of-type {\n",
              "        vertical-align: middle;\n",
              "    }\n",
              "\n",
              "    .dataframe tbody tr th {\n",
              "        vertical-align: top;\n",
              "    }\n",
              "\n",
              "    .dataframe thead th {\n",
              "        text-align: right;\n",
              "    }\n",
              "</style>\n",
              "<table border=\"1\" class=\"dataframe\">\n",
              "  <thead>\n",
              "    <tr style=\"text-align: right;\">\n",
              "      <th></th>\n",
              "      <th>математика</th>\n",
              "      <th>физика</th>\n",
              "    </tr>\n",
              "  </thead>\n",
              "  <tbody>\n",
              "    <tr>\n",
              "      <th>Кузнецов</th>\n",
              "      <td>5</td>\n",
              "      <td>3</td>\n",
              "    </tr>\n",
              "    <tr>\n",
              "      <th>Петров</th>\n",
              "      <td>2</td>\n",
              "      <td>4</td>\n",
              "    </tr>\n",
              "  </tbody>\n",
              "</table>\n",
              "</div>"
            ],
            "text/plain": [
              "          математика  физика\n",
              "Кузнецов           5       3\n",
              "Петров             2       4"
            ]
          },
          "metadata": {
            "tags": []
          },
          "execution_count": 107
        }
      ]
    },
    {
      "cell_type": "code",
      "metadata": {
        "colab": {
          "base_uri": "https://localhost:8080/",
          "height": 111
        },
        "id": "bjR1NnC3NxEK",
        "outputId": "883ee306-67bc-46ee-898f-adaaa3e228b4"
      },
      "source": [
        "df.iloc[students_idx, ciricula_idx] # получим выборку студенты/предметы с применением iloc"
      ],
      "execution_count": null,
      "outputs": [
        {
          "output_type": "execute_result",
          "data": {
            "text/html": [
              "<div>\n",
              "<style scoped>\n",
              "    .dataframe tbody tr th:only-of-type {\n",
              "        vertical-align: middle;\n",
              "    }\n",
              "\n",
              "    .dataframe tbody tr th {\n",
              "        vertical-align: top;\n",
              "    }\n",
              "\n",
              "    .dataframe thead th {\n",
              "        text-align: right;\n",
              "    }\n",
              "</style>\n",
              "<table border=\"1\" class=\"dataframe\">\n",
              "  <thead>\n",
              "    <tr style=\"text-align: right;\">\n",
              "      <th></th>\n",
              "      <th>математика</th>\n",
              "      <th>физика</th>\n",
              "    </tr>\n",
              "  </thead>\n",
              "  <tbody>\n",
              "    <tr>\n",
              "      <th>Петров</th>\n",
              "      <td>2</td>\n",
              "      <td>4</td>\n",
              "    </tr>\n",
              "    <tr>\n",
              "      <th>Попов</th>\n",
              "      <td>4</td>\n",
              "      <td>3</td>\n",
              "    </tr>\n",
              "  </tbody>\n",
              "</table>\n",
              "</div>"
            ],
            "text/plain": [
              "        математика  физика\n",
              "Петров           2       4\n",
              "Попов            4       3"
            ]
          },
          "metadata": {
            "tags": []
          },
          "execution_count": 108
        }
      ]
    },
    {
      "cell_type": "code",
      "metadata": {
        "colab": {
          "base_uri": "https://localhost:8080/",
          "height": 204
        },
        "id": "KI5b3L0TOMw6",
        "outputId": "aa1f5217-d3be-45b3-f67e-9985b26c1803"
      },
      "source": [
        "df.iloc[:5, 0::2] # еще один вариант применения iloc, на этот раз используем срезы"
      ],
      "execution_count": null,
      "outputs": [
        {
          "output_type": "execute_result",
          "data": {
            "text/html": [
              "<div>\n",
              "<style scoped>\n",
              "    .dataframe tbody tr th:only-of-type {\n",
              "        vertical-align: middle;\n",
              "    }\n",
              "\n",
              "    .dataframe tbody tr th {\n",
              "        vertical-align: top;\n",
              "    }\n",
              "\n",
              "    .dataframe thead th {\n",
              "        text-align: right;\n",
              "    }\n",
              "</style>\n",
              "<table border=\"1\" class=\"dataframe\">\n",
              "  <thead>\n",
              "    <tr style=\"text-align: right;\">\n",
              "      <th></th>\n",
              "      <th>математика</th>\n",
              "      <th>литература</th>\n",
              "      <th>информатика</th>\n",
              "    </tr>\n",
              "  </thead>\n",
              "  <tbody>\n",
              "    <tr>\n",
              "      <th>Иванов</th>\n",
              "      <td>5</td>\n",
              "      <td>4</td>\n",
              "      <td>5</td>\n",
              "    </tr>\n",
              "    <tr>\n",
              "      <th>Петров</th>\n",
              "      <td>2</td>\n",
              "      <td>5</td>\n",
              "      <td>5</td>\n",
              "    </tr>\n",
              "    <tr>\n",
              "      <th>Сидоров</th>\n",
              "      <td>3</td>\n",
              "      <td>4</td>\n",
              "      <td>4</td>\n",
              "    </tr>\n",
              "    <tr>\n",
              "      <th>Кузнецов</th>\n",
              "      <td>5</td>\n",
              "      <td>3</td>\n",
              "      <td>5</td>\n",
              "    </tr>\n",
              "    <tr>\n",
              "      <th>Попов</th>\n",
              "      <td>4</td>\n",
              "      <td>5</td>\n",
              "      <td>5</td>\n",
              "    </tr>\n",
              "  </tbody>\n",
              "</table>\n",
              "</div>"
            ],
            "text/plain": [
              "          математика  литература  информатика\n",
              "Иванов             5           4            5\n",
              "Петров             2           5            5\n",
              "Сидоров            3           4            4\n",
              "Кузнецов           5           3            5\n",
              "Попов              4           5            5"
            ]
          },
          "metadata": {
            "tags": []
          },
          "execution_count": 109
        }
      ]
    },
    {
      "cell_type": "code",
      "metadata": {
        "colab": {
          "base_uri": "https://localhost:8080/"
        },
        "id": "Qb3APpocOQ5A",
        "outputId": "a78c2a11-d77d-415e-f1a4-9fcd6a63c82e"
      },
      "source": [
        "df.loc['Петров', 'математика'] # посмотрим, какая оценка у Петрова по математике"
      ],
      "execution_count": null,
      "outputs": [
        {
          "output_type": "execute_result",
          "data": {
            "text/plain": [
              "2"
            ]
          },
          "metadata": {
            "tags": []
          },
          "execution_count": 110
        }
      ]
    },
    {
      "cell_type": "code",
      "metadata": {
        "id": "mjBdR9oCPy5Y"
      },
      "source": [
        "df.loc['Петров', 'математика'] = 4 # исправим двойку на четверку"
      ],
      "execution_count": null,
      "outputs": []
    },
    {
      "cell_type": "code",
      "metadata": {
        "colab": {
          "base_uri": "https://localhost:8080/",
          "height": 297
        },
        "id": "yQKdyjKPQlRt",
        "outputId": "8a64924e-3c8c-482c-cb26-a0084cd5cbb8"
      },
      "source": [
        "df # проверим результат"
      ],
      "execution_count": null,
      "outputs": [
        {
          "output_type": "execute_result",
          "data": {
            "text/html": [
              "<div>\n",
              "<style scoped>\n",
              "    .dataframe tbody tr th:only-of-type {\n",
              "        vertical-align: middle;\n",
              "    }\n",
              "\n",
              "    .dataframe tbody tr th {\n",
              "        vertical-align: top;\n",
              "    }\n",
              "\n",
              "    .dataframe thead th {\n",
              "        text-align: right;\n",
              "    }\n",
              "</style>\n",
              "<table border=\"1\" class=\"dataframe\">\n",
              "  <thead>\n",
              "    <tr style=\"text-align: right;\">\n",
              "      <th></th>\n",
              "      <th>математика</th>\n",
              "      <th>физика</th>\n",
              "      <th>литература</th>\n",
              "      <th>физкультура</th>\n",
              "      <th>информатика</th>\n",
              "    </tr>\n",
              "  </thead>\n",
              "  <tbody>\n",
              "    <tr>\n",
              "      <th>Иванов</th>\n",
              "      <td>5</td>\n",
              "      <td>5</td>\n",
              "      <td>4</td>\n",
              "      <td>5</td>\n",
              "      <td>5</td>\n",
              "    </tr>\n",
              "    <tr>\n",
              "      <th>Петров</th>\n",
              "      <td>4</td>\n",
              "      <td>4</td>\n",
              "      <td>5</td>\n",
              "      <td>3</td>\n",
              "      <td>5</td>\n",
              "    </tr>\n",
              "    <tr>\n",
              "      <th>Сидоров</th>\n",
              "      <td>3</td>\n",
              "      <td>2</td>\n",
              "      <td>4</td>\n",
              "      <td>2</td>\n",
              "      <td>4</td>\n",
              "    </tr>\n",
              "    <tr>\n",
              "      <th>Кузнецов</th>\n",
              "      <td>5</td>\n",
              "      <td>3</td>\n",
              "      <td>3</td>\n",
              "      <td>3</td>\n",
              "      <td>5</td>\n",
              "    </tr>\n",
              "    <tr>\n",
              "      <th>Попов</th>\n",
              "      <td>4</td>\n",
              "      <td>3</td>\n",
              "      <td>5</td>\n",
              "      <td>4</td>\n",
              "      <td>5</td>\n",
              "    </tr>\n",
              "    <tr>\n",
              "      <th>Васильев</th>\n",
              "      <td>5</td>\n",
              "      <td>4</td>\n",
              "      <td>5</td>\n",
              "      <td>5</td>\n",
              "      <td>5</td>\n",
              "    </tr>\n",
              "    <tr>\n",
              "      <th>Кондарьев</th>\n",
              "      <td>4</td>\n",
              "      <td>4</td>\n",
              "      <td>4</td>\n",
              "      <td>5</td>\n",
              "      <td>2</td>\n",
              "    </tr>\n",
              "    <tr>\n",
              "      <th>Соколов</th>\n",
              "      <td>5</td>\n",
              "      <td>2</td>\n",
              "      <td>5</td>\n",
              "      <td>3</td>\n",
              "      <td>5</td>\n",
              "    </tr>\n",
              "  </tbody>\n",
              "</table>\n",
              "</div>"
            ],
            "text/plain": [
              "           математика  физика  литература  физкультура  информатика\n",
              "Иванов              5       5           4            5            5\n",
              "Петров              4       4           5            3            5\n",
              "Сидоров             3       2           4            2            4\n",
              "Кузнецов            5       3           3            3            5\n",
              "Попов               4       3           5            4            5\n",
              "Васильев            5       4           5            5            5\n",
              "Кондарьев           4       4           4            5            2\n",
              "Соколов             5       2           5            3            5"
            ]
          },
          "metadata": {
            "tags": []
          },
          "execution_count": 112
        }
      ]
    },
    {
      "cell_type": "markdown",
      "metadata": {
        "id": "nv_UYEoDm6vd"
      },
      "source": [
        "## Добавление новых данных"
      ]
    },
    {
      "cell_type": "markdown",
      "metadata": {
        "id": "MOYO4_NlRZl3"
      },
      "source": [
        "### Добавление новых колонок"
      ]
    },
    {
      "cell_type": "code",
      "metadata": {
        "colab": {
          "base_uri": "https://localhost:8080/",
          "height": 204
        },
        "id": "0KFjswHBnEsN",
        "outputId": "19f8664d-f258-4ad7-ff7d-a0bbdc86cf3b"
      },
      "source": [
        "df.head() # вспомним, как выглядел наш DataFrame"
      ],
      "execution_count": null,
      "outputs": [
        {
          "output_type": "execute_result",
          "data": {
            "text/html": [
              "<div>\n",
              "<style scoped>\n",
              "    .dataframe tbody tr th:only-of-type {\n",
              "        vertical-align: middle;\n",
              "    }\n",
              "\n",
              "    .dataframe tbody tr th {\n",
              "        vertical-align: top;\n",
              "    }\n",
              "\n",
              "    .dataframe thead th {\n",
              "        text-align: right;\n",
              "    }\n",
              "</style>\n",
              "<table border=\"1\" class=\"dataframe\">\n",
              "  <thead>\n",
              "    <tr style=\"text-align: right;\">\n",
              "      <th></th>\n",
              "      <th>математика</th>\n",
              "      <th>физика</th>\n",
              "      <th>литература</th>\n",
              "      <th>физкультура</th>\n",
              "      <th>информатика</th>\n",
              "    </tr>\n",
              "  </thead>\n",
              "  <tbody>\n",
              "    <tr>\n",
              "      <th>Иванов</th>\n",
              "      <td>5</td>\n",
              "      <td>5</td>\n",
              "      <td>4</td>\n",
              "      <td>5</td>\n",
              "      <td>5</td>\n",
              "    </tr>\n",
              "    <tr>\n",
              "      <th>Петров</th>\n",
              "      <td>4</td>\n",
              "      <td>4</td>\n",
              "      <td>5</td>\n",
              "      <td>3</td>\n",
              "      <td>5</td>\n",
              "    </tr>\n",
              "    <tr>\n",
              "      <th>Сидоров</th>\n",
              "      <td>3</td>\n",
              "      <td>2</td>\n",
              "      <td>4</td>\n",
              "      <td>2</td>\n",
              "      <td>4</td>\n",
              "    </tr>\n",
              "    <tr>\n",
              "      <th>Кузнецов</th>\n",
              "      <td>5</td>\n",
              "      <td>3</td>\n",
              "      <td>3</td>\n",
              "      <td>3</td>\n",
              "      <td>5</td>\n",
              "    </tr>\n",
              "    <tr>\n",
              "      <th>Попов</th>\n",
              "      <td>4</td>\n",
              "      <td>3</td>\n",
              "      <td>5</td>\n",
              "      <td>4</td>\n",
              "      <td>5</td>\n",
              "    </tr>\n",
              "  </tbody>\n",
              "</table>\n",
              "</div>"
            ],
            "text/plain": [
              "          математика  физика  литература  физкультура  информатика\n",
              "Иванов             5       5           4            5            5\n",
              "Петров             4       4           5            3            5\n",
              "Сидоров            3       2           4            2            4\n",
              "Кузнецов           5       3           3            3            5\n",
              "Попов              4       3           5            4            5"
            ]
          },
          "metadata": {
            "tags": []
          },
          "execution_count": 113
        }
      ]
    },
    {
      "cell_type": "code",
      "metadata": {
        "colab": {
          "base_uri": "https://localhost:8080/",
          "height": 204
        },
        "id": "UqRT-BiEqTls",
        "outputId": "203201e5-74aa-4007-a797-6b1a6e50ec14"
      },
      "source": [
        "df['биология'] = [5, 5, 5, 5, 5, 5, 5, 5] # добавим новую колонку Биология\n",
        "df.head() # выведем 5 первых строк"
      ],
      "execution_count": null,
      "outputs": [
        {
          "output_type": "execute_result",
          "data": {
            "text/html": [
              "<div>\n",
              "<style scoped>\n",
              "    .dataframe tbody tr th:only-of-type {\n",
              "        vertical-align: middle;\n",
              "    }\n",
              "\n",
              "    .dataframe tbody tr th {\n",
              "        vertical-align: top;\n",
              "    }\n",
              "\n",
              "    .dataframe thead th {\n",
              "        text-align: right;\n",
              "    }\n",
              "</style>\n",
              "<table border=\"1\" class=\"dataframe\">\n",
              "  <thead>\n",
              "    <tr style=\"text-align: right;\">\n",
              "      <th></th>\n",
              "      <th>математика</th>\n",
              "      <th>физика</th>\n",
              "      <th>литература</th>\n",
              "      <th>физкультура</th>\n",
              "      <th>информатика</th>\n",
              "      <th>биология</th>\n",
              "    </tr>\n",
              "  </thead>\n",
              "  <tbody>\n",
              "    <tr>\n",
              "      <th>Иванов</th>\n",
              "      <td>5</td>\n",
              "      <td>5</td>\n",
              "      <td>4</td>\n",
              "      <td>5</td>\n",
              "      <td>5</td>\n",
              "      <td>5</td>\n",
              "    </tr>\n",
              "    <tr>\n",
              "      <th>Петров</th>\n",
              "      <td>4</td>\n",
              "      <td>4</td>\n",
              "      <td>5</td>\n",
              "      <td>3</td>\n",
              "      <td>5</td>\n",
              "      <td>5</td>\n",
              "    </tr>\n",
              "    <tr>\n",
              "      <th>Сидоров</th>\n",
              "      <td>3</td>\n",
              "      <td>2</td>\n",
              "      <td>4</td>\n",
              "      <td>2</td>\n",
              "      <td>4</td>\n",
              "      <td>5</td>\n",
              "    </tr>\n",
              "    <tr>\n",
              "      <th>Кузнецов</th>\n",
              "      <td>5</td>\n",
              "      <td>3</td>\n",
              "      <td>3</td>\n",
              "      <td>3</td>\n",
              "      <td>5</td>\n",
              "      <td>5</td>\n",
              "    </tr>\n",
              "    <tr>\n",
              "      <th>Попов</th>\n",
              "      <td>4</td>\n",
              "      <td>3</td>\n",
              "      <td>5</td>\n",
              "      <td>4</td>\n",
              "      <td>5</td>\n",
              "      <td>5</td>\n",
              "    </tr>\n",
              "  </tbody>\n",
              "</table>\n",
              "</div>"
            ],
            "text/plain": [
              "          математика  физика  литература  физкультура  информатика  биология\n",
              "Иванов             5       5           4            5            5         5\n",
              "Петров             4       4           5            3            5         5\n",
              "Сидоров            3       2           4            2            4         5\n",
              "Кузнецов           5       3           3            3            5         5\n",
              "Попов              4       3           5            4            5         5"
            ]
          },
          "metadata": {
            "tags": []
          },
          "execution_count": 114
        }
      ]
    },
    {
      "cell_type": "markdown",
      "metadata": {
        "id": "cHUhyVbdnE2T"
      },
      "source": [
        "### Добавление новых колонок на основе существуюущих"
      ]
    },
    {
      "cell_type": "markdown",
      "metadata": {
        "id": "AR1wA0oEVIhW"
      },
      "source": [
        "![image.png](data:image/png;base64,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)"
      ]
    },
    {
      "cell_type": "markdown",
      "metadata": {
        "id": "4nhAIIJkVKj1"
      },
      "source": [
        "Новую колонку можно создать используя следующую конструкцию\n",
        "\n",
        "df['new_column'] = выражение, возвращающее объект Series"
      ]
    },
    {
      "cell_type": "code",
      "metadata": {
        "colab": {
          "base_uri": "https://localhost:8080/",
          "height": 204
        },
        "id": "idQD1FzHR4BN",
        "outputId": "d7ccf292-a935-422d-c504-300a4f1489d1"
      },
      "source": [
        "# создадим новую колонку \"точные науки\" как сумму колонок \"математика\", \"физика\" и \"информатика\"\n",
        "df['точные науки'] = df['математика'] +  df['физика'] + df['информатика']\n",
        "df.head()"
      ],
      "execution_count": null,
      "outputs": [
        {
          "output_type": "execute_result",
          "data": {
            "text/html": [
              "<div>\n",
              "<style scoped>\n",
              "    .dataframe tbody tr th:only-of-type {\n",
              "        vertical-align: middle;\n",
              "    }\n",
              "\n",
              "    .dataframe tbody tr th {\n",
              "        vertical-align: top;\n",
              "    }\n",
              "\n",
              "    .dataframe thead th {\n",
              "        text-align: right;\n",
              "    }\n",
              "</style>\n",
              "<table border=\"1\" class=\"dataframe\">\n",
              "  <thead>\n",
              "    <tr style=\"text-align: right;\">\n",
              "      <th></th>\n",
              "      <th>математика</th>\n",
              "      <th>физика</th>\n",
              "      <th>литература</th>\n",
              "      <th>физкультура</th>\n",
              "      <th>информатика</th>\n",
              "      <th>биология</th>\n",
              "      <th>точные науки</th>\n",
              "    </tr>\n",
              "  </thead>\n",
              "  <tbody>\n",
              "    <tr>\n",
              "      <th>Иванов</th>\n",
              "      <td>5</td>\n",
              "      <td>5</td>\n",
              "      <td>4</td>\n",
              "      <td>5</td>\n",
              "      <td>5</td>\n",
              "      <td>5</td>\n",
              "      <td>15</td>\n",
              "    </tr>\n",
              "    <tr>\n",
              "      <th>Петров</th>\n",
              "      <td>4</td>\n",
              "      <td>4</td>\n",
              "      <td>5</td>\n",
              "      <td>3</td>\n",
              "      <td>5</td>\n",
              "      <td>5</td>\n",
              "      <td>13</td>\n",
              "    </tr>\n",
              "    <tr>\n",
              "      <th>Сидоров</th>\n",
              "      <td>3</td>\n",
              "      <td>2</td>\n",
              "      <td>4</td>\n",
              "      <td>2</td>\n",
              "      <td>4</td>\n",
              "      <td>5</td>\n",
              "      <td>9</td>\n",
              "    </tr>\n",
              "    <tr>\n",
              "      <th>Кузнецов</th>\n",
              "      <td>5</td>\n",
              "      <td>3</td>\n",
              "      <td>3</td>\n",
              "      <td>3</td>\n",
              "      <td>5</td>\n",
              "      <td>5</td>\n",
              "      <td>13</td>\n",
              "    </tr>\n",
              "    <tr>\n",
              "      <th>Попов</th>\n",
              "      <td>4</td>\n",
              "      <td>3</td>\n",
              "      <td>5</td>\n",
              "      <td>4</td>\n",
              "      <td>5</td>\n",
              "      <td>5</td>\n",
              "      <td>12</td>\n",
              "    </tr>\n",
              "  </tbody>\n",
              "</table>\n",
              "</div>"
            ],
            "text/plain": [
              "          математика  физика  литература  ...  информатика  биология  точные науки\n",
              "Иванов             5       5           4  ...            5         5            15\n",
              "Петров             4       4           5  ...            5         5            13\n",
              "Сидоров            3       2           4  ...            4         5             9\n",
              "Кузнецов           5       3           3  ...            5         5            13\n",
              "Попов              4       3           5  ...            5         5            12\n",
              "\n",
              "[5 rows x 7 columns]"
            ]
          },
          "metadata": {
            "tags": []
          },
          "execution_count": 115
        }
      ]
    },
    {
      "cell_type": "markdown",
      "metadata": {
        "id": "4UNH4Y0FVvod"
      },
      "source": [
        "Важно - операции выполняются поэлементно и имеют красивую понятную запись. Это быстрее чем циклы!"
      ]
    },
    {
      "cell_type": "code",
      "metadata": {
        "colab": {
          "base_uri": "https://localhost:8080/",
          "height": 204
        },
        "id": "FVcD0TPYQn2K",
        "outputId": "0175a1f3-3b1d-45d6-e07b-094bea865cb7"
      },
      "source": [
        "# создадим колонку \"общий ректинг\" как сумму по всем оценкам\n",
        "df['общий рейтинг'] = df.sum(axis=1)\n",
        "\n",
        "df.head()"
      ],
      "execution_count": null,
      "outputs": [
        {
          "output_type": "execute_result",
          "data": {
            "text/html": [
              "<div>\n",
              "<style scoped>\n",
              "    .dataframe tbody tr th:only-of-type {\n",
              "        vertical-align: middle;\n",
              "    }\n",
              "\n",
              "    .dataframe tbody tr th {\n",
              "        vertical-align: top;\n",
              "    }\n",
              "\n",
              "    .dataframe thead th {\n",
              "        text-align: right;\n",
              "    }\n",
              "</style>\n",
              "<table border=\"1\" class=\"dataframe\">\n",
              "  <thead>\n",
              "    <tr style=\"text-align: right;\">\n",
              "      <th></th>\n",
              "      <th>математика</th>\n",
              "      <th>физика</th>\n",
              "      <th>литература</th>\n",
              "      <th>физкультура</th>\n",
              "      <th>информатика</th>\n",
              "      <th>биология</th>\n",
              "      <th>точные науки</th>\n",
              "      <th>общий рейтинг</th>\n",
              "    </tr>\n",
              "  </thead>\n",
              "  <tbody>\n",
              "    <tr>\n",
              "      <th>Иванов</th>\n",
              "      <td>5</td>\n",
              "      <td>5</td>\n",
              "      <td>4</td>\n",
              "      <td>5</td>\n",
              "      <td>5</td>\n",
              "      <td>5</td>\n",
              "      <td>15</td>\n",
              "      <td>44</td>\n",
              "    </tr>\n",
              "    <tr>\n",
              "      <th>Петров</th>\n",
              "      <td>4</td>\n",
              "      <td>4</td>\n",
              "      <td>5</td>\n",
              "      <td>3</td>\n",
              "      <td>5</td>\n",
              "      <td>5</td>\n",
              "      <td>13</td>\n",
              "      <td>39</td>\n",
              "    </tr>\n",
              "    <tr>\n",
              "      <th>Сидоров</th>\n",
              "      <td>3</td>\n",
              "      <td>2</td>\n",
              "      <td>4</td>\n",
              "      <td>2</td>\n",
              "      <td>4</td>\n",
              "      <td>5</td>\n",
              "      <td>9</td>\n",
              "      <td>29</td>\n",
              "    </tr>\n",
              "    <tr>\n",
              "      <th>Кузнецов</th>\n",
              "      <td>5</td>\n",
              "      <td>3</td>\n",
              "      <td>3</td>\n",
              "      <td>3</td>\n",
              "      <td>5</td>\n",
              "      <td>5</td>\n",
              "      <td>13</td>\n",
              "      <td>37</td>\n",
              "    </tr>\n",
              "    <tr>\n",
              "      <th>Попов</th>\n",
              "      <td>4</td>\n",
              "      <td>3</td>\n",
              "      <td>5</td>\n",
              "      <td>4</td>\n",
              "      <td>5</td>\n",
              "      <td>5</td>\n",
              "      <td>12</td>\n",
              "      <td>38</td>\n",
              "    </tr>\n",
              "  </tbody>\n",
              "</table>\n",
              "</div>"
            ],
            "text/plain": [
              "          математика  физика  литература  ...  биология  точные науки  общий рейтинг\n",
              "Иванов             5       5           4  ...         5            15             44\n",
              "Петров             4       4           5  ...         5            13             39\n",
              "Сидоров            3       2           4  ...         5             9             29\n",
              "Кузнецов           5       3           3  ...         5            13             37\n",
              "Попов              4       3           5  ...         5            12             38\n",
              "\n",
              "[5 rows x 8 columns]"
            ]
          },
          "metadata": {
            "tags": []
          },
          "execution_count": 116
        }
      ]
    },
    {
      "cell_type": "code",
      "metadata": {
        "colab": {
          "base_uri": "https://localhost:8080/",
          "height": 314
        },
        "id": "9NrPnDaDSvjr",
        "outputId": "9c132281-81cc-4234-efe4-8d210a9b4b04"
      },
      "source": [
        "# напишем функцию, преобразующую оценку из целочисленного 2-5 в текстовый \"отлично\", \"хорошо\" и т.д.\n",
        "def int_to_str(i):\n",
        "\n",
        "    marks = {5 : 'отлично', \n",
        "            4: 'хорошо', \n",
        "            3: 'удовлетвор.',\n",
        "            2 : 'неуд.'}    \n",
        "    return marks[i]\n",
        "\n",
        "# создадим колонку \"информатика для диплома\" как результат применения нашей функции к колонке \"информатика\"\n",
        "df['информатика_для диплома'] = df['информатика'].apply(int_to_str)\n",
        "df"
      ],
      "execution_count": null,
      "outputs": [
        {
          "output_type": "execute_result",
          "data": {
            "text/html": [
              "<div>\n",
              "<style scoped>\n",
              "    .dataframe tbody tr th:only-of-type {\n",
              "        vertical-align: middle;\n",
              "    }\n",
              "\n",
              "    .dataframe tbody tr th {\n",
              "        vertical-align: top;\n",
              "    }\n",
              "\n",
              "    .dataframe thead th {\n",
              "        text-align: right;\n",
              "    }\n",
              "</style>\n",
              "<table border=\"1\" class=\"dataframe\">\n",
              "  <thead>\n",
              "    <tr style=\"text-align: right;\">\n",
              "      <th></th>\n",
              "      <th>математика</th>\n",
              "      <th>физика</th>\n",
              "      <th>литература</th>\n",
              "      <th>физкультура</th>\n",
              "      <th>информатика</th>\n",
              "      <th>биология</th>\n",
              "      <th>точные науки</th>\n",
              "      <th>общий рейтинг</th>\n",
              "      <th>информатика_для диплома</th>\n",
              "    </tr>\n",
              "  </thead>\n",
              "  <tbody>\n",
              "    <tr>\n",
              "      <th>Иванов</th>\n",
              "      <td>5</td>\n",
              "      <td>5</td>\n",
              "      <td>4</td>\n",
              "      <td>5</td>\n",
              "      <td>5</td>\n",
              "      <td>5</td>\n",
              "      <td>15</td>\n",
              "      <td>44</td>\n",
              "      <td>отлично</td>\n",
              "    </tr>\n",
              "    <tr>\n",
              "      <th>Петров</th>\n",
              "      <td>4</td>\n",
              "      <td>4</td>\n",
              "      <td>5</td>\n",
              "      <td>3</td>\n",
              "      <td>5</td>\n",
              "      <td>5</td>\n",
              "      <td>13</td>\n",
              "      <td>39</td>\n",
              "      <td>отлично</td>\n",
              "    </tr>\n",
              "    <tr>\n",
              "      <th>Сидоров</th>\n",
              "      <td>3</td>\n",
              "      <td>2</td>\n",
              "      <td>4</td>\n",
              "      <td>2</td>\n",
              "      <td>4</td>\n",
              "      <td>5</td>\n",
              "      <td>9</td>\n",
              "      <td>29</td>\n",
              "      <td>хорошо</td>\n",
              "    </tr>\n",
              "    <tr>\n",
              "      <th>Кузнецов</th>\n",
              "      <td>5</td>\n",
              "      <td>3</td>\n",
              "      <td>3</td>\n",
              "      <td>3</td>\n",
              "      <td>5</td>\n",
              "      <td>5</td>\n",
              "      <td>13</td>\n",
              "      <td>37</td>\n",
              "      <td>отлично</td>\n",
              "    </tr>\n",
              "    <tr>\n",
              "      <th>Попов</th>\n",
              "      <td>4</td>\n",
              "      <td>3</td>\n",
              "      <td>5</td>\n",
              "      <td>4</td>\n",
              "      <td>5</td>\n",
              "      <td>5</td>\n",
              "      <td>12</td>\n",
              "      <td>38</td>\n",
              "      <td>отлично</td>\n",
              "    </tr>\n",
              "    <tr>\n",
              "      <th>Васильев</th>\n",
              "      <td>5</td>\n",
              "      <td>4</td>\n",
              "      <td>5</td>\n",
              "      <td>5</td>\n",
              "      <td>5</td>\n",
              "      <td>5</td>\n",
              "      <td>14</td>\n",
              "      <td>43</td>\n",
              "      <td>отлично</td>\n",
              "    </tr>\n",
              "    <tr>\n",
              "      <th>Кондарьев</th>\n",
              "      <td>4</td>\n",
              "      <td>4</td>\n",
              "      <td>4</td>\n",
              "      <td>5</td>\n",
              "      <td>2</td>\n",
              "      <td>5</td>\n",
              "      <td>10</td>\n",
              "      <td>34</td>\n",
              "      <td>неуд.</td>\n",
              "    </tr>\n",
              "    <tr>\n",
              "      <th>Соколов</th>\n",
              "      <td>5</td>\n",
              "      <td>2</td>\n",
              "      <td>5</td>\n",
              "      <td>3</td>\n",
              "      <td>5</td>\n",
              "      <td>5</td>\n",
              "      <td>12</td>\n",
              "      <td>37</td>\n",
              "      <td>отлично</td>\n",
              "    </tr>\n",
              "  </tbody>\n",
              "</table>\n",
              "</div>"
            ],
            "text/plain": [
              "           математика  физика  ...  общий рейтинг  информатика_для диплома\n",
              "Иванов              5       5  ...             44                  отлично\n",
              "Петров              4       4  ...             39                  отлично\n",
              "Сидоров             3       2  ...             29                   хорошо\n",
              "Кузнецов            5       3  ...             37                  отлично\n",
              "Попов               4       3  ...             38                  отлично\n",
              "Васильев            5       4  ...             43                  отлично\n",
              "Кондарьев           4       4  ...             34                    неуд.\n",
              "Соколов             5       2  ...             37                  отлично\n",
              "\n",
              "[8 rows x 9 columns]"
            ]
          },
          "metadata": {
            "tags": []
          },
          "execution_count": 117
        }
      ]
    },
    {
      "cell_type": "markdown",
      "metadata": {
        "id": "aMyz1h7hnTCK"
      },
      "source": [
        "### Добавление новых строк"
      ]
    },
    {
      "cell_type": "code",
      "metadata": {
        "id": "yEZLGa0QTcca",
        "colab": {
          "base_uri": "https://localhost:8080/",
          "height": 297
        },
        "outputId": "62f7c11b-a83e-4795-8a8c-fd4252b6c4bb"
      },
      "source": [
        "# создадим DataFrame\n",
        "df = pd.DataFrame({'студент' : ['Иванов', 'Петров', 'Сидоров', 'Кузнецов', 'Попов', 'Васильев', 'Кондарьев', 'Соколов'], \n",
        "                    'математика' : [5, 2, 3, 5, 4, 5, 4, 5],\n",
        "                    'физика' :    [5, 4, 2, 3, 3, 4, 4, 2], \n",
        "                    'литература' :[4, 5, 4, 3, 5, 5, 4, 5],\n",
        "                   'физкультура' :[5, 3, 2, 3, 4, 5, 5, 3],\n",
        "                   'информатика' :[5, 5, 4, 5, 5, 5, 2, 5], \n",
        "                   }, )\n",
        "df"
      ],
      "execution_count": null,
      "outputs": [
        {
          "output_type": "execute_result",
          "data": {
            "text/html": [
              "<div>\n",
              "<style scoped>\n",
              "    .dataframe tbody tr th:only-of-type {\n",
              "        vertical-align: middle;\n",
              "    }\n",
              "\n",
              "    .dataframe tbody tr th {\n",
              "        vertical-align: top;\n",
              "    }\n",
              "\n",
              "    .dataframe thead th {\n",
              "        text-align: right;\n",
              "    }\n",
              "</style>\n",
              "<table border=\"1\" class=\"dataframe\">\n",
              "  <thead>\n",
              "    <tr style=\"text-align: right;\">\n",
              "      <th></th>\n",
              "      <th>студент</th>\n",
              "      <th>математика</th>\n",
              "      <th>физика</th>\n",
              "      <th>литература</th>\n",
              "      <th>физкультура</th>\n",
              "      <th>информатика</th>\n",
              "    </tr>\n",
              "  </thead>\n",
              "  <tbody>\n",
              "    <tr>\n",
              "      <th>0</th>\n",
              "      <td>Иванов</td>\n",
              "      <td>5</td>\n",
              "      <td>5</td>\n",
              "      <td>4</td>\n",
              "      <td>5</td>\n",
              "      <td>5</td>\n",
              "    </tr>\n",
              "    <tr>\n",
              "      <th>1</th>\n",
              "      <td>Петров</td>\n",
              "      <td>2</td>\n",
              "      <td>4</td>\n",
              "      <td>5</td>\n",
              "      <td>3</td>\n",
              "      <td>5</td>\n",
              "    </tr>\n",
              "    <tr>\n",
              "      <th>2</th>\n",
              "      <td>Сидоров</td>\n",
              "      <td>3</td>\n",
              "      <td>2</td>\n",
              "      <td>4</td>\n",
              "      <td>2</td>\n",
              "      <td>4</td>\n",
              "    </tr>\n",
              "    <tr>\n",
              "      <th>3</th>\n",
              "      <td>Кузнецов</td>\n",
              "      <td>5</td>\n",
              "      <td>3</td>\n",
              "      <td>3</td>\n",
              "      <td>3</td>\n",
              "      <td>5</td>\n",
              "    </tr>\n",
              "    <tr>\n",
              "      <th>4</th>\n",
              "      <td>Попов</td>\n",
              "      <td>4</td>\n",
              "      <td>3</td>\n",
              "      <td>5</td>\n",
              "      <td>4</td>\n",
              "      <td>5</td>\n",
              "    </tr>\n",
              "    <tr>\n",
              "      <th>5</th>\n",
              "      <td>Васильев</td>\n",
              "      <td>5</td>\n",
              "      <td>4</td>\n",
              "      <td>5</td>\n",
              "      <td>5</td>\n",
              "      <td>5</td>\n",
              "    </tr>\n",
              "    <tr>\n",
              "      <th>6</th>\n",
              "      <td>Кондарьев</td>\n",
              "      <td>4</td>\n",
              "      <td>4</td>\n",
              "      <td>4</td>\n",
              "      <td>5</td>\n",
              "      <td>2</td>\n",
              "    </tr>\n",
              "    <tr>\n",
              "      <th>7</th>\n",
              "      <td>Соколов</td>\n",
              "      <td>5</td>\n",
              "      <td>2</td>\n",
              "      <td>5</td>\n",
              "      <td>3</td>\n",
              "      <td>5</td>\n",
              "    </tr>\n",
              "  </tbody>\n",
              "</table>\n",
              "</div>"
            ],
            "text/plain": [
              "     студент  математика  физика  литература  физкультура  информатика\n",
              "0     Иванов           5       5           4            5            5\n",
              "1     Петров           2       4           5            3            5\n",
              "2    Сидоров           3       2           4            2            4\n",
              "3   Кузнецов           5       3           3            3            5\n",
              "4      Попов           4       3           5            4            5\n",
              "5   Васильев           5       4           5            5            5\n",
              "6  Кондарьев           4       4           4            5            2\n",
              "7    Соколов           5       2           5            3            5"
            ]
          },
          "metadata": {
            "tags": []
          },
          "execution_count": 118
        }
      ]
    },
    {
      "cell_type": "code",
      "metadata": {
        "id": "2WR8Lf2loFex"
      },
      "source": [
        "# создадим словарь, на основании которого будет сделана новая запись\n",
        "new_student = {'информатика': 3,\n",
        "                'литература': 5,\n",
        "                'математика': 2,\n",
        "                'студент': 'Васечкин',\n",
        "                'физика': 4,\n",
        "                'физкультура': 4}\n",
        "\n",
        "df = df.append(new_student, ignore_index=True) # добавим новую запись в наш DataFrame"
      ],
      "execution_count": null,
      "outputs": []
    },
    {
      "cell_type": "markdown",
      "metadata": {
        "id": "05r6iUxEoXMH"
      },
      "source": [
        "## Обработка текстовых значений"
      ]
    },
    {
      "cell_type": "markdown",
      "metadata": {
        "id": "qSty88mOoz1X"
      },
      "source": [
        "Очень часто нам нужно обрататывать текстовые значения для извлечения из них каких-то важных признаков (мы видели это на примере датасета Титаник). Остановимся на том, как работать с текстовыми данными подробнее\n",
        "\n",
        "В работе со строковыми значениями нам приходит на помощь модуль Series.str\n",
        "Доступные функции (самые необходимые):\n",
        "*    Series.str.lower -перевод всех строк в нижний регистр\n",
        "*    Series.str.upper - перевод всех строк в верхний регистр\n",
        "*    Series.str.title - первая буква каждого слова переводится в верхний регистр, остальные буквы в нижний регистр\n",
        "*    Series.str.split - разделяет строку на набор слов по указаному разделителю\n",
        "\n",
        "подробнее можно с Series.str можно ознакомиться в [документации](https://pandas.pydata.org/pandas-docs/stable/reference/series.html#string-handling) \n",
        "\n"
      ]
    },
    {
      "cell_type": "code",
      "metadata": {
        "colab": {
          "base_uri": "https://localhost:8080/"
        },
        "id": "so0bdy23rjs9",
        "outputId": "70914e1d-d486-4a5a-aacd-d2f37a3425c8"
      },
      "source": [
        "titanic_df['Name'] # посмотрим на исходную колонку содержащую имя"
      ],
      "execution_count": null,
      "outputs": [
        {
          "output_type": "execute_result",
          "data": {
            "text/plain": [
              "0                                  Kelly, Mr. James\n",
              "1                  Wilkes, Mrs. James (Ellen Needs)\n",
              "2                         Myles, Mr. Thomas Francis\n",
              "3                                  Wirz, Mr. Albert\n",
              "4      Hirvonen, Mrs. Alexander (Helga E Lindqvist)\n",
              "                           ...                     \n",
              "413                              Spector, Mr. Woolf\n",
              "414                    Oliva y Ocana, Dona. Fermina\n",
              "415                    Saether, Mr. Simon Sivertsen\n",
              "416                             Ware, Mr. Frederick\n",
              "417                        Peter, Master. Michael J\n",
              "Name: Name, Length: 417, dtype: object"
            ]
          },
          "metadata": {
            "tags": []
          },
          "execution_count": 120
        }
      ]
    },
    {
      "cell_type": "code",
      "metadata": {
        "colab": {
          "base_uri": "https://localhost:8080/"
        },
        "id": "xIYz-Ihirj3H",
        "outputId": "bf29b41d-0b6c-4ec3-8b18-580ea662840d"
      },
      "source": [
        "titanic_df['Name'].str.lower() # преобразуем имя к нижнему регистру"
      ],
      "execution_count": null,
      "outputs": [
        {
          "output_type": "execute_result",
          "data": {
            "text/plain": [
              "0                                  kelly, mr. james\n",
              "1                  wilkes, mrs. james (ellen needs)\n",
              "2                         myles, mr. thomas francis\n",
              "3                                  wirz, mr. albert\n",
              "4      hirvonen, mrs. alexander (helga e lindqvist)\n",
              "                           ...                     \n",
              "413                              spector, mr. woolf\n",
              "414                    oliva y ocana, dona. fermina\n",
              "415                    saether, mr. simon sivertsen\n",
              "416                             ware, mr. frederick\n",
              "417                        peter, master. michael j\n",
              "Name: Name, Length: 417, dtype: object"
            ]
          },
          "metadata": {
            "tags": []
          },
          "execution_count": 121
        }
      ]
    },
    {
      "cell_type": "code",
      "metadata": {
        "colab": {
          "base_uri": "https://localhost:8080/"
        },
        "id": "sPyJnglsrkAU",
        "outputId": "c6109fb8-18a0-4254-a946-049855c12692"
      },
      "source": [
        "titanic_df['Name'].str.split(',') # разобъем строку используя в качестве разделялетя знак \",\""
      ],
      "execution_count": null,
      "outputs": [
        {
          "output_type": "execute_result",
          "data": {
            "text/plain": [
              "0                                  [Kelly,  Mr. James]\n",
              "1                  [Wilkes,  Mrs. James (Ellen Needs)]\n",
              "2                         [Myles,  Mr. Thomas Francis]\n",
              "3                                  [Wirz,  Mr. Albert]\n",
              "4      [Hirvonen,  Mrs. Alexander (Helga E Lindqvist)]\n",
              "                            ...                       \n",
              "413                              [Spector,  Mr. Woolf]\n",
              "414                    [Oliva y Ocana,  Dona. Fermina]\n",
              "415                    [Saether,  Mr. Simon Sivertsen]\n",
              "416                             [Ware,  Mr. Frederick]\n",
              "417                        [Peter,  Master. Michael J]\n",
              "Name: Name, Length: 417, dtype: object"
            ]
          },
          "metadata": {
            "tags": []
          },
          "execution_count": 122
        }
      ]
    },
    {
      "cell_type": "code",
      "metadata": {
        "colab": {
          "base_uri": "https://localhost:8080/"
        },
        "id": "6cDa3LgloaaK",
        "outputId": "5ff108db-0cf3-4136-a387-be4534b148bd"
      },
      "source": [
        "titanic_df['Surname'] = titanic_df['Name'].str.split(',').str.get(0) # разобъем строку используя в качестве разделялетя знак \",\" и возьмем первый элемент получившегося списка\n",
        "titanic_df['Surname']"
      ],
      "execution_count": null,
      "outputs": [
        {
          "output_type": "execute_result",
          "data": {
            "text/plain": [
              "0              Kelly\n",
              "1             Wilkes\n",
              "2              Myles\n",
              "3               Wirz\n",
              "4           Hirvonen\n",
              "           ...      \n",
              "413          Spector\n",
              "414    Oliva y Ocana\n",
              "415          Saether\n",
              "416             Ware\n",
              "417            Peter\n",
              "Name: Surname, Length: 417, dtype: object"
            ]
          },
          "metadata": {
            "tags": []
          },
          "execution_count": 123
        }
      ]
    },
    {
      "cell_type": "code",
      "metadata": {
        "id": "xYHDbP7JsZhV"
      },
      "source": [
        "# напишем сложную функцию обработки для извлечения Title из Name\n",
        "# не пугайтесь если не понятно, в следующих ячейках мы подробно рассмотрим каждый шаг\n",
        "titanic_df['Title'] = titanic_df['Name'].str.split(',').str.get(1).str.split('.').str.get(0) + '.'"
      ],
      "execution_count": null,
      "outputs": []
    },
    {
      "cell_type": "code",
      "metadata": {
        "colab": {
          "base_uri": "https://localhost:8080/"
        },
        "id": "ABhf_KmStUfB",
        "outputId": "5fd8efb7-0287-4579-85d7-9b622633d2d9"
      },
      "source": [
        "titanic_df['Name'].str.split(',') # разобъем строку используя в качестве разделителя знак \",\""
      ],
      "execution_count": null,
      "outputs": [
        {
          "output_type": "execute_result",
          "data": {
            "text/plain": [
              "0                                  [Kelly,  Mr. James]\n",
              "1                  [Wilkes,  Mrs. James (Ellen Needs)]\n",
              "2                         [Myles,  Mr. Thomas Francis]\n",
              "3                                  [Wirz,  Mr. Albert]\n",
              "4      [Hirvonen,  Mrs. Alexander (Helga E Lindqvist)]\n",
              "                            ...                       \n",
              "413                              [Spector,  Mr. Woolf]\n",
              "414                    [Oliva y Ocana,  Dona. Fermina]\n",
              "415                    [Saether,  Mr. Simon Sivertsen]\n",
              "416                             [Ware,  Mr. Frederick]\n",
              "417                        [Peter,  Master. Michael J]\n",
              "Name: Name, Length: 417, dtype: object"
            ]
          },
          "metadata": {
            "tags": []
          },
          "execution_count": 125
        }
      ]
    },
    {
      "cell_type": "code",
      "metadata": {
        "colab": {
          "base_uri": "https://localhost:8080/"
        },
        "id": "eF_DsMiot27N",
        "outputId": "8a66dd05-dda9-4d41-fb32-017ed4485861"
      },
      "source": [
        "titanic_df['Name'].str.split(',').str.get(1) # разобъем строку используя в качестве разделялетя знак \",\" и возьмем второй элемент списка"
      ],
      "execution_count": null,
      "outputs": [
        {
          "output_type": "execute_result",
          "data": {
            "text/plain": [
              "0                                Mr. James\n",
              "1                 Mrs. James (Ellen Needs)\n",
              "2                       Mr. Thomas Francis\n",
              "3                               Mr. Albert\n",
              "4       Mrs. Alexander (Helga E Lindqvist)\n",
              "                      ...                 \n",
              "413                              Mr. Woolf\n",
              "414                          Dona. Fermina\n",
              "415                    Mr. Simon Sivertsen\n",
              "416                          Mr. Frederick\n",
              "417                      Master. Michael J\n",
              "Name: Name, Length: 417, dtype: object"
            ]
          },
          "metadata": {
            "tags": []
          },
          "execution_count": 126
        }
      ]
    },
    {
      "cell_type": "code",
      "metadata": {
        "colab": {
          "base_uri": "https://localhost:8080/"
        },
        "id": "9ttNwSfht7T9",
        "outputId": "5961a39a-fe0c-4266-a1b2-5075537c606b"
      },
      "source": [
        "titanic_df['Name'].str.split(',').str.get(1).str.split('.') # разобъем полученную в предыдущих итерациях строку используя в качестве разделителя \".\""
      ],
      "execution_count": null,
      "outputs": [
        {
          "output_type": "execute_result",
          "data": {
            "text/plain": [
              "0                               [ Mr,  James]\n",
              "1                [ Mrs,  James (Ellen Needs)]\n",
              "2                      [ Mr,  Thomas Francis]\n",
              "3                              [ Mr,  Albert]\n",
              "4      [ Mrs,  Alexander (Helga E Lindqvist)]\n",
              "                        ...                  \n",
              "413                             [ Mr,  Woolf]\n",
              "414                         [ Dona,  Fermina]\n",
              "415                   [ Mr,  Simon Sivertsen]\n",
              "416                         [ Mr,  Frederick]\n",
              "417                     [ Master,  Michael J]\n",
              "Name: Name, Length: 417, dtype: object"
            ]
          },
          "metadata": {
            "tags": []
          },
          "execution_count": 127
        }
      ]
    },
    {
      "cell_type": "code",
      "metadata": {
        "colab": {
          "base_uri": "https://localhost:8080/"
        },
        "id": "3gmhMv52uAPE",
        "outputId": "ad3da1cc-23fc-496a-bcc7-dfe713a4f41e"
      },
      "source": [
        "titanic_df['Name'].str.split(',').str.get(1).str.split('.').str.get(0) # из каждого списка возьмем первый элемент"
      ],
      "execution_count": null,
      "outputs": [
        {
          "output_type": "execute_result",
          "data": {
            "text/plain": [
              "0           Mr\n",
              "1          Mrs\n",
              "2           Mr\n",
              "3           Mr\n",
              "4          Mrs\n",
              "        ...   \n",
              "413         Mr\n",
              "414       Dona\n",
              "415         Mr\n",
              "416         Mr\n",
              "417     Master\n",
              "Name: Name, Length: 417, dtype: object"
            ]
          },
          "metadata": {
            "tags": []
          },
          "execution_count": 128
        }
      ]
    },
    {
      "cell_type": "code",
      "metadata": {
        "colab": {
          "base_uri": "https://localhost:8080/"
        },
        "id": "_qYud0y_uC4W",
        "outputId": "c5c43490-c104-4395-dfbe-800235892769"
      },
      "source": [
        "titanic_df['Name'].str.split(',').str.get(1).str.split('.').str.get(0) + '.' # добавим точку в конце титула"
      ],
      "execution_count": null,
      "outputs": [
        {
          "output_type": "execute_result",
          "data": {
            "text/plain": [
              "0           Mr.\n",
              "1          Mrs.\n",
              "2           Mr.\n",
              "3           Mr.\n",
              "4          Mrs.\n",
              "         ...   \n",
              "413         Mr.\n",
              "414       Dona.\n",
              "415         Mr.\n",
              "416         Mr.\n",
              "417     Master.\n",
              "Name: Name, Length: 417, dtype: object"
            ]
          },
          "metadata": {
            "tags": []
          },
          "execution_count": 129
        }
      ]
    },
    {
      "cell_type": "markdown",
      "metadata": {
        "id": "ecmtOsF71Ehd"
      },
      "source": [
        "## Литература"
      ]
    },
    {
      "cell_type": "markdown",
      "metadata": {
        "id": "iFZaknNl1HA4"
      },
      "source": [
        "1. Несколько интересных статей про Pandas на русском языке [на сайте Devpractice](https://devpractice.ru/category/machine-learning-and-data-analysis/pandas/)\n",
        "\n",
        "2. Небольшой онлайн-курс по Pandas [от Kaggle](https://www.kaggle.com/learn/pandas)\n",
        "\n",
        "3. Туториалы для начинающих [на официальном сайте Pandas](https://pandas.pydata.org/pandas-docs/stable/getting_started/intro_tutorials/index.html)\n",
        "\n",
        "4. Шпаргалка по Pandas [на Habr](https://habr.com/ru/company/ruvds/blog/494720/)\n",
        "\n",
        "5. Еще одна шпаргалка по Pandas [с официального сайта ](https://pandas.pydata.org/Pandas_Cheat_Sheet.pdf)"
      ]
    },
    {
      "cell_type": "markdown",
      "metadata": {
        "id": "7apOr8ZvFrKS"
      },
      "source": [
        "# The End"
      ]
    }
  ]
}
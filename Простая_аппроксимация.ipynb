{
  "nbformat": 4,
  "nbformat_minor": 0,
  "metadata": {
    "colab": {
      "name": "Простая аппроксимация",
      "provenance": [],
      "collapsed_sections": [],
      "include_colab_link": true
    },
    "kernelspec": {
      "name": "python3",
      "display_name": "Python 3"
    },
    "language_info": {
      "name": "python"
    }
  },
  "cells": [
    {
      "cell_type": "markdown",
      "metadata": {
        "id": "view-in-github",
        "colab_type": "text"
      },
      "source": [
        "<a href=\"https://colab.research.google.com/github/vadim-privalov/Neiroset_Novosibirsk/blob/main/%D0%9F%D1%80%D0%BE%D1%81%D1%82%D0%B0%D1%8F_%D0%B0%D0%BF%D0%BF%D1%80%D0%BE%D0%BA%D1%81%D0%B8%D0%BC%D0%B0%D1%86%D0%B8%D1%8F.ipynb\" target=\"_parent\"><img src=\"https://colab.research.google.com/assets/colab-badge.svg\" alt=\"Open In Colab\"/></a>"
      ]
    },
    {
      "cell_type": "markdown",
      "metadata": {
        "id": "RyZpAbZevWQA"
      },
      "source": [
        "# Простая аппроксимация\n",
        "\n",
        "# Simple approximation\n"
      ]
    },
    {
      "cell_type": "markdown",
      "metadata": {
        "id": "rEvdd4x5GoaP"
      },
      "source": [
        "В этом уроке мы научимся аппроксимировать контур\n",
        "\n",
        "In this lesson we will learn how to approximate a contour\n"
      ]
    },
    {
      "cell_type": "markdown",
      "metadata": {
        "id": "OnRt2FWzWeAY"
      },
      "source": [
        "\n",
        "\n",
        "> **Аппроксимация контура**  - это алгоритм уменьшения количества точек на кривой с уменьшенным набором точек. Этот алгоритм широко известен как алгоритм Рамера-Дугласа-Пекера или просто: алгоритм разделения и слияния.\n",
        "\n",
        "> **Contour approximation** is an algorithm for reducing the number of points on a curve with a reduced set of points. This algorithm is commonly known as the Ramer-Douglas-Pecker algorithm or simply: the split and merge algorithm.\n",
        "\n",
        "Общая идея этого алгоритма состоит в том, что кривую можно аппроксимировать серией коротких отрезков линии.\n",
        "\n",
        "\n",
        "\n",
        "\n",
        "\n",
        "The general idea of this algorithm is that a curve can be approximated by a series of short line segments."
      ]
    },
    {
      "cell_type": "code",
      "metadata": {
        "colab": {
          "base_uri": "https://localhost:8080/"
        },
        "id": "q6dHRDXGp4k2",
        "outputId": "14a5ce15-58a0-4176-f52e-96373a9822bd"
      },
      "source": [
        "!wget http://dataudt.ru/datasets/cv/Lesson_29.Approximation_simple.zip\n",
        "!unzip Lesson_29.Approximation_simple.zip\n",
        "%cd /content/Lesson_29.Approximation_simple"
      ],
      "execution_count": 1,
      "outputs": [
        {
          "output_type": "stream",
          "name": "stdout",
          "text": [
            "--2022-02-03 18:31:12--  http://dataudt.ru/datasets/cv/Lesson_29.Approximation_simple.zip\n",
            "Resolving dataudt.ru (dataudt.ru)... 37.228.117.130\n",
            "Connecting to dataudt.ru (dataudt.ru)|37.228.117.130|:80... connected.\n",
            "HTTP request sent, awaiting response... 200 OK\n",
            "Length: 14134 (14K) [application/zip]\n",
            "Saving to: ‘Lesson_29.Approximation_simple.zip’\n",
            "\n",
            "Lesson_29.Approxima 100%[===================>]  13.80K  --.-KB/s    in 0s      \n",
            "\n",
            "2022-02-03 18:31:13 (106 MB/s) - ‘Lesson_29.Approximation_simple.zip’ saved [14134/14134]\n",
            "\n",
            "Archive:  Lesson_29.Approximation_simple.zip\n",
            "  inflating: Lesson_29.Approximation_simple/Approximation_simple.py  \n",
            "  inflating: Lesson_29.Approximation_simple/shapes_03.png  \n",
            "  inflating: Lesson_29.Approximation_simple/shapes_04.png  \n",
            "/content/Lesson_29.Approximation_simple\n"
          ]
        }
      ]
    },
    {
      "cell_type": "code",
      "metadata": {
        "id": "jyaKrG1ip6AS"
      },
      "source": [
        "# импортируем необходимые модули\n",
        "# import the necessary packages\n",
        "import cv2\n",
        "import imutils\n",
        "from google.colab.patches import cv2_imshow"
      ],
      "execution_count": 2,
      "outputs": []
    },
    {
      "cell_type": "code",
      "metadata": {
        "id": "CyXXfVkTqANQ"
      },
      "source": [
        "# создаем отдельный словарь с аргументами \n",
        "# create a separate dictionary with arguments \n",
        "args = {\n",
        "  # путь к входному изображению \n",
        "  # the path to the input image \n",
        "  \"image\" : 'shapes_04.png' \n",
        "}"
      ],
      "execution_count": 3,
      "outputs": []
    },
    {
      "cell_type": "code",
      "metadata": {
        "id": "nJSfk8RIqdMU"
      },
      "source": [
        "# загружаем изображение кругов и квадратов\n",
        "# и конвертируем его в оттенки серого\n",
        "# load the the cirles and squares image and convert it to grayscale\n",
        "image = cv2.imread(args['image'])\n",
        "gray = cv2.cvtColor(image, cv2.COLOR_BGR2GRAY)\n",
        "\n",
        "# найдём контуры на изображении\n",
        "# find contours in the image\n",
        "cnts = cv2.findContours(gray.copy(), cv2.RETR_EXTERNAL, cv2.CHAIN_APPROX_SIMPLE)\n",
        "cnts = imutils.grab_contours(cnts)"
      ],
      "execution_count": 4,
      "outputs": []
    },
    {
      "cell_type": "code",
      "source": [
        ""
      ],
      "metadata": {
        "id": "4RWj2o2N2MLm"
      },
      "execution_count": null,
      "outputs": []
    },
    {
      "cell_type": "code",
      "metadata": {
        "colab": {
          "base_uri": "https://localhost:8080/",
          "height": 557
        },
        "id": "fBc5cpW6ppzo",
        "outputId": "1face50d-65df-42a8-e255-bdabdfba9337"
      },
      "source": [
        "# перебираем контуры\n",
        "# loop over the contours\n",
        "for c in cnts:\n",
        "    # аппроксимируем контур\n",
        "    # approximate the contour\n",
        "\tperi = cv2.arcLength(c, True)\n",
        "\tapprox = cv2.approxPolyDP(c, 0.01 * peri, True)\n",
        "\n",
        "    # если аппроксимируемый контур имеет 4 вершины, \n",
        "    # то рассматриваем прямоугольник\n",
        "    # if the approximated contour has 4 vertices, then we are examining\n",
        "\t# a rectangle\n",
        "\tif len(approx) == 4:\n",
        "        # рисуем контур и текст на изображении\n",
        "        # draw the outline of the contour and draw the text on the image\n",
        "\t\tcv2.drawContours(image, [c], -1, (0, 255, 255), 2)\n",
        "\t\t(x, y, w, h) = cv2.boundingRect(approx)\n",
        "\t\tcv2.putText(image, \"Prymoug\", (x, y - 10), cv2.FONT_HERSHEY_SIMPLEX,\n",
        "\t\t\t0.5, (0, 255, 255), 2)\n",
        "\n",
        "# выведем на экран получившееся изображение\n",
        "# show the output image\n",
        "print(\"Image\") \n",
        "cv2_imshow(image)\n"
      ],
      "execution_count": 6,
      "outputs": [
        {
          "output_type": "stream",
          "name": "stdout",
          "text": [
            "Image\n"
          ]
        },
        {
          "output_type": "display_data",
          "data": {
            "image/png": "[encoded data removed]",
            "text/plain": [
              "<PIL.Image.Image image mode=RGB size=622x523 at 0x7FB0DD6F65D0>"
            ]
          },
          "metadata": {}
        }
      ]
    }
  ]
}
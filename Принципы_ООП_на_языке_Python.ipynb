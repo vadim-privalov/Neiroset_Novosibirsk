{
  "nbformat": 4,
  "nbformat_minor": 0,
  "metadata": {
    "colab": {
      "name": "Принципы_ООП_на языке_Python",
      "provenance": [],
      "collapsed_sections": [],
      "include_colab_link": true
    },
    "kernelspec": {
      "name": "python3",
      "display_name": "Python 3"
    }
  },
  "cells": [
    {
      "cell_type": "markdown",
      "metadata": {
        "id": "view-in-github",
        "colab_type": "text"
      },
      "source": [
        "<a href=\"https://colab.research.google.com/github/vadim-privalov/Neiroset_Novosibirsk/blob/main/%D0%9F%D1%80%D0%B8%D0%BD%D1%86%D0%B8%D0%BF%D1%8B_%D0%9E%D0%9E%D0%9F_%D0%BD%D0%B0_%D1%8F%D0%B7%D1%8B%D0%BA%D0%B5_Python.ipynb\" target=\"_parent\"><img src=\"https://colab.research.google.com/assets/colab-badge.svg\" alt=\"Open In Colab\"/></a>"
      ]
    },
    {
      "cell_type": "markdown",
      "metadata": {
        "id": "uVQjRFc6abYJ"
      },
      "source": [
        "## ООО \"Университет Цифровых Технологий платформа 3\""
      ]
    },
    {
      "cell_type": "markdown",
      "metadata": {
        "id": "dbydVIpyBl-h"
      },
      "source": [
        "# Принципы ООП на языке Python"
      ]
    },
    {
      "cell_type": "markdown",
      "metadata": {
        "id": "SozqI92nBzIR"
      },
      "source": [
        "## Введение в ООП"
      ]
    },
    {
      "cell_type": "markdown",
      "metadata": {
        "id": "RirDmTqXwmzq"
      },
      "source": [
        "Объектно ориентированное программирование - это такой стиль (или парадигма) программирования, в котором центральными концепциями являются понятия объекта и класса. \n",
        "\n",
        "Класс описывает устройство объекта. Класс - это описание, шаблон объекта. А объект - это *экземпляр* класса.\n",
        "\n",
        "В Питоне все - строки, списки, словари, функции и т.д - является *объектами*. Объектам присущи *свойства* и *методы*. \n",
        "\n",
        "Методы - это функции, описанные в классе объекта.\n",
        "\n",
        "Свойства - это переменные, описанные внутри класса.\n",
        "\n",
        "Пример создания простейшего, пустого класса:\n"
      ]
    },
    {
      "cell_type": "code",
      "metadata": {
        "id": "Y6mFxh2n0mWs"
      },
      "source": [
        "class A():\n",
        "    pass"
      ],
      "execution_count": null,
      "outputs": []
    },
    {
      "cell_type": "markdown",
      "metadata": {
        "id": "7aD06DnV07Jl"
      },
      "source": [
        "А так создается объект, или экземпляр класса:"
      ]
    },
    {
      "cell_type": "code",
      "metadata": {
        "colab": {
          "base_uri": "https://localhost:8080/"
        },
        "id": "QIY_sYmR0moB",
        "outputId": "46e95e9c-dded-4682-c684-a1a6dbb7b387"
      },
      "source": [
        "a = A()\n",
        "print(a)"
      ],
      "execution_count": null,
      "outputs": [
        {
          "output_type": "stream",
          "text": [
            "<__main__.A object at 0x7f73142fa110>\n"
          ],
          "name": "stdout"
        }
      ]
    },
    {
      "cell_type": "markdown",
      "metadata": {
        "id": "wSMU6BQ2_fb-"
      },
      "source": [
        "## Свойства класса/объекта"
      ]
    },
    {
      "cell_type": "markdown",
      "metadata": {
        "id": "1aZ22CVV1ndO"
      },
      "source": [
        "Пакажем, как можно создавать (задавать) свойства объекта:"
      ]
    },
    {
      "cell_type": "code",
      "metadata": {
        "colab": {
          "base_uri": "https://localhost:8080/"
        },
        "id": "tFQf1ZI01YSE",
        "outputId": "514b26e4-3fb3-4558-ae4f-b7e15e67b2be"
      },
      "source": [
        "class Person():\n",
        "    name = 'Bob'\n",
        "    age = 23\n",
        "\n",
        "a = Person()\n",
        "print(a.name, a.age) # так можно обратиться к свойству объекта."
      ],
      "execution_count": null,
      "outputs": [
        {
          "output_type": "stream",
          "text": [
            "Bob 23\n"
          ],
          "name": "stdout"
        }
      ]
    },
    {
      "cell_type": "markdown",
      "metadata": {
        "id": "AgFvBhCSCEHp"
      },
      "source": [
        "Свойства можно добавлять объекту \"на лету\", однако так делать не рекомендуется, поскольку добавленные таким образом свойства не добавляются классу и остальным экземплярам класса."
      ]
    },
    {
      "cell_type": "code",
      "metadata": {
        "colab": {
          "base_uri": "https://localhost:8080/"
        },
        "id": "JWVnnCyxVkaR",
        "outputId": "241c0a2c-7cdf-463c-d25d-ffcb02832d9e"
      },
      "source": [
        "a.gender = 'male'\n",
        "print(a.name, a.gender) "
      ],
      "execution_count": null,
      "outputs": [
        {
          "output_type": "stream",
          "text": [
            "Bob male\n"
          ],
          "name": "stdout"
        }
      ]
    },
    {
      "cell_type": "markdown",
      "metadata": {
        "id": "JtsxbHaV_n4a"
      },
      "source": [
        "## Методы класса/объекта"
      ]
    },
    {
      "cell_type": "markdown",
      "metadata": {
        "id": "4ovZL-JPC4aZ"
      },
      "source": [
        "Функции, связанные с объектом, называются *методами* объекта. Эти функции определяются при задании класса, как показано в примере ниже. В качестве первого параметра метода указывается ссылка на сам объект, `self` - это специфика языка Python. В других популярных ООП-языках ссылка на сам объект не передается, а для обращения к объекту используется ключевое слово `this`\n"
      ]
    },
    {
      "cell_type": "code",
      "metadata": {
        "colab": {
          "base_uri": "https://localhost:8080/"
        },
        "id": "2Bet7sVUVyCO",
        "outputId": "795f78ad-8a81-4670-81f9-6429fa0d4aab"
      },
      "source": [
        "class Person():\n",
        "    name = 'Bob'\n",
        "    age = 23\n",
        "\n",
        "    def get_name(self):\n",
        "        return self.name\n",
        "\n",
        "    def set_age(self, age):\n",
        "        self.age = age\n",
        "\n",
        "a = Person()\n",
        "a.set_age(20)\n",
        "print(a.get_name(), a.age)"
      ],
      "execution_count": null,
      "outputs": [
        {
          "output_type": "stream",
          "text": [
            "Bob 20\n"
          ],
          "name": "stdout"
        }
      ]
    },
    {
      "cell_type": "markdown",
      "metadata": {
        "id": "8HvPph_REgZy"
      },
      "source": [
        "Обратите внимание, что при вызове метода объекта параметр self указывать не надо.\n",
        "\n",
        "Некоторые методы могут не зависеть от конкретного объекта, такие методы называются статическими методами класса.\n"
      ]
    },
    {
      "cell_type": "code",
      "metadata": {
        "colab": {
          "base_uri": "https://localhost:8080/"
        },
        "id": "dgsjKY0wFfPF",
        "outputId": "542f63d2-8784-44c5-c100-cc825cfea64f"
      },
      "source": [
        "class Person():\n",
        "    name = 'Bob'\n",
        "    age = 23\n",
        "\n",
        "    def get_name(self): # метод объекта\n",
        "        return self.name\n",
        "\n",
        "    def set_age(self, age):\n",
        "        self.age = age\n",
        "\n",
        "    def info():  # статический метод (метод класса)\n",
        "        print('I am a person')\n",
        "\n",
        "bob = Person()\n",
        "bob.set_age(30)\n",
        "Person.info()"
      ],
      "execution_count": null,
      "outputs": [
        {
          "output_type": "stream",
          "text": [
            "I am a person\n"
          ],
          "name": "stdout"
        }
      ]
    },
    {
      "cell_type": "code",
      "metadata": {
        "colab": {
          "base_uri": "https://localhost:8080/",
          "height": 163
        },
        "id": "_2F_lEIAzcqu",
        "outputId": "2e15806c-585f-4b9e-d8a1-e8af6c20fc9e"
      },
      "source": [
        "bob.info()"
      ],
      "execution_count": null,
      "outputs": [
        {
          "output_type": "error",
          "ename": "TypeError",
          "evalue": "ignored",
          "traceback": [
            "\u001b[0;31m---------------------------------------------------------------------------\u001b[0m",
            "\u001b[0;31mTypeError\u001b[0m                                 Traceback (most recent call last)",
            "\u001b[0;32m<ipython-input-7-445a141adacd>\u001b[0m in \u001b[0;36m<module>\u001b[0;34m()\u001b[0m\n\u001b[0;32m----> 1\u001b[0;31m \u001b[0mbob\u001b[0m\u001b[0;34m.\u001b[0m\u001b[0minfo\u001b[0m\u001b[0;34m(\u001b[0m\u001b[0;34m)\u001b[0m\u001b[0;34m\u001b[0m\u001b[0;34m\u001b[0m\u001b[0m\n\u001b[0m",
            "\u001b[0;31mTypeError\u001b[0m: info() takes 0 positional arguments but 1 was given"
          ]
        }
      ]
    },
    {
      "cell_type": "code",
      "metadata": {
        "colab": {
          "base_uri": "https://localhost:8080/",
          "height": 163
        },
        "id": "v7aLQlMxzoBi",
        "outputId": "f2dd831d-9d3f-4880-f8ea-0f623967dfcd"
      },
      "source": [
        "info()"
      ],
      "execution_count": null,
      "outputs": [
        {
          "output_type": "error",
          "ename": "NameError",
          "evalue": "ignored",
          "traceback": [
            "\u001b[0;31m---------------------------------------------------------------------------\u001b[0m",
            "\u001b[0;31mNameError\u001b[0m                                 Traceback (most recent call last)",
            "\u001b[0;32m<ipython-input-8-7a159a231d1e>\u001b[0m in \u001b[0;36m<module>\u001b[0;34m()\u001b[0m\n\u001b[0;32m----> 1\u001b[0;31m \u001b[0minfo\u001b[0m\u001b[0;34m(\u001b[0m\u001b[0;34m)\u001b[0m\u001b[0;34m\u001b[0m\u001b[0;34m\u001b[0m\u001b[0m\n\u001b[0m",
            "\u001b[0;31mNameError\u001b[0m: name 'info' is not defined"
          ]
        }
      ]
    },
    {
      "cell_type": "markdown",
      "metadata": {
        "id": "lDAi1aT6EgVq"
      },
      "source": [
        "Обратите внимание, что при определении статического метода класса параметр self не указывается, а метод вызывается не у объекта (экземпляра класса) а у самого класса."
      ]
    },
    {
      "cell_type": "markdown",
      "metadata": {
        "id": "QFeNZ502_O0W"
      },
      "source": [
        "## Конструктор класса"
      ]
    },
    {
      "cell_type": "markdown",
      "metadata": {
        "id": "nWGjCiUN2wQ2"
      },
      "source": [
        "Задавать значения свойств можно при определении класса,\n",
        "однако в таком действии нет особого смысла, поскольку все объекты будут иметь одни и те же свойства, а у людей имена и возраст отличаются.\n",
        "\n",
        "Более правильный подход - инициализировать свойства конкретными значениями при создании объекта с помощью специального *магического* метода `__init__()`, называемого *конструктором* (или инициализатором) класса\n",
        "\n",
        "(Магическими методами называются специальные методы, с названиями, начинающиеся и заканчивающиеся на двойное подчеркивание. Они будут рассмотрены более подробно далее)"
      ]
    },
    {
      "cell_type": "code",
      "metadata": {
        "id": "jhytGDQx1YXB"
      },
      "source": [
        "class Person():\n",
        "    def __init__(self, name, age):\n",
        "        self.name = name\n",
        "        self.age = age"
      ],
      "execution_count": null,
      "outputs": []
    },
    {
      "cell_type": "markdown",
      "metadata": {
        "id": "dGUChF743ZH3"
      },
      "source": [
        "Создадим 2 экземпляра, соответствующих разным людям: "
      ]
    },
    {
      "cell_type": "code",
      "metadata": {
        "colab": {
          "base_uri": "https://localhost:8080/"
        },
        "id": "YR8A9Jh11YbZ",
        "outputId": "f43596f4-19cf-44e2-ee63-6fe0d9b63399"
      },
      "source": [
        "bob = Person('Bob', 23)\n",
        "alice = Person('Alice', 20)\n",
        "print(bob.name, alice.name)"
      ],
      "execution_count": null,
      "outputs": [
        {
          "output_type": "stream",
          "text": [
            "Bob Alice\n"
          ],
          "name": "stdout"
        }
      ]
    },
    {
      "cell_type": "markdown",
      "metadata": {
        "id": "6m6BxEk95dD5"
      },
      "source": [
        "Добавим *методы*"
      ]
    },
    {
      "cell_type": "code",
      "metadata": {
        "id": "M1rMG5du1Yfj"
      },
      "source": [
        "class Person():\n",
        "    def __init__(self, name, age):\n",
        "        self.name = name\n",
        "        self.age = age\n",
        "\n",
        "    def get_name(self):\n",
        "        return self.name\n",
        "\n",
        "    def set_name(self, name):\n",
        "        self.name = name"
      ],
      "execution_count": null,
      "outputs": []
    },
    {
      "cell_type": "code",
      "metadata": {
        "id": "1JRjjE785KB9"
      },
      "source": [
        "bob = Person('Bob', 23)"
      ],
      "execution_count": null,
      "outputs": []
    },
    {
      "cell_type": "code",
      "metadata": {
        "colab": {
          "base_uri": "https://localhost:8080/"
        },
        "id": "UWG4WAxc0Yk8",
        "outputId": "1594bae6-3eb2-418f-9d76-824dc7f75793"
      },
      "source": [
        "print(Person.get_name)"
      ],
      "execution_count": null,
      "outputs": [
        {
          "output_type": "stream",
          "text": [
            "<function Person.get_name at 0x7f73142ff440>\n"
          ],
          "name": "stdout"
        }
      ]
    },
    {
      "cell_type": "code",
      "metadata": {
        "colab": {
          "base_uri": "https://localhost:8080/"
        },
        "id": "YvlH3GAw414m",
        "outputId": "c76d19c7-f752-4c02-dd19-866c7999d965"
      },
      "source": [
        "print(Person.get_name(bob))"
      ],
      "execution_count": null,
      "outputs": [
        {
          "output_type": "stream",
          "text": [
            "Bob\n"
          ],
          "name": "stdout"
        }
      ]
    },
    {
      "cell_type": "code",
      "metadata": {
        "id": "7hX8qyie3qen"
      },
      "source": [
        "Person.set_name(bob, name = 'Serge')"
      ],
      "execution_count": null,
      "outputs": []
    },
    {
      "cell_type": "code",
      "metadata": {
        "colab": {
          "base_uri": "https://localhost:8080/"
        },
        "id": "CFUg4SV630Np",
        "outputId": "088b194c-d4d5-4aca-bacd-5856f0c860a1"
      },
      "source": [
        "print(bob.name)"
      ],
      "execution_count": null,
      "outputs": [
        {
          "output_type": "stream",
          "text": [
            "Serge\n"
          ],
          "name": "stdout"
        }
      ]
    },
    {
      "cell_type": "code",
      "metadata": {
        "colab": {
          "base_uri": "https://localhost:8080/"
        },
        "id": "oJWy1y5B5bXl",
        "outputId": "3ef60d8e-40af-4ac6-d403-104f44adcdde"
      },
      "source": [
        "print(Person.get_name(bob))"
      ],
      "execution_count": null,
      "outputs": [
        {
          "output_type": "stream",
          "text": [
            "Serge\n"
          ],
          "name": "stdout"
        }
      ]
    },
    {
      "cell_type": "code",
      "metadata": {
        "colab": {
          "base_uri": "https://localhost:8080/",
          "height": 163
        },
        "id": "ubR8GvAp0xuH",
        "outputId": "28d97377-4573-4456-93e2-a290d473ccc4"
      },
      "source": [
        "print(Person('Serge', 30).get_name(bob))"
      ],
      "execution_count": null,
      "outputs": [
        {
          "output_type": "error",
          "ename": "TypeError",
          "evalue": "ignored",
          "traceback": [
            "\u001b[0;31m---------------------------------------------------------------------------\u001b[0m",
            "\u001b[0;31mTypeError\u001b[0m                                 Traceback (most recent call last)",
            "\u001b[0;32m<ipython-input-18-e951b2060646>\u001b[0m in \u001b[0;36m<module>\u001b[0;34m()\u001b[0m\n\u001b[0;32m----> 1\u001b[0;31m \u001b[0mprint\u001b[0m\u001b[0;34m(\u001b[0m\u001b[0mPerson\u001b[0m\u001b[0;34m(\u001b[0m\u001b[0;34m'Serge'\u001b[0m\u001b[0;34m,\u001b[0m \u001b[0;36m30\u001b[0m\u001b[0;34m)\u001b[0m\u001b[0;34m.\u001b[0m\u001b[0mget_name\u001b[0m\u001b[0;34m(\u001b[0m\u001b[0mbob\u001b[0m\u001b[0;34m)\u001b[0m\u001b[0;34m)\u001b[0m\u001b[0;34m\u001b[0m\u001b[0;34m\u001b[0m\u001b[0m\n\u001b[0m",
            "\u001b[0;31mTypeError\u001b[0m: get_name() takes 1 positional argument but 2 were given"
          ]
        }
      ]
    },
    {
      "cell_type": "code",
      "metadata": {
        "colab": {
          "base_uri": "https://localhost:8080/"
        },
        "id": "x67cJ4it1dcB",
        "outputId": "2fb0fa06-9e06-4489-c3d7-cc187a847965"
      },
      "source": [
        "print(bob.get_name)"
      ],
      "execution_count": null,
      "outputs": [
        {
          "output_type": "stream",
          "text": [
            "<bound method Person.get_name of <__main__.Person object at 0x7f73142876d0>>\n"
          ],
          "name": "stdout"
        }
      ]
    },
    {
      "cell_type": "markdown",
      "metadata": {
        "id": "T_t-9WY7IwAl"
      },
      "source": [
        "Парадигма ООП держится на \"трех китах\" - наследовании, инкапсуляции и полиморфизме.\n",
        "\n",
        "Рассмотрим их более подробно."
      ]
    },
    {
      "cell_type": "markdown",
      "metadata": {
        "id": "xWRj5KMXIJyv"
      },
      "source": [
        "## Наследование\n",
        "\n",
        "Очень часто различные сущности, объекты, образуют логические иерархии от более общих понятий к более специфическим. Например, все живое на Земле можно поделить на 2 больших класса - растения и животные. Животные, в свою очередь, можно поделить на подклассы - насекомые, птицы, рептилии, млекопитающие. Млекопитающих можно поделить на травоядных и хищников, или еще по какому-нибудь другому признаку. Класс приматов состоит из подклассов человек, шимпанзе, горилла, и т.д.\n",
        "\n",
        "В программировании мы часто сталкиваемся с тем же - объекты образуют классы, классы делятся на подклассы и так далее. Наследование, как одно из главнейших свойств ООП, отражает эту особенность.\n",
        "\n",
        "Рассмотрим пример.\n",
        "\n",
        "У нас есть класс `Person`, описывающий наиболее общие свойства людей - имя и возраст.\n",
        "\n",
        "Предположим, нас интересуют не все люди, а сотрудники компании, для которых существенными свойствами являются должности и стаж работы. Можно создать класс `Employee` с нуля, со всеми нужными свойствами и методами. Однако наследование дает более удобный способ решения этой задачи. Вот как можно создать класс `Employee` используя наследование от ранее созданного класса `Person`:\n",
        "\n"
      ]
    },
    {
      "cell_type": "code",
      "metadata": {
        "id": "gexHZCVvLQ-P"
      },
      "source": [
        "class Employee(Person):\n",
        "    def __init__(self, name, age, position, experience):\n",
        "        self.name = name\n",
        "        self.age = age\n",
        "        self.position = position\n",
        "        self.experience = experience\n",
        "\n",
        "    def get_position(self):\n",
        "        return self.position\n",
        "\n",
        "    def get_experience(self):\n",
        "        return self.experience"
      ],
      "execution_count": null,
      "outputs": []
    },
    {
      "cell_type": "markdown",
      "metadata": {
        "id": "tiAGwcl5rapr"
      },
      "source": [
        "В данном примере класс `Person` является *родительским* по отношению к своему *дочернему* классу `Employee`\n",
        "\n",
        "Класс `Employee` *наследует* свойства и методы родительского класса. Поэтому нет необходимости по-новому определять методы `get_name()` и `get_age()`:"
      ]
    },
    {
      "cell_type": "code",
      "metadata": {
        "colab": {
          "base_uri": "https://localhost:8080/"
        },
        "id": "BEtRH69KLRJ9",
        "outputId": "06cf4275-e89f-4722-82ee-85523492a9d6"
      },
      "source": [
        "ceo = Employee('Musk', 47, 'CEO', 13)\n",
        "print(ceo.get_name(), ceo.get_position())"
      ],
      "execution_count": null,
      "outputs": [
        {
          "output_type": "stream",
          "text": [
            "Musk CEO\n"
          ],
          "name": "stdout"
        }
      ]
    },
    {
      "cell_type": "markdown",
      "metadata": {
        "id": "BbuP7tyPs4hG"
      },
      "source": [
        "Можно усовершенствовать конструктор класса `Employee`, добавив метод инициализации родительского класса:"
      ]
    },
    {
      "cell_type": "code",
      "metadata": {
        "id": "_8uXpMyiLRTe"
      },
      "source": [
        "class Employee(Person):\n",
        "    def __init__(self, name, age, position, experience):\n",
        "        super(Employee, self).__init__(name, age)\n",
        "        self.position = position\n",
        "        self.experience = experience\n",
        "\n",
        "    def get_position(self):\n",
        "        return self.position\n",
        "\n",
        "    def get_experience(self):\n",
        "        return self.experience"
      ],
      "execution_count": null,
      "outputs": []
    },
    {
      "cell_type": "markdown",
      "metadata": {
        "id": "ozRkTuO8tjZ-"
      },
      "source": [
        "`super` - ключевое слово для обращения к родительскому классу. В качестве параметра передается имя дочернего класса (`Employee`) и ссылка на экземпляр (`self`). Тут есть некоторая избыточность, присущая языку Python. В большинстве ООП-языков это не требуется. Впрочем, в Python также возможно сокращенный вариант обращения к родительскому классу."
      ]
    },
    {
      "cell_type": "code",
      "metadata": {
        "colab": {
          "base_uri": "https://localhost:8080/"
        },
        "id": "Gd1nUMK_u22n",
        "outputId": "a8042b0e-c193-4f0f-f7f8-0fefe82ce9e2"
      },
      "source": [
        "class Employee(Person):\n",
        "    def __init__(self, name, age, position, experience):\n",
        "        super().__init__(name, age) # сокращенный вариант\n",
        "        print(super(), self)\n",
        "        self.position = position\n",
        "        self.experience = experience\n",
        "\n",
        "    def get_position(self):\n",
        "        return self.position\n",
        "\n",
        "    def get_experience(self):\n",
        "        return self.experience\n",
        "\n",
        "ceo = Employee('Musk', 47, 'CEO', '13')\n"
      ],
      "execution_count": null,
      "outputs": [
        {
          "output_type": "stream",
          "text": [
            "<super: <class 'Employee'>, <Employee object>> <__main__.Employee object at 0x7f7314283ad0>\n"
          ],
          "name": "stdout"
        }
      ]
    },
    {
      "cell_type": "markdown",
      "metadata": {
        "id": "fHnhJckrvPGQ"
      },
      "source": [
        "Встроенная функция `super()` в контексте класса возвращает ссылку на сам объект, рассматриваемый как экземпляр родительского класса. Разумеется, с ее помощью можно обратиться не только к конструктору родительского класса, но и к любому его методу и свойству."
      ]
    },
    {
      "cell_type": "markdown",
      "metadata": {
        "id": "XIlAu0Cgv-Yd"
      },
      "source": [
        "Важное свойство наследования - возможность переопределения родительских свойств и методов в дочернем классе."
      ]
    },
    {
      "cell_type": "code",
      "metadata": {
        "colab": {
          "base_uri": "https://localhost:8080/"
        },
        "id": "ryYrDpG_u3CD",
        "outputId": "b1586d69-eb75-48a9-e00a-158d3d58bafb"
      },
      "source": [
        "class Employee(Person):\n",
        "    def __init__(self, name, age, position, experience):\n",
        "        super(Employee, self).__init__(name, age)\n",
        "        self.position = position\n",
        "        self.experience = experience\n",
        "\n",
        "    def get_name(self): # переопределение родительского метода\n",
        "        return self.name.upper()\n",
        "\n",
        "    def get_position(self):\n",
        "        return self.position\n",
        "\n",
        "    def get_experience(self):\n",
        "        return self.experience\n",
        "\n",
        "ceo = Employee('Musk', 47, 'CEO', '13')\n",
        "print(ceo.get_name())"
      ],
      "execution_count": null,
      "outputs": [
        {
          "output_type": "stream",
          "text": [
            "MUSK\n"
          ],
          "name": "stdout"
        }
      ]
    },
    {
      "cell_type": "markdown",
      "metadata": {
        "id": "HmLMYel5-qpk"
      },
      "source": [
        "## Инкапсуляция\n",
        "\n",
        "Под инкапсуляцией в ООП понимается сокрытие деталей реализации класса от доступа извне класса. Объект рассматривается как \"черный ящик\", доступны лишь публичные методы и свойства. Такое ограничение делает программы более понятными и упрощает поиск ошибок и отлаживание.\n",
        "\n",
        "В развитых ООП-языках существует 3 градации доступности свойств и методов:\n",
        "1.   Private - свойство/метод доступно только внутри тела самого класса\n",
        "2.   Protected - свойство и метод доступно только внутри класса и всех его потомков\n",
        "3.   Public - свойство/метод доступно извне.\n",
        "\n",
        "В Python нет такого явного разделения с помощью языковых конструкций и все свойства и методы являются Public. Но поскольку защита доступа извне востребована, существуют некие соглашения.\n",
        "А именно, если метод или свойство начинается с одиночного подчеркивания, например `_name`, то он считается Protected. Обращение извне класса возможно, но считается моветоном.\n",
        "Переменные типа Private обозначаются именами, начинающимися с двойного подчеркивания, например `__age`.\n"
      ]
    },
    {
      "cell_type": "code",
      "metadata": {
        "id": "OjvEhxf1xual"
      },
      "source": [
        "class Person():\n",
        "    def __init__(self, name, age):\n",
        "        self._name = name  # делаем свойство условно \"защищенным\"\n",
        "        self._age = age\n",
        "\n",
        "    def get_name(self):\n",
        "        return self._name\n",
        "\n",
        "    def _set_name(self, name): # делаем метод условно \"защищенным\"\n",
        "        self._name = name"
      ],
      "execution_count": null,
      "outputs": []
    },
    {
      "cell_type": "code",
      "metadata": {
        "colab": {
          "base_uri": "https://localhost:8080/"
        },
        "id": "VjSUZAYE4K-g",
        "outputId": "b6afa779-3a62-4821-82f4-30c5ff829b82"
      },
      "source": [
        "bob = Person('Bob', 30)\n",
        "print(bob._name) # это работает, но является нарушением соглашения\n",
        "bob._set_name('Robert') # это работает, но является нарушением соглашения\n",
        "print(bob._name)"
      ],
      "execution_count": null,
      "outputs": [
        {
          "output_type": "stream",
          "text": [
            "Bob\n",
            "Robert\n"
          ],
          "name": "stdout"
        }
      ]
    },
    {
      "cell_type": "markdown",
      "metadata": {
        "id": "GNsSAZmh6iPJ"
      },
      "source": [
        "Поведение переменных с использованием `__` несколько отличается:"
      ]
    },
    {
      "cell_type": "code",
      "metadata": {
        "id": "uLYzQRY-5Wg-"
      },
      "source": [
        "class Person():\n",
        "    def __init__(self, name, age):\n",
        "        self.__name = name  # делаем свойство условно \"приватным\"\n",
        "        self.__age = age\n",
        "\n",
        "    def get_name(self):\n",
        "        return self.__name\n",
        "\n",
        "    def __set_name(self, name): # делаем метод условно \"приватным\"\n",
        "        self.__name = name"
      ],
      "execution_count": null,
      "outputs": []
    },
    {
      "cell_type": "code",
      "metadata": {
        "colab": {
          "base_uri": "https://localhost:8080/"
        },
        "id": "oiZjvW4z5f4y",
        "outputId": "c73b3405-3741-4503-82d5-42c5d90faeca"
      },
      "source": [
        "bob = Person('Bob', 30)\n",
        "# print(bob.__name) # это НЕ работает, будет ошибка\n",
        "print(bob._Person__name) # Тем не менее таким способом можно достать \"приватное\" свойство."
      ],
      "execution_count": null,
      "outputs": [
        {
          "output_type": "stream",
          "text": [
            "Bob\n"
          ],
          "name": "stdout"
        }
      ]
    },
    {
      "cell_type": "markdown",
      "metadata": {
        "id": "C0jgfg5x7nwt"
      },
      "source": [
        "Полноценной инкапсуляции в Python нет."
      ]
    },
    {
      "cell_type": "markdown",
      "metadata": {
        "id": "weCLbsKQxk01"
      },
      "source": [
        "## Полиморфизм\n",
        "\n",
        "Полиморфизм в объектно-ориентированном программировании – это возможность обработки разных типов данных, т. е. принадлежащих к разным классам, с помощью \"одной и той же\" функции, или метода. На самом деле одинаковым является только имя метода, его исходный код зависит от класса. Кроме того, результаты работы одноименных методов могут существенно различаться. Поэтому в данном контексте под полиморфизмом понимается множество форм одного и того же слова – имени метода.\n",
        "\n",
        "Например, два разных класса содержат метод total, однако инструкции каждого предусматривают совершенно разные операции. Так в классе T1 – это прибавление 10 к аргументу, в T2 – подсчет длины строки символов. В зависимости от того, к объекту какого класса применяется метод total, выполняются те или иные инструкции."
      ]
    },
    {
      "cell_type": "code",
      "metadata": {
        "colab": {
          "base_uri": "https://localhost:8080/"
        },
        "id": "n7zHBeM1Auev",
        "outputId": "e7f0aab5-5c4d-437d-ebfa-8afebce9db8e"
      },
      "source": [
        "class T1:\n",
        "    def __init__(self):\n",
        "        self.n = 10\n",
        "\n",
        "    def total(self, a):\n",
        "        return self.n + int(a)\n",
        "\n",
        "\n",
        "class T2:\n",
        "    def __init__(self):\n",
        "        self.string = 'Hi'\n",
        "\n",
        "    def total(self, a):\n",
        "        return len(self.string + str(a))\n",
        "\n",
        "\n",
        "t1 = T1()\n",
        "t2 = T2()\n",
        "\n",
        "print(t1.total(35))  # Вывод: 45\n",
        "print(t2.total(35))  # Вывод: 4"
      ],
      "execution_count": null,
      "outputs": [
        {
          "output_type": "stream",
          "text": [
            "45\n",
            "4\n"
          ],
          "name": "stdout"
        }
      ]
    },
    {
      "cell_type": "markdown",
      "metadata": {
        "id": "p5LQGbCRBl0U"
      },
      "source": [
        "Полиморфизм дает возможность реализовывать так называемые единые интерфейсы для объектов различных классов. Например, разные классы могут предусматривать различный способ вывода той или иной информации объектов. Однако одинаковое название метода вывода позволит не запутать программу, сделать код более ясным.\n",
        "\n",
        "Еще одно понимание полиморфизма - это когда один и тот же оператор может использоваться с различными типами данных и результат зависит от типа данных. Классический пример - оператор сложения `+` для числовых типов означает сложение, а для строк - конкатенацию."
      ]
    },
    {
      "cell_type": "markdown",
      "metadata": {
        "id": "rrXEM5Ei_G59"
      },
      "source": [
        "## Магические методы\n",
        "\n",
        "\"Магическими\" называются методы, не предназначенные для явного вызова, но выполняющие некоторые действия. Имена магических методов обрамлены по краям двойными подчеркиванями.\n",
        "\n",
        "Нам уже известен один магический метод - `__init__()` - инициализатор класса.\n",
        "\n",
        "Всякий раз, когда мы создаем новый объект путем вызова конструктора, например \n",
        "```\n",
        "bob = Person('Bob', 30)\n",
        "```\n",
        "\n",
        "на самом деле неявно вызывается магический метод \n",
        "\n",
        "```\n",
        "__init__('Bob', 30)\n",
        "``` \n",
        "\n",
        "Но надо иметь в виду, что этот метод не возвращает объект, так что его не совсем корректно называть конструктором класса.\n",
        "\n",
        "Python имеет десятки магических методов. Рассмотрим лишь малую часть.\n",
        "\n",
        "```\n",
        "__str__(self)\n",
        "```\n",
        "Этот метод должен возвращать строку, которую будет печатать встроенная функция print:\n",
        "\n",
        "\n",
        "\n"
      ]
    },
    {
      "cell_type": "code",
      "metadata": {
        "id": "orvqIg9c1Yna",
        "colab": {
          "base_uri": "https://localhost:8080/"
        },
        "outputId": "7c8240a8-d3c6-44cd-82ca-b73435d19b77"
      },
      "source": [
        "class Person():\n",
        "    def __init__(self, name, age):\n",
        "        self.name = name  # делаем свойство условно \"приватным\"\n",
        "        self.age = age\n",
        "\n",
        "bob = Person('Bob', 30)\n",
        "print(bob)"
      ],
      "execution_count": null,
      "outputs": [
        {
          "output_type": "stream",
          "text": [
            "<__main__.Person object at 0x7f7314230110>\n"
          ],
          "name": "stdout"
        }
      ]
    },
    {
      "cell_type": "markdown",
      "metadata": {
        "id": "a-VU6-a-m_56"
      },
      "source": [
        "Реализуем магический метод `__str__()` в нашем классе:"
      ]
    },
    {
      "cell_type": "code",
      "metadata": {
        "id": "zBSU0ojk1YrN",
        "colab": {
          "base_uri": "https://localhost:8080/"
        },
        "outputId": "a72364d8-7a5c-4b0b-939d-6abf6da66383"
      },
      "source": [
        "class Person():\n",
        "    def __init__(self, name, age):\n",
        "        self.name = name  # делаем свойство условно \"приватным\"\n",
        "        self.age = age\n",
        "\n",
        "    def __str__(self):\n",
        "        return f'Person Name={self.name} age={self.age}'\n",
        "\n",
        "bob = Person('Bob', 30)\n",
        "print(bob)"
      ],
      "execution_count": null,
      "outputs": [
        {
          "output_type": "stream",
          "text": [
            "Person Name=Bob age=30\n"
          ],
          "name": "stdout"
        }
      ]
    },
    {
      "cell_type": "markdown",
      "metadata": {
        "id": "nYE4pMq0B0Vn"
      },
      "source": [
        "Реализовав магический метод `__str__` мы переопределили дефолтное поведение функции печати объекта\n",
        "\n",
        "Реализация в классе собственного метода `__str__` - пример полиморфизма, одна и та же функция `print` применима к разным классам (полиморфна) и может выдавать результаты в зависимости от конкретного класса."
      ]
    },
    {
      "cell_type": "markdown",
      "metadata": {
        "id": "uaPoxFpBntyM"
      },
      "source": [
        "Еще один важный магический метод - `__call__`. Если реализовать в классе этот метод, то объект становится *callable*, его можно вызывать как функцию. У этого метода может быть произвольное число и тип агрументов."
      ]
    },
    {
      "cell_type": "code",
      "metadata": {
        "colab": {
          "base_uri": "https://localhost:8080/"
        },
        "id": "WgdzSS76qAAH",
        "outputId": "0e0f4294-3a9e-4b42-bed4-6762c07bf234"
      },
      "source": [
        "class Person():\n",
        "    def __init__(self, name, age):\n",
        "        self.name = name  # делаем свойство условно \"приватным\"\n",
        "        self.age = age\n",
        "\n",
        "    def __call__(self, info):\n",
        "        print(f'Person Name={self.name} Info={info}')\n",
        "\n",
        "bob = Person('Bob', 30)\n",
        "bob('Some info')"
      ],
      "execution_count": null,
      "outputs": [
        {
          "output_type": "stream",
          "text": [
            "Person Name=Bob Info=Some info\n"
          ],
          "name": "stdout"
        }
      ]
    },
    {
      "cell_type": "markdown",
      "metadata": {
        "id": "Qp6xwTj8qrbI"
      },
      "source": [
        "Многие классы Keras, такие как `Model`, `Layer` являются объектами, которые можно вызывать как функции\n",
        "\n",
        "```\n",
        "out = layers.Dense(128, activation='relu')(x)\n",
        "```\n",
        "Здесь `Dense(128, activation='relu')` - объект, полносвязной слой нейронной сети, вызываемый как функция. На самом деле происходит вызов магического метода `__call__`:\n",
        "\n",
        "```\n",
        "out = layers.Dense(128, activation='relu').__call__(x)\n",
        "```\n"
      ]
    }
  ]
}
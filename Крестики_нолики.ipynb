{
  "nbformat": 4,
  "nbformat_minor": 0,
  "metadata": {
    "colab": {
      "name": "Крестики-нолики",
      "provenance": [],
      "collapsed_sections": [],
      "include_colab_link": true
    },
    "kernelspec": {
      "name": "python3",
      "display_name": "Python 3"
    },
    "language_info": {
      "name": "python"
    }
  },
  "cells": [
    {
      "cell_type": "markdown",
      "metadata": {
        "id": "view-in-github",
        "colab_type": "text"
      },
      "source": [
        "<a href=\"https://colab.research.google.com/github/vadim-privalov/Neiroset_Novosibirsk/blob/main/%D0%9A%D1%80%D0%B5%D1%81%D1%82%D0%B8%D0%BA%D0%B8_%D0%BD%D0%BE%D0%BB%D0%B8%D0%BA%D0%B8.ipynb\" target=\"_parent\"><img src=\"https://colab.research.google.com/assets/colab-badge.svg\" alt=\"Open In Colab\"/></a>"
      ]
    },
    {
      "cell_type": "markdown",
      "metadata": {
        "id": "xxwsKUcIenzf"
      },
      "source": [
        "# Крестики-нолики\n",
        "\n",
        "# Tic-tac-toe\n"
      ]
    },
    {
      "cell_type": "markdown",
      "metadata": {
        "id": "PEEI2ttcCnKs"
      },
      "source": [
        "В этом уроке мы научимся распознавать и отличать все элементы, которые находятся на поле игры крестики-нолики\n",
        "\n",
        "In this lesson we will learn to recognize and distinguish all the elements that are on the field of tic-tac-toe"
      ]
    },
    {
      "cell_type": "markdown",
      "metadata": {
        "id": "JfL8YTSech7c"
      },
      "source": [
        "Думаю, правила игры вам не стоит объяснять, а вот несколько новых понятий объяснить все же стоит. \n",
        "\n",
        "\n",
        "I don't think you need to explain the rules of the game, but a few new concepts are worth explaining. "
      ]
    },
    {
      "cell_type": "markdown",
      "metadata": {
        "id": "3e1CH8YAlHSB"
      },
      "source": [
        "\n",
        "> **Соотношение сторон** - это отношение ширины изображения к высоте изображения\n",
        "\n",
        "> **Aspect ratio** is the ratio of the image width to the image height\n",
        "\n",
        "Фактическое определение соотношения сторон контура   выглядит следующим образом:\n",
        "\n",
        "The actual definition of the outline aspect ratio is as follows:\n",
        "\n",
        "**`соотношение сторон = ширина изображения / высота изображения`**\n",
        "\n",
        "\n",
        "\n",
        "\n",
        "\n",
        "\n",
        "**`Aspect ratio = image width / image height`**\n",
        "\n",
        "\n",
        "\n"
      ]
    },
    {
      "cell_type": "markdown",
      "metadata": {
        "id": "8ydy8vD6lbdt"
      },
      "source": [
        "> **Выпуклый корпус** - это наименьшее возможное выпуклое множество, которое содержит все точки.\n",
        "\n",
        "> **The convex hull** is the smallest possible convex set that contains all points.\n",
        "\n",
        "Выпуклый корпус похож на математическую резинку.\n",
        "\n",
        "\n",
        "\n",
        "A convex hull is like a mathematical rubber band.\n"
      ]
    },
    {
      "cell_type": "markdown",
      "metadata": {
        "id": "ekVMb7wxl6KJ"
      },
      "source": [
        ">**Заполненность** - это площадь контура, разделенная на площадь выпуклой оболочки:\n",
        "\n",
        ">**Solidity** is the contour area divided by the convex hull area:\n",
        "\n",
        "**`Заполненность = площадь контура / площадь выпуклости корпуса`**\n",
        "\n",
        "**`Solidity = contour area / convex hull area`**\n",
        "\n",
        "Невозможно иметь значение заполненности больше 1\n",
        "\n",
        "\n",
        "\n",
        "\n",
        "\n",
        "It is not possible to have a solidity value greater than 1"
      ]
    },
    {
      "cell_type": "code",
      "metadata": {
        "id": "09YKsDZV5u-M",
        "colab": {
          "base_uri": "https://localhost:8080/"
        },
        "outputId": "35109b52-0861-4f4f-da5d-42179a1b782a"
      },
      "source": [
        "!wget http://dataudt.ru/datasets/cv/Lesson_27.Tictactoe.zip\n",
        "!unzip Lesson_27.Tictactoe.zip\n",
        "%cd /content/Lesson_27.Tictactoe"
      ],
      "execution_count": 1,
      "outputs": [
        {
          "output_type": "stream",
          "name": "stdout",
          "text": [
            "--2022-02-03 18:56:34--  http://dataudt.ru/datasets/cv/Lesson_27.Tictactoe.zip\n",
            "Resolving dataudt.ru (dataudt.ru)... 37.228.117.130\n",
            "Connecting to dataudt.ru (dataudt.ru)|37.228.117.130|:80... connected.\n",
            "HTTP request sent, awaiting response... 200 OK\n",
            "Length: 8443 (8.2K) [application/zip]\n",
            "Saving to: ‘Lesson_27.Tictactoe.zip’\n",
            "\n",
            "Lesson_27.Tictactoe 100%[===================>]   8.25K  --.-KB/s    in 0s      \n",
            "\n",
            "2022-02-03 18:56:34 (155 MB/s) - ‘Lesson_27.Tictactoe.zip’ saved [8443/8443]\n",
            "\n",
            "Archive:  Lesson_27.Tictactoe.zip\n",
            "  inflating: Lesson_27.Tictactoe/tictactoe.png  \n",
            "  inflating: Lesson_27.Tictactoe/Tictactoe.py  \n",
            "/content/Lesson_27.Tictactoe\n"
          ]
        }
      ]
    },
    {
      "cell_type": "code",
      "metadata": {
        "id": "7G39h_-k5gQp"
      },
      "source": [
        "# импортируем необходимые модули\n",
        "# import the necessary packages\n",
        "import cv2\n",
        "import imutils\n",
        "from google.colab.patches import cv2_imshow"
      ],
      "execution_count": 2,
      "outputs": []
    },
    {
      "cell_type": "code",
      "metadata": {
        "id": "LP4X7_EJ5y-J"
      },
      "source": [
        "# создаем отдельный словарь с аргументами \n",
        "# create a separate dictionary with arguments \n",
        "args = {\n",
        "# путь к входному изображению \n",
        "# the path to the input image\n",
        "'image':\"tictactoe.png\", \n",
        "}"
      ],
      "execution_count": 3,
      "outputs": []
    },
    {
      "cell_type": "code",
      "metadata": {
        "id": "OEcRI_qu6BV3"
      },
      "source": [
        "# загружаем изображение игры крестики-нолики\n",
        "# и конвертируем его в градации серого\n",
        "# load the tic-tac-toe image and convert it to grayscale\n",
        "image = cv2.imread(args['image'])\n",
        "gray = cv2.cvtColor(image, cv2.COLOR_BGR2GRAY)\n",
        "\n",
        "# находим все контуры на рисунке крестики-нолики\n",
        "# find all contours on the tic-tac-toe board\n",
        "cnts = cv2.findContours(gray.copy(), cv2.RETR_EXTERNAL, cv2.CHAIN_APPROX_SIMPLE)\n",
        "cnts = imutils.grab_contours(cnts)\n"
      ],
      "execution_count": 4,
      "outputs": []
    },
    {
      "cell_type": "code",
      "metadata": {
        "id": "C5yUCm7B5OYB",
        "colab": {
          "base_uri": "https://localhost:8080/",
          "height": 656
        },
        "outputId": "76da7af6-350f-4036-93f6-01ea6f0aef05"
      },
      "source": [
        "# перебираем контуры\n",
        "# loop over the contours\n",
        "for (i, c) in enumerate(cnts):\n",
        "\t# вычисляем площадь контура вместе с ограничивающей рамкой\n",
        "    # для вычисления соотношения сторон\n",
        "    # compute the area of the contour along with the bounding box\n",
        "\t# to compute the aspect ratio\n",
        "\tarea = cv2.contourArea(c)\n",
        "\t(x, y, w, h) = cv2.boundingRect(c)\n",
        "\n",
        "\t# вычисляем выпуклую оболочку контура, затем используем \n",
        "    # площадь исходного контура и площадь выпуклой оболочки\n",
        "    # для вычисления заполненности\n",
        "    # compute the convex hull of the contour, then use the area of the\n",
        "\t# original contour and the area of the convex hull to compute the\n",
        "\t# solidity\n",
        "\thull = cv2.convexHull(c)\n",
        "\thullArea = cv2.contourArea(hull)\n",
        "\tsolidity = area / float(hullArea)\n",
        "\n",
        "\t# инициализируем текстовый символ\n",
        "    # initialize the character text\n",
        "\tchar = \"?\"\n",
        "\n",
        "\t# если заполненность высокая, то мы рассматриваем `O`\n",
        "    # if the solidity is high, then we are examining an `O`\n",
        "\tif solidity > 0.9:\n",
        "\t\tchar = \"O\"\n",
        "\n",
        "    # в противном случае, если заполненность \n",
        "    # все еще достаточно высока, мы исследуем `X`\n",
        "    # otherwise, if the solidity it still reasonable high, we\n",
        "\t# are examining an `X`\n",
        "\telif solidity > 0.5:\n",
        "\t\tchar = \"X\"\n",
        "\n",
        "    # если символ не неизвестен, нарисуем его\n",
        "    # if the character is not unknown, draw it\n",
        "\tif char != \"?\":\n",
        "\t\tcv2.drawContours(image, [c], -1, (0, 255, 0), 3)\n",
        "\t\tcv2.putText(image, char, (x, y - 10), cv2.FONT_HERSHEY_SIMPLEX, 1.25,\n",
        "\t\t\t(0, 255, 0), 4)\n",
        "\n",
        "    # отобразим характеристики контура\n",
        "    # show the contour properties\n",
        "\tprint(\"{} (Contour #{}) -- solidity={:.2f}\".format(char, i + 1, solidity))\n",
        "\n",
        "# покажем выходное изображение\n",
        "# show the output image\n",
        "print(\"Output\") \n",
        "cv2_imshow(image)\n"
      ],
      "execution_count": 5,
      "outputs": [
        {
          "output_type": "stream",
          "name": "stdout",
          "text": [
            "X (Contour #1) -- solidity=0.56\n",
            "O (Contour #2) -- solidity=0.99\n",
            "O (Contour #3) -- solidity=0.99\n",
            "X (Contour #4) -- solidity=0.56\n",
            "X (Contour #5) -- solidity=0.56\n",
            "O (Contour #6) -- solidity=0.99\n",
            "? (Contour #7) -- solidity=0.30\n",
            "Output\n"
          ]
        },
        {
          "output_type": "display_data",
          "data": {
            "image/png": "[encoded data removed]",
            "text/plain": [
              "<PIL.Image.Image image mode=RGB size=500x500 at 0x7FAEB77EE150>"
            ]
          },
          "metadata": {}
        }
      ]
    }
  ]
}
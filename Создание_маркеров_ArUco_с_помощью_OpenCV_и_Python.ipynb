{
  "nbformat": 4,
  "nbformat_minor": 0,
  "metadata": {
    "colab": {
      "name": "Создание маркеров ArUco с помощью OpenCV и Python",
      "provenance": [],
      "collapsed_sections": [],
      "include_colab_link": true
    },
    "kernelspec": {
      "name": "python3",
      "display_name": "Python 3"
    }
  },
  "cells": [
    {
      "cell_type": "markdown",
      "metadata": {
        "id": "view-in-github",
        "colab_type": "text"
      },
      "source": [
        "<a href=\"https://colab.research.google.com/github/vadim-privalov/Neiroset_Novosibirsk/blob/main/%D0%A1%D0%BE%D0%B7%D0%B4%D0%B0%D0%BD%D0%B8%D0%B5_%D0%BC%D0%B0%D1%80%D0%BA%D0%B5%D1%80%D0%BE%D0%B2_ArUco_%D1%81_%D0%BF%D0%BE%D0%BC%D0%BE%D1%89%D1%8C%D1%8E_OpenCV_%D0%B8_Python.ipynb\" target=\"_parent\"><img src=\"https://colab.research.google.com/assets/colab-badge.svg\" alt=\"Open In Colab\"/></a>"
      ]
    },
    {
      "cell_type": "markdown",
      "metadata": {
        "id": "gdrieSnyPtez"
      },
      "source": [
        "<h1 style=\"text-align: center;\"><b>Создание маркеров ArUco с помощью OpenCV и Python</b></h1>"
      ]
    },
    {
      "cell_type": "markdown",
      "metadata": {
        "id": "CTHVnVck9trA"
      },
      "source": [
        "<h1 style = \"text-align: center;\"> <b> Generating ArUco markers with OpenCV and Python </b> </h1>"
      ]
    },
    {
      "cell_type": "markdown",
      "metadata": {
        "id": "cCDhTrPpPv6h"
      },
      "source": [
        "В этом уроке вы узнаете, как создавать маркеры ArUco с помощью OpenCV и Python.\n",
        "\n",
        "In this tutorial, you will learn how to create ArUco markers using OpenCV and Python."
      ]
    },
    {
      "cell_type": "markdown",
      "metadata": {
        "id": "QLwsxlDvPyDF"
      },
      "source": [
        "Маркеры ArUco - это двухмерные двоичные шаблоны, которые алгоритмы компьютерного зрения могут легко обнаружить.\n",
        "\n",
        "ArUco markers are 2D binary patterns that computer vision algorithms can easily detect.\n",
        "\n",
        "Обычно мы используем маркеры  ArUco для:\n",
        "\n",
        "We usually use ArUco markers for:\n",
        "\n",
        "* Калибровки камеры.  Camera calibration.\n",
        "* Оценки размера объекта. Estimated object size.\n",
        "* Измерения расстояния между камерой и объектом. Measure the distance between camera and object.\n",
        "* 3D расположения. 3D layouts.\n",
        "* Ориентации объекта. Object orientation.\n",
        "* Робототехники и автономной навигации. Robotics and autonomous navigation.\n",
        "\n",
        "\n",
        "\n",
        "\n",
        "\n",
        "\n"
      ]
    },
    {
      "cell_type": "markdown",
      "metadata": {
        "id": "cZk5ZGg3cn6l"
      },
      "source": [
        "### Загрузите zip-файл с кодом"
      ]
    },
    {
      "cell_type": "markdown",
      "metadata": {
        "id": "uX9B9dPlJO9k"
      },
      "source": [
        "### Download the code zip file"
      ]
    },
    {
      "cell_type": "code",
      "metadata": {
        "id": "dwa3GuDLIZA3",
        "colab": {
          "base_uri": "https://localhost:8080/"
        },
        "outputId": "db6d0fc0-c520-48d6-9b52-5657ab25793b"
      },
      "source": [
        "!wget http://dataudt.ru/datasets/cv/Lesson_4.Generating_ArUco_markers.zip\n",
        "!unzip Lesson_4.Generating_ArUco_markers.zip"
      ],
      "execution_count": 1,
      "outputs": [
        {
          "output_type": "stream",
          "name": "stdout",
          "text": [
            "--2022-02-11 06:41:40--  http://dataudt.ru/datasets/cv/Lesson_4.Generating_ArUco_markers.zip\n",
            "Resolving dataudt.ru (dataudt.ru)... 37.228.117.130\n",
            "Connecting to dataudt.ru (dataudt.ru)|37.228.117.130|:80... connected.\n",
            "HTTP request sent, awaiting response... 200 OK\n",
            "Length: 4383 (4.3K) [application/zip]\n",
            "Saving to: ‘Lesson_4.Generating_ArUco_markers.zip’\n",
            "\n",
            "Lesson_4.Generating 100%[===================>]   4.28K  --.-KB/s    in 0s      \n",
            "\n",
            "2022-02-11 06:41:41 (472 MB/s) - ‘Lesson_4.Generating_ArUco_markers.zip’ saved [4383/4383]\n",
            "\n",
            "Archive:  Lesson_4.Generating_ArUco_markers.zip\n",
            "   creating: Lesson_4.Generating_ArUco_markers/opencv-generate-aruco/\n",
            "  inflating: Lesson_4.Generating_ArUco_markers/opencv-generate-aruco/opencv_generate_aruco.py  \n",
            "   creating: Lesson_4.Generating_ArUco_markers/opencv-generate-aruco/tags/\n",
            "  inflating: Lesson_4.Generating_ArUco_markers/opencv-generate-aruco/tags/DICT_5X5_100_id24.png  \n",
            "  inflating: Lesson_4.Generating_ArUco_markers/opencv-generate-aruco/tags/DICT_5X5_100_id42.png  \n",
            "  inflating: Lesson_4.Generating_ArUco_markers/opencv-generate-aruco/tags/DICT_5X5_100_id66.png  \n",
            "  inflating: Lesson_4.Generating_ArUco_markers/opencv-generate-aruco/tags/DICT_5X5_100_id70.png  \n",
            "  inflating: Lesson_4.Generating_ArUco_markers/opencv-generate-aruco/tags/DICT_5X5_100_id87.png  \n"
          ]
        }
      ]
    },
    {
      "cell_type": "markdown",
      "metadata": {
        "id": "E4hDNAD5cr5o"
      },
      "source": [
        "### Импорт пакетов"
      ]
    },
    {
      "cell_type": "markdown",
      "metadata": {
        "id": "PAxelcDxJjie"
      },
      "source": [
        "### Import Packages"
      ]
    },
    {
      "cell_type": "code",
      "metadata": {
        "id": "FkyV3l7NJbfE"
      },
      "source": [
        "# импортируем необходимые библиотеки\n",
        "# import the necessary packages\n",
        "import matplotlib.pyplot as plt\n",
        "import numpy as np\n",
        "import argparse\n",
        "import cv2\n",
        "import sys"
      ],
      "execution_count": 2,
      "outputs": []
    },
    {
      "cell_type": "markdown",
      "metadata": {
        "id": "FAGWaJuqc8Dg"
      },
      "source": [
        "### Функция для отображения изображений в Jupyter Notebooks и Google Colab"
      ]
    },
    {
      "cell_type": "markdown",
      "metadata": {
        "id": "rUEQ4cboJrZh"
      },
      "source": [
        "### Function to display images in Jupyter Notebooks and Google Colab"
      ]
    },
    {
      "cell_type": "code",
      "metadata": {
        "id": "HRCKkoEdJoww"
      },
      "source": [
        "def plt_imshow(title, image):\n",
        "    # конвертируем изображение из формата BGR в RGB и отображаем его \n",
        "    # convert the image frame BGR to RGB color space and display it\n",
        "\timage = cv2.cvtColor(image, cv2.COLOR_BGR2RGB)\n",
        "\tplt.imshow(image)\n",
        "\tplt.title(title)\n",
        "\tplt.grid(False)\n",
        "\tplt.show()"
      ],
      "execution_count": 3,
      "outputs": []
    },
    {
      "cell_type": "markdown",
      "metadata": {
        "id": "13LrpOeSdBQQ"
      },
      "source": [
        "### Реализация нашего скрипта генерации маркеров ArUco с OpenCV и Python"
      ]
    },
    {
      "cell_type": "markdown",
      "metadata": {
        "id": "lzxxUUFNKNFv"
      },
      "source": [
        "### Implementing our ArUco marker generation script with OpenCV and Python"
      ]
    },
    {
      "cell_type": "code",
      "metadata": {
        "id": "i02kLEQ8JzGA"
      },
      "source": [
        "# указываем аргументы и значения\n",
        "# возьмем номер словаря и его тип\n",
        "# specify arguments and values\n",
        "# take the dictionary number and its type\n",
        "args = {\n",
        "\t\"output\": \"tags/DICT_5X5_100_id24.png\",\n",
        "    \"id\": 29,\n",
        "    \"type\": \"DICT_ARUCO_ORIGINAL\",\n",
        "}"
      ],
      "execution_count": 4,
      "outputs": []
    },
    {
      "cell_type": "code",
      "metadata": {
        "id": "zotC5od9Kn3e"
      },
      "source": [
        "# определяем имена для каждого возможного тега ArUco, поддерживаемого OpenCV\n",
        "# define names of each possible ArUco tag OpenCV supports\n",
        "ARUCO_DICT = {\n",
        "\t\"DICT_4X4_50\": cv2.aruco.DICT_4X4_50,\n",
        "\t\"DICT_4X4_100\": cv2.aruco.DICT_4X4_100,\n",
        "\t\"DICT_4X4_250\": cv2.aruco.DICT_4X4_250,\n",
        "\t\"DICT_4X4_1000\": cv2.aruco.DICT_4X4_1000,\n",
        "\t\"DICT_5X5_50\": cv2.aruco.DICT_5X5_50,\n",
        "\t\"DICT_5X5_100\": cv2.aruco.DICT_5X5_100,\n",
        "\t\"DICT_5X5_250\": cv2.aruco.DICT_5X5_250,\n",
        "\t\"DICT_5X5_1000\": cv2.aruco.DICT_5X5_1000,\n",
        "\t\"DICT_6X6_50\": cv2.aruco.DICT_6X6_50,\n",
        "\t\"DICT_6X6_100\": cv2.aruco.DICT_6X6_100,\n",
        "\t\"DICT_6X6_250\": cv2.aruco.DICT_6X6_250,\n",
        "\t\"DICT_6X6_1000\": cv2.aruco.DICT_6X6_1000,\n",
        "\t\"DICT_7X7_50\": cv2.aruco.DICT_7X7_50,\n",
        "\t\"DICT_7X7_100\": cv2.aruco.DICT_7X7_100,\n",
        "\t\"DICT_7X7_250\": cv2.aruco.DICT_7X7_250,\n",
        "\t\"DICT_7X7_1000\": cv2.aruco.DICT_7X7_1000,\n",
        "\t\"DICT_ARUCO_ORIGINAL\": cv2.aruco.DICT_ARUCO_ORIGINAL,\n",
        "\t\"DICT_APRILTAG_16h5\": cv2.aruco.DICT_APRILTAG_16h5,\n",
        "\t\"DICT_APRILTAG_25h9\": cv2.aruco.DICT_APRILTAG_25h9,\n",
        "\t\"DICT_APRILTAG_36h10\": cv2.aruco.DICT_APRILTAG_36h10,\n",
        "\t\"DICT_APRILTAG_36h11\": cv2.aruco.DICT_APRILTAG_36h11\n",
        "}"
      ],
      "execution_count": 5,
      "outputs": []
    },
    {
      "cell_type": "code",
      "metadata": {
        "id": "InU3PaYJKt2x"
      },
      "source": [
        "# проверяем, что предоставленный тег ArUCo существует и поддерживается OpenCV\n",
        "# verify that the supplied ArUCo tag exists and is supported by\n",
        "# OpenCV\n",
        "if ARUCO_DICT.get(args[\"type\"], None) is None:\n",
        "\tprint(\"[INFO] ArUCo tag of '{}' is not supported\".format(\n",
        "\t\targs[\"type\"]))\n",
        "\tsys.exit(0)\n",
        "\n",
        "# загружаем словарь ArUCo\n",
        "# load the ArUCo dictionary\n",
        "arucoDict = cv2.aruco.Dictionary_get(ARUCO_DICT[args[\"type\"]])"
      ],
      "execution_count": 6,
      "outputs": []
    },
    {
      "cell_type": "code",
      "metadata": {
        "id": "rgEZvrJSKxOx",
        "colab": {
          "base_uri": "https://localhost:8080/",
          "height": 298
        },
        "outputId": "339069fd-5eb5-4f09-d5b5-8e312a7b55e7"
      },
      "source": [
        "# выделяем память для выходного тега ArUCo\n",
        "# затем рисуем тег ArUCo на выходном изображении\n",
        "# allocate memory for the output ArUCo tag and then draw the ArUCo\n",
        "# tag on the output image\n",
        "print(\"[INFO] generating ArUCo tag type '{}' with ID '{}'\".format(\n",
        "\targs[\"type\"], args[\"id\"]))\n",
        "tag = np.zeros((300, 300, 1), dtype=\"uint8\")\n",
        "cv2.aruco.drawMarker(arucoDict, args[\"id\"], 300, tag, 1)\n",
        "\n",
        "# записываем сгенерированный тег ArUCo на диск и затем выводим его на экран\n",
        "# write the generated ArUCo tag to disk and then display it to our\n",
        "# screen\n",
        "cv2.imwrite(args[\"output\"], tag)\n",
        "plt_imshow(\"ArUCo Tag\", tag)"
      ],
      "execution_count": 7,
      "outputs": [
        {
          "output_type": "stream",
          "name": "stdout",
          "text": [
            "[INFO] generating ArUCo tag type 'DICT_ARUCO_ORIGINAL' with ID '29'\n"
          ]
        },
        {
          "output_type": "display_data",
          "data": {
            "image/png": "[encoded data removed]",
            "text/plain": [
              "<Figure size 432x288 with 1 Axes>"
            ]
          },
          "metadata": {
            "needs_background": "light"
          }
        }
      ]
    }
  ]
}
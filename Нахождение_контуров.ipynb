{
  "nbformat": 4,
  "nbformat_minor": 0,
  "metadata": {
    "colab": {
      "name": " Нахождение контуров",
      "provenance": [],
      "collapsed_sections": [],
      "include_colab_link": true
    },
    "kernelspec": {
      "name": "python3",
      "display_name": "Python 3"
    },
    "language_info": {
      "name": "python"
    }
  },
  "cells": [
    {
      "cell_type": "markdown",
      "metadata": {
        "id": "view-in-github",
        "colab_type": "text"
      },
      "source": [
        "<a href=\"https://colab.research.google.com/github/vadim-privalov/Neiroset_Novosibirsk/blob/main/%D0%9D%D0%B0%D1%85%D0%BE%D0%B6%D0%B4%D0%B5%D0%BD%D0%B8%D0%B5_%D0%BA%D0%BE%D0%BD%D1%82%D1%83%D1%80%D0%BE%D0%B2.ipynb\" target=\"_parent\"><img src=\"https://colab.research.google.com/assets/colab-badge.svg\" alt=\"Open In Colab\"/></a>"
      ]
    },
    {
      "cell_type": "markdown",
      "metadata": {
        "id": "Po2JsrAperuJ"
      },
      "source": [
        "# Нахождение контуров\n",
        "\n",
        "# Finding contours\n"
      ]
    },
    {
      "cell_type": "markdown",
      "metadata": {
        "id": "Q_TIxMLoBcDo"
      },
      "source": [
        "В этом уроке мы научимся находить контуры изображений\n",
        "\n",
        "\n",
        "In this lesson we will learn how to find the contours of images\n"
      ]
    },
    {
      "cell_type": "markdown",
      "metadata": {
        "id": "UcWSiPJ29GaM"
      },
      "source": [
        "Делать мы это будем при помощи встроенной в opencv функции **findContours()**\n",
        "\n",
        "\n",
        "We will do this using the **findContours()** function built into opencv"
      ]
    },
    {
      "cell_type": "code",
      "metadata": {
        "colab": {
          "base_uri": "https://localhost:8080/"
        },
        "id": "VG8xOEIqcnxf",
        "outputId": "754201e8-5992-4223-c8bd-1b8d2df4d13c"
      },
      "source": [
        "!wget http://dataudt.ru/datasets/cv/Lesson_25.Find_contours.zip\n",
        "!unzip Lesson_25.Find_contours.zip\n",
        "%cd /content/Lesson_25.Find_contours"
      ],
      "execution_count": 1,
      "outputs": [
        {
          "output_type": "stream",
          "name": "stdout",
          "text": [
            "--2022-02-02 18:08:41--  http://dataudt.ru/datasets/cv/Lesson_25.Find_contours.zip\n",
            "Resolving dataudt.ru (dataudt.ru)... 37.228.117.130\n",
            "Connecting to dataudt.ru (dataudt.ru)|37.228.117.130|:80... connected.\n",
            "HTTP request sent, awaiting response... 200 OK\n",
            "Length: 4257 (4.2K) [application/zip]\n",
            "Saving to: ‘Lesson_25.Find_contours.zip’\n",
            "\n",
            "Lesson_25.Find_cont 100%[===================>]   4.16K  --.-KB/s    in 0s      \n",
            "\n",
            "2022-02-02 18:08:42 (61.9 MB/s) - ‘Lesson_25.Find_contours.zip’ saved [4257/4257]\n",
            "\n",
            "Archive:  Lesson_25.Find_contours.zip\n",
            "  inflating: Lesson_25.Find_contours/Find_contours.py  \n",
            "  inflating: Lesson_25.Find_contours/shapes_01.png  \n",
            "/content/Lesson_25.Find_contours\n"
          ]
        }
      ]
    },
    {
      "cell_type": "code",
      "metadata": {
        "id": "I_C88RNjckxT"
      },
      "source": [
        "# импортируем необходимые модули\n",
        "# import the necessary packages\n",
        "import numpy as np\n",
        "import cv2\n",
        "import imutils\n",
        "from google.colab.patches import cv2_imshow"
      ],
      "execution_count": 2,
      "outputs": []
    },
    {
      "cell_type": "code",
      "metadata": {
        "id": "0UCLOO3xctkF"
      },
      "source": [
        "# создаем отдельный словарь с аргументами \n",
        "# create a separate dictionary with arguments \n",
        "args = {\n",
        "# путь к входному изображению \n",
        "# the path to the input image\n",
        "'image':'shapes_01.png', \n",
        "}"
      ],
      "execution_count": 3,
      "outputs": []
    },
    {
      "cell_type": "code",
      "metadata": {
        "colab": {
          "base_uri": "https://localhost:8080/",
          "height": 392
        },
        "id": "Uu7ZRHpfdI5s",
        "outputId": "0c31b867-067d-4646-ea40-2a25f2747647"
      },
      "source": [
        "# загружаем изображение и конвертируем его в градации серого\n",
        "# load the image and convert it to grayscale\n",
        "image = cv2.imread(args[\"image\"])\n",
        "gray = cv2.cvtColor(image, cv2.COLOR_BGR2GRAY)\n",
        "\n",
        "# отобразим исходное изображение\n",
        "# show the original image\n",
        "print(\"Original\") \n",
        "cv2_imshow(image)"
      ],
      "execution_count": 6,
      "outputs": [
        {
          "output_type": "stream",
          "name": "stdout",
          "text": [
            "Original\n"
          ]
        },
        {
          "output_type": "display_data",
          "data": {
            "image/png": "[encoded data removed]",
            "text/plain": [
              "<PIL.Image.Image image mode=RGB size=600x358 at 0x7FDAB9AC1410>"
            ]
          },
          "metadata": {}
        }
      ]
    },
    {
      "cell_type": "code",
      "metadata": {
        "colab": {
          "base_uri": "https://localhost:8080/",
          "height": 410
        },
        "id": "nyhoxFLldTiP",
        "outputId": "1b64954b-2216-463b-d351-ecf8796bfef2"
      },
      "source": [
        "# находим все контуры на изображении \n",
        "# и рисуем ВСЕ контуры на изображении\n",
        "# find all contours in the image and draw ALL contours on the image\n",
        "cnts = cv2.findContours(gray.copy(), cv2.RETR_LIST, cv2.CHAIN_APPROX_SIMPLE)# функция  изменяет входное изображение  поэтому,\n",
        "                                                                            # если вы хотите снова использовать входное изображение, \n",
        "                                                                            # то обязательно сделайте копию\n",
        "                                                                            # function changes the input image so,\n",
        "                                                                            # if you want to use the input image again, \n",
        "                                                                            # be sure to make a copy of\n",
        "cnts = imutils.grab_contours(cnts)\n",
        "clone = image.copy()\n",
        "cv2.drawContours(clone, cnts, -1, (0, 255, 0), 2)\n",
        "print(\"Found {} contours\".format(len(cnts)))\n",
        "\n",
        "# покажем получившееся изображение\n",
        "# show the output image\n",
        "print(\"All Contours\") \n",
        "cv2_imshow(clone)"
      ],
      "execution_count": 7,
      "outputs": [
        {
          "output_type": "stream",
          "name": "stdout",
          "text": [
            "Found 5 contours\n",
            "All Contours\n"
          ]
        },
        {
          "output_type": "display_data",
          "data": {
            "image/png": "[encoded data removed]",
            "text/plain": [
              "<PIL.Image.Image image mode=RGB size=600x358 at 0x7FDAB9ACAB90>"
            ]
          },
          "metadata": {}
        }
      ]
    },
    {
      "cell_type": "code",
      "metadata": {
        "colab": {
          "base_uri": "https://localhost:8080/",
          "height": 1000
        },
        "id": "OJpRincFdoxM",
        "outputId": "ce0b3ac7-4725-4971-8e13-809ad188d801"
      },
      "source": [
        "# повторно клонируем изображение \n",
        "# re-clone the image \n",
        "clone = image.copy()\n",
        "\n",
        "# перебираем контуры отдельно и рисуем каждый из них\n",
        "# loop over the contours individually and draw each of them\n",
        "for (i, c) in enumerate(cnts):\n",
        "    print(\"Drawing contour #{}\".format(i + 1))\n",
        "    cv2.drawContours(clone, [c], -1, (0, 0, 255), 3)\n",
        "    print(\"Single Contour\") \n",
        "    cv2_imshow(clone)"
      ],
      "execution_count": 10,
      "outputs": [
        {
          "output_type": "stream",
          "name": "stdout",
          "text": [
            "Drawing contour #1\n",
            "Single Contour\n"
          ]
        },
        {
          "output_type": "display_data",
          "data": {
            "image/png": "[encoded data removed]",
            "text/plain": [
              "<PIL.Image.Image image mode=RGB size=600x358 at 0x7FDAB9AD9AD0>"
            ]
          },
          "metadata": {}
        },
        {
          "output_type": "stream",
          "name": "stdout",
          "text": [
            "Drawing contour #2\n",
            "Single Contour\n"
          ]
        },
        {
          "output_type": "display_data",
          "data": {
            "image/png": "[encoded data removed]",
            "text/plain": [
              "<PIL.Image.Image image mode=RGB size=600x358 at 0x7FDAB9A634D0>"
            ]
          },
          "metadata": {}
        },
        {
          "output_type": "stream",
          "name": "stdout",
          "text": [
            "Drawing contour #3\n",
            "Single Contour\n"
          ]
        },
        {
          "output_type": "display_data",
          "data": {
            "image/png": "[encoded data removed]",
            "text/plain": [
              "<PIL.Image.Image image mode=RGB size=600x358 at 0x7FDAB9A63450>"
            ]
          },
          "metadata": {}
        },
        {
          "output_type": "stream",
          "name": "stdout",
          "text": [
            "Drawing contour #4\n",
            "Single Contour\n"
          ]
        },
        {
          "output_type": "display_data",
          "data": {
            "image/png": "[encoded data removed]",
            "text/plain": [
              "<PIL.Image.Image image mode=RGB size=600x358 at 0x7FDAB9A63190>"
            ]
          },
          "metadata": {}
        },
        {
          "output_type": "stream",
          "name": "stdout",
          "text": [
            "Drawing contour #5\n",
            "Single Contour\n"
          ]
        },
        {
          "output_type": "display_data",
          "data": {
            "image/png": "[encoded data removed]",
            "text/plain": [
              "<PIL.Image.Image image mode=RGB size=600x358 at 0x7FDAB9A63550>"
            ]
          },
          "metadata": {}
        }
      ]
    },
    {
      "cell_type": "code",
      "metadata": {
        "colab": {
          "base_uri": "https://localhost:8080/",
          "height": 410
        },
        "id": "qBBFP10fd2y_",
        "outputId": "963b165d-f168-4e9e-e5d9-93e341f02ab7"
      },
      "source": [
        "# повторно клонируем изображение \n",
        "# re-clone the image \n",
        "clone = image.copy()\n",
        "\n",
        "# найдём контуры на изображении, но на этот раз \n",
        "# оставим только ВНЕШНИЕ контуры на изображении\n",
        "# find contours in the image, but this time keep only the EXTERNAL\n",
        "# contours in the image\n",
        "cnts = cv2.findContours(gray.copy(), cv2.RETR_EXTERNAL, cv2.CHAIN_APPROX_SIMPLE) \n",
        "cnts = imutils.grab_contours(cnts) \n",
        "cv2.drawContours(clone, cnts, -1, (0, 255, 0), 2)\n",
        "print(\"Found {} EXTERNAL contours\".format(len(cnts)))\n",
        "\n",
        "# покажем выходное изображение\n",
        "# show the output image\n",
        "print(\"All Contours\") \n",
        "cv2_imshow(clone)"
      ],
      "execution_count": 11,
      "outputs": [
        {
          "output_type": "stream",
          "name": "stdout",
          "text": [
            "Found 4 EXTERNAL contours\n",
            "All Contours\n"
          ]
        },
        {
          "output_type": "display_data",
          "data": {
            "image/png": "[encoded data removed]",
            "text/plain": [
              "<PIL.Image.Image image mode=RGB size=600x358 at 0x7FDAB9B26D50>"
            ]
          },
          "metadata": {}
        }
      ]
    },
    {
      "cell_type": "code",
      "metadata": {
        "colab": {
          "base_uri": "https://localhost:8080/",
          "height": 1000
        },
        "id": "oBYef_Lqcglr",
        "outputId": "0360f4cc-7be6-4f45-faf5-56683e30812a"
      },
      "source": [
        "# повторно клонируем изображение \n",
        "# re-clone the image \n",
        "clone = image.copy()\n",
        "\n",
        "# перебираем контуры каждый отдельно\n",
        "# loop over the contours individually\n",
        "for c in cnts:\n",
        "    # создадим маску, нарисовав только текущий контур\n",
        "    # construct a mask by drawing only the current contour\n",
        "    mask = np.zeros(gray.shape, dtype=\"uint8\")\n",
        "    cv2.drawContours(mask, [c], -1, 255, -1)\n",
        "\n",
        "    # отобразим изображения\n",
        "    # show the images\n",
        "    print(\"Image\") \n",
        "    cv2_imshow(image)\n",
        "\n",
        "    print(\"Mask\") \n",
        "    cv2_imshow(mask)\n",
        "\n",
        "    print(\"Image + Mask\")\n",
        "    cv2_imshow(cv2.bitwise_and(image, image, mask=mask))"
      ],
      "execution_count": 12,
      "outputs": [
        {
          "output_type": "stream",
          "name": "stdout",
          "text": [
            "Image\n"
          ]
        },
        {
          "output_type": "display_data",
          "data": {
            "image/png": "[encoded data removed]",
            "text/plain": [
              "<PIL.Image.Image image mode=RGB size=600x358 at 0x7FDAB9AB6F10>"
            ]
          },
          "metadata": {}
        },
        {
          "output_type": "stream",
          "name": "stdout",
          "text": [
            "Mask\n"
          ]
        },
        {
          "output_type": "display_data",
          "data": {
            "image/png": "[encoded data removed]",
            "text/plain": [
              "<PIL.Image.Image image mode=L size=600x358 at 0x7FDAB9AB6090>"
            ]
          },
          "metadata": {}
        },
        {
          "output_type": "stream",
          "name": "stdout",
          "text": [
            "Image + Mask\n"
          ]
        },
        {
          "output_type": "display_data",
          "data": {
            "image/png": "[encoded data removed]",
            "text/plain": [
              "<PIL.Image.Image image mode=RGB size=600x358 at 0x7FDAB9AB6050>"
            ]
          },
          "metadata": {}
        },
        {
          "output_type": "stream",
          "name": "stdout",
          "text": [
            "Image\n"
          ]
        },
        {
          "output_type": "display_data",
          "data": {
            "image/png": "[encoded data removed]",
            "text/plain": [
              "<PIL.Image.Image image mode=RGB size=600x358 at 0x7FDAB9AB6FD0>"
            ]
          },
          "metadata": {}
        },
        {
          "output_type": "stream",
          "name": "stdout",
          "text": [
            "Mask\n"
          ]
        },
        {
          "output_type": "display_data",
          "data": {
            "image/png": "[encoded data removed]",
            "text/plain": [
              "<PIL.Image.Image image mode=L size=600x358 at 0x7FDAB9AB6110>"
            ]
          },
          "metadata": {}
        },
        {
          "output_type": "stream",
          "name": "stdout",
          "text": [
            "Image + Mask\n"
          ]
        },
        {
          "output_type": "display_data",
          "data": {
            "image/png": "[encoded data removed]",
            "text/plain": [
              "<PIL.Image.Image image mode=RGB size=600x358 at 0x7FDAB9AD3E50>"
            ]
          },
          "metadata": {}
        },
        {
          "output_type": "stream",
          "name": "stdout",
          "text": [
            "Image\n"
          ]
        },
        {
          "output_type": "display_data",
          "data": {
            "image/png": "[encoded data removed]",
            "text/plain": [
              "<PIL.Image.Image image mode=RGB size=600x358 at 0x7FDAB9AB62D0>"
            ]
          },
          "metadata": {}
        },
        {
          "output_type": "stream",
          "name": "stdout",
          "text": [
            "Mask\n"
          ]
        },
        {
          "output_type": "display_data",
          "data": {
            "image/png": "[encoded data removed]",
            "text/plain": [
              "<PIL.Image.Image image mode=L size=600x358 at 0x7FDAB9AB6F10>"
            ]
          },
          "metadata": {}
        },
        {
          "output_type": "stream",
          "name": "stdout",
          "text": [
            "Image + Mask\n"
          ]
        },
        {
          "output_type": "display_data",
          "data": {
            "image/png": "[encoded data removed]",
            "text/plain": [
              "<PIL.Image.Image image mode=RGB size=600x358 at 0x7FDAB9AB6C10>"
            ]
          },
          "metadata": {}
        },
        {
          "output_type": "stream",
          "name": "stdout",
          "text": [
            "Image\n"
          ]
        },
        {
          "output_type": "display_data",
          "data": {
            "image/png": "[encoded data removed]",
            "text/plain": [
              "<PIL.Image.Image image mode=RGB size=600x358 at 0x7FDAB9AB62D0>"
            ]
          },
          "metadata": {}
        },
        {
          "output_type": "stream",
          "name": "stdout",
          "text": [
            "Mask\n"
          ]
        },
        {
          "output_type": "display_data",
          "data": {
            "image/png": "[encoded data removed]",
            "text/plain": [
              "<PIL.Image.Image image mode=L size=600x358 at 0x7FDAB9AB6C10>"
            ]
          },
          "metadata": {}
        },
        {
          "output_type": "stream",
          "name": "stdout",
          "text": [
            "Image + Mask\n"
          ]
        },
        {
          "output_type": "display_data",
          "data": {
            "image/png": "[encoded data removed]",
            "text/plain": [
              "<PIL.Image.Image image mode=RGB size=600x358 at 0x7FDAB9AB6F90>"
            ]
          },
          "metadata": {}
        }
      ]
    }
  ]
}
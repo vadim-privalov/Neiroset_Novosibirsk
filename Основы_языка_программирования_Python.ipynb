{
  "nbformat": 4,
  "nbformat_minor": 0,
  "metadata": {
    "colab": {
      "name": "Основы языка программирования Python",
      "provenance": [],
      "collapsed_sections": [
        "1z57yOyXYjk_",
        "7a2kMOWq34jC",
        "b0su5KTcDs6M",
        "cFaNONz3YdHq",
        "NqDt3Dz9M69A"
      ],
      "include_colab_link": true
    },
    "kernelspec": {
      "name": "python3",
      "display_name": "Python 3"
    }
  },
  "cells": [
    {
      "cell_type": "markdown",
      "metadata": {
        "id": "view-in-github",
        "colab_type": "text"
      },
      "source": [
        "<a href=\"https://colab.research.google.com/github/vadim-privalov/Neiroset_Novosibirsk/blob/main/%D0%9E%D1%81%D0%BD%D0%BE%D0%B2%D1%8B_%D1%8F%D0%B7%D1%8B%D0%BA%D0%B0_%D0%BF%D1%80%D0%BE%D0%B3%D1%80%D0%B0%D0%BC%D0%BC%D0%B8%D1%80%D0%BE%D0%B2%D0%B0%D0%BD%D0%B8%D1%8F_Python.ipynb\" target=\"_parent\"><img src=\"https://colab.research.google.com/assets/colab-badge.svg\" alt=\"Open In Colab\"/></a>"
      ]
    },
    {
      "cell_type": "markdown",
      "metadata": {
        "id": "uVQjRFc6abYJ"
      },
      "source": [
        "## ООО \"Университет Цифровых Технологий платформа 3\""
      ]
    },
    {
      "cell_type": "markdown",
      "metadata": {
        "id": "1z57yOyXYjk_"
      },
      "source": [
        "# Знакомство с Python и Google Colaboratory\n",
        "\n",
        "\n"
      ]
    },
    {
      "cell_type": "markdown",
      "metadata": {
        "id": "7a2kMOWq34jC"
      },
      "source": [
        "# Введение"
      ]
    },
    {
      "cell_type": "markdown",
      "metadata": {
        "id": "3iBtArjk4HK0"
      },
      "source": [
        "Python - язык программирования\n",
        "\n",
        "*   Первая версия была опубликована в 1991 году. Автор - Гвидо ван Россум, голландский программист.\n",
        "*   Версия 2.0 была выпущена в октябре 2000 года\n",
        "*   Версия 3.0 была выпущена в декабре 2008 года\n",
        "\n",
        "До недавнего времени параллельно поддерживались 2 версии языка - Python 2 и Python 3. Данные версии похожи, но **несовместимы между собой**, т.к. есть различия в синтаксисе. \n",
        "\n",
        "Python 2.7 поддерживался до 2020 года, поэтому мы будем изучать Python 3 (текущая версия в Google Colab на момент первой редакции занятия - 3.6.9)"
      ]
    },
    {
      "cell_type": "markdown",
      "metadata": {
        "id": "Gl1x3Cfd4HVX"
      },
      "source": [
        "Важные характеристики языка Python\n",
        "\n",
        "*   Интерпретируемый (команды выполняются последовательно, одна за другой)\n",
        "*   Высокоуровневый\n",
        "*   Объектноориентированный\n",
        "*   Есть множество встроенных высокоуровневых структур\n",
        "*   Синтаксис прост в изучении\n",
        "\n",
        "\n"
      ]
    },
    {
      "cell_type": "markdown",
      "metadata": {
        "id": "H819Xz4GAjaj"
      },
      "source": [
        "Язык Python свободно распостраняется, его использование возможно для создания коммерческих продуктов."
      ]
    },
    {
      "cell_type": "markdown",
      "metadata": {
        "id": "4w9tfcmV4Hhk"
      },
      "source": [
        "В настоящее время Python является очень распространеным языком, используется во многих областях. Что важно для нас -  это основной язык для Data Science и Deep Learning (нейронные сети). К настоящему времени разработано очень много библиотек для языка Python, связанных с DataScience и машинным обучением. В основном эти библиотеки написаны на быстрых языках (C, C++, Fortran), бесплатные и легко подключаются.\n",
        "Примеры таких библиотек:\n",
        "*   Numpy - основная библиотека для математических операций с матрицами под Python\n",
        "*   Pandas - работа с табличными данными\n",
        "*   Matplotlib, Seaborn - вывод изображений, построение графиков\n",
        "*   Sklearn - большая библиотека методов машинного обучения под Python\n",
        "*   TensorFlow, Pytorch -фреймворки для разработки и обучения нейронных сетей\n"
      ]
    },
    {
      "cell_type": "markdown",
      "metadata": {
        "id": "Nk_LWDnmCP6r"
      },
      "source": [
        "Zen Python (основное)\n",
        "\n",
        "*   Красивое лучше чем уродливое\n",
        "*   Простое лучше чем сложное\n",
        "*   Читаемость имеет значение\n",
        "*   Если реализацию сложно объяснить - идея плоха. Если реализацию легко объяснить - идея возможно хороша. \n",
        "\n"
      ]
    },
    {
      "cell_type": "code",
      "metadata": {
        "colab": {
          "base_uri": "https://localhost:8080/"
        },
        "id": "AHbiwiUNCqDR",
        "outputId": "72a8f054-142d-42ae-9e37-a6a7249173f4"
      },
      "source": [
        "import this # выведем Zen Python"
      ],
      "execution_count": null,
      "outputs": [
        {
          "output_type": "stream",
          "text": [
            "The Zen of Python, by Tim Peters\n",
            "\n",
            "Beautiful is better than ugly.\n",
            "Explicit is better than implicit.\n",
            "Simple is better than complex.\n",
            "Complex is better than complicated.\n",
            "Flat is better than nested.\n",
            "Sparse is better than dense.\n",
            "Readability counts.\n",
            "Special cases aren't special enough to break the rules.\n",
            "Although practicality beats purity.\n",
            "Errors should never pass silently.\n",
            "Unless explicitly silenced.\n",
            "In the face of ambiguity, refuse the temptation to guess.\n",
            "There should be one-- and preferably only one --obvious way to do it.\n",
            "Although that way may not be obvious at first unless you're Dutch.\n",
            "Now is better than never.\n",
            "Although never is often better than *right* now.\n",
            "If the implementation is hard to explain, it's a bad idea.\n",
            "If the implementation is easy to explain, it may be a good idea.\n",
            "Namespaces are one honking great idea -- let's do more of those!\n"
          ],
          "name": "stdout"
        }
      ]
    },
    {
      "cell_type": "markdown",
      "metadata": {
        "id": "aWgMEyaXC2Q3"
      },
      "source": [
        "PEP8 -  это соглашение (рекомендации) о том, как следует писать код на Python. PEP8 призвана повысить читаемость кода. "
      ]
    },
    {
      "cell_type": "markdown",
      "metadata": {
        "id": "WF5ZeVpj4Hp-"
      },
      "source": [
        "# Обзор среды Google Colaboratory"
      ]
    },
    {
      "cell_type": "markdown",
      "metadata": {
        "id": "GmZicBeO_5xF"
      },
      "source": [
        "Google Colaboratory - это бесплатный облачный сервис для работы с Jupyter Notebook.\n",
        "\n",
        "Jupyter Notebook - это интерактивная среда для быстрой разработки, экспериментов и демонстраций.  Рабочие файлы этой среды  (расширение .ipynb) мы будем называть ноутбуками или блокнотами. \n",
        "\n",
        "Ноутбук состоит из отдельных ячеек. Ячейки могут быть двух типов:\n",
        "*   Текстовые\n",
        "*   Ячейки с кодом\n",
        "\n",
        "Создать новую ячейку можно так: вверху - Вставка - Кодовая ячейка или Текстовая ячейка. Также, можно навести стрелку мыши между ячейками, прямо в середину по горизонтали, и появится две кнопки: +Код и +Текст. Нажав на них, вызываем нужную ячейку."
      ]
    },
    {
      "cell_type": "markdown",
      "metadata": {
        "id": "ijAsfHrCBEid"
      },
      "source": [
        "Работая с Jupyter Notebook,  мы можем выполнять ячейки с кодом и сразу видеть \n",
        "результат. Т.е. мы не обязаны выгружать всю программу в файл с расширением .py и запускать его. Это существенно облегчает и ускоряет разработку."
      ]
    },
    {
      "cell_type": "markdown",
      "metadata": {
        "id": "1LEb0JTzBNDc"
      },
      "source": [
        "## Несколько подсказок по работе в Colab Notebook"
      ]
    },
    {
      "cell_type": "markdown",
      "metadata": {
        "id": "nXy1t5GUBYNT"
      },
      "source": [
        "*   Вывести быстрый список команд CTRL + Shift + P\n",
        "*   Вывести список сочетаний клавиш CTRL + M + H\n",
        "*   Отмена действия CTRL + Z или CTRL + M + Z\n",
        "*   Esc - выйти из режима редактирования ячейки\n",
        "*   Shift + ENTER - запустить выполнения кода в ячейке"
      ]
    },
    {
      "cell_type": "markdown",
      "metadata": {
        "id": "1kVzmCC0AuwL"
      },
      "source": [
        "## Базовый синтаксис для текстовых ячеек"
      ]
    },
    {
      "cell_type": "markdown",
      "metadata": {
        "id": "peKx3EPOCzf9"
      },
      "source": [
        "###Это пример заголовка уровня 3\n",
        "\n"
      ]
    },
    {
      "cell_type": "markdown",
      "metadata": {
        "id": "2JEJ9FPbCztD"
      },
      "source": [
        "``` ###Это пример заголовка уровня 3 ```\n",
        "\n",
        "для того, чтобы создать заголовок нужно перед текстом заголовка поставить последовательность символов # (чем больше символов, тем глубже уровень заголовка). Таким образом можно задавать логику документа."
      ]
    },
    {
      "cell_type": "markdown",
      "metadata": {
        "id": "b0su5KTcDs6M"
      },
      "source": [
        "### Примеры оформления текста\n",
        "\n",
        "Это простой текст\n",
        "\n",
        "**Это полужирный**   \n",
        "\n",
        "*Это курсив*  \n",
        "\n",
        "[Можно вставить ссылку](https://)    \n",
        "\n",
        "\n",
        "---\n",
        "\n",
        "\n",
        "Это нумерованный список\n",
        "1. Элемент 1 \n",
        "2. Элемент 2\n",
        "\n",
        "\n",
        "\n",
        "---\n",
        "\n",
        "\n",
        "\n",
        "Это маркированный список\n",
        "*  Элемент 1\n",
        "    *  Элемент 1.1\n",
        "*  Элемент 2\n",
        "\n",
        "\n"
      ]
    },
    {
      "cell_type": "markdown",
      "metadata": {
        "id": "sarvZXwTFQqo"
      },
      "source": [
        "### Язык разметки LATEX"
      ]
    },
    {
      "cell_type": "markdown",
      "metadata": {
        "id": "z_gRiHNvFdH_"
      },
      "source": [
        ">$y=x^2$\n",
        "\n",
        ">$e^{i/pi} + 1 = 0$"
      ]
    },
    {
      "cell_type": "markdown",
      "metadata": {
        "id": "QJEIz85gFjBW"
      },
      "source": [
        "### Таблицы"
      ]
    },
    {
      "cell_type": "markdown",
      "metadata": {
        "id": "4Zm_x56aFjKv"
      },
      "source": [
        "\n",
        "\n",
        "> Колонка 1 | Колонка 2\n",
        ">--- | ---\n",
        "> значение 1,1 | значение 1,2\n",
        "> значение 2,1| значение 2,2"
      ]
    },
    {
      "cell_type": "markdown",
      "metadata": {
        "id": "6WTegoY6ISX5"
      },
      "source": [
        "### Изображения"
      ]
    },
    {
      "cell_type": "markdown",
      "metadata": {
        "id": "38SWGhu0IShq"
      },
      "source": [
        "![3.jpg](data:image/jpeg;base64,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)"
      ]
    },
    {
      "cell_type": "markdown",
      "metadata": {
        "id": "eXhE2RX6JOAV"
      },
      "source": [
        "## Кодовая ячейка"
      ]
    },
    {
      "cell_type": "markdown",
      "metadata": {
        "id": "fe1Gna2zJXkV"
      },
      "source": [
        "В кодовых ячейках кроме кода, который выполняет наш компьютер, можно создавать комментарии. Комментарии - это дополнительный текст, который компьютер пропускает, но они помогают сделать текст программы более понятным читателю (другому программисту или себе самому через неделю)."
      ]
    },
    {
      "cell_type": "code",
      "metadata": {
        "id": "KtPBJKawKnvj",
        "colab": {
          "base_uri": "https://localhost:8080/"
        },
        "outputId": "9e1a67ce-885d-4423-82a9-70248b7b64fa"
      },
      "source": [
        "'''\n",
        "    это комментарий\n",
        "    на несколько \n",
        "    строк\n",
        "'''\n",
        "\n",
        "# Это комментарий на одну строку\n",
        "print(\"Я люблю Питон!\") # это еще один комментарий"
      ],
      "execution_count": null,
      "outputs": [
        {
          "output_type": "stream",
          "text": [
            "Я люблю Питон!\n"
          ],
          "name": "stdout"
        }
      ]
    },
    {
      "cell_type": "markdown",
      "metadata": {
        "id": "mQdpXcqcOFIb"
      },
      "source": [
        "в кодовых ячейках можно запускать не только код на языке Python, но и bash-команды. Bash это командная оболочка UNIX. В основном мы будем использовать эти команды для копирования файлов и директорий, извлечения данных из аривов и т.д.\n",
        "bash команда начинается с символа \"!\""
      ]
    },
    {
      "cell_type": "code",
      "metadata": {
        "colab": {
          "base_uri": "https://localhost:8080/"
        },
        "id": "U59HDUorPi-H",
        "outputId": "b376788a-4ebe-4709-efcd-f78d97ff0ad7"
      },
      "source": [
        "!ls # выведем содержание текущей директори"
      ],
      "execution_count": null,
      "outputs": [
        {
          "output_type": "stream",
          "text": [
            "sample_data\n"
          ],
          "name": "stdout"
        }
      ]
    },
    {
      "cell_type": "markdown",
      "metadata": {
        "id": "E-ZBODdL8eRY"
      },
      "source": [
        "Иногда в коде вы  можете встретить команды, начинающиеся с символа %. Не пугайтесь, это magic commands, специальные команды которые помогают нам в работе (например %timeit помогает измерить время выполнения операции). Со временем вы их запомните и начнете использовать."
      ]
    },
    {
      "cell_type": "markdown",
      "metadata": {
        "id": "kwS7ybORQSxZ"
      },
      "source": [
        "## Работа с файлами в Colab"
      ]
    },
    {
      "cell_type": "markdown",
      "metadata": {
        "id": "He-OFemZzuM0"
      },
      "source": [
        "### Загрузка и подключение файлов с данными"
      ]
    },
    {
      "cell_type": "markdown",
      "metadata": {
        "id": "56SYjr77M44E"
      },
      "source": [
        "В левой панели выбираем закладку \"Файлы\""
      ]
    },
    {
      "cell_type": "markdown",
      "metadata": {
        "id": "xy-2tRU6M48D"
      },
      "source": [
        "![2021-02-21_22-59-09.png](data:image/png;base64,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)"
      ]
    },
    {
      "cell_type": "markdown",
      "metadata": {
        "id": "7Gs2zxkuU-Lr"
      },
      "source": [
        "Здесь мы видим текущую рабочую директорию на виртуальной машине. Используя стандартный интерфейс мы можем создавать директории, загружать файлы на виртуальную машину или скачивать файлы на локальный диск.\n",
        "\n",
        "Важно! Нужно понимать, что после остановки сессии все файлы, которые мы загрузили в виртуальную среду пропадут. Поэтому сохраняйте их на Google Drive или скачивайте на локальную машину."
      ]
    },
    {
      "cell_type": "markdown",
      "metadata": {
        "id": "g-ik-66DV8tl"
      },
      "source": [
        "Полезный лайфхак - чтобы узнать путь к интересующему вас файлу на виртуальной машине, нужно найти этот файл, навести на него указатель мыши и правой клавишей мыши вызвать контекстное меню.  В меню выбрать пункт \"скопировать путь\".  Путь к файлу будет сохранен в буфере обмена."
      ]
    },
    {
      "cell_type": "markdown",
      "metadata": {
        "id": "3OsYyBVWWijJ"
      },
      "source": [
        "![2021-02-21_23-08-16.png](data:image/png;base64,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)"
      ]
    },
    {
      "cell_type": "markdown",
      "metadata": {
        "id": "4rD2D2ERz6tE"
      },
      "source": [
        "### Работа с файлами кода, ноутбуками"
      ]
    },
    {
      "cell_type": "markdown",
      "metadata": {
        "id": "YRktWuYj0E6f"
      },
      "source": [
        "Общее для всех этих операций - вначале открываем меню Файл в левом верхнем углу.\n",
        "1. Копирование - выбираем в меню Файл - сохранить копию на Диске.\n",
        "2. Переименование - выбираем в меню Файл - переименовать блокнот. Также, можно щёлкнуть мышью на само название и отредактировать его.\n",
        "3. Сохранение ноутбука - выбираем Сохранить. Иногда нужно сохранять после удалённого изменения или переименования. Рекомендую делать это чаще, но вначале убедиться, что Вы не удалили лишнего из ноутбука. \n",
        "4. Сохранение файла Python в виде отдельного файла или модуля - Скачать - Скачать PY.\n",
        "5. Сохранение файла Python в Jupyter Notebook или Колаб - Скачать - Скачать IPYNB. \n",
        "6. Открытие ранее сохранённого ноутбука. - Открыть блокнот.\n",
        "\n",
        "\n"
      ]
    },
    {
      "cell_type": "markdown",
      "metadata": {
        "id": "l-so6uxx-mXs"
      },
      "source": [
        "## Среда выполнения"
      ]
    },
    {
      "cell_type": "markdown",
      "metadata": {
        "id": "uK4SWHjv-qUv"
      },
      "source": [
        "1. При выполнении обычного кода нужно установить Среда выполнения - Сменить среду выполнения - None. В этом случае мощности графического процессора Вам будут не нужны.\n",
        "2. Для обучения нейросетей, установите Среда выполнения - Сменить среду выполнения - GPU. Иначе рассчёт может оказаться очень медленным.\n",
        "3. При странной работе кода, непонятных ошибках, вначале нужно нажать Среда выполнения - Перезапустить среду выполнения. Затем запустить все ячейки требуемого Вам кода с начала."
      ]
    },
    {
      "cell_type": "markdown",
      "metadata": {
        "id": "91eaUwd3Qc1p"
      },
      "source": [
        "## Подключение Google Drive"
      ]
    },
    {
      "cell_type": "markdown",
      "metadata": {
        "id": "xl-0HcqBQdId"
      },
      "source": [
        "Способ 1. В закладке \"Файлы\" нажать на иконку Google Drive"
      ]
    },
    {
      "cell_type": "markdown",
      "metadata": {
        "id": "m7ZxAxSrXb4Z"
      },
      "source": [
        "![2021-02-21_23-12-02.png](data:image/png;base64,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)"
      ]
    },
    {
      "cell_type": "markdown",
      "metadata": {
        "id": "06gwWo0XXqjd"
      },
      "source": [
        "Способ 2. Выполнить код в ячейке"
      ]
    },
    {
      "cell_type": "code",
      "metadata": {
        "id": "QEKw1vpmW8bX",
        "colab": {
          "base_uri": "https://localhost:8080/"
        },
        "outputId": "37b1faa0-6fa5-4fa9-8ca8-b769bb529706"
      },
      "source": [
        "from google.colab import drive\n",
        "drive.mount('/content/drive')"
      ],
      "execution_count": null,
      "outputs": [
        {
          "output_type": "stream",
          "text": [
            "Mounted at /content/drive\n"
          ],
          "name": "stdout"
        }
      ]
    },
    {
      "cell_type": "markdown",
      "metadata": {
        "id": "I-kqx93SX5KJ"
      },
      "source": [
        "После запуска ячейки потребуется ввести код авторизации, который вам предоставит Google"
      ]
    },
    {
      "cell_type": "markdown",
      "metadata": {
        "id": "c05bo0kFQdRg"
      },
      "source": [
        "Если подключение прошло успешно у вас повится новая папка \"drive\""
      ]
    },
    {
      "cell_type": "markdown",
      "metadata": {
        "id": "kIsNp3ZjQda0"
      },
      "source": [
        "![2021-02-21_23-16-27.png](data:image/png;base64,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)"
      ]
    },
    {
      "cell_type": "markdown",
      "metadata": {
        "id": "0mzQ_hYugAbL"
      },
      "source": [
        "! Важный момент: в ноутбуках занятий мы скачиваем базы и с другого сайта. Для вас это удобный пример, что мы можем скачивать данные не только с Google Drive. Но вам рекомендуем использовать именно сервер Google, и оставляем в ноутбуке шаблон подключения, в котором вам нужно будет указать путь к вашему файлу. Инструкции по подключению диска Google, а также по работе с файлами, приведём в списке литературы."
      ]
    },
    {
      "cell_type": "markdown",
      "metadata": {
        "id": "g0dGbkpnudeu"
      },
      "source": [
        "## Доступ к ноутбуку - важный момент\n",
        "\n"
      ]
    },
    {
      "cell_type": "markdown",
      "metadata": {
        "id": "BEGRZbL4u0Hs"
      },
      "source": [
        "Когда собираетесь поделиться с кем-то ссылкой на Ваш ноутбук, не забудьте, что по умолчанию доступ к нему по этой ссылке будет закрыт. Чтобы человек, с которым Вы делитесь ссылкой, смог посмотреть либо редактировать содержимое Вашего ноутбука, нужно в верхнем правом углу нажать Поделиться - Разрешить доступ всем, у кого есть ссылка - выбрать Читатель, Комментатор, или Редактор, - Копировать ссылку - Готово."
      ]
    },
    {
      "cell_type": "markdown",
      "metadata": {
        "id": "W4brZ8YaypxO"
      },
      "source": [
        "## Примечание"
      ]
    },
    {
      "cell_type": "markdown",
      "metadata": {
        "id": "VhRGp3Rcytlf"
      },
      "source": [
        "В Python и Колабе (Google Colab) возможно выводить результат выполнения, не применяя print. Для этого, поместите выражение или переменную, которую хотите вывести, последней в коде ячейки. Если хотите вывести несколько переменных или результатов, лучше использовать print. "
      ]
    },
    {
      "cell_type": "markdown",
      "metadata": {
        "id": "cFaNONz3YdHq"
      },
      "source": [
        "# Знакомство с Python"
      ]
    },
    {
      "cell_type": "markdown",
      "metadata": {
        "id": "DAcNHwXyYdQa"
      },
      "source": [
        "# Стандартные функции ввода и вывода (print, input)"
      ]
    },
    {
      "cell_type": "markdown",
      "metadata": {
        "id": "2iXIqwT3c1aj"
      },
      "source": [
        "Первая стандартная функция языка Python, с которой мы познакомимся - это print.\n",
        "\n",
        "Функции - это куски кода, которые уже написаны кем-то, для использования нам достаточно их вызвать и передать им нужные аргументы в скобках. \n",
        "\n",
        "Стандартные функции - это функции которые уже входят в Python"
      ]
    },
    {
      "cell_type": "code",
      "metadata": {
        "colab": {
          "base_uri": "https://localhost:8080/"
        },
        "id": "8jJoh91SaaZg",
        "outputId": "f41c9e26-987c-42fb-bb7f-f7f519759c89"
      },
      "source": [
        "# напечатаем текст \"Я люблю Питон!\"\n",
        "print(\"Я люблю Питон!\")"
      ],
      "execution_count": null,
      "outputs": [
        {
          "output_type": "stream",
          "text": [
            "Я люблю Питон!\n"
          ],
          "name": "stdout"
        }
      ]
    },
    {
      "cell_type": "code",
      "metadata": {
        "colab": {
          "base_uri": "https://localhost:8080/"
        },
        "id": "GofGW67caalF",
        "outputId": "aae69adc-172b-473a-e7f5-a05adee6e14f"
      },
      "source": [
        "# напечатаем документацию к функции print\n",
        "print(print.__doc__)"
      ],
      "execution_count": null,
      "outputs": [
        {
          "output_type": "stream",
          "text": [
            "print(value, ..., sep=' ', end='\\n', file=sys.stdout, flush=False)\n",
            "\n",
            "Prints the values to a stream, or to sys.stdout by default.\n",
            "Optional keyword arguments:\n",
            "file:  a file-like object (stream); defaults to the current sys.stdout.\n",
            "sep:   string inserted between values, default a space.\n",
            "end:   string appended after the last value, default a newline.\n",
            "flush: whether to forcibly flush the stream.\n"
          ],
          "name": "stdout"
        }
      ]
    },
    {
      "cell_type": "markdown",
      "metadata": {
        "id": "T-_amF5zdm2_"
      },
      "source": [
        "Синтаксис команды\n",
        "\n",
        "print( objects, sep = ' ', end = '\\n')\n",
        "\n",
        "sep - разделитель между объектами, если не указан, то по умолчанию пробел\n",
        "\n",
        "end - заключительный символ, если не указан, то перевод строки\n",
        "\n"
      ]
    },
    {
      "cell_type": "code",
      "metadata": {
        "colab": {
          "base_uri": "https://localhost:8080/"
        },
        "id": "e3a4ty8zaaqI",
        "outputId": "7e81846a-c082-4123-8751-2e664c0f78f4"
      },
      "source": [
        "print(15) # напечатаем число 15 "
      ],
      "execution_count": null,
      "outputs": [
        {
          "output_type": "stream",
          "text": [
            "15\n"
          ],
          "name": "stdout"
        }
      ]
    },
    {
      "cell_type": "code",
      "metadata": {
        "colab": {
          "base_uri": "https://localhost:8080/"
        },
        "id": "u5L64rJdBbrM",
        "outputId": "ac35c892-da71-4fbc-d0f7-dbc59195467a"
      },
      "source": [
        "print(round(15.7456,2)) # округлим число 15.7456 до 2-го знака после запятой (в англоязычных источниках вместо , используется .)"
      ],
      "execution_count": null,
      "outputs": [
        {
          "output_type": "stream",
          "text": [
            "15.75\n"
          ],
          "name": "stdout"
        }
      ]
    },
    {
      "cell_type": "code",
      "metadata": {
        "colab": {
          "base_uri": "https://localhost:8080/"
        },
        "id": "WVmINQVKaawT",
        "outputId": "0d7cfb68-56d6-464f-be92-dfc135bc315f"
      },
      "source": [
        "print('Маша', 'Миша') # напечатаем имена Маша и Миша"
      ],
      "execution_count": null,
      "outputs": [
        {
          "output_type": "stream",
          "text": [
            "Маша Миша\n"
          ],
          "name": "stdout"
        }
      ]
    },
    {
      "cell_type": "code",
      "metadata": {
        "colab": {
          "base_uri": "https://localhost:8080/"
        },
        "id": "8nzR_cIIepmH",
        "outputId": "6fdb8fda-d67b-431a-844a-e40247175072"
      },
      "source": [
        "print('Маша', 'Миша', sep=', ') # напечатаем имена Маша и Миша, используя в качестве разделителя запятую"
      ],
      "execution_count": null,
      "outputs": [
        {
          "output_type": "stream",
          "text": [
            "Маша, Миша\n"
          ],
          "name": "stdout"
        }
      ]
    },
    {
      "cell_type": "code",
      "metadata": {
        "colab": {
          "base_uri": "https://localhost:8080/"
        },
        "id": "K-Lo92aJewXA",
        "outputId": "081d6ac0-8658-4665-d341-6eb1c31c5dc9"
      },
      "source": [
        "print('Маша') # напечатаем имя Маша\n",
        "print('Миша') # напечатаем имя Миша"
      ],
      "execution_count": null,
      "outputs": [
        {
          "output_type": "stream",
          "text": [
            "Маша\n",
            "Миша\n"
          ],
          "name": "stdout"
        }
      ]
    },
    {
      "cell_type": "code",
      "metadata": {
        "colab": {
          "base_uri": "https://localhost:8080/"
        },
        "id": "cTEcD889e4nG",
        "outputId": "7a739b80-3cdd-4161-ef30-89c92fe102cf"
      },
      "source": [
        "print('Маша', end=' ') # напечатаем имя Маша, вместо перевода строки выведем пробел\n",
        "print('Миша') # напечатаем имя Миша"
      ],
      "execution_count": null,
      "outputs": [
        {
          "output_type": "stream",
          "text": [
            "Маша Миша\n"
          ],
          "name": "stdout"
        }
      ]
    },
    {
      "cell_type": "code",
      "metadata": {
        "colab": {
          "base_uri": "https://localhost:8080/"
        },
        "id": "A5bXsz4qfN46",
        "outputId": "30efaa3c-c3f2-41e5-f3d7-e7130d584b52"
      },
      "source": [
        "name = 'Сергей' # создадим переменную, где будем хранить имя\n",
        "age  = 30 # создадим переменную и запомним в ней возраст\n",
        "\n",
        "print('привет, меня зовут', name, 'мне', age, 'лет') # выведем сообщение (способ 1)"
      ],
      "execution_count": null,
      "outputs": [
        {
          "output_type": "stream",
          "text": [
            "привет, меня зовут Сергей мне 30 лет\n"
          ],
          "name": "stdout"
        }
      ]
    },
    {
      "cell_type": "code",
      "metadata": {
        "colab": {
          "base_uri": "https://localhost:8080/"
        },
        "id": "bHWdW0ZvgQob",
        "outputId": "97ecacc0-9c67-4727-c680-6fc36bcd5db2"
      },
      "source": [
        "print('привет, меня зовут {} мне {} лет'.format(name, age)) # выведем сообщение (способ 2)"
      ],
      "execution_count": null,
      "outputs": [
        {
          "output_type": "stream",
          "text": [
            "привет, меня зовут Сергей мне 30 лет\n"
          ],
          "name": "stdout"
        }
      ]
    },
    {
      "cell_type": "code",
      "metadata": {
        "colab": {
          "base_uri": "https://localhost:8080/"
        },
        "id": "i-81y_WafOBZ",
        "outputId": "3b634d1c-46be-4841-a244-8472576ef717"
      },
      "source": [
        "print(f'привет, меня зовут {name} мне {age} лет') # выведем сообщение (способ 3)"
      ],
      "execution_count": null,
      "outputs": [
        {
          "output_type": "stream",
          "text": [
            "привет, меня зовут Сергей мне 30 лет\n"
          ],
          "name": "stdout"
        }
      ]
    },
    {
      "cell_type": "markdown",
      "metadata": {
        "id": "1tjyXpEriHN1"
      },
      "source": [
        "Примечание - кодовая ячейка ноутбука выводит нам значение, которое возвращается в последней строке, поэтому быстро посмотреть значение в переменной или результа вычислений можно и без функции print"
      ]
    },
    {
      "cell_type": "code",
      "metadata": {
        "colab": {
          "base_uri": "https://localhost:8080/",
          "height": 35
        },
        "id": "U3qnPHf9fOJY",
        "outputId": "2ea31db2-f700-4a79-c3c4-1ebba00df2dd"
      },
      "source": [
        "name"
      ],
      "execution_count": null,
      "outputs": [
        {
          "output_type": "execute_result",
          "data": {
            "application/vnd.google.colaboratory.intrinsic+json": {
              "type": "string"
            },
            "text/plain": [
              "'Сергей'"
            ]
          },
          "metadata": {
            "tags": []
          },
          "execution_count": 16
        }
      ]
    },
    {
      "cell_type": "code",
      "metadata": {
        "colab": {
          "base_uri": "https://localhost:8080/"
        },
        "id": "QZLQXOGpfOQh",
        "outputId": "16cdbbdb-abf6-408d-e220-a57ed1994ac2"
      },
      "source": [
        "10+20"
      ],
      "execution_count": null,
      "outputs": [
        {
          "output_type": "execute_result",
          "data": {
            "text/plain": [
              "30"
            ]
          },
          "metadata": {
            "tags": []
          },
          "execution_count": 17
        }
      ]
    },
    {
      "cell_type": "markdown",
      "metadata": {
        "id": "5gc7mrDWieZH"
      },
      "source": [
        "Если такое поведение нам не нужно, можно экранировать вывод добавив символ \";\""
      ]
    },
    {
      "cell_type": "code",
      "metadata": {
        "id": "oVMv0At1ioPT"
      },
      "source": [
        "name;"
      ],
      "execution_count": null,
      "outputs": []
    },
    {
      "cell_type": "markdown",
      "metadata": {
        "id": "5hZXZrP2jIdq"
      },
      "source": [
        "Познакомимся с командой input()\n",
        "у команды один аргумент - prompt - это текст приглашения \n",
        "\n",
        "\n"
      ]
    },
    {
      "cell_type": "code",
      "metadata": {
        "colab": {
          "base_uri": "https://localhost:8080/"
        },
        "id": "OPXQeqpFiobD",
        "outputId": "f6c56981-0101-4873-f680-172f0d99487b"
      },
      "source": [
        "name = input('Как вас зовут? ')\n",
        "print(f'Приятно познакомиться, {name}!')"
      ],
      "execution_count": null,
      "outputs": [
        {
          "output_type": "stream",
          "text": [
            "Как вас зовут? Сеньор\n",
            "Приятно познакомиться, Сеньор!\n"
          ],
          "name": "stdout"
        }
      ]
    },
    {
      "cell_type": "markdown",
      "metadata": {
        "id": "qWJZF3hFYdVj"
      },
      "source": [
        "# Переменные и простые типы данных"
      ]
    },
    {
      "cell_type": "markdown",
      "metadata": {
        "id": "E_1JmJAglgqE"
      },
      "source": [
        "## Переменные"
      ]
    },
    {
      "cell_type": "markdown",
      "metadata": {
        "id": "6M5FNJD2jus4"
      },
      "source": [
        "В переменных мы храним данные. \n",
        "\n",
        "Название переменной начинается с латинской буквы или символа \"_\"\n",
        "\n",
        "Нельзя использовать ключевые слова языка Python: and, as, assert, break, class, continue, def, del, elif, else, except, False, finally, for, from, global, if, import, in, is, lambda, None, nonlocal, not, or, pass, raise, return, True, try, while, with, yield."
      ]
    },
    {
      "cell_type": "markdown",
      "metadata": {
        "id": "Uwsmqb1RjuxP"
      },
      "source": [
        "## Числовые типы"
      ]
    },
    {
      "cell_type": "markdown",
      "metadata": {
        "id": "JtFIE6AXmmcU"
      },
      "source": [
        "Основные типы данных, которые используются в Python для хранения чисел:\n",
        "\n",
        "*   int - целочисленные\n",
        "*   float - с плавающей точкой\n",
        "\n",
        "\n",
        "у типа float целая часть отделяется от дробной с помощью символа \".\"\n",
        "\n",
        "Для общего развития стоит упомянуть, что есть еще один тип данных  - complex - комплексные числа. Но в нашем курсе они не понадобятся.\n",
        "\n",
        "\n",
        "\n"
      ]
    },
    {
      "cell_type": "code",
      "metadata": {
        "colab": {
          "base_uri": "https://localhost:8080/"
        },
        "id": "xCFV23iBn56U",
        "outputId": "5301b83d-5fac-44d4-f6d3-8c13375e4a37"
      },
      "source": [
        "a = 1  # создадим переменную a запишем в неё целое число 1\n",
        "b = 1.0 # создадим переменную b и запишем в неё число с плавающей точкой 1.0\n",
        "\n",
        "print(f\"значение первой переменной {a}, её тип {type(a)}\") # напечатаем число и его тип\n",
        "print(f\"значение второй переменной {b}, её тип {type(b)}\") # напечатаем число и его тип"
      ],
      "execution_count": null,
      "outputs": [
        {
          "output_type": "stream",
          "text": [
            "значение первой переменной 1, её тип <class 'int'>\n",
            "значение второй переменной 1.0, её тип <class 'float'>\n"
          ],
          "name": "stdout"
        }
      ]
    },
    {
      "cell_type": "markdown",
      "metadata": {
        "id": "L0sVBROBpGLR"
      },
      "source": [
        "Стандартные арифметические операции: \n",
        "* Сложение +\n",
        "* Вычитание -\n",
        "* Умножение *\n",
        "* Возведение в степень ** \n",
        "* Деление /\n",
        "* Целочисленное деление //\n",
        "* Остаток от деления %"
      ]
    },
    {
      "cell_type": "code",
      "metadata": {
        "colab": {
          "base_uri": "https://localhost:8080/"
        },
        "id": "QsBemmsmn6Dq",
        "outputId": "1c567283-1d90-46ec-8077-212d15c027cd"
      },
      "source": [
        "1 + 1 # сложение"
      ],
      "execution_count": null,
      "outputs": [
        {
          "output_type": "execute_result",
          "data": {
            "text/plain": [
              "2"
            ]
          },
          "metadata": {
            "tags": []
          },
          "execution_count": 23
        }
      ]
    },
    {
      "cell_type": "code",
      "metadata": {
        "colab": {
          "base_uri": "https://localhost:8080/"
        },
        "id": "wODp0PM5n6MK",
        "outputId": "d99e67d9-7567-410b-ed25-62f424de3f83"
      },
      "source": [
        "2 * 2 # умножение"
      ],
      "execution_count": null,
      "outputs": [
        {
          "output_type": "execute_result",
          "data": {
            "text/plain": [
              "4"
            ]
          },
          "metadata": {
            "tags": []
          },
          "execution_count": 24
        }
      ]
    },
    {
      "cell_type": "code",
      "metadata": {
        "colab": {
          "base_uri": "https://localhost:8080/"
        },
        "id": "Z0uzFMYYp2dZ",
        "outputId": "8ba0c719-71b2-4fae-9a10-0ce70e4b9a06"
      },
      "source": [
        "2**.5 # возведение в степень"
      ],
      "execution_count": null,
      "outputs": [
        {
          "output_type": "execute_result",
          "data": {
            "text/plain": [
              "1.4142135623730951"
            ]
          },
          "metadata": {
            "tags": []
          },
          "execution_count": 25
        }
      ]
    },
    {
      "cell_type": "code",
      "metadata": {
        "colab": {
          "base_uri": "https://localhost:8080/"
        },
        "id": "Y8Zk59AKp92S",
        "outputId": "dabbf829-bd68-4010-db1c-dbbc3b920ccf"
      },
      "source": [
        "10 / 3 # деление"
      ],
      "execution_count": null,
      "outputs": [
        {
          "output_type": "execute_result",
          "data": {
            "text/plain": [
              "3.3333333333333335"
            ]
          },
          "metadata": {
            "tags": []
          },
          "execution_count": 26
        }
      ]
    },
    {
      "cell_type": "code",
      "metadata": {
        "colab": {
          "base_uri": "https://localhost:8080/"
        },
        "id": "c6_5SXRip5Y3",
        "outputId": "0393d5d4-3c84-4932-f47f-2a77a9a6fe4e"
      },
      "source": [
        "10 // 3 # целочисленное деление"
      ],
      "execution_count": null,
      "outputs": [
        {
          "output_type": "execute_result",
          "data": {
            "text/plain": [
              "3"
            ]
          },
          "metadata": {
            "tags": []
          },
          "execution_count": 27
        }
      ]
    },
    {
      "cell_type": "code",
      "metadata": {
        "colab": {
          "base_uri": "https://localhost:8080/"
        },
        "id": "a6HkbONgp7tQ",
        "outputId": "8b21bfec-1133-43ea-d324-bbda0556a5a1"
      },
      "source": [
        "10 % 3 # остаток от целочисленного деления"
      ],
      "execution_count": null,
      "outputs": [
        {
          "output_type": "execute_result",
          "data": {
            "text/plain": [
              "1"
            ]
          },
          "metadata": {
            "tags": []
          },
          "execution_count": 28
        }
      ]
    },
    {
      "cell_type": "markdown",
      "metadata": {
        "id": "bW7PE16vu9SU"
      },
      "source": [
        "Приоритет выполнения арифметических операций:\n",
        "\n",
        "1.   Возведение в степень\n",
        "2.   Умножение и деление\n",
        "3.   Сложение и вычитание\n",
        "\n"
      ]
    },
    {
      "cell_type": "markdown",
      "metadata": {
        "id": "Cm0ay9mAqV9l"
      },
      "source": [
        "## Boolean - логический тип"
      ]
    },
    {
      "cell_type": "markdown",
      "metadata": {
        "id": "SIRR80-DqiZG"
      },
      "source": [
        "Переменные логического типа (boolean) могут принимать только два значения - \n",
        "* True (истина)\n",
        "* False (ложь)"
      ]
    },
    {
      "cell_type": "code",
      "metadata": {
        "colab": {
          "base_uri": "https://localhost:8080/"
        },
        "id": "FwhCUcJerpkL",
        "outputId": "99489d3b-722e-431b-c991-84226093068d"
      },
      "source": [
        "x = True # запишем в переменную x значение True (истина)\n",
        "y = False # запишем в переменную y значение False (ложь)\n",
        "\n",
        "print(f\"значение первой переменной {x}, её тип {type(x)}\") # напечатаем значение переменной и её тип\n",
        "print(f\"значение второй переменной {y}, её тип {type(y)}\") # напечатаем значение переменной и её тип"
      ],
      "execution_count": null,
      "outputs": [
        {
          "output_type": "stream",
          "text": [
            "значение первой переменной True, её тип <class 'bool'>\n",
            "значение второй переменной False, её тип <class 'bool'>\n"
          ],
          "name": "stdout"
        }
      ]
    },
    {
      "cell_type": "markdown",
      "metadata": {
        "id": "9MT3AUzzqilX"
      },
      "source": [
        "Основные операции, которые можно выполнять над переменными типа boolean:\n",
        "\n",
        "* Логическое И  - and\n",
        "* Логическое ИЛИ  - or \n",
        "* Логическое НЕ - not"
      ]
    },
    {
      "cell_type": "code",
      "metadata": {
        "colab": {
          "base_uri": "https://localhost:8080/"
        },
        "id": "raM6pDr5uxqp",
        "outputId": "7b0dac30-03dc-4298-8ec1-d63d9497b336"
      },
      "source": [
        "x and y # результат выполнения операции логическое И"
      ],
      "execution_count": null,
      "outputs": [
        {
          "output_type": "execute_result",
          "data": {
            "text/plain": [
              "False"
            ]
          },
          "metadata": {
            "tags": []
          },
          "execution_count": 30
        }
      ]
    },
    {
      "cell_type": "code",
      "metadata": {
        "colab": {
          "base_uri": "https://localhost:8080/"
        },
        "id": "MHt6Rq-uu4xi",
        "outputId": "7bdb5de4-4ab6-4211-9c58-f9f54c8c69e8"
      },
      "source": [
        "x and not y # результат выполнения операции логическое НЕ и логическое И"
      ],
      "execution_count": null,
      "outputs": [
        {
          "output_type": "execute_result",
          "data": {
            "text/plain": [
              "True"
            ]
          },
          "metadata": {
            "tags": []
          },
          "execution_count": 31
        }
      ]
    },
    {
      "cell_type": "code",
      "metadata": {
        "colab": {
          "base_uri": "https://localhost:8080/"
        },
        "id": "bLEp9QnEu1sx",
        "outputId": "bb4446d0-1ad7-4806-ef00-417c8cf4c0eb"
      },
      "source": [
        "x or y # результат выполнения операции логическое ИЛИ"
      ],
      "execution_count": null,
      "outputs": [
        {
          "output_type": "execute_result",
          "data": {
            "text/plain": [
              "True"
            ]
          },
          "metadata": {
            "tags": []
          },
          "execution_count": 32
        }
      ]
    },
    {
      "cell_type": "markdown",
      "metadata": {
        "id": "aikeDkwPvhSt"
      },
      "source": [
        "Приоритет выполнения логических операций:\n",
        "\n",
        "1.   not\n",
        "2.   and\n",
        "3.   or\n",
        "\n"
      ]
    },
    {
      "cell_type": "markdown",
      "metadata": {
        "id": "63vG8aGbwBzd"
      },
      "source": [
        "## Операции сравнения"
      ]
    },
    {
      "cell_type": "markdown",
      "metadata": {
        "id": "n1-_Ub5mqivG"
      },
      "source": [
        "Мы можем не только выполнять операции над переменными, но и сравнивать их между собой. Операции сравнения:\n",
        "\n",
        "*   Равно ==\n",
        "*   Не равно !=\n",
        "*   Больше, меньше >, <\n",
        "*   Больше или равно, меньше или равно >=, <= \n",
        "\n"
      ]
    },
    {
      "cell_type": "code",
      "metadata": {
        "id": "zs9RgYZUw31Q"
      },
      "source": [
        "# инициализируем переменные\n",
        "a = 1 \n",
        "b = 2.0\n",
        "\n",
        "x = True\n",
        "y = False"
      ],
      "execution_count": null,
      "outputs": []
    },
    {
      "cell_type": "code",
      "metadata": {
        "colab": {
          "base_uri": "https://localhost:8080/"
        },
        "id": "PuK8B5PMw39T",
        "outputId": "9f708f88-30a8-4ded-c02e-e910ab6e0343"
      },
      "source": [
        "a >= b  # проверка что первое число больше или равно второго"
      ],
      "execution_count": null,
      "outputs": [
        {
          "output_type": "execute_result",
          "data": {
            "text/plain": [
              "False"
            ]
          },
          "metadata": {
            "tags": []
          },
          "execution_count": 34
        }
      ]
    },
    {
      "cell_type": "code",
      "metadata": {
        "colab": {
          "base_uri": "https://localhost:8080/"
        },
        "id": "Uoz0gsv9w4Fb",
        "outputId": "a7d81a50-21ab-4bf5-dd22-6e7d2280ab49"
      },
      "source": [
        "a != b # проверка что первое число НЕ равно второму"
      ],
      "execution_count": null,
      "outputs": [
        {
          "output_type": "execute_result",
          "data": {
            "text/plain": [
              "True"
            ]
          },
          "metadata": {
            "tags": []
          },
          "execution_count": 35
        }
      ]
    },
    {
      "cell_type": "code",
      "metadata": {
        "colab": {
          "base_uri": "https://localhost:8080/"
        },
        "id": "y1nFK4kDxcqh",
        "outputId": "bcdbfd14-75c3-4a3c-aab8-dcbde6ef478d"
      },
      "source": [
        "a == b # проверка что первое число равно второму"
      ],
      "execution_count": null,
      "outputs": [
        {
          "output_type": "execute_result",
          "data": {
            "text/plain": [
              "False"
            ]
          },
          "metadata": {
            "tags": []
          },
          "execution_count": 36
        }
      ]
    },
    {
      "cell_type": "code",
      "metadata": {
        "colab": {
          "base_uri": "https://localhost:8080/"
        },
        "id": "T3baw3MPxc0O",
        "outputId": "be72dc7d-8858-44ad-a2af-db91dbba3e54"
      },
      "source": [
        "x == y # проверка что первая переменная совпадает со второй"
      ],
      "execution_count": null,
      "outputs": [
        {
          "output_type": "execute_result",
          "data": {
            "text/plain": [
              "False"
            ]
          },
          "metadata": {
            "tags": []
          },
          "execution_count": 37
        }
      ]
    },
    {
      "cell_type": "code",
      "metadata": {
        "colab": {
          "base_uri": "https://localhost:8080/"
        },
        "id": "u9nhn2GCxiXj",
        "outputId": "9f09d3d1-8b7f-47da-85ed-e968e7ff2be3"
      },
      "source": [
        "x != y # проверка что первая переменная НЕ совпадает со второй"
      ],
      "execution_count": null,
      "outputs": [
        {
          "output_type": "execute_result",
          "data": {
            "text/plain": [
              "True"
            ]
          },
          "metadata": {
            "tags": []
          },
          "execution_count": 38
        }
      ]
    },
    {
      "cell_type": "markdown",
      "metadata": {
        "id": "P98nRRbWyKFs"
      },
      "source": [
        "## String - строковый тип"
      ]
    },
    {
      "cell_type": "markdown",
      "metadata": {
        "id": "TfqX4BDTyI5E"
      },
      "source": [
        "Строковый тип - string хранит в себе последовательность символов. \n",
        "Для создания строки можно использовать одинарные ' или двойные \" кавычки.\n"
      ]
    },
    {
      "cell_type": "code",
      "metadata": {
        "colab": {
          "base_uri": "https://localhost:8080/"
        },
        "id": "U4EAGrjtVDXg",
        "outputId": "4bc2d170-c1be-4a00-84ba-0d58a082298d"
      },
      "source": [
        "s = '' # создадим пустую строку\n",
        "print(s) # выведем её на печать, но ничего нет... так и должно быть\n",
        "type(s)"
      ],
      "execution_count": null,
      "outputs": [
        {
          "output_type": "stream",
          "text": [
            "\n"
          ],
          "name": "stdout"
        },
        {
          "output_type": "execute_result",
          "data": {
            "text/plain": [
              "str"
            ]
          },
          "metadata": {
            "tags": []
          },
          "execution_count": 39
        }
      ]
    },
    {
      "cell_type": "code",
      "metadata": {
        "id": "FRwaVLtWzl2M"
      },
      "source": [
        "# создадим две строковые переменные\n",
        "s1 = 'Эта строка создана с использованием одинарных кавычек'\n",
        "s2 = \"Эта строка создана с использованием двойных кавычек\""
      ],
      "execution_count": null,
      "outputs": []
    },
    {
      "cell_type": "markdown",
      "metadata": {
        "id": "ZzYaPSDuzzue"
      },
      "source": [
        "Если нам нужно что-бы в последовательнсти символов участвовали одинарные или двойные кавычки мы оборачиваем создание строки в кавычки другого типа. Примеры:"
      ]
    },
    {
      "cell_type": "code",
      "metadata": {
        "colab": {
          "base_uri": "https://localhost:8080/"
        },
        "id": "WFQvu-W6z-mq",
        "outputId": "5051385f-76ed-4b2b-80e3-e89e96f7faa7"
      },
      "source": [
        "s3 = \"Строка содержит 'одинарные кавычки' \" # создадим стоковую переменную, содержащую одинарные кавычки\n",
        "print(s3) # выведем её на печать\n",
        "s4 = 'Строка содержит \"двойные кавычки\" ' # создадим стоковую переменную, содержащую двойные кавычки\n",
        "print(s4) # выведем её на печать"
      ],
      "execution_count": null,
      "outputs": [
        {
          "output_type": "stream",
          "text": [
            "Строка содержит 'одинарные кавычки' \n",
            "Строка содержит \"двойные кавычки\" \n"
          ],
          "name": "stdout"
        }
      ]
    },
    {
      "cell_type": "markdown",
      "metadata": {
        "id": "hdg_iI9Y0XNh"
      },
      "source": [
        "Если мы хотим создать строковую переменную длиной в несколько строк, то сделать это можно следующим образом"
      ]
    },
    {
      "cell_type": "code",
      "metadata": {
        "colab": {
          "base_uri": "https://localhost:8080/"
        },
        "id": "IlWZL1kT0JzH",
        "outputId": "6958d2b2-4cf4-4925-cf79-994258617348"
      },
      "source": [
        "# создадим строковвую переменную, содержащую несколько строк\n",
        "s5 = '''это длинная строковая переменная\n",
        "это вторая строка\n",
        "это третья строка\n",
        "это последняя строка '''\n",
        "print(s5) # выведем её на печать"
      ],
      "execution_count": null,
      "outputs": [
        {
          "output_type": "stream",
          "text": [
            "это длинная строковая переменная\n",
            "это вторая строка\n",
            "это третья строка\n",
            "это последняя строка \n"
          ],
          "name": "stdout"
        }
      ]
    },
    {
      "cell_type": "markdown",
      "metadata": {
        "id": "C5RQfQJTqi39"
      },
      "source": [
        "Какие операции можно выполнять со строками? Python содержит очень много встроенных средств для работы со строками. Вот только некоторые из них:"
      ]
    },
    {
      "cell_type": "code",
      "metadata": {
        "colab": {
          "base_uri": "https://localhost:8080/",
          "height": 35
        },
        "id": "oqLosU3R1d3x",
        "outputId": "f54334ad-057e-46ba-ff40-25a525624f3c"
      },
      "source": [
        "\"первая часть строки \" +  \"вторая часть строки\" # конкатенация (сложение)"
      ],
      "execution_count": null,
      "outputs": [
        {
          "output_type": "execute_result",
          "data": {
            "application/vnd.google.colaboratory.intrinsic+json": {
              "type": "string"
            },
            "text/plain": [
              "'первая часть строки вторая часть строки'"
            ]
          },
          "metadata": {
            "tags": []
          },
          "execution_count": 43
        }
      ]
    },
    {
      "cell_type": "code",
      "metadata": {
        "colab": {
          "base_uri": "https://localhost:8080/"
        },
        "id": "0yyvgLEP1m3M",
        "outputId": "45b14535-beb7-40e0-ccdb-8e79a8f9a9b5"
      },
      "source": [
        "s1 = 'Тестовая Строка'\n",
        "\n",
        "print(s1.upper()) # переведем все символы в верхний регистр\n",
        "print(s1.lower()) # переведем все символы в нижний регистр\n",
        "print(len(s1)) # узнаем длину строки\n",
        "print(s1.replace(' ', ' ===> ')) # заменим одну подстроку на другую"
      ],
      "execution_count": null,
      "outputs": [
        {
          "output_type": "stream",
          "text": [
            "ТЕСТОВАЯ СТРОКА\n",
            "тестовая строка\n",
            "15\n",
            "Тестовая ===> Строка\n"
          ],
          "name": "stdout"
        }
      ]
    },
    {
      "cell_type": "markdown",
      "metadata": {
        "id": "pvVkXpkkQNoA"
      },
      "source": [
        "к элементу строки можно обратиться по индексу, например s[0] - первая буква строковой переменной s\n",
        "\n",
        "! важно: в python индексация объектов начинается с 0, \n",
        "\n",
        "! важно: если мы хотим обратиться к последнему элементу можно использовать индекс -1, к предпоследнему - индекс -2 и т.д."
      ]
    },
    {
      "cell_type": "code",
      "metadata": {
        "id": "Brk4JQkxQ5vJ"
      },
      "source": [
        "s = \"Тестовая Строка!\" #создадим строковую переменную"
      ],
      "execution_count": null,
      "outputs": []
    },
    {
      "cell_type": "code",
      "metadata": {
        "colab": {
          "base_uri": "https://localhost:8080/",
          "height": 35
        },
        "id": "uSsp9NlfQ_aR",
        "outputId": "413ce4a5-15d3-406e-f419-b0c44b5a04bc"
      },
      "source": [
        "s[-4] #обратимся к первому символу"
      ],
      "execution_count": null,
      "outputs": [
        {
          "output_type": "execute_result",
          "data": {
            "application/vnd.google.colaboratory.intrinsic+json": {
              "type": "string"
            },
            "text/plain": [
              "'о'"
            ]
          },
          "metadata": {
            "tags": []
          },
          "execution_count": 46
        }
      ]
    },
    {
      "cell_type": "code",
      "metadata": {
        "colab": {
          "base_uri": "https://localhost:8080/",
          "height": 35
        },
        "id": "-6OYv_MvRDKD",
        "outputId": "7c0f8bae-06e5-4ee1-ace0-ca6355601b11"
      },
      "source": [
        "s[1] # обратимся ко второму символу"
      ],
      "execution_count": null,
      "outputs": [
        {
          "output_type": "execute_result",
          "data": {
            "application/vnd.google.colaboratory.intrinsic+json": {
              "type": "string"
            },
            "text/plain": [
              "'е'"
            ]
          },
          "metadata": {
            "tags": []
          },
          "execution_count": 47
        }
      ]
    },
    {
      "cell_type": "code",
      "metadata": {
        "colab": {
          "base_uri": "https://localhost:8080/",
          "height": 35
        },
        "id": "8WpmYOP-RKOR",
        "outputId": "ce65fe69-724c-47cb-9dc0-5d3dd8faa162"
      },
      "source": [
        "s[-1] # обратимся к последнему символу"
      ],
      "execution_count": null,
      "outputs": [
        {
          "output_type": "execute_result",
          "data": {
            "application/vnd.google.colaboratory.intrinsic+json": {
              "type": "string"
            },
            "text/plain": [
              "'!'"
            ]
          },
          "metadata": {
            "tags": []
          },
          "execution_count": 48
        }
      ]
    },
    {
      "cell_type": "markdown",
      "metadata": {
        "id": "Pz9cksRG53_9"
      },
      "source": [
        "# Условный оператор if else"
      ]
    },
    {
      "cell_type": "markdown",
      "metadata": {
        "id": "GDDVdVB79x4U"
      },
      "source": [
        "Синтаксис условного оператора выглядит следующим образом\n",
        "\n",
        "```\n",
        "if <условие1>:\n",
        "    <блок команд 1, выполняется если выполнено условие 1>\n",
        "elif <условие 2>:\n",
        "    <блок команд 2>\n",
        "....\n",
        "else:\n",
        "    <блок команд else>\n",
        "```\n",
        "блоков elif в операторе может быть любое количество от нуля и до...\n",
        "блок else может быть а может и не быть\n"
      ]
    },
    {
      "cell_type": "code",
      "metadata": {
        "colab": {
          "base_uri": "https://localhost:8080/"
        },
        "id": "2-btgqqTIaba",
        "outputId": "cdf7ac5b-602a-4ab0-a537-c0039a6fd0af"
      },
      "source": [
        "a = input('введите число от 0 до 2 > ') # выведем приглашение и считаем текст\n",
        "if a == '0': # если мы считали ноль\n",
        "    print('вы ввели ноль') # выведем сообщение\n",
        "elif a == '1': # если мы считали единицу\n",
        "    print('вы ввели единицу') # выведем сообщение\n",
        "elif a == '2': # если мы считали двойку\n",
        "    print('вы ввели двойку') # выведем сообщение\n",
        "else: # иначе,т.е. если считали что-то другое\n",
        "    print('ошибка') # выведем сообщение об ошибке"
      ],
      "execution_count": null,
      "outputs": [
        {
          "output_type": "stream",
          "text": [
            "введите число от 0 до 2 > 3\n",
            "ошибка\n"
          ],
          "name": "stdout"
        }
      ]
    },
    {
      "cell_type": "markdown",
      "metadata": {
        "id": "JjT-v7GMJ_-z"
      },
      "source": [
        "! запомните, что функция input всегда возвращает результат в формате строковой переменной.  Мы можем проверить, содержит ли строковая переменная только числа  с помощью метода isdigit, а также перевести сторовую переменную к целочисленному типу с помощью функции int"
      ]
    },
    {
      "cell_type": "code",
      "metadata": {
        "colab": {
          "base_uri": "https://localhost:8080/"
        },
        "id": "WT14YVj4Jm3L",
        "outputId": "4caf0b2d-499d-4cad-ee46-061864c703c3"
      },
      "source": [
        "s = input('введите целое число > ') # выведем приглашение и считаем текст\n",
        "\n",
        "if s.isdigit(): # если s не пусто и состоит только из численных символов\n",
        "    a = int(s) # преобразуем s к целочисленному типу и запишем в a\n",
        "    if a % 2 == 0: # если остаток от деления а на 2 равен нулю\n",
        "        print(f'число {a} четное') # выведем сообщение\n",
        "    else: # иначе, т.е. если число нечетное\n",
        "        print(f'число {a} нечетное') # выведем сообщение\n",
        "else: # иначе, т.е. если пусто или содержит не целое\n",
        "    print('ошибка') # выведем сообщение об ошибке"
      ],
      "execution_count": null,
      "outputs": [
        {
          "output_type": "stream",
          "text": [
            "введите целое число > 5\n",
            "число 5 нечетное\n"
          ],
          "name": "stdout"
        }
      ]
    },
    {
      "cell_type": "markdown",
      "metadata": {
        "id": "kS1pcH1XLwtX"
      },
      "source": [
        "!  в языке Python вложенные блоки команд определяются отступами. Стандарт PEP8 рекомендует использовать отступ в 4 пробела. "
      ]
    },
    {
      "cell_type": "markdown",
      "metadata": {
        "id": "6M0pz-RDMaEx"
      },
      "source": [
        "# Циклы"
      ]
    },
    {
      "cell_type": "markdown",
      "metadata": {
        "id": "rqFLhTryMgLW"
      },
      "source": [
        "С помощью циклов мы говорим компьютеру что нужно повторить определенный участок кода сколько-то раз. В Python есть два основных вида циклов - while и for "
      ]
    },
    {
      "cell_type": "markdown",
      "metadata": {
        "id": "NqDt3Dz9M69A"
      },
      "source": [
        "## Цикл while"
      ]
    },
    {
      "cell_type": "markdown",
      "metadata": {
        "id": "tRZhOp3xM9MH"
      },
      "source": [
        "в простом виде синтаксис цикла while выглядит следущим образом:\n",
        "\n",
        "```\n",
        "while <условие>:\n",
        "    <тело цикла - последовательность команд>\n",
        "```\n",
        "\n",
        "т.е. мы говорим компьютеру что нужно выполнять последовательность команд пока верно условие\n",
        "\n",
        "в общем виде синтаксис цикла while выглядит следующим образом:\n",
        "\n",
        "```\n",
        "while <условие>:\n",
        "    <тело цикла - последовательность команд>\n",
        "\n",
        "else:\n",
        "   <последовательность команд когда условие не выполнено>     \n",
        "\n",
        "```\n",
        "\n"
      ]
    },
    {
      "cell_type": "code",
      "metadata": {
        "colab": {
          "base_uri": "https://localhost:8080/"
        },
        "id": "EXlez_DaJzGU",
        "outputId": "e9f71aa5-3c37-432f-9411-9915826d70fa"
      },
      "source": [
        "a = 0 # создадим переменную a\n",
        "b = 10 # создадим переменную b\n",
        "while a < b: # пока выполняется условие что a меньше b \n",
        "    print(a) # выведем на печать a  \n",
        "    a = a + 1 # увеличим a на 1\n",
        "else: # если условие не выполнилось\n",
        "    print('цикл закончен') # напечатаем сообщение "
      ],
      "execution_count": null,
      "outputs": [
        {
          "output_type": "stream",
          "text": [
            "0\n",
            "1\n",
            "2\n",
            "3\n",
            "4\n",
            "5\n",
            "6\n",
            "7\n",
            "8\n",
            "9\n",
            "цикл закончен\n"
          ],
          "name": "stdout"
        }
      ]
    },
    {
      "cell_type": "markdown",
      "metadata": {
        "id": "rj1BnU3bRQ5s"
      },
      "source": [
        "## Цикл for"
      ]
    },
    {
      "cell_type": "markdown",
      "metadata": {
        "id": "dprUHZNtRYA-"
      },
      "source": [
        "Цикл for позволяет нам проходить по некоторой последовательности, которая задается итерируемым объектом.\n",
        "Мы уже знаем один тип таких объектов - это строковый тип.\n",
        "\n",
        "синтаксис цикла for выглядит следующим образом:\n",
        "\n",
        "\n",
        "```\n",
        "for <подъобьект> in <итерируемый объект>:\n",
        "    <тело цикла - блок команд>\n",
        "```\n"
      ]
    },
    {
      "cell_type": "code",
      "metadata": {
        "colab": {
          "base_uri": "https://localhost:8080/"
        },
        "id": "9FXaDf9CT0ZS",
        "outputId": "17616235-b93c-402d-8571-4b79845a891b"
      },
      "source": [
        "s = 'Меня зовут Маша' # создадим строковую переменную s\n",
        "\n",
        "for c in s: # для каждой буквы входящей в строку \n",
        "    print(c*2, end='') # напечатаем эту букву два раза и не будем переводить каретку\n",
        "#print(s)"
      ],
      "execution_count": null,
      "outputs": [
        {
          "output_type": "stream",
          "text": [
            "ММеенняя  ззооввуутт  ММаашшаа"
          ],
          "name": "stdout"
        }
      ]
    },
    {
      "cell_type": "markdown",
      "metadata": {
        "id": "8N75lh4JUDez"
      },
      "source": [
        "есть еще один тип итерируемых объектов, с которыми нам стоит сейчас познакомиться - это итератор range. Он создает нам последовательность чисел, например range(10) - последовательность чисел от 0 до 9.\n",
        "\n",
        "! Важно - мы уже знаем, что индексация объектов в python начинается с 0. Также стоит запомнить, что верхняя граница диапазона у оператора range не включается в итоговую последовательность чисел."
      ]
    },
    {
      "cell_type": "code",
      "metadata": {
        "colab": {
          "base_uri": "https://localhost:8080/"
        },
        "id": "iw2J0nYyUu5M",
        "outputId": "b9b5c8c2-8ad4-4e0d-d3f5-dd1e4380b2d3"
      },
      "source": [
        "for i in range(10): # для каждого числа в диапазоне от 0 до 10 (не включая 10)\n",
        "    print(i, end = ' ') # напечатаем это число, вместо перевода строки печатаем пробел"
      ],
      "execution_count": null,
      "outputs": [
        {
          "output_type": "stream",
          "text": [
            "0 1 2 3 4 5 6 7 8 9 "
          ],
          "name": "stdout"
        }
      ]
    },
    {
      "cell_type": "markdown",
      "metadata": {
        "id": "WwKn90BvU3EB"
      },
      "source": [
        "полный синтаксис оператора range \n",
        "\n",
        "```\n",
        "range(start, stop, step)\n",
        "\n",
        "```\n",
        "\n",
        "*   start = первое значение, которое нам даст итератор, если не указано то равно 0\n",
        "\n",
        "*   stop - верхняя граница значений, не включается в итоговую последовательность\n",
        "*   step - шаг, с которым мы генерируем последовательность, по умолчанию 1. Что интересно, шаг может быть отрицательным\n",
        "\n",
        "\n"
      ]
    },
    {
      "cell_type": "code",
      "metadata": {
        "colab": {
          "base_uri": "https://localhost:8080/"
        },
        "id": "sL-fINJ8VK1u",
        "outputId": "5f785bb6-2b4e-48cd-c6c4-50d4b01269e0"
      },
      "source": [
        "for i in range(1,  20, 2): # для каждого числа из диапазона от 1 до 19 с шагом 2\n",
        "    print(i, end = ' ') # напечатаем это число"
      ],
      "execution_count": null,
      "outputs": [
        {
          "output_type": "stream",
          "text": [
            "1 3 5 7 9 11 13 15 17 19 "
          ],
          "name": "stdout"
        }
      ]
    },
    {
      "cell_type": "code",
      "metadata": {
        "colab": {
          "base_uri": "https://localhost:8080/"
        },
        "id": "rwxLwc94V0qc",
        "outputId": "e8ae2b39-e0c0-48af-c0ab-cd89f6ff3915"
      },
      "source": [
        "for i in range(10, 0, -1): # для каждого числа в диапазоне от 10 до 1 с шагом -1\n",
        "    print(i, end = ' ') # напечатаем это число"
      ],
      "execution_count": null,
      "outputs": [
        {
          "output_type": "stream",
          "text": [
            "10 9 8 7 6 5 4 3 2 1 "
          ],
          "name": "stdout"
        }
      ]
    },
    {
      "cell_type": "markdown",
      "metadata": {
        "id": "ekzlfWqFWvuP"
      },
      "source": [
        "Теперь, когда мы знакомы с циклом for, индексацией строк и range, сравним два разных способа выполнить задачу ."
      ]
    },
    {
      "cell_type": "code",
      "metadata": {
        "colab": {
          "base_uri": "https://localhost:8080/"
        },
        "id": "WO5Xs4-DWHvu",
        "outputId": "6406d600-16ab-4241-db9d-325a2cd15948"
      },
      "source": [
        "# с этим кодом мы уже знакомы\n",
        "s = 'Меня зовут Маша' # создадим строковую переменную s\n",
        "\n",
        "for c in s: # для каждого символа,  входящего в строку s \n",
        "    print(c*2, end='') # напечатаем эту букву два раза и не будем переводить каретку"
      ],
      "execution_count": null,
      "outputs": [
        {
          "output_type": "stream",
          "text": [
            "ММеенняя  ззооввуутт  ММаашшаа"
          ],
          "name": "stdout"
        }
      ]
    },
    {
      "cell_type": "code",
      "metadata": {
        "colab": {
          "base_uri": "https://localhost:8080/"
        },
        "id": "Tk-p2s3YWH-e",
        "outputId": "8b51555c-1a87-44f5-96d9-f7cc92036ee2"
      },
      "source": [
        "# альтернативная запись\n",
        "s = 'Меня зовут Маша'  # создадим строковую переменную s\n",
        "\n",
        "for i in range(len(s)): # для каждого индекса i в диапазоне от 0 до длинны строки s -1\n",
        "    print(s[i]*2, end='') # напечатаем элемент s c индексом i дважды, каретку не переводим"
      ],
      "execution_count": null,
      "outputs": [
        {
          "output_type": "stream",
          "text": [
            "ММеенняя  ззооввуутт  ММаашшаа"
          ],
          "name": "stdout"
        }
      ]
    },
    {
      "cell_type": "markdown",
      "metadata": {
        "id": "0hUgRhwJXi-f"
      },
      "source": [
        "Как вы думаете, какая запись больше соответствует Zen Python?"
      ]
    },
    {
      "cell_type": "markdown",
      "metadata": {
        "id": "DE0wv42oRuvk"
      },
      "source": [
        "## Операторы break и continue"
      ]
    },
    {
      "cell_type": "markdown",
      "metadata": {
        "id": "nfizE6JfR3JE"
      },
      "source": [
        "Внутри тела циклов for и while можно  использоваться 2 оператора:\n",
        "\n",
        "*   continue - начинает выполнение тела цикла заново, минуя оставшиеся команды предыдущего прохода\n",
        "*   break - инструкция досрочно заканчивает выполнение цикла"
      ]
    },
    {
      "cell_type": "code",
      "metadata": {
        "colab": {
          "base_uri": "https://localhost:8080/"
        },
        "id": "3iWKtk3fSLlr",
        "outputId": "bd915ad2-88ef-486c-8073-15881f991ccb"
      },
      "source": [
        "s = 'Привет, Маша! Меня зовут Миша' # создадим строковую переменную s\n",
        "\n",
        "for c in s: # для каждого символа входящего в строку  \n",
        "    if c == '!': # если символ равен \"!\"\n",
        "        break # прерываем выполнение цикла\n",
        "    \n",
        "    if c == ',': # если символ равен \",\"\n",
        "        continue # прерываем выполнение текущей итерации цикла, переходим на следующий круг\n",
        "\n",
        "    print(c*2, end = '') #выведем удвоенный символ\n",
        "    \n"
      ],
      "execution_count": null,
      "outputs": [
        {
          "output_type": "stream",
          "text": [
            "ППррииввеетт  ММаашшаа"
          ],
          "name": "stdout"
        }
      ]
    },
    {
      "cell_type": "markdown",
      "metadata": {
        "id": "tsR9S2j426jk"
      },
      "source": [
        "# Списки"
      ]
    },
    {
      "cell_type": "markdown",
      "metadata": {
        "id": "upbyuTdp3EJl"
      },
      "source": [
        "Мы закончили знакомство с простыми типами данных, начнем знакомиться с составными.  Самым распространенным типом данных является список.\n",
        "Список - это упорядоченнная последовательность элементов.\n",
        "Что из этого следует:\n",
        "1. Последовательность упорядоченная\n",
        "2. Элементы в последовательности могут быть любого типа\n",
        "3. Мы можем менять саму последовательность - добавлять или удалять элементы\n",
        "4. Мы можем изменять конкретные элементы списка"
      ]
    },
    {
      "cell_type": "code",
      "metadata": {
        "colab": {
          "base_uri": "https://localhost:8080/"
        },
        "id": "k9ezeRqW1sFp",
        "outputId": "832e1157-1e68-47c9-c451-71ef1c3c1499"
      },
      "source": [
        "l1 = list() # создадим пустой список\n",
        "l2 = [] # другой способ создать пустой список\n",
        "print(l1, type(l1)) # выведем на печать список  и его тип\n",
        "print(l2, type(l2)) # выведем на печать список  и его тип"
      ],
      "execution_count": null,
      "outputs": [
        {
          "output_type": "stream",
          "text": [
            "[] <class 'list'>\n",
            "[] <class 'list'>\n"
          ],
          "name": "stdout"
        }
      ]
    },
    {
      "cell_type": "markdown",
      "metadata": {
        "id": "wLHQ1fPR4oA2"
      },
      "source": [
        "однако пользы от пустого списка для нас немного, поэтому посмотрим как создать список из набора элементов"
      ]
    },
    {
      "cell_type": "code",
      "metadata": {
        "colab": {
          "base_uri": "https://localhost:8080/"
        },
        "id": "bim5Wy7C4uL0",
        "outputId": "659be634-ac09-45bb-8c5c-f63046ae0cf8"
      },
      "source": [
        "l1 = [1, 2, 3, True, 'строка', 100] # создадим список из произвольного набора данных\n",
        "print(l1) # выведем список на печать"
      ],
      "execution_count": null,
      "outputs": [
        {
          "output_type": "stream",
          "text": [
            "[1, 2, 3, True, 'строка', 100]\n"
          ],
          "name": "stdout"
        }
      ]
    },
    {
      "cell_type": "markdown",
      "metadata": {
        "id": "S63iTBVYWzbE"
      },
      "source": [
        "К элементу списка можно обратиться по индексу, индексация начинается с 0"
      ]
    },
    {
      "cell_type": "code",
      "metadata": {
        "colab": {
          "base_uri": "https://localhost:8080/"
        },
        "id": "35eVi3ZJW9Uh",
        "outputId": "f409ec54-e578-4c8c-e353-6552d0faf13c"
      },
      "source": [
        "l1 = [1, 2, 3, True, 'строка', 100] # создадим список из элементов разного типа\n",
        "print(l1[0]) # выведем его на печать"
      ],
      "execution_count": null,
      "outputs": [
        {
          "output_type": "stream",
          "text": [
            "1\n"
          ],
          "name": "stdout"
        }
      ]
    },
    {
      "cell_type": "markdown",
      "metadata": {
        "id": "HPxw6GMZXO2r"
      },
      "source": [
        "универсальная функция len помогает нам узнать длину списка"
      ]
    },
    {
      "cell_type": "code",
      "metadata": {
        "colab": {
          "base_uri": "https://localhost:8080/"
        },
        "id": "BdiNFBHFXJSC",
        "outputId": "2da88ee2-83af-4e92-be8d-8444183833e5"
      },
      "source": [
        "print(len(l1)) # напечатаем длину списка"
      ],
      "execution_count": null,
      "outputs": [
        {
          "output_type": "stream",
          "text": [
            "6\n"
          ],
          "name": "stdout"
        }
      ]
    },
    {
      "cell_type": "markdown",
      "metadata": {
        "id": "pf0pBMaAXWK2"
      },
      "source": [
        "Соединим полученные знания с уже изученным нами циклом for и выведем на печать все элементы списка"
      ]
    },
    {
      "cell_type": "code",
      "metadata": {
        "colab": {
          "base_uri": "https://localhost:8080/"
        },
        "id": "gARuwYTxXUnJ",
        "outputId": "19a905cf-62f1-470b-c436-b2fc4e579c41"
      },
      "source": [
        "l1 = [1, 2, 3, True, 'строка', 100]  # создадим список\n",
        "for i in range(len(l1)): # для каждого i в диапазоне от 0 до длина списка минус один\n",
        "    print(l1[i]) # напечатаем i-й элемент списка"
      ],
      "execution_count": null,
      "outputs": [
        {
          "output_type": "stream",
          "text": [
            "1\n",
            "2\n",
            "3\n",
            "True\n",
            "строка\n",
            "100\n"
          ],
          "name": "stdout"
        }
      ]
    },
    {
      "cell_type": "markdown",
      "metadata": {
        "id": "7_Ei1R8uXv62"
      },
      "source": [
        "Но Python дает нам гораздо более красивый путь прохождения по списку циклом for"
      ]
    },
    {
      "cell_type": "code",
      "metadata": {
        "colab": {
          "base_uri": "https://localhost:8080/"
        },
        "id": "gCdDLjBlX3-r",
        "outputId": "0a9b2eaa-ed90-488d-c288-faa3aecc8d06"
      },
      "source": [
        "l1 = [1, 2, 3, True, 'строка', 100]  # создадим список\n",
        "for elem in l1: # пройдем циклом по всем элементам списка\n",
        "    print(elem) # напечатаем элемент"
      ],
      "execution_count": null,
      "outputs": [
        {
          "output_type": "stream",
          "text": [
            "1\n",
            "2\n",
            "3\n",
            "True\n",
            "строка\n",
            "100\n"
          ],
          "name": "stdout"
        }
      ]
    },
    {
      "cell_type": "code",
      "metadata": {
        "colab": {
          "base_uri": "https://localhost:8080/"
        },
        "id": "ZXRXCZ1zY3Nb",
        "outputId": "42264fa1-3c52-4fa7-f804-827702e39cbe"
      },
      "source": [
        "# списки можно складывать\n",
        "\n",
        "l1 = ['зима', 'лето'] # создадим один список\n",
        "l2 = ['весна', 'осень'] # создадим второй список\n",
        "l_sum =  l1+l2\n",
        "\n",
        "print(l_sum, type(l_sum)) # выведем на печать результат сложения двух списков"
      ],
      "execution_count": null,
      "outputs": [
        {
          "output_type": "stream",
          "text": [
            "['зима', 'лето', 'весна', 'осень'] <class 'list'>\n"
          ],
          "name": "stdout"
        }
      ]
    },
    {
      "cell_type": "markdown",
      "metadata": {
        "id": "GEOpy915YLHE"
      },
      "source": [
        "Операции со списками в Python:\n",
        "* list.append  - добавить элемент в конец списка\n",
        "* list.extend(list2)  - добавить все элементы list2 в конец списка list\n",
        "* list.insert(i, x) - добавить элемент на i-е место\n",
        "* list.pop(i) - удаляет i-й элемент из списка и возвращает его нам\n",
        "* list.count(x) - считает количество вхождений в список элементов со значением х\n",
        "* list.index(x, [start [, end]]) - возвращает индекс первого вхождения элемента со значением х\n",
        "* list.remove(x) - удаляет первое вхождение элемента со значением x\n",
        "* list.sort([key=функция]) сортирует элементы списка на основе фунции\n",
        "* list.reverse() - разворачивает список\n"
      ]
    },
    {
      "cell_type": "code",
      "metadata": {
        "colab": {
          "base_uri": "https://localhost:8080/"
        },
        "id": "0GZbVPzb4SfI",
        "outputId": "a959bcc4-0be3-4190-91ba-873fd817cf4b"
      },
      "source": [
        "l1 = ['зима', 'лето'] # создадим список\n",
        "l1.append('осень') # добавим к нему элемент\n",
        "\n",
        "print(l1) # выведем результат на печать"
      ],
      "execution_count": null,
      "outputs": [
        {
          "output_type": "stream",
          "text": [
            "['зима', 'лето', 'осень']\n"
          ],
          "name": "stdout"
        }
      ]
    },
    {
      "cell_type": "code",
      "metadata": {
        "colab": {
          "base_uri": "https://localhost:8080/"
        },
        "id": "0P0LgHGHZsiA",
        "outputId": "655b7904-fd27-4c90-d4df-490639efa212"
      },
      "source": [
        "l1 = ['зима', 'лето'] # создадим список\n",
        "l1.insert(1, 'весна') # на второе место в списке (индекс 1) вставим новый элемент\n",
        "\n",
        "print(l1) # выведем результат на печать"
      ],
      "execution_count": null,
      "outputs": [
        {
          "output_type": "stream",
          "text": [
            "['зима', 'весна', 'лето']\n"
          ],
          "name": "stdout"
        }
      ]
    },
    {
      "cell_type": "code",
      "metadata": {
        "colab": {
          "base_uri": "https://localhost:8080/"
        },
        "id": "blKtivJhekID",
        "outputId": "01023e35-7e81-4df5-c8a8-c762b4ea7393"
      },
      "source": [
        "l1 = ['зима', 'лето'] # создадим списки\n",
        "l2 = ['осень', 'весна']\n",
        "l1.extend(l2) # добавим к нему список\n",
        "\n",
        "print(l1) # выведем результат на печать"
      ],
      "execution_count": null,
      "outputs": [
        {
          "output_type": "stream",
          "text": [
            "['зима', 'лето', 'осень', 'весна']\n"
          ],
          "name": "stdout"
        }
      ]
    },
    {
      "cell_type": "code",
      "metadata": {
        "colab": {
          "base_uri": "https://localhost:8080/"
        },
        "id": "NXeqRkNAaT9L",
        "outputId": "338119a7-97d9-4662-bab4-03a6be686189"
      },
      "source": [
        "l1 = ['зима', 'весна', 'лето'] # создадим список\n",
        "elem = l1.pop(1) # извлечем второй элемент (индекс 1) и запишем его в переменую elem \n",
        "\n",
        "print(elem) # выведем на печать переменную elem\n",
        "print(l1) # выведем на печать полученный список"
      ],
      "execution_count": null,
      "outputs": [
        {
          "output_type": "stream",
          "text": [
            "весна\n",
            "['зима', 'лето']\n"
          ],
          "name": "stdout"
        }
      ]
    },
    {
      "cell_type": "markdown",
      "metadata": {
        "id": "ML2FZE_5GNbZ"
      },
      "source": [
        "### Создание списков в списке, т.е. вложенных списков\n",
        "Это полезно прежде всего тем, что из таких списков можно создавать массивы данных для нейронной сети в формате быстрой библиотеки Numpy, которую пройдём позже."
      ]
    },
    {
      "cell_type": "code",
      "metadata": {
        "id": "rWsb_XtuGMS3"
      },
      "source": [
        "my_list_1 = [[0, 1], [2,3], [0, 1], [2,3]] # 2 размерности"
      ],
      "execution_count": null,
      "outputs": []
    },
    {
      "cell_type": "code",
      "metadata": {
        "colab": {
          "base_uri": "https://localhost:8080/"
        },
        "id": "KX_Eu7WVIQjh",
        "outputId": "039b1fcb-4874-424e-aa0a-c8eb9b0becce"
      },
      "source": [
        "print(my_list_1[0])"
      ],
      "execution_count": null,
      "outputs": [
        {
          "output_type": "stream",
          "text": [
            "[0, 1]\n"
          ],
          "name": "stdout"
        }
      ]
    },
    {
      "cell_type": "code",
      "metadata": {
        "colab": {
          "base_uri": "https://localhost:8080/"
        },
        "id": "uUpzh7hIIljz",
        "outputId": "f5687912-f7ba-4465-b404-d3ad49f38929"
      },
      "source": [
        "print(my_list_1[0][0])"
      ],
      "execution_count": null,
      "outputs": [
        {
          "output_type": "stream",
          "text": [
            "0\n"
          ],
          "name": "stdout"
        }
      ]
    },
    {
      "cell_type": "code",
      "metadata": {
        "id": "54PYx-fUI5qg"
      },
      "source": [
        "my_list_2 = [[[0, 1], [2,3]], [[4, 5], [6, 7]]] # 3 размерности"
      ],
      "execution_count": null,
      "outputs": []
    },
    {
      "cell_type": "code",
      "metadata": {
        "colab": {
          "base_uri": "https://localhost:8080/"
        },
        "id": "BVzySxHwIlyA",
        "outputId": "cbe8109d-c6e9-49ee-dddc-90169c161871"
      },
      "source": [
        "print(my_list_2[1])"
      ],
      "execution_count": null,
      "outputs": [
        {
          "output_type": "stream",
          "text": [
            "[[4, 5], [6, 7]]\n"
          ],
          "name": "stdout"
        }
      ]
    },
    {
      "cell_type": "code",
      "metadata": {
        "colab": {
          "base_uri": "https://localhost:8080/"
        },
        "id": "GpTmmXN7Il9E",
        "outputId": "4e4ce51a-f061-4f64-b699-77243f0eb762"
      },
      "source": [
        "print(my_list_2[1][1])"
      ],
      "execution_count": null,
      "outputs": [
        {
          "output_type": "stream",
          "text": [
            "[6, 7]\n"
          ],
          "name": "stdout"
        }
      ]
    },
    {
      "cell_type": "code",
      "metadata": {
        "colab": {
          "base_uri": "https://localhost:8080/"
        },
        "id": "lmjmMANbIyff",
        "outputId": "7ce36843-cd29-40f4-aa12-041eafd3875a"
      },
      "source": [
        "print(my_list_2[1][1][0])"
      ],
      "execution_count": null,
      "outputs": [
        {
          "output_type": "stream",
          "text": [
            "6\n"
          ],
          "name": "stdout"
        }
      ]
    },
    {
      "cell_type": "markdown",
      "metadata": {
        "id": "-LJzQawacGtr"
      },
      "source": [
        "#Словари"
      ]
    },
    {
      "cell_type": "markdown",
      "metadata": {
        "id": "bGSABozF-d7g"
      },
      "source": [
        "Словарь - неупорядоченная коллекция произвольных объектов с доступом по ключу.\n",
        "1. Неупорядоченная\n",
        "2. Объекты могут быть произвольными\n",
        "3. Доступ по ключу\n",
        "\n",
        "Словари будут очень нужны далее при работе с данными, например, в случае подачи в в функцию аргументов, а также при работе с данными истории обучения, с текстами, когда формируете словарь частотности для нейросети, и т.д. "
      ]
    },
    {
      "cell_type": "code",
      "metadata": {
        "colab": {
          "base_uri": "https://localhost:8080/",
          "height": 35
        },
        "id": "5b-kP9vaFAmh",
        "outputId": "a7cafeda-e1e1-4e3a-afb7-985fe4798a40"
      },
      "source": [
        "# создадим словарь из произвольных значений\n",
        "d = {1: True, \n",
        "     2: ['Привет', \"Пока\"],      \n",
        "     3: 5, \n",
        "     '4' : 'Меня зовут Миша'}\n",
        "\n",
        "d['4'] # обратимся к элементу с ключем '4'"
      ],
      "execution_count": null,
      "outputs": [
        {
          "output_type": "execute_result",
          "data": {
            "application/vnd.google.colaboratory.intrinsic+json": {
              "type": "string"
            },
            "text/plain": [
              "'Меня зовут Миша'"
            ]
          },
          "metadata": {
            "tags": []
          },
          "execution_count": 80
        }
      ]
    },
    {
      "cell_type": "code",
      "metadata": {
        "colab": {
          "base_uri": "https://localhost:8080/"
        },
        "id": "2BELSZOs-8BE",
        "outputId": "2766c038-6682-4470-a248-aa9eb0c51efd"
      },
      "source": [
        "# cоздадим словарь столиц стран мира\n",
        "capitals  = {'Россия' : 'Москва', \n",
        "            'Англия' : 'Лондон', \n",
        "            'Франция' : 'Париж', \n",
        "            'США' : 'Вашингтон'}\n",
        "\n",
        "print(capitals['Россия']) # выведем на печать столицу России"
      ],
      "execution_count": null,
      "outputs": [
        {
          "output_type": "stream",
          "text": [
            "Москва\n"
          ],
          "name": "stdout"
        }
      ]
    },
    {
      "cell_type": "markdown",
      "metadata": {
        "id": "0150bq6KAhFv"
      },
      "source": [
        "Методы словаря:\n",
        "\n",
        "*   dict.keys() - вернет список ключей\n",
        "*   dict.values() - вернет список объектов\n",
        "*   dict.items() - вернет список пар ключ-значение\n",
        "\n"
      ]
    },
    {
      "cell_type": "code",
      "metadata": {
        "colab": {
          "base_uri": "https://localhost:8080/"
        },
        "id": "F5RNvJBd_2u-",
        "outputId": "798c5edb-7997-4554-a686-c0b8310a2462"
      },
      "source": [
        "print(capitals) # напечатаем словарь"
      ],
      "execution_count": null,
      "outputs": [
        {
          "output_type": "stream",
          "text": [
            "{'Россия': 'Москва', 'Англия': 'Лондон', 'Франция': 'Париж', 'США': 'Вашингтон'}\n"
          ],
          "name": "stdout"
        }
      ]
    },
    {
      "cell_type": "code",
      "metadata": {
        "colab": {
          "base_uri": "https://localhost:8080/"
        },
        "id": "me_TCTHO_Qht",
        "outputId": "f8e51c25-80d9-4b93-bd25-802c5f4a2763"
      },
      "source": [
        "print(capitals.keys()) # выведем на печать ключи словаря"
      ],
      "execution_count": null,
      "outputs": [
        {
          "output_type": "stream",
          "text": [
            "dict_keys(['Россия', 'Англия', 'Франция', 'США'])\n"
          ],
          "name": "stdout"
        }
      ]
    },
    {
      "cell_type": "code",
      "metadata": {
        "colab": {
          "base_uri": "https://localhost:8080/"
        },
        "id": "86bmCRryBclC",
        "outputId": "33053dfb-18a7-4261-a675-3162515747f7"
      },
      "source": [
        "print(capitals.values()) # выведем на печать значения, хранящиеся в словаре"
      ],
      "execution_count": null,
      "outputs": [
        {
          "output_type": "stream",
          "text": [
            "dict_values(['Москва', 'Лондон', 'Париж', 'Вашингтон'])\n"
          ],
          "name": "stdout"
        }
      ]
    },
    {
      "cell_type": "code",
      "metadata": {
        "colab": {
          "base_uri": "https://localhost:8080/"
        },
        "id": "FAOqzavXBotY",
        "outputId": "9dcda2b8-28c9-4cbc-ee8b-379aa9102bf7"
      },
      "source": [
        "print(capitals.items())  # выведем на печать пары ключ : значение"
      ],
      "execution_count": null,
      "outputs": [
        {
          "output_type": "stream",
          "text": [
            "dict_items([('Россия', 'Москва'), ('Англия', 'Лондон'), ('Франция', 'Париж'), ('США', 'Вашингтон')])\n"
          ],
          "name": "stdout"
        }
      ]
    },
    {
      "cell_type": "code",
      "metadata": {
        "colab": {
          "base_uri": "https://localhost:8080/"
        },
        "id": "EVKgXdziB_23",
        "outputId": "e3d5bb0c-72b5-4810-fd74-9a4f53ac82cb"
      },
      "source": [
        "for state, capital in capitals.items(): # проходим циклом по всем парам ключ : значение\n",
        "    print(f'столица {state} это {capital}') # выводим на печать сообщение"
      ],
      "execution_count": null,
      "outputs": [
        {
          "output_type": "stream",
          "text": [
            "столица Россия это Москва\n",
            "столица Англия это Лондон\n",
            "столица Франция это Париж\n",
            "столица США это Вашингтон\n"
          ],
          "name": "stdout"
        }
      ]
    },
    {
      "cell_type": "code",
      "metadata": {
        "colab": {
          "base_uri": "https://localhost:8080/"
        },
        "id": "XYCvid5nClPo",
        "outputId": "777ec6ad-9ee5-4946-bfd4-f22791e99b8a"
      },
      "source": [
        "for state in capitals.keys(): # проходим циклом по ключам словаря\n",
        "    print(f'столица {state} это {capitals[state]}') # выводим на печать ключ и элемент, соответствующий ключу\n",
        "    "
      ],
      "execution_count": null,
      "outputs": [
        {
          "output_type": "stream",
          "text": [
            "столица Россия это Москва\n",
            "столица Англия это Лондон\n",
            "столица Франция это Париж\n",
            "столица США это Вашингтон\n"
          ],
          "name": "stdout"
        }
      ]
    },
    {
      "cell_type": "code",
      "metadata": {
        "colab": {
          "base_uri": "https://localhost:8080/"
        },
        "id": "rqnn3D1hCqCV",
        "outputId": "e6c71d4d-0e70-4a6d-fb89-1b5053003b45"
      },
      "source": [
        "d = {} # создадим пустой словарь\n",
        "d['4'] = 5 # добавим в него значение 5, соответствующее ключу '4'\n",
        "print(d) # выведем словарь на печать"
      ],
      "execution_count": null,
      "outputs": [
        {
          "output_type": "stream",
          "text": [
            "{'4': 5}\n"
          ],
          "name": "stdout"
        }
      ]
    },
    {
      "cell_type": "code",
      "metadata": {
        "colab": {
          "base_uri": "https://localhost:8080/"
        },
        "id": "KWRUOMrzDpXW",
        "outputId": "f3d62359-440b-41d6-d2c3-505111758a40"
      },
      "source": [
        "print(capitals) # напечатаем словарь\n",
        "capitals['Германия'] = 'Берлин' # добавим в словарь новую запись\n",
        "print(capitals) # напечатаем измененый словарь"
      ],
      "execution_count": null,
      "outputs": [
        {
          "output_type": "stream",
          "text": [
            "{'Россия': 'Москва', 'Англия': 'Лондон', 'Франция': 'Париж', 'США': 'Вашингтон'}\n",
            "{'Россия': 'Москва', 'Англия': 'Лондон', 'Франция': 'Париж', 'США': 'Вашингтон', 'Германия': 'Берлин'}\n"
          ],
          "name": "stdout"
        }
      ]
    },
    {
      "cell_type": "markdown",
      "metadata": {
        "id": "WNBi92oOD7cB"
      },
      "source": [
        "Операции со словарями:\n",
        "*  dict.pop(key) - удаляет из словаря пару ключ:значение и возвращает значение\n",
        "*  dict.update([other]) обновляет словарь, добавляя в него пары ключ:значение из other\n",
        "\n",
        "len() - универсальная функция, показывающая количество элементов в словаре"
      ]
    },
    {
      "cell_type": "code",
      "metadata": {
        "colab": {
          "base_uri": "https://localhost:8080/"
        },
        "id": "Wx_Mf5MOLXZ5",
        "outputId": "ac90c4dd-f7d3-46d9-c087-7e645df73d0d"
      },
      "source": [
        "len(capitals) # напечатаем длину словаря"
      ],
      "execution_count": null,
      "outputs": [
        {
          "output_type": "execute_result",
          "data": {
            "text/plain": [
              "5"
            ]
          },
          "metadata": {
            "tags": []
          },
          "execution_count": 90
        }
      ]
    },
    {
      "cell_type": "markdown",
      "metadata": {
        "id": "YLUtmveOFyjv"
      },
      "source": [
        "# Множества"
      ]
    },
    {
      "cell_type": "markdown",
      "metadata": {
        "id": "vysi4HAq-uDg"
      },
      "source": [
        "Множество - это контейнер, содержащий неупорядоченные неповторяющиеся объекты.\n",
        "1. Объекты не упорядоченные\n",
        "2. Все объекты уникальные\n"
      ]
    },
    {
      "cell_type": "markdown",
      "metadata": {
        "id": "2EHE4iAfGPZK"
      },
      "source": [
        "множество можно создать с помощью конструктора set()"
      ]
    },
    {
      "cell_type": "code",
      "metadata": {
        "colab": {
          "base_uri": "https://localhost:8080/"
        },
        "id": "0CmRNX8OGkyW",
        "outputId": "638211bf-d876-4e92-dd26-6b7e839854fd"
      },
      "source": [
        "a = set() # создадим пустое множество\n",
        "print(a) # напечатаем полученное множество"
      ],
      "execution_count": null,
      "outputs": [
        {
          "output_type": "stream",
          "text": [
            "set()\n"
          ],
          "name": "stdout"
        }
      ]
    },
    {
      "cell_type": "code",
      "metadata": {
        "colab": {
          "base_uri": "https://localhost:8080/"
        },
        "id": "FfGQN0tFGk7g",
        "outputId": "524c465b-72da-4e10-f7e8-6aae23d9cd2f"
      },
      "source": [
        "letters = set('Привет, меня зовут Маша') # создадим множество из строки\n",
        "print(letters) # выведем результат на печать"
      ],
      "execution_count": null,
      "outputs": [
        {
          "output_type": "stream",
          "text": [
            "{'м', 'П', 'н', 'а', 'я', 'М', 'з', 'в', 'р', 'е', 'у', 'ш', ',', 'о', 'т', ' ', 'и'}\n"
          ],
          "name": "stdout"
        }
      ]
    },
    {
      "cell_type": "code",
      "metadata": {
        "colab": {
          "base_uri": "https://localhost:8080/"
        },
        "id": "7vGbAiVLGlHn",
        "outputId": "f92f987c-a850-48c1-9d7a-29a8f79b2ea5"
      },
      "source": [
        "l = list(range(1, 20, 2)) + list(range(15)) # создадим список из повторяющихся значений цифр от 0 до 20\n",
        "print(l) # ознакомимся с содержимым списка"
      ],
      "execution_count": null,
      "outputs": [
        {
          "output_type": "stream",
          "text": [
            "[1, 3, 5, 7, 9, 11, 13, 15, 17, 19, 0, 1, 2, 3, 4, 5, 6, 7, 8, 9, 10, 11, 12, 13, 14]\n"
          ],
          "name": "stdout"
        }
      ]
    },
    {
      "cell_type": "code",
      "metadata": {
        "colab": {
          "base_uri": "https://localhost:8080/"
        },
        "id": "JfeXNZ1-GlPU",
        "outputId": "bd92d896-e156-400d-d961-47b07065d0c0"
      },
      "source": [
        "s = set(l) # создадим множество s из списка l\n",
        "print(s) # посмотрим на результат"
      ],
      "execution_count": null,
      "outputs": [
        {
          "output_type": "stream",
          "text": [
            "{0, 1, 2, 3, 4, 5, 6, 7, 8, 9, 10, 11, 12, 13, 14, 15, 17, 19}\n"
          ],
          "name": "stdout"
        }
      ]
    },
    {
      "cell_type": "code",
      "metadata": {
        "colab": {
          "base_uri": "https://localhost:8080/"
        },
        "id": "xKdIihxXHPE1",
        "outputId": "7b965e18-6193-4249-fd2a-a29bb64ba5be"
      },
      "source": [
        "l_new = list(s) # создадим список из элементов множества\n",
        "l_new.sort() # упорядочим его\n",
        "print(l_new) # выведем результат на печать"
      ],
      "execution_count": null,
      "outputs": [
        {
          "output_type": "stream",
          "text": [
            "[0, 1, 2, 3, 4, 5, 6, 7, 8, 9, 10, 11, 12, 13, 14, 15, 17, 19]\n"
          ],
          "name": "stdout"
        }
      ]
    },
    {
      "cell_type": "markdown",
      "metadata": {
        "id": "rMeCZya1LERY"
      },
      "source": [
        "Операции:\n",
        "\n",
        "*  len(s) - возвращает количество элементов в множестве\n",
        "*  elem in s проверяет, входит ли элемент elem в множество s\n",
        " \n",
        "Операции над элементами множества:\n",
        "\n",
        "*  s.add(elem) - добавляет элемент в множество.\n",
        "*  set.remove(elem) - удаляет элемент из множества. если элемента нет то возникнет ошибка\n",
        "*  set.discard(elem) - удаляет элемент, если он находится в множестве.\n",
        "*  set.pop() - удаляет один элемент из множества и возвращает его значение. мы не знаем какой именно элемент будет удален\n",
        "*  set.clear() - очистка множества.\n",
        "\n",
        "\n",
        "\n",
        "\n",
        "\n",
        "Операции над двумя и более множествами\n",
        "*  сравнение (оператор ==)\n",
        "*  пересечение (оператор &)\n",
        "*  объединение (оператор |)\n",
        "*  разность (оператор - )\n",
        "\n",
        "\n",
        "\n",
        "\n"
      ]
    },
    {
      "cell_type": "code",
      "metadata": {
        "colab": {
          "base_uri": "https://localhost:8080/"
        },
        "id": "NsRSgjTEHe8J",
        "outputId": "911a6525-4e91-45d4-a972-20a2a331218f"
      },
      "source": [
        "s = set('hello!') # создадим множество из строки\n",
        "print(s) # выведем результат\n",
        "с = \"\"\n",
        "с = s.pop() # извлечем \"какой-то\" элемент\n",
        "print(с) # вывведем извелченный элемент\n",
        "print(s) # выведем оставшееся множество"
      ],
      "execution_count": null,
      "outputs": [
        {
          "output_type": "stream",
          "text": [
            "{'l', '!', 'o', 'h', 'e'}\n",
            "l\n",
            "{'!', 'o', 'h', 'e'}\n"
          ],
          "name": "stdout"
        }
      ]
    },
    {
      "cell_type": "markdown",
      "metadata": {
        "id": "m8Ac8mBROkN0"
      },
      "source": [
        "# Кортежи - tuple"
      ]
    },
    {
      "cell_type": "markdown",
      "metadata": {
        "id": "tGL4T8BqOoDj"
      },
      "source": [
        "В дальнейшей работе вы наверняка столкнетесь с термином кортеж tuple.\n",
        "Кортеж - это неизменяемый список.\n",
        "Зачем нужны кортежи?\n",
        "1. Защита от изменений\n",
        "2. Занимает меньше памяти.\n",
        "\n",
        "Для создания кортежей используются круглые скобки () или конструктор tuple"
      ]
    },
    {
      "cell_type": "code",
      "metadata": {
        "colab": {
          "base_uri": "https://localhost:8080/"
        },
        "id": "MKSW61clPKwf",
        "outputId": "e4a3f48b-44f3-4c74-cd3a-7d15b857dd98"
      },
      "source": [
        "c = (1, 2, 3) # создадим кортеж из чисел 1, 2, 3\n",
        "print(c) # выведем на печать"
      ],
      "execution_count": null,
      "outputs": [
        {
          "output_type": "stream",
          "text": [
            "(1, 2, 3)\n"
          ],
          "name": "stdout"
        }
      ]
    },
    {
      "cell_type": "code",
      "metadata": {
        "colab": {
          "base_uri": "https://localhost:8080/"
        },
        "id": "5MaHp1y_Pmh2",
        "outputId": "fe8f5c1a-c6c5-43d7-af35-02662cef54ff"
      },
      "source": [
        "c = tuple('Привет') # создадим кортеж из символов, входящих в строку\n",
        "print(c) # выведем результат на печать"
      ],
      "execution_count": null,
      "outputs": [
        {
          "output_type": "stream",
          "text": [
            "('П', 'р', 'и', 'в', 'е', 'т')\n"
          ],
          "name": "stdout"
        }
      ]
    },
    {
      "cell_type": "markdown",
      "metadata": {
        "id": "9EAntrWvP0yN"
      },
      "source": [
        "Можно использовать знакомые нам методы для работы со списками, не изменающие сам кортеж."
      ]
    },
    {
      "cell_type": "markdown",
      "metadata": {
        "id": "RA3nipKTQDI9"
      },
      "source": [
        "# Срезы"
      ]
    },
    {
      "cell_type": "markdown",
      "metadata": {
        "id": "YoTJDl1rx_jT"
      },
      "source": [
        "Мы знаем, что к элементам строковых переменных, списков и кортежей можно обращаться по индексу. Но в Python есть ещё один интересный инструмент для доступа к элементам списка - это срезы.\n",
        "\n",
        "Срез - это последовательность элементов, удовлетворяющая определенному условию.\n",
        "Полный синтаксис выглядит следующим образом:\n",
        "\n",
        "\n",
        "```\n",
        "s[start:stop:step]\n",
        "```\n",
        "\n",
        "такой срез берет элементы с индексами от start до stop (не включая stop) с шагом step\n",
        "\n",
        "некоторые индексы могут быть пропущены, тогда используются значения по умолчанию:\n",
        "* start = 0\n",
        "* stop = len(s) (длина последовательности)\n",
        "* step = 1\n",
        "\n"
      ]
    },
    {
      "cell_type": "code",
      "metadata": {
        "colab": {
          "base_uri": "https://localhost:8080/"
        },
        "id": "XKUYskbnzJi1",
        "outputId": "0f656fe5-8393-4a78-ec35-6453d8a2f21c"
      },
      "source": [
        "l = list(range(30)) # создадим список из последовательности чисел от  0 до 29\n",
        "s = 'Обычная строковая переменная' # создадим строку\n",
        "\n",
        "print(l) # выведем на печать список\n",
        "print(s) # выведем на печать строковую переменную"
      ],
      "execution_count": null,
      "outputs": [
        {
          "output_type": "stream",
          "text": [
            "[0, 1, 2, 3, 4, 5, 6, 7, 8, 9, 10, 11, 12, 13, 14, 15, 16, 17, 18, 19, 20, 21, 22, 23, 24, 25, 26, 27, 28, 29]\n",
            "Обычная строковая переменная\n"
          ],
          "name": "stdout"
        }
      ]
    },
    {
      "cell_type": "markdown",
      "metadata": {
        "id": "xCLUYA2Aztlw"
      },
      "source": [
        "Если в срезе мы указываем только [:] это означает, что мы берем все значения"
      ]
    },
    {
      "cell_type": "code",
      "metadata": {
        "colab": {
          "base_uri": "https://localhost:8080/"
        },
        "id": "ridxklp4ziWg",
        "outputId": "637e7c0c-e3e7-4601-9238-b7320b99b26a"
      },
      "source": [
        "print(s[:]) # выведем на печатьвсе символы строки\n",
        "print(l[:]) # выведем на печать все элементы списка"
      ],
      "execution_count": null,
      "outputs": [
        {
          "output_type": "stream",
          "text": [
            "Обычная строковая переменная\n",
            "[0, 1, 2, 3, 4, 5, 6, 7, 8, 9, 10, 11, 12, 13, 14, 15, 16, 17, 18, 19, 20, 21, 22, 23, 24, 25, 26, 27, 28, 29]\n"
          ],
          "name": "stdout"
        }
      ]
    },
    {
      "cell_type": "markdown",
      "metadata": {
        "id": "SBoEDdWa0BhQ"
      },
      "source": [
        "что-бы взять все значения начиная с какого-то мы делаем конструкцию [i:]"
      ]
    },
    {
      "cell_type": "code",
      "metadata": {
        "colab": {
          "base_uri": "https://localhost:8080/"
        },
        "id": "DmD_AeuWz4S0",
        "outputId": "83108dab-cf20-4817-d52b-adb0e574ba05"
      },
      "source": [
        "print(l[3:]) # выведем на печать элементы списка, начиная с третьего\n",
        "print(s[5:]) # выведем на печать элементы списка, начиная с пятого "
      ],
      "execution_count": null,
      "outputs": [
        {
          "output_type": "stream",
          "text": [
            "[3, 4, 5, 6, 7, 8, 9, 10, 11, 12, 13, 14, 15, 16, 17, 18, 19, 20, 21, 22, 23, 24, 25, 26, 27, 28, 29]\n",
            "ая строковая переменная\n"
          ],
          "name": "stdout"
        }
      ]
    },
    {
      "cell_type": "markdown",
      "metadata": {
        "id": "Zi-QAIoW0My2"
      },
      "source": [
        "чтобы взять все значения до какого-то мы делаем конструкцию [:i]\n",
        "при этом мы можем для индексирования использовать положительные числа (нумерация с начала в конец) или отрицательные, при этом -1 соответствует последнему элементу списка, -2 предпоследнему и т.д."
      ]
    },
    {
      "cell_type": "code",
      "metadata": {
        "colab": {
          "base_uri": "https://localhost:8080/"
        },
        "id": "m6Al1CE9zgdS",
        "outputId": "9c958384-1c6b-4751-a972-715afdb7bdfb"
      },
      "source": [
        "print(l[:5]) # выведем на печать элементы списка до элемента с индексом 5, но не включая его\n",
        "print(s[:-5]) # выведем на печать символы до пятого с конца, но не включая его "
      ],
      "execution_count": null,
      "outputs": [
        {
          "output_type": "stream",
          "text": [
            "[0, 1, 2, 3, 4]\n",
            "Обычная строковая перем\n"
          ],
          "name": "stdout"
        }
      ]
    },
    {
      "cell_type": "markdown",
      "metadata": {
        "id": "BswSK0DL05i8"
      },
      "source": [
        "Мы можем менять шаг. Для этого используем синтаксис [::i]"
      ]
    },
    {
      "cell_type": "code",
      "metadata": {
        "colab": {
          "base_uri": "https://localhost:8080/"
        },
        "id": "iR74Tu871IFJ",
        "outputId": "2e4a4465-a452-4dae-bbc4-8a9ff0b3575a"
      },
      "source": [
        "print(l[::2]) # выведем элементы начиная с элемента с индеком 0 с шагом 2\n",
        "print(s[::-1]) # выведем все символы строки в обратном порядке"
      ],
      "execution_count": null,
      "outputs": [
        {
          "output_type": "stream",
          "text": [
            "[0, 2, 4, 6, 8, 10, 12, 14, 16, 18, 20, 22, 24, 26, 28]\n",
            "яаннемереп яавокортс яанчыбО\n"
          ],
          "name": "stdout"
        }
      ]
    },
    {
      "cell_type": "markdown",
      "metadata": {
        "id": "w-7MF-jIynib"
      },
      "source": [
        "Соединяем все вместе"
      ]
    },
    {
      "cell_type": "code",
      "metadata": {
        "colab": {
          "base_uri": "https://localhost:8080/"
        },
        "id": "8EvNEyGW1Vvi",
        "outputId": "a481da7a-4141-460e-d528-708fe7b10de0"
      },
      "source": [
        "l[1:-3:2] # элементы списка начиная со второго до четвертого с конца с шагом 2"
      ],
      "execution_count": null,
      "outputs": [
        {
          "output_type": "execute_result",
          "data": {
            "text/plain": [
              "[1, 3, 5, 7, 9, 11, 13, 15, 17, 19, 21, 23, 25]"
            ]
          },
          "metadata": {
            "tags": []
          },
          "execution_count": 104
        }
      ]
    },
    {
      "cell_type": "code",
      "metadata": {
        "colab": {
          "base_uri": "https://localhost:8080/",
          "height": 35
        },
        "id": "QNCxCOjD11Aw",
        "outputId": "a71381df-7e02-45fd-e0d6-121930060aae"
      },
      "source": [
        "s[-5:5:-1] # символы строки задом наперед от пятого с конца до символа с индексом 5, но не включая его"
      ],
      "execution_count": null,
      "outputs": [
        {
          "output_type": "execute_result",
          "data": {
            "application/vnd.google.colaboratory.intrinsic+json": {
              "type": "string"
            },
            "text/plain": [
              "'емереп яавокортс я'"
            ]
          },
          "metadata": {
            "tags": []
          },
          "execution_count": 105
        }
      ]
    },
    {
      "cell_type": "markdown",
      "metadata": {
        "id": "j0YFP3o4OMdd"
      },
      "source": [
        "# Литература"
      ]
    },
    {
      "cell_type": "markdown",
      "metadata": {
        "id": "kgske5b6M5BJ"
      },
      "source": [
        "Полезные ссылки \n",
        "\n",
        "\n",
        "1. [Полезные трюки по работе с Google Colab](https://towardsdatascience.com/10-tips-for-a-better-google-colab-experience-33f8fe721b82)\n",
        "2. [Полезные трюки по работе с Google Colab 2](https://www.machinelearningmastery.ru/mastering-the-features-of-google-colaboratory-92850e75701/)\n",
        "3. [PEP8 на русском](https://pythonworld.ru/osnovy/pep-8-rukovodstvo-po-napisaniyu-koda-na-python.html)\n",
        "4. [Онлайн тренажер Python на русском](http://pythontutor.ru/)\n",
        "5. [Самоучитель Python на русском](https://pythonworld.ru/samouchitel-python)\n",
        "6. [Официальный сайт Python ENG](https://www.python.org/)\n",
        "7. [Как подключить Google Drive и не только](https://mirrobo.ru/pilot/colaboratory-rabotaem-s-lokalnoj-fajlovoj-sistemoj-vashego-kompjutera/)\n",
        "8. [Как подключить Google Drive - 2](https://habr.com/ru/post/504362/)\n",
        "9. [Как загрузить свои файлы на Google Drive](https://support.google.com/a/users/answer/9310458?hl=ru)\n"
      ]
    },
    {
      "cell_type": "markdown",
      "metadata": {
        "id": "SnT69ZI4VxXT"
      },
      "source": [
        "# The End\n",
        "\n"
      ]
    }
  ]
}
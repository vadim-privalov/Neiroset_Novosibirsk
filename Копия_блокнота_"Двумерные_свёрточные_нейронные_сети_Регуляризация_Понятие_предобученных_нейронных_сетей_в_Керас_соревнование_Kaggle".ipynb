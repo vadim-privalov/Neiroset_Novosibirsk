{
  "nbformat": 4,
  "nbformat_minor": 0,
  "metadata": {
    "colab": {
      "name": "Копия блокнота \"Двумерные свёрточные нейронные сети. Регуляризация. Понятие предобученных нейронных сетей в Керас.  - соревнование Kaggle\"",
      "provenance": [],
      "collapsed_sections": [],
      "include_colab_link": true
    },
    "kernelspec": {
      "name": "python3",
      "display_name": "Python 3"
    },
    "language_info": {
      "name": "python"
    },
    "accelerator": "GPU"
  },
  "cells": [
    {
      "cell_type": "markdown",
      "metadata": {
        "id": "view-in-github",
        "colab_type": "text"
      },
      "source": [
        "<a href=\"https://colab.research.google.com/github/vadim-privalov/Neiroset_Novosibirsk/blob/main/%D0%9A%D0%BE%D0%BF%D0%B8%D1%8F_%D0%B1%D0%BB%D0%BE%D0%BA%D0%BD%D0%BE%D1%82%D0%B0_%22%D0%94%D0%B2%D1%83%D0%BC%D0%B5%D1%80%D0%BD%D1%8B%D0%B5_%D1%81%D0%B2%D1%91%D1%80%D1%82%D0%BE%D1%87%D0%BD%D1%8B%D0%B5_%D0%BD%D0%B5%D0%B9%D1%80%D0%BE%D0%BD%D0%BD%D1%8B%D0%B5_%D1%81%D0%B5%D1%82%D0%B8_%D0%A0%D0%B5%D0%B3%D1%83%D0%BB%D1%8F%D1%80%D0%B8%D0%B7%D0%B0%D1%86%D0%B8%D1%8F_%D0%9F%D0%BE%D0%BD%D1%8F%D1%82%D0%B8%D0%B5_%D0%BF%D1%80%D0%B5%D0%B4%D0%BE%D0%B1%D1%83%D1%87%D0%B5%D0%BD%D0%BD%D1%8B%D1%85_%D0%BD%D0%B5%D0%B9%D1%80%D0%BE%D0%BD%D0%BD%D1%8B%D1%85_%D1%81%D0%B5%D1%82%D0%B5%D0%B9_%D0%B2_%D0%9A%D0%B5%D1%80%D0%B0%D1%81_%D1%81%D0%BE%D1%80%D0%B5%D0%B2%D0%BD%D0%BE%D0%B2%D0%B0%D0%BD%D0%B8%D0%B5_Kaggle%22.ipynb\" target=\"_parent\"><img src=\"https://colab.research.google.com/assets/colab-badge.svg\" alt=\"Open In Colab\"/></a>"
      ]
    },
    {
      "cell_type": "markdown",
      "metadata": {
        "id": "uVQjRFc6abYJ"
      },
      "source": [
        "## ООО \"Университет Цифровых Технологий платформа 3\""
      ]
    },
    {
      "cell_type": "markdown",
      "metadata": {
        "id": "j8GnELe-FaWS"
      },
      "source": [
        "# Двумерные свёрточные нейронные сети. Регуляризация. Понятие предобученных нейронных сетей в Керас. - соревнование Kaggle"
      ]
    },
    {
      "cell_type": "markdown",
      "metadata": {
        "id": "X64oDHyrpn6w"
      },
      "source": [
        "## Установка и загрузка необходимых модулей"
      ]
    },
    {
      "cell_type": "code",
      "metadata": {
        "colab": {
          "base_uri": "https://localhost:8080/"
        },
        "id": "zQ1rPonrtEyZ",
        "outputId": "9ff7128d-a672-4b67-d3b0-c5057a797f59"
      },
      "source": [
        "# устанавливаем свежий Kaggle API\n",
        "!pip install --upgrade --force-reinstall --no-deps kaggle"
      ],
      "execution_count": null,
      "outputs": [
        {
          "output_type": "stream",
          "name": "stdout",
          "text": [
            "Collecting kaggle\n",
            "  Using cached kaggle-1.5.12-py3-none-any.whl\n",
            "Installing collected packages: kaggle\n",
            "  Attempting uninstall: kaggle\n",
            "    Found existing installation: kaggle 1.5.12\n",
            "    Uninstalling kaggle-1.5.12:\n",
            "      Successfully uninstalled kaggle-1.5.12\n",
            "Successfully installed kaggle-1.5.12\n"
          ]
        }
      ]
    },
    {
      "cell_type": "markdown",
      "metadata": {
        "id": "Y-gxdhg0jlsw"
      },
      "source": [
        "###! После установки свежего API Kaggle, рекомендуем перезапустить среду выполнения. Далее, последовательно выполнять ячейки. Иначе будут ошибки в ячейках."
      ]
    },
    {
      "cell_type": "code",
      "metadata": {
        "id": "UmLI37luQj2D"
      },
      "source": [
        "#from tensorflow.keras.datasets import mnist, cifar10 #Библиотеки с базами Mnist, Cifar10\n",
        "# Подлючаем классы создания последовательной (Sequential) и функциональной (Model) моделей \n",
        "from tensorflow.keras.models import Sequential, Model\n",
        "# Подключаем класс Dense - полносвязный слой, и Flatten - данные выстраиваем в линию, одномерные\n",
        "# Conv2D - свёрточный слой, Input - для подачи входной размерности, \n",
        "# MaxPooling1D, MaxPooling2D, AveragePooling2D - пулинговые слои для уменьшения размерности\n",
        "from tensorflow.keras.layers import AveragePooling2D, MaxPooling1D, MaxPooling2D \n",
        "from tensorflow.keras.layers import Dense, Flatten, Conv2D, Input\n",
        "from tensorflow.keras.applications import VGG16 # предобученная нейросеть \n",
        "# импортируем слои регуляризации Dropout, BatchNormalization для борьбы с переобучением\n",
        "from tensorflow.keras.layers import Dropout, BatchNormalization\n",
        "from tensorflow.keras.optimizers import Adam # Подключаем оптимизатор Adam\n",
        "from tensorflow.keras.preprocessing.image import ImageDataGenerator # для создания аугментированных изображениями\n",
        "from tensorflow.keras import utils #Утилиты для to_categorical\n",
        "# from tensorflow.keras.preprocessing import image #Для отрисовки изображения\n",
        "from sklearn.metrics import confusion_matrix # для построения матрицы ошибок\n",
        "from sklearn.utils import resample #для перемешивания выборок\n",
        "from sklearn.preprocessing import LabelBinarizer # для кодирования в бинарные метки по классам\n",
        "from sklearn.metrics import classification_report # возвращает точность, полноту, F-меру\n",
        "from sklearn.model_selection import train_test_split # функция разделения на обучающую и проверочную/тестовую выборку\n",
        "#import os #для вызова прямо в среде программирования команд операционной оболочки\n",
        "#import os.path # чтобы можно было добавлять цифры (переменные) в путь\n",
        "#from imutils import paths # для загрузки картинок из файлов\n",
        "#import glob # для получения списка имён файлов вместе с путём к ним\n",
        "import zipfile # для работы с архивами zip\n",
        "#import io # для работы с архивами, input - output\n",
        "import numpy as np # Подключаем библиотеку numpy\n",
        "# import pylab # Модуль для построения графиков\n",
        "import pandas as pd # Библиотека pandas\n",
        "# from mpl_toolkits.mplot3d import Axes3D # Модуль для трехмерной графики\n",
        "# from google.colab import files #Для загрузки своей картинки\n",
        "import matplotlib.pyplot as plt #Отрисовка изображений\n",
        "import seaborn as sns # seaborn, надстройка визуализации над matplotlib\n",
        "#from PIL import Image #Отрисовка изображений\n",
        "#import cv2 # для загрузки и качественной обработки картинок\n",
        "import random #Для генерации случайных выборок из датасета\n",
        "import gc # для очистки памяти от лишних данных\n",
        "\n",
        "from google.colab import drive # для подключения Google Диска\n",
        "#Отрисовывать изображения в ноутбуке, а не в консоль или файл\n",
        "%matplotlib inline "
      ],
      "execution_count": null,
      "outputs": []
    },
    {
      "cell_type": "markdown",
      "metadata": {
        "id": "8USkuMZaxQP0"
      },
      "source": [
        "#Домашнее задание"
      ]
    },
    {
      "cell_type": "markdown",
      "metadata": {
        "id": "S2Q6N3YvxZHZ"
      },
      "source": [
        "##**Задание 1.** \n",
        "Загрузите из датасета по ссылке ниже базы рентгеновских снимков пневмонии - тренировочную и валидационную, а также базу для тестирования. С помощью методов, изученных в занятиях по работе с таблицами Pandas, Анализ и обработка данных, и данном занятии, обработайте датасет и подайте в нейронную сеть, постаравшись добиться максимальной точности распознавания. Для улучшения обучения можно использовать также дополнительные методы, не рассмотренные в занятиях, слои, функции активации, менять параметры оптимизатора Adam и прочие гиперпараметры. Результаты рекомендуется заносить в таблицу для себя, чтобы можно было потом воспроизвести лучший вариант. Предсказание Вашей сети необходимо отправить в виде специального файла с расширением csv, чтобы войти в рейтинговую таблицу соревнования. Ответ можно улучшить и подавать результат несколько раз.\n",
        "\n",
        "Ссылка на соревнование (не забудьте вначале зарегистрироваться на Каггл и войти в аккаунт, тогда ссылка приведёт на соревнование):\n",
        "\n",
        "https://www.kaggle.com/t/29db161288094323adb3a8e10ce0d1d9\n",
        "\n",
        "Таблица лидеров:\n",
        "\n",
        "https://www.kaggle.com/c/university-of-digital-technologies3/leaderboard\n",
        "\n",
        "Ссылка на датасет на Kaggle:\n",
        "\n",
        "https://www.kaggle.com/paultimothymooney/chest-xray-pneumonia"
      ]
    },
    {
      "cell_type": "markdown",
      "metadata": {
        "id": "dvoazCaTMb1m"
      },
      "source": [
        "Описание: Это датасет рентгеновских снимков грудной клетки больных и здоровых людей. Рентген здоровой грудной клетки показывает чистые легкие без каких-либо участков аномального помутнения на изображении. Бактериальная пневмония обычно проявляется фокальной долевой консолидацией, тогда как вирусная пневмония проявляется более диффузным «интерстициальным» паттерном в обоих легких.\n",
        "\n",
        "Содержание датасета:\n",
        "Набор данных содержится в 3 массивах (train, test, val) и содержит метки категорий изображений (Pneumonia/Normal). Меток нет только в тестовом наборе, их нужно спрогнозировать нейронной сетью и отослать на соревнование в виде файла csv. Существует 5 863 рентгеновских снимка (JPEG) и 2 категории (Pneumonia/Normal).\n",
        "\n",
        "Рентгеновские снимки грудной клетки (передне-задние) были отобраны из ретроспективных когорт педиатрических пациентов в возрасте от одного до пяти лет из Медицинского центра женщин и детей Гуанчжоу, Гуанчжоу. Все рентгеновские снимки грудной клетки выполнялись в рамках обычного клинического ухода за пациентами.\n",
        "\n",
        "Для анализа рентгенограмм грудной клетки все рентгенограммы грудной клетки изначально проверялись для контроля качества путем удаления всех изображений низкого качества или нечитаемых изображений. Затем диагнозы для изображений были оценены двумя опытными врачами, прежде чем они были допущены к обучению ИИ. Чтобы учесть любые ошибки в выставлении оценок, набор оценок был также проверен третьим экспертом.\n",
        "\n",
        "Данные: https://data.mendeley.com/datasets/rscbjbr9sj/2\n",
        "\n",
        "Лицензия: CC BY 4.0\n",
        "\n",
        "Ссылка для цитирования: http://www.cell.com/cell/fulltext/S0092-8674(18)30154-5"
      ]
    },
    {
      "cell_type": "markdown",
      "metadata": {
        "id": "MSVxut7ZBnPS"
      },
      "source": [
        "##Решение"
      ]
    },
    {
      "cell_type": "markdown",
      "metadata": {
        "id": "RWrlu3Vl2E3c"
      },
      "source": [
        "#### Создаём правильную папку для ключа Каггл"
      ]
    },
    {
      "cell_type": "code",
      "metadata": {
        "id": "SUpEMyAVEv3z",
        "colab": {
          "base_uri": "https://localhost:8080/"
        },
        "outputId": "c2fdbb87-8b7c-4718-a539-02dd47125d0d"
      },
      "source": [
        "!mkdir ~/.kaggle # создаём папку для ключа kaggle в Колабе, она должна быть такой по требованию Каггл"
      ],
      "execution_count": null,
      "outputs": [
        {
          "output_type": "stream",
          "name": "stdout",
          "text": [
            "mkdir: cannot create directory ‘/root/.kaggle’: File exists\n"
          ]
        }
      ]
    },
    {
      "cell_type": "code",
      "metadata": {
        "colab": {
          "base_uri": "https://localhost:8080/"
        },
        "id": "Ll5gq1rhE1ay",
        "outputId": "ea3cc511-f8ad-484d-a0ae-54343edf543e"
      },
      "source": [
        "%cd ~/.kaggle # переходим в папку, теперь это путь по умолчанию"
      ],
      "execution_count": null,
      "outputs": [
        {
          "output_type": "stream",
          "name": "stdout",
          "text": [
            "[Errno 2] No such file or directory: '/root/.kaggle # переходим в папку, теперь это путь по умолчанию'\n",
            "/content\n"
          ]
        }
      ]
    },
    {
      "cell_type": "code",
      "metadata": {
        "colab": {
          "base_uri": "https://localhost:8080/"
        },
        "id": "O1SgDLkZES1J",
        "outputId": "52b76e7c-64c1-46ae-dd3b-9beb560cb3ba"
      },
      "source": [
        "#запускаем - подключаем Google Drive - будем скачивать с него, т.к. намного быстрее\n",
        "#после запуска переходим по ссылке, которая появится, для идентификации\n",
        "#копируем оттуда код authorization code и вставляем здесь в окошко\n",
        "drive.mount('/content/drive')"
      ],
      "execution_count": null,
      "outputs": [
        {
          "output_type": "stream",
          "name": "stdout",
          "text": [
            "Drive already mounted at /content/drive; to attempt to forcibly remount, call drive.mount(\"/content/drive\", force_remount=True).\n"
          ]
        }
      ]
    },
    {
      "cell_type": "code",
      "metadata": {
        "colab": {
          "base_uri": "https://localhost:8080/"
        },
        "id": "uqkTepei8Nlo",
        "outputId": "3d89b107-93b8-4aba-9674-09c58376471f"
      },
      "source": [
        "from google.colab import drive\n",
        "drive.mount('/content/drive')"
      ],
      "execution_count": null,
      "outputs": [
        {
          "output_type": "stream",
          "name": "stdout",
          "text": [
            "Drive already mounted at /content/drive; to attempt to forcibly remount, call drive.mount(\"/content/drive\", force_remount=True).\n"
          ]
        }
      ]
    },
    {
      "cell_type": "markdown",
      "metadata": {
        "id": "hLdGz2mH1hTr"
      },
      "source": [
        "#### Устанавливаем ключ Каггл, чтобы участвовать в соревнованиях\n",
        "\n",
        "Нужно зарегистрироваться на Каггл (https://www.kaggle.com/) и скачать ключ для взаимодействия с API соревновательной системы Каггла. После регистрации, справа появятся Ваши имя и фамилия - ссылка на персональную страницу. Нажмите на них. Когда страница загрузится, справа увидите Account. Нажимаете на надпись, затем прокручиваете страницу вниз, до вкладки API, там нажимаете Create New API Token. \n",
        "Ключ - это файл kaggle.json, который скачается после нажатия. Нужно скопировать его в папку Google Drive, предварительно её создав: My Drive/datasets/kaggle/ (из Колаба её адрес, который будем указывать для загрузки, такой: /content/drive/My Drive/datasets/kaggle/)."
      ]
    },
    {
      "cell_type": "code",
      "metadata": {
        "id": "AvC38DWIKTk9"
      },
      "source": [
        "# нужно зарегистрироваться на Каггл и скачать ключ для взаимодействия с API\n",
        "# соревновательной системы Каггла kaggle.json. Нужно скопировать его в папку\n",
        "# Google Drive, предварительно её создав: /content/drive/My Drive/datasets/kaggle/\n",
        "!cp '/content/drive/My Drive/datasets/kaggle/kaggle.json' '/root/.kaggle/kaggle.json'"
      ],
      "execution_count": null,
      "outputs": []
    },
    {
      "cell_type": "code",
      "metadata": {
        "colab": {
          "base_uri": "https://localhost:8080/"
        },
        "id": "lM42Vv3Dn-zR",
        "outputId": "6d9a7686-9c00-4c03-f834-e0ca2635e0e1"
      },
      "source": [
        "!kaggle --version"
      ],
      "execution_count": null,
      "outputs": [
        {
          "output_type": "stream",
          "name": "stdout",
          "text": [
            "Kaggle API 1.5.12\n"
          ]
        }
      ]
    },
    {
      "cell_type": "code",
      "metadata": {
        "id": "hfTt9PCBOHnE",
        "colab": {
          "base_uri": "https://localhost:8080/"
        },
        "outputId": "e80daeee-3f46-4572-9362-559ca3948683"
      },
      "source": [
        "!ls"
      ],
      "execution_count": null,
      "outputs": [
        {
          "output_type": "stream",
          "name": "stdout",
          "text": [
            "drive\t     sampleSubmission.csv  train_pneumonia.npz\n",
            "sample_data  test_pneumonia.npz    val_pneumonia.npz\n"
          ]
        }
      ]
    },
    {
      "cell_type": "markdown",
      "metadata": {
        "id": "1xkp9LMs9vZn"
      },
      "source": [
        "###Скачиваем датасет, обрабатываем"
      ]
    },
    {
      "cell_type": "code",
      "metadata": {
        "colab": {
          "base_uri": "https://localhost:8080/"
        },
        "id": "-4scLEgcpCJ8",
        "outputId": "accf4e1f-9043-493e-d504-52bc815c5cae"
      },
      "source": [
        "# скачиваем данные с Каггл\n",
        "!kaggle competitions download -c university-of-digital-technologies3"
      ],
      "execution_count": null,
      "outputs": [
        {
          "output_type": "stream",
          "name": "stdout",
          "text": [
            "Downloading university-of-digital-technologies3.zip to /content\n",
            " 96% 218M/226M [00:01<00:00, 214MB/s]\n",
            "100% 226M/226M [00:01<00:00, 213MB/s]\n"
          ]
        }
      ]
    },
    {
      "cell_type": "code",
      "metadata": {
        "id": "i8bslcO1ipFZ"
      },
      "source": [
        "# загрузили из архива, распаковали\n",
        "z = zipfile.ZipFile('/content/university-of-digital-technologies3.zip', 'r') \n",
        "z.extractall()"
      ],
      "execution_count": null,
      "outputs": []
    },
    {
      "cell_type": "code",
      "metadata": {
        "id": "nLWZa496s4AK"
      },
      "source": [
        "# удаляем архив, чтобы не занимал место на диске\n",
        "!rm university-of-digital-technologies3.zip"
      ],
      "execution_count": null,
      "outputs": []
    },
    {
      "cell_type": "code",
      "metadata": {
        "id": "VwT1sV8WTo7F"
      },
      "source": [
        "# разархивируем архив Numpy\n",
        "train = np.load('train_pneumonia.npz')\n",
        "test = np.load('test_pneumonia.npz')\n",
        "val = np.load('val_pneumonia.npz')"
      ],
      "execution_count": null,
      "outputs": []
    },
    {
      "cell_type": "code",
      "metadata": {
        "id": "LlBEUnx4ajCw",
        "colab": {
          "base_uri": "https://localhost:8080/"
        },
        "outputId": "a93175ef-c856-4f67-afa2-f49238b540e4"
      },
      "source": [
        "train.files"
      ],
      "execution_count": null,
      "outputs": [
        {
          "output_type": "execute_result",
          "data": {
            "text/plain": [
              "['X_train', 'Y_train', 'Y_train_cat']"
            ]
          },
          "metadata": {},
          "execution_count": 14
        }
      ]
    },
    {
      "cell_type": "code",
      "metadata": {
        "id": "_kjZVFvNb7qf"
      },
      "source": [
        "# извлекаем выборки\n",
        "X_train = train['X_train']\n",
        "Y_train = train['Y_train']\n",
        "Y_train_cat = train['Y_train_cat']\n",
        "\n",
        "X_val = val['X_val']\n",
        "Y_val = val['Y_val']\n",
        "Y_val_cat = val['Y_val_cat']\n",
        "\n",
        "X_test = test['X_test']"
      ],
      "execution_count": null,
      "outputs": []
    },
    {
      "cell_type": "code",
      "metadata": {
        "colab": {
          "base_uri": "https://localhost:8080/"
        },
        "id": "w6BVWedX80TB",
        "outputId": "d544af79-0231-493a-80d3-9f4f4a2655a7"
      },
      "source": [
        "# нормализуем данные\n",
        "X_train = X_train/255\n",
        "print(X_train.shape)\n",
        "X_test = X_test/255\n",
        "print(X_test.shape)\n",
        "X_val = X_val/255\n",
        "print(X_val.shape)"
      ],
      "execution_count": null,
      "outputs": [
        {
          "output_type": "stream",
          "name": "stdout",
          "text": [
            "(2532, 192, 192)\n",
            "(1661, 192, 192)\n",
            "(1663, 192, 192)\n"
          ]
        }
      ]
    },
    {
      "cell_type": "code",
      "metadata": {
        "id": "7zWl5n__e98d",
        "colab": {
          "base_uri": "https://localhost:8080/"
        },
        "outputId": "eadb48ab-e89a-470d-fb34-2df6519410f2"
      },
      "source": [
        "# добавляем слой\n",
        "X_train_c = np.expand_dims(X_train, axis = 3)\n",
        "print(X_train_c.shape)\n",
        "X_test_c = np.expand_dims(X_test, axis = 3)\n",
        "print(X_test_c.shape)\n",
        "X_val_c = np.expand_dims(X_val, axis = 3)\n",
        "print(X_val_c.shape)"
      ],
      "execution_count": null,
      "outputs": [
        {
          "output_type": "stream",
          "name": "stdout",
          "text": [
            "(2532, 192, 192, 1)\n",
            "(1661, 192, 192, 1)\n",
            "(1663, 192, 192, 1)\n"
          ]
        }
      ]
    },
    {
      "cell_type": "code",
      "metadata": {
        "colab": {
          "base_uri": "https://localhost:8080/"
        },
        "id": "IkEHgQmd15LM",
        "outputId": "129c6d52-98b3-4632-80a9-f0e4ba4599df"
      },
      "source": [
        "print(Y_train.shape)\n",
        "print(Y_val.shape)"
      ],
      "execution_count": null,
      "outputs": [
        {
          "output_type": "stream",
          "name": "stdout",
          "text": [
            "(2532,)\n",
            "(1663,)\n"
          ]
        }
      ]
    },
    {
      "cell_type": "markdown",
      "metadata": {
        "id": "MXNesB4he98j"
      },
      "source": [
        "###Создаём и обучаем нейронную сеть"
      ]
    },
    {
      "cell_type": "code",
      "metadata": {
        "id": "0Tsc6tX2nT_N"
      },
      "source": [
        "IMG_SIZE = 192"
      ],
      "execution_count": null,
      "outputs": []
    },
    {
      "cell_type": "code",
      "metadata": {
        "id": "hX8aQ-r-e98j",
        "colab": {
          "base_uri": "https://localhost:8080/"
        },
        "outputId": "1ad33c97-4933-4990-b9cc-8f61ecbd0b39"
      },
      "source": [
        "model_2dc = Sequential() # Создаём свёрточную сеть\n",
        "# Добавляем свёрточный слой на 16 нейронов (фильтра, ядра), матрица 3x3 с relu-активацией\n",
        "model_2dc.add(Conv2D(16, 3, padding = 'same', input_shape=(IMG_SIZE,IMG_SIZE,1), activation=\"relu\"))\n",
        "\n",
        "model_2dc.add(Conv2D(16, 3, padding = 'same', activation=\"relu\"))\n",
        "#model_2dc.add(Dropout(0.2)) # слои регуляризации. отключен, т.к. ухудшает прогноз\n",
        "#model_2dc.add(BatchNormalization()) # слои регуляризации \n",
        "model_2dc.add(MaxPooling2D()) # пулинг слой уменьшения размерности\n",
        "\n",
        "model_2dc.add(Conv2D(32, 3, padding = 'same', activation=\"relu\"))\n",
        "\n",
        "model_2dc.add(Flatten()) # Вытягиваем данные в одномерный вектор только для классификационного слоя\n",
        "model_2dc.add(Dense(40, activation=\"relu\")) # Добавляем полносвязный слой на 400 нейронов с relu-активацией\n",
        "model_2dc.add(Dense(1, activation=\"sigmoid\")) # Добавляем полносвязный слой на 10 нейронов с sigmoid-активацией\n",
        "model_2dc.compile(loss='binary_crossentropy', optimizer=Adam(lr=0.001), metrics=[\"accuracy\"]) # Компилируем модель\n",
        "\n",
        "print(model_2dc.summary()) #Вывод структуры модели\n",
        "\n",
        "\n",
        " "
      ],
      "execution_count": null,
      "outputs": [
        {
          "output_type": "stream",
          "name": "stdout",
          "text": [
            "Model: \"sequential_1\"\n",
            "_________________________________________________________________\n",
            "Layer (type)                 Output Shape              Param #   \n",
            "=================================================================\n",
            "conv2d_3 (Conv2D)            (None, 192, 192, 16)      160       \n",
            "_________________________________________________________________\n",
            "conv2d_4 (Conv2D)            (None, 192, 192, 16)      2320      \n",
            "_________________________________________________________________\n",
            "max_pooling2d_1 (MaxPooling2 (None, 96, 96, 16)        0         \n",
            "_________________________________________________________________\n",
            "conv2d_5 (Conv2D)            (None, 96, 96, 32)        4640      \n",
            "_________________________________________________________________\n",
            "flatten_1 (Flatten)          (None, 294912)            0         \n",
            "_________________________________________________________________\n",
            "dense_2 (Dense)              (None, 40)                11796520  \n",
            "_________________________________________________________________\n",
            "dense_3 (Dense)              (None, 1)                 41        \n",
            "=================================================================\n",
            "Total params: 11,803,681\n",
            "Trainable params: 11,803,681\n",
            "Non-trainable params: 0\n",
            "_________________________________________________________________\n",
            "None\n"
          ]
        },
        {
          "output_type": "stream",
          "name": "stderr",
          "text": [
            "/usr/local/lib/python3.7/dist-packages/keras/optimizer_v2/optimizer_v2.py:356: UserWarning: The `lr` argument is deprecated, use `learning_rate` instead.\n",
            "  \"The `lr` argument is deprecated, use `learning_rate` instead.\")\n"
          ]
        }
      ]
    },
    {
      "cell_type": "code",
      "metadata": {
        "id": "ztK9QCwQe98k",
        "colab": {
          "base_uri": "https://localhost:8080/"
        },
        "outputId": "04dcc3c6-fd24-4cba-f5d2-fbd6658ea5e5"
      },
      "source": [
        "my_model_2dc = model_2dc.fit(X_train_c, Y_train, batch_size=128, epochs=40, validation_data=(X_val_c, Y_val), verbose=1)"
      ],
      "execution_count": null,
      "outputs": [
        {
          "output_type": "stream",
          "name": "stdout",
          "text": [
            "Epoch 1/40\n",
            "20/20 [==============================] - 9s 394ms/step - loss: 0.6906 - accuracy: 0.5300 - val_loss: 0.6113 - val_accuracy: 0.9080\n",
            "Epoch 2/40\n",
            "20/20 [==============================] - 7s 335ms/step - loss: 0.6628 - accuracy: 0.6434 - val_loss: 0.6359 - val_accuracy: 0.7835\n",
            "Epoch 3/40\n",
            "20/20 [==============================] - 7s 335ms/step - loss: 0.4922 - accuracy: 0.8373 - val_loss: 0.3457 - val_accuracy: 0.8713\n",
            "Epoch 4/40\n",
            "20/20 [==============================] - 7s 335ms/step - loss: 0.2960 - accuracy: 0.8744 - val_loss: 0.3886 - val_accuracy: 0.8256\n",
            "Epoch 5/40\n",
            "20/20 [==============================] - 7s 335ms/step - loss: 0.2383 - accuracy: 0.8993 - val_loss: 0.1936 - val_accuracy: 0.9164\n",
            "Epoch 6/40\n",
            "20/20 [==============================] - 7s 334ms/step - loss: 0.2030 - accuracy: 0.9143 - val_loss: 0.2703 - val_accuracy: 0.8755\n",
            "Epoch 7/40\n",
            "20/20 [==============================] - 7s 334ms/step - loss: 0.1825 - accuracy: 0.9305 - val_loss: 0.2273 - val_accuracy: 0.9116\n",
            "Epoch 8/40\n",
            "20/20 [==============================] - 7s 337ms/step - loss: 0.1646 - accuracy: 0.9348 - val_loss: 0.2910 - val_accuracy: 0.8767\n",
            "Epoch 9/40\n",
            "20/20 [==============================] - 7s 333ms/step - loss: 0.1580 - accuracy: 0.9443 - val_loss: 0.2603 - val_accuracy: 0.8912\n",
            "Epoch 10/40\n",
            "20/20 [==============================] - 7s 334ms/step - loss: 0.1485 - accuracy: 0.9431 - val_loss: 0.2670 - val_accuracy: 0.8948\n",
            "Epoch 11/40\n",
            "20/20 [==============================] - 7s 335ms/step - loss: 0.1371 - accuracy: 0.9491 - val_loss: 0.2461 - val_accuracy: 0.9062\n",
            "Epoch 12/40\n",
            "20/20 [==============================] - 7s 332ms/step - loss: 0.1844 - accuracy: 0.9265 - val_loss: 0.2565 - val_accuracy: 0.9074\n",
            "Epoch 13/40\n",
            "20/20 [==============================] - 7s 332ms/step - loss: 0.1950 - accuracy: 0.9258 - val_loss: 0.3048 - val_accuracy: 0.8665\n",
            "Epoch 14/40\n",
            "20/20 [==============================] - 7s 334ms/step - loss: 0.1558 - accuracy: 0.9388 - val_loss: 0.2696 - val_accuracy: 0.8900\n",
            "Epoch 15/40\n",
            "20/20 [==============================] - 7s 334ms/step - loss: 0.1530 - accuracy: 0.9412 - val_loss: 0.2411 - val_accuracy: 0.9128\n",
            "Epoch 16/40\n",
            "20/20 [==============================] - 7s 334ms/step - loss: 0.1317 - accuracy: 0.9506 - val_loss: 0.2402 - val_accuracy: 0.9140\n",
            "Epoch 17/40\n",
            "20/20 [==============================] - 7s 333ms/step - loss: 0.1230 - accuracy: 0.9542 - val_loss: 0.2548 - val_accuracy: 0.9302\n",
            "Epoch 18/40\n",
            "20/20 [==============================] - 7s 334ms/step - loss: 0.1223 - accuracy: 0.9522 - val_loss: 0.2586 - val_accuracy: 0.9092\n",
            "Epoch 19/40\n",
            "20/20 [==============================] - 7s 333ms/step - loss: 0.1151 - accuracy: 0.9581 - val_loss: 0.2417 - val_accuracy: 0.9134\n",
            "Epoch 20/40\n",
            "20/20 [==============================] - 7s 334ms/step - loss: 0.1208 - accuracy: 0.9562 - val_loss: 0.2473 - val_accuracy: 0.9242\n",
            "Epoch 21/40\n",
            "20/20 [==============================] - 7s 334ms/step - loss: 0.1233 - accuracy: 0.9530 - val_loss: 0.2744 - val_accuracy: 0.9272\n",
            "Epoch 22/40\n",
            "20/20 [==============================] - 7s 334ms/step - loss: 0.1230 - accuracy: 0.9542 - val_loss: 0.2451 - val_accuracy: 0.9230\n",
            "Epoch 23/40\n",
            "20/20 [==============================] - 7s 332ms/step - loss: 0.1118 - accuracy: 0.9581 - val_loss: 0.2695 - val_accuracy: 0.9062\n",
            "Epoch 24/40\n",
            "20/20 [==============================] - 7s 333ms/step - loss: 0.1133 - accuracy: 0.9550 - val_loss: 0.2475 - val_accuracy: 0.9272\n",
            "Epoch 25/40\n",
            "20/20 [==============================] - 7s 335ms/step - loss: 0.0999 - accuracy: 0.9637 - val_loss: 0.2540 - val_accuracy: 0.9242\n",
            "Epoch 26/40\n",
            "20/20 [==============================] - 7s 334ms/step - loss: 0.1085 - accuracy: 0.9613 - val_loss: 0.2554 - val_accuracy: 0.9266\n",
            "Epoch 27/40\n",
            "20/20 [==============================] - 7s 333ms/step - loss: 0.0998 - accuracy: 0.9613 - val_loss: 0.2516 - val_accuracy: 0.9248\n",
            "Epoch 28/40\n",
            "20/20 [==============================] - 7s 333ms/step - loss: 0.0879 - accuracy: 0.9645 - val_loss: 0.2593 - val_accuracy: 0.9266\n",
            "Epoch 29/40\n",
            "20/20 [==============================] - 7s 334ms/step - loss: 0.0889 - accuracy: 0.9660 - val_loss: 0.2671 - val_accuracy: 0.9110\n",
            "Epoch 30/40\n",
            "20/20 [==============================] - 7s 333ms/step - loss: 0.0934 - accuracy: 0.9664 - val_loss: 0.2591 - val_accuracy: 0.9230\n",
            "Epoch 31/40\n",
            "20/20 [==============================] - 7s 334ms/step - loss: 0.0897 - accuracy: 0.9672 - val_loss: 0.2578 - val_accuracy: 0.9182\n",
            "Epoch 32/40\n",
            "20/20 [==============================] - 7s 333ms/step - loss: 0.0846 - accuracy: 0.9688 - val_loss: 0.2655 - val_accuracy: 0.9302\n",
            "Epoch 33/40\n",
            "20/20 [==============================] - 7s 333ms/step - loss: 0.0788 - accuracy: 0.9700 - val_loss: 0.2599 - val_accuracy: 0.9260\n",
            "Epoch 34/40\n",
            "20/20 [==============================] - 7s 333ms/step - loss: 0.0737 - accuracy: 0.9739 - val_loss: 0.2679 - val_accuracy: 0.9248\n",
            "Epoch 35/40\n",
            "20/20 [==============================] - 7s 333ms/step - loss: 0.0891 - accuracy: 0.9684 - val_loss: 0.3268 - val_accuracy: 0.8870\n",
            "Epoch 36/40\n",
            "20/20 [==============================] - 7s 333ms/step - loss: 0.0799 - accuracy: 0.9712 - val_loss: 0.2685 - val_accuracy: 0.9218\n",
            "Epoch 37/40\n",
            "20/20 [==============================] - 7s 334ms/step - loss: 0.0651 - accuracy: 0.9743 - val_loss: 0.2570 - val_accuracy: 0.9266\n",
            "Epoch 38/40\n",
            "20/20 [==============================] - 7s 333ms/step - loss: 0.0572 - accuracy: 0.9787 - val_loss: 0.2868 - val_accuracy: 0.9327\n",
            "Epoch 39/40\n",
            "20/20 [==============================] - 7s 334ms/step - loss: 0.0559 - accuracy: 0.9787 - val_loss: 0.2553 - val_accuracy: 0.9260\n",
            "Epoch 40/40\n",
            "20/20 [==============================] - 7s 334ms/step - loss: 0.0514 - accuracy: 0.9810 - val_loss: 0.2670 - val_accuracy: 0.9266\n"
          ]
        }
      ]
    },
    {
      "cell_type": "markdown",
      "metadata": {
        "id": "J8UwHSEye98k"
      },
      "source": [
        "###Выводим графики точности"
      ]
    },
    {
      "cell_type": "code",
      "metadata": {
        "id": "xRFSAFd3e98l",
        "colab": {
          "base_uri": "https://localhost:8080/",
          "height": 282
        },
        "outputId": "0e413e20-9904-4aaf-f93e-b8b410da4ddc"
      },
      "source": [
        "# Выводим график точности на обучающей выборке\n",
        "# label - имя графика в легенде\n",
        "plt.plot(my_model_2dc.history['accuracy'], \n",
        "         label='Доля верных ответов на обучающем наборе')\n",
        "\n",
        "# Выводим график точности на проверочной выборке\n",
        "plt.plot(my_model_2dc.history['val_accuracy'], \n",
        "         label='Доля верных ответов на проверочном наборе')\n",
        "\n",
        "# Выводим подписи осей\n",
        "plt.xlabel('Эпоха обучения')\n",
        "plt.ylabel('Доля верных ответов')\n",
        "\n",
        "# Выводим легенду\n",
        "plt.legend()\n",
        "plt.show()"
      ],
      "execution_count": null,
      "outputs": [
        {
          "output_type": "display_data",
          "data": {
            "image/png": "[encoded data removed]",
            "text/plain": [
              "<Figure size 432x288 with 1 Axes>"
            ]
          },
          "metadata": {
            "needs_background": "light"
          }
        }
      ]
    },
    {
      "cell_type": "markdown",
      "metadata": {
        "id": "A98XdpWS-y4R"
      },
      "source": [
        "###Делаем предсказания моделью"
      ]
    },
    {
      "cell_type": "code",
      "metadata": {
        "id": "BDiBoffySPo1"
      },
      "source": [
        "y_pred = model_2dc.predict(X_test_c)"
      ],
      "execution_count": null,
      "outputs": []
    },
    {
      "cell_type": "code",
      "metadata": {
        "colab": {
          "base_uri": "https://localhost:8080/"
        },
        "id": "rtaWbDttv0dd",
        "outputId": "2ff36025-76ef-45ec-9646-97e8abc98920"
      },
      "source": [
        "y_pred.shape"
      ],
      "execution_count": null,
      "outputs": [
        {
          "output_type": "execute_result",
          "data": {
            "text/plain": [
              "(1661, 1)"
            ]
          },
          "metadata": {},
          "execution_count": 26
        }
      ]
    },
    {
      "cell_type": "code",
      "metadata": {
        "colab": {
          "base_uri": "https://localhost:8080/"
        },
        "id": "PG_202VjuOMN",
        "outputId": "29b91530-14eb-4438-8c00-6d5f587b7a80"
      },
      "source": [
        "y_pred[0]"
      ],
      "execution_count": null,
      "outputs": [
        {
          "output_type": "execute_result",
          "data": {
            "text/plain": [
              "array([0.9998567], dtype=float32)"
            ]
          },
          "metadata": {},
          "execution_count": 27
        }
      ]
    },
    {
      "cell_type": "code",
      "metadata": {
        "colab": {
          "base_uri": "https://localhost:8080/"
        },
        "id": "IXjHwlQavpP2",
        "outputId": "cc6cf121-d282-4c60-fbb9-81c8048fa305"
      },
      "source": [
        "# переводим данные в формат 0 - 1\n",
        "y = (y_pred > .5).astype('float32')\n",
        "y = y.reshape(y.shape[0])\n",
        "y"
      ],
      "execution_count": null,
      "outputs": [
        {
          "output_type": "execute_result",
          "data": {
            "text/plain": [
              "array([1., 1., 1., ..., 1., 1., 1.], dtype=float32)"
            ]
          },
          "metadata": {},
          "execution_count": 28
        }
      ]
    },
    {
      "cell_type": "code",
      "metadata": {
        "colab": {
          "base_uri": "https://localhost:8080/"
        },
        "id": "EPDgX8yPtgpY",
        "outputId": "fd92527d-e615-43d3-c104-29b8342c23a4"
      },
      "source": [
        "# убеждаемся, что есть все типы ответов\n",
        "np.unique(y)"
      ],
      "execution_count": null,
      "outputs": [
        {
          "output_type": "execute_result",
          "data": {
            "text/plain": [
              "array([0., 1.], dtype=float32)"
            ]
          },
          "metadata": {},
          "execution_count": 29
        }
      ]
    },
    {
      "cell_type": "markdown",
      "metadata": {
        "id": "zCBqQF1k-47m"
      },
      "source": [
        "###Переводим ответ в правильный формат, отсылаем для подсчёта рейтинга"
      ]
    },
    {
      "cell_type": "code",
      "metadata": {
        "id": "TgviiwL6fqUk",
        "colab": {
          "base_uri": "https://localhost:8080/",
          "height": 204
        },
        "outputId": "6f9d1faf-7e3e-4f41-e387-1b33817d6887"
      },
      "source": [
        "# создаём датафрейм в нужном формате\n",
        "submission = pd.DataFrame({\"Id\":range(1,len(y_pred)+1),\"Label\":y})\n",
        "submission.head()"
      ],
      "execution_count": null,
      "outputs": [
        {
          "output_type": "execute_result",
          "data": {
            "text/html": [
              "<div>\n",
              "<style scoped>\n",
              "    .dataframe tbody tr th:only-of-type {\n",
              "        vertical-align: middle;\n",
              "    }\n",
              "\n",
              "    .dataframe tbody tr th {\n",
              "        vertical-align: top;\n",
              "    }\n",
              "\n",
              "    .dataframe thead th {\n",
              "        text-align: right;\n",
              "    }\n",
              "</style>\n",
              "<table border=\"1\" class=\"dataframe\">\n",
              "  <thead>\n",
              "    <tr style=\"text-align: right;\">\n",
              "      <th></th>\n",
              "      <th>Id</th>\n",
              "      <th>Label</th>\n",
              "    </tr>\n",
              "  </thead>\n",
              "  <tbody>\n",
              "    <tr>\n",
              "      <th>0</th>\n",
              "      <td>1</td>\n",
              "      <td>1.0</td>\n",
              "    </tr>\n",
              "    <tr>\n",
              "      <th>1</th>\n",
              "      <td>2</td>\n",
              "      <td>1.0</td>\n",
              "    </tr>\n",
              "    <tr>\n",
              "      <th>2</th>\n",
              "      <td>3</td>\n",
              "      <td>1.0</td>\n",
              "    </tr>\n",
              "    <tr>\n",
              "      <th>3</th>\n",
              "      <td>4</td>\n",
              "      <td>0.0</td>\n",
              "    </tr>\n",
              "    <tr>\n",
              "      <th>4</th>\n",
              "      <td>5</td>\n",
              "      <td>1.0</td>\n",
              "    </tr>\n",
              "  </tbody>\n",
              "</table>\n",
              "</div>"
            ],
            "text/plain": [
              "   Id  Label\n",
              "0   1    1.0\n",
              "1   2    1.0\n",
              "2   3    1.0\n",
              "3   4    0.0\n",
              "4   5    1.0"
            ]
          },
          "metadata": {},
          "execution_count": 30
        }
      ]
    },
    {
      "cell_type": "code",
      "metadata": {
        "id": "A5Sqf5jqfqUl"
      },
      "source": [
        "# сохраняем его как csv\n",
        "submission = submission.to_csv('/content/drive/MyDrive/datasets/submission.csv', sep=',', index=False, header=True)"
      ],
      "execution_count": null,
      "outputs": []
    },
    {
      "cell_type": "code",
      "metadata": {
        "id": "V6akP-p6O1YJ",
        "colab": {
          "base_uri": "https://localhost:8080/"
        },
        "outputId": "bb48ca21-1022-4d0d-e224-5da287eec94f"
      },
      "source": [
        "# отправляем на соревнование\n",
        "!kaggle competitions submit -c university-of-digital-technologies3 -f submission.csv -m \"Message\""
      ],
      "execution_count": null,
      "outputs": [
        {
          "output_type": "stream",
          "name": "stdout",
          "text": [
            "Traceback (most recent call last):\n",
            "  File \"/usr/local/bin/kaggle\", line 8, in <module>\n",
            "    sys.exit(main())\n",
            "  File \"/usr/local/lib/python3.7/dist-packages/kaggle/cli.py\", line 67, in main\n",
            "    out = args.func(**command_args)\n",
            "  File \"/usr/local/lib/python3.7/dist-packages/kaggle/api/kaggle_api_extended.py\", line 562, in competition_submit_cli\n",
            "    competition, quiet)\n",
            "  File \"/usr/local/lib/python3.7/dist-packages/kaggle/api/kaggle_api_extended.py\", line 513, in competition_submit\n",
            "    content_length=os.path.getsize(file_name),\n",
            "  File \"/usr/lib/python3.7/genericpath.py\", line 50, in getsize\n",
            "    return os.stat(filename).st_size\n",
            "FileNotFoundError: [Errno 2] No such file or directory: 'submission.csv'\n"
          ]
        }
      ]
    },
    {
      "cell_type": "markdown",
      "metadata": {
        "id": "2yIk2nTJlPb3"
      },
      "source": [
        "### Смотрим своё место в таблице лидеров:\n",
        "\n",
        "https://www.kaggle.com/c/university-of-digital-technologies3/leaderboard"
      ]
    },
    {
      "cell_type": "markdown",
      "metadata": {
        "id": "lhzFGDvXoWGy"
      },
      "source": [
        "# Литература"
      ]
    },
    {
      "cell_type": "markdown",
      "metadata": {
        "id": "8xIFojRrobXf"
      },
      "source": [
        "\n",
        "1. https://www.kaggle.com/paultimothymooney/chest-xray-pneumonia\n",
        "\n",
        "2. https://creativecommons.org/licenses/by/4.0/\n",
        "\n",
        "3. https://cs.stanford.edu/~acoates/stl10/\n",
        "\n",
        "4. https://www.tensorflow.org/datasets/catalog/overview\n",
        "\n",
        "5. https://keras.io/api/datasets/\n",
        "\n",
        "6. https://en.wikipedia.org/wiki/Sensitivity_and_specificity\n",
        "\n",
        "7. https://en.m.wikipedia.org/wiki/Batch_normalization#:~:text=Batch%20normalization%20(also%20known%20as,and%20Christian%20Szegedy%20in%202015.)\n",
        "\n",
        "8. https://jmlr.org/papers/v15/srivastava14a.html\n",
        "\n",
        "9. https://www.kaggle.com/paultimothymooney/chest-xray-pneumonia\n",
        "\n",
        "10. https://neurohive.io/ru/osnovy-data-science/glubokaya-svertochnaja-nejronnaja-set/\n",
        "\n",
        "11. https://ru.wikipedia.org/wiki/%D0%A1%D0%B2%D1%91%D1%80%D1%82%D0%BE%D1%87%D0%BD%D0%B0%D1%8F_%D0%BD%D0%B5%D0%B9%D1%80%D0%BE%D0%BD%D0%BD%D0%B0%D1%8F_%D1%81%D0%B5%D1%82%D1%8C\n",
        "\n",
        "12. Автор: Max La - собственная работа, CC BY-SA 3.0, https://commons.wikimedia.org/w/index.php?curid=33394271\n",
        "\n",
        "13. Y. LeCun, B. Boser, J. S. Denker, D. Henderson, R. E. Howard, W. Hubbard and L. D. Jackel: Backpropagation Applied to Handwritten Zip Code Recognition, Neural Computation, 1(4):541-551, Winter 1989.\n",
        "\n",
        "\n",
        "\n",
        "\n",
        "\n",
        "\n"
      ]
    },
    {
      "cell_type": "markdown",
      "metadata": {
        "id": "pYDE0hwOdiqe"
      },
      "source": [
        "# The End"
      ]
    }
  ]
}
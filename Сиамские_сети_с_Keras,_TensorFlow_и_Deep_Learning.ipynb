{
  "nbformat": 4,
  "nbformat_minor": 0,
  "metadata": {
    "colab": {
      "name": "Сиамские сети с Keras, TensorFlow и Deep Learning",
      "provenance": [],
      "collapsed_sections": [],
      "include_colab_link": true
    },
    "kernelspec": {
      "name": "python3",
      "display_name": "Python 3"
    },
    "accelerator": "GPU"
  },
  "cells": [
    {
      "cell_type": "markdown",
      "metadata": {
        "id": "view-in-github",
        "colab_type": "text"
      },
      "source": [
        "<a href=\"https://colab.research.google.com/github/vadim-privalov/Neiroset_Novosibirsk/blob/main/%D0%A1%D0%B8%D0%B0%D0%BC%D1%81%D0%BA%D0%B8%D0%B5_%D1%81%D0%B5%D1%82%D0%B8_%D1%81_Keras%2C_TensorFlow_%D0%B8_Deep_Learning.ipynb\" target=\"_parent\"><img src=\"https://colab.research.google.com/assets/colab-badge.svg\" alt=\"Open In Colab\"/></a>"
      ]
    },
    {
      "cell_type": "markdown",
      "metadata": {
        "id": "2zjq6SUqPESh"
      },
      "source": [
        "<h1 style=\"text-align: center;\"><b>Сиамские сети с Keras, TensorFlow и Deep Learning</b></h1>"
      ]
    },
    {
      "cell_type": "markdown",
      "metadata": {
        "id": "nNFexvFShsR0"
      },
      "source": [
        "<h1 style = \"text-align: center;\"> <b> Siamese networks with Keras, TensorFlow and Deep Learning </b> </h1>"
      ]
    },
    {
      "cell_type": "markdown",
      "metadata": {
        "id": "D2LVRVkxPIXd"
      },
      "source": [
        "В этом уроке мы реализуем и обучим сиамские сети с помощью Keras, TensorFlow и Deep Learning.\n",
        "\n",
        "In this tutorial, we will implement and train Siamese networks using Keras, TensorFlow, and Deep Learning."
      ]
    },
    {
      "cell_type": "markdown",
      "metadata": {
        "id": "rGzXdfX0PKkn"
      },
      "source": [
        "Затем мы рассмотрим структуру каталогов нашего проекта и реализуем файл конфигурации, за которым следуют три вспомогательные функции:\n",
        "\n",
        "We will then look at the directory structure of our project and implement a configuration file followed by three helper functions:\n",
        "\n",
        "1.   Метод, используемый для генерации пар изображений, чтобы мы могли обучать нашу сиамскую сеть. The method used to generate pairs of images so that we can train our Siamese network. \n",
        "2. Пользовательский слой CNN для вычисления евклидовых расстояний между векторами внутри сети. Custom CNN layer for calculating Euclidean distances between vectors within the network.\n",
        "3.   Утилита, используемая для записи истории обучения сиамской сети на диск. A utility used to write the learning history of the Siamese network to disk.\n"
      ]
    },
    {
      "cell_type": "markdown",
      "metadata": {
        "id": "EtdXy-ifh8vi"
      },
      "source": [
        "Используя вспомогательные функции, мы выполним обучение сиамской сети на наборе данных MNIST.\n",
        "\n",
        "We will train the Siamese network on the MNIST dataset with helper functions."
      ]
    },
    {
      "cell_type": "markdown",
      "metadata": {
        "id": "N2MsrdDjJ6vU"
      },
      "source": [
        "### Установите необходимые библиотеки"
      ]
    },
    {
      "cell_type": "markdown",
      "metadata": {
        "id": "RpuM4JQK-ecz"
      },
      "source": [
        "### Install the necessary packages"
      ]
    },
    {
      "cell_type": "code",
      "metadata": {
        "id": "qdtSckfk-hua",
        "colab": {
          "base_uri": "https://localhost:8080/"
        },
        "outputId": "cee4b721-2b79-428d-b547-6edc9d6048f1"
      },
      "source": [
        "!pip install tensorflow==2.3.0"
      ],
      "execution_count": 2,
      "outputs": [
        {
          "output_type": "stream",
          "name": "stdout",
          "text": [
            "Requirement already satisfied: tensorflow==2.3.0 in /usr/local/lib/python3.7/dist-packages (2.3.0)\n",
            "Requirement already satisfied: absl-py>=0.7.0 in /usr/local/lib/python3.7/dist-packages (from tensorflow==2.3.0) (1.0.0)\n",
            "Requirement already satisfied: gast==0.3.3 in /usr/local/lib/python3.7/dist-packages (from tensorflow==2.3.0) (0.3.3)\n",
            "Requirement already satisfied: h5py<2.11.0,>=2.10.0 in /usr/local/lib/python3.7/dist-packages (from tensorflow==2.3.0) (2.10.0)\n",
            "Requirement already satisfied: tensorboard<3,>=2.3.0 in /usr/local/lib/python3.7/dist-packages (from tensorflow==2.3.0) (2.8.0)\n",
            "Requirement already satisfied: protobuf>=3.9.2 in /usr/local/lib/python3.7/dist-packages (from tensorflow==2.3.0) (3.17.3)\n",
            "Requirement already satisfied: tensorflow-estimator<2.4.0,>=2.3.0 in /usr/local/lib/python3.7/dist-packages (from tensorflow==2.3.0) (2.3.0)\n",
            "Requirement already satisfied: numpy<1.19.0,>=1.16.0 in /usr/local/lib/python3.7/dist-packages (from tensorflow==2.3.0) (1.18.5)\n",
            "Requirement already satisfied: wrapt>=1.11.1 in /usr/local/lib/python3.7/dist-packages (from tensorflow==2.3.0) (1.13.3)\n",
            "Requirement already satisfied: scipy==1.4.1 in /usr/local/lib/python3.7/dist-packages (from tensorflow==2.3.0) (1.4.1)\n",
            "Requirement already satisfied: astunparse==1.6.3 in /usr/local/lib/python3.7/dist-packages (from tensorflow==2.3.0) (1.6.3)\n",
            "Requirement already satisfied: six>=1.12.0 in /usr/local/lib/python3.7/dist-packages (from tensorflow==2.3.0) (1.15.0)\n",
            "Requirement already satisfied: opt-einsum>=2.3.2 in /usr/local/lib/python3.7/dist-packages (from tensorflow==2.3.0) (3.3.0)\n",
            "Requirement already satisfied: wheel>=0.26 in /usr/local/lib/python3.7/dist-packages (from tensorflow==2.3.0) (0.37.1)\n",
            "Requirement already satisfied: termcolor>=1.1.0 in /usr/local/lib/python3.7/dist-packages (from tensorflow==2.3.0) (1.1.0)\n",
            "Requirement already satisfied: google-pasta>=0.1.8 in /usr/local/lib/python3.7/dist-packages (from tensorflow==2.3.0) (0.2.0)\n",
            "Requirement already satisfied: grpcio>=1.8.6 in /usr/local/lib/python3.7/dist-packages (from tensorflow==2.3.0) (1.43.0)\n",
            "Requirement already satisfied: keras-preprocessing<1.2,>=1.1.1 in /usr/local/lib/python3.7/dist-packages (from tensorflow==2.3.0) (1.1.2)\n",
            "Requirement already satisfied: setuptools>=41.0.0 in /usr/local/lib/python3.7/dist-packages (from tensorboard<3,>=2.3.0->tensorflow==2.3.0) (57.4.0)\n",
            "Requirement already satisfied: tensorboard-plugin-wit>=1.6.0 in /usr/local/lib/python3.7/dist-packages (from tensorboard<3,>=2.3.0->tensorflow==2.3.0) (1.8.1)\n",
            "Requirement already satisfied: google-auth<3,>=1.6.3 in /usr/local/lib/python3.7/dist-packages (from tensorboard<3,>=2.3.0->tensorflow==2.3.0) (1.35.0)\n",
            "Requirement already satisfied: google-auth-oauthlib<0.5,>=0.4.1 in /usr/local/lib/python3.7/dist-packages (from tensorboard<3,>=2.3.0->tensorflow==2.3.0) (0.4.6)\n",
            "Requirement already satisfied: tensorboard-data-server<0.7.0,>=0.6.0 in /usr/local/lib/python3.7/dist-packages (from tensorboard<3,>=2.3.0->tensorflow==2.3.0) (0.6.1)\n",
            "Requirement already satisfied: werkzeug>=0.11.15 in /usr/local/lib/python3.7/dist-packages (from tensorboard<3,>=2.3.0->tensorflow==2.3.0) (1.0.1)\n",
            "Requirement already satisfied: markdown>=2.6.8 in /usr/local/lib/python3.7/dist-packages (from tensorboard<3,>=2.3.0->tensorflow==2.3.0) (3.3.6)\n",
            "Requirement already satisfied: requests<3,>=2.21.0 in /usr/local/lib/python3.7/dist-packages (from tensorboard<3,>=2.3.0->tensorflow==2.3.0) (2.23.0)\n",
            "Requirement already satisfied: pyasn1-modules>=0.2.1 in /usr/local/lib/python3.7/dist-packages (from google-auth<3,>=1.6.3->tensorboard<3,>=2.3.0->tensorflow==2.3.0) (0.2.8)\n",
            "Requirement already satisfied: cachetools<5.0,>=2.0.0 in /usr/local/lib/python3.7/dist-packages (from google-auth<3,>=1.6.3->tensorboard<3,>=2.3.0->tensorflow==2.3.0) (4.2.4)\n",
            "Requirement already satisfied: rsa<5,>=3.1.4 in /usr/local/lib/python3.7/dist-packages (from google-auth<3,>=1.6.3->tensorboard<3,>=2.3.0->tensorflow==2.3.0) (4.8)\n",
            "Requirement already satisfied: requests-oauthlib>=0.7.0 in /usr/local/lib/python3.7/dist-packages (from google-auth-oauthlib<0.5,>=0.4.1->tensorboard<3,>=2.3.0->tensorflow==2.3.0) (1.3.1)\n",
            "Requirement already satisfied: importlib-metadata>=4.4 in /usr/local/lib/python3.7/dist-packages (from markdown>=2.6.8->tensorboard<3,>=2.3.0->tensorflow==2.3.0) (4.11.0)\n",
            "Requirement already satisfied: zipp>=0.5 in /usr/local/lib/python3.7/dist-packages (from importlib-metadata>=4.4->markdown>=2.6.8->tensorboard<3,>=2.3.0->tensorflow==2.3.0) (3.7.0)\n",
            "Requirement already satisfied: typing-extensions>=3.6.4 in /usr/local/lib/python3.7/dist-packages (from importlib-metadata>=4.4->markdown>=2.6.8->tensorboard<3,>=2.3.0->tensorflow==2.3.0) (3.10.0.2)\n",
            "Requirement already satisfied: pyasn1<0.5.0,>=0.4.6 in /usr/local/lib/python3.7/dist-packages (from pyasn1-modules>=0.2.1->google-auth<3,>=1.6.3->tensorboard<3,>=2.3.0->tensorflow==2.3.0) (0.4.8)\n",
            "Requirement already satisfied: urllib3!=1.25.0,!=1.25.1,<1.26,>=1.21.1 in /usr/local/lib/python3.7/dist-packages (from requests<3,>=2.21.0->tensorboard<3,>=2.3.0->tensorflow==2.3.0) (1.24.3)\n",
            "Requirement already satisfied: certifi>=2017.4.17 in /usr/local/lib/python3.7/dist-packages (from requests<3,>=2.21.0->tensorboard<3,>=2.3.0->tensorflow==2.3.0) (2021.10.8)\n",
            "Requirement already satisfied: idna<3,>=2.5 in /usr/local/lib/python3.7/dist-packages (from requests<3,>=2.21.0->tensorboard<3,>=2.3.0->tensorflow==2.3.0) (2.10)\n",
            "Requirement already satisfied: chardet<4,>=3.0.2 in /usr/local/lib/python3.7/dist-packages (from requests<3,>=2.21.0->tensorboard<3,>=2.3.0->tensorflow==2.3.0) (3.0.4)\n",
            "Requirement already satisfied: oauthlib>=3.0.0 in /usr/local/lib/python3.7/dist-packages (from requests-oauthlib>=0.7.0->google-auth-oauthlib<0.5,>=0.4.1->tensorboard<3,>=2.3.0->tensorflow==2.3.0) (3.2.0)\n"
          ]
        }
      ]
    },
    {
      "cell_type": "markdown",
      "metadata": {
        "id": "RdTrDDoxKWRZ"
      },
      "source": [
        "### Загрузите zip-файл с кодом"
      ]
    },
    {
      "cell_type": "markdown",
      "metadata": {
        "id": "IM0TNh1V8gtB"
      },
      "source": [
        "### Download the code zip file"
      ]
    },
    {
      "cell_type": "code",
      "metadata": {
        "id": "LAdx4mZs78xy",
        "colab": {
          "base_uri": "https://localhost:8080/"
        },
        "outputId": "ad2b0380-98c2-4d79-a139-99ab5ac0e053"
      },
      "source": [
        "!wget http://dataudt.ru/datasets/cv/Lesson_2.Siamese_networks_with_Keras_TensorFlow_and_Deep_Learning.zip\n",
        "!unzip -qq Lesson_2.Siamese_networks_with_Keras_TensorFlow_and_Deep_Learning.zip"
      ],
      "execution_count": 3,
      "outputs": [
        {
          "output_type": "stream",
          "name": "stdout",
          "text": [
            "--2022-02-21 08:55:26--  http://dataudt.ru/datasets/cv/Lesson_2.Siamese_networks_with_Keras_TensorFlow_and_Deep_Learning.zip\n",
            "Resolving dataudt.ru (dataudt.ru)... 37.228.117.130\n",
            "Connecting to dataudt.ru (dataudt.ru)|37.228.117.130|:80... connected.\n",
            "HTTP request sent, awaiting response... 200 OK\n",
            "Length: 291702 (285K) [application/zip]\n",
            "Saving to: ‘Lesson_2.Siamese_networks_with_Keras_TensorFlow_and_Deep_Learning.zip’\n",
            "\n",
            "Lesson_2.Siamese_ne 100%[===================>] 284.87K   250KB/s    in 1.1s    \n",
            "\n",
            "2022-02-21 08:55:28 (250 KB/s) - ‘Lesson_2.Siamese_networks_with_Keras_TensorFlow_and_Deep_Learning.zip’ saved [291702/291702]\n",
            "\n"
          ]
        }
      ]
    },
    {
      "cell_type": "markdown",
      "metadata": {
        "id": "IXTpkFAcKZJl"
      },
      "source": [
        "### Импорт пакетов"
      ]
    },
    {
      "cell_type": "markdown",
      "metadata": {
        "id": "Tvqfs0Z38xtq"
      },
      "source": [
        "### Import Packages"
      ]
    },
    {
      "cell_type": "code",
      "metadata": {
        "id": "heyL2WI580Xn"
      },
      "source": [
        "# импортируем необходимые библиотеки\n",
        "# import the necessary packages\n",
        "from tensorflow.keras.models import Model\n",
        "from tensorflow.keras.layers import Input\n",
        "from tensorflow.keras.layers import Lambda\n",
        "from tensorflow.keras.layers import Conv2D\n",
        "from tensorflow.keras.layers import Dense\n",
        "from tensorflow.keras.layers import Dropout\n",
        "from tensorflow.keras.layers import GlobalAveragePooling2D\n",
        "from tensorflow.keras.layers import MaxPooling2D\n",
        "from tensorflow.keras.datasets import mnist\n",
        "import tensorflow.keras.backend as K\n",
        "import matplotlib.pyplot as plt\n",
        "import numpy as np\n",
        "import os"
      ],
      "execution_count": 4,
      "outputs": []
    },
    {
      "cell_type": "markdown",
      "metadata": {
        "id": "Y0uxmDivKcAb"
      },
      "source": [
        "### Определите наш класс `Config`"
      ]
    },
    {
      "cell_type": "markdown",
      "metadata": {
        "id": "BYdF2X0ADkQS"
      },
      "source": [
        "### Define our `Config` class"
      ]
    },
    {
      "cell_type": "code",
      "metadata": {
        "id": "G_G1E-vBDj0A"
      },
      "source": [
        "class Config:\n",
        "    # указываем входные параметры для нашей нейросети\n",
        "    # specify the shape of the inputs for our network\n",
        "    IMG_SHAPE = (28, 28, 1)\n",
        "    \n",
        "    \n",
        "    # указываем размер батча и количество эпох\n",
        "    # specify the batch size and number of epochs\n",
        "    BATCH_SIZE = 64\n",
        "    EPOCHS = 100\n",
        "\n",
        "    # определяем путь к базовой выходной папке\n",
        "    # define the path to the base output directory\n",
        "    BASE_OUTPUT = \"output\"\n",
        "\n",
        "    # используем базовый путь для вывода модели\n",
        "    # use the base output path to derive the path to the serialized\n",
        "    MODEL_PATH = os.path.sep.join([BASE_OUTPUT, \"siamese_model\"])\n",
        "    # модель вместе с историей обучения\n",
        "    \n",
        "    # model along with training history plot\n",
        "    PLOT_PATH = os.path.sep.join([BASE_OUTPUT, \"plot.png\"])\n",
        "\n",
        "# создаем экземпляр класса конфигурации\n",
        "# instantiate the config class\n",
        "config = Config()"
      ],
      "execution_count": 5,
      "outputs": []
    },
    {
      "cell_type": "markdown",
      "metadata": {
        "id": "UIHhq1rqKeuv"
      },
      "source": [
        "### Реализация наших функций создания пар, евклидова расстояния и истории построения графиков."
      ]
    },
    {
      "cell_type": "markdown",
      "metadata": {
        "id": "fGPJ8m4lEn74"
      },
      "source": [
        "### Implementing our pair generation, euclidean distance, and plot history utility functions"
      ]
    },
    {
      "cell_type": "code",
      "metadata": {
        "id": "B3ZSyp6YEtJx"
      },
      "source": [
        "def make_pairs(images, labels):\n",
        "\t# создаем два пустых списка  \t\n",
        "    # для хранения пар изображений\n",
        "    # initialize two empty lists to hold the (image, image) pairs and\n",
        "\tpair_images = []\n",
        "    # для классов, показывающих является ли пара положительной или отрицательной   \n",
        "\t# labels to indicate if a pair is positive or negative\n",
        "\tpair_labels = []\n",
        "\n",
        "    # вычисляем общее количество классов, представленных в датасете \n",
        "    # calculate the total number of classes present in the dataset\n",
        "\tnum_classes = len(np.unique(labels))\n",
        "    # создаем список индексов для каждой метки класса,\n",
        "    # в котором есть индексы для каждого примера с заданной меткой\n",
        "    # and then build a list of indexes for each class label that\n",
        "\t# provides the indexes for all examples with a given label\n",
        "\tidx = [np.where(labels == i)[0] for i in range(0, num_classes)]\n",
        "\n",
        "    # проходим циклом через все изображения \n",
        "    # loop over all images\n",
        "\tfor idxA in range(len(images)):\n",
        "\n",
        "\t\t# выбираем изображение и метку, принадлежащих текущей итерации  \n",
        "        # grab the current image and label belonging to the current\n",
        "\t\t# iteration\n",
        "\t\tcurrent_image = images[idxA]\n",
        "\t\tlabel = labels[idxA]\n",
        "    \n",
        "        \n",
        "\t\t# случайно выбираем изображение, которое принадлежит *тому же* классу\n",
        "        # randomly pick an image that belongs to the *same* class\n",
        "\t\t# label\n",
        "\t\tidxB = np.random.choice(idx[label])\n",
        "\t\tpos_image = images[idxB]\n",
        "           \n",
        "\t\t# подготавливаем позитивную пару и обновляем изображения и индексы\n",
        "        # prepare a positive pair and update the images and labels\n",
        "\t\t# lists, respectively \n",
        "\t\tpair_images.append([current_image, pos_image])\n",
        "\t\tpair_labels.append([1])\n",
        "    \n",
        "        # получаем индексы для каждой из меток классов *не* равных текущей метке\n",
        "        # случайным образом выбираем изображение с меткой, *не* равной текущей метке\n",
        "        # grab the indices for each of the class labels *not* equal to\n",
        "\t\t# the current label and randomly pick an image corresponding\n",
        "\t\t# to a label *not* equal to the current label\n",
        "\t\tnegIdx = np.where(labels != label)[0]\n",
        "\t\tneg_image = images[np.random.choice(negIdx)]\n",
        "\n",
        "\t\t# подготавливаем негативную пару и обновляем списки \n",
        "        # prepare a negative pair of images and update our lists\n",
        "\t\tpair_images.append([current_image, neg_image])\n",
        "\t\tpair_labels.append([0])\n",
        "  \n",
        "\t# возвращаем кортеж, состоящий из пары изображений и их меток \n",
        "    # return a 2-tuple of our image pairs and labels\n",
        "\treturn (np.array(pair_images), np.array(pair_labels))"
      ],
      "execution_count": 6,
      "outputs": []
    },
    {
      "cell_type": "code",
      "metadata": {
        "id": "YXcPVZCGE1ly"
      },
      "source": [
        "def euclidean_distance(vectors):\n",
        "    # распределяем векторы в отдельные списки\n",
        "\t# unpack the vectors into separate lists\n",
        "\t(featsA, featsB) = vectors\n",
        "\n",
        "    # вычисляем сумму квадратов расстояний между векторами\n",
        "    # compute the sum of squared distances between the vectors\n",
        "\tsumSquared = K.sum(K.square(featsA - featsB), axis=1,\n",
        "\t\tkeepdims=True)\n",
        "\n",
        "    # возвращаем евклидово расстояние между векторами\n",
        "    # return the euclidean distance between the vectors\n",
        "\treturn K.sqrt(K.maximum(sumSquared, K.epsilon()))"
      ],
      "execution_count": 7,
      "outputs": []
    },
    {
      "cell_type": "code",
      "metadata": {
        "id": "Z3QoY24wE7NK"
      },
      "source": [
        "def plot_training(H, plotPath):\n",
        "    # строим графики, отображающие историю обучения\n",
        "    # construct a plot that plots and saves the training history\n",
        "\tplt.style.use(\"ggplot\")\n",
        "\tplt.figure()\n",
        "\tplt.plot(H.history[\"loss\"], label=\"train_loss\")\n",
        "\tplt.plot(H.history[\"val_loss\"], label=\"val_loss\")\n",
        "\tplt.plot(H.history[\"accuracy\"], label=\"train_acc\")\n",
        "\tplt.plot(H.history[\"val_accuracy\"], label=\"val_acc\")\n",
        "\tplt.title(\"Training Loss and Accuracy\")\n",
        "\tplt.xlabel(\"Epoch #\")\n",
        "\tplt.ylabel(\"Loss/Accuracy\")\n",
        "\tplt.legend(loc=\"lower left\")\n",
        "\tplt.savefig(plotPath)"
      ],
      "execution_count": 8,
      "outputs": []
    },
    {
      "cell_type": "markdown",
      "metadata": {
        "id": "Su6uXOcvKioT"
      },
      "source": [
        "### Реализация сиамской сетевой архитектуры с помощью Keras и TensorFlow"
      ]
    },
    {
      "cell_type": "markdown",
      "metadata": {
        "id": "u8yghffrFB4a"
      },
      "source": [
        "### Implementing the siamese network architecture with Keras and TensorFlow"
      ]
    },
    {
      "cell_type": "code",
      "metadata": {
        "id": "B67R684AFHs0"
      },
      "source": [
        "def build_siamese_model(inputShape, embeddingDim=48):\n",
        "    # указываем входы для признаков сети\n",
        "    # specify the inputs for the feature extractor network\n",
        "\tinputs = Input(inputShape)\n",
        "\n",
        "    # определяем первый набор слоев: CONV => RELU => POOL => DROPOUT \n",
        "    # define the first set of CONV => RELU => POOL => DROPOUT layers\n",
        "\tx = Conv2D(64, (2, 2), padding=\"same\", activation=\"relu\")(inputs)\n",
        "\tx = MaxPooling2D(pool_size=(2, 2))(x)\n",
        "\tx = Dropout(0.3)(x)\n",
        "\n",
        "    # второй набор: CONV => RELU => POOL => DROPOUT layers\n",
        "    # second set of CONV => RELU => POOL => DROPOUT layers\n",
        "\tx = Conv2D(64, (2, 2), padding=\"same\", activation=\"relu\")(x)\n",
        "\tx = MaxPooling2D(pool_size=2)(x)\n",
        "\tx = Dropout(0.3)(x)\n",
        "\n",
        "    # подготавливаем выходы\n",
        "    # prepare the final outputs\n",
        "\tpooledOutput = GlobalAveragePooling2D()(x)\n",
        "\toutputs = Dense(embeddingDim)(pooledOutput)\n",
        "\n",
        "    # создаем модель\n",
        "    # build the model\n",
        "\tmodel = Model(inputs, outputs)\n",
        "\n",
        "    # возвращаем модель вызванной функции\n",
        "    # return the model to the calling function\n",
        "\treturn model"
      ],
      "execution_count": 9,
      "outputs": []
    },
    {
      "cell_type": "markdown",
      "metadata": {
        "id": "AATLK7EUKma9"
      },
      "source": [
        "### Обучение нашей сиамской сети с помощью Keras и TensorFlow"
      ]
    },
    {
      "cell_type": "markdown",
      "metadata": {
        "id": "VRQ4Nj14FT3j"
      },
      "source": [
        "### Training our siamese network with Keras and TensorFlow"
      ]
    },
    {
      "cell_type": "code",
      "metadata": {
        "id": "BynHE9sRFgod",
        "colab": {
          "base_uri": "https://localhost:8080/"
        },
        "outputId": "8bb862ed-b42a-4743-fd19-dc16cfa26191"
      },
      "source": [
        "\n",
        "# загружаем MNIST датасет и нормируем значения пикселей в диапазоне от 0 до 1 \n",
        "# load MNIST dataset and scale the pixel values to the range of [0, 1]\n",
        "print(\"[INFO] loading MNIST dataset...\")\n",
        "(trainX, trainY), (testX, testY) = mnist.load_data()\n",
        "trainX = trainX / 255.0\n",
        "testX = testX / 255.0\n",
        "\n",
        "# добавляем размерность канала к изображениям\n",
        "# add a channel dimension to the images\n",
        "trainX = np.expand_dims(trainX, axis=-1)\n",
        "testX = np.expand_dims(testX, axis=-1)\n",
        "\n",
        "# подготавливаем позитивную и негативную пары изображений \n",
        "# prepare the positive and negative pairs\n",
        "print(\"[INFO] preparing positive and negative pairs...\")\n",
        "(pairTrain, labelTrain) = make_pairs(trainX, trainY)\n",
        "(pairTest, labelTest) = make_pairs(testX, testY)"
      ],
      "execution_count": 10,
      "outputs": [
        {
          "output_type": "stream",
          "name": "stdout",
          "text": [
            "[INFO] loading MNIST dataset...\n",
            "Downloading data from https://storage.googleapis.com/tensorflow/tf-keras-datasets/mnist.npz\n",
            "11493376/11490434 [==============================] - 0s 0us/step\n",
            "[INFO] preparing positive and negative pairs...\n"
          ]
        }
      ]
    },
    {
      "cell_type": "code",
      "metadata": {
        "id": "dj_BrKi-FljA",
        "colab": {
          "base_uri": "https://localhost:8080/"
        },
        "outputId": "9ec5e3f3-a805-480a-ffbd-809e4a81278e"
      },
      "source": [
        "\n",
        "# выбираем конфигурацию для сиамской сети\n",
        "# configure the siamese network\n",
        "print(\"[INFO] building siamese network...\")\n",
        "imgA = Input(shape=config.IMG_SHAPE)\n",
        "imgB = Input(shape=config.IMG_SHAPE)\n",
        "featureExtractor = build_siamese_model(config.IMG_SHAPE)\n",
        "featsA = featureExtractor(imgA)\n",
        "featsB = featureExtractor(imgB)\n",
        "\n",
        "\n",
        "# собираем получившуюся сеть\n",
        "# finally, construct the siamese network\n",
        "distance = Lambda(euclidean_distance)([featsA, featsB])\n",
        "outputs = Dense(1, activation=\"sigmoid\")(distance)\n",
        "model = Model(inputs=[imgA, imgB], outputs=outputs)"
      ],
      "execution_count": 11,
      "outputs": [
        {
          "output_type": "stream",
          "name": "stdout",
          "text": [
            "[INFO] building siamese network...\n"
          ]
        }
      ]
    },
    {
      "cell_type": "code",
      "metadata": {
        "id": "Ev4OcOf7FwV5",
        "colab": {
          "base_uri": "https://localhost:8080/"
        },
        "outputId": "31766695-3bef-49c0-fa8f-85c2d6cb6502"
      },
      "source": [
        "\n",
        "# компилируем модель\n",
        "# compile the model\n",
        "print(\"[INFO] compiling model...\")\n",
        "model.compile(loss=\"binary_crossentropy\", optimizer=\"adam\",\n",
        "\tmetrics=[\"accuracy\"])\n",
        "\n",
        "# train the model\n",
        "# обучаем модель\n",
        "print(\"[INFO] training model...\")\n",
        "history = model.fit(\n",
        "\t[pairTrain[:, 0], pairTrain[:, 1]], labelTrain[:],\n",
        "\tvalidation_data=([pairTest[:, 0], pairTest[:, 1]], labelTest[:]),\n",
        "\tbatch_size=config.BATCH_SIZE, \n",
        "\tepochs=config.EPOCHS)"
      ],
      "execution_count": 12,
      "outputs": [
        {
          "output_type": "stream",
          "name": "stdout",
          "text": [
            "[INFO] compiling model...\n",
            "[INFO] training model...\n",
            "Epoch 1/100\n",
            "   1/1875 [..............................] - ETA: 3s - loss: 0.6931 - accuracy: 0.4688WARNING:tensorflow:Callbacks method `on_train_batch_end` is slow compared to the batch time (batch time: 0.0054s vs `on_train_batch_end` time: 0.0113s). Check your callbacks.\n",
            "1875/1875 [==============================] - 26s 14ms/step - loss: 0.6279 - accuracy: 0.6343 - val_loss: 0.5890 - val_accuracy: 0.6916\n",
            "Epoch 2/100\n",
            "1875/1875 [==============================] - 25s 13ms/step - loss: 0.5784 - accuracy: 0.6974 - val_loss: 0.5262 - val_accuracy: 0.7491\n",
            "Epoch 3/100\n",
            "1875/1875 [==============================] - 25s 13ms/step - loss: 0.5404 - accuracy: 0.7294 - val_loss: 0.4831 - val_accuracy: 0.7778\n",
            "Epoch 4/100\n",
            "1875/1875 [==============================] - 25s 13ms/step - loss: 0.5084 - accuracy: 0.7525 - val_loss: 0.4527 - val_accuracy: 0.7988\n",
            "Epoch 5/100\n",
            "1875/1875 [==============================] - 25s 13ms/step - loss: 0.4849 - accuracy: 0.7684 - val_loss: 0.4336 - val_accuracy: 0.8065\n",
            "Epoch 6/100\n",
            "1875/1875 [==============================] - 25s 13ms/step - loss: 0.4682 - accuracy: 0.7778 - val_loss: 0.4230 - val_accuracy: 0.8108\n",
            "Epoch 7/100\n",
            "1875/1875 [==============================] - 25s 13ms/step - loss: 0.4585 - accuracy: 0.7831 - val_loss: 0.4057 - val_accuracy: 0.8184\n",
            "Epoch 8/100\n",
            "1875/1875 [==============================] - 25s 13ms/step - loss: 0.4461 - accuracy: 0.7911 - val_loss: 0.3999 - val_accuracy: 0.8206\n",
            "Epoch 9/100\n",
            "1875/1875 [==============================] - 25s 13ms/step - loss: 0.4364 - accuracy: 0.7981 - val_loss: 0.3836 - val_accuracy: 0.8285\n",
            "Epoch 10/100\n",
            "1875/1875 [==============================] - 25s 13ms/step - loss: 0.4258 - accuracy: 0.8043 - val_loss: 0.3711 - val_accuracy: 0.8360\n",
            "Epoch 11/100\n",
            "1875/1875 [==============================] - 25s 14ms/step - loss: 0.4198 - accuracy: 0.8097 - val_loss: 0.3660 - val_accuracy: 0.8386\n",
            "Epoch 12/100\n",
            "1875/1875 [==============================] - 25s 13ms/step - loss: 0.4142 - accuracy: 0.8116 - val_loss: 0.3534 - val_accuracy: 0.8450\n",
            "Epoch 13/100\n",
            "1875/1875 [==============================] - 25s 13ms/step - loss: 0.4076 - accuracy: 0.8156 - val_loss: 0.3442 - val_accuracy: 0.8512\n",
            "Epoch 14/100\n",
            "1875/1875 [==============================] - 25s 13ms/step - loss: 0.4043 - accuracy: 0.8183 - val_loss: 0.3398 - val_accuracy: 0.8529\n",
            "Epoch 15/100\n",
            "1875/1875 [==============================] - 25s 13ms/step - loss: 0.4006 - accuracy: 0.8196 - val_loss: 0.3569 - val_accuracy: 0.8402\n",
            "Epoch 16/100\n",
            "1875/1875 [==============================] - 25s 13ms/step - loss: 0.3957 - accuracy: 0.8227 - val_loss: 0.3329 - val_accuracy: 0.8566\n",
            "Epoch 17/100\n",
            "1875/1875 [==============================] - 25s 13ms/step - loss: 0.3949 - accuracy: 0.8223 - val_loss: 0.3619 - val_accuracy: 0.8340\n",
            "Epoch 18/100\n",
            "1875/1875 [==============================] - 25s 13ms/step - loss: 0.3911 - accuracy: 0.8242 - val_loss: 0.3380 - val_accuracy: 0.8519\n",
            "Epoch 19/100\n",
            "1875/1875 [==============================] - 25s 13ms/step - loss: 0.3879 - accuracy: 0.8264 - val_loss: 0.3371 - val_accuracy: 0.8519\n",
            "Epoch 20/100\n",
            "1875/1875 [==============================] - 25s 13ms/step - loss: 0.3836 - accuracy: 0.8288 - val_loss: 0.3436 - val_accuracy: 0.8468\n",
            "Epoch 21/100\n",
            "1875/1875 [==============================] - 25s 13ms/step - loss: 0.3802 - accuracy: 0.8323 - val_loss: 0.3281 - val_accuracy: 0.8569\n",
            "Epoch 22/100\n",
            "1875/1875 [==============================] - 25s 13ms/step - loss: 0.3772 - accuracy: 0.8327 - val_loss: 0.3241 - val_accuracy: 0.8585\n",
            "Epoch 23/100\n",
            "1875/1875 [==============================] - 25s 13ms/step - loss: 0.3728 - accuracy: 0.8354 - val_loss: 0.3236 - val_accuracy: 0.8587\n",
            "Epoch 24/100\n",
            "1875/1875 [==============================] - 25s 13ms/step - loss: 0.3702 - accuracy: 0.8370 - val_loss: 0.3093 - val_accuracy: 0.8673\n",
            "Epoch 25/100\n",
            "1875/1875 [==============================] - 25s 14ms/step - loss: 0.3659 - accuracy: 0.8396 - val_loss: 0.3190 - val_accuracy: 0.8604\n",
            "Epoch 26/100\n",
            "1875/1875 [==============================] - 25s 13ms/step - loss: 0.3653 - accuracy: 0.8396 - val_loss: 0.2993 - val_accuracy: 0.8712\n",
            "Epoch 27/100\n",
            "1875/1875 [==============================] - 25s 13ms/step - loss: 0.3635 - accuracy: 0.8405 - val_loss: 0.3141 - val_accuracy: 0.8630\n",
            "Epoch 28/100\n",
            "1875/1875 [==============================] - 25s 13ms/step - loss: 0.3613 - accuracy: 0.8425 - val_loss: 0.2989 - val_accuracy: 0.8722\n",
            "Epoch 29/100\n",
            "1875/1875 [==============================] - 25s 13ms/step - loss: 0.3593 - accuracy: 0.8432 - val_loss: 0.3058 - val_accuracy: 0.8659\n",
            "Epoch 30/100\n",
            "1875/1875 [==============================] - 25s 13ms/step - loss: 0.3592 - accuracy: 0.8428 - val_loss: 0.3019 - val_accuracy: 0.8705\n",
            "Epoch 31/100\n",
            "1875/1875 [==============================] - 25s 13ms/step - loss: 0.3590 - accuracy: 0.8437 - val_loss: 0.3161 - val_accuracy: 0.8612\n",
            "Epoch 32/100\n",
            "1875/1875 [==============================] - 25s 13ms/step - loss: 0.3545 - accuracy: 0.8461 - val_loss: 0.2979 - val_accuracy: 0.8719\n",
            "Epoch 33/100\n",
            "1875/1875 [==============================] - 25s 13ms/step - loss: 0.3539 - accuracy: 0.8457 - val_loss: 0.3069 - val_accuracy: 0.8669\n",
            "Epoch 34/100\n",
            "1875/1875 [==============================] - 25s 13ms/step - loss: 0.3546 - accuracy: 0.8455 - val_loss: 0.2927 - val_accuracy: 0.8742\n",
            "Epoch 35/100\n",
            "1875/1875 [==============================] - 25s 13ms/step - loss: 0.3521 - accuracy: 0.8469 - val_loss: 0.3073 - val_accuracy: 0.8658\n",
            "Epoch 36/100\n",
            "1875/1875 [==============================] - 25s 13ms/step - loss: 0.3509 - accuracy: 0.8473 - val_loss: 0.3181 - val_accuracy: 0.8593\n",
            "Epoch 37/100\n",
            "1875/1875 [==============================] - 25s 13ms/step - loss: 0.3522 - accuracy: 0.8462 - val_loss: 0.2867 - val_accuracy: 0.8777\n",
            "Epoch 38/100\n",
            "1875/1875 [==============================] - 25s 13ms/step - loss: 0.3495 - accuracy: 0.8476 - val_loss: 0.2860 - val_accuracy: 0.8777\n",
            "Epoch 39/100\n",
            "1875/1875 [==============================] - 25s 13ms/step - loss: 0.3477 - accuracy: 0.8491 - val_loss: 0.2884 - val_accuracy: 0.8770\n",
            "Epoch 40/100\n",
            "1875/1875 [==============================] - 25s 13ms/step - loss: 0.3478 - accuracy: 0.8485 - val_loss: 0.3089 - val_accuracy: 0.8645\n",
            "Epoch 41/100\n",
            "1875/1875 [==============================] - 25s 13ms/step - loss: 0.3477 - accuracy: 0.8485 - val_loss: 0.3095 - val_accuracy: 0.8651\n",
            "Epoch 42/100\n",
            "1875/1875 [==============================] - 25s 13ms/step - loss: 0.3461 - accuracy: 0.8501 - val_loss: 0.2887 - val_accuracy: 0.8759\n",
            "Epoch 43/100\n",
            "1875/1875 [==============================] - 25s 13ms/step - loss: 0.3462 - accuracy: 0.8489 - val_loss: 0.3060 - val_accuracy: 0.8664\n",
            "Epoch 44/100\n",
            "1875/1875 [==============================] - 25s 13ms/step - loss: 0.3460 - accuracy: 0.8492 - val_loss: 0.2951 - val_accuracy: 0.8734\n",
            "Epoch 45/100\n",
            "1875/1875 [==============================] - 25s 13ms/step - loss: 0.3449 - accuracy: 0.8502 - val_loss: 0.2957 - val_accuracy: 0.8731\n",
            "Epoch 46/100\n",
            "1875/1875 [==============================] - 25s 13ms/step - loss: 0.3437 - accuracy: 0.8500 - val_loss: 0.2974 - val_accuracy: 0.8727\n",
            "Epoch 47/100\n",
            "1875/1875 [==============================] - 25s 13ms/step - loss: 0.3443 - accuracy: 0.8510 - val_loss: 0.3026 - val_accuracy: 0.8685\n",
            "Epoch 48/100\n",
            "1875/1875 [==============================] - 25s 13ms/step - loss: 0.3451 - accuracy: 0.8499 - val_loss: 0.3139 - val_accuracy: 0.8598\n",
            "Epoch 49/100\n",
            "1875/1875 [==============================] - 25s 13ms/step - loss: 0.3399 - accuracy: 0.8538 - val_loss: 0.2866 - val_accuracy: 0.8776\n",
            "Epoch 50/100\n",
            "1875/1875 [==============================] - 25s 13ms/step - loss: 0.3418 - accuracy: 0.8507 - val_loss: 0.2954 - val_accuracy: 0.8712\n",
            "Epoch 51/100\n",
            "1875/1875 [==============================] - 25s 13ms/step - loss: 0.3418 - accuracy: 0.8522 - val_loss: 0.2956 - val_accuracy: 0.8717\n",
            "Epoch 52/100\n",
            "1875/1875 [==============================] - 25s 13ms/step - loss: 0.3393 - accuracy: 0.8522 - val_loss: 0.2887 - val_accuracy: 0.8763\n",
            "Epoch 53/100\n",
            "1875/1875 [==============================] - 25s 13ms/step - loss: 0.3432 - accuracy: 0.8510 - val_loss: 0.2967 - val_accuracy: 0.8706\n",
            "Epoch 54/100\n",
            "1875/1875 [==============================] - 24s 13ms/step - loss: 0.3402 - accuracy: 0.8531 - val_loss: 0.3071 - val_accuracy: 0.8644\n",
            "Epoch 55/100\n",
            "1875/1875 [==============================] - 25s 13ms/step - loss: 0.3394 - accuracy: 0.8532 - val_loss: 0.3034 - val_accuracy: 0.8670\n",
            "Epoch 56/100\n",
            "1875/1875 [==============================] - 25s 13ms/step - loss: 0.3379 - accuracy: 0.8533 - val_loss: 0.2854 - val_accuracy: 0.8763\n",
            "Epoch 57/100\n",
            "1875/1875 [==============================] - 25s 13ms/step - loss: 0.3388 - accuracy: 0.8524 - val_loss: 0.2840 - val_accuracy: 0.8777\n",
            "Epoch 58/100\n",
            "1875/1875 [==============================] - 25s 13ms/step - loss: 0.3404 - accuracy: 0.8537 - val_loss: 0.2972 - val_accuracy: 0.8717\n",
            "Epoch 59/100\n",
            "1875/1875 [==============================] - 25s 13ms/step - loss: 0.3361 - accuracy: 0.8552 - val_loss: 0.2902 - val_accuracy: 0.8744\n",
            "Epoch 60/100\n",
            "1875/1875 [==============================] - 25s 13ms/step - loss: 0.3368 - accuracy: 0.8542 - val_loss: 0.2841 - val_accuracy: 0.8770\n",
            "Epoch 61/100\n",
            "1875/1875 [==============================] - 25s 13ms/step - loss: 0.3373 - accuracy: 0.8541 - val_loss: 0.3009 - val_accuracy: 0.8697\n",
            "Epoch 62/100\n",
            "1875/1875 [==============================] - 25s 13ms/step - loss: 0.3371 - accuracy: 0.8539 - val_loss: 0.3020 - val_accuracy: 0.8690\n",
            "Epoch 63/100\n",
            "1875/1875 [==============================] - 25s 13ms/step - loss: 0.3355 - accuracy: 0.8545 - val_loss: 0.2782 - val_accuracy: 0.8820\n",
            "Epoch 64/100\n",
            "1875/1875 [==============================] - 25s 13ms/step - loss: 0.3356 - accuracy: 0.8548 - val_loss: 0.2849 - val_accuracy: 0.8771\n",
            "Epoch 65/100\n",
            "1875/1875 [==============================] - 25s 13ms/step - loss: 0.3353 - accuracy: 0.8548 - val_loss: 0.2915 - val_accuracy: 0.8726\n",
            "Epoch 66/100\n",
            "1875/1875 [==============================] - 25s 13ms/step - loss: 0.3373 - accuracy: 0.8543 - val_loss: 0.3058 - val_accuracy: 0.8667\n",
            "Epoch 67/100\n",
            "1875/1875 [==============================] - 25s 13ms/step - loss: 0.3362 - accuracy: 0.8557 - val_loss: 0.2974 - val_accuracy: 0.8690\n",
            "Epoch 68/100\n",
            "1875/1875 [==============================] - 25s 13ms/step - loss: 0.3351 - accuracy: 0.8544 - val_loss: 0.3007 - val_accuracy: 0.8673\n",
            "Epoch 69/100\n",
            "1875/1875 [==============================] - 25s 13ms/step - loss: 0.3365 - accuracy: 0.8544 - val_loss: 0.2965 - val_accuracy: 0.8701\n",
            "Epoch 70/100\n",
            "1875/1875 [==============================] - 25s 13ms/step - loss: 0.3340 - accuracy: 0.8555 - val_loss: 0.2921 - val_accuracy: 0.8730\n",
            "Epoch 71/100\n",
            "1875/1875 [==============================] - 25s 13ms/step - loss: 0.3344 - accuracy: 0.8539 - val_loss: 0.2927 - val_accuracy: 0.8724\n",
            "Epoch 72/100\n",
            "1875/1875 [==============================] - 25s 13ms/step - loss: 0.3339 - accuracy: 0.8554 - val_loss: 0.2830 - val_accuracy: 0.8759\n",
            "Epoch 73/100\n",
            "1875/1875 [==============================] - 25s 13ms/step - loss: 0.3337 - accuracy: 0.8561 - val_loss: 0.2899 - val_accuracy: 0.8743\n",
            "Epoch 74/100\n",
            "1875/1875 [==============================] - 25s 13ms/step - loss: 0.3331 - accuracy: 0.8560 - val_loss: 0.2915 - val_accuracy: 0.8724\n",
            "Epoch 75/100\n",
            "1875/1875 [==============================] - 25s 13ms/step - loss: 0.3325 - accuracy: 0.8556 - val_loss: 0.3065 - val_accuracy: 0.8630\n",
            "Epoch 76/100\n",
            "1875/1875 [==============================] - 25s 13ms/step - loss: 0.3324 - accuracy: 0.8558 - val_loss: 0.2782 - val_accuracy: 0.8803\n",
            "Epoch 77/100\n",
            "1875/1875 [==============================] - 25s 13ms/step - loss: 0.3322 - accuracy: 0.8562 - val_loss: 0.2744 - val_accuracy: 0.8819\n",
            "Epoch 78/100\n",
            "1875/1875 [==============================] - 25s 13ms/step - loss: 0.3332 - accuracy: 0.8558 - val_loss: 0.3017 - val_accuracy: 0.8666\n",
            "Epoch 79/100\n",
            "1875/1875 [==============================] - 25s 13ms/step - loss: 0.3347 - accuracy: 0.8551 - val_loss: 0.2967 - val_accuracy: 0.8698\n",
            "Epoch 80/100\n",
            "1875/1875 [==============================] - 25s 13ms/step - loss: 0.3344 - accuracy: 0.8559 - val_loss: 0.3017 - val_accuracy: 0.8665\n",
            "Epoch 81/100\n",
            "1875/1875 [==============================] - 25s 13ms/step - loss: 0.3323 - accuracy: 0.8564 - val_loss: 0.2952 - val_accuracy: 0.8709\n",
            "Epoch 82/100\n",
            "1875/1875 [==============================] - 25s 13ms/step - loss: 0.3322 - accuracy: 0.8567 - val_loss: 0.2908 - val_accuracy: 0.8733\n",
            "Epoch 83/100\n",
            "1875/1875 [==============================] - 25s 13ms/step - loss: 0.3343 - accuracy: 0.8561 - val_loss: 0.2954 - val_accuracy: 0.8704\n",
            "Epoch 84/100\n",
            "1875/1875 [==============================] - 25s 13ms/step - loss: 0.3307 - accuracy: 0.8578 - val_loss: 0.2966 - val_accuracy: 0.8691\n",
            "Epoch 85/100\n",
            "1875/1875 [==============================] - 25s 13ms/step - loss: 0.3305 - accuracy: 0.8571 - val_loss: 0.2816 - val_accuracy: 0.8783\n",
            "Epoch 86/100\n",
            "1875/1875 [==============================] - 25s 13ms/step - loss: 0.3315 - accuracy: 0.8560 - val_loss: 0.2777 - val_accuracy: 0.8814\n",
            "Epoch 87/100\n",
            "1875/1875 [==============================] - 25s 13ms/step - loss: 0.3292 - accuracy: 0.8587 - val_loss: 0.2995 - val_accuracy: 0.8674\n",
            "Epoch 88/100\n",
            "1875/1875 [==============================] - 25s 13ms/step - loss: 0.3319 - accuracy: 0.8569 - val_loss: 0.2898 - val_accuracy: 0.8737\n",
            "Epoch 89/100\n",
            "1875/1875 [==============================] - 25s 13ms/step - loss: 0.3297 - accuracy: 0.8571 - val_loss: 0.2771 - val_accuracy: 0.8818\n",
            "Epoch 90/100\n",
            "1875/1875 [==============================] - 25s 13ms/step - loss: 0.3311 - accuracy: 0.8578 - val_loss: 0.2823 - val_accuracy: 0.8779\n",
            "Epoch 91/100\n",
            "1875/1875 [==============================] - 25s 13ms/step - loss: 0.3283 - accuracy: 0.8578 - val_loss: 0.2998 - val_accuracy: 0.8680\n",
            "Epoch 92/100\n",
            "1875/1875 [==============================] - 25s 13ms/step - loss: 0.3305 - accuracy: 0.8576 - val_loss: 0.2829 - val_accuracy: 0.8773\n",
            "Epoch 93/100\n",
            "1875/1875 [==============================] - 25s 14ms/step - loss: 0.3296 - accuracy: 0.8577 - val_loss: 0.2895 - val_accuracy: 0.8741\n",
            "Epoch 94/100\n",
            "1875/1875 [==============================] - 25s 14ms/step - loss: 0.3289 - accuracy: 0.8583 - val_loss: 0.2899 - val_accuracy: 0.8738\n",
            "Epoch 95/100\n",
            "1875/1875 [==============================] - 25s 13ms/step - loss: 0.3294 - accuracy: 0.8579 - val_loss: 0.2925 - val_accuracy: 0.8721\n",
            "Epoch 96/100\n",
            "1875/1875 [==============================] - 25s 14ms/step - loss: 0.3285 - accuracy: 0.8568 - val_loss: 0.3038 - val_accuracy: 0.8648\n",
            "Epoch 97/100\n",
            "1875/1875 [==============================] - 25s 13ms/step - loss: 0.3284 - accuracy: 0.8585 - val_loss: 0.2830 - val_accuracy: 0.8781\n",
            "Epoch 98/100\n",
            "1875/1875 [==============================] - 25s 13ms/step - loss: 0.3253 - accuracy: 0.8594 - val_loss: 0.3001 - val_accuracy: 0.8676\n",
            "Epoch 99/100\n",
            "1875/1875 [==============================] - 25s 13ms/step - loss: 0.3280 - accuracy: 0.8584 - val_loss: 0.2843 - val_accuracy: 0.8754\n",
            "Epoch 100/100\n",
            "1875/1875 [==============================] - 25s 13ms/step - loss: 0.3295 - accuracy: 0.8580 - val_loss: 0.2714 - val_accuracy: 0.8846\n"
          ]
        }
      ]
    },
    {
      "cell_type": "code",
      "metadata": {
        "id": "E9FVEsjaF_QH",
        "colab": {
          "base_uri": "https://localhost:8080/",
          "height": 475
        },
        "outputId": "857dcf40-4434-4373-c461-22ebd4ce291d"
      },
      "source": [
        "\n",
        "# сохраняем модель на диск\n",
        "# serialize the model to disk\n",
        "print(\"[INFO] saving siamese model...\")\n",
        "model.save(config.MODEL_PATH)\n",
        "\n",
        "\n",
        "# выводим историю обучения\n",
        "# plot the training history\n",
        "print(\"[INFO] plotting training history...\")\n",
        "plot_training(history, config.PLOT_PATH)"
      ],
      "execution_count": 13,
      "outputs": [
        {
          "output_type": "stream",
          "name": "stdout",
          "text": [
            "[INFO] saving siamese model...\n",
            "WARNING:tensorflow:From /usr/local/lib/python3.7/dist-packages/tensorflow/python/training/tracking/tracking.py:111: Model.state_updates (from tensorflow.python.keras.engine.training) is deprecated and will be removed in a future version.\n",
            "Instructions for updating:\n",
            "This property should not be used in TensorFlow 2.0, as updates are applied automatically.\n",
            "WARNING:tensorflow:From /usr/local/lib/python3.7/dist-packages/tensorflow/python/training/tracking/tracking.py:111: Layer.updates (from tensorflow.python.keras.engine.base_layer) is deprecated and will be removed in a future version.\n",
            "Instructions for updating:\n",
            "This property should not be used in TensorFlow 2.0, as updates are applied automatically.\n",
            "INFO:tensorflow:Assets written to: output/siamese_model/assets\n",
            "[INFO] plotting training history...\n"
          ]
        },
        {
          "output_type": "display_data",
          "data": {
            "image/png": "[encoded data removed]",
            "text/plain": [
              "<Figure size 432x288 with 1 Axes>"
            ]
          },
          "metadata": {}
        }
      ]
    }
  ]
}
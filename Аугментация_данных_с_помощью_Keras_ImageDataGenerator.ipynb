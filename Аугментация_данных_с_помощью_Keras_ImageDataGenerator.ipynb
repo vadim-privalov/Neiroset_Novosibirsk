{
  "nbformat": 4,
  "nbformat_minor": 0,
  "metadata": {
    "colab": {
      "name": "Аугментация данных с помощью Keras ImageDataGenerator",
      "provenance": [],
      "collapsed_sections": [],
      "include_colab_link": true
    },
    "kernelspec": {
      "name": "python3",
      "display_name": "Python 3"
    },
    "accelerator": "GPU"
  },
  "cells": [
    {
      "cell_type": "markdown",
      "metadata": {
        "id": "view-in-github",
        "colab_type": "text"
      },
      "source": [
        "<a href=\"https://colab.research.google.com/github/vadim-privalov/Neiroset_Novosibirsk/blob/main/%D0%90%D1%83%D0%B3%D0%BC%D0%B5%D0%BD%D1%82%D0%B0%D1%86%D0%B8%D1%8F_%D0%B4%D0%B0%D0%BD%D0%BD%D1%8B%D1%85_%D1%81_%D0%BF%D0%BE%D0%BC%D0%BE%D1%89%D1%8C%D1%8E_Keras_ImageDataGenerator.ipynb\" target=\"_parent\"><img src=\"https://colab.research.google.com/assets/colab-badge.svg\" alt=\"Open In Colab\"/></a>"
      ]
    },
    {
      "cell_type": "markdown",
      "metadata": {
        "id": "JXLEE2Zv4k2J"
      },
      "source": [
        "# Аугментация данных с помощью Keras ImageDataGenerator\n",
        "\n",
        "# Data Augmentation with Keras ImageDataGenerator"
      ]
    },
    {
      "cell_type": "markdown",
      "metadata": {
        "id": "h7wy2ipCNa5P"
      },
      "source": [
        "В этом уроке вы узнаете, как использовать класс Keras ImageDataGenerator для увеличения количества данных.\n",
        "\n",
        "In this tutorial, you will learn how to use the Keras ImageDataGenerator class to increase the amount of data.\n"
      ]
    },
    {
      "cell_type": "markdown",
      "metadata": {
        "id": "iGKqT_5uMFWz"
      },
      "source": [
        "\n",
        "Класс ImageDataGenerator  работает следующим образом:\n",
        "\n",
        "The ImageDataGenerator class works like this:\n",
        "\n",
        "\n",
        "* Берет батч с изображениями, используемых для обучения. Takes a batch of images used for training.\n",
        "* Применяет серию случайных преобразований к каждому изображению в батче(включая случайное вращение, изменение размера, сдвиг и т. Д.). Applies a series of random transformations to each image in the batch (including random rotation, resizing, shearing, etc.).\n",
        "* Заменяет исходный батч новым, случайно преобразованным батчом. Replaces the original batch with a new, randomly converted batch.\n"
      ]
    },
    {
      "cell_type": "markdown",
      "metadata": {
        "id": "oHp5k6FJVhpP"
      },
      "source": [
        "\n",
        "Обучение CNN происходит на этом случайно преобразованном батче (т.е. исходные данные не используется для обучения).\n",
        "То есть ImageDataGenerator принимает исходные данные, случайным образом преобразует их и возвращает только новые преобразованные данные.\n",
        "\n",
        "\n",
        "CNN training takes place on this randomly transformed batch (i.e. the original data is not used for training).\n",
        "That is, the ImageDataGenerator takes the original data, transforms it randomly, and only returns the new transformed data."
      ]
    },
    {
      "cell_type": "markdown",
      "metadata": {
        "id": "NFhAzQB3aNMa"
      },
      "source": [
        "### Загрузка файлов\n",
        "### Download the code zip file"
      ]
    },
    {
      "cell_type": "code",
      "metadata": {
        "id": "7y0LG1EuaRlB",
        "colab": {
          "base_uri": "https://localhost:8080/"
        },
        "outputId": "bd8fcbfa-cd1b-4ff6-ec9e-9caf6ef9d05e"
      },
      "source": [
        "!wget http://dataudt.ru/datasets/cv/Lesson_32.keras_data_augmentation.zip\n",
        "!unzip -qq Lesson_32.keras_data_augmentation.zip\n",
        "%cd /content/Lesson_32.keras_data_augmentation"
      ],
      "execution_count": 1,
      "outputs": [
        {
          "output_type": "stream",
          "name": "stdout",
          "text": [
            "--2022-02-21 05:31:42--  http://dataudt.ru/datasets/cv/Lesson_32.keras_data_augmentation.zip\n",
            "Resolving dataudt.ru (dataudt.ru)... 37.228.117.130\n",
            "Connecting to dataudt.ru (dataudt.ru)|37.228.117.130|:80... connected.\n",
            "HTTP request sent, awaiting response... 200 OK\n",
            "Length: 94330597 (90M) [application/zip]\n",
            "Saving to: ‘Lesson_32.keras_data_augmentation.zip’\n",
            "\n",
            "Lesson_32.keras_dat 100%[===================>]  89.96M  44.8MB/s    in 2.0s    \n",
            "\n",
            "2022-02-21 05:31:44 (44.8 MB/s) - ‘Lesson_32.keras_data_augmentation.zip’ saved [94330597/94330597]\n",
            "\n",
            "/content/Lesson_32.keras_data_augmentation\n"
          ]
        }
      ]
    },
    {
      "cell_type": "markdown",
      "metadata": {
        "id": "wcrOk6pURp50"
      },
      "source": [
        "### Импорт библиотек\n",
        "### Import Packages"
      ]
    },
    {
      "cell_type": "code",
      "metadata": {
        "id": "VJaCNlDDRz6d"
      },
      "source": [
        "# импортируем необходимые библиотеки\n",
        "# import the necessary packages\n",
        "from network.resnet import ResNet\n",
        "from sklearn.preprocessing import LabelEncoder\n",
        "from sklearn.model_selection import train_test_split\n",
        "from sklearn.metrics import classification_report\n",
        "from tensorflow.keras.preprocessing.image import ImageDataGenerator\n",
        "from tensorflow.keras.preprocessing.image import img_to_array\n",
        "from tensorflow.keras.preprocessing.image import load_img\n",
        "from tensorflow.keras.optimizers import SGD\n",
        "from tensorflow.keras.utils import to_categorical\n",
        "from imutils import paths\n",
        "import matplotlib.pyplot as plt\n",
        "import numpy as np\n",
        "import cv2\n",
        "import os"
      ],
      "execution_count": 2,
      "outputs": []
    },
    {
      "cell_type": "markdown",
      "metadata": {
        "id": "zQFJXPXH2Dpu"
      },
      "source": [
        "### Реализация нашего обучающего скрипта\n",
        "### Implementing our training script"
      ]
    },
    {
      "cell_type": "markdown",
      "metadata": {
        "id": "dBZdmUnU4mpw"
      },
      "source": [
        "Создадим аугментации для датасета с котами."
      ]
    },
    {
      "cell_type": "code",
      "metadata": {
        "id": "Ez8buClD3xXc"
      },
      "source": [
        "# явно укажем аргументы необходимые для работы\n",
        "# image - путь к примеру для аугментирования\n",
        "# output - выходная директория\n",
        "# total - количество выходных аугментаций\n",
        "# explicitly specify the arguments required for work\n",
        "# image - path to example for augmentation\n",
        "# output - output directory\n",
        "# total - number of output augmentations\n",
        "args = {\n",
        "\t\"image\": \"dogs_vs_cats_small/cats/cat.1999.jpg\",\n",
        "\t\"output\": \"generated_dataset/cats\",\n",
        "    'total':10\n",
        "}\n",
        "\n",
        "# раскоментируйте следующие строки, чтобы сделать то же самое для собак\n",
        "\n",
        "#args = {\n",
        "#\t\"image\": \"dogs_vs_cats_small/dogs/dog.2000.jpg\",\n",
        "#\t\"output\": \"generated_dataset/dogs\",\n",
        "#    'total':10\n",
        "#}\n"
      ],
      "execution_count": 3,
      "outputs": []
    },
    {
      "cell_type": "code",
      "metadata": {
        "colab": {
          "base_uri": "https://localhost:8080/"
        },
        "id": "5QJh03eb3OCX",
        "outputId": "42a6e173-b061-4a55-c1a5-7030a1af5771"
      },
      "source": [
        "# загружаем входное изображение, преобразуем его в массив NumPy, а затем\n",
        "# добавляем ему дополнительную размерность\n",
        "# load the input image, convert it to a NumPy array, and then\n",
        "# reshape it to have an extra dimension\n",
        "print(\"[INFO] loading example image...\")\n",
        "image = load_img(args[\"image\"])\n",
        "image = img_to_array(image)\n",
        "image = np.expand_dims(image, axis=0)\n",
        "\n",
        "# создаем генератор изображений для аугментации данных, затем\n",
        "# инициализируем общее количество изображений, сгенерированных на данный момент\n",
        "# construct the image generator for data augmentation then\n",
        "# initialize the total number of images generated thus far\n",
        "aug = ImageDataGenerator(\n",
        "\trotation_range=30,\n",
        "\tzoom_range=0.15,\n",
        "\twidth_shift_range=0.2,\n",
        "\theight_shift_range=0.2,\n",
        "\tshear_range=0.15,\n",
        "\thorizontal_flip=True,\n",
        "\tfill_mode=\"nearest\")\n",
        "total = 0\n",
        "\n",
        "# создаем генератор Python\n",
        "# construct the actual Python generator\n",
        "print(\"[INFO] generating images...\")\n",
        "imageGen = aug.flow(image, batch_size=1, save_to_dir=args[\"output\"],\n",
        "\tsave_prefix=\"image\", save_format=\"jpg\")\n",
        "\n",
        "# перебираем примеры из нашего генератора аугментации изображений\n",
        "# loop over examples from our image data augmentation generator\n",
        "for image in imageGen:\n",
        "\t# увеличиваем наш счетчик\n",
        "    # increment our counter\n",
        "\ttotal += 1\n",
        "\n",
        "\t# если мы достигли указанного количества примеров, прерываем цикл\n",
        "    # if we have reached the specified number of examples, break\n",
        "\t# from the loop\n",
        "\tif total == args[\"total\"]:\n",
        "\t\tbreak"
      ],
      "execution_count": 4,
      "outputs": [
        {
          "output_type": "stream",
          "name": "stdout",
          "text": [
            "[INFO] loading example image...\n",
            "[INFO] generating images...\n"
          ]
        }
      ]
    },
    {
      "cell_type": "code",
      "metadata": {
        "id": "j0p4HbKm1z0O"
      },
      "source": [
        "\n",
        "# явно укажем аргументы необходимые для работы\n",
        "# dataset - путь к входному набору данных\n",
        "# augment - использовать или нет \"на лету\" наращивание данных\n",
        "# plot - путь к выходному графику потерь/точности\n",
        "\n",
        "# explicitly specify the arguments needed to work\n",
        "# dataset - path to input dataset\n",
        "# augment - whether or not 'on the fly' data augmentation should be used\n",
        "#  plot - path to output loss/accuracy plot\n",
        "#args = {\n",
        "#\t\"dataset\": \"dogs_vs_cats_small\",\n",
        "#\t\"augment\": -1,\n",
        "#\t\"plot\": \"plot_generated_dataset.png\"\n",
        "#}\n",
        "\n",
        "# раскомментируйте, если хотите выбрать следующие настройки\n",
        "# без аугментаций\n",
        "# uncomment the following settings as necessary\n",
        "# # no augmentation\n",
        "# args = {\n",
        "# \t\"dataset\": \"dogs_vs_cats_small\",\n",
        "# \t\"augment\": -1,\n",
        "# \t\"plot\": \"plot_dogs_vs_cats_no_aug.png\"\n",
        "# }\n",
        "\n",
        "# с аугментацией\n",
        "# # augmentation\n",
        "args = {\n",
        " \t\"dataset\": \"dogs_vs_cats_small\",\n",
        " \t\"augment\": 1,\n",
        " \t\"plot\": \"plot_dogs_vs_cats_with_aug.png\"\n",
        "}"
      ],
      "execution_count": 5,
      "outputs": []
    },
    {
      "cell_type": "code",
      "metadata": {
        "id": "BFvAQeGH2u8a",
        "colab": {
          "base_uri": "https://localhost:8080/"
        },
        "outputId": "4e6c13d9-34c0-4817-9dea-e2507cd9c417"
      },
      "source": [
        "# определяем общее количество эпох для тренировки вместе с шагом обучения и размером батча\n",
        "# initialize the initial learning rate, batch size, and number of\n",
        "# epochs to train for\n",
        "INIT_LR = 1e-1\n",
        "BS = 8\n",
        "EPOCHS = 50\n",
        "\n",
        "# возьмем список изображений в нашем датасете, затем инициализируем\n",
        "# список данных (т.е. изображений) и классов  изображений\n",
        "# grab the list of images in our dataset directory, then initialize\n",
        "# the list of data (i.e., images) and class images\n",
        "print(\"[INFO] loading images...\")\n",
        "imagePaths = list(paths.list_images(args[\"dataset\"]))\n",
        "data = []\n",
        "labels = []\n",
        "\n",
        "# перебираем пути к изображениям\n",
        "# loop over the image paths\n",
        "for imagePath in imagePaths:\n",
        "    # извлекаем метку класса из имени файла, загружаем изображение и\n",
        "\t# изменяем его размер до фиксированного 64x64 пикселя, игнорируя соотношение сторон\n",
        "\t# extract the class label from the filename, load the image, and\n",
        "\t# resize it to be a fixed 64x64 pixels, ignoring aspect ratio\n",
        "\tlabel = imagePath.split(os.path.sep)[-2]\n",
        "\timage = cv2.imread(imagePath)\n",
        "\timage = cv2.resize(image, (64, 64))\n",
        "    # обновляем списки данных и меток соответственно\n",
        "\t# update the data and labels lists, respectively\n",
        "\tdata.append(image)\n",
        "\tlabels.append(label)"
      ],
      "execution_count": 6,
      "outputs": [
        {
          "output_type": "stream",
          "name": "stdout",
          "text": [
            "[INFO] loading images...\n"
          ]
        }
      ]
    },
    {
      "cell_type": "code",
      "metadata": {
        "id": "eJR1ZMFN3FxL"
      },
      "source": [
        "# конвертируем данные в массив NumPy, затем нормируем\n",
        "# все пиксели яркости в диапазоне [0, 1]\n",
        "# convert the data into a NumPy array, then preprocess it by scaling\n",
        "# all pixel intensities to the range [0, 1]\n",
        "data = np.array(data, dtype=\"float\") / 255.0\n",
        "\n",
        "# кодируем метки (которые в настоящее время являются строками) как целые числа, а затем применяем\n",
        "# one-hot encoding\n",
        "# encode the labels (which are currently strings) as integers and then\n",
        "# one-hot encode them\n",
        "le = LabelEncoder()\n",
        "labels = le.fit_transform(labels)\n",
        "labels = to_categorical(labels, 2)\n",
        "\n",
        "# разделяем данные на обучающую и тестовую выборку, используя 75%\n",
        "# данные для обучения и оставшиеся 25% для тестирования\n",
        "# partition the data into training and testing splits using 75% of\n",
        "# the data for training and the remaining 25% for testing\n",
        "(trainX, testX, trainY, testY) = train_test_split(data, labels,\n",
        "\ttest_size=0.25, random_state=42)"
      ],
      "execution_count": 7,
      "outputs": []
    },
    {
      "cell_type": "code",
      "metadata": {
        "id": "0YmxhdNb3Iwu"
      },
      "source": [
        "# инициализируем генератор аугментаций как \"пустой\" генератор изображений\n",
        "# initialize an our data augmenter as an \"empty\" image data generator\n",
        "aug = ImageDataGenerator()"
      ],
      "execution_count": 8,
      "outputs": []
    },
    {
      "cell_type": "code",
      "metadata": {
        "id": "g2hKZwRc3Nc-",
        "colab": {
          "base_uri": "https://localhost:8080/"
        },
        "outputId": "99d37656-9370-45d0-d8e4-4c46f1774ea8"
      },
      "source": [
        "# проверяем, применяем ли мы увеличение данных в данный момент, и\n",
        "# если это так, повторно создать экземпляр объекта\n",
        "# check to see if we are applying \"on the fly\" data augmentation, and\n",
        "# if so, re-instantiate the object\n",
        "if args[\"augment\"] > 0:\n",
        "\tprint(\"[INFO] performing 'on the fly' data augmentation\")\n",
        "\taug = ImageDataGenerator(\n",
        "\t\trotation_range=20,\n",
        "\t\tzoom_range=0.15,\n",
        "\t\twidth_shift_range=0.2,\n",
        "\t\theight_shift_range=0.2,\n",
        "\t\tshear_range=0.15,\n",
        "\t\thorizontal_flip=True,\n",
        "\t\tfill_mode=\"nearest\")"
      ],
      "execution_count": 9,
      "outputs": [
        {
          "output_type": "stream",
          "name": "stdout",
          "text": [
            "[INFO] performing 'on the fly' data augmentation\n"
          ]
        }
      ]
    },
    {
      "cell_type": "code",
      "metadata": {
        "id": "xnZCOnOK3Pju",
        "colab": {
          "base_uri": "https://localhost:8080/"
        },
        "outputId": "f1530785-ff29-476b-de33-d76dfedc6d24"
      },
      "source": [
        "# инициализируем оптимизатор и модель\n",
        "# initialize the optimizer and model\n",
        "print(\"[INFO] compiling model...\")\n",
        "opt = SGD(lr=INIT_LR, momentum=0.9, decay=INIT_LR / EPOCHS)\n",
        "model = ResNet.build(64, 64, 3, 2, (2, 3, 4),\n",
        "\t(32, 64, 128, 256), reg=0.0001)\n",
        "model.compile(loss=\"binary_crossentropy\", optimizer=opt,\n",
        "\tmetrics=[\"accuracy\"])\n",
        "\n",
        "# обучаем сеть\n",
        "# train the network\n",
        "print(\"[INFO] training network for {} epochs...\".format(EPOCHS))\n",
        "H = model.fit(\n",
        "\tx=aug.flow(trainX, trainY, batch_size=BS),\n",
        "\tvalidation_data=(testX, testY),\n",
        "\tsteps_per_epoch=len(trainX) // BS,\n",
        "\tepochs=EPOCHS)"
      ],
      "execution_count": 10,
      "outputs": [
        {
          "output_type": "stream",
          "name": "stdout",
          "text": [
            "[INFO] compiling model...\n"
          ]
        },
        {
          "output_type": "stream",
          "name": "stderr",
          "text": [
            "/usr/local/lib/python3.7/dist-packages/keras/optimizer_v2/gradient_descent.py:102: UserWarning: The `lr` argument is deprecated, use `learning_rate` instead.\n",
            "  super(SGD, self).__init__(name, **kwargs)\n"
          ]
        },
        {
          "output_type": "stream",
          "name": "stdout",
          "text": [
            "[INFO] training network for 50 epochs...\n",
            "Epoch 1/50\n",
            "375/375 [==============================] - 28s 37ms/step - loss: 0.9310 - accuracy: 0.5212 - val_loss: 0.8928 - val_accuracy: 0.5425\n",
            "Epoch 2/50\n",
            "375/375 [==============================] - 12s 33ms/step - loss: 0.8653 - accuracy: 0.5566 - val_loss: 0.8349 - val_accuracy: 0.6054\n",
            "Epoch 3/50\n",
            "375/375 [==============================] - 13s 34ms/step - loss: 0.8450 - accuracy: 0.5760 - val_loss: 0.8082 - val_accuracy: 0.6354\n",
            "Epoch 4/50\n",
            "375/375 [==============================] - 12s 31ms/step - loss: 0.8227 - accuracy: 0.6020 - val_loss: 0.7854 - val_accuracy: 0.6523\n",
            "Epoch 5/50\n",
            "375/375 [==============================] - 12s 31ms/step - loss: 0.8100 - accuracy: 0.6107 - val_loss: 0.7896 - val_accuracy: 0.6523\n",
            "Epoch 6/50\n",
            "375/375 [==============================] - 12s 31ms/step - loss: 0.7961 - accuracy: 0.6264 - val_loss: 0.7772 - val_accuracy: 0.6503\n",
            "Epoch 7/50\n",
            "375/375 [==============================] - 12s 31ms/step - loss: 0.7908 - accuracy: 0.6244 - val_loss: 0.7690 - val_accuracy: 0.6513\n",
            "Epoch 8/50\n",
            "375/375 [==============================] - 12s 31ms/step - loss: 0.7837 - accuracy: 0.6414 - val_loss: 0.7915 - val_accuracy: 0.6533\n",
            "Epoch 9/50\n",
            "375/375 [==============================] - 12s 32ms/step - loss: 0.7833 - accuracy: 0.6177 - val_loss: 0.7578 - val_accuracy: 0.6663\n",
            "Epoch 10/50\n",
            "375/375 [==============================] - 12s 31ms/step - loss: 0.7669 - accuracy: 0.6424 - val_loss: 0.7533 - val_accuracy: 0.6573\n",
            "Epoch 11/50\n",
            "375/375 [==============================] - 12s 31ms/step - loss: 0.7602 - accuracy: 0.6588 - val_loss: 0.7373 - val_accuracy: 0.6663\n",
            "Epoch 12/50\n",
            "375/375 [==============================] - 13s 33ms/step - loss: 0.7632 - accuracy: 0.6367 - val_loss: 0.7478 - val_accuracy: 0.6593\n",
            "Epoch 13/50\n",
            "375/375 [==============================] - 12s 31ms/step - loss: 0.7532 - accuracy: 0.6554 - val_loss: 0.7255 - val_accuracy: 0.6703\n",
            "Epoch 14/50\n",
            "375/375 [==============================] - 12s 31ms/step - loss: 0.7474 - accuracy: 0.6518 - val_loss: 0.7695 - val_accuracy: 0.6474\n",
            "Epoch 15/50\n",
            "375/375 [==============================] - 12s 33ms/step - loss: 0.7436 - accuracy: 0.6588 - val_loss: 0.7140 - val_accuracy: 0.6973\n",
            "Epoch 16/50\n",
            "375/375 [==============================] - 12s 31ms/step - loss: 0.7318 - accuracy: 0.6748 - val_loss: 0.7662 - val_accuracy: 0.6503\n",
            "Epoch 17/50\n",
            "375/375 [==============================] - 12s 31ms/step - loss: 0.7376 - accuracy: 0.6658 - val_loss: 0.7064 - val_accuracy: 0.7063\n",
            "Epoch 18/50\n",
            "375/375 [==============================] - 12s 32ms/step - loss: 0.7270 - accuracy: 0.6701 - val_loss: 0.7148 - val_accuracy: 0.7103\n",
            "Epoch 19/50\n",
            "375/375 [==============================] - 12s 31ms/step - loss: 0.7293 - accuracy: 0.6644 - val_loss: 0.7204 - val_accuracy: 0.6813\n",
            "Epoch 20/50\n",
            "375/375 [==============================] - 12s 31ms/step - loss: 0.7175 - accuracy: 0.6778 - val_loss: 0.6993 - val_accuracy: 0.6973\n",
            "Epoch 21/50\n",
            "375/375 [==============================] - 12s 33ms/step - loss: 0.7102 - accuracy: 0.6821 - val_loss: 0.6928 - val_accuracy: 0.7073\n",
            "Epoch 22/50\n",
            "375/375 [==============================] - 12s 31ms/step - loss: 0.7023 - accuracy: 0.6958 - val_loss: 0.7085 - val_accuracy: 0.6893\n",
            "Epoch 23/50\n",
            "375/375 [==============================] - 12s 31ms/step - loss: 0.6995 - accuracy: 0.7018 - val_loss: 0.6725 - val_accuracy: 0.7233\n",
            "Epoch 24/50\n",
            "375/375 [==============================] - 12s 33ms/step - loss: 0.7011 - accuracy: 0.6938 - val_loss: 0.6794 - val_accuracy: 0.7063\n",
            "Epoch 25/50\n",
            "375/375 [==============================] - 12s 31ms/step - loss: 0.6926 - accuracy: 0.7048 - val_loss: 0.6662 - val_accuracy: 0.7183\n",
            "Epoch 26/50\n",
            "375/375 [==============================] - 13s 33ms/step - loss: 0.6852 - accuracy: 0.6975 - val_loss: 0.6953 - val_accuracy: 0.7193\n",
            "Epoch 27/50\n",
            "375/375 [==============================] - 12s 31ms/step - loss: 0.6866 - accuracy: 0.7102 - val_loss: 0.6685 - val_accuracy: 0.7213\n",
            "Epoch 28/50\n",
            "375/375 [==============================] - 12s 32ms/step - loss: 0.6795 - accuracy: 0.7139 - val_loss: 0.6461 - val_accuracy: 0.7323\n",
            "Epoch 29/50\n",
            "375/375 [==============================] - 12s 33ms/step - loss: 0.6788 - accuracy: 0.7122 - val_loss: 0.6466 - val_accuracy: 0.7313\n",
            "Epoch 30/50\n",
            "375/375 [==============================] - 12s 31ms/step - loss: 0.6481 - accuracy: 0.7299 - val_loss: 0.6277 - val_accuracy: 0.7562\n",
            "Epoch 31/50\n",
            "375/375 [==============================] - 12s 33ms/step - loss: 0.6567 - accuracy: 0.7192 - val_loss: 0.7739 - val_accuracy: 0.6853\n",
            "Epoch 32/50\n",
            "375/375 [==============================] - 12s 31ms/step - loss: 0.6448 - accuracy: 0.7432 - val_loss: 0.6426 - val_accuracy: 0.7343\n",
            "Epoch 33/50\n",
            "375/375 [==============================] - 12s 31ms/step - loss: 0.6498 - accuracy: 0.7295 - val_loss: 0.6485 - val_accuracy: 0.7353\n",
            "Epoch 34/50\n",
            "375/375 [==============================] - 12s 31ms/step - loss: 0.6381 - accuracy: 0.7359 - val_loss: 0.6820 - val_accuracy: 0.7323\n",
            "Epoch 35/50\n",
            "375/375 [==============================] - 12s 32ms/step - loss: 0.6347 - accuracy: 0.7469 - val_loss: 0.6067 - val_accuracy: 0.7572\n",
            "Epoch 36/50\n",
            "375/375 [==============================] - 12s 31ms/step - loss: 0.6351 - accuracy: 0.7406 - val_loss: 0.5970 - val_accuracy: 0.7652\n",
            "Epoch 37/50\n",
            "375/375 [==============================] - 12s 32ms/step - loss: 0.6319 - accuracy: 0.7409 - val_loss: 0.5797 - val_accuracy: 0.7662\n",
            "Epoch 38/50\n",
            "375/375 [==============================] - 12s 31ms/step - loss: 0.6170 - accuracy: 0.7479 - val_loss: 0.7289 - val_accuracy: 0.7233\n",
            "Epoch 39/50\n",
            "375/375 [==============================] - 12s 31ms/step - loss: 0.6262 - accuracy: 0.7606 - val_loss: 0.5837 - val_accuracy: 0.7842\n",
            "Epoch 40/50\n",
            "375/375 [==============================] - 12s 31ms/step - loss: 0.6085 - accuracy: 0.7546 - val_loss: 0.6254 - val_accuracy: 0.7433\n",
            "Epoch 41/50\n",
            "375/375 [==============================] - 12s 31ms/step - loss: 0.6087 - accuracy: 0.7586 - val_loss: 0.5774 - val_accuracy: 0.7732\n",
            "Epoch 42/50\n",
            "375/375 [==============================] - 12s 31ms/step - loss: 0.6041 - accuracy: 0.7629 - val_loss: 0.5941 - val_accuracy: 0.7652\n",
            "Epoch 43/50\n",
            "375/375 [==============================] - 12s 31ms/step - loss: 0.6147 - accuracy: 0.7549 - val_loss: 0.5866 - val_accuracy: 0.7772\n",
            "Epoch 44/50\n",
            "375/375 [==============================] - 12s 31ms/step - loss: 0.5902 - accuracy: 0.7659 - val_loss: 0.5667 - val_accuracy: 0.7912\n",
            "Epoch 45/50\n",
            "375/375 [==============================] - 12s 31ms/step - loss: 0.6008 - accuracy: 0.7603 - val_loss: 0.6342 - val_accuracy: 0.7572\n",
            "Epoch 46/50\n",
            "375/375 [==============================] - 12s 31ms/step - loss: 0.5858 - accuracy: 0.7760 - val_loss: 0.5636 - val_accuracy: 0.7742\n",
            "Epoch 47/50\n",
            "375/375 [==============================] - 12s 33ms/step - loss: 0.5976 - accuracy: 0.7626 - val_loss: 0.5961 - val_accuracy: 0.7872\n",
            "Epoch 48/50\n",
            "375/375 [==============================] - 12s 31ms/step - loss: 0.5752 - accuracy: 0.7763 - val_loss: 0.5565 - val_accuracy: 0.8042\n",
            "Epoch 49/50\n",
            "375/375 [==============================] - 12s 31ms/step - loss: 0.5740 - accuracy: 0.7826 - val_loss: 0.5497 - val_accuracy: 0.7932\n",
            "Epoch 50/50\n",
            "375/375 [==============================] - 12s 33ms/step - loss: 0.5636 - accuracy: 0.7783 - val_loss: 0.5421 - val_accuracy: 0.8052\n"
          ]
        }
      ]
    },
    {
      "cell_type": "markdown",
      "metadata": {
        "id": "Hnj3VlfHJHoN"
      },
      "source": [
        "Обучение займет примерно час."
      ]
    },
    {
      "cell_type": "markdown",
      "metadata": {
        "id": "yPgBQ19D0Io1"
      },
      "source": [
        "The training will take about an hour."
      ]
    },
    {
      "cell_type": "code",
      "metadata": {
        "id": "fjJGkbZBIS4O"
      },
      "source": [
        "model.save('model.h5')"
      ],
      "execution_count": 11,
      "outputs": []
    },
    {
      "cell_type": "markdown",
      "metadata": {
        "id": "UTg0XT7iI08W"
      },
      "source": [
        "При желании можно загрузить уже обученную модель, чтобы не обучать ее повторно."
      ]
    },
    {
      "cell_type": "markdown",
      "metadata": {
        "id": "B2EuzP8O0NWr"
      },
      "source": [
        "You can load an already trained model so as not to train it again."
      ]
    },
    {
      "cell_type": "code",
      "metadata": {
        "id": "nBQiwI9eIyt4"
      },
      "source": [
        "from tensorflow.keras.models import load_model\n",
        "model = load_model('model.h5')"
      ],
      "execution_count": null,
      "outputs": []
    },
    {
      "cell_type": "code",
      "metadata": {
        "id": "fq41WI9u304V",
        "colab": {
          "base_uri": "https://localhost:8080/"
        },
        "outputId": "44293299-5f55-4315-a0d9-275d118a6a97"
      },
      "source": [
        "# оцениваем сеть\n",
        "# evaluate the network\n",
        "print(\"[INFO] evaluating network...\")\n",
        "predictions = model.predict(x=testX.astype(\"float32\"), batch_size=BS)\n",
        "print(classification_report(testY.argmax(axis=1),\n",
        "\tpredictions.argmax(axis=1), target_names=le.classes_))\n",
        "\n"
      ],
      "execution_count": 12,
      "outputs": [
        {
          "output_type": "stream",
          "name": "stdout",
          "text": [
            "[INFO] evaluating network...\n",
            "              precision    recall  f1-score   support\n",
            "\n",
            "        cats       0.81      0.76      0.79       474\n",
            "        dogs       0.80      0.84      0.82       527\n",
            "\n",
            "    accuracy                           0.81      1001\n",
            "   macro avg       0.81      0.80      0.80      1001\n",
            "weighted avg       0.81      0.81      0.80      1001\n",
            "\n"
          ]
        }
      ]
    },
    {
      "cell_type": "code",
      "metadata": {
        "id": "dIEQ8KDAEmn2",
        "colab": {
          "base_uri": "https://localhost:8080/",
          "height": 299
        },
        "outputId": "ba58c517-c994-4780-e6de-74282d674901"
      },
      "source": [
        "# построим графики функций потерь при обучении и графики точности\n",
        "# plot the training loss and accuracy\n",
        "N = np.arange(0, EPOCHS)\n",
        "plt.style.use(\"ggplot\")\n",
        "plt.figure()\n",
        "plt.plot(N, H.history[\"loss\"], label=\"train_loss\")\n",
        "plt.plot(N, H.history[\"val_loss\"], label=\"val_loss\")\n",
        "plt.plot(N, H.history[\"accuracy\"], label=\"train_acc\")\n",
        "plt.plot(N, H.history[\"val_accuracy\"], label=\"val_acc\")\n",
        "plt.title(\"Training Loss and Accuracy on Dataset\")\n",
        "plt.xlabel(\"Epoch #\")\n",
        "plt.ylabel(\"Loss/Accuracy\")\n",
        "plt.legend(loc=\"lower left\")\n",
        "plt.savefig(args[\"plot\"])"
      ],
      "execution_count": 13,
      "outputs": [
        {
          "output_type": "display_data",
          "data": {
            "image/png": "[encoded data removed]",
            "text/plain": [
              "<Figure size 432x288 with 1 Axes>"
            ]
          },
          "metadata": {}
        }
      ]
    }
  ]
}